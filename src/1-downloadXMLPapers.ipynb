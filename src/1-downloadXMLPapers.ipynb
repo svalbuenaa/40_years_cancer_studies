{
 "cells": [
  {
   "cell_type": "code",
   "execution_count": 3,
   "id": "ac9090b9-3841-442d-80ce-e108bb14419a",
   "metadata": {},
   "outputs": [],
   "source": [
    "import requests\n",
    "from bs4 import BeautifulSoup\n",
    "import os"
   ]
  },
  {
   "cell_type": "code",
   "execution_count": 6,
   "id": "c55c98b6-ce15-4d7c-905d-29f900fb3c6b",
   "metadata": {},
   "outputs": [
    {
     "name": "stdin",
     "output_type": "stream",
     "text": [
      " C:\\Users\\svalb\\OneDrive\\Escritorio\\Data_40_years_cancer_studies\\pmids_from_20250901_until_20251001.txt\n"
     ]
    }
   ],
   "source": [
    "# File with article identificators (PMID numbers) to download\n",
    "PMID_input = input().strip()"
   ]
  },
  {
   "cell_type": "code",
   "execution_count": 14,
   "id": "da971254-92e9-4b2e-a277-69a2e75c06d0",
   "metadata": {},
   "outputs": [
    {
     "name": "stdin",
     "output_type": "stream",
     "text": [
      " C:\\Users\\svalb\\OneDrive\\Escritorio\\Data_40_years_cancer_studies\\XMLs_update_2025-09\\\n"
     ]
    }
   ],
   "source": [
    "# Directory to save articles' XMLs\n",
    "XML_output = input().strip()\n",
    "\n",
    "if os.path.exists(XML_output) == False:\n",
    "    print(f\"Creating directory: {XML_output}\")\n",
    "    os.mkdir(XML_output)"
   ]
  },
  {
   "cell_type": "code",
   "execution_count": 10,
   "id": "9568f29a-d33a-4cfc-9620-e8b9d86637dc",
   "metadata": {},
   "outputs": [
    {
     "name": "stdout",
     "output_type": "stream",
     "text": [
      "Number of new articles: 33283\n"
     ]
    }
   ],
   "source": [
    "# Load PMIDs as elements of a table\n",
    "with open(PMID_input) as file:\n",
    "    articles_ids = [line.rstrip() for line in file]\n",
    "\n",
    "n_articles = len(articles_ids)\n",
    "print(f\"Number of new articles: {n_articles}\")"
   ]
  },
  {
   "cell_type": "code",
   "execution_count": 12,
   "id": "920f7020-9fa8-4dcf-acbf-a8af2071898d",
   "metadata": {},
   "outputs": [],
   "source": [
    "# Articles will be downloaded in sets of 200\n",
    "# Sometimes NCBI blocks downloads while the script is running\n",
    "# A variable is used to keep the last successfully downloaded PMID set to restart from there if needed\n",
    "i = 0"
   ]
  },
  {
   "cell_type": "code",
   "execution_count": 13,
   "id": "f438c047-ad5d-4150-9093-e8c2838699c6",
   "metadata": {
    "scrolled": true
   },
   "outputs": [
    {
     "name": "stdout",
     "output_type": "stream",
     "text": [
      "0\n",
      "200\n",
      "400\n",
      "600\n",
      "800\n",
      "1000\n",
      "1200\n",
      "1400\n",
      "1600\n",
      "1800\n",
      "2000\n",
      "2200\n",
      "2400\n",
      "2600\n",
      "2800\n",
      "3000\n",
      "3200\n",
      "3400\n",
      "3600\n",
      "3800\n",
      "4000\n",
      "4200\n",
      "4400\n",
      "4600\n",
      "4800\n",
      "5000\n",
      "5200\n",
      "5400\n",
      "5600\n",
      "5800\n",
      "6000\n",
      "6200\n",
      "6400\n",
      "6600\n",
      "6800\n",
      "7000\n",
      "7200\n",
      "7400\n",
      "7600\n",
      "7800\n",
      "8000\n",
      "8200\n",
      "8400\n",
      "8600\n",
      "8800\n",
      "9000\n",
      "9200\n",
      "9400\n",
      "9600\n",
      "9800\n",
      "10000\n",
      "10200\n",
      "10400\n",
      "10600\n",
      "10800\n",
      "11000\n",
      "11200\n",
      "11400\n",
      "11600\n",
      "11800\n",
      "12000\n",
      "12200\n",
      "12400\n",
      "12600\n",
      "12800\n",
      "13000\n",
      "13200\n",
      "13400\n",
      "13600\n",
      "13800\n",
      "14000\n",
      "14200\n",
      "14400\n",
      "14600\n",
      "14800\n",
      "15000\n",
      "15200\n",
      "15400\n",
      "15600\n",
      "15800\n",
      "16000\n",
      "16200\n",
      "16400\n",
      "16600\n",
      "16800\n",
      "17000\n",
      "17200\n",
      "17400\n",
      "17600\n",
      "17800\n",
      "18000\n",
      "18200\n",
      "18400\n",
      "18600\n",
      "18800\n",
      "19000\n",
      "19200\n",
      "19400\n",
      "19600\n",
      "19800\n",
      "20000\n",
      "20200\n",
      "20400\n",
      "20600\n",
      "20800\n",
      "21000\n",
      "21200\n",
      "21400\n",
      "21600\n",
      "21800\n",
      "22000\n",
      "22200\n",
      "22400\n",
      "22600\n",
      "22800\n",
      "23000\n",
      "23200\n",
      "23400\n",
      "23600\n",
      "23800\n",
      "24000\n",
      "24200\n",
      "24400\n",
      "24600\n",
      "24800\n",
      "25000\n",
      "25200\n",
      "25400\n",
      "25600\n",
      "25800\n",
      "26000\n",
      "26200\n",
      "26400\n",
      "26600\n",
      "26800\n",
      "27000\n",
      "27200\n",
      "27400\n",
      "27600\n",
      "27800\n",
      "28000\n",
      "28200\n",
      "28400\n",
      "28600\n",
      "28800\n",
      "29000\n",
      "29200\n",
      "29400\n",
      "29600\n",
      "29800\n",
      "30000\n",
      "30200\n",
      "30400\n",
      "30600\n",
      "30800\n",
      "31000\n",
      "31200\n",
      "31400\n",
      "31600\n",
      "31800\n",
      "32000\n",
      "32200\n",
      "32400\n",
      "32600\n",
      "32800\n",
      "33000\n",
      "33200\n"
     ]
    }
   ],
   "source": [
    "while i < n_articles:\n",
    "    if n_articles - i >= 200:\n",
    "        response = requests.get(\"https://eutils.ncbi.nlm.nih.gov/entrez/eutils/efetch.fcgi?db=pubmed&id=\" + str(articles_ids[i:i+200]))\n",
    "        print(i)\n",
    "        soup = BeautifulSoup(response.text, \"xml\")\n",
    "        f = open(XML_output+\"\\\\\"+str(i)+\".txt\", \"w\", encoding=\"utf-8\")\n",
    "        f.write(soup.prettify())\n",
    "        f.close()\n",
    "        i+=200\n",
    "    else:\n",
    "        response = requests.get(\n",
    "            \"https://eutils.ncbi.nlm.nih.gov/entrez/eutils/efetch.fcgi?db=pubmed&id=\" + str(articles_ids[i:]))\n",
    "        print(i)\n",
    "        soup = BeautifulSoup(response.text, \"xml\")\n",
    "        f = open(XML_output+\"\\\\\"+str(i) + \".txt\", \"w\", encoding=\"utf-8\")\n",
    "        f.write(soup.prettify())\n",
    "        f.close()\n",
    "        i+=200"
   ]
  },
  {
   "cell_type": "code",
   "execution_count": null,
   "id": "81eb4f63-766d-4140-b591-ee6dec1a6062",
   "metadata": {},
   "outputs": [],
   "source": []
  }
 ],
 "metadata": {
  "kernelspec": {
   "display_name": "Python 3 (ipykernel)",
   "language": "python",
   "name": "python3"
  },
  "language_info": {
   "codemirror_mode": {
    "name": "ipython",
    "version": 3
   },
   "file_extension": ".py",
   "mimetype": "text/x-python",
   "name": "python",
   "nbconvert_exporter": "python",
   "pygments_lexer": "ipython3",
   "version": "3.13.2"
  }
 },
 "nbformat": 4,
 "nbformat_minor": 5
}
