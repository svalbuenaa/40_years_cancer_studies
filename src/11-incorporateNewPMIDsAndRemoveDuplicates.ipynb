{
 "cells": [
  {
   "cell_type": "code",
   "execution_count": 47,
   "id": "5264ae44-962e-4de5-8d68-b13cf3b99fd6",
   "metadata": {},
   "outputs": [],
   "source": [
    "import os\n",
    "import pandas as pd\n",
    "from tqdm import tqdm"
   ]
  },
  {
   "cell_type": "code",
   "execution_count": 48,
   "id": "91bac403-6c22-429f-a616-87aeff1e748f",
   "metadata": {},
   "outputs": [
    {
     "name": "stdin",
     "output_type": "stream",
     "text": [
      " C:\\Users\\svalb\\OneDrive\\Escritorio\\Data_40_years_cancer_studies\\parsedXMLs_base\\\n"
     ]
    }
   ],
   "source": [
    "# CSVs from previous downloads\n",
    "DF_input_old = input().strip()"
   ]
  },
  {
   "cell_type": "code",
   "execution_count": 49,
   "id": "6f30edaa-d749-4d81-a136-d50b8bdf0ed7",
   "metadata": {},
   "outputs": [
    {
     "name": "stdin",
     "output_type": "stream",
     "text": [
      " C:\\Users\\svalb\\OneDrive\\Escritorio\\Data_40_years_cancer_studies\\parsedXMLs_first_update_base\\\n"
     ]
    }
   ],
   "source": [
    "# CSVs from new download\n",
    "DF_input_new = input().strip()"
   ]
  },
  {
   "cell_type": "code",
   "execution_count": 50,
   "id": "0c20e25d-266b-4bc3-9172-55239245f130",
   "metadata": {},
   "outputs": [
    {
     "name": "stdin",
     "output_type": "stream",
     "text": [
      " C:\\Users\\svalb\\OneDrive\\Escritorio\\Data_40_years_cancer_studies\\parsedXMLs_first_predate_base\\\n"
     ]
    }
   ],
   "source": [
    "# CSVs from new download\n",
    "DF_input_predate = input().strip()"
   ]
  },
  {
   "cell_type": "code",
   "execution_count": 52,
   "id": "4535852c-c52c-4d40-a410-096058004a2c",
   "metadata": {},
   "outputs": [
    {
     "name": "stdin",
     "output_type": "stream",
     "text": [
      " C:\\Users\\svalb\\OneDrive\\Escritorio\\Data_40_years_cancer_studies\\parsedXMLs_combined_until_Sept2025_base\\\n"
     ]
    }
   ],
   "source": [
    "# New directory for all deduplicated csvs for ingestion and aggregates calculation\n",
    "DF_output_common = input().strip()\n",
    "\n",
    "if len(os.listdir(DF_output_common)) > 0:\n",
    "    raise OSError(\"OUTPUT DIR IS NOT EMPTY, EMPTY IT TO PREVENT ERRORS IN DATA AGGREGATION\")"
   ]
  },
  {
   "cell_type": "code",
   "execution_count": 53,
   "id": "e556635c-8bdf-42ef-8058-9fc335ddb07d",
   "metadata": {},
   "outputs": [
    {
     "data": {
      "text/plain": [
       "['parsedX_100000.csv',\n",
       " 'parsedX_1000000.csv',\n",
       " 'parsedX_1100000.csv',\n",
       " 'parsedX_1200000.csv',\n",
       " 'parsedX_1300000.csv',\n",
       " 'parsedX_1400000.csv',\n",
       " 'parsedX_1500000.csv',\n",
       " 'parsedX_1600000.csv',\n",
       " 'parsedX_1700000.csv',\n",
       " 'parsedX_1800000.csv',\n",
       " 'parsedX_1900000.csv',\n",
       " 'parsedX_200000.csv',\n",
       " 'parsedX_2000000.csv',\n",
       " 'parsedX_2100000.csv',\n",
       " 'parsedX_2200000.csv',\n",
       " 'parsedX_2300000.csv',\n",
       " 'parsedX_2400000.csv',\n",
       " 'parsedX_2500000.csv',\n",
       " 'parsedX_2600000.csv',\n",
       " 'parsedX_2700000.csv',\n",
       " 'parsedX_2800000.csv',\n",
       " 'parsedX_2900000.csv',\n",
       " 'parsedX_300000.csv',\n",
       " 'parsedX_3000000.csv',\n",
       " 'parsedX_3100000.csv',\n",
       " 'parsedX_3200000.csv',\n",
       " 'parsedX_3300000.csv',\n",
       " 'parsedX_3400000.csv',\n",
       " 'parsedX_3500000.csv',\n",
       " 'parsedX_3600000.csv',\n",
       " 'parsedX_3700000.csv',\n",
       " 'parsedX_3800000.csv',\n",
       " 'parsedX_3900000.csv',\n",
       " 'parsedX_400000.csv',\n",
       " 'parsedX_4000000.csv',\n",
       " 'parsedX_4100000.csv',\n",
       " 'parsedX_4200000.csv',\n",
       " 'parsedX_4300000.csv',\n",
       " 'parsedX_4400000.csv',\n",
       " 'parsedX_4454000.csv',\n",
       " 'parsedX_500000.csv',\n",
       " 'parsedX_600000.csv',\n",
       " 'parsedX_700000.csv',\n",
       " 'parsedX_800000.csv',\n",
       " 'parsedX_900000.csv']"
      ]
     },
     "execution_count": 53,
     "metadata": {},
     "output_type": "execute_result"
    }
   ],
   "source": [
    "# Import file names of csvs containint previous downloads' articles' data \n",
    "list_dfs_papers_old = []\n",
    "\n",
    "for file in os.listdir(DF_input_old):\n",
    "    if file[-4:] == \".csv\":\n",
    "        list_dfs_papers_old.append(file)\n",
    "\n",
    "list_dfs_papers_old"
   ]
  },
  {
   "cell_type": "code",
   "execution_count": 54,
   "id": "896fb92e-fe82-43f7-89ad-3555eadfd70a",
   "metadata": {},
   "outputs": [
    {
     "data": {
      "text/plain": [
       "['parsedXMLs_first_upd_100000.csv',\n",
       " 'parsedXMLs_first_upd_200000.csv',\n",
       " 'parsedXMLs_first_upd_300000.csv',\n",
       " 'parsedXMLs_first_upd_340800.csv']"
      ]
     },
     "execution_count": 54,
     "metadata": {},
     "output_type": "execute_result"
    }
   ],
   "source": [
    "# Import file names of csvs containint new downloads' articles' data \n",
    "list_dfs_papers_new = []\n",
    "\n",
    "for file in os.listdir(DF_input_new):\n",
    "    if file[-4:] == \".csv\":\n",
    "        list_dfs_papers_new.append(file)\n",
    "\n",
    "list_dfs_papers_new"
   ]
  },
  {
   "cell_type": "code",
   "execution_count": 55,
   "id": "0a6374ed-47b4-4022-83be-ee68bad16a23",
   "metadata": {},
   "outputs": [
    {
     "data": {
      "text/plain": [
       "['parsedXMLs_first_pred_26400.csv']"
      ]
     },
     "execution_count": 55,
     "metadata": {},
     "output_type": "execute_result"
    }
   ],
   "source": [
    "# Import file names of csvs containint new downloads' articles' data \n",
    "list_dfs_papers_predate = []\n",
    "\n",
    "for file in os.listdir(DF_input_predate):\n",
    "    if file[-4:] == \".csv\":\n",
    "        list_dfs_papers_predate.append(file)\n",
    "\n",
    "list_dfs_papers_predate"
   ]
  },
  {
   "cell_type": "code",
   "execution_count": null,
   "id": "693e4e11-50f9-4f02-9e3d-3c7a448640cd",
   "metadata": {
    "scrolled": true
   },
   "outputs": [
    {
     "name": "stderr",
     "output_type": "stream",
     "text": [
      "  0%|                                                                                           | 0/45 [00:00<?, ?it/s]"
     ]
    },
    {
     "name": "stdout",
     "output_type": "stream",
     "text": [
      "Parsing csv: parsedX_100000.csv\n"
     ]
    },
    {
     "name": "stderr",
     "output_type": "stream",
     "text": [
      "  2%|█▊                                                                                 | 1/45 [00:03<02:50,  3.88s/it]"
     ]
    },
    {
     "name": "stdout",
     "output_type": "stream",
     "text": [
      "Parsing csv: parsedX_1000000.csv\n"
     ]
    },
    {
     "name": "stderr",
     "output_type": "stream",
     "text": [
      "  4%|███▋                                                                               | 2/45 [00:07<02:36,  3.65s/it]"
     ]
    },
    {
     "name": "stdout",
     "output_type": "stream",
     "text": [
      "Parsing csv: parsedX_1100000.csv\n"
     ]
    },
    {
     "name": "stderr",
     "output_type": "stream",
     "text": [
      "  7%|█████▌                                                                             | 3/45 [00:10<02:29,  3.56s/it]"
     ]
    },
    {
     "name": "stdout",
     "output_type": "stream",
     "text": [
      "Parsing csv: parsedX_1200000.csv\n"
     ]
    },
    {
     "name": "stderr",
     "output_type": "stream",
     "text": [
      "  9%|███████▍                                                                           | 4/45 [00:14<02:23,  3.50s/it]"
     ]
    },
    {
     "name": "stdout",
     "output_type": "stream",
     "text": [
      "Parsing csv: parsedX_1300000.csv\n"
     ]
    },
    {
     "name": "stderr",
     "output_type": "stream",
     "text": [
      " 11%|█████████▏                                                                         | 5/45 [00:17<02:23,  3.59s/it]"
     ]
    },
    {
     "name": "stdout",
     "output_type": "stream",
     "text": [
      "Parsing csv: parsedX_1400000.csv\n"
     ]
    },
    {
     "name": "stderr",
     "output_type": "stream",
     "text": [
      "C:\\Users\\svalb\\AppData\\Local\\Temp\\ipykernel_18048\\2395752997.py:6: DtypeWarning: Columns (12) have mixed types. Specify dtype option on import or set low_memory=False.\n",
      "  df = pd.read_csv(DF_input_old + csv)\n",
      " 13%|███████████                                                                        | 6/45 [00:21<02:21,  3.63s/it]"
     ]
    },
    {
     "name": "stdout",
     "output_type": "stream",
     "text": [
      "Parsing csv: parsedX_1500000.csv\n"
     ]
    },
    {
     "name": "stderr",
     "output_type": "stream",
     "text": [
      "C:\\Users\\svalb\\AppData\\Local\\Temp\\ipykernel_18048\\2395752997.py:6: DtypeWarning: Columns (12) have mixed types. Specify dtype option on import or set low_memory=False.\n",
      "  df = pd.read_csv(DF_input_old + csv)\n",
      " 16%|████████████▉                                                                      | 7/45 [00:25<02:18,  3.65s/it]"
     ]
    },
    {
     "name": "stdout",
     "output_type": "stream",
     "text": [
      "Parsing csv: parsedX_1600000.csv\n"
     ]
    },
    {
     "name": "stderr",
     "output_type": "stream",
     "text": [
      "C:\\Users\\svalb\\AppData\\Local\\Temp\\ipykernel_18048\\2395752997.py:6: DtypeWarning: Columns (12) have mixed types. Specify dtype option on import or set low_memory=False.\n",
      "  df = pd.read_csv(DF_input_old + csv)\n",
      " 18%|██████████████▊                                                                    | 8/45 [00:29<02:15,  3.67s/it]"
     ]
    },
    {
     "name": "stdout",
     "output_type": "stream",
     "text": [
      "Parsing csv: parsedX_1700000.csv\n"
     ]
    },
    {
     "name": "stderr",
     "output_type": "stream",
     "text": [
      " 20%|████████████████▌                                                                  | 9/45 [00:32<02:11,  3.64s/it]"
     ]
    },
    {
     "name": "stdout",
     "output_type": "stream",
     "text": [
      "Parsing csv: parsedX_1800000.csv\n"
     ]
    },
    {
     "name": "stderr",
     "output_type": "stream",
     "text": [
      "C:\\Users\\svalb\\AppData\\Local\\Temp\\ipykernel_18048\\2395752997.py:6: DtypeWarning: Columns (13,14,15) have mixed types. Specify dtype option on import or set low_memory=False.\n",
      "  df = pd.read_csv(DF_input_old + csv)\n",
      " 22%|██████████████████▏                                                               | 10/45 [00:36<02:10,  3.72s/it]"
     ]
    },
    {
     "name": "stdout",
     "output_type": "stream",
     "text": [
      "Parsing csv: parsedX_1900000.csv\n"
     ]
    },
    {
     "name": "stderr",
     "output_type": "stream",
     "text": [
      "C:\\Users\\svalb\\AppData\\Local\\Temp\\ipykernel_18048\\2395752997.py:6: DtypeWarning: Columns (13,14,15) have mixed types. Specify dtype option on import or set low_memory=False.\n",
      "  df = pd.read_csv(DF_input_old + csv)\n",
      " 24%|████████████████████                                                              | 11/45 [00:40<02:08,  3.78s/it]"
     ]
    },
    {
     "name": "stdout",
     "output_type": "stream",
     "text": [
      "Parsing csv: parsedX_200000.csv\n"
     ]
    },
    {
     "name": "stderr",
     "output_type": "stream",
     "text": [
      " 27%|█████████████████████▊                                                            | 12/45 [00:43<01:54,  3.48s/it]"
     ]
    },
    {
     "name": "stdout",
     "output_type": "stream",
     "text": [
      "Parsing csv: parsedX_2000000.csv\n"
     ]
    },
    {
     "name": "stderr",
     "output_type": "stream",
     "text": [
      "C:\\Users\\svalb\\AppData\\Local\\Temp\\ipykernel_18048\\2395752997.py:6: DtypeWarning: Columns (13,14,15) have mixed types. Specify dtype option on import or set low_memory=False.\n",
      "  df = pd.read_csv(DF_input_old + csv)\n",
      " 29%|███████████████████████▋                                                          | 13/45 [00:47<01:55,  3.60s/it]"
     ]
    },
    {
     "name": "stdout",
     "output_type": "stream",
     "text": [
      "Parsing csv: parsedX_2100000.csv\n"
     ]
    },
    {
     "name": "stderr",
     "output_type": "stream",
     "text": [
      "C:\\Users\\svalb\\AppData\\Local\\Temp\\ipykernel_18048\\2395752997.py:6: DtypeWarning: Columns (13,14,15) have mixed types. Specify dtype option on import or set low_memory=False.\n",
      "  df = pd.read_csv(DF_input_old + csv)\n",
      " 31%|█████████████████████████▌                                                        | 14/45 [00:51<01:55,  3.72s/it]"
     ]
    },
    {
     "name": "stdout",
     "output_type": "stream",
     "text": [
      "Parsing csv: parsedX_2200000.csv\n"
     ]
    },
    {
     "name": "stderr",
     "output_type": "stream",
     "text": [
      "C:\\Users\\svalb\\AppData\\Local\\Temp\\ipykernel_18048\\2395752997.py:6: DtypeWarning: Columns (13,14,15) have mixed types. Specify dtype option on import or set low_memory=False.\n",
      "  df = pd.read_csv(DF_input_old + csv)\n",
      " 33%|███████████████████████████▎                                                      | 15/45 [00:55<01:54,  3.82s/it]"
     ]
    },
    {
     "name": "stdout",
     "output_type": "stream",
     "text": [
      "Parsing csv: parsedX_2300000.csv\n"
     ]
    },
    {
     "name": "stderr",
     "output_type": "stream",
     "text": [
      "C:\\Users\\svalb\\AppData\\Local\\Temp\\ipykernel_18048\\2395752997.py:6: DtypeWarning: Columns (13,14,15) have mixed types. Specify dtype option on import or set low_memory=False.\n",
      "  df = pd.read_csv(DF_input_old + csv)\n",
      " 36%|█████████████████████████████▏                                                    | 16/45 [00:59<01:57,  4.06s/it]"
     ]
    },
    {
     "name": "stdout",
     "output_type": "stream",
     "text": [
      "Parsing csv: parsedX_2400000.csv\n"
     ]
    },
    {
     "name": "stderr",
     "output_type": "stream",
     "text": [
      "C:\\Users\\svalb\\AppData\\Local\\Temp\\ipykernel_18048\\2395752997.py:6: DtypeWarning: Columns (13,14,15) have mixed types. Specify dtype option on import or set low_memory=False.\n",
      "  df = pd.read_csv(DF_input_old + csv)\n",
      " 38%|██████████████████████████████▉                                                   | 17/45 [01:04<01:58,  4.24s/it]"
     ]
    },
    {
     "name": "stdout",
     "output_type": "stream",
     "text": [
      "Parsing csv: parsedX_2500000.csv\n"
     ]
    },
    {
     "name": "stderr",
     "output_type": "stream",
     "text": [
      "C:\\Users\\svalb\\AppData\\Local\\Temp\\ipykernel_18048\\2395752997.py:6: DtypeWarning: Columns (13,14,15) have mixed types. Specify dtype option on import or set low_memory=False.\n",
      "  df = pd.read_csv(DF_input_old + csv)\n",
      " 40%|████████████████████████████████▊                                                 | 18/45 [01:09<01:59,  4.44s/it]"
     ]
    },
    {
     "name": "stdout",
     "output_type": "stream",
     "text": [
      "Parsing csv: parsedX_2600000.csv\n"
     ]
    },
    {
     "name": "stderr",
     "output_type": "stream",
     "text": [
      "C:\\Users\\svalb\\AppData\\Local\\Temp\\ipykernel_18048\\2395752997.py:6: DtypeWarning: Columns (13,14,15) have mixed types. Specify dtype option on import or set low_memory=False.\n",
      "  df = pd.read_csv(DF_input_old + csv)\n",
      " 42%|██████████████████████████████████▌                                               | 19/45 [01:14<02:03,  4.73s/it]"
     ]
    },
    {
     "name": "stdout",
     "output_type": "stream",
     "text": [
      "Parsing csv: parsedX_2700000.csv\n"
     ]
    },
    {
     "name": "stderr",
     "output_type": "stream",
     "text": [
      "C:\\Users\\svalb\\AppData\\Local\\Temp\\ipykernel_18048\\2395752997.py:6: DtypeWarning: Columns (13,14,15) have mixed types. Specify dtype option on import or set low_memory=False.\n",
      "  df = pd.read_csv(DF_input_old + csv)\n",
      " 44%|████████████████████████████████████▍                                             | 20/45 [01:20<02:04,  4.96s/it]"
     ]
    },
    {
     "name": "stdout",
     "output_type": "stream",
     "text": [
      "Parsing csv: parsedX_2800000.csv\n"
     ]
    },
    {
     "name": "stderr",
     "output_type": "stream",
     "text": [
      "C:\\Users\\svalb\\AppData\\Local\\Temp\\ipykernel_18048\\2395752997.py:6: DtypeWarning: Columns (13,14,15) have mixed types. Specify dtype option on import or set low_memory=False.\n",
      "  df = pd.read_csv(DF_input_old + csv)\n",
      " 47%|██████████████████████████████████████▎                                           | 21/45 [01:25<02:00,  5.03s/it]"
     ]
    },
    {
     "name": "stdout",
     "output_type": "stream",
     "text": [
      "Parsing csv: parsedX_2900000.csv\n"
     ]
    }
   ],
   "source": [
    "# Extract PMIDs from previous downloads\n",
    "list_old_PMIDs = []\n",
    "\n",
    "for csv in tqdm(list_dfs_papers_old):\n",
    "    print(f\"Parsing csv: {csv}\")\n",
    "    df = pd.read_csv(DF_input_old + csv)\n",
    "    list_old_PMIDs = list_old_PMIDs + df[\"PMID\"].to_list()\n",
    "    del df"
   ]
  },
  {
   "cell_type": "code",
   "execution_count": null,
   "id": "67baacd1-e4ae-4b49-bab1-4b8a48404f30",
   "metadata": {},
   "outputs": [],
   "source": [
    "# Extract PMIDs from current downloads\n",
    "list_new_PMIDs = []\n",
    "\n",
    "for csv in tqdm(list_dfs_papers_new):\n",
    "    print(f\"Parsing csv: {csv}\")\n",
    "    df = pd.read_csv(DF_input_new + csv)\n",
    "    list_new_PMIDs = list_new_PMIDs + df[\"PMID\"].to_list()\n",
    "    del df"
   ]
  },
  {
   "cell_type": "code",
   "execution_count": null,
   "id": "6df96eba-4d08-4720-849d-41fe7dd7b9b0",
   "metadata": {},
   "outputs": [],
   "source": [
    "# Extract PMIDs from current downloads (predate)\n",
    "list_pred_PMIDs = []\n",
    "\n",
    "for csv in tqdm(list_dfs_papers_predate):\n",
    "    print(f\"Parsing csv: {csv}\")\n",
    "    df = pd.read_csv(DF_input_predate + csv)\n",
    "    list_pred_PMIDs = list_pred_PMIDs + df[\"PMID\"].to_list()\n",
    "    del df"
   ]
  },
  {
   "cell_type": "code",
   "execution_count": 35,
   "id": "6c8c7b55-2e19-4330-8f73-a28ffefe91e7",
   "metadata": {},
   "outputs": [
    {
     "data": {
      "text/plain": [
       "4452825"
      ]
     },
     "execution_count": 35,
     "metadata": {},
     "output_type": "execute_result"
    }
   ],
   "source": [
    "# Number of old PMIDs\n",
    "len(list_old_PMIDs)"
   ]
  },
  {
   "cell_type": "code",
   "execution_count": 36,
   "id": "fe95511e-8ac3-4a6e-9d8f-4e2f0ef4ad53",
   "metadata": {},
   "outputs": [
    {
     "name": "stdout",
     "output_type": "stream",
     "text": [
      "[]\n"
     ]
    }
   ],
   "source": [
    "# Identify duplicates in old PMIDs\n",
    "seen_old = set()\n",
    "\n",
    "# List to store duplicates found in the input list\n",
    "duplicates_old_PMIDs = []\n",
    "\n",
    "# Iterate over each element in the old PMIDs list\n",
    "for i in list_old_PMIDs:\n",
    "    if i in seen_old:\n",
    "        duplicates_old_PMIDs.append(i)\n",
    "    else:\n",
    "        seen_old.add(i)\n",
    "\n",
    "print(duplicates_old_PMIDs)"
   ]
  },
  {
   "cell_type": "markdown",
   "id": "52115307-76f1-4916-9d42-f743f97a688b",
   "metadata": {},
   "source": [
    "There are no duplicates in the old PMIDs list"
   ]
  },
  {
   "cell_type": "code",
   "execution_count": 37,
   "id": "8af5ca81-0ee6-4771-8d49-538825dfcdc5",
   "metadata": {},
   "outputs": [
    {
     "data": {
      "text/plain": [
       "340789"
      ]
     },
     "execution_count": 37,
     "metadata": {},
     "output_type": "execute_result"
    }
   ],
   "source": [
    "# Number of new PMIDs\n",
    "len(list_new_PMIDs)"
   ]
  },
  {
   "cell_type": "code",
   "execution_count": 38,
   "id": "bdd692cd-29cc-49eb-b945-4109791ce93d",
   "metadata": {},
   "outputs": [
    {
     "name": "stdout",
     "output_type": "stream",
     "text": [
      "[]\n"
     ]
    }
   ],
   "source": [
    "# Identify duplicates in new PMIDs\n",
    "seen_new = set()\n",
    "\n",
    "# List to store duplicates found in the input list\n",
    "duplicates_new_PMIDs = []\n",
    "\n",
    "# Iterate over each element in the old PMIDs list\n",
    "for i in list_old_PMIDs:\n",
    "    if i in seen_new:\n",
    "        duplicates_new_PMIDs.append(i)\n",
    "    else:\n",
    "        seen_new.add(i)\n",
    "\n",
    "print(duplicates_new_PMIDs)"
   ]
  },
  {
   "cell_type": "markdown",
   "id": "01de9843-b261-4519-b9d3-b3033a87927b",
   "metadata": {},
   "source": [
    "There are no duplicates in the new PMIDs list"
   ]
  },
  {
   "cell_type": "code",
   "execution_count": 39,
   "id": "88065beb-1791-46e4-b615-33eceabdc433",
   "metadata": {},
   "outputs": [
    {
     "data": {
      "text/plain": [
       "26551"
      ]
     },
     "execution_count": 39,
     "metadata": {},
     "output_type": "execute_result"
    }
   ],
   "source": [
    "# Number of new PMIDs (predate)\n",
    "len(list_pred_PMIDs)"
   ]
  },
  {
   "cell_type": "code",
   "execution_count": 40,
   "id": "98008c33-99c9-40bc-bd63-c073aa3c531c",
   "metadata": {},
   "outputs": [
    {
     "name": "stdout",
     "output_type": "stream",
     "text": [
      "[]\n"
     ]
    }
   ],
   "source": [
    "# Identify duplicates in new PMIDs (predate)\n",
    "seen_pred = set()\n",
    "\n",
    "# List to store duplicates found in the input list\n",
    "duplicates_pred_PMIDs = []\n",
    "\n",
    "# Iterate over each element in the old PMIDs list\n",
    "for i in list_old_PMIDs:\n",
    "    if i in seen_pred:\n",
    "        duplicates_pred_PMIDs.append(i)\n",
    "    else:\n",
    "        seen_pred.add(i)\n",
    "\n",
    "print(duplicates_pred_PMIDs)"
   ]
  },
  {
   "cell_type": "markdown",
   "id": "9f000da1-ae15-4b05-bf39-37be51c6d901",
   "metadata": {},
   "source": [
    "There are no duplicates in the new PMIDs list (predate)"
   ]
  },
  {
   "cell_type": "code",
   "execution_count": 41,
   "id": "909e0f1e-45bc-4a43-97a9-ef6f9ac04d47",
   "metadata": {},
   "outputs": [
    {
     "data": {
      "text/plain": [
       "61102"
      ]
     },
     "execution_count": 41,
     "metadata": {},
     "output_type": "execute_result"
    }
   ],
   "source": [
    "# Number of the new PMIDs which were already in the old dataset\n",
    "len(set(list_old_PMIDs).intersection(set(list_new_PMIDs)))"
   ]
  },
  {
   "cell_type": "code",
   "execution_count": 42,
   "id": "9b18d8ba-aecc-4e4f-aea8-a6d01dcaf85c",
   "metadata": {},
   "outputs": [
    {
     "data": {
      "text/plain": [
       "2593"
      ]
     },
     "execution_count": 42,
     "metadata": {},
     "output_type": "execute_result"
    }
   ],
   "source": [
    "# Number of the new PMIDs (predate) which were already in the old dataset\n",
    "len(set(list_old_PMIDs).intersection(set(list_pred_PMIDs)))"
   ]
  },
  {
   "cell_type": "code",
   "execution_count": 43,
   "id": "3db672c6-ecb8-42d2-8d40-3120c0ed5540",
   "metadata": {},
   "outputs": [
    {
     "data": {
      "text/plain": [
       "0"
      ]
     },
     "execution_count": 43,
     "metadata": {},
     "output_type": "execute_result"
    }
   ],
   "source": [
    "# Number of the new PMIDs (predate) which are also in the new dataset\n",
    "len(set(list_new_PMIDs).intersection(set(list_pred_PMIDs)))"
   ]
  },
  {
   "cell_type": "code",
   "execution_count": 44,
   "id": "89540e6c-2017-4957-b9fb-b197e3a9b986",
   "metadata": {
    "scrolled": true
   },
   "outputs": [
    {
     "data": {
      "text/plain": [
       "[38928392,\n",
       " 38797321,\n",
       " 38928396,\n",
       " 39845902,\n",
       " 38797327,\n",
       " 38928399,\n",
       " 38797329,\n",
       " 38928407,\n",
       " 38928409,\n",
       " 38404121,\n",
       " 38928412,\n",
       " 38928414,\n",
       " 38404127,\n",
       " 39845922,\n",
       " 38928418,\n",
       " 38404130,\n",
       " 38797351,\n",
       " 38928425,\n",
       " 38928426,\n",
       " 38273065,\n",
       " 38797357,\n",
       " 38928430,\n",
       " 38404145,\n",
       " 38797363,\n",
       " 38797364,\n",
       " 38928435,\n",
       " 38928438,\n",
       " 38928439,\n",
       " 39845944,\n",
       " 39845945,\n",
       " 38666297,\n",
       " 39845948,\n",
       " 38928444,\n",
       " 38928445,\n",
       " 39845952,\n",
       " 38928449,\n",
       " 38928450,\n",
       " 38404162,\n",
       " 38797380,\n",
       " 39845957,\n",
       " 38928452,\n",
       " 39845959,\n",
       " 38928454,\n",
       " 38928456,\n",
       " 39845962,\n",
       " 39845963,\n",
       " 38928458,\n",
       " 38666314,\n",
       " 39845966,\n",
       " 39845967,\n",
       " 39845968,\n",
       " 38928462,\n",
       " 39845970,\n",
       " 39845971,\n",
       " 38928466,\n",
       " 39845973,\n",
       " 38142035,\n",
       " 38404182,\n",
       " 39845976,\n",
       " 39845977,\n",
       " 38928474,\n",
       " 38404184,\n",
       " 38666330,\n",
       " 38928478,\n",
       " 39190622,\n",
       " 38797408,\n",
       " 38666334,\n",
       " 38666335,\n",
       " 38666336,\n",
       " 38928484,\n",
       " 38666338,\n",
       " 38928487,\n",
       " 38273127,\n",
       " 38797421,\n",
       " 38928493,\n",
       " 38928494,\n",
       " 38928496,\n",
       " 39583853,\n",
       " 38797430,\n",
       " 38797432,\n",
       " 39190649,\n",
       " 39583864,\n",
       " 37748859,\n",
       " 38666368,\n",
       " 38273153,\n",
       " 38797442,\n",
       " 38928515,\n",
       " 38273158,\n",
       " 37093516,\n",
       " 39190668,\n",
       " 37093518,\n",
       " 38011023,\n",
       " 39583885,\n",
       " 38666385,\n",
       " 38404244,\n",
       " 38666389,\n",
       " 39190678,\n",
       " 38404248,\n",
       " 38666393,\n",
       " 38666394,\n",
       " 39190684,\n",
       " 38797470,\n",
       " 38273182,\n",
       " 39190688,\n",
       " 38797473,\n",
       " 38797475,\n",
       " 39190692,\n",
       " 39583907,\n",
       " 39583908,\n",
       " 38797479,\n",
       " 38011048,\n",
       " 39190696,\n",
       " 39583910,\n",
       " 39583912,\n",
       " 38666406,\n",
       " 39190702,\n",
       " 38666414,\n",
       " 38797492,\n",
       " 38797493,\n",
       " 38797496,\n",
       " 38797497,\n",
       " 38797498,\n",
       " 38797499,\n",
       " 38797500,\n",
       " 38928572,\n",
       " 38273213,\n",
       " 38797503,\n",
       " 38273214,\n",
       " 38797505,\n",
       " 37880001,\n",
       " 38011074,\n",
       " 38011076,\n",
       " 38797509,\n",
       " 38797510,\n",
       " 38666433,\n",
       " 38797513,\n",
       " 38797517,\n",
       " 38928589,\n",
       " 38797520,\n",
       " 39583952,\n",
       " 39583953,\n",
       " 38797523,\n",
       " 38797524,\n",
       " 38666450,\n",
       " 38797526,\n",
       " 38666456,\n",
       " 38797530,\n",
       " 38797533,\n",
       " 39190751,\n",
       " 38142176,\n",
       " 38797537,\n",
       " 39583968,\n",
       " 39190755,\n",
       " 38666479,\n",
       " 38797553,\n",
       " 38928626,\n",
       " 38928628,\n",
       " 38666486,\n",
       " 38928633,\n",
       " 38666493,\n",
       " 38928638,\n",
       " 38797570,\n",
       " 39584003,\n",
       " 39584004,\n",
       " 37748997,\n",
       " 39584005,\n",
       " 38928649,\n",
       " 39584009,\n",
       " 39584010,\n",
       " 39584011,\n",
       " 38666513,\n",
       " 38797588,\n",
       " 38928662,\n",
       " 38666519,\n",
       " 38797593,\n",
       " 38928665,\n",
       " 38797597,\n",
       " 38797599,\n",
       " 38797600,\n",
       " 39715103,\n",
       " 38928674,\n",
       " 38797603,\n",
       " 38797604,\n",
       " 38666531,\n",
       " 38797606,\n",
       " 38928679,\n",
       " 38666532,\n",
       " 38797609,\n",
       " 38928682,\n",
       " 38666534,\n",
       " 38666535,\n",
       " 38666538,\n",
       " 38666541,\n",
       " 38666543,\n",
       " 38666545,\n",
       " 38666547,\n",
       " 38928693,\n",
       " 38797626,\n",
       " 38928704,\n",
       " 38797634,\n",
       " 38928706,\n",
       " 38797636,\n",
       " 39584070,\n",
       " 39584072,\n",
       " 38928716,\n",
       " 38535504,\n",
       " 38928724,\n",
       " 38142292,\n",
       " 37486936,\n",
       " 38797657,\n",
       " 39624518,\n",
       " 39715163,\n",
       " 38535517,\n",
       " 38535520,\n",
       " 38928737,\n",
       " 38666598,\n",
       " 38666599,\n",
       " 40370538,\n",
       " 38666605,\n",
       " 38797679,\n",
       " 38797683,\n",
       " 38666618,\n",
       " 38797691,\n",
       " 38666623,\n",
       " 38797699,\n",
       " 39715205,\n",
       " 39584134,\n",
       " 39584137,\n",
       " 39584140,\n",
       " 39584141,\n",
       " 39715212,\n",
       " 39715221,\n",
       " 39715225,\n",
       " 39059870,\n",
       " 39059871,\n",
       " 37224863,\n",
       " 38273440,\n",
       " 38666654,\n",
       " 39059875,\n",
       " 38666655,\n",
       " 39715232,\n",
       " 39059878,\n",
       " 38273446,\n",
       " 38666662,\n",
       " 38273453,\n",
       " 39715246,\n",
       " 37749167,\n",
       " 37749168,\n",
       " 38142389,\n",
       " 38273461,\n",
       " 39584189,\n",
       " 34472385,\n",
       " 38666696,\n",
       " 38928846,\n",
       " 38797782,\n",
       " 38666711,\n",
       " 38797788,\n",
       " 38797789,\n",
       " 38797790,\n",
       " 38797791,\n",
       " 38797792,\n",
       " 38797793,\n",
       " 39059940,\n",
       " 38726791,\n",
       " 38797805,\n",
       " 38666740,\n",
       " 38142454,\n",
       " 38666761,\n",
       " 38666764,\n",
       " 37749267,\n",
       " 38666773,\n",
       " 38666775,\n",
       " 38666786,\n",
       " 38666789,\n",
       " 38797863,\n",
       " 38797866,\n",
       " 38666811,\n",
       " 38797885,\n",
       " 38797890,\n",
       " 37749317,\n",
       " 38404696,\n",
       " 38797916,\n",
       " 38797917,\n",
       " 38928988,\n",
       " 38928991,\n",
       " 38928992,\n",
       " 37487200,\n",
       " 38928998,\n",
       " 38404710,\n",
       " 38797930,\n",
       " 38404714,\n",
       " 38404715,\n",
       " 37749361,\n",
       " 38929009,\n",
       " 38797939,\n",
       " 38273655,\n",
       " 38797946,\n",
       " 37880443,\n",
       " 38273663,\n",
       " 38929027,\n",
       " 38929031,\n",
       " 38273673,\n",
       " 38797963,\n",
       " 38797972,\n",
       " 38929044,\n",
       " 38797978,\n",
       " 38797981,\n",
       " 38797982,\n",
       " 38797984,\n",
       " 37749413,\n",
       " 38797991,\n",
       " 38273703,\n",
       " 38797993,\n",
       " 38273719,\n",
       " 38798011,\n",
       " 38798015,\n",
       " 39322307,\n",
       " 38798020,\n",
       " 38798024,\n",
       " 38798026,\n",
       " 39846603,\n",
       " 38535891,\n",
       " 38798040,\n",
       " 38798051,\n",
       " 38273766,\n",
       " 37749482,\n",
       " 38011630,\n",
       " 38929135,\n",
       " 37880560,\n",
       " 39322350,\n",
       " 39322351,\n",
       " 39322353,\n",
       " 39322356,\n",
       " 38142712,\n",
       " 38142713,\n",
       " 38798075,\n",
       " 38929147,\n",
       " 38929152,\n",
       " 38929153,\n",
       " 38929163,\n",
       " 38929164,\n",
       " 38798095,\n",
       " 38929174,\n",
       " 38798111,\n",
       " 38929183,\n",
       " 38929187,\n",
       " 38798125,\n",
       " 38535982,\n",
       " 38798127,\n",
       " 38142773,\n",
       " 38798137,\n",
       " 38404931,\n",
       " 40371018,\n",
       " 38142797,\n",
       " 40371031,\n",
       " 38536023,\n",
       " 38536026,\n",
       " 38798171,\n",
       " 38536030,\n",
       " 38011749,\n",
       " 38798190,\n",
       " 38798193,\n",
       " 38929266,\n",
       " 38142835,\n",
       " 38929270,\n",
       " 38798200,\n",
       " 38798201,\n",
       " 38798202,\n",
       " 38929279,\n",
       " 38536067,\n",
       " 38536068,\n",
       " 38536082,\n",
       " 38798230,\n",
       " 38798236,\n",
       " 38798239,\n",
       " 38798243,\n",
       " 38798244,\n",
       " 38798245,\n",
       " 36701100,\n",
       " 36701101,\n",
       " 38536116,\n",
       " 38536119,\n",
       " 38798272,\n",
       " 38798273,\n",
       " 38798274,\n",
       " 38536129,\n",
       " 38798277,\n",
       " 38011860,\n",
       " 37487577,\n",
       " 38011867,\n",
       " 38142939,\n",
       " 38798312,\n",
       " 38798323,\n",
       " 38536186,\n",
       " 38536199,\n",
       " 37749785,\n",
       " 37749793,\n",
       " 38405160,\n",
       " 38667342,\n",
       " 37880949,\n",
       " 38798454,\n",
       " 38798459,\n",
       " 38274175,\n",
       " 37880960,\n",
       " 38929539,\n",
       " 37225604,\n",
       " 37880965,\n",
       " 38929541,\n",
       " 38712874,\n",
       " 38929547,\n",
       " 38929549,\n",
       " 38929550,\n",
       " 40371357,\n",
       " 38929566,\n",
       " 38929567,\n",
       " 38929568,\n",
       " 38929570,\n",
       " 38929581,\n",
       " 37881008,\n",
       " 37881011,\n",
       " 38634730,\n",
       " 38929597,\n",
       " 38929599,\n",
       " 38929609,\n",
       " 38929611,\n",
       " 38929613,\n",
       " 38929620,\n",
       " 39453911,\n",
       " 38634736,\n",
       " 38929626,\n",
       " 38929627,\n",
       " 39453921,\n",
       " 39453922,\n",
       " 38536418,\n",
       " 39453924,\n",
       " 38143206,\n",
       " 39453929,\n",
       " 39453934,\n",
       " 38634741,\n",
       " 38536434,\n",
       " 38798583,\n",
       " 38536443,\n",
       " 38798589,\n",
       " 39453949,\n",
       " 38536460,\n",
       " 38536462,\n",
       " 38536463,\n",
       " 38536464,\n",
       " 34866458,\n",
       " 38536483,\n",
       " 38536488,\n",
       " 38929705,\n",
       " 38536492,\n",
       " 38929710,\n",
       " 37881135,\n",
       " 38143279,\n",
       " 38536497,\n",
       " 38929714,\n",
       " 38929722,\n",
       " 38929723,\n",
       " 38929724,\n",
       " 38929730,\n",
       " 38947377,\n",
       " 38143303,\n",
       " 38929750,\n",
       " 38947381,\n",
       " 38536539,\n",
       " 38929759,\n",
       " 38536543,\n",
       " 38536544,\n",
       " 38143336,\n",
       " 38536555,\n",
       " 38667629,\n",
       " 38536558,\n",
       " 38947385,\n",
       " 38536559,\n",
       " 38536561,\n",
       " 38947386,\n",
       " 38536567,\n",
       " 38536568,\n",
       " 38536575,\n",
       " 38536576,\n",
       " 38536579,\n",
       " 38536582,\n",
       " 38536583,\n",
       " 38536584,\n",
       " 38536585,\n",
       " 38536586,\n",
       " 38536588,\n",
       " 38929814,\n",
       " 38929815,\n",
       " 38536602,\n",
       " 38536603,\n",
       " 38798748,\n",
       " 38798749,\n",
       " 38929822,\n",
       " 38929827,\n",
       " 38712932,\n",
       " 38929833,\n",
       " 38536620,\n",
       " 38929838,\n",
       " 40109491,\n",
       " 38536631,\n",
       " 38536632,\n",
       " 38929849,\n",
       " 38929852,\n",
       " 38536643,\n",
       " 38929860,\n",
       " 38929861,\n",
       " 38536645,\n",
       " 38536650,\n",
       " 38012365,\n",
       " 38536655,\n",
       " 38929875,\n",
       " 38536660,\n",
       " 38929882,\n",
       " 38929887,\n",
       " 38667749,\n",
       " 38929905,\n",
       " 38929906,\n",
       " 38929916,\n",
       " 38405632,\n",
       " 38536706,\n",
       " 37357067,\n",
       " 38405662,\n",
       " 38405663,\n",
       " 38012448,\n",
       " 38929955,\n",
       " 38012454,\n",
       " 38929965,\n",
       " 38798906,\n",
       " 38929989,\n",
       " 38929995,\n",
       " 38012516,\n",
       " 38798949,\n",
       " 39676878,\n",
       " 38930027,\n",
       " 38930035,\n",
       " 38798986,\n",
       " 38798987,\n",
       " 38930060,\n",
       " 38930063,\n",
       " 38930066,\n",
       " 38799005,\n",
       " 38930082,\n",
       " 35129002,\n",
       " 38930097,\n",
       " 38930100,\n",
       " 38930103,\n",
       " 37488311,\n",
       " 37488316,\n",
       " 37750464,\n",
       " 38930119,\n",
       " 38536906,\n",
       " 38930129,\n",
       " 38930131,\n",
       " 38930141,\n",
       " 38930154,\n",
       " 39847660,\n",
       " 38536941,\n",
       " 38799104,\n",
       " 38799106,\n",
       " 38799108,\n",
       " 38799109,\n",
       " 38799110,\n",
       " 38799111,\n",
       " 38799112,\n",
       " 38536978,\n",
       " 38799131,\n",
       " 38799132,\n",
       " 38799133,\n",
       " 37357347,\n",
       " 38930238,\n",
       " 39323465,\n",
       " 39323468,\n",
       " 39323469,\n",
       " 39323470,\n",
       " 39323473,\n",
       " 38930266,\n",
       " 38668124,\n",
       " 39323485,\n",
       " 39323487,\n",
       " 38537055,\n",
       " 38405995,\n",
       " 38537068,\n",
       " 37357434,\n",
       " 35260289,\n",
       " 39978884,\n",
       " 37750664,\n",
       " 39624833,\n",
       " 39061387,\n",
       " 38930318,\n",
       " 39061390,\n",
       " 37592811,\n",
       " 38537105,\n",
       " 39061400,\n",
       " 38799259,\n",
       " 38799260,\n",
       " 38799263,\n",
       " 39323561,\n",
       " 38537130,\n",
       " 38634880,\n",
       " 39323566,\n",
       " 39323568,\n",
       " 38274993,\n",
       " 39323571,\n",
       " 38274996,\n",
       " 38274997,\n",
       " 38012855,\n",
       " 38537155,\n",
       " 36964293,\n",
       " 38537157,\n",
       " 36964295,\n",
       " 38537158,\n",
       " 38537159,\n",
       " 38537161,\n",
       " 38275022,\n",
       " 37750738,\n",
       " 38537177,\n",
       " 38537180,\n",
       " 38537181,\n",
       " 38537183,\n",
       " 39323634,\n",
       " 39323635,\n",
       " 38537202,\n",
       " 38537203,\n",
       " 38537205,\n",
       " 38275063,\n",
       " 38537208,\n",
       " 38537209,\n",
       " 38275066,\n",
       " 38537210,\n",
       " 38537211,\n",
       " 38537212,\n",
       " 38537213,\n",
       " 38537214,\n",
       " 38537215,\n",
       " 38739102,\n",
       " 38537218,\n",
       " 38537220,\n",
       " 39585818,\n",
       " 38012958,\n",
       " 38275104,\n",
       " 38537249,\n",
       " 36177956,\n",
       " 36177957,\n",
       " 39585830,\n",
       " 37881898,\n",
       " 37357613,\n",
       " 38799411,\n",
       " 39585843,\n",
       " 39585848,\n",
       " 39585863,\n",
       " 39585874,\n",
       " 39585879,\n",
       " 39585882,\n",
       " 38930527,\n",
       " 39323751,\n",
       " 37881962,\n",
       " 38537326,\n",
       " 36178032,\n",
       " 38504661,\n",
       " 39323763,\n",
       " 39323764,\n",
       " 37750905,\n",
       " 38537351,\n",
       " 38275212,\n",
       " 38537358,\n",
       " 37750927,\n",
       " 38537365,\n",
       " 38537366,\n",
       " 38537367,\n",
       " 38799516,\n",
       " 38799519,\n",
       " 38275234,\n",
       " 38275237,\n",
       " 39717032,\n",
       " 38799532,\n",
       " 37619884,\n",
       " 39717039,\n",
       " 38275249,\n",
       " 38537395,\n",
       " 39717045,\n",
       " 39717046,\n",
       " 38013112,\n",
       " 38930617,\n",
       " 37488833,\n",
       " 38799554,\n",
       " 38799557,\n",
       " 38799560,\n",
       " 38537419,\n",
       " 38537420,\n",
       " 38799565,\n",
       " 37882063,\n",
       " 38799568,\n",
       " 38799569,\n",
       " 38799570,\n",
       " 38537427,\n",
       " 38537428,\n",
       " 39061717,\n",
       " 38537429,\n",
       " 39061719,\n",
       " 39717073,\n",
       " 39717077,\n",
       " 38799578,\n",
       " 39323866,\n",
       " 39323867,\n",
       " 39061725,\n",
       " 38799582,\n",
       " 38537439,\n",
       " 37751008,\n",
       " 37751009,\n",
       " 38799586,\n",
       " 39061730,\n",
       " 38537440,\n",
       " 39061733,\n",
       " 38537441,\n",
       " 39323879,\n",
       " 39061736,\n",
       " 37882089,\n",
       " 38537446,\n",
       " 39717097,\n",
       " 39717098,\n",
       " 39717101,\n",
       " 39061745,\n",
       " 39717106,\n",
       " 36702463,\n",
       " 39323910,\n",
       " 38668553,\n",
       " 36702474,\n",
       " 39323928,\n",
       " 38537502,\n",
       " 38799652,\n",
       " 38537515,\n",
       " 38013231,\n",
       " 39717169,\n",
       " 38537523,\n",
       " 38537525,\n",
       " 39192887,\n",
       " 37882172,\n",
       " 39061824,\n",
       " 39061826,\n",
       " 39061827,\n",
       " 39061830,\n",
       " 38537542,\n",
       " 36964680,\n",
       " 39323979,\n",
       " 39323980,\n",
       " 39717199,\n",
       " 39323987,\n",
       " 37882196,\n",
       " 38930773,\n",
       " 37751126,\n",
       " 39061847,\n",
       " 37751128,\n",
       " 37751129,\n",
       " 39323992,\n",
       " 39323994,\n",
       " 39323995,\n",
       " 39323996,\n",
       " 39323998,\n",
       " 39323999,\n",
       " 39324000,\n",
       " 36964705,\n",
       " 39324001,\n",
       " 39061859,\n",
       " 39324002,\n",
       " 39324004,\n",
       " 39324006,\n",
       " 39061863,\n",
       " 39324007,\n",
       " 38930793,\n",
       " 39324008,\n",
       " 39324009,\n",
       " 39061868,\n",
       " 39324010,\n",
       " 39324011,\n",
       " 38537574,\n",
       " 37489001,\n",
       " 39324018,\n",
       " 38537587,\n",
       " 38930806,\n",
       " 39717238,\n",
       " 38930809,\n",
       " 33819003,\n",
       " 39717245,\n",
       " 39324030,\n",
       " 37489025,\n",
       " 39717251,\n",
       " 38537605,\n",
       " 38537607,\n",
       " 39192968,\n",
       " 38930825,\n",
       " 39192970,\n",
       " 39192971,\n",
       " 39192972,\n",
       " 39192973,\n",
       " 37489038,\n",
       " 38930831,\n",
       " 39717255,\n",
       " 38930833,\n",
       " 39192978,\n",
       " 39192979,\n",
       " 39192980,\n",
       " 37751189,\n",
       " 38537618,\n",
       " 38930839,\n",
       " 39192983,\n",
       " 39192984,\n",
       " 39192986,\n",
       " 38930843,\n",
       " 40110491,\n",
       " 38930845,\n",
       " 39192988,\n",
       " 38668697,\n",
       " 39324064,\n",
       " 38537632,\n",
       " 38930850,\n",
       " 39717276,\n",
       " 39324069,\n",
       " 39324070,\n",
       " 37489062,\n",
       " 38739187,\n",
       " 38930863,\n",
       " 38930865,\n",
       " 38668728,\n",
       " 39193019,\n",
       " 38537666,\n",
       " 39061955,\n",
       " 39061957,\n",
       " 38537671,\n",
       " 39061962,\n",
       " 39324109,\n",
       " 38537680,\n",
       " 38930897,\n",
       " 39324114,\n",
       " 38537683,\n",
       " 38930900,\n",
       " 38537685,\n",
       " 39324118,\n",
       " 38668758,\n",
       " 38930904,\n",
       " 39061977,\n",
       " 39061980,\n",
       " 39324125,\n",
       " 39061985,\n",
       " 38013410,\n",
       " 38930915,\n",
       " 39324133,\n",
       " 39061990,\n",
       " 39061991,\n",
       " 39193064,\n",
       " 38537701,\n",
       " 39324138,\n",
       " 37882347,\n",
       " 39193067,\n",
       " 39061997,\n",
       " 39061998,\n",
       " 39061999,\n",
       " 40110575,\n",
       " 39324140,\n",
       " 39324141,\n",
       " 38930931,\n",
       " 39324142,\n",
       " 39324143,\n",
       " 38668782,\n",
       " 38668785,\n",
       " 39324153,\n",
       " 38537722,\n",
       " 39717370,\n",
       " 38930940,\n",
       " 38668797,\n",
       " 39062014,\n",
       " 39062015,\n",
       " 39062019,\n",
       " 39324163,\n",
       " 38930949,\n",
       " 39062022,\n",
       " 39062023,\n",
       " 38930952,\n",
       " 39062024,\n",
       " 39062026,\n",
       " 38537738,\n",
       " 37751308,\n",
       " 38537739,\n",
       " 38668809,\n",
       " 39193105,\n",
       " 38668817,\n",
       " 38668819,\n",
       " 39717397,\n",
       " 38668822,\n",
       " 38930974,\n",
       " 38668832,\n",
       " 39717410,\n",
       " 38537763,\n",
       " 38668836,\n",
       " 38013478,\n",
       " 38930984,\n",
       " 38668843,\n",
       " 38930989,\n",
       " 38537779,\n",
       " 38537780,\n",
       " 37227061,\n",
       " 38668856,\n",
       " 38537786,\n",
       " 39717437,\n",
       " 38668865,\n",
       " 37620294,\n",
       " 38668877,\n",
       " 38668886,\n",
       " 37227099,\n",
       " 36964959,\n",
       " 38668897,\n",
       " 38931042,\n",
       " 38739224,\n",
       " 39717479,\n",
       " 38635019,\n",
       " 38668904,\n",
       " 39717480,\n",
       " 39717483,\n",
       " 38931054,\n",
       " 38537843,\n",
       " 38537844,\n",
       " 39717493,\n",
       " 38739229,\n",
       " 38668924,\n",
       " 38739230,\n",
       " 38668928,\n",
       " 38668933,\n",
       " 38668937,\n",
       " 39717515,\n",
       " 36965004,\n",
       " 29493913,\n",
       " 38537882,\n",
       " 38739235,\n",
       " 38739236,\n",
       " 39717539,\n",
       " 38739237,\n",
       " 38800042,\n",
       " 38537901,\n",
       " 38739239,\n",
       " 38800049,\n",
       " 38013618,\n",
       " 38537905,\n",
       " 38537906,\n",
       " 39717558,\n",
       " 38406841,\n",
       " 38931144,\n",
       " 38669000,\n",
       " 38800074,\n",
       " 38537931,\n",
       " 38406860,\n",
       " 38800077,\n",
       " 38537932,\n",
       " 29493967,\n",
       " 29493968,\n",
       " 38800081,\n",
       " 38537933,\n",
       " 38931155,\n",
       " 38537934,\n",
       " 38537936,\n",
       " 38013654,\n",
       " 38739247,\n",
       " 29493979,\n",
       " 38931165,\n",
       " 38931171,\n",
       " 38931172,\n",
       " 39062246,\n",
       " 38931175,\n",
       " 29493992,\n",
       " 38931179,\n",
       " 38800108,\n",
       " 38931181,\n",
       " 39193323,\n",
       " 39193327,\n",
       " 39717616,\n",
       " 39193329,\n",
       " 39193330,\n",
       " 38931189,\n",
       " 39717622,\n",
       " 38800121,\n",
       " 38931194,\n",
       " 38931195,\n",
       " 39193340,\n",
       " 39717628,\n",
       " 37882622,\n",
       " 38931199,\n",
       " 39193342,\n",
       " 39193343,\n",
       " 39193344,\n",
       " 39193345,\n",
       " 38669053,\n",
       " 38739256,\n",
       " 38406918,\n",
       " 29494032,\n",
       " 39193361,\n",
       " 39193362,\n",
       " 39193363,\n",
       " 39193364,\n",
       " 39193365,\n",
       " ...]"
      ]
     },
     "execution_count": 44,
     "metadata": {},
     "output_type": "execute_result"
    }
   ],
   "source": [
    "# Identity of the PMIDs common in the old dataset and in the new\n",
    "duplicated_PMIDs_old_new = list(set(list_old_PMIDs).intersection(set(list_new_PMIDs)))\n",
    "duplicated_PMIDs_old_new"
   ]
  },
  {
   "cell_type": "code",
   "execution_count": 45,
   "id": "64e71639-c811-4ccd-a880-78b9f315baf3",
   "metadata": {
    "scrolled": true
   },
   "outputs": [
    {
     "data": {
      "text/plain": [
       "[6086666,\n",
       " 6742028,\n",
       " 6610957,\n",
       " 6209558,\n",
       " 6733847,\n",
       " 6733849,\n",
       " 6733850,\n",
       " 6733852,\n",
       " 6733854,\n",
       " 6733855,\n",
       " 6733856,\n",
       " 6479902,\n",
       " 6733858,\n",
       " 6479903,\n",
       " 6430756,\n",
       " 6479904,\n",
       " 6479905,\n",
       " 6479906,\n",
       " 6479908,\n",
       " 6479910,\n",
       " 6094885,\n",
       " 6094889,\n",
       " 6545445,\n",
       " 6545450,\n",
       " 6545451,\n",
       " 6086703,\n",
       " 6545456,\n",
       " 6545458,\n",
       " 6545459,\n",
       " 6430779,\n",
       " 6471739,\n",
       " 6611007,\n",
       " 6438976,\n",
       " 6438977,\n",
       " 6086723,\n",
       " 6086724,\n",
       " 6742109,\n",
       " 6463583,\n",
       " 6463584,\n",
       " 6733919,\n",
       " 6094948,\n",
       " 6086776,\n",
       " 6381691,\n",
       " 6332540,\n",
       " 6430846,\n",
       " 6430847,\n",
       " 6332543,\n",
       " 6430849,\n",
       " 6376149,\n",
       " 6747385,\n",
       " 6086790,\n",
       " 6332551,\n",
       " 6430861,\n",
       " 6611088,\n",
       " 6381720,\n",
       " 6529176,\n",
       " 6529177,\n",
       " 6463655,\n",
       " 6463656,\n",
       " 6389930,\n",
       " 6389932,\n",
       " 6389933,\n",
       " 6747393,\n",
       " 6389934,\n",
       " 6747394,\n",
       " 6389940,\n",
       " 6537395,\n",
       " 6332598,\n",
       " 6537396,\n",
       " 6747395,\n",
       " 6537397,\n",
       " 6389953,\n",
       " 6611148,\n",
       " 6095053,\n",
       " 6742224,\n",
       " 6095057,\n",
       " 6095060,\n",
       " 6095061,\n",
       " 6095065,\n",
       " 6381786,\n",
       " 6209755,\n",
       " 6095067,\n",
       " 6095069,\n",
       " 6095070,\n",
       " 6095071,\n",
       " 6234333,\n",
       " 6095074,\n",
       " 6734057,\n",
       " 6734060,\n",
       " 6734063,\n",
       " 6611185,\n",
       " 6734066,\n",
       " 6734071,\n",
       " 6611196,\n",
       " 6234371,\n",
       " 6611204,\n",
       " 6594825,\n",
       " 6234380,\n",
       " 6381836,\n",
       " 6430991,\n",
       " 6488336,\n",
       " 6488337,\n",
       " 6488339,\n",
       " 6488341,\n",
       " 6488342,\n",
       " 6611227,\n",
       " 6611231,\n",
       " 6742312,\n",
       " 6742313,\n",
       " 6611242,\n",
       " 6742314,\n",
       " 6742315,\n",
       " 6742316,\n",
       " 6570286,\n",
       " 6742317,\n",
       " 6742319,\n",
       " 6152490,\n",
       " 6234420,\n",
       " 6742325,\n",
       " 6488378,\n",
       " 6488379,\n",
       " 6742331,\n",
       " 6488381,\n",
       " 6488382,\n",
       " 6488383,\n",
       " 6431040,\n",
       " 6611265,\n",
       " 6611266,\n",
       " 6234434,\n",
       " 6488388,\n",
       " 6742336,\n",
       " 6504775,\n",
       " 6504776,\n",
       " 6504777,\n",
       " 6594892,\n",
       " 6594893,\n",
       " 6594894,\n",
       " 6594895,\n",
       " 6431056,\n",
       " 6594897,\n",
       " 6594896,\n",
       " 6480208,\n",
       " 6431064,\n",
       " 6086368,\n",
       " 6611299,\n",
       " 6480230,\n",
       " 6480238,\n",
       " 6611317,\n",
       " 6144384,\n",
       " 6144385,\n",
       " 6431129,\n",
       " 6504861,\n",
       " 6504866,\n",
       " 6381988,\n",
       " 6087077,\n",
       " 6087078,\n",
       " 6087080,\n",
       " 6209970,\n",
       " 6480306,\n",
       " 6480308,\n",
       " 6373815,\n",
       " 6463928,\n",
       " 6480319,\n",
       " 6463936,\n",
       " 6463937,\n",
       " 6734273,\n",
       " 6742471,\n",
       " 6734280,\n",
       " 6734285,\n",
       " 6087118,\n",
       " 6152655,\n",
       " 6480336,\n",
       " 6586833,\n",
       " 6734291,\n",
       " 6472149,\n",
       " 6734295,\n",
       " 6472152,\n",
       " 6734298,\n",
       " 6382045,\n",
       " 6398431,\n",
       " 6242787,\n",
       " 6398438,\n",
       " 6234599,\n",
       " 6398440,\n",
       " 6545900,\n",
       " 6545903,\n",
       " 6545904,\n",
       " 6431218,\n",
       " 6545907,\n",
       " 6545910,\n",
       " 6382072,\n",
       " 6332943,\n",
       " 6095383,\n",
       " 6537753,\n",
       " 11649563,\n",
       " 6742556,\n",
       " 6431261,\n",
       " 6537756,\n",
       " 6537757,\n",
       " 6332962,\n",
       " 6332964,\n",
       " 6734373,\n",
       " 6332969,\n",
       " 6480425,\n",
       " 6087211,\n",
       " 6464044,\n",
       " 6464045,\n",
       " 6472238,\n",
       " 6464047,\n",
       " 6464048,\n",
       " 6480427,\n",
       " 6373933,\n",
       " 6373934,\n",
       " 6472244,\n",
       " 6382132,\n",
       " 6095422,\n",
       " 6095426,\n",
       " 6464067,\n",
       " 6087236,\n",
       " 6611526,\n",
       " 6742600,\n",
       " 6382753,\n",
       " 6382754,\n",
       " 6439513,\n",
       " 6439514,\n",
       " 6439515,\n",
       " 6439516,\n",
       " 6439517,\n",
       " 6439518,\n",
       " 6611551,\n",
       " 6742623,\n",
       " 6386015,\n",
       " 6439528,\n",
       " 6472298,\n",
       " 6472315,\n",
       " 6611581,\n",
       " 6611582,\n",
       " 6472319,\n",
       " 6472320,\n",
       " 6546048,\n",
       " 6087323,\n",
       " 6087332,\n",
       " 6087333,\n",
       " 6431399,\n",
       " 6234792,\n",
       " 6382248,\n",
       " 6431408,\n",
       " 6734512,\n",
       " 6734517,\n",
       " 6210230,\n",
       " 6742729,\n",
       " 6742740,\n",
       " 6234839,\n",
       " 6234861,\n",
       " 6726386,\n",
       " 6726388,\n",
       " 6234868,\n",
       " 6431479,\n",
       " 6726391,\n",
       " 6431482,\n",
       " 6431483,\n",
       " 6431484,\n",
       " 6431485,\n",
       " 6726394,\n",
       " 6726397,\n",
       " 6726398,\n",
       " 6497025,\n",
       " 6333186,\n",
       " 6726403,\n",
       " 6431492,\n",
       " 6333188,\n",
       " 6726405,\n",
       " 6087426,\n",
       " 6513408,\n",
       " 6095626,\n",
       " 6546192,\n",
       " 6087443,\n",
       " 6431516,\n",
       " 6234913,\n",
       " 6234914,\n",
       " 6431525,\n",
       " 6431527,\n",
       " 6087463,\n",
       " 6087464,\n",
       " 6087465,\n",
       " 6464303,\n",
       " 6087490,\n",
       " 6742864,\n",
       " 6742865,\n",
       " 6742866,\n",
       " 6742867,\n",
       " 6742868,\n",
       " 6742869,\n",
       " 6234961,\n",
       " 6234962,\n",
       " 6234963,\n",
       " 6505326,\n",
       " 6087537,\n",
       " 6505330,\n",
       " 6472585,\n",
       " 6472586,\n",
       " 6472587,\n",
       " 6734736,\n",
       " 6472597,\n",
       " 6431644,\n",
       " 6431648,\n",
       " 6431649,\n",
       " 6431650,\n",
       " 6087587,\n",
       " 6087588,\n",
       " 6087589,\n",
       " 6087590,\n",
       " 6087591,\n",
       " 6333378,\n",
       " 6235074,\n",
       " 6382555,\n",
       " 6235102,\n",
       " 6480863,\n",
       " 6087648,\n",
       " 6235105,\n",
       " 6382569,\n",
       " 6235114,\n",
       " 6398954,\n",
       " 6480892,\n",
       " 6480894,\n",
       " 6587401,\n",
       " 6464529,\n",
       " 6202386,\n",
       " 6464530,\n",
       " 6743060,\n",
       " 6743061,\n",
       " 6743062,\n",
       " 6431768,\n",
       " 6431774,\n",
       " 6087710,\n",
       " 6202400,\n",
       " 6202401,\n",
       " 6202402,\n",
       " 6202403,\n",
       " 6202404,\n",
       " 6202405,\n",
       " 6431776,\n",
       " 6431777,\n",
       " 6431779,\n",
       " 6431785,\n",
       " 6431786,\n",
       " 6587434,\n",
       " 6333479,\n",
       " 6431789,\n",
       " 6087719,\n",
       " 6743079,\n",
       " 6743084,\n",
       " 6743091,\n",
       " 6493571,\n",
       " 6505533,\n",
       " 6505534,\n",
       " 6505535,\n",
       " 6505538,\n",
       " 6734937,\n",
       " 6480985,\n",
       " 6382686,\n",
       " 6431841,\n",
       " 6571127,\n",
       " 6571128,\n",
       " 6431866,\n",
       " 6333567,\n",
       " 6333568,\n",
       " 6235268,\n",
       " 6431883,\n",
       " 6431885,\n",
       " 6333592,\n",
       " 6431897,\n",
       " 6431898,\n",
       " 6431900,\n",
       " 6333597,\n",
       " 6333598,\n",
       " 6497441,\n",
       " 6333602,\n",
       " 6333603,\n",
       " 6333604,\n",
       " 6333605,\n",
       " 6333606,\n",
       " 6235300,\n",
       " 6497444,\n",
       " 6333609,\n",
       " 6497448,\n",
       " 6497451,\n",
       " 6333612,\n",
       " 6333613,\n",
       " 6333614,\n",
       " 6472876,\n",
       " 6333616,\n",
       " 6333617,\n",
       " 6497452,\n",
       " 6497454,\n",
       " 6497455,\n",
       " 6497458,\n",
       " 6464720,\n",
       " 6382801,\n",
       " 6464722,\n",
       " 6202585,\n",
       " 6464739,\n",
       " 6431972,\n",
       " 6522087,\n",
       " 6235369,\n",
       " 6530281,\n",
       " 6530283,\n",
       " 6530287,\n",
       " 6530289,\n",
       " 6530291,\n",
       " 6595830,\n",
       " 6382850,\n",
       " 6726933,\n",
       " 6726937,\n",
       " 6726938,\n",
       " 6726939,\n",
       " 6726942,\n",
       " 6726943,\n",
       " 6726944,\n",
       " 6726945,\n",
       " 6087967,\n",
       " 6087968,\n",
       " 6726948,\n",
       " 6726954,\n",
       " 6726955,\n",
       " 6726956,\n",
       " 6726957,\n",
       " 6726960,\n",
       " 6726961,\n",
       " 6726962,\n",
       " 6726968,\n",
       " 6333768,\n",
       " 6391119,\n",
       " 6735184,\n",
       " 6333777,\n",
       " 6391121,\n",
       " 6473056,\n",
       " 6145381,\n",
       " 6595956,\n",
       " 6595957,\n",
       " 6595958,\n",
       " 6587772,\n",
       " 6333834,\n",
       " 6735256,\n",
       " 6735258,\n",
       " 6383004,\n",
       " 6333853,\n",
       " 6202782,\n",
       " 6202783,\n",
       " 6481309,\n",
       " 6202789,\n",
       " 6202793,\n",
       " 6464948,\n",
       " 6235573,\n",
       " 6587832,\n",
       " 6587835,\n",
       " 6088123,\n",
       " 6743483,\n",
       " 6383040,\n",
       " 6399429,\n",
       " 6514118,\n",
       " 6399430,\n",
       " 6399431,\n",
       " 6399432,\n",
       " 6743506,\n",
       " 6743507,\n",
       " 6743508,\n",
       " 6743509,\n",
       " 6743510,\n",
       " 6743511,\n",
       " 6743512,\n",
       " 6743513,\n",
       " 6743514,\n",
       " 6743515,\n",
       " 6743516,\n",
       " 6743517,\n",
       " 6505950,\n",
       " 6743519,\n",
       " 6743522,\n",
       " 6743524,\n",
       " 6202857,\n",
       " 6743538,\n",
       " 6743540,\n",
       " 6571510,\n",
       " 6145526,\n",
       " 6145530,\n",
       " 6202881,\n",
       " 6202886,\n",
       " 6743562,\n",
       " 6202891,\n",
       " 6399499,\n",
       " 6587917,\n",
       " 6587918,\n",
       " 6202893,\n",
       " 6202894,\n",
       " 6743569,\n",
       " 6088216,\n",
       " 6088218,\n",
       " 6587935,\n",
       " 6743611,\n",
       " 6587964,\n",
       " 6743613,\n",
       " 6743614,\n",
       " 6743615,\n",
       " 6530626,\n",
       " 6473315,\n",
       " 6497915,\n",
       " 6145663,\n",
       " 6088325,\n",
       " 6432394,\n",
       " 6588051,\n",
       " 6588052,\n",
       " 6088348,\n",
       " 6465188,\n",
       " 6383273,\n",
       " 6334123,\n",
       " 6145720,\n",
       " 6547145,\n",
       " 6399697,\n",
       " 6514398,\n",
       " 6514399,\n",
       " 6514400,\n",
       " 6514401,\n",
       " 6588134,\n",
       " 6440681,\n",
       " 6334188,\n",
       " 6334193,\n",
       " 6481654,\n",
       " 6514424,\n",
       " 6481657,\n",
       " 6514425,\n",
       " 6514426,\n",
       " 6514427,\n",
       " 6514429,\n",
       " 6588158,\n",
       " 6530814,\n",
       " 6588160,\n",
       " 6588161,\n",
       " 6203138,\n",
       " 6481671,\n",
       " 6481679,\n",
       " 6481683,\n",
       " 6334230,\n",
       " 6481698,\n",
       " 6481701,\n",
       " 6481705,\n",
       " 6481706,\n",
       " 6547250,\n",
       " 6588217,\n",
       " 6588218,\n",
       " 6588219,\n",
       " 6489915,\n",
       " 6588221,\n",
       " 6588222,\n",
       " 6588223,\n",
       " 6588224,\n",
       " 6588225,\n",
       " 6522685,\n",
       " 6588220,\n",
       " 6588228,\n",
       " 6588229,\n",
       " 6588230,\n",
       " 6588231,\n",
       " 6588232,\n",
       " 6588233,\n",
       " 6588234,\n",
       " 6588235,\n",
       " 6588236,\n",
       " 6588237,\n",
       " 6588238,\n",
       " 6588239,\n",
       " 6547282,\n",
       " 6547289,\n",
       " 6743903,\n",
       " 6743904,\n",
       " 6743905,\n",
       " 6743910,\n",
       " 6096747,\n",
       " 6547311,\n",
       " 6547312,\n",
       " 6399857,\n",
       " 6399858,\n",
       " 6399859,\n",
       " 6399860,\n",
       " 6547315,\n",
       " 6547316,\n",
       " 6547317,\n",
       " 6588280,\n",
       " 6547318,\n",
       " 6547319,\n",
       " 6547320,\n",
       " 6547322,\n",
       " 6383485,\n",
       " 6481790,\n",
       " 6547324,\n",
       " 6547325,\n",
       " 6236037,\n",
       " 6743945,\n",
       " 6383506,\n",
       " 6539159,\n",
       " 6539160,\n",
       " 6096795,\n",
       " 6539163,\n",
       " 6096797,\n",
       " 6539165,\n",
       " 6539166,\n",
       " 6539167,\n",
       " 6539168,\n",
       " 6539169,\n",
       " 6539170,\n",
       " 6236073,\n",
       " 6547377,\n",
       " 6375348,\n",
       " 6465468,\n",
       " 6465469,\n",
       " 6465470,\n",
       " 6465471,\n",
       " 6465475,\n",
       " 6588361,\n",
       " 6088657,\n",
       " 6588376,\n",
       " 6735833,\n",
       " 6432730,\n",
       " 6236126,\n",
       " 6432739,\n",
       " 6432759,\n",
       " 6473723,\n",
       " 6432763,\n",
       " 6473724,\n",
       " 6473730,\n",
       " 6473739,\n",
       " 6236174,\n",
       " 6383638,\n",
       " 6547479,\n",
       " 6383649,\n",
       " 6473768,\n",
       " 6547496,\n",
       " 6236205,\n",
       " 6096949,\n",
       " 6744133,\n",
       " 6744137,\n",
       " 6375497,\n",
       " 6522955,\n",
       " 6088782,\n",
       " 6744143,\n",
       " 6522959,\n",
       " 6400084,\n",
       " 6531156,\n",
       " 6432862,\n",
       " 6383721,\n",
       " 6203498,\n",
       " 6203499,\n",
       " 6490220,\n",
       " 6547567,\n",
       " 6596726,\n",
       " 6088831,\n",
       " 6596736,\n",
       " 6088832,\n",
       " 6088833,\n",
       " 6088834,\n",
       " 6088835,\n",
       " 6588226,\n",
       " 6588227,\n",
       " 6531219,\n",
       " 6236308,\n",
       " 6531220,\n",
       " 6531221,\n",
       " 6531222,\n",
       " 6531223,\n",
       " 6531224,\n",
       " 6097050,\n",
       " 6097051,\n",
       " 6097052,\n",
       " 6547618,\n",
       " 6146215,\n",
       " 6547638,\n",
       " 6744247,\n",
       " 6203576,\n",
       " 6203577,\n",
       " 6744248,\n",
       " 6744249,\n",
       " 6088892,\n",
       " 6744253,\n",
       " 6744250,\n",
       " 6744251,\n",
       " 6744252,\n",
       " 6744257,\n",
       " 6744254,\n",
       " 6744255,\n",
       " 6432964,\n",
       " 6744256,\n",
       " 6236359,\n",
       " 6203597,\n",
       " 6547675,\n",
       " 6465766,\n",
       " 6465767,\n",
       " 6465768,\n",
       " 6465769,\n",
       " 6465770,\n",
       " 6465771,\n",
       " 6465772,\n",
       " 6539508,\n",
       " 6465781,\n",
       " 6465786,\n",
       " 6465788,\n",
       " 6736126,\n",
       " 6097151,\n",
       " 6588677,\n",
       " 6588682,\n",
       " 6744332,\n",
       " 6744333,\n",
       " 6744334,\n",
       " 6744335,\n",
       " 6744336,\n",
       " 6482193,\n",
       " 6744337,\n",
       " 6744338,\n",
       " 6744339,\n",
       " 6203669,\n",
       " 6744340,\n",
       " 6744341,\n",
       " 6744342,\n",
       " 6744343,\n",
       " 6744344,\n",
       " 6744345,\n",
       " 6744346,\n",
       " 6744347,\n",
       " 6482205,\n",
       " 6482206,\n",
       " 6744348,\n",
       " 6744349,\n",
       " 6744350,\n",
       " 6482211,\n",
       " 6465828,\n",
       " 6375708,\n",
       " 6547747,\n",
       " 6465831,\n",
       " 6433066,\n",
       " 6433067,\n",
       " 6433068,\n",
       " 6433069,\n",
       " 6203690,\n",
       " 6482220,\n",
       " 6383923,\n",
       " 6146370,\n",
       " 6539588,\n",
       " 6089029,\n",
       " 6383942,\n",
       " 6089032,\n",
       " 6588747,\n",
       " 6588748,\n",
       " 6588749,\n",
       " 6588750,\n",
       " 6465867,\n",
       " 6203726,\n",
       " 6375757,\n",
       " 6375759,\n",
       " 6375760,\n",
       " 6375761,\n",
       " 6375763,\n",
       " 6375764,\n",
       " 6146399,\n",
       " 6588768,\n",
       " 6474085,\n",
       " 6236528,\n",
       " 6539633,\n",
       " 6203767,\n",
       " 6203768,\n",
       " 6097278,\n",
       " 6203777,\n",
       " 6523265,\n",
       " 6539652,\n",
       " 6384007,\n",
       " 6384008,\n",
       " 6384012,\n",
       " 6089101,\n",
       " 6465936,\n",
       " 6547866,\n",
       " 6547867,\n",
       " 6384028,\n",
       " 6400413,\n",
       " 6482335,\n",
       " 6334883,\n",
       " 6547877,\n",
       " 6089126,\n",
       " 6597033,\n",
       " 6482350,\n",
       " 6482351,\n",
       " 6482353,\n",
       " 6482354,\n",
       " 6482355,\n",
       " 6236595,\n",
       " 6441406,\n",
       " 6097351,\n",
       " 6384080,\n",
       " 6474195,\n",
       " 6474196,\n",
       " 6515157,\n",
       " 6736347,\n",
       " 6736349,\n",
       " 6736351,\n",
       " 6736353,\n",
       " 6531554,\n",
       " 6736355,\n",
       " 6531559,\n",
       " 6531560,\n",
       " 6531561,\n",
       " 6531562,\n",
       " 6531563,\n",
       " 6515180,\n",
       " 6531564,\n",
       " 6531565,\n",
       " 6515183,\n",
       " 6531568,\n",
       " 6564339,\n",
       " 6531571,\n",
       " 6588921,\n",
       " 6588922,\n",
       " 6588923,\n",
       " 6588924,\n",
       " 6588925,\n",
       " 6507009,\n",
       " 6097416,\n",
       " 6097418,\n",
       " 6539789,\n",
       " 10267153,\n",
       " 6736402,\n",
       " 6089235,\n",
       " 6547989,\n",
       " 6236700,\n",
       " 6531616,\n",
       " 6539811,\n",
       " 6539812,\n",
       " 6539813,\n",
       " 6588973,\n",
       " 6515255,\n",
       " 6515256,\n",
       " 6203961,\n",
       " 6548027,\n",
       " 6515261,\n",
       " 6146626,\n",
       " 6515270,\n",
       " 6744649,\n",
       " 6744651,\n",
       " 6564428,\n",
       " 6548044,\n",
       " 6744654,\n",
       " 6589010,\n",
       " 6589011,\n",
       " 6589012,\n",
       " 6203987,\n",
       " 6203991,\n",
       " 6564441,\n",
       " 6589021,\n",
       " 6744669,\n",
       " 6204000,\n",
       " 6204001,\n",
       " 6736484,\n",
       " 6539881,\n",
       " 6204019,\n",
       " 6204027,\n",
       " 6744709,\n",
       " 6146693,\n",
       " 6146696,\n",
       " 6089353,\n",
       " 6498958,\n",
       " 6744719,\n",
       " 6539929,\n",
       " 6474408,\n",
       " 6474409,\n",
       " 6482611,\n",
       " 6482612,\n",
       " 6089397,\n",
       " 6482613,\n",
       " 6204093,\n",
       " 6204094,\n",
       " 6204095,\n",
       " 6204096,\n",
       " 6204097,\n",
       " 6507205,\n",
       " 6507207,\n",
       " 6507208,\n",
       " 6507209,\n",
       " 6433486,\n",
       " 6482639,\n",
       " 6482640,\n",
       " 6441681,\n",
       " 6326994,\n",
       " 6326995,\n",
       " 6326996,\n",
       " 6326997,\n",
       " 6441686,\n",
       " 6441687,\n",
       " 6326998,\n",
       " 6441689,\n",
       " 6441690,\n",
       " 6326999,\n",
       " 6327000,\n",
       " 6327001,\n",
       " 6089438,\n",
       " 6376154,\n",
       " 6376155,\n",
       " 6089441,\n",
       " 6376160,\n",
       " 6539996,\n",
       " 6539997,\n",
       " 6539998,\n",
       " 6539999,\n",
       " 6540000,\n",
       " 6589165,\n",
       " 6589166,\n",
       " 6327023,\n",
       " 6327024,\n",
       " 6327025,\n",
       " 6327026,\n",
       " 6327027,\n",
       " 6433524,\n",
       " 6327028,\n",
       " 6327029,\n",
       " 6327030,\n",
       " 6327031,\n",
       " 6327032,\n",
       " 6327033,\n",
       " 6327034,\n",
       " 6482693,\n",
       " 6482695,\n",
       " 6466319,\n",
       " 6540049,\n",
       " 10267423,\n",
       " 6736671,\n",
       " 6335269,\n",
       " 6335270,\n",
       " 6540069,\n",
       " 6540070,\n",
       " 6564650,\n",
       " 6564651,\n",
       " 6236979,\n",
       " 6589236,\n",
       " 6335284,\n",
       " 6507332,\n",
       " 6564696,\n",
       " 6744922,\n",
       " 6744923,\n",
       " 6744924,\n",
       " 6548316,\n",
       " 6744927,\n",
       " 12266335,\n",
       " 6204257,\n",
       " 6089569,\n",
       " 6089570,\n",
       " 6744929,\n",
       " 6744930,\n",
       " 6744931,\n",
       " 6146913,\n",
       " 6540134,\n",
       " 6589291,\n",
       " 6146925,\n",
       " 6540144,\n",
       " 6540145,\n",
       " 6589301,\n",
       " 6589302,\n",
       " 6474622,\n",
       " 6474623,\n",
       " 6474624,\n",
       " 6474625,\n",
       " 6474626,\n",
       " 6089599,\n",
       " 6474631,\n",
       " 6474632,\n",
       " 6392713,\n",
       " 6597523,\n",
       " 6597524,\n",
       " 6540187,\n",
       " 6540188,\n",
       " 6540189,\n",
       " 6540190,\n",
       " 6540191,\n",
       " 6540192,\n",
       " 6540193,\n",
       " 6540194,\n",
       " 6540195,\n",
       " 6433704,\n",
       " 10267560,\n",
       " 6204336,\n",
       " 6474679,\n",
       " 6335416,\n",
       " 6745017,\n",
       " 6745019,\n",
       " 6540221,\n",
       " 6745022,\n",
       " 6745024,\n",
       " 6745027,\n",
       " 6540231,\n",
       " 6564814,\n",
       " 6433747,\n",
       " 6474720,\n",
       " 6474721,\n",
       " 6474722,\n",
       " 6474723,\n",
       " 6384614,\n",
       " ...]"
      ]
     },
     "execution_count": 45,
     "metadata": {},
     "output_type": "execute_result"
    }
   ],
   "source": [
    "# Identity of the PMIDs common in the old dataset and in the predate\n",
    "duplicated_PMIDs_old_pred = list(set(list_old_PMIDs).intersection(set(list_pred_PMIDs)))\n",
    "duplicated_PMIDs_old_pred"
   ]
  },
  {
   "cell_type": "markdown",
   "id": "3243a2bb-3270-456e-846a-441063b4a366",
   "metadata": {},
   "source": [
    "The default behavior will be to remove the records for these PMIDs from the old PMIDs dataset to keep only the updated ones. The csvs of the old dataset will be imported, the duplicated records removed and the deduplicated csvs saved in a different directory that will be lated ingested for calculating aggregates"
   ]
  },
  {
   "cell_type": "code",
   "execution_count": 46,
   "id": "0649089c-e72f-4905-a432-12b495252259",
   "metadata": {},
   "outputs": [
    {
     "name": "stderr",
     "output_type": "stream",
     "text": [
      "  0%|                                                                                            | 0/1 [00:00<?, ?it/s]"
     ]
    },
    {
     "name": "stdout",
     "output_type": "stream",
     "text": [
      "Parsing csv: parsedXMLs_first_pred_26400.csv\n"
     ]
    },
    {
     "name": "stderr",
     "output_type": "stream",
     "text": [
      "C:\\Users\\svalb\\AppData\\Local\\Temp\\ipykernel_18048\\1547794611.py:4: DtypeWarning: Columns (28,87,131) have mixed types. Specify dtype option on import or set low_memory=False.\n",
      "  df = pd.read_csv(DF_input_predate + pred_csv)\n",
      "100%|████████████████████████████████████████████████████████████████████████████████████| 1/1 [00:01<00:00,  1.68s/it]\n",
      "  0%|                                                                                           | 0/45 [00:00<?, ?it/s]"
     ]
    },
    {
     "name": "stdout",
     "output_type": "stream",
     "text": [
      "Parsing csv: parsedX_100000.csv\n"
     ]
    },
    {
     "name": "stderr",
     "output_type": "stream",
     "text": [
      "  2%|█▊                                                                                 | 1/45 [00:07<05:23,  7.35s/it]"
     ]
    },
    {
     "name": "stdout",
     "output_type": "stream",
     "text": [
      "Parsing csv: parsedX_1000000.csv\n"
     ]
    },
    {
     "name": "stderr",
     "output_type": "stream",
     "text": [
      "  4%|███▋                                                                               | 2/45 [00:15<05:44,  8.01s/it]"
     ]
    },
    {
     "name": "stdout",
     "output_type": "stream",
     "text": [
      "Parsing csv: parsedX_1100000.csv\n"
     ]
    },
    {
     "name": "stderr",
     "output_type": "stream",
     "text": [
      "  7%|█████▌                                                                             | 3/45 [00:24<05:49,  8.33s/it]"
     ]
    },
    {
     "name": "stdout",
     "output_type": "stream",
     "text": [
      "Parsing csv: parsedX_1200000.csv\n"
     ]
    },
    {
     "name": "stderr",
     "output_type": "stream",
     "text": [
      "  9%|███████▍                                                                           | 4/45 [00:33<05:49,  8.52s/it]"
     ]
    },
    {
     "name": "stdout",
     "output_type": "stream",
     "text": [
      "Parsing csv: parsedX_1300000.csv\n"
     ]
    },
    {
     "name": "stderr",
     "output_type": "stream",
     "text": [
      " 11%|█████████▏                                                                         | 5/45 [00:42<05:45,  8.64s/it]"
     ]
    },
    {
     "name": "stdout",
     "output_type": "stream",
     "text": [
      "Parsing csv: parsedX_1400000.csv\n"
     ]
    },
    {
     "name": "stderr",
     "output_type": "stream",
     "text": [
      "C:\\Users\\svalb\\AppData\\Local\\Temp\\ipykernel_18048\\1547794611.py:11: DtypeWarning: Columns (78) have mixed types. Specify dtype option on import or set low_memory=False.\n",
      "  df = pd.read_csv(DF_input_old + old_csv)\n",
      " 13%|███████████                                                                        | 6/45 [00:50<05:38,  8.68s/it]"
     ]
    },
    {
     "name": "stdout",
     "output_type": "stream",
     "text": [
      "Parsing csv: parsedX_1500000.csv\n"
     ]
    },
    {
     "name": "stderr",
     "output_type": "stream",
     "text": [
      "C:\\Users\\svalb\\AppData\\Local\\Temp\\ipykernel_18048\\1547794611.py:11: DtypeWarning: Columns (79) have mixed types. Specify dtype option on import or set low_memory=False.\n",
      "  df = pd.read_csv(DF_input_old + old_csv)\n",
      " 16%|████████████▉                                                                      | 7/45 [01:00<05:34,  8.81s/it]"
     ]
    },
    {
     "name": "stdout",
     "output_type": "stream",
     "text": [
      "Parsing csv: parsedX_1600000.csv\n"
     ]
    },
    {
     "name": "stderr",
     "output_type": "stream",
     "text": [
      " 18%|██████████████▊                                                                    | 8/45 [01:08<05:24,  8.77s/it]"
     ]
    },
    {
     "name": "stdout",
     "output_type": "stream",
     "text": [
      "Parsing csv: parsedX_1700000.csv\n"
     ]
    },
    {
     "name": "stderr",
     "output_type": "stream",
     "text": [
      " 20%|████████████████▌                                                                  | 9/45 [01:17<05:19,  8.87s/it]"
     ]
    },
    {
     "name": "stdout",
     "output_type": "stream",
     "text": [
      "Parsing csv: parsedX_1800000.csv\n"
     ]
    },
    {
     "name": "stderr",
     "output_type": "stream",
     "text": [
      "C:\\Users\\svalb\\AppData\\Local\\Temp\\ipykernel_18048\\1547794611.py:11: DtypeWarning: Columns (13,64,75) have mixed types. Specify dtype option on import or set low_memory=False.\n",
      "  df = pd.read_csv(DF_input_old + old_csv)\n",
      " 22%|██████████████████▏                                                               | 10/45 [01:27<05:17,  9.07s/it]"
     ]
    },
    {
     "name": "stdout",
     "output_type": "stream",
     "text": [
      "Parsing csv: parsedX_1900000.csv\n"
     ]
    },
    {
     "name": "stderr",
     "output_type": "stream",
     "text": [
      "C:\\Users\\svalb\\AppData\\Local\\Temp\\ipykernel_18048\\1547794611.py:11: DtypeWarning: Columns (13,63,74) have mixed types. Specify dtype option on import or set low_memory=False.\n",
      "  df = pd.read_csv(DF_input_old + old_csv)\n",
      " 24%|████████████████████                                                              | 11/45 [01:36<05:14,  9.24s/it]"
     ]
    },
    {
     "name": "stdout",
     "output_type": "stream",
     "text": [
      "Parsing csv: parsedX_200000.csv\n"
     ]
    },
    {
     "name": "stderr",
     "output_type": "stream",
     "text": [
      " 27%|█████████████████████▊                                                            | 12/45 [01:43<04:41,  8.54s/it]"
     ]
    },
    {
     "name": "stdout",
     "output_type": "stream",
     "text": [
      "Parsing csv: parsedX_2000000.csv\n"
     ]
    },
    {
     "name": "stderr",
     "output_type": "stream",
     "text": [
      " 29%|███████████████████████▋                                                          | 13/45 [01:53<04:42,  8.84s/it]"
     ]
    },
    {
     "name": "stdout",
     "output_type": "stream",
     "text": [
      "Parsing csv: parsedX_2100000.csv\n"
     ]
    },
    {
     "name": "stderr",
     "output_type": "stream",
     "text": [
      " 31%|█████████████████████████▌                                                        | 14/45 [02:03<04:42,  9.11s/it]"
     ]
    },
    {
     "name": "stdout",
     "output_type": "stream",
     "text": [
      "Parsing csv: parsedX_2200000.csv\n"
     ]
    },
    {
     "name": "stderr",
     "output_type": "stream",
     "text": [
      "C:\\Users\\svalb\\AppData\\Local\\Temp\\ipykernel_18048\\1547794611.py:11: DtypeWarning: Columns (13,66,77) have mixed types. Specify dtype option on import or set low_memory=False.\n",
      "  df = pd.read_csv(DF_input_old + old_csv)\n",
      " 33%|███████████████████████████▎                                                      | 15/45 [02:12<04:39,  9.33s/it]"
     ]
    },
    {
     "name": "stdout",
     "output_type": "stream",
     "text": [
      "Parsing csv: parsedX_2300000.csv\n"
     ]
    },
    {
     "name": "stderr",
     "output_type": "stream",
     "text": [
      "C:\\Users\\svalb\\AppData\\Local\\Temp\\ipykernel_18048\\1547794611.py:11: DtypeWarning: Columns (13,65,76) have mixed types. Specify dtype option on import or set low_memory=False.\n",
      "  df = pd.read_csv(DF_input_old + old_csv)\n",
      " 36%|█████████████████████████████▏                                                    | 16/45 [02:24<04:46,  9.88s/it]"
     ]
    },
    {
     "name": "stdout",
     "output_type": "stream",
     "text": [
      "Parsing csv: parsedX_2400000.csv\n"
     ]
    },
    {
     "name": "stderr",
     "output_type": "stream",
     "text": [
      "C:\\Users\\svalb\\AppData\\Local\\Temp\\ipykernel_18048\\1547794611.py:11: DtypeWarning: Columns (13,67,78) have mixed types. Specify dtype option on import or set low_memory=False.\n",
      "  df = pd.read_csv(DF_input_old + old_csv)\n",
      " 38%|██████████████████████████████▉                                                   | 17/45 [02:35<04:50, 10.36s/it]"
     ]
    },
    {
     "name": "stdout",
     "output_type": "stream",
     "text": [
      "Parsing csv: parsedX_2500000.csv\n"
     ]
    },
    {
     "name": "stderr",
     "output_type": "stream",
     "text": [
      "C:\\Users\\svalb\\AppData\\Local\\Temp\\ipykernel_18048\\1547794611.py:11: DtypeWarning: Columns (13,64,75) have mixed types. Specify dtype option on import or set low_memory=False.\n",
      "  df = pd.read_csv(DF_input_old + old_csv)\n",
      " 40%|████████████████████████████████▊                                                 | 18/45 [02:47<04:54, 10.91s/it]"
     ]
    },
    {
     "name": "stdout",
     "output_type": "stream",
     "text": [
      "Parsing csv: parsedX_2600000.csv\n"
     ]
    },
    {
     "name": "stderr",
     "output_type": "stream",
     "text": [
      "C:\\Users\\svalb\\AppData\\Local\\Temp\\ipykernel_18048\\1547794611.py:11: DtypeWarning: Columns (14,65,76) have mixed types. Specify dtype option on import or set low_memory=False.\n",
      "  df = pd.read_csv(DF_input_old + old_csv)\n",
      " 42%|██████████████████████████████████▌                                               | 19/45 [03:00<04:58, 11.48s/it]"
     ]
    },
    {
     "name": "stdout",
     "output_type": "stream",
     "text": [
      "Parsing csv: parsedX_2700000.csv\n"
     ]
    },
    {
     "name": "stderr",
     "output_type": "stream",
     "text": [
      "C:\\Users\\svalb\\AppData\\Local\\Temp\\ipykernel_18048\\1547794611.py:11: DtypeWarning: Columns (13,64,75) have mixed types. Specify dtype option on import or set low_memory=False.\n",
      "  df = pd.read_csv(DF_input_old + old_csv)\n",
      " 44%|████████████████████████████████████▍                                             | 20/45 [03:13<04:58, 11.95s/it]"
     ]
    },
    {
     "name": "stdout",
     "output_type": "stream",
     "text": [
      "Parsing csv: parsedX_2800000.csv\n"
     ]
    },
    {
     "name": "stderr",
     "output_type": "stream",
     "text": [
      "C:\\Users\\svalb\\AppData\\Local\\Temp\\ipykernel_18048\\1547794611.py:11: DtypeWarning: Columns (13,65,76) have mixed types. Specify dtype option on import or set low_memory=False.\n",
      "  df = pd.read_csv(DF_input_old + old_csv)\n",
      " 47%|██████████████████████████████████████▎                                           | 21/45 [03:26<04:53, 12.24s/it]"
     ]
    },
    {
     "name": "stdout",
     "output_type": "stream",
     "text": [
      "Parsing csv: parsedX_2900000.csv\n"
     ]
    },
    {
     "name": "stderr",
     "output_type": "stream",
     "text": [
      " 49%|████████████████████████████████████████                                          | 22/45 [03:38<04:41, 12.23s/it]"
     ]
    },
    {
     "name": "stdout",
     "output_type": "stream",
     "text": [
      "Parsing csv: parsedX_300000.csv\n"
     ]
    },
    {
     "name": "stderr",
     "output_type": "stream",
     "text": [
      "C:\\Users\\svalb\\AppData\\Local\\Temp\\ipykernel_18048\\1547794611.py:11: DtypeWarning: Columns (15,54) have mixed types. Specify dtype option on import or set low_memory=False.\n",
      "  df = pd.read_csv(DF_input_old + old_csv)\n",
      " 51%|█████████████████████████████████████████▉                                        | 23/45 [03:45<03:52, 10.55s/it]"
     ]
    },
    {
     "name": "stdout",
     "output_type": "stream",
     "text": [
      "Parsing csv: parsedX_3000000.csv\n"
     ]
    },
    {
     "name": "stderr",
     "output_type": "stream",
     "text": [
      "C:\\Users\\svalb\\AppData\\Local\\Temp\\ipykernel_18048\\1547794611.py:11: DtypeWarning: Columns (13,66,77) have mixed types. Specify dtype option on import or set low_memory=False.\n",
      "  df = pd.read_csv(DF_input_old + old_csv)\n",
      " 53%|███████████████████████████████████████████▋                                      | 24/45 [03:57<03:53, 11.11s/it]"
     ]
    },
    {
     "name": "stdout",
     "output_type": "stream",
     "text": [
      "Parsing csv: parsedX_3100000.csv\n"
     ]
    },
    {
     "name": "stderr",
     "output_type": "stream",
     "text": [
      "C:\\Users\\svalb\\AppData\\Local\\Temp\\ipykernel_18048\\1547794611.py:11: DtypeWarning: Columns (13,65,76) have mixed types. Specify dtype option on import or set low_memory=False.\n",
      "  df = pd.read_csv(DF_input_old + old_csv)\n",
      " 56%|█████████████████████████████████████████████▌                                    | 25/45 [04:10<03:50, 11.50s/it]"
     ]
    },
    {
     "name": "stdout",
     "output_type": "stream",
     "text": [
      "Parsing csv: parsedX_3200000.csv\n"
     ]
    },
    {
     "name": "stderr",
     "output_type": "stream",
     "text": [
      "C:\\Users\\svalb\\AppData\\Local\\Temp\\ipykernel_18048\\1547794611.py:11: DtypeWarning: Columns (13,67,78) have mixed types. Specify dtype option on import or set low_memory=False.\n",
      "  df = pd.read_csv(DF_input_old + old_csv)\n",
      " 58%|███████████████████████████████████████████████▍                                  | 26/45 [04:22<03:44, 11.84s/it]"
     ]
    },
    {
     "name": "stdout",
     "output_type": "stream",
     "text": [
      "Parsing csv: parsedX_3300000.csv\n"
     ]
    },
    {
     "name": "stderr",
     "output_type": "stream",
     "text": [
      "C:\\Users\\svalb\\AppData\\Local\\Temp\\ipykernel_18048\\1547794611.py:11: DtypeWarning: Columns (13,65,76) have mixed types. Specify dtype option on import or set low_memory=False.\n",
      "  df = pd.read_csv(DF_input_old + old_csv)\n",
      " 60%|█████████████████████████████████████████████████▏                                | 27/45 [04:35<03:37, 12.11s/it]"
     ]
    },
    {
     "name": "stdout",
     "output_type": "stream",
     "text": [
      "Parsing csv: parsedX_3400000.csv\n"
     ]
    },
    {
     "name": "stderr",
     "output_type": "stream",
     "text": [
      "C:\\Users\\svalb\\AppData\\Local\\Temp\\ipykernel_18048\\1547794611.py:11: DtypeWarning: Columns (13,65,76) have mixed types. Specify dtype option on import or set low_memory=False.\n",
      "  df = pd.read_csv(DF_input_old + old_csv)\n",
      " 62%|███████████████████████████████████████████████████                               | 28/45 [04:47<03:26, 12.17s/it]"
     ]
    },
    {
     "name": "stdout",
     "output_type": "stream",
     "text": [
      "Parsing csv: parsedX_3500000.csv\n"
     ]
    },
    {
     "name": "stderr",
     "output_type": "stream",
     "text": [
      "C:\\Users\\svalb\\AppData\\Local\\Temp\\ipykernel_18048\\1547794611.py:11: DtypeWarning: Columns (13,64,75) have mixed types. Specify dtype option on import or set low_memory=False.\n",
      "  df = pd.read_csv(DF_input_old + old_csv)\n",
      " 64%|████████████████████████████████████████████████████▊                             | 29/45 [05:00<03:15, 12.20s/it]"
     ]
    },
    {
     "name": "stdout",
     "output_type": "stream",
     "text": [
      "Parsing csv: parsedX_3600000.csv\n"
     ]
    },
    {
     "name": "stderr",
     "output_type": "stream",
     "text": [
      "C:\\Users\\svalb\\AppData\\Local\\Temp\\ipykernel_18048\\1547794611.py:11: DtypeWarning: Columns (14,66,77) have mixed types. Specify dtype option on import or set low_memory=False.\n",
      "  df = pd.read_csv(DF_input_old + old_csv)\n",
      " 67%|██████████████████████████████████████████████████████▋                           | 30/45 [05:12<03:04, 12.32s/it]"
     ]
    },
    {
     "name": "stdout",
     "output_type": "stream",
     "text": [
      "Parsing csv: parsedX_3700000.csv\n"
     ]
    },
    {
     "name": "stderr",
     "output_type": "stream",
     "text": [
      " 69%|████████████████████████████████████████████████████████▍                         | 31/45 [05:25<02:55, 12.54s/it]"
     ]
    },
    {
     "name": "stdout",
     "output_type": "stream",
     "text": [
      "Parsing csv: parsedX_3800000.csv\n"
     ]
    },
    {
     "name": "stderr",
     "output_type": "stream",
     "text": [
      "C:\\Users\\svalb\\AppData\\Local\\Temp\\ipykernel_18048\\1547794611.py:11: DtypeWarning: Columns (15,67,78) have mixed types. Specify dtype option on import or set low_memory=False.\n",
      "  df = pd.read_csv(DF_input_old + old_csv)\n",
      " 71%|██████████████████████████████████████████████████████████▎                       | 32/45 [05:38<02:44, 12.62s/it]"
     ]
    },
    {
     "name": "stdout",
     "output_type": "stream",
     "text": [
      "Parsing csv: parsedX_3900000.csv\n"
     ]
    },
    {
     "name": "stderr",
     "output_type": "stream",
     "text": [
      "C:\\Users\\svalb\\AppData\\Local\\Temp\\ipykernel_18048\\1547794611.py:11: DtypeWarning: Columns (14,65,76) have mixed types. Specify dtype option on import or set low_memory=False.\n",
      "  df = pd.read_csv(DF_input_old + old_csv)\n",
      " 73%|████████████████████████████████████████████████████████████▏                     | 33/45 [05:51<02:33, 12.80s/it]"
     ]
    },
    {
     "name": "stdout",
     "output_type": "stream",
     "text": [
      "Parsing csv: parsedX_400000.csv\n"
     ]
    },
    {
     "name": "stderr",
     "output_type": "stream",
     "text": [
      "C:\\Users\\svalb\\AppData\\Local\\Temp\\ipykernel_18048\\1547794611.py:11: DtypeWarning: Columns (15,55,82) have mixed types. Specify dtype option on import or set low_memory=False.\n",
      "  df = pd.read_csv(DF_input_old + old_csv)\n",
      " 76%|█████████████████████████████████████████████████████████████▉                    | 34/45 [05:57<01:58, 10.73s/it]"
     ]
    },
    {
     "name": "stdout",
     "output_type": "stream",
     "text": [
      "Parsing csv: parsedX_4000000.csv\n"
     ]
    },
    {
     "name": "stderr",
     "output_type": "stream",
     "text": [
      " 78%|███████████████████████████████████████████████████████████████▊                  | 35/45 [06:10<01:53, 11.38s/it]"
     ]
    },
    {
     "name": "stdout",
     "output_type": "stream",
     "text": [
      "Parsing csv: parsedX_4100000.csv\n"
     ]
    },
    {
     "name": "stderr",
     "output_type": "stream",
     "text": [
      "C:\\Users\\svalb\\AppData\\Local\\Temp\\ipykernel_18048\\1547794611.py:11: DtypeWarning: Columns (13,66,77) have mixed types. Specify dtype option on import or set low_memory=False.\n",
      "  df = pd.read_csv(DF_input_old + old_csv)\n",
      " 80%|█████████████████████████████████████████████████████████████████▌                | 36/45 [06:23<01:46, 11.88s/it]"
     ]
    },
    {
     "name": "stdout",
     "output_type": "stream",
     "text": [
      "Parsing csv: parsedX_4200000.csv\n"
     ]
    },
    {
     "name": "stderr",
     "output_type": "stream",
     "text": [
      "C:\\Users\\svalb\\AppData\\Local\\Temp\\ipykernel_18048\\1547794611.py:11: DtypeWarning: Columns (13,64,75) have mixed types. Specify dtype option on import or set low_memory=False.\n",
      "  df = pd.read_csv(DF_input_old + old_csv)\n",
      " 82%|███████████████████████████████████████████████████████████████████▍              | 37/45 [06:36<01:37, 12.21s/it]"
     ]
    },
    {
     "name": "stdout",
     "output_type": "stream",
     "text": [
      "Parsing csv: parsedX_4300000.csv\n"
     ]
    },
    {
     "name": "stderr",
     "output_type": "stream",
     "text": [
      "C:\\Users\\svalb\\AppData\\Local\\Temp\\ipykernel_18048\\1547794611.py:11: DtypeWarning: Columns (13,65,76) have mixed types. Specify dtype option on import or set low_memory=False.\n",
      "  df = pd.read_csv(DF_input_old + old_csv)\n",
      " 84%|█████████████████████████████████████████████████████████████████████▏            | 38/45 [06:49<01:26, 12.39s/it]"
     ]
    },
    {
     "name": "stdout",
     "output_type": "stream",
     "text": [
      "Parsing csv: parsedX_4400000.csv\n"
     ]
    },
    {
     "name": "stderr",
     "output_type": "stream",
     "text": [
      " 87%|███████████████████████████████████████████████████████████████████████           | 39/45 [07:01<01:13, 12.24s/it]"
     ]
    },
    {
     "name": "stdout",
     "output_type": "stream",
     "text": [
      "Parsing csv: parsedX_4454000.csv\n"
     ]
    },
    {
     "name": "stderr",
     "output_type": "stream",
     "text": [
      " 89%|████████████████████████████████████████████████████████████████████████▉         | 40/45 [07:05<00:49,  9.81s/it]"
     ]
    },
    {
     "name": "stdout",
     "output_type": "stream",
     "text": [
      "Parsing csv: parsedX_500000.csv\n"
     ]
    },
    {
     "name": "stderr",
     "output_type": "stream",
     "text": [
      " 91%|██████████████████████████████████████████████████████████████████████████▋       | 41/45 [07:13<00:37,  9.34s/it]"
     ]
    },
    {
     "name": "stdout",
     "output_type": "stream",
     "text": [
      "Parsing csv: parsedX_600000.csv\n"
     ]
    },
    {
     "name": "stderr",
     "output_type": "stream",
     "text": [
      " 93%|████████████████████████████████████████████████████████████████████████████▌     | 42/45 [07:22<00:27,  9.00s/it]"
     ]
    },
    {
     "name": "stdout",
     "output_type": "stream",
     "text": [
      "Parsing csv: parsedX_700000.csv\n"
     ]
    },
    {
     "name": "stderr",
     "output_type": "stream",
     "text": [
      " 96%|██████████████████████████████████████████████████████████████████████████████▎   | 43/45 [07:30<00:17,  8.86s/it]"
     ]
    },
    {
     "name": "stdout",
     "output_type": "stream",
     "text": [
      "Parsing csv: parsedX_800000.csv\n"
     ]
    },
    {
     "name": "stderr",
     "output_type": "stream",
     "text": [
      " 98%|████████████████████████████████████████████████████████████████████████████████▏ | 44/45 [07:39<00:08,  8.85s/it]"
     ]
    },
    {
     "name": "stdout",
     "output_type": "stream",
     "text": [
      "Parsing csv: parsedX_900000.csv\n"
     ]
    },
    {
     "name": "stderr",
     "output_type": "stream",
     "text": [
      "100%|██████████████████████████████████████████████████████████████████████████████████| 45/45 [07:48<00:00, 10.42s/it]\n",
      "  0%|                                                                                            | 0/4 [00:00<?, ?it/s]"
     ]
    },
    {
     "name": "stdout",
     "output_type": "stream",
     "text": [
      "Parsing csv: parsedXMLs_first_upd_100000.csv\n"
     ]
    },
    {
     "name": "stderr",
     "output_type": "stream",
     "text": [
      "C:\\Users\\svalb\\AppData\\Local\\Temp\\ipykernel_18048\\1547794611.py:18: DtypeWarning: Columns (12,14,24) have mixed types. Specify dtype option on import or set low_memory=False.\n",
      "  df = pd.read_csv(DF_input_new + new_csv)\n",
      " 25%|█████████████████████                                                               | 1/4 [00:15<00:45, 15.26s/it]"
     ]
    },
    {
     "name": "stdout",
     "output_type": "stream",
     "text": [
      "Parsing csv: parsedXMLs_first_upd_200000.csv\n"
     ]
    },
    {
     "name": "stderr",
     "output_type": "stream",
     "text": [
      "C:\\Users\\svalb\\AppData\\Local\\Temp\\ipykernel_18048\\1547794611.py:18: DtypeWarning: Columns (10,12,22) have mixed types. Specify dtype option on import or set low_memory=False.\n",
      "  df = pd.read_csv(DF_input_new + new_csv)\n",
      " 50%|██████████████████████████████████████████                                          | 2/4 [00:30<00:29, 14.96s/it]"
     ]
    },
    {
     "name": "stdout",
     "output_type": "stream",
     "text": [
      "Parsing csv: parsedXMLs_first_upd_300000.csv\n"
     ]
    },
    {
     "name": "stderr",
     "output_type": "stream",
     "text": [
      "C:\\Users\\svalb\\AppData\\Local\\Temp\\ipykernel_18048\\1547794611.py:18: DtypeWarning: Columns (13,15,25) have mixed types. Specify dtype option on import or set low_memory=False.\n",
      "  df = pd.read_csv(DF_input_new + new_csv)\n",
      " 75%|███████████████████████████████████████████████████████████████                     | 3/4 [00:44<00:14, 14.73s/it]"
     ]
    },
    {
     "name": "stdout",
     "output_type": "stream",
     "text": [
      "Parsing csv: parsedXMLs_first_upd_340800.csv\n"
     ]
    },
    {
     "name": "stderr",
     "output_type": "stream",
     "text": [
      "100%|████████████████████████████████████████████████████████████████████████████████████| 4/4 [00:50<00:00, 12.54s/it]\n"
     ]
    }
   ],
   "source": [
    "# Remove duplicated PMIDs in old/predate dataset, save both datasets to the combined directory\n",
    "for pred_csv in tqdm(list_dfs_papers_predate):\n",
    "    print(f\"Parsing csv: {pred_csv}\")\n",
    "    df = pd.read_csv(DF_input_predate + pred_csv)\n",
    "    df_save = df.loc[~df[\"PMID\"].isin(duplicated_PMIDs_old_pred)]\n",
    "    df_save.to_csv(DF_output_common + pred_csv, index = False)\n",
    "    del df, df_save\n",
    "\n",
    "for old_csv in tqdm(list_dfs_papers_old):\n",
    "    print(f\"Parsing csv: {old_csv}\")\n",
    "    df = pd.read_csv(DF_input_old + old_csv)\n",
    "    df_save = df.loc[~df[\"PMID\"].isin(duplicated_PMIDs_old_new)]\n",
    "    df_save.to_csv(DF_output_common + old_csv, index = False)\n",
    "    del df, df_save\n",
    "\n",
    "for new_csv in tqdm(list_dfs_papers_new):\n",
    "    print(f\"Parsing csv: {new_csv}\")\n",
    "    df = pd.read_csv(DF_input_new + new_csv)\n",
    "    df.to_csv(DF_output_common + new_csv, index = False)"
   ]
  },
  {
   "cell_type": "code",
   "execution_count": null,
   "id": "c12f7dac-8793-41a2-a08b-dc7d4b84ad5c",
   "metadata": {},
   "outputs": [],
   "source": []
  }
 ],
 "metadata": {
  "kernelspec": {
   "display_name": "Python 3 (ipykernel)",
   "language": "python",
   "name": "python3"
  },
  "language_info": {
   "codemirror_mode": {
    "name": "ipython",
    "version": 3
   },
   "file_extension": ".py",
   "mimetype": "text/x-python",
   "name": "python",
   "nbconvert_exporter": "python",
   "pygments_lexer": "ipython3",
   "version": "3.13.2"
  }
 },
 "nbformat": 4,
 "nbformat_minor": 5
}
