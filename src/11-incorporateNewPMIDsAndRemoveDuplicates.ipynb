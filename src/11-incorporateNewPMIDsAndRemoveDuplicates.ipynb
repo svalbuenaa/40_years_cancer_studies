{
 "cells": [
  {
   "cell_type": "code",
   "execution_count": 1,
   "id": "5264ae44-962e-4de5-8d68-b13cf3b99fd6",
   "metadata": {},
   "outputs": [],
   "source": [
    "import os\n",
    "import pandas as pd\n",
    "from tqdm import tqdm"
   ]
  },
  {
   "cell_type": "code",
   "execution_count": 18,
   "id": "91bac403-6c22-429f-a616-87aeff1e748f",
   "metadata": {},
   "outputs": [
    {
     "name": "stdin",
     "output_type": "stream",
     "text": [
      " C:\\Users\\svalb\\OneDrive\\Escritorio\\Data_40_years_cancer_studies\\parsedXMLs_combined_until_Sept2025_match_GLOBOCAN\\\n"
     ]
    }
   ],
   "source": [
    "# CSVs from previous downloads\n",
    "DF_input_consolidated = input().strip()"
   ]
  },
  {
   "cell_type": "code",
   "execution_count": 19,
   "id": "6f30edaa-d749-4d81-a136-d50b8bdf0ed7",
   "metadata": {},
   "outputs": [
    {
     "name": "stdin",
     "output_type": "stream",
     "text": [
      " C:\\Users\\svalb\\OneDrive\\Escritorio\\Data_40_years_cancer_studies\\parsedXMLs_update_2025-09_match_GLOBOCAN\\\n"
     ]
    }
   ],
   "source": [
    "# CSVs from new download\n",
    "DF_input_new = input().strip()"
   ]
  },
  {
   "cell_type": "code",
   "execution_count": 20,
   "id": "4535852c-c52c-4d40-a410-096058004a2c",
   "metadata": {},
   "outputs": [
    {
     "name": "stdin",
     "output_type": "stream",
     "text": [
      " C:\\Users\\svalb\\OneDrive\\Escritorio\\Data_40_years_cancer_studies\\parsedXMLs_combined_until_Oct2025_match_GLOBOCAN\\\n"
     ]
    }
   ],
   "source": [
    "# New directory for all deduplicated csvs for ingestion and aggregates calculation\n",
    "DF_output_common = input().strip()\n",
    "\n",
    "if not os.path.exists(DF_output_common):\n",
    "    os.mkdir(DF_output_common)\n",
    "\n",
    "if len(os.listdir(DF_output_common)) > 0:\n",
    "    raise OSError(\"OUTPUT DIR IS NOT EMPTY, EMPTY IT TO PREVENT ERRORS IN DATA AGGREGATION\")"
   ]
  },
  {
   "cell_type": "code",
   "execution_count": 21,
   "id": "e556635c-8bdf-42ef-8058-9fc335ddb07d",
   "metadata": {},
   "outputs": [
    {
     "data": {
      "text/plain": [
       "['parsedXMLs_first_pred_26400.csv',\n",
       " 'parsedXMLs_first_upd_100000.csv',\n",
       " 'parsedXMLs_first_upd_200000.csv',\n",
       " 'parsedXMLs_first_upd_300000.csv',\n",
       " 'parsedXMLs_first_upd_340800.csv',\n",
       " 'parsedX_100000.csv',\n",
       " 'parsedX_1000000.csv',\n",
       " 'parsedX_1100000.csv',\n",
       " 'parsedX_1200000.csv',\n",
       " 'parsedX_1300000.csv',\n",
       " 'parsedX_1400000.csv',\n",
       " 'parsedX_1500000.csv',\n",
       " 'parsedX_1600000.csv',\n",
       " 'parsedX_1700000.csv',\n",
       " 'parsedX_1800000.csv',\n",
       " 'parsedX_1900000.csv',\n",
       " 'parsedX_200000.csv',\n",
       " 'parsedX_2000000.csv',\n",
       " 'parsedX_2100000.csv',\n",
       " 'parsedX_2200000.csv',\n",
       " 'parsedX_2300000.csv',\n",
       " 'parsedX_2400000.csv',\n",
       " 'parsedX_2500000.csv',\n",
       " 'parsedX_2600000.csv',\n",
       " 'parsedX_2700000.csv',\n",
       " 'parsedX_2800000.csv',\n",
       " 'parsedX_2900000.csv',\n",
       " 'parsedX_300000.csv',\n",
       " 'parsedX_3000000.csv',\n",
       " 'parsedX_3100000.csv',\n",
       " 'parsedX_3200000.csv',\n",
       " 'parsedX_3300000.csv',\n",
       " 'parsedX_3400000.csv',\n",
       " 'parsedX_3500000.csv',\n",
       " 'parsedX_3600000.csv',\n",
       " 'parsedX_3700000.csv',\n",
       " 'parsedX_3800000.csv',\n",
       " 'parsedX_3900000.csv',\n",
       " 'parsedX_400000.csv',\n",
       " 'parsedX_4000000.csv',\n",
       " 'parsedX_4100000.csv',\n",
       " 'parsedX_4200000.csv',\n",
       " 'parsedX_4300000.csv',\n",
       " 'parsedX_4400000.csv',\n",
       " 'parsedX_4454000.csv',\n",
       " 'parsedX_500000.csv',\n",
       " 'parsedX_600000.csv',\n",
       " 'parsedX_700000.csv',\n",
       " 'parsedX_800000.csv',\n",
       " 'parsedX_900000.csv']"
      ]
     },
     "execution_count": 21,
     "metadata": {},
     "output_type": "execute_result"
    }
   ],
   "source": [
    "# Import file names of csvs containint previous downloads' articles' data \n",
    "list_dfs_papers_consolidated = []\n",
    "\n",
    "for file in os.listdir(DF_input_consolidated):\n",
    "    if file[-4:] == \".csv\":\n",
    "        list_dfs_papers_consolidated.append(file)\n",
    "\n",
    "list_dfs_papers_consolidated"
   ]
  },
  {
   "cell_type": "code",
   "execution_count": 22,
   "id": "896fb92e-fe82-43f7-89ad-3555eadfd70a",
   "metadata": {},
   "outputs": [
    {
     "data": {
      "text/plain": [
       "['parsedXMLs_update_2025_09_33200.csv']"
      ]
     },
     "execution_count": 22,
     "metadata": {},
     "output_type": "execute_result"
    }
   ],
   "source": [
    "# Import file names of csvs containint new downloads' articles' data \n",
    "list_dfs_papers_new = []\n",
    "\n",
    "for file in os.listdir(DF_input_new):\n",
    "    if file[-4:] == \".csv\":\n",
    "        list_dfs_papers_new.append(file)\n",
    "\n",
    "list_dfs_papers_new"
   ]
  },
  {
   "cell_type": "code",
   "execution_count": 23,
   "id": "693e4e11-50f9-4f02-9e3d-3c7a448640cd",
   "metadata": {
    "scrolled": true
   },
   "outputs": [
    {
     "name": "stderr",
     "output_type": "stream",
     "text": [
      "  0%|                                                                                           | 0/50 [00:00<?, ?it/s]"
     ]
    },
    {
     "name": "stdout",
     "output_type": "stream",
     "text": [
      "Parsing csv: parsedXMLs_first_pred_26400.csv\n"
     ]
    },
    {
     "name": "stderr",
     "output_type": "stream",
     "text": [
      "  2%|█▋                                                                                 | 1/50 [00:00<00:24,  2.00it/s]"
     ]
    },
    {
     "name": "stdout",
     "output_type": "stream",
     "text": [
      "Parsing csv: parsedXMLs_first_upd_100000.csv\n"
     ]
    },
    {
     "name": "stderr",
     "output_type": "stream",
     "text": [
      "C:\\Users\\svalb\\AppData\\Local\\Temp\\ipykernel_20092\\529317256.py:6: DtypeWarning: Columns (12,14,24) have mixed types. Specify dtype option on import or set low_memory=False.\n",
      "  df = pd.read_csv(DF_input_consolidated + csv)\n",
      "  4%|███▎                                                                               | 2/50 [00:04<02:16,  2.85s/it]"
     ]
    },
    {
     "name": "stdout",
     "output_type": "stream",
     "text": [
      "Parsing csv: parsedXMLs_first_upd_200000.csv\n"
     ]
    },
    {
     "name": "stderr",
     "output_type": "stream",
     "text": [
      "C:\\Users\\svalb\\AppData\\Local\\Temp\\ipykernel_20092\\529317256.py:6: DtypeWarning: Columns (10,12,22) have mixed types. Specify dtype option on import or set low_memory=False.\n",
      "  df = pd.read_csv(DF_input_consolidated + csv)\n",
      "  6%|████▉                                                                              | 3/50 [00:09<02:49,  3.60s/it]"
     ]
    },
    {
     "name": "stdout",
     "output_type": "stream",
     "text": [
      "Parsing csv: parsedXMLs_first_upd_300000.csv\n"
     ]
    },
    {
     "name": "stderr",
     "output_type": "stream",
     "text": [
      "C:\\Users\\svalb\\AppData\\Local\\Temp\\ipykernel_20092\\529317256.py:6: DtypeWarning: Columns (13,15,25) have mixed types. Specify dtype option on import or set low_memory=False.\n",
      "  df = pd.read_csv(DF_input_consolidated + csv)\n",
      "  8%|██████▋                                                                            | 4/50 [00:13<02:59,  3.90s/it]"
     ]
    },
    {
     "name": "stdout",
     "output_type": "stream",
     "text": [
      "Parsing csv: parsedXMLs_first_upd_340800.csv\n"
     ]
    },
    {
     "name": "stderr",
     "output_type": "stream",
     "text": [
      " 10%|████████▎                                                                          | 5/50 [00:15<02:21,  3.13s/it]"
     ]
    },
    {
     "name": "stdout",
     "output_type": "stream",
     "text": [
      "Parsing csv: parsedX_100000.csv\n"
     ]
    },
    {
     "name": "stderr",
     "output_type": "stream",
     "text": [
      " 12%|█████████▉                                                                         | 6/50 [00:17<02:03,  2.80s/it]"
     ]
    },
    {
     "name": "stdout",
     "output_type": "stream",
     "text": [
      "Parsing csv: parsedX_1000000.csv\n"
     ]
    },
    {
     "name": "stderr",
     "output_type": "stream",
     "text": [
      " 14%|███████████▌                                                                       | 7/50 [00:20<01:59,  2.79s/it]"
     ]
    },
    {
     "name": "stdout",
     "output_type": "stream",
     "text": [
      "Parsing csv: parsedX_1100000.csv\n"
     ]
    },
    {
     "name": "stderr",
     "output_type": "stream",
     "text": [
      " 16%|█████████████▎                                                                     | 8/50 [00:23<01:56,  2.78s/it]"
     ]
    },
    {
     "name": "stdout",
     "output_type": "stream",
     "text": [
      "Parsing csv: parsedX_1200000.csv\n"
     ]
    },
    {
     "name": "stderr",
     "output_type": "stream",
     "text": [
      " 18%|██████████████▉                                                                    | 9/50 [00:26<01:53,  2.77s/it]"
     ]
    },
    {
     "name": "stdout",
     "output_type": "stream",
     "text": [
      "Parsing csv: parsedX_1300000.csv\n"
     ]
    },
    {
     "name": "stderr",
     "output_type": "stream",
     "text": [
      " 20%|████████████████▍                                                                 | 10/50 [00:28<01:49,  2.75s/it]"
     ]
    },
    {
     "name": "stdout",
     "output_type": "stream",
     "text": [
      "Parsing csv: parsedX_1400000.csv\n"
     ]
    },
    {
     "name": "stderr",
     "output_type": "stream",
     "text": [
      "C:\\Users\\svalb\\AppData\\Local\\Temp\\ipykernel_20092\\529317256.py:6: DtypeWarning: Columns (78) have mixed types. Specify dtype option on import or set low_memory=False.\n",
      "  df = pd.read_csv(DF_input_consolidated + csv)\n",
      " 22%|██████████████████                                                                | 11/50 [00:31<01:49,  2.81s/it]"
     ]
    },
    {
     "name": "stdout",
     "output_type": "stream",
     "text": [
      "Parsing csv: parsedX_1500000.csv\n"
     ]
    },
    {
     "name": "stderr",
     "output_type": "stream",
     "text": [
      "C:\\Users\\svalb\\AppData\\Local\\Temp\\ipykernel_20092\\529317256.py:6: DtypeWarning: Columns (79) have mixed types. Specify dtype option on import or set low_memory=False.\n",
      "  df = pd.read_csv(DF_input_consolidated + csv)\n",
      " 24%|███████████████████▋                                                              | 12/50 [00:34<01:49,  2.87s/it]"
     ]
    },
    {
     "name": "stdout",
     "output_type": "stream",
     "text": [
      "Parsing csv: parsedX_1600000.csv\n"
     ]
    },
    {
     "name": "stderr",
     "output_type": "stream",
     "text": [
      " 26%|█████████████████████▎                                                            | 13/50 [00:37<01:45,  2.86s/it]"
     ]
    },
    {
     "name": "stdout",
     "output_type": "stream",
     "text": [
      "Parsing csv: parsedX_1700000.csv\n"
     ]
    },
    {
     "name": "stderr",
     "output_type": "stream",
     "text": [
      " 28%|██████████████████████▉                                                           | 14/50 [00:40<01:41,  2.82s/it]"
     ]
    },
    {
     "name": "stdout",
     "output_type": "stream",
     "text": [
      "Parsing csv: parsedX_1800000.csv\n"
     ]
    },
    {
     "name": "stderr",
     "output_type": "stream",
     "text": [
      "C:\\Users\\svalb\\AppData\\Local\\Temp\\ipykernel_20092\\529317256.py:6: DtypeWarning: Columns (13,64,75) have mixed types. Specify dtype option on import or set low_memory=False.\n",
      "  df = pd.read_csv(DF_input_consolidated + csv)\n",
      " 30%|████████████████████████▌                                                         | 15/50 [00:43<01:40,  2.87s/it]"
     ]
    },
    {
     "name": "stdout",
     "output_type": "stream",
     "text": [
      "Parsing csv: parsedX_1900000.csv\n"
     ]
    },
    {
     "name": "stderr",
     "output_type": "stream",
     "text": [
      "C:\\Users\\svalb\\AppData\\Local\\Temp\\ipykernel_20092\\529317256.py:6: DtypeWarning: Columns (13,63,74) have mixed types. Specify dtype option on import or set low_memory=False.\n",
      "  df = pd.read_csv(DF_input_consolidated + csv)\n",
      " 32%|██████████████████████████▏                                                       | 16/50 [00:46<01:39,  2.93s/it]"
     ]
    },
    {
     "name": "stdout",
     "output_type": "stream",
     "text": [
      "Parsing csv: parsedX_200000.csv\n"
     ]
    },
    {
     "name": "stderr",
     "output_type": "stream",
     "text": [
      " 34%|███████████████████████████▉                                                      | 17/50 [00:48<01:28,  2.69s/it]"
     ]
    },
    {
     "name": "stdout",
     "output_type": "stream",
     "text": [
      "Parsing csv: parsedX_2000000.csv\n"
     ]
    },
    {
     "name": "stderr",
     "output_type": "stream",
     "text": [
      " 36%|█████████████████████████████▌                                                    | 18/50 [00:51<01:29,  2.80s/it]"
     ]
    },
    {
     "name": "stdout",
     "output_type": "stream",
     "text": [
      "Parsing csv: parsedX_2100000.csv\n"
     ]
    },
    {
     "name": "stderr",
     "output_type": "stream",
     "text": [
      " 38%|███████████████████████████████▏                                                  | 19/50 [00:54<01:29,  2.89s/it]"
     ]
    },
    {
     "name": "stdout",
     "output_type": "stream",
     "text": [
      "Parsing csv: parsedX_2200000.csv\n"
     ]
    },
    {
     "name": "stderr",
     "output_type": "stream",
     "text": [
      "C:\\Users\\svalb\\AppData\\Local\\Temp\\ipykernel_20092\\529317256.py:6: DtypeWarning: Columns (13,66,77) have mixed types. Specify dtype option on import or set low_memory=False.\n",
      "  df = pd.read_csv(DF_input_consolidated + csv)\n",
      " 40%|████████████████████████████████▊                                                 | 20/50 [00:58<01:32,  3.07s/it]"
     ]
    },
    {
     "name": "stdout",
     "output_type": "stream",
     "text": [
      "Parsing csv: parsedX_2300000.csv\n"
     ]
    },
    {
     "name": "stderr",
     "output_type": "stream",
     "text": [
      "C:\\Users\\svalb\\AppData\\Local\\Temp\\ipykernel_20092\\529317256.py:6: DtypeWarning: Columns (13,65,76) have mixed types. Specify dtype option on import or set low_memory=False.\n",
      "  df = pd.read_csv(DF_input_consolidated + csv)\n",
      " 42%|██████████████████████████████████▍                                               | 21/50 [01:02<01:37,  3.35s/it]"
     ]
    },
    {
     "name": "stdout",
     "output_type": "stream",
     "text": [
      "Parsing csv: parsedX_2400000.csv\n"
     ]
    },
    {
     "name": "stderr",
     "output_type": "stream",
     "text": [
      "C:\\Users\\svalb\\AppData\\Local\\Temp\\ipykernel_20092\\529317256.py:6: DtypeWarning: Columns (13,67,78) have mixed types. Specify dtype option on import or set low_memory=False.\n",
      "  df = pd.read_csv(DF_input_consolidated + csv)\n",
      " 44%|████████████████████████████████████                                              | 22/50 [01:05<01:37,  3.47s/it]"
     ]
    },
    {
     "name": "stdout",
     "output_type": "stream",
     "text": [
      "Parsing csv: parsedX_2500000.csv\n"
     ]
    },
    {
     "name": "stderr",
     "output_type": "stream",
     "text": [
      "C:\\Users\\svalb\\AppData\\Local\\Temp\\ipykernel_20092\\529317256.py:6: DtypeWarning: Columns (13,64,75) have mixed types. Specify dtype option on import or set low_memory=False.\n",
      "  df = pd.read_csv(DF_input_consolidated + csv)\n",
      " 46%|█████████████████████████████████████▋                                            | 23/50 [01:09<01:38,  3.63s/it]"
     ]
    },
    {
     "name": "stdout",
     "output_type": "stream",
     "text": [
      "Parsing csv: parsedX_2600000.csv\n"
     ]
    },
    {
     "name": "stderr",
     "output_type": "stream",
     "text": [
      "C:\\Users\\svalb\\AppData\\Local\\Temp\\ipykernel_20092\\529317256.py:6: DtypeWarning: Columns (14,65,76) have mixed types. Specify dtype option on import or set low_memory=False.\n",
      "  df = pd.read_csv(DF_input_consolidated + csv)\n",
      " 48%|███████████████████████████████████████▎                                          | 24/50 [01:14<01:39,  3.83s/it]"
     ]
    },
    {
     "name": "stdout",
     "output_type": "stream",
     "text": [
      "Parsing csv: parsedX_2700000.csv\n"
     ]
    },
    {
     "name": "stderr",
     "output_type": "stream",
     "text": [
      "C:\\Users\\svalb\\AppData\\Local\\Temp\\ipykernel_20092\\529317256.py:6: DtypeWarning: Columns (13,64,75) have mixed types. Specify dtype option on import or set low_memory=False.\n",
      "  df = pd.read_csv(DF_input_consolidated + csv)\n",
      " 50%|█████████████████████████████████████████                                         | 25/50 [01:18<01:37,  3.90s/it]"
     ]
    },
    {
     "name": "stdout",
     "output_type": "stream",
     "text": [
      "Parsing csv: parsedX_2800000.csv\n"
     ]
    },
    {
     "name": "stderr",
     "output_type": "stream",
     "text": [
      "C:\\Users\\svalb\\AppData\\Local\\Temp\\ipykernel_20092\\529317256.py:6: DtypeWarning: Columns (13,65,76) have mixed types. Specify dtype option on import or set low_memory=False.\n",
      "  df = pd.read_csv(DF_input_consolidated + csv)\n",
      " 52%|██████████████████████████████████████████▋                                       | 26/50 [01:22<01:34,  3.93s/it]"
     ]
    },
    {
     "name": "stdout",
     "output_type": "stream",
     "text": [
      "Parsing csv: parsedX_2900000.csv\n"
     ]
    },
    {
     "name": "stderr",
     "output_type": "stream",
     "text": [
      "C:\\Users\\svalb\\AppData\\Local\\Temp\\ipykernel_20092\\529317256.py:6: DtypeWarning: Columns (13,65,75) have mixed types. Specify dtype option on import or set low_memory=False.\n",
      "  df = pd.read_csv(DF_input_consolidated + csv)\n",
      " 54%|████████████████████████████████████████████▎                                     | 27/50 [01:26<01:31,  3.97s/it]"
     ]
    },
    {
     "name": "stdout",
     "output_type": "stream",
     "text": [
      "Parsing csv: parsedX_300000.csv\n"
     ]
    },
    {
     "name": "stderr",
     "output_type": "stream",
     "text": [
      "C:\\Users\\svalb\\AppData\\Local\\Temp\\ipykernel_20092\\529317256.py:6: DtypeWarning: Columns (15,54) have mixed types. Specify dtype option on import or set low_memory=False.\n",
      "  df = pd.read_csv(DF_input_consolidated + csv)\n",
      " 56%|█████████████████████████████████████████████▉                                    | 28/50 [01:28<01:14,  3.37s/it]"
     ]
    },
    {
     "name": "stdout",
     "output_type": "stream",
     "text": [
      "Parsing csv: parsedX_3000000.csv\n"
     ]
    },
    {
     "name": "stderr",
     "output_type": "stream",
     "text": [
      "C:\\Users\\svalb\\AppData\\Local\\Temp\\ipykernel_20092\\529317256.py:6: DtypeWarning: Columns (13,66,77) have mixed types. Specify dtype option on import or set low_memory=False.\n",
      "  df = pd.read_csv(DF_input_consolidated + csv)\n",
      " 58%|███████████████████████████████████████████████▌                                  | 29/50 [01:32<01:16,  3.66s/it]"
     ]
    },
    {
     "name": "stdout",
     "output_type": "stream",
     "text": [
      "Parsing csv: parsedX_3100000.csv\n"
     ]
    },
    {
     "name": "stderr",
     "output_type": "stream",
     "text": [
      "C:\\Users\\svalb\\AppData\\Local\\Temp\\ipykernel_20092\\529317256.py:6: DtypeWarning: Columns (13,65,76) have mixed types. Specify dtype option on import or set low_memory=False.\n",
      "  df = pd.read_csv(DF_input_consolidated + csv)\n",
      " 60%|█████████████████████████████████████████████████▏                                | 30/50 [01:36<01:15,  3.80s/it]"
     ]
    },
    {
     "name": "stdout",
     "output_type": "stream",
     "text": [
      "Parsing csv: parsedX_3200000.csv\n"
     ]
    },
    {
     "name": "stderr",
     "output_type": "stream",
     "text": [
      "C:\\Users\\svalb\\AppData\\Local\\Temp\\ipykernel_20092\\529317256.py:6: DtypeWarning: Columns (13,67,78) have mixed types. Specify dtype option on import or set low_memory=False.\n",
      "  df = pd.read_csv(DF_input_consolidated + csv)\n",
      " 62%|██████████████████████████████████████████████████▊                               | 31/50 [01:40<01:13,  3.86s/it]"
     ]
    },
    {
     "name": "stdout",
     "output_type": "stream",
     "text": [
      "Parsing csv: parsedX_3300000.csv\n"
     ]
    },
    {
     "name": "stderr",
     "output_type": "stream",
     "text": [
      "C:\\Users\\svalb\\AppData\\Local\\Temp\\ipykernel_20092\\529317256.py:6: DtypeWarning: Columns (13,65,76) have mixed types. Specify dtype option on import or set low_memory=False.\n",
      "  df = pd.read_csv(DF_input_consolidated + csv)\n",
      " 64%|████████████████████████████████████████████████████▍                             | 32/50 [01:45<01:12,  4.03s/it]"
     ]
    },
    {
     "name": "stdout",
     "output_type": "stream",
     "text": [
      "Parsing csv: parsedX_3400000.csv\n"
     ]
    },
    {
     "name": "stderr",
     "output_type": "stream",
     "text": [
      "C:\\Users\\svalb\\AppData\\Local\\Temp\\ipykernel_20092\\529317256.py:6: DtypeWarning: Columns (13,65,76) have mixed types. Specify dtype option on import or set low_memory=False.\n",
      "  df = pd.read_csv(DF_input_consolidated + csv)\n",
      " 66%|██████████████████████████████████████████████████████                            | 33/50 [01:49<01:09,  4.10s/it]"
     ]
    },
    {
     "name": "stdout",
     "output_type": "stream",
     "text": [
      "Parsing csv: parsedX_3500000.csv\n"
     ]
    },
    {
     "name": "stderr",
     "output_type": "stream",
     "text": [
      "C:\\Users\\svalb\\AppData\\Local\\Temp\\ipykernel_20092\\529317256.py:6: DtypeWarning: Columns (13,64,75) have mixed types. Specify dtype option on import or set low_memory=False.\n",
      "  df = pd.read_csv(DF_input_consolidated + csv)\n",
      " 68%|███████████████████████████████████████████████████████▊                          | 34/50 [01:53<01:06,  4.14s/it]"
     ]
    },
    {
     "name": "stdout",
     "output_type": "stream",
     "text": [
      "Parsing csv: parsedX_3600000.csv\n"
     ]
    },
    {
     "name": "stderr",
     "output_type": "stream",
     "text": [
      "C:\\Users\\svalb\\AppData\\Local\\Temp\\ipykernel_20092\\529317256.py:6: DtypeWarning: Columns (14,66,77) have mixed types. Specify dtype option on import or set low_memory=False.\n",
      "  df = pd.read_csv(DF_input_consolidated + csv)\n",
      " 70%|█████████████████████████████████████████████████████████▍                        | 35/50 [01:57<01:02,  4.19s/it]"
     ]
    },
    {
     "name": "stdout",
     "output_type": "stream",
     "text": [
      "Parsing csv: parsedX_3700000.csv\n"
     ]
    },
    {
     "name": "stderr",
     "output_type": "stream",
     "text": [
      " 72%|███████████████████████████████████████████████████████████                       | 36/50 [02:02<01:00,  4.29s/it]"
     ]
    },
    {
     "name": "stdout",
     "output_type": "stream",
     "text": [
      "Parsing csv: parsedX_3800000.csv\n"
     ]
    },
    {
     "name": "stderr",
     "output_type": "stream",
     "text": [
      "C:\\Users\\svalb\\AppData\\Local\\Temp\\ipykernel_20092\\529317256.py:6: DtypeWarning: Columns (15,67,78) have mixed types. Specify dtype option on import or set low_memory=False.\n",
      "  df = pd.read_csv(DF_input_consolidated + csv)\n",
      " 74%|████████████████████████████████████████████████████████████▋                     | 37/50 [02:06<00:55,  4.28s/it]"
     ]
    },
    {
     "name": "stdout",
     "output_type": "stream",
     "text": [
      "Parsing csv: parsedX_3900000.csv\n"
     ]
    },
    {
     "name": "stderr",
     "output_type": "stream",
     "text": [
      "C:\\Users\\svalb\\AppData\\Local\\Temp\\ipykernel_20092\\529317256.py:6: DtypeWarning: Columns (14,65,76) have mixed types. Specify dtype option on import or set low_memory=False.\n",
      "  df = pd.read_csv(DF_input_consolidated + csv)\n",
      " 76%|██████████████████████████████████████████████████████████████▎                   | 38/50 [02:11<00:52,  4.40s/it]"
     ]
    },
    {
     "name": "stdout",
     "output_type": "stream",
     "text": [
      "Parsing csv: parsedX_400000.csv\n"
     ]
    },
    {
     "name": "stderr",
     "output_type": "stream",
     "text": [
      "C:\\Users\\svalb\\AppData\\Local\\Temp\\ipykernel_20092\\529317256.py:6: DtypeWarning: Columns (15,55,82) have mixed types. Specify dtype option on import or set low_memory=False.\n",
      "  df = pd.read_csv(DF_input_consolidated + csv)\n",
      " 78%|███████████████████████████████████████████████████████████████▉                  | 39/50 [02:13<00:39,  3.62s/it]"
     ]
    },
    {
     "name": "stdout",
     "output_type": "stream",
     "text": [
      "Parsing csv: parsedX_4000000.csv\n"
     ]
    },
    {
     "name": "stderr",
     "output_type": "stream",
     "text": [
      " 80%|█████████████████████████████████████████████████████████████████▌                | 40/50 [02:17<00:38,  3.82s/it]"
     ]
    },
    {
     "name": "stdout",
     "output_type": "stream",
     "text": [
      "Parsing csv: parsedX_4100000.csv\n"
     ]
    },
    {
     "name": "stderr",
     "output_type": "stream",
     "text": [
      "C:\\Users\\svalb\\AppData\\Local\\Temp\\ipykernel_20092\\529317256.py:6: DtypeWarning: Columns (13,66,77) have mixed types. Specify dtype option on import or set low_memory=False.\n",
      "  df = pd.read_csv(DF_input_consolidated + csv)\n",
      " 82%|███████████████████████████████████████████████████████████████████▏              | 41/50 [02:21<00:35,  4.00s/it]"
     ]
    },
    {
     "name": "stdout",
     "output_type": "stream",
     "text": [
      "Parsing csv: parsedX_4200000.csv\n"
     ]
    },
    {
     "name": "stderr",
     "output_type": "stream",
     "text": [
      "C:\\Users\\svalb\\AppData\\Local\\Temp\\ipykernel_20092\\529317256.py:6: DtypeWarning: Columns (13,64,75) have mixed types. Specify dtype option on import or set low_memory=False.\n",
      "  df = pd.read_csv(DF_input_consolidated + csv)\n",
      " 84%|████████████████████████████████████████████████████████████████████▉             | 42/50 [02:26<00:33,  4.16s/it]"
     ]
    },
    {
     "name": "stdout",
     "output_type": "stream",
     "text": [
      "Parsing csv: parsedX_4300000.csv\n"
     ]
    },
    {
     "name": "stderr",
     "output_type": "stream",
     "text": [
      " 86%|██████████████████████████████████████████████████████████████████████▌           | 43/50 [02:30<00:29,  4.22s/it]"
     ]
    },
    {
     "name": "stdout",
     "output_type": "stream",
     "text": [
      "Parsing csv: parsedX_4400000.csv\n"
     ]
    },
    {
     "name": "stderr",
     "output_type": "stream",
     "text": [
      " 88%|████████████████████████████████████████████████████████████████████████▏         | 44/50 [02:34<00:24,  4.07s/it]"
     ]
    },
    {
     "name": "stdout",
     "output_type": "stream",
     "text": [
      "Parsing csv: parsedX_4454000.csv\n"
     ]
    },
    {
     "name": "stderr",
     "output_type": "stream",
     "text": [
      " 90%|█████████████████████████████████████████████████████████████████████████▊        | 45/50 [02:35<00:15,  3.08s/it]"
     ]
    },
    {
     "name": "stdout",
     "output_type": "stream",
     "text": [
      "Parsing csv: parsedX_500000.csv\n"
     ]
    },
    {
     "name": "stderr",
     "output_type": "stream",
     "text": [
      " 92%|███████████████████████████████████████████████████████████████████████████▍      | 46/50 [02:37<00:11,  2.88s/it]"
     ]
    },
    {
     "name": "stdout",
     "output_type": "stream",
     "text": [
      "Parsing csv: parsedX_600000.csv\n"
     ]
    },
    {
     "name": "stderr",
     "output_type": "stream",
     "text": [
      " 94%|█████████████████████████████████████████████████████████████████████████████     | 47/50 [02:40<00:08,  2.73s/it]"
     ]
    },
    {
     "name": "stdout",
     "output_type": "stream",
     "text": [
      "Parsing csv: parsedX_700000.csv\n"
     ]
    },
    {
     "name": "stderr",
     "output_type": "stream",
     "text": [
      " 96%|██████████████████████████████████████████████████████████████████████████████▋   | 48/50 [02:42<00:05,  2.74s/it]"
     ]
    },
    {
     "name": "stdout",
     "output_type": "stream",
     "text": [
      "Parsing csv: parsedX_800000.csv\n"
     ]
    },
    {
     "name": "stderr",
     "output_type": "stream",
     "text": [
      " 98%|████████████████████████████████████████████████████████████████████████████████▎ | 49/50 [02:45<00:02,  2.81s/it]"
     ]
    },
    {
     "name": "stdout",
     "output_type": "stream",
     "text": [
      "Parsing csv: parsedX_900000.csv\n"
     ]
    },
    {
     "name": "stderr",
     "output_type": "stream",
     "text": [
      "100%|██████████████████████████████████████████████████████████████████████████████████| 50/50 [02:48<00:00,  3.37s/it]\n"
     ]
    }
   ],
   "source": [
    "# Extract PMIDs from previous downloads\n",
    "list_consolidated_PMIDs = []\n",
    "\n",
    "for csv in tqdm(list_dfs_papers_consolidated):\n",
    "    print(f\"Parsing csv: {csv}\")\n",
    "    df = pd.read_csv(DF_input_consolidated + csv)\n",
    "    list_consolidated_PMIDs = list_consolidated_PMIDs + df[\"PMID\"].to_list()\n",
    "    del df"
   ]
  },
  {
   "cell_type": "code",
   "execution_count": 24,
   "id": "67baacd1-e4ae-4b49-bab1-4b8a48404f30",
   "metadata": {},
   "outputs": [
    {
     "name": "stderr",
     "output_type": "stream",
     "text": [
      "  0%|                                                                                            | 0/1 [00:00<?, ?it/s]"
     ]
    },
    {
     "name": "stdout",
     "output_type": "stream",
     "text": [
      "Parsing csv: parsedXMLs_update_2025_09_33200.csv\n"
     ]
    },
    {
     "name": "stderr",
     "output_type": "stream",
     "text": [
      "C:\\Users\\svalb\\AppData\\Local\\Temp\\ipykernel_20092\\23799697.py:6: DtypeWarning: Columns (9,37,62) have mixed types. Specify dtype option on import or set low_memory=False.\n",
      "  df = pd.read_csv(DF_input_new + csv)\n",
      "100%|████████████████████████████████████████████████████████████████████████████████████| 1/1 [00:01<00:00,  1.70s/it]\n"
     ]
    }
   ],
   "source": [
    "# Extract PMIDs from current downloads\n",
    "list_new_PMIDs = []\n",
    "\n",
    "for csv in tqdm(list_dfs_papers_new):\n",
    "    print(f\"Parsing csv: {csv}\")\n",
    "    df = pd.read_csv(DF_input_new + csv)\n",
    "    list_new_PMIDs = list_new_PMIDs + df[\"PMID\"].to_list()\n",
    "    del df"
   ]
  },
  {
   "cell_type": "code",
   "execution_count": 25,
   "id": "6c8c7b55-2e19-4330-8f73-a28ffefe91e7",
   "metadata": {},
   "outputs": [
    {
     "data": {
      "text/plain": [
       "4756470"
      ]
     },
     "execution_count": 25,
     "metadata": {},
     "output_type": "execute_result"
    }
   ],
   "source": [
    "# Number of old PMIDs\n",
    "len(list_consolidated_PMIDs)"
   ]
  },
  {
   "cell_type": "code",
   "execution_count": 26,
   "id": "fe95511e-8ac3-4a6e-9d8f-4e2f0ef4ad53",
   "metadata": {},
   "outputs": [
    {
     "name": "stdout",
     "output_type": "stream",
     "text": [
      "[]\n"
     ]
    }
   ],
   "source": [
    "# Identify duplicates in old PMIDs\n",
    "seen_consolidated = set()\n",
    "\n",
    "# List to store duplicates found in the input list\n",
    "duplicates_consolidated_PMIDs = []\n",
    "\n",
    "# Iterate over each element in the old PMIDs list\n",
    "for i in list_consolidated_PMIDs:\n",
    "    if i in seen_consolidated:\n",
    "        duplicates_consolidated_PMIDs.append(i)\n",
    "    else:\n",
    "        seen_consolidated.add(i)\n",
    "\n",
    "print(duplicates_consolidated_PMIDs)"
   ]
  },
  {
   "cell_type": "markdown",
   "id": "52115307-76f1-4916-9d42-f743f97a688b",
   "metadata": {},
   "source": [
    "There are no duplicates in the old PMIDs list"
   ]
  },
  {
   "cell_type": "code",
   "execution_count": 27,
   "id": "8af5ca81-0ee6-4771-8d49-538825dfcdc5",
   "metadata": {},
   "outputs": [
    {
     "data": {
      "text/plain": [
       "33282"
      ]
     },
     "execution_count": 27,
     "metadata": {},
     "output_type": "execute_result"
    }
   ],
   "source": [
    "# Number of new PMIDs\n",
    "len(list_new_PMIDs)"
   ]
  },
  {
   "cell_type": "code",
   "execution_count": 28,
   "id": "bdd692cd-29cc-49eb-b945-4109791ce93d",
   "metadata": {},
   "outputs": [
    {
     "name": "stdout",
     "output_type": "stream",
     "text": [
      "[]\n"
     ]
    }
   ],
   "source": [
    "# Identify duplicates in new PMIDs\n",
    "seen_new = set()\n",
    "\n",
    "# List to store duplicates found in the input list\n",
    "duplicates_new_PMIDs = []\n",
    "\n",
    "# Iterate over each element in the consolidated PMIDs list\n",
    "for i in list_new_PMIDs:\n",
    "    if i in seen_new:\n",
    "        duplicates_new_PMIDs.append(i)\n",
    "    else:\n",
    "        seen_new.add(i)\n",
    "\n",
    "print(duplicates_new_PMIDs)"
   ]
  },
  {
   "cell_type": "markdown",
   "id": "01de9843-b261-4519-b9d3-b3033a87927b",
   "metadata": {},
   "source": [
    "There are no duplicates in the new PMIDs list"
   ]
  },
  {
   "cell_type": "code",
   "execution_count": 29,
   "id": "909e0f1e-45bc-4a43-97a9-ef6f9ac04d47",
   "metadata": {},
   "outputs": [
    {
     "data": {
      "text/plain": [
       "17301"
      ]
     },
     "execution_count": 29,
     "metadata": {},
     "output_type": "execute_result"
    }
   ],
   "source": [
    "# Number of the new PMIDs which were already in the old dataset\n",
    "len(set(list_consolidated_PMIDs).intersection(set(list_new_PMIDs)))"
   ]
  },
  {
   "cell_type": "code",
   "execution_count": 30,
   "id": "89540e6c-2017-4957-b9fb-b197e3a9b986",
   "metadata": {
    "scrolled": true
   },
   "outputs": [
    {
     "data": {
      "text/plain": [
       "[40796163,\n",
       " 40763400,\n",
       " 40960008,\n",
       " 40796171,\n",
       " 40370190,\n",
       " 40927247,\n",
       " 40665104,\n",
       " 40763410,\n",
       " 40960020,\n",
       " 40763413,\n",
       " 40763414,\n",
       " 40763415,\n",
       " 40239127,\n",
       " 40796181,\n",
       " 40763418,\n",
       " 40927254,\n",
       " 40927257,\n",
       " 40435735,\n",
       " 39387164,\n",
       " 40828959,\n",
       " 40828961,\n",
       " 40599585,\n",
       " 40763428,\n",
       " 40927268,\n",
       " 40927270,\n",
       " 40927274,\n",
       " 40730666,\n",
       " 40697900,\n",
       " 40697902,\n",
       " 40960049,\n",
       " 40763445,\n",
       " 39026744,\n",
       " 40239161,\n",
       " 40828987,\n",
       " 40960061,\n",
       " 40992829,\n",
       " 40501311,\n",
       " 40108095,\n",
       " 40632385,\n",
       " 40435777,\n",
       " 40796227,\n",
       " 40566852,\n",
       " 40927305,\n",
       " 40501326,\n",
       " 40665173,\n",
       " 40566871,\n",
       " 40730711,\n",
       " 40763483,\n",
       " 40763484,\n",
       " 40763485,\n",
       " 40632415,\n",
       " 40632416,\n",
       " 40763487,\n",
       " 40763488,\n",
       " 40763489,\n",
       " 40763492,\n",
       " 40796258,\n",
       " 40730722,\n",
       " 40730725,\n",
       " 40763496,\n",
       " 40730726,\n",
       " 40763498,\n",
       " 40730730,\n",
       " 40730731,\n",
       " 40665199,\n",
       " 40534130,\n",
       " 40763512,\n",
       " 40501369,\n",
       " 40468601,\n",
       " 39747707,\n",
       " 40763516,\n",
       " 40829053,\n",
       " 40960126,\n",
       " 40730749,\n",
       " 40370304,\n",
       " 40435841,\n",
       " 40829063,\n",
       " 40796297,\n",
       " 40632460,\n",
       " 40304782,\n",
       " 40763535,\n",
       " 40468622,\n",
       " 40829073,\n",
       " 40730767,\n",
       " 40763539,\n",
       " 40763540,\n",
       " 40468629,\n",
       " 40763542,\n",
       " 40042648,\n",
       " 40042649,\n",
       " 40042650,\n",
       " 40927387,\n",
       " 40927388,\n",
       " 40435867,\n",
       " 40730778,\n",
       " 40829087,\n",
       " 39551131,\n",
       " 40763556,\n",
       " 40698020,\n",
       " 40698021,\n",
       " 40829092,\n",
       " 40698024,\n",
       " 40861865,\n",
       " 40763565,\n",
       " 40435886,\n",
       " 40927410,\n",
       " 40894646,\n",
       " 40927425,\n",
       " 40632514,\n",
       " 40796357,\n",
       " 40304839,\n",
       " 40927437,\n",
       " 40763598,\n",
       " 40763599,\n",
       " 40632528,\n",
       " 39551181,\n",
       " 40632530,\n",
       " 40632531,\n",
       " 40763604,\n",
       " 40796373,\n",
       " 39289043,\n",
       " 40534231,\n",
       " 40960215,\n",
       " 40304856,\n",
       " 40763617,\n",
       " 40763618,\n",
       " 40534241,\n",
       " 40796387,\n",
       " 40042721,\n",
       " 40567012,\n",
       " 40468710,\n",
       " 40607943,\n",
       " 40796396,\n",
       " 40796397,\n",
       " 40567021,\n",
       " 40042734,\n",
       " 40829165,\n",
       " 40796404,\n",
       " 40796409,\n",
       " 40304889,\n",
       " 40763646,\n",
       " 40763647,\n",
       " 40796415,\n",
       " 40796425,\n",
       " 40468746,\n",
       " 40632590,\n",
       " 40632592,\n",
       " 40927507,\n",
       " 40796438,\n",
       " 40927512,\n",
       " 40763673,\n",
       " 40304920,\n",
       " 40927515,\n",
       " 40763676,\n",
       " 39420184,\n",
       " 40730908,\n",
       " 40632607,\n",
       " 40730912,\n",
       " 40730916,\n",
       " 40632620,\n",
       " 40632621,\n",
       " 40436012,\n",
       " 40304942,\n",
       " 40108337,\n",
       " 40927537,\n",
       " 40927544,\n",
       " 40829242,\n",
       " 40960317,\n",
       " 40632639,\n",
       " 40927554,\n",
       " 40304964,\n",
       " 40829253,\n",
       " 40796487,\n",
       " 40239432,\n",
       " 40534345,\n",
       " 40304968,\n",
       " 40567112,\n",
       " 40829263,\n",
       " 39977298,\n",
       " 40632659,\n",
       " 40927572,\n",
       " 39158099,\n",
       " 40632662,\n",
       " 40829277,\n",
       " 40960351,\n",
       " 40468832,\n",
       " 40468833,\n",
       " 40436071,\n",
       " 40436078,\n",
       " 40305009,\n",
       " 40829300,\n",
       " 40468866,\n",
       " 40534404,\n",
       " 40403335,\n",
       " 40468872,\n",
       " 40731017,\n",
       " 40632715,\n",
       " 40894862,\n",
       " 40927630,\n",
       " 40927633,\n",
       " 40665490,\n",
       " 40894868,\n",
       " 40894871,\n",
       " 40894874,\n",
       " 40501662,\n",
       " 40468894,\n",
       " 40567201,\n",
       " 40927650,\n",
       " 40927651,\n",
       " 40829353,\n",
       " 39289257,\n",
       " 40337837,\n",
       " 40927662,\n",
       " 40927663,\n",
       " 40698288,\n",
       " 40665521,\n",
       " 40894900,\n",
       " 40534455,\n",
       " 40829368,\n",
       " 40501689,\n",
       " 40894906,\n",
       " 40993210,\n",
       " 40894908,\n",
       " 40763838,\n",
       " 40894911,\n",
       " 40763840,\n",
       " 40894913,\n",
       " 40829378,\n",
       " 40829379,\n",
       " 40829382,\n",
       " 40239559,\n",
       " 40239560,\n",
       " 40239563,\n",
       " 40731085,\n",
       " 40731087,\n",
       " 40731088,\n",
       " 40927698,\n",
       " 40468948,\n",
       " 40403414,\n",
       " 38863320,\n",
       " 40731102,\n",
       " 40829408,\n",
       " 40436194,\n",
       " 40239587,\n",
       " 40829414,\n",
       " 39256551,\n",
       " 39256552,\n",
       " 40239595,\n",
       " 40403441,\n",
       " 40403443,\n",
       " 40698357,\n",
       " 40796662,\n",
       " 40698358,\n",
       " 40436217,\n",
       " 40763903,\n",
       " 40600063,\n",
       " 40600064,\n",
       " 40600065,\n",
       " 40436227,\n",
       " 40763909,\n",
       " 40862215,\n",
       " 40796680,\n",
       " 40927753,\n",
       " 40927754,\n",
       " 40436232,\n",
       " 40436235,\n",
       " 40698388,\n",
       " 40469014,\n",
       " 40698394,\n",
       " 40927771,\n",
       " 40763932,\n",
       " 40731166,\n",
       " 40436260,\n",
       " 40698405,\n",
       " 40829477,\n",
       " 40665639,\n",
       " 40862245,\n",
       " 40829482,\n",
       " 40436267,\n",
       " 40436268,\n",
       " 40403509,\n",
       " 40829500,\n",
       " 40436285,\n",
       " 40436288,\n",
       " 40665665,\n",
       " 40927813,\n",
       " 40862277,\n",
       " 40436300,\n",
       " 40763985,\n",
       " 40763987,\n",
       " 40731223,\n",
       " 40731224,\n",
       " 40665690,\n",
       " 40731228,\n",
       " 40829535,\n",
       " 40862309,\n",
       " 40272489,\n",
       " 40272490,\n",
       " 40272491,\n",
       " 40829546,\n",
       " 40436334,\n",
       " 40272497,\n",
       " 40272498,\n",
       " 40272499,\n",
       " 40272500,\n",
       " 40895093,\n",
       " 39223927,\n",
       " 40338045,\n",
       " 39420548,\n",
       " 40272518,\n",
       " 40436359,\n",
       " 40665737,\n",
       " 40436366,\n",
       " 40501905,\n",
       " 40698513,\n",
       " 40829595,\n",
       " 40403613,\n",
       " 40829598,\n",
       " 40829599,\n",
       " 40895136,\n",
       " 40895137,\n",
       " 40829600,\n",
       " 40895140,\n",
       " 40209076,\n",
       " 40895144,\n",
       " 40751316,\n",
       " 40010417,\n",
       " 40665779,\n",
       " 40665782,\n",
       " 40403644,\n",
       " 40862396,\n",
       " 39289535,\n",
       " 39289537,\n",
       " 40731330,\n",
       " 39584453,\n",
       " 40665798,\n",
       " 40239822,\n",
       " 40751323,\n",
       " 40698578,\n",
       " 40751324,\n",
       " 40895189,\n",
       " 40895190,\n",
       " 40895191,\n",
       " 40927960,\n",
       " 40698583,\n",
       " 40698586,\n",
       " 40665819,\n",
       " 40927964,\n",
       " 40347526,\n",
       " 40698590,\n",
       " 40731369,\n",
       " 40633067,\n",
       " 40829676,\n",
       " 39617261,\n",
       " 39617262,\n",
       " 40829680,\n",
       " 39977713,\n",
       " 40960752,\n",
       " 40960755,\n",
       " 39977720,\n",
       " 40010488,\n",
       " 40534776,\n",
       " 40764157,\n",
       " 40928004,\n",
       " 40960773,\n",
       " 40960774,\n",
       " 40764167,\n",
       " 40829704,\n",
       " 40960779,\n",
       " 40829708,\n",
       " 40960781,\n",
       " 40928015,\n",
       " 40796945,\n",
       " 40862481,\n",
       " 40895253,\n",
       " 40895254,\n",
       " 40796953,\n",
       " 40796954,\n",
       " 40796955,\n",
       " 39912217,\n",
       " 40895261,\n",
       " 40600346,\n",
       " 40862494,\n",
       " 40829729,\n",
       " 40665890,\n",
       " 40403750,\n",
       " 40764199,\n",
       " 40928038,\n",
       " 39584559,\n",
       " 40600368,\n",
       " 40764209,\n",
       " 40665905,\n",
       " 40764212,\n",
       " 40665909,\n",
       " 40633143,\n",
       " 40403770,\n",
       " 40665917,\n",
       " 40764223,\n",
       " 39945023,\n",
       " 40403778,\n",
       " 40403779,\n",
       " 40600388,\n",
       " 40796997,\n",
       " 40239942,\n",
       " 40862536,\n",
       " 40862540,\n",
       " 40862547,\n",
       " 40928089,\n",
       " 40633181,\n",
       " 40502118,\n",
       " 40862572,\n",
       " 40895341,\n",
       " 40895342,\n",
       " 40403823,\n",
       " 40698733,\n",
       " 40600429,\n",
       " 40272755,\n",
       " 40764278,\n",
       " 39912311,\n",
       " 40272762,\n",
       " 40633211,\n",
       " 40633212,\n",
       " 40633213,\n",
       " 40633214,\n",
       " 40797051,\n",
       " 40797053,\n",
       " 40338301,\n",
       " 40338302,\n",
       " 40338303,\n",
       " 40338306,\n",
       " 40403846,\n",
       " 40403847,\n",
       " 40600457,\n",
       " 40600459,\n",
       " 40600463,\n",
       " 40633233,\n",
       " 40862615,\n",
       " 40862616,\n",
       " 40698777,\n",
       " 40436635,\n",
       " 40895388,\n",
       " 40403868,\n",
       " 40403876,\n",
       " 40862632,\n",
       " 40862638,\n",
       " 40436656,\n",
       " 40633270,\n",
       " 40797119,\n",
       " 40403904,\n",
       " 40436672,\n",
       " 40698816,\n",
       " 40633284,\n",
       " 40633285,\n",
       " 40108998,\n",
       " 40633286,\n",
       " 40600517,\n",
       " 40698826,\n",
       " 40797132,\n",
       " 40436688,\n",
       " 40633297,\n",
       " 40436689,\n",
       " 40403928,\n",
       " 40043483,\n",
       " 40862688,\n",
       " 40862689,\n",
       " 40698850,\n",
       " 40436710,\n",
       " 40436711,\n",
       " 40436712,\n",
       " 39257075,\n",
       " 40338422,\n",
       " 40338423,\n",
       " 40600568,\n",
       " 40338425,\n",
       " 40010747,\n",
       " 40633344,\n",
       " 40403968,\n",
       " 40961024,\n",
       " 40829955,\n",
       " 40829956,\n",
       " 40633349,\n",
       " 39453702,\n",
       " 40895494,\n",
       " 40895496,\n",
       " 40928262,\n",
       " 40829957,\n",
       " 40961028,\n",
       " 36373511,\n",
       " 40961032,\n",
       " 40600589,\n",
       " 40403983,\n",
       " 40403984,\n",
       " 40338446,\n",
       " 40305682,\n",
       " 39289876,\n",
       " 39945236,\n",
       " 40961055,\n",
       " 39448811,\n",
       " 40764452,\n",
       " 40764453,\n",
       " 40404004,\n",
       " 40207396,\n",
       " 40600615,\n",
       " 40600618,\n",
       " 40633391,\n",
       " 40174639,\n",
       " 40961077,\n",
       " 40174646,\n",
       " 40174647,\n",
       " 40633400,\n",
       " 40174648,\n",
       " 40174649,\n",
       " 40961079,\n",
       " 40207421,\n",
       " 40961088,\n",
       " 40830022,\n",
       " 40961095,\n",
       " 40240201,\n",
       " 40961098,\n",
       " 40961099,\n",
       " 40961114,\n",
       " 40961115,\n",
       " 40830045,\n",
       " 40633439,\n",
       " 40240225,\n",
       " 40272994,\n",
       " 40895589,\n",
       " 39715948,\n",
       " 40993904,\n",
       " 40698993,\n",
       " 40305780,\n",
       " 40633461,\n",
       " 40633462,\n",
       " 40273014,\n",
       " 40993913,\n",
       " 40993915,\n",
       " 40830077,\n",
       " 40633471,\n",
       " 40109184,\n",
       " 40633472,\n",
       " 39093376,\n",
       " 40404098,\n",
       " 40830080,\n",
       " 40404101,\n",
       " 40404102,\n",
       " 40699011,\n",
       " 40961159,\n",
       " 40993920,\n",
       " 40240266,\n",
       " 40109195,\n",
       " 39945348,\n",
       " 40961165,\n",
       " 40109198,\n",
       " 40633489,\n",
       " 40633491,\n",
       " 40109204,\n",
       " 40404115,\n",
       " 40404117,\n",
       " 40404118,\n",
       " 40404119,\n",
       " 39945363,\n",
       " 40633502,\n",
       " 40633509,\n",
       " 40600752,\n",
       " 40961217,\n",
       " 40764611,\n",
       " 40338631,\n",
       " 40404168,\n",
       " 40633550,\n",
       " 40600782,\n",
       " 40174801,\n",
       " 40862930,\n",
       " 40305875,\n",
       " 40305879,\n",
       " 40600799,\n",
       " 40895714,\n",
       " 40895715,\n",
       " 40895716,\n",
       " 40600805,\n",
       " 39781610,\n",
       " 40305903,\n",
       " 39781622,\n",
       " 38798583,\n",
       " 40764663,\n",
       " 40764667,\n",
       " 40633596,\n",
       " 40764668,\n",
       " 40764669,\n",
       " 40764670,\n",
       " 40633600,\n",
       " 40371469,\n",
       " 40043790,\n",
       " 40961298,\n",
       " 40895767,\n",
       " 40043801,\n",
       " 40961305,\n",
       " 40600864,\n",
       " 40961313,\n",
       " 40961317,\n",
       " 40961319,\n",
       " 40371496,\n",
       " 40699178,\n",
       " 40830251,\n",
       " 40568108,\n",
       " 40633645,\n",
       " 40830253,\n",
       " 40830262,\n",
       " 40600890,\n",
       " 40600894,\n",
       " 40633664,\n",
       " 40633665,\n",
       " 40633670,\n",
       " 40633671,\n",
       " 40633676,\n",
       " 40207693,\n",
       " 40764753,\n",
       " 40764754,\n",
       " 40011090,\n",
       " 40994132,\n",
       " 40371546,\n",
       " 40633690,\n",
       " 40633691,\n",
       " 40600926,\n",
       " 40207713,\n",
       " 39159138,\n",
       " 40207714,\n",
       " 40207717,\n",
       " 40207726,\n",
       " 40207727,\n",
       " 40830322,\n",
       " 39978355,\n",
       " 40011124,\n",
       " 40830323,\n",
       " 40207734,\n",
       " 32966007,\n",
       " 40600951,\n",
       " 40961404,\n",
       " 40961405,\n",
       " 40961406,\n",
       " 40961407,\n",
       " 40961408,\n",
       " 40371585,\n",
       " 40207740,\n",
       " 40961411,\n",
       " 40994177,\n",
       " 40633736,\n",
       " 40371600,\n",
       " 40633744,\n",
       " 40764821,\n",
       " 40600982,\n",
       " 40600983,\n",
       " 40600986,\n",
       " 40633757,\n",
       " 40633761,\n",
       " 40764835,\n",
       " 40601000,\n",
       " 40240554,\n",
       " 40633770,\n",
       " 40633771,\n",
       " 40633772,\n",
       " 40764844,\n",
       " 40306097,\n",
       " 40306098,\n",
       " 40633787,\n",
       " 40699323,\n",
       " 40633793,\n",
       " 40633794,\n",
       " 40306126,\n",
       " 40699343,\n",
       " 40306129,\n",
       " 40633812,\n",
       " 40633813,\n",
       " 40633815,\n",
       " 40306136,\n",
       " 40306139,\n",
       " 40863203,\n",
       " 39388649,\n",
       " 40666606,\n",
       " 40240631,\n",
       " 40699384,\n",
       " 40601086,\n",
       " 40633855,\n",
       " 40601092,\n",
       " 40633862,\n",
       " 40601094,\n",
       " 40601096,\n",
       " 40371737,\n",
       " 40240667,\n",
       " 40175131,\n",
       " 40175132,\n",
       " 39912991,\n",
       " 39847469,\n",
       " 40404527,\n",
       " 40404528,\n",
       " 40633905,\n",
       " 40011315,\n",
       " 40699445,\n",
       " 40961591,\n",
       " 40961592,\n",
       " 39978557,\n",
       " 40011330,\n",
       " 34965060,\n",
       " 40699464,\n",
       " 40273483,\n",
       " 40633933,\n",
       " 40666708,\n",
       " 40175188,\n",
       " 40437336,\n",
       " 40339039,\n",
       " 39847533,\n",
       " 40896124,\n",
       " 40994428,\n",
       " 38405761,\n",
       " 40765063,\n",
       " 40896136,\n",
       " 40699527,\n",
       " 40699530,\n",
       " 38504075,\n",
       " 40699532,\n",
       " 40994449,\n",
       " 40601236,\n",
       " 40994453,\n",
       " 40765079,\n",
       " 40994455,\n",
       " 40306329,\n",
       " 40175261,\n",
       " 40175263,\n",
       " 40208040,\n",
       " 40535722,\n",
       " 40371889,\n",
       " 40371899,\n",
       " 38897342,\n",
       " 40371905,\n",
       " 40830657,\n",
       " 40830662,\n",
       " 40830664,\n",
       " 40765131,\n",
       " 39913169,\n",
       " 40830674,\n",
       " 40765145,\n",
       " 40339174,\n",
       " 40535783,\n",
       " 40896243,\n",
       " 40994547,\n",
       " 40994548,\n",
       " 40994550,\n",
       " 40830711,\n",
       " 40601335,\n",
       " 40765177,\n",
       " 40634106,\n",
       " 40830713,\n",
       " 40601337,\n",
       " 40929021,\n",
       " 40830717,\n",
       " 40994554,\n",
       " 40994557,\n",
       " 40339202,\n",
       " 40896261,\n",
       " 40896263,\n",
       " 40601352,\n",
       " 40994571,\n",
       " 40830736,\n",
       " 40830740,\n",
       " 40601368,\n",
       " 40896283,\n",
       " 39946014,\n",
       " 39487265,\n",
       " 40634147,\n",
       " 40273699,\n",
       " 40535845,\n",
       " 38405929,\n",
       " 39946032,\n",
       " 39553174,\n",
       " 40896308,\n",
       " 40896315,\n",
       " 40273724,\n",
       " 40273725,\n",
       " 40896318,\n",
       " 40601409,\n",
       " 40339267,\n",
       " 40339269,\n",
       " 40896326,\n",
       " 40994630,\n",
       " 40929097,\n",
       " 40634186,\n",
       " 40765259,\n",
       " 40929100,\n",
       " 40994633,\n",
       " 40208204,\n",
       " 40994638,\n",
       " 40765264,\n",
       " 39814991,\n",
       " 40634194,\n",
       " 40601427,\n",
       " 40634198,\n",
       " 40339287,\n",
       " 40994647,\n",
       " 40994649,\n",
       " 40929117,\n",
       " 40929131,\n",
       " 38537068,\n",
       " 40896364,\n",
       " 40896365,\n",
       " 40634223,\n",
       " 40372080,\n",
       " 40896366,\n",
       " 40994670,\n",
       " 40339312,\n",
       " 40994680,\n",
       " 40994682,\n",
       " 38307721,\n",
       " 40601482,\n",
       " 40929163,\n",
       " 40929164,\n",
       " 40568717,\n",
       " 40994699,\n",
       " 40929173,\n",
       " 40372118,\n",
       " 40568725,\n",
       " 40372121,\n",
       " 40568730,\n",
       " 40437659,\n",
       " 40994713,\n",
       " 40208284,\n",
       " 40994718,\n",
       " 40208287,\n",
       " 40994721,\n",
       " 40306597,\n",
       " 40994727,\n",
       " 40273835,\n",
       " 40372143,\n",
       " 40601521,\n",
       " 40306612,\n",
       " 40404917,\n",
       " 40961974,\n",
       " 40208314,\n",
       " 40208315,\n",
       " 40765374,\n",
       " 40535999,\n",
       " 39356352,\n",
       " 39356353,\n",
       " 40437694,\n",
       " 40208318,\n",
       " 40011716,\n",
       " 39815103,\n",
       " 40372166,\n",
       " 40208319,\n",
       " 40896456,\n",
       " 40896457,\n",
       " 40404936,\n",
       " 40437704,\n",
       " 40896460,\n",
       " 40437709,\n",
       " 40994761,\n",
       " 40994765,\n",
       " 40896464,\n",
       " 40437713,\n",
       " 40896466,\n",
       " 40929235,\n",
       " 40929239,\n",
       " 40994777,\n",
       " 40568795,\n",
       " 40765405,\n",
       " 40208349,\n",
       " 40765409,\n",
       " 39946211,\n",
       " 40588760,\n",
       " 40765417,\n",
       " 40339439,\n",
       " 40863730,\n",
       " 40765427,\n",
       " 40765428,\n",
       " 40765429,\n",
       " 40765430,\n",
       " 40497582,\n",
       " 40994809,\n",
       " 40437756,\n",
       " 40437757,\n",
       " 40273922,\n",
       " 40765443,\n",
       " 40536068,\n",
       " 40306696,\n",
       " 40339471,\n",
       " 40339472,\n",
       " 39880721,\n",
       " 40339473,\n",
       " 40536084,\n",
       " 40929300,\n",
       " 40044565,\n",
       " 40830997,\n",
       " 40405022,\n",
       " 40896544,\n",
       " 40831014,\n",
       " 40699950,\n",
       " 40765487,\n",
       " 40831024,\n",
       " 40994863,\n",
       " 40405043,\n",
       " 40994867,\n",
       " 40765493,\n",
       " 40568885,\n",
       " 40765495,\n",
       " 40831029,\n",
       " 40994870,\n",
       " 40405050,\n",
       " 40994875,\n",
       " 40568895,\n",
       " 40208447,\n",
       " 40470592,\n",
       " 40896578,\n",
       " 40751600,\n",
       " 40765509,\n",
       " 40568903,\n",
       " 40896585,\n",
       " 40896586,\n",
       " 40568905,\n",
       " 40831051,\n",
       " 40896590,\n",
       " 40896591,\n",
       " 40437840,\n",
       " 40470606,\n",
       " 40372309,\n",
       " 40994903,\n",
       " 40175707,\n",
       " 40994911,\n",
       " 40208480,\n",
       " 40831077,\n",
       " 40994918,\n",
       " 40536167,\n",
       " 40339560,\n",
       " 40700009,\n",
       " 40044655,\n",
       " 40994933,\n",
       " 40700022,\n",
       " 40962168,\n",
       " 40568953,\n",
       " 40339577,\n",
       " 40700027,\n",
       " 40994937,\n",
       " 40994938,\n",
       " 40994940,\n",
       " 40634495,\n",
       " 40994941,\n",
       " 40994942,\n",
       " 40994943,\n",
       " 40994944,\n",
       " 40994945,\n",
       " 40994946,\n",
       " 40994947,\n",
       " 40208517,\n",
       " 40208518,\n",
       " 40994949,\n",
       " 40175754,\n",
       " 40437899,\n",
       " 40994950,\n",
       " 40634509,\n",
       " 40634510,\n",
       " 40634511,\n",
       " 40634512,\n",
       " 40470665,\n",
       " 40831122,\n",
       " 40470667,\n",
       " 40994956,\n",
       " 40568981,\n",
       " 40831126,\n",
       " 40831127,\n",
       " 40372376,\n",
       " 40831129,\n",
       " 40831130,\n",
       " 40994962,\n",
       " 40831132,\n",
       " 40994964,\n",
       " 40437918,\n",
       " 40831135,\n",
       " 40831136,\n",
       " 40470682,\n",
       " 40470685,\n",
       " 40994989,\n",
       " 39749810,\n",
       " 40929459,\n",
       " 40470706,\n",
       " 40765621,\n",
       " 40929467,\n",
       " 40536254,\n",
       " 40339648,\n",
       " 40929476,\n",
       " 40208581,\n",
       " 40241352,\n",
       " 40995016,\n",
       " 40765642,\n",
       " 40929482,\n",
       " 40831180,\n",
       " 40470730,\n",
       " 40536279,\n",
       " 40667353,\n",
       " 40929497,\n",
       " 40437977,\n",
       " 40569051,\n",
       " 40339677,\n",
       " 40339678,\n",
       " ...]"
      ]
     },
     "execution_count": 30,
     "metadata": {},
     "output_type": "execute_result"
    }
   ],
   "source": [
    "# Identity of the PMIDs common in the old dataset and in the new\n",
    "duplicated_PMIDs_consolidated_new = list(set(list_consolidated_PMIDs).intersection(set(list_new_PMIDs)))\n",
    "duplicated_PMIDs_consolidated_new"
   ]
  },
  {
   "cell_type": "markdown",
   "id": "3243a2bb-3270-456e-846a-441063b4a366",
   "metadata": {},
   "source": [
    "The default behavior will be to remove the records for these PMIDs from the old PMIDs dataset to keep only the updated ones. The csvs of the old dataset will be imported, the duplicated records removed and the deduplicated csvs saved in a different directory that will be lated ingested for calculating aggregates"
   ]
  },
  {
   "cell_type": "code",
   "execution_count": 31,
   "id": "0649089c-e72f-4905-a432-12b495252259",
   "metadata": {
    "scrolled": true
   },
   "outputs": [
    {
     "name": "stderr",
     "output_type": "stream",
     "text": [
      "  0%|                                                                                           | 0/50 [00:00<?, ?it/s]"
     ]
    },
    {
     "name": "stdout",
     "output_type": "stream",
     "text": [
      "Parsing csv: parsedXMLs_first_pred_26400.csv\n"
     ]
    },
    {
     "name": "stderr",
     "output_type": "stream",
     "text": [
      "  2%|█▋                                                                                 | 1/50 [00:01<01:00,  1.24s/it]"
     ]
    },
    {
     "name": "stdout",
     "output_type": "stream",
     "text": [
      "Parsing csv: parsedXMLs_first_upd_100000.csv\n"
     ]
    },
    {
     "name": "stderr",
     "output_type": "stream",
     "text": [
      "C:\\Users\\svalb\\AppData\\Local\\Temp\\ipykernel_20092\\1271389466.py:4: DtypeWarning: Columns (12,14,24) have mixed types. Specify dtype option on import or set low_memory=False.\n",
      "  df = pd.read_csv(DF_input_consolidated + consolidated_csv)\n",
      "  4%|███▎                                                                               | 2/50 [00:12<05:29,  6.85s/it]"
     ]
    },
    {
     "name": "stdout",
     "output_type": "stream",
     "text": [
      "Parsing csv: parsedXMLs_first_upd_200000.csv\n"
     ]
    },
    {
     "name": "stderr",
     "output_type": "stream",
     "text": [
      "C:\\Users\\svalb\\AppData\\Local\\Temp\\ipykernel_20092\\1271389466.py:4: DtypeWarning: Columns (10,12,22) have mixed types. Specify dtype option on import or set low_memory=False.\n",
      "  df = pd.read_csv(DF_input_consolidated + consolidated_csv)\n",
      "  6%|████▉                                                                              | 3/50 [00:22<06:46,  8.66s/it]"
     ]
    },
    {
     "name": "stdout",
     "output_type": "stream",
     "text": [
      "Parsing csv: parsedXMLs_first_upd_300000.csv\n"
     ]
    },
    {
     "name": "stderr",
     "output_type": "stream",
     "text": [
      "C:\\Users\\svalb\\AppData\\Local\\Temp\\ipykernel_20092\\1271389466.py:4: DtypeWarning: Columns (13,15,25) have mixed types. Specify dtype option on import or set low_memory=False.\n",
      "  df = pd.read_csv(DF_input_consolidated + consolidated_csv)\n",
      "  8%|██████▋                                                                            | 4/50 [00:32<07:05,  9.24s/it]"
     ]
    },
    {
     "name": "stdout",
     "output_type": "stream",
     "text": [
      "Parsing csv: parsedXMLs_first_upd_340800.csv\n"
     ]
    },
    {
     "name": "stderr",
     "output_type": "stream",
     "text": [
      " 10%|████████▎                                                                          | 5/50 [00:36<05:25,  7.24s/it]"
     ]
    },
    {
     "name": "stdout",
     "output_type": "stream",
     "text": [
      "Parsing csv: parsedX_100000.csv\n"
     ]
    },
    {
     "name": "stderr",
     "output_type": "stream",
     "text": [
      " 12%|█████████▉                                                                         | 6/50 [00:42<04:55,  6.72s/it]"
     ]
    },
    {
     "name": "stdout",
     "output_type": "stream",
     "text": [
      "Parsing csv: parsedX_1000000.csv\n"
     ]
    },
    {
     "name": "stderr",
     "output_type": "stream",
     "text": [
      " 14%|███████████▌                                                                       | 7/50 [00:49<04:48,  6.71s/it]"
     ]
    },
    {
     "name": "stdout",
     "output_type": "stream",
     "text": [
      "Parsing csv: parsedX_1100000.csv\n"
     ]
    },
    {
     "name": "stderr",
     "output_type": "stream",
     "text": [
      " 16%|█████████████▎                                                                     | 8/50 [00:55<04:44,  6.78s/it]"
     ]
    },
    {
     "name": "stdout",
     "output_type": "stream",
     "text": [
      "Parsing csv: parsedX_1200000.csv\n"
     ]
    },
    {
     "name": "stderr",
     "output_type": "stream",
     "text": [
      " 18%|██████████████▉                                                                    | 9/50 [01:03<04:44,  6.95s/it]"
     ]
    },
    {
     "name": "stdout",
     "output_type": "stream",
     "text": [
      "Parsing csv: parsedX_1300000.csv\n"
     ]
    },
    {
     "name": "stderr",
     "output_type": "stream",
     "text": [
      " 20%|████████████████▍                                                                 | 10/50 [01:10<04:39,  6.99s/it]"
     ]
    },
    {
     "name": "stdout",
     "output_type": "stream",
     "text": [
      "Parsing csv: parsedX_1400000.csv\n"
     ]
    },
    {
     "name": "stderr",
     "output_type": "stream",
     "text": [
      "C:\\Users\\svalb\\AppData\\Local\\Temp\\ipykernel_20092\\1271389466.py:4: DtypeWarning: Columns (78) have mixed types. Specify dtype option on import or set low_memory=False.\n",
      "  df = pd.read_csv(DF_input_consolidated + consolidated_csv)\n",
      " 22%|██████████████████                                                                | 11/50 [01:17<04:33,  7.01s/it]"
     ]
    },
    {
     "name": "stdout",
     "output_type": "stream",
     "text": [
      "Parsing csv: parsedX_1500000.csv\n"
     ]
    },
    {
     "name": "stderr",
     "output_type": "stream",
     "text": [
      "C:\\Users\\svalb\\AppData\\Local\\Temp\\ipykernel_20092\\1271389466.py:4: DtypeWarning: Columns (79) have mixed types. Specify dtype option on import or set low_memory=False.\n",
      "  df = pd.read_csv(DF_input_consolidated + consolidated_csv)\n",
      " 24%|███████████████████▋                                                              | 12/50 [01:24<04:27,  7.03s/it]"
     ]
    },
    {
     "name": "stdout",
     "output_type": "stream",
     "text": [
      "Parsing csv: parsedX_1600000.csv\n"
     ]
    },
    {
     "name": "stderr",
     "output_type": "stream",
     "text": [
      " 26%|█████████████████████▎                                                            | 13/50 [01:31<04:17,  6.96s/it]"
     ]
    },
    {
     "name": "stdout",
     "output_type": "stream",
     "text": [
      "Parsing csv: parsedX_1700000.csv\n"
     ]
    },
    {
     "name": "stderr",
     "output_type": "stream",
     "text": [
      " 28%|██████████████████████▉                                                           | 14/50 [01:38<04:11,  6.98s/it]"
     ]
    },
    {
     "name": "stdout",
     "output_type": "stream",
     "text": [
      "Parsing csv: parsedX_1800000.csv\n"
     ]
    },
    {
     "name": "stderr",
     "output_type": "stream",
     "text": [
      "C:\\Users\\svalb\\AppData\\Local\\Temp\\ipykernel_20092\\1271389466.py:4: DtypeWarning: Columns (13,64,75) have mixed types. Specify dtype option on import or set low_memory=False.\n",
      "  df = pd.read_csv(DF_input_consolidated + consolidated_csv)\n",
      " 30%|████████████████████████▌                                                         | 15/50 [01:45<04:07,  7.07s/it]"
     ]
    },
    {
     "name": "stdout",
     "output_type": "stream",
     "text": [
      "Parsing csv: parsedX_1900000.csv\n"
     ]
    },
    {
     "name": "stderr",
     "output_type": "stream",
     "text": [
      "C:\\Users\\svalb\\AppData\\Local\\Temp\\ipykernel_20092\\1271389466.py:4: DtypeWarning: Columns (13,63,74) have mixed types. Specify dtype option on import or set low_memory=False.\n",
      "  df = pd.read_csv(DF_input_consolidated + consolidated_csv)\n",
      " 32%|██████████████████████████▏                                                       | 16/50 [01:52<04:03,  7.15s/it]"
     ]
    },
    {
     "name": "stdout",
     "output_type": "stream",
     "text": [
      "Parsing csv: parsedX_200000.csv\n"
     ]
    },
    {
     "name": "stderr",
     "output_type": "stream",
     "text": [
      " 34%|███████████████████████████▉                                                      | 17/50 [01:58<03:38,  6.63s/it]"
     ]
    },
    {
     "name": "stdout",
     "output_type": "stream",
     "text": [
      "Parsing csv: parsedX_2000000.csv\n"
     ]
    },
    {
     "name": "stderr",
     "output_type": "stream",
     "text": [
      " 36%|█████████████████████████████▌                                                    | 18/50 [02:05<03:40,  6.89s/it]"
     ]
    },
    {
     "name": "stdout",
     "output_type": "stream",
     "text": [
      "Parsing csv: parsedX_2100000.csv\n"
     ]
    },
    {
     "name": "stderr",
     "output_type": "stream",
     "text": [
      " 38%|███████████████████████████████▏                                                  | 19/50 [02:13<03:41,  7.16s/it]"
     ]
    },
    {
     "name": "stdout",
     "output_type": "stream",
     "text": [
      "Parsing csv: parsedX_2200000.csv\n"
     ]
    },
    {
     "name": "stderr",
     "output_type": "stream",
     "text": [
      "C:\\Users\\svalb\\AppData\\Local\\Temp\\ipykernel_20092\\1271389466.py:4: DtypeWarning: Columns (13,66,77) have mixed types. Specify dtype option on import or set low_memory=False.\n",
      "  df = pd.read_csv(DF_input_consolidated + consolidated_csv)\n",
      " 40%|████████████████████████████████▊                                                 | 20/50 [02:21<03:39,  7.31s/it]"
     ]
    },
    {
     "name": "stdout",
     "output_type": "stream",
     "text": [
      "Parsing csv: parsedX_2300000.csv\n"
     ]
    },
    {
     "name": "stderr",
     "output_type": "stream",
     "text": [
      "C:\\Users\\svalb\\AppData\\Local\\Temp\\ipykernel_20092\\1271389466.py:4: DtypeWarning: Columns (13,65,76) have mixed types. Specify dtype option on import or set low_memory=False.\n",
      "  df = pd.read_csv(DF_input_consolidated + consolidated_csv)\n",
      " 42%|██████████████████████████████████▍                                               | 21/50 [02:29<03:43,  7.69s/it]"
     ]
    },
    {
     "name": "stdout",
     "output_type": "stream",
     "text": [
      "Parsing csv: parsedX_2400000.csv\n"
     ]
    },
    {
     "name": "stderr",
     "output_type": "stream",
     "text": [
      "C:\\Users\\svalb\\AppData\\Local\\Temp\\ipykernel_20092\\1271389466.py:4: DtypeWarning: Columns (13,67,78) have mixed types. Specify dtype option on import or set low_memory=False.\n",
      "  df = pd.read_csv(DF_input_consolidated + consolidated_csv)\n",
      " 44%|████████████████████████████████████                                              | 22/50 [02:39<03:48,  8.16s/it]"
     ]
    },
    {
     "name": "stdout",
     "output_type": "stream",
     "text": [
      "Parsing csv: parsedX_2500000.csv\n"
     ]
    },
    {
     "name": "stderr",
     "output_type": "stream",
     "text": [
      "C:\\Users\\svalb\\AppData\\Local\\Temp\\ipykernel_20092\\1271389466.py:4: DtypeWarning: Columns (13,64,75) have mixed types. Specify dtype option on import or set low_memory=False.\n",
      "  df = pd.read_csv(DF_input_consolidated + consolidated_csv)\n",
      " 46%|█████████████████████████████████████▋                                            | 23/50 [02:48<03:49,  8.51s/it]"
     ]
    },
    {
     "name": "stdout",
     "output_type": "stream",
     "text": [
      "Parsing csv: parsedX_2600000.csv\n"
     ]
    },
    {
     "name": "stderr",
     "output_type": "stream",
     "text": [
      "C:\\Users\\svalb\\AppData\\Local\\Temp\\ipykernel_20092\\1271389466.py:4: DtypeWarning: Columns (14,65,76) have mixed types. Specify dtype option on import or set low_memory=False.\n",
      "  df = pd.read_csv(DF_input_consolidated + consolidated_csv)\n",
      " 48%|███████████████████████████████████████▎                                          | 24/50 [02:58<03:50,  8.86s/it]"
     ]
    },
    {
     "name": "stdout",
     "output_type": "stream",
     "text": [
      "Parsing csv: parsedX_2700000.csv\n"
     ]
    },
    {
     "name": "stderr",
     "output_type": "stream",
     "text": [
      "C:\\Users\\svalb\\AppData\\Local\\Temp\\ipykernel_20092\\1271389466.py:4: DtypeWarning: Columns (13,64,75) have mixed types. Specify dtype option on import or set low_memory=False.\n",
      "  df = pd.read_csv(DF_input_consolidated + consolidated_csv)\n",
      " 50%|█████████████████████████████████████████                                         | 25/50 [03:07<03:47,  9.12s/it]"
     ]
    },
    {
     "name": "stdout",
     "output_type": "stream",
     "text": [
      "Parsing csv: parsedX_2800000.csv\n"
     ]
    },
    {
     "name": "stderr",
     "output_type": "stream",
     "text": [
      "C:\\Users\\svalb\\AppData\\Local\\Temp\\ipykernel_20092\\1271389466.py:4: DtypeWarning: Columns (13,65,76) have mixed types. Specify dtype option on import or set low_memory=False.\n",
      "  df = pd.read_csv(DF_input_consolidated + consolidated_csv)\n",
      " 52%|██████████████████████████████████████████▋                                       | 26/50 [03:17<03:43,  9.31s/it]"
     ]
    },
    {
     "name": "stdout",
     "output_type": "stream",
     "text": [
      "Parsing csv: parsedX_2900000.csv\n"
     ]
    },
    {
     "name": "stderr",
     "output_type": "stream",
     "text": [
      "C:\\Users\\svalb\\AppData\\Local\\Temp\\ipykernel_20092\\1271389466.py:4: DtypeWarning: Columns (13,65,75) have mixed types. Specify dtype option on import or set low_memory=False.\n",
      "  df = pd.read_csv(DF_input_consolidated + consolidated_csv)\n",
      " 54%|████████████████████████████████████████████▎                                     | 27/50 [03:27<03:35,  9.39s/it]"
     ]
    },
    {
     "name": "stdout",
     "output_type": "stream",
     "text": [
      "Parsing csv: parsedX_300000.csv\n"
     ]
    },
    {
     "name": "stderr",
     "output_type": "stream",
     "text": [
      "C:\\Users\\svalb\\AppData\\Local\\Temp\\ipykernel_20092\\1271389466.py:4: DtypeWarning: Columns (15,54) have mixed types. Specify dtype option on import or set low_memory=False.\n",
      "  df = pd.read_csv(DF_input_consolidated + consolidated_csv)\n",
      " 56%|█████████████████████████████████████████████▉                                    | 28/50 [03:32<02:57,  8.07s/it]"
     ]
    },
    {
     "name": "stdout",
     "output_type": "stream",
     "text": [
      "Parsing csv: parsedX_3000000.csv\n"
     ]
    },
    {
     "name": "stderr",
     "output_type": "stream",
     "text": [
      "C:\\Users\\svalb\\AppData\\Local\\Temp\\ipykernel_20092\\1271389466.py:4: DtypeWarning: Columns (13,66,77) have mixed types. Specify dtype option on import or set low_memory=False.\n",
      "  df = pd.read_csv(DF_input_consolidated + consolidated_csv)\n",
      " 58%|███████████████████████████████████████████████▌                                  | 29/50 [03:41<03:00,  8.59s/it]"
     ]
    },
    {
     "name": "stdout",
     "output_type": "stream",
     "text": [
      "Parsing csv: parsedX_3100000.csv\n"
     ]
    },
    {
     "name": "stderr",
     "output_type": "stream",
     "text": [
      "C:\\Users\\svalb\\AppData\\Local\\Temp\\ipykernel_20092\\1271389466.py:4: DtypeWarning: Columns (13,65,76) have mixed types. Specify dtype option on import or set low_memory=False.\n",
      "  df = pd.read_csv(DF_input_consolidated + consolidated_csv)\n",
      " 60%|█████████████████████████████████████████████████▏                                | 30/50 [03:51<02:57,  8.87s/it]"
     ]
    },
    {
     "name": "stdout",
     "output_type": "stream",
     "text": [
      "Parsing csv: parsedX_3200000.csv\n"
     ]
    },
    {
     "name": "stderr",
     "output_type": "stream",
     "text": [
      "C:\\Users\\svalb\\AppData\\Local\\Temp\\ipykernel_20092\\1271389466.py:4: DtypeWarning: Columns (13,67,78) have mixed types. Specify dtype option on import or set low_memory=False.\n",
      "  df = pd.read_csv(DF_input_consolidated + consolidated_csv)\n",
      " 62%|██████████████████████████████████████████████████▊                               | 31/50 [04:01<02:53,  9.12s/it]"
     ]
    },
    {
     "name": "stdout",
     "output_type": "stream",
     "text": [
      "Parsing csv: parsedX_3300000.csv\n"
     ]
    },
    {
     "name": "stderr",
     "output_type": "stream",
     "text": [
      "C:\\Users\\svalb\\AppData\\Local\\Temp\\ipykernel_20092\\1271389466.py:4: DtypeWarning: Columns (13,65,76) have mixed types. Specify dtype option on import or set low_memory=False.\n",
      "  df = pd.read_csv(DF_input_consolidated + consolidated_csv)\n",
      " 64%|████████████████████████████████████████████████████▍                             | 32/50 [04:10<02:47,  9.30s/it]"
     ]
    },
    {
     "name": "stdout",
     "output_type": "stream",
     "text": [
      "Parsing csv: parsedX_3400000.csv\n"
     ]
    },
    {
     "name": "stderr",
     "output_type": "stream",
     "text": [
      "C:\\Users\\svalb\\AppData\\Local\\Temp\\ipykernel_20092\\1271389466.py:4: DtypeWarning: Columns (13,65,76) have mixed types. Specify dtype option on import or set low_memory=False.\n",
      "  df = pd.read_csv(DF_input_consolidated + consolidated_csv)\n",
      " 66%|██████████████████████████████████████████████████████                            | 33/50 [04:21<02:42,  9.56s/it]"
     ]
    },
    {
     "name": "stdout",
     "output_type": "stream",
     "text": [
      "Parsing csv: parsedX_3500000.csv\n"
     ]
    },
    {
     "name": "stderr",
     "output_type": "stream",
     "text": [
      "C:\\Users\\svalb\\AppData\\Local\\Temp\\ipykernel_20092\\1271389466.py:4: DtypeWarning: Columns (13,64,75) have mixed types. Specify dtype option on import or set low_memory=False.\n",
      "  df = pd.read_csv(DF_input_consolidated + consolidated_csv)\n",
      " 68%|███████████████████████████████████████████████████████▊                          | 34/50 [04:31<02:37,  9.84s/it]"
     ]
    },
    {
     "name": "stdout",
     "output_type": "stream",
     "text": [
      "Parsing csv: parsedX_3600000.csv\n"
     ]
    },
    {
     "name": "stderr",
     "output_type": "stream",
     "text": [
      "C:\\Users\\svalb\\AppData\\Local\\Temp\\ipykernel_20092\\1271389466.py:4: DtypeWarning: Columns (14,66,77) have mixed types. Specify dtype option on import or set low_memory=False.\n",
      "  df = pd.read_csv(DF_input_consolidated + consolidated_csv)\n",
      " 70%|█████████████████████████████████████████████████████████▍                        | 35/50 [04:41<02:28,  9.87s/it]"
     ]
    },
    {
     "name": "stdout",
     "output_type": "stream",
     "text": [
      "Parsing csv: parsedX_3700000.csv\n"
     ]
    },
    {
     "name": "stderr",
     "output_type": "stream",
     "text": [
      " 72%|███████████████████████████████████████████████████████████                       | 36/50 [04:51<02:18,  9.89s/it]"
     ]
    },
    {
     "name": "stdout",
     "output_type": "stream",
     "text": [
      "Parsing csv: parsedX_3800000.csv\n"
     ]
    },
    {
     "name": "stderr",
     "output_type": "stream",
     "text": [
      "C:\\Users\\svalb\\AppData\\Local\\Temp\\ipykernel_20092\\1271389466.py:4: DtypeWarning: Columns (15,67,78) have mixed types. Specify dtype option on import or set low_memory=False.\n",
      "  df = pd.read_csv(DF_input_consolidated + consolidated_csv)\n",
      " 74%|████████████████████████████████████████████████████████████▋                     | 37/50 [05:01<02:09,  9.95s/it]"
     ]
    },
    {
     "name": "stdout",
     "output_type": "stream",
     "text": [
      "Parsing csv: parsedX_3900000.csv\n"
     ]
    },
    {
     "name": "stderr",
     "output_type": "stream",
     "text": [
      "C:\\Users\\svalb\\AppData\\Local\\Temp\\ipykernel_20092\\1271389466.py:4: DtypeWarning: Columns (14,65,76) have mixed types. Specify dtype option on import or set low_memory=False.\n",
      "  df = pd.read_csv(DF_input_consolidated + consolidated_csv)\n",
      " 76%|██████████████████████████████████████████████████████████████▎                   | 38/50 [05:12<02:02, 10.18s/it]"
     ]
    },
    {
     "name": "stdout",
     "output_type": "stream",
     "text": [
      "Parsing csv: parsedX_400000.csv\n"
     ]
    },
    {
     "name": "stderr",
     "output_type": "stream",
     "text": [
      "C:\\Users\\svalb\\AppData\\Local\\Temp\\ipykernel_20092\\1271389466.py:4: DtypeWarning: Columns (15,55,82) have mixed types. Specify dtype option on import or set low_memory=False.\n",
      "  df = pd.read_csv(DF_input_consolidated + consolidated_csv)\n",
      " 78%|███████████████████████████████████████████████████████████████▉                  | 39/50 [05:16<01:33,  8.51s/it]"
     ]
    },
    {
     "name": "stdout",
     "output_type": "stream",
     "text": [
      "Parsing csv: parsedX_4000000.csv\n"
     ]
    },
    {
     "name": "stderr",
     "output_type": "stream",
     "text": [
      " 80%|█████████████████████████████████████████████████████████████████▌                | 40/50 [05:27<01:32,  9.22s/it]"
     ]
    },
    {
     "name": "stdout",
     "output_type": "stream",
     "text": [
      "Parsing csv: parsedX_4100000.csv\n"
     ]
    },
    {
     "name": "stderr",
     "output_type": "stream",
     "text": [
      "C:\\Users\\svalb\\AppData\\Local\\Temp\\ipykernel_20092\\1271389466.py:4: DtypeWarning: Columns (13,66,77) have mixed types. Specify dtype option on import or set low_memory=False.\n",
      "  df = pd.read_csv(DF_input_consolidated + consolidated_csv)\n",
      " 82%|███████████████████████████████████████████████████████████████████▏              | 41/50 [05:38<01:26,  9.57s/it]"
     ]
    },
    {
     "name": "stdout",
     "output_type": "stream",
     "text": [
      "Parsing csv: parsedX_4200000.csv\n"
     ]
    },
    {
     "name": "stderr",
     "output_type": "stream",
     "text": [
      "C:\\Users\\svalb\\AppData\\Local\\Temp\\ipykernel_20092\\1271389466.py:4: DtypeWarning: Columns (13,64,75) have mixed types. Specify dtype option on import or set low_memory=False.\n",
      "  df = pd.read_csv(DF_input_consolidated + consolidated_csv)\n",
      " 84%|████████████████████████████████████████████████████████████████████▉             | 42/50 [05:48<01:18,  9.84s/it]"
     ]
    },
    {
     "name": "stdout",
     "output_type": "stream",
     "text": [
      "Parsing csv: parsedX_4300000.csv\n"
     ]
    },
    {
     "name": "stderr",
     "output_type": "stream",
     "text": [
      " 86%|██████████████████████████████████████████████████████████████████████▌           | 43/50 [05:59<01:10, 10.01s/it]"
     ]
    },
    {
     "name": "stdout",
     "output_type": "stream",
     "text": [
      "Parsing csv: parsedX_4400000.csv\n"
     ]
    },
    {
     "name": "stderr",
     "output_type": "stream",
     "text": [
      " 88%|████████████████████████████████████████████████████████████████████████▏         | 44/50 [06:07<00:58,  9.68s/it]"
     ]
    },
    {
     "name": "stdout",
     "output_type": "stream",
     "text": [
      "Parsing csv: parsedX_4454000.csv\n"
     ]
    },
    {
     "name": "stderr",
     "output_type": "stream",
     "text": [
      " 90%|█████████████████████████████████████████████████████████████████████████▊        | 45/50 [06:09<00:36,  7.30s/it]"
     ]
    },
    {
     "name": "stdout",
     "output_type": "stream",
     "text": [
      "Parsing csv: parsedX_500000.csv\n"
     ]
    },
    {
     "name": "stderr",
     "output_type": "stream",
     "text": [
      " 92%|███████████████████████████████████████████████████████████████████████████▍      | 46/50 [06:16<00:28,  7.03s/it]"
     ]
    },
    {
     "name": "stdout",
     "output_type": "stream",
     "text": [
      "Parsing csv: parsedX_600000.csv\n"
     ]
    },
    {
     "name": "stderr",
     "output_type": "stream",
     "text": [
      " 94%|█████████████████████████████████████████████████████████████████████████████     | 47/50 [06:22<00:20,  6.82s/it]"
     ]
    },
    {
     "name": "stdout",
     "output_type": "stream",
     "text": [
      "Parsing csv: parsedX_700000.csv\n"
     ]
    },
    {
     "name": "stderr",
     "output_type": "stream",
     "text": [
      " 96%|██████████████████████████████████████████████████████████████████████████████▋   | 48/50 [06:28<00:13,  6.74s/it]"
     ]
    },
    {
     "name": "stdout",
     "output_type": "stream",
     "text": [
      "Parsing csv: parsedX_800000.csv\n"
     ]
    },
    {
     "name": "stderr",
     "output_type": "stream",
     "text": [
      " 98%|████████████████████████████████████████████████████████████████████████████████▎ | 49/50 [06:35<00:06,  6.72s/it]"
     ]
    },
    {
     "name": "stdout",
     "output_type": "stream",
     "text": [
      "Parsing csv: parsedX_900000.csv\n"
     ]
    },
    {
     "name": "stderr",
     "output_type": "stream",
     "text": [
      "100%|██████████████████████████████████████████████████████████████████████████████████| 50/50 [06:42<00:00,  8.04s/it]\n",
      "  0%|                                                                                            | 0/1 [00:00<?, ?it/s]"
     ]
    },
    {
     "name": "stdout",
     "output_type": "stream",
     "text": [
      "Parsing csv: parsedXMLs_update_2025_09_33200.csv\n"
     ]
    },
    {
     "name": "stderr",
     "output_type": "stream",
     "text": [
      "C:\\Users\\svalb\\AppData\\Local\\Temp\\ipykernel_20092\\1271389466.py:11: DtypeWarning: Columns (9,37,62) have mixed types. Specify dtype option on import or set low_memory=False.\n",
      "  df = pd.read_csv(DF_input_new + new_csv)\n",
      "100%|████████████████████████████████████████████████████████████████████████████████████| 1/1 [00:03<00:00,  3.77s/it]\n"
     ]
    }
   ],
   "source": [
    "# Remove duplicated PMIDs in consolidated dataset, save both datasets to the combined directory\n",
    "for consolidated_csv in tqdm(list_dfs_papers_consolidated):\n",
    "    print(f\"Parsing csv: {consolidated_csv}\")\n",
    "    df = pd.read_csv(DF_input_consolidated + consolidated_csv)\n",
    "    df_save = df.loc[~df[\"PMID\"].isin(duplicated_PMIDs_consolidated_new)]\n",
    "    df_save.to_csv(DF_output_common + consolidated_csv, index = False)\n",
    "    del df, df_save\n",
    "\n",
    "for new_csv in tqdm(list_dfs_papers_new):\n",
    "    print(f\"Parsing csv: {new_csv}\")\n",
    "    df = pd.read_csv(DF_input_new + new_csv)\n",
    "    df.to_csv(DF_output_common + new_csv, index = False)"
   ]
  },
  {
   "cell_type": "code",
   "execution_count": null,
   "id": "c12f7dac-8793-41a2-a08b-dc7d4b84ad5c",
   "metadata": {},
   "outputs": [],
   "source": []
  }
 ],
 "metadata": {
  "kernelspec": {
   "display_name": "Python 3 (ipykernel)",
   "language": "python",
   "name": "python3"
  },
  "language_info": {
   "codemirror_mode": {
    "name": "ipython",
    "version": 3
   },
   "file_extension": ".py",
   "mimetype": "text/x-python",
   "name": "python",
   "nbconvert_exporter": "python",
   "pygments_lexer": "ipython3",
   "version": "3.13.2"
  }
 },
 "nbformat": 4,
 "nbformat_minor": 5
}
