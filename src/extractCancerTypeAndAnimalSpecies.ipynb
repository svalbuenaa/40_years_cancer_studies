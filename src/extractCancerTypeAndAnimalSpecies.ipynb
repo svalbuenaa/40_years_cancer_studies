{
 "cells": [
  {
   "cell_type": "code",
   "execution_count": 19,
   "id": "4939d00c-2f1e-492c-91bf-05fa0d1d6939",
   "metadata": {},
   "outputs": [],
   "source": [
    "import os\n",
    "import pandas as pd\n",
    "import time\n",
    "from tqdm import tqdm\n",
    "tqdm.pandas()\n",
    "import re"
   ]
  },
  {
   "cell_type": "code",
   "execution_count": 2,
   "id": "3ae73302-a24e-4d72-b676-7ed2df2e7dc9",
   "metadata": {},
   "outputs": [
    {
     "name": "stdin",
     "output_type": "stream",
     "text": [
      " C:\\Users\\svalb\\OneDrive\\Escritorio\\Data_40_years_cancer_studies\\parsedXMLs\\\n"
     ]
    }
   ],
   "source": [
    "DF_input = input().strip()"
   ]
  },
  {
   "cell_type": "code",
   "execution_count": 5,
   "id": "8644dad7-37ef-4ab5-a266-2e787fb8c6b0",
   "metadata": {},
   "outputs": [],
   "source": [
    "# Import list of csvs to parse\n",
    "list_csvs = []\n",
    "\n",
    "for file in os.listdir(DF_input):\n",
    "    if file[-4:] == \".csv\":\n",
    "        list_csvs.append(file)\n",
    "\n",
    "n_csvs = len(list_csvs)"
   ]
  },
  {
   "cell_type": "code",
   "execution_count": 6,
   "id": "c270b098-22b6-432e-8704-e5b0112bf6a3",
   "metadata": {},
   "outputs": [],
   "source": [
    "# List of known types of cancer\n",
    "cancer_types = [\n",
    "\"Lung cancer\",\n",
    "\"Colorectal cancer\",\n",
    "\"Breast cancer\",\n",
    "\"Prostate cancer\",\n",
    "\"Colon cancer\",\n",
    "\"Rectal cancer\",\n",
    "\"Multiple myeloma\",\n",
    "\"Melanoma\",\n",
    "\"Lymphoma\",\n",
    "\"Leukemia\",\n",
    "\"Brain cancer\",\n",
    "\"Pancreatic cancer\",\n",
    "\"Neuroendocrine tumor\",\n",
    "\"Neuroblastoma\",\n",
    "\"Ovarian cancer\",\n",
    "\"Cervical cancer\",\n",
    "\"Bladder cancer\",\n",
    "\"Kidney cancer\",\n",
    "\"Renal cell carcinoma\",\n",
    "\"Urothelial carcinoma\",\n",
    "\"Adrenocortical carcinoma\",\n",
    "\"Sebaceous gland carcinoma\",\n",
    "\"Thymoma\",\n",
    "\"Wilms tumor\",\n",
    "\"Thymic carcinoma\",\n",
    "\"Liver cancer\",\n",
    "\"Mesothelioma\",\n",
    "\"hemangiosarcoma\",\n",
    "\"Salivary gland cancer\",\n",
    "\"Thyroid cancer\",\n",
    "\"Parathyroid carcinoma\",\n",
    "\"Mesonephric carcinoma\",\n",
    "\"Stomach cancer\",\n",
    "\"Gastric adenocarcinoma\",\n",
    "\"Gastrointestinal stromal tumor\",\n",
    "\"Ampullary carcinoma\",\n",
    "\"Esophageal cancer\",\n",
    "\"Testicular cancer\",\n",
    "\"Skin cancer\",\n",
    "\"Sebaceous carcinoma\",\n",
    "\"Merkel cell carcinoma\",\n",
    "\"Bone cancer\",\n",
    "\"Giant cell tumor of bone\",\n",
    "\"Chordoma\",\n",
    "\"Sarcoma\",\n",
    "\"Head and neck cancer\",\n",
    "\"Throat cancer\",\n",
    "\"Mouth cancer\",\n",
    "\"Nasal cancer\",\n",
    "\"Eye cancer\",\n",
    "\"Ear cancer\",\n",
    "\"Gallbladder cancer\",\n",
    "\"Anal cancer\",\n",
    "\"Penile cancer\",\n",
    "\"Vaginal cancer\",\n",
    "\"Vulvar cancer\",\n",
    "\"Endometrial cancer\",\n",
    "\"Granulosa cell tumor\",\n",
    "\"Sertoli-Leydig cell tumor\",\n",
    "\"Uterine cancer\",\n",
    "\"Fallopian tube cancer\",\n",
    "\"Peritoneal cancer\",\n",
    "\"Small cell lung cancer\",\n",
    "\"Non-small cell lung cancer\",\n",
    "\"Squamous cell carcinoma\",\n",
    "\"Basal cell carcinoma\",\n",
    "\"Adenocarcinoma\",\n",
    "\"Mucinous carcinoma\",\n",
    "\"Ductal carcinoma\",\n",
    "\"Lobular carcinoma\",\n",
    "\"Clear cell carcinoma\",\n",
    "\"Transitional cell carcinoma\",\n",
    "\"Adenoid cystic carcinoma\",\n",
    "\"Follicular lymphoma\",\n",
    "\"Hodgkin lymphoma\",\n",
    "\"Non-Hodgkin lymphoma\",\n",
    "\"Acute lymphoblastic leukemia\",\n",
    "\"Chronic lymphocytic leukemia\",\n",
    "\"Acute myeloid leukemia\",\n",
    "\"Chronic myeloid leukemia\",\n",
    "\"Glioblastoma\",\n",
    "\"Astrocytoma\",\n",
    "\"Medulloblastoma\",\n",
    "\"Meningioma\",\n",
    "\"Ependymoma\",\n",
    "\"Adenocarcinoma of the colon\",\n",
    "\"Squamous cell carcinoma of the skin\",\n",
    "\"Adenocarcinoma of the pancreas\",\n",
    "\"Cholangiocarcinoma\",\n",
    "\"Hepatocellular carcinoma\",\n",
    "\"Fibrolamellar carcinoma\",\n",
    "\"Anaplastic thyroid cancer\",\n",
    "\"Papillary thyroid cancer\",\n",
    "\"Follicular thyroid cancer\",\n",
    "\"Medullary thyroid cancer\",\n",
    "\"Oligodendroglioma\",\n",
    "\"Malignant peripheral nerve sheath tumor\",\n",
    "\"Primitive neuroectodermal tumor\",\n",
    "\"Rhabdomyosarcoma\",\n",
    "\"Ewing sarcoma\",\n",
    "\"Chondrosarcoma\",\n",
    "\"Osteosarcoma\",\n",
    "\"Angiosarcoma\",\n",
    "\"Leiomyosarcoma\",\n",
    "\"Malignant fibrous histiocytoma\",\n",
    "\"Liposarcoma\",\n",
    "\"Synovial sarcoma\",\n",
    "\"Fibrosarcoma\",\n",
    "\"Kaposi sarcoma\",\n",
    "\"Pleomorphic sarcoma\",\n",
    "\"Alveolar soft part sarcoma\",\n",
    "\"Extraskeletal myxoid chondrosarcoma\",\n",
    "\"Endometrial stromal sarcoma\",\n",
    "\"Leiomyoma\",\n",
    "\"Neurofibroma\",\n",
    "\"Schwannoma\",\n",
    "\"Desmoplastic small round cell tumor\",\n",
    "\"Epithelioid sarcoma\",\n",
    "\"Extraskeletal osteosarcoma\",\n",
    "\"Extraskeletal chondrosarcoma\",\n",
    "\"Malignant mesenchymoma\",\n",
    "\"Mucinous adenocarcinoma\",\n",
    "\"Osteoblastoma\",\n",
    "\"Osteochondroma\",\n",
    "\"Periosteal osteosarcoma\",\n",
    "\"Solitary fibrous tumor\",\n",
    "\"Small intestine cancer\",\n",
    "\"Appendix cancer\",\n",
    "\"Ileal cancer\",\n",
    "\"Jejunal cancer\",\n",
    "\"Duodenal cancer\",\n",
    "\"Ampullary cancer\",\n",
    "\"Diffuse large B-cell lymphoma\",\n",
    "\"Mantle cell lymphoma\",\n",
    "\"Marginal zone lymphoma\",\n",
    "\"Mucosa-associated lymphoid tissue lymphoma\",\n",
    "\"Peripheral T-cell lymphoma\",\n",
    "\"Primary central nervous system lymphoma\",\n",
    "\"Hairy cell leukemia\",\n",
    "\"Myelodysplastic syndromes\",\n",
    "\"Myeloproliferative neoplasms\",\n",
    "\"Polycythemia vera\",\n",
    "\"Essential thrombocythemia\",\n",
    "\"Primary myelofibrosis\",\n",
    "\"Chronic neutrophilic leukemia\",\n",
    "\"Chronic eosinophilic leukemia\",\n",
    "\"Mast cell leukemia\",\n",
    "\"Atypical chronic myeloid leukemia\",\n",
    "\"Juvenile myelomonocytic leukemia\",\n",
    "\"Systemic mastocytosis\",\n",
    "\"Cutaneous mastocytosis\",\n",
    "\"Aggressive systemic mastocytosis\",\n",
    "\"Smoldering systemic mastocytosis\",\n",
    "\"Mast cell sarcoma\",\n",
    "\"Laryngeal cancer\",\n",
    "\"Vulval cancer\"]"
   ]
  },
  {
   "cell_type": "code",
   "execution_count": 7,
   "id": "aeb1e9fc-b839-4970-9e54-28ed3863f9a9",
   "metadata": {},
   "outputs": [],
   "source": [
    "# List of animal species used in cancer research\n",
    "species = [\"human\", \n",
    "           \"patient\",\n",
    "           \"primate\",\n",
    "           \"macaque\",\n",
    "           \"monkey\",\n",
    "           \"Chimpanzee\",\n",
    "           \"rat\", \n",
    "           \"mouse\",\n",
    "           \"mice\",\n",
    "           \"rabbit\", \n",
    "           \"Lagomorph\",\n",
    "           \"guinea pig\", \n",
    "           \"zebrafish\", \n",
    "           \"medaka\",                   # Another model fish\n",
    "           \"fruit fly\",\n",
    "           \"Syrian hamster\",\n",
    "           \"Homo sapiens\",\n",
    "           \"H.sapiens\",\n",
    "           \"Rhesus macaque\",           # In the cases where confusion with other nouns is possible, use additional words\n",
    "           \"Rhesus monkey\",\n",
    "           \"Macaca mulatta\",\n",
    "           \"M. mulatta\",\n",
    "           \"Macaca fascicularis\",\n",
    "           \"M. fasticularis\"\n",
    "           \"Cynomolgus\",               # In the cases where no confusion with other nouns is possible, use just genus\n",
    "           \"Pan troglodytes\",\n",
    "           \"P. troglodytes\",\n",
    "           \"Rattus norvegicus\",\n",
    "           \"R. norvegicus\"\n",
    "           \"Mus musculus\",\n",
    "           \"M. musculus\",\n",
    "           \"Oryctolagus cuniculus\",\n",
    "           \"O. cuniculus\",\n",
    "           \"Cavia porcellus\",\n",
    "           \"C. porcellus\",\n",
    "           \"Danio rerio\",\n",
    "           \"D. rerio\",\n",
    "           \"Drosophila\",\n",
    "           \"D. melanogaster\",\n",
    "           \"Mesocricetus auratus\",\n",
    "           \"M. auratus\",\n",
    "           \"Oryzias latipes\",\n",
    "           \"O. latipes\",\n",
    "           \"Caenorhabditis elegans\"\n",
    "           \"C. elegans\"]"
   ]
  },
  {
   "cell_type": "code",
   "execution_count": 22,
   "id": "bbb1c2c8-90da-43a7-97b3-e4b48b946cd5",
   "metadata": {},
   "outputs": [],
   "source": [
    "def extractCancerAnimal(cell_content):\n",
    "    str_cell_content = str(cell_content)\n",
    "    # Find cancer types\n",
    "    found_cancers = [cancer for cancer in cancer_types if re.search(r'\\b' + cancer + r'\\b', str_cell_content, flags=re.IGNORECASE)]\n",
    "    found_species = [animal for animal in species if re.search(r'\\b' + animal + r'\\b', str_cell_content, flags=re.IGNORECASE)]\n",
    "    return found_cancers, found_species"
   ]
  },
  {
   "cell_type": "code",
   "execution_count": 27,
   "id": "2bfb7b41-43c2-4f47-a89f-2809e0008aa3",
   "metadata": {},
   "outputs": [
    {
     "name": "stdout",
     "output_type": "stream",
     "text": [
      "Parsing csv: parsedX_100000.csv, 1 / 45\n"
     ]
    },
    {
     "name": "stderr",
     "output_type": "stream",
     "text": [
      "100%|████████████████████████████████████████████████████████████████████████████████████████████████████████████████████████████████████████████████████████████████████| 100000/100000 [07:24<00:00, 224.74it/s]\n"
     ]
    },
    {
     "name": "stdout",
     "output_type": "stream",
     "text": [
      "--Parsing time: 457.51\n",
      "Parsing csv: parsedX_1000000.csv, 2 / 45\n"
     ]
    },
    {
     "name": "stderr",
     "output_type": "stream",
     "text": [
      "100%|████████████████████████████████████████████████████████████████████████████████████████████████████████████████████████████████████████████████████████████████████| 100000/100000 [08:54<00:00, 186.92it/s]\n"
     ]
    },
    {
     "name": "stdout",
     "output_type": "stream",
     "text": [
      "--Parsing time: 548.09\n",
      "Parsing csv: parsedX_1100000.csv, 3 / 45\n"
     ]
    },
    {
     "name": "stderr",
     "output_type": "stream",
     "text": [
      "100%|████████████████████████████████████████████████████████████████████████████████████████████████████████████████████████████████████████████████████████████████████| 100000/100000 [09:10<00:00, 181.57it/s]\n"
     ]
    },
    {
     "name": "stdout",
     "output_type": "stream",
     "text": [
      "--Parsing time: 563.98\n",
      "Parsing csv: parsedX_1200000.csv, 4 / 45\n"
     ]
    },
    {
     "name": "stderr",
     "output_type": "stream",
     "text": [
      "100%|██████████████████████████████████████████████████████████████████████████████████████████████████████████████████████████████████████████████████████████████████████| 99260/99260 [09:07<00:00, 181.15it/s]\n"
     ]
    },
    {
     "name": "stdout",
     "output_type": "stream",
     "text": [
      "--Parsing time: 561.17\n",
      "Parsing csv: parsedX_1300000.csv, 5 / 45\n"
     ]
    },
    {
     "name": "stderr",
     "output_type": "stream",
     "text": [
      "100%|████████████████████████████████████████████████████████████████████████████████████████████████████████████████████████████████████████████████████████████████████| 100000/100000 [09:12<00:00, 180.97it/s]\n"
     ]
    },
    {
     "name": "stdout",
     "output_type": "stream",
     "text": [
      "--Parsing time: 565.69\n",
      "Parsing csv: parsedX_1400000.csv, 6 / 45\n"
     ]
    },
    {
     "name": "stderr",
     "output_type": "stream",
     "text": [
      "C:\\Users\\svalb\\AppData\\Local\\Temp\\ipykernel_22808\\1599586646.py:15: DtypeWarning: Columns (12) have mixed types. Specify dtype option on import or set low_memory=False.\n",
      "  df = pd.read_csv(DF_input + csv)\n",
      "100%|██████████████████████████████████████████████████████████████████████████████████████████████████████████████████████████████████████████████████████████████████████| 99920/99920 [09:10<00:00, 181.51it/s]\n"
     ]
    },
    {
     "name": "stdout",
     "output_type": "stream",
     "text": [
      "--Parsing time: 563.63\n",
      "Parsing csv: parsedX_1500000.csv, 7 / 45\n"
     ]
    },
    {
     "name": "stderr",
     "output_type": "stream",
     "text": [
      "100%|████████████████████████████████████████████████████████████████████████████████████████████████████████████████████████████████████████████████████████████████████| 100000/100000 [09:07<00:00, 182.63it/s]\n"
     ]
    },
    {
     "name": "stdout",
     "output_type": "stream",
     "text": [
      "--Parsing time: 560.9\n",
      "Parsing csv: parsedX_1600000.csv, 8 / 45\n"
     ]
    },
    {
     "name": "stderr",
     "output_type": "stream",
     "text": [
      "100%|████████████████████████████████████████████████████████████████████████████████████████████████████████████████████████████████████████████████████████████████████| 100000/100000 [09:06<00:00, 183.06it/s]\n"
     ]
    },
    {
     "name": "stdout",
     "output_type": "stream",
     "text": [
      "--Parsing time: 559.47\n",
      "Parsing csv: parsedX_1700000.csv, 9 / 45\n"
     ]
    },
    {
     "name": "stderr",
     "output_type": "stream",
     "text": [
      "100%|████████████████████████████████████████████████████████████████████████████████████████████████████████████████████████████████████████████████████████████████████| 100000/100000 [09:16<00:00, 179.67it/s]\n"
     ]
    },
    {
     "name": "stdout",
     "output_type": "stream",
     "text": [
      "--Parsing time: 569.95\n",
      "Parsing csv: parsedX_1800000.csv, 10 / 45\n"
     ]
    },
    {
     "name": "stderr",
     "output_type": "stream",
     "text": [
      "C:\\Users\\svalb\\AppData\\Local\\Temp\\ipykernel_22808\\1599586646.py:15: DtypeWarning: Columns (13,14,15) have mixed types. Specify dtype option on import or set low_memory=False.\n",
      "  df = pd.read_csv(DF_input + csv)\n",
      "100%|████████████████████████████████████████████████████████████████████████████████████████████████████████████████████████████████████████████████████████████████████| 100000/100000 [09:31<00:00, 174.91it/s]\n"
     ]
    },
    {
     "name": "stdout",
     "output_type": "stream",
     "text": [
      "--Parsing time: 585.2\n",
      "Parsing csv: parsedX_1900000.csv, 11 / 45\n"
     ]
    },
    {
     "name": "stderr",
     "output_type": "stream",
     "text": [
      "C:\\Users\\svalb\\AppData\\Local\\Temp\\ipykernel_22808\\1599586646.py:15: DtypeWarning: Columns (13,14,15) have mixed types. Specify dtype option on import or set low_memory=False.\n",
      "  df = pd.read_csv(DF_input + csv)\n",
      "100%|████████████████████████████████████████████████████████████████████████████████████████████████████████████████████████████████████████████████████████████████████| 100000/100000 [09:34<00:00, 174.13it/s]\n"
     ]
    },
    {
     "name": "stdout",
     "output_type": "stream",
     "text": [
      "--Parsing time: 587.94\n",
      "Parsing csv: parsedX_200000.csv, 12 / 45\n"
     ]
    },
    {
     "name": "stderr",
     "output_type": "stream",
     "text": [
      "100%|████████████████████████████████████████████████████████████████████████████████████████████████████████████████████████████████████████████████████████████████████| 100000/100000 [06:51<00:00, 242.95it/s]\n"
     ]
    },
    {
     "name": "stdout",
     "output_type": "stream",
     "text": [
      "--Parsing time: 423.44\n",
      "Parsing csv: parsedX_2000000.csv, 13 / 45\n"
     ]
    },
    {
     "name": "stderr",
     "output_type": "stream",
     "text": [
      "100%|████████████████████████████████████████████████████████████████████████████████████████████████████████████████████████████████████████████████████████████████████| 100000/100000 [09:33<00:00, 174.28it/s]\n"
     ]
    },
    {
     "name": "stdout",
     "output_type": "stream",
     "text": [
      "--Parsing time: 587.47\n",
      "Parsing csv: parsedX_2100000.csv, 14 / 45\n"
     ]
    },
    {
     "name": "stderr",
     "output_type": "stream",
     "text": [
      "100%|████████████████████████████████████████████████████████████████████████████████████████████████████████████████████████████████████████████████████████████████████| 100000/100000 [09:38<00:00, 172.80it/s]\n"
     ]
    },
    {
     "name": "stdout",
     "output_type": "stream",
     "text": [
      "--Parsing time: 592.33\n",
      "Parsing csv: parsedX_2200000.csv, 15 / 45\n"
     ]
    },
    {
     "name": "stderr",
     "output_type": "stream",
     "text": [
      "C:\\Users\\svalb\\AppData\\Local\\Temp\\ipykernel_22808\\1599586646.py:15: DtypeWarning: Columns (13,14,15) have mixed types. Specify dtype option on import or set low_memory=False.\n",
      "  df = pd.read_csv(DF_input + csv)\n",
      "100%|████████████████████████████████████████████████████████████████████████████████████████████████████████████████████████████████████████████████████████████████████| 100000/100000 [09:49<00:00, 169.61it/s]\n"
     ]
    },
    {
     "name": "stdout",
     "output_type": "stream",
     "text": [
      "--Parsing time: 603.62\n",
      "Parsing csv: parsedX_2300000.csv, 16 / 45\n"
     ]
    },
    {
     "name": "stderr",
     "output_type": "stream",
     "text": [
      "100%|████████████████████████████████████████████████████████████████████████████████████████████████████████████████████████████████████████████████████████████████████| 100000/100000 [09:56<00:00, 167.60it/s]\n"
     ]
    },
    {
     "name": "stdout",
     "output_type": "stream",
     "text": [
      "--Parsing time: 611.14\n",
      "Parsing csv: parsedX_2400000.csv, 17 / 45\n"
     ]
    },
    {
     "name": "stderr",
     "output_type": "stream",
     "text": [
      "C:\\Users\\svalb\\AppData\\Local\\Temp\\ipykernel_22808\\1599586646.py:15: DtypeWarning: Columns (13,14,15) have mixed types. Specify dtype option on import or set low_memory=False.\n",
      "  df = pd.read_csv(DF_input + csv)\n",
      "100%|████████████████████████████████████████████████████████████████████████████████████████████████████████████████████████████████████████████████████████████████████| 100000/100000 [09:58<00:00, 167.01it/s]\n"
     ]
    },
    {
     "name": "stdout",
     "output_type": "stream",
     "text": [
      "--Parsing time: 613.86\n",
      "Parsing csv: parsedX_2500000.csv, 18 / 45\n"
     ]
    },
    {
     "name": "stderr",
     "output_type": "stream",
     "text": [
      "C:\\Users\\svalb\\AppData\\Local\\Temp\\ipykernel_22808\\1599586646.py:15: DtypeWarning: Columns (13,14,15) have mixed types. Specify dtype option on import or set low_memory=False.\n",
      "  df = pd.read_csv(DF_input + csv)\n",
      "100%|████████████████████████████████████████████████████████████████████████████████████████████████████████████████████████████████████████████████████████████████████| 100000/100000 [10:04<00:00, 165.37it/s]\n"
     ]
    },
    {
     "name": "stdout",
     "output_type": "stream",
     "text": [
      "--Parsing time: 620.19\n",
      "Parsing csv: parsedX_2600000.csv, 19 / 45\n"
     ]
    },
    {
     "name": "stderr",
     "output_type": "stream",
     "text": [
      "C:\\Users\\svalb\\AppData\\Local\\Temp\\ipykernel_22808\\1599586646.py:15: DtypeWarning: Columns (13,14,15) have mixed types. Specify dtype option on import or set low_memory=False.\n",
      "  df = pd.read_csv(DF_input + csv)\n",
      "100%|████████████████████████████████████████████████████████████████████████████████████████████████████████████████████████████████████████████████████████████████████| 100000/100000 [10:07<00:00, 164.60it/s]\n"
     ]
    },
    {
     "name": "stdout",
     "output_type": "stream",
     "text": [
      "--Parsing time: 623.56\n",
      "Parsing csv: parsedX_2700000.csv, 20 / 45\n"
     ]
    },
    {
     "name": "stderr",
     "output_type": "stream",
     "text": [
      "C:\\Users\\svalb\\AppData\\Local\\Temp\\ipykernel_22808\\1599586646.py:15: DtypeWarning: Columns (13,14,15) have mixed types. Specify dtype option on import or set low_memory=False.\n",
      "  df = pd.read_csv(DF_input + csv)\n",
      "100%|████████████████████████████████████████████████████████████████████████████████████████████████████████████████████████████████████████████████████████████████████| 100000/100000 [10:03<00:00, 165.60it/s]\n"
     ]
    },
    {
     "name": "stdout",
     "output_type": "stream",
     "text": [
      "--Parsing time: 619.99\n",
      "Parsing csv: parsedX_2800000.csv, 21 / 45\n"
     ]
    },
    {
     "name": "stderr",
     "output_type": "stream",
     "text": [
      "C:\\Users\\svalb\\AppData\\Local\\Temp\\ipykernel_22808\\1599586646.py:15: DtypeWarning: Columns (13,14,15) have mixed types. Specify dtype option on import or set low_memory=False.\n",
      "  df = pd.read_csv(DF_input + csv)\n",
      "100%|████████████████████████████████████████████████████████████████████████████████████████████████████████████████████████████████████████████████████████████████████| 100000/100000 [09:44<00:00, 171.12it/s]\n"
     ]
    },
    {
     "name": "stdout",
     "output_type": "stream",
     "text": [
      "--Parsing time: 600.58\n",
      "Parsing csv: parsedX_2900000.csv, 22 / 45\n"
     ]
    },
    {
     "name": "stderr",
     "output_type": "stream",
     "text": [
      "100%|████████████████████████████████████████████████████████████████████████████████████████████████████████████████████████████████████████████████████████████████████| 100000/100000 [09:29<00:00, 175.68it/s]\n"
     ]
    },
    {
     "name": "stdout",
     "output_type": "stream",
     "text": [
      "--Parsing time: 585.29\n",
      "Parsing csv: parsedX_300000.csv, 23 / 45\n"
     ]
    },
    {
     "name": "stderr",
     "output_type": "stream",
     "text": [
      "100%|████████████████████████████████████████████████████████████████████████████████████████████████████████████████████████████████████████████████████████████████████| 100000/100000 [06:11<00:00, 269.52it/s]\n"
     ]
    },
    {
     "name": "stdout",
     "output_type": "stream",
     "text": [
      "--Parsing time: 382.41\n",
      "Parsing csv: parsedX_3000000.csv, 24 / 45\n"
     ]
    },
    {
     "name": "stderr",
     "output_type": "stream",
     "text": [
      "C:\\Users\\svalb\\AppData\\Local\\Temp\\ipykernel_22808\\1599586646.py:15: DtypeWarning: Columns (13,14,15) have mixed types. Specify dtype option on import or set low_memory=False.\n",
      "  df = pd.read_csv(DF_input + csv)\n",
      "100%|████████████████████████████████████████████████████████████████████████████████████████████████████████████████████████████████████████████████████████████████████| 100000/100000 [09:22<00:00, 177.91it/s]\n"
     ]
    },
    {
     "name": "stdout",
     "output_type": "stream",
     "text": [
      "--Parsing time: 578.06\n",
      "Parsing csv: parsedX_3100000.csv, 25 / 45\n"
     ]
    },
    {
     "name": "stderr",
     "output_type": "stream",
     "text": [
      "C:\\Users\\svalb\\AppData\\Local\\Temp\\ipykernel_22808\\1599586646.py:15: DtypeWarning: Columns (13,14,15) have mixed types. Specify dtype option on import or set low_memory=False.\n",
      "  df = pd.read_csv(DF_input + csv)\n",
      "100%|████████████████████████████████████████████████████████████████████████████████████████████████████████████████████████████████████████████████████████████████████| 100000/100000 [09:26<00:00, 176.52it/s]\n"
     ]
    },
    {
     "name": "stdout",
     "output_type": "stream",
     "text": [
      "--Parsing time: 582.33\n",
      "Parsing csv: parsedX_3200000.csv, 26 / 45\n"
     ]
    },
    {
     "name": "stderr",
     "output_type": "stream",
     "text": [
      "C:\\Users\\svalb\\AppData\\Local\\Temp\\ipykernel_22808\\1599586646.py:15: DtypeWarning: Columns (13,14,15) have mixed types. Specify dtype option on import or set low_memory=False.\n",
      "  df = pd.read_csv(DF_input + csv)\n",
      "100%|████████████████████████████████████████████████████████████████████████████████████████████████████████████████████████████████████████████████████████████████████| 100000/100000 [09:21<00:00, 178.00it/s]\n"
     ]
    },
    {
     "name": "stdout",
     "output_type": "stream",
     "text": [
      "--Parsing time: 577.61\n",
      "Parsing csv: parsedX_3300000.csv, 27 / 45\n"
     ]
    },
    {
     "name": "stderr",
     "output_type": "stream",
     "text": [
      "C:\\Users\\svalb\\AppData\\Local\\Temp\\ipykernel_22808\\1599586646.py:15: DtypeWarning: Columns (13,14,15) have mixed types. Specify dtype option on import or set low_memory=False.\n",
      "  df = pd.read_csv(DF_input + csv)\n",
      "100%|████████████████████████████████████████████████████████████████████████████████████████████████████████████████████████████████████████████████████████████████████| 100000/100000 [09:08<00:00, 182.25it/s]\n"
     ]
    },
    {
     "name": "stdout",
     "output_type": "stream",
     "text": [
      "--Parsing time: 564.83\n",
      "Parsing csv: parsedX_3400000.csv, 28 / 45\n"
     ]
    },
    {
     "name": "stderr",
     "output_type": "stream",
     "text": [
      "C:\\Users\\svalb\\AppData\\Local\\Temp\\ipykernel_22808\\1599586646.py:15: DtypeWarning: Columns (13,14,15) have mixed types. Specify dtype option on import or set low_memory=False.\n",
      "  df = pd.read_csv(DF_input + csv)\n",
      "100%|████████████████████████████████████████████████████████████████████████████████████████████████████████████████████████████████████████████████████████████████████| 100000/100000 [09:14<00:00, 180.24it/s]\n"
     ]
    },
    {
     "name": "stdout",
     "output_type": "stream",
     "text": [
      "--Parsing time: 570.61\n",
      "Parsing csv: parsedX_3500000.csv, 29 / 45\n"
     ]
    },
    {
     "name": "stderr",
     "output_type": "stream",
     "text": [
      "100%|████████████████████████████████████████████████████████████████████████████████████████████████████████████████████████████████████████████████████████████████████| 100000/100000 [09:14<00:00, 180.19it/s]\n"
     ]
    },
    {
     "name": "stdout",
     "output_type": "stream",
     "text": [
      "--Parsing time: 570.87\n",
      "Parsing csv: parsedX_3600000.csv, 30 / 45\n"
     ]
    },
    {
     "name": "stderr",
     "output_type": "stream",
     "text": [
      "C:\\Users\\svalb\\AppData\\Local\\Temp\\ipykernel_22808\\1599586646.py:15: DtypeWarning: Columns (13,14,15) have mixed types. Specify dtype option on import or set low_memory=False.\n",
      "  df = pd.read_csv(DF_input + csv)\n",
      "100%|████████████████████████████████████████████████████████████████████████████████████████████████████████████████████████████████████████████████████████████████████| 100000/100000 [09:40<00:00, 172.38it/s]\n"
     ]
    },
    {
     "name": "stdout",
     "output_type": "stream",
     "text": [
      "--Parsing time: 596.3\n",
      "Parsing csv: parsedX_3700000.csv, 31 / 45\n"
     ]
    },
    {
     "name": "stderr",
     "output_type": "stream",
     "text": [
      "100%|████████████████████████████████████████████████████████████████████████████████████████████████████████████████████████████████████████████████████████████████████| 100000/100000 [09:32<00:00, 174.78it/s]\n"
     ]
    },
    {
     "name": "stdout",
     "output_type": "stream",
     "text": [
      "--Parsing time: 588.28\n",
      "Parsing csv: parsedX_3800000.csv, 32 / 45\n"
     ]
    },
    {
     "name": "stderr",
     "output_type": "stream",
     "text": [
      "C:\\Users\\svalb\\AppData\\Local\\Temp\\ipykernel_22808\\1599586646.py:15: DtypeWarning: Columns (13,14,15) have mixed types. Specify dtype option on import or set low_memory=False.\n",
      "  df = pd.read_csv(DF_input + csv)\n",
      "100%|████████████████████████████████████████████████████████████████████████████████████████████████████████████████████████████████████████████████████████████████████| 100000/100000 [09:34<00:00, 174.10it/s]\n"
     ]
    },
    {
     "name": "stdout",
     "output_type": "stream",
     "text": [
      "--Parsing time: 590.58\n",
      "Parsing csv: parsedX_3900000.csv, 33 / 45\n"
     ]
    },
    {
     "name": "stderr",
     "output_type": "stream",
     "text": [
      "C:\\Users\\svalb\\AppData\\Local\\Temp\\ipykernel_22808\\1599586646.py:15: DtypeWarning: Columns (13,14,15) have mixed types. Specify dtype option on import or set low_memory=False.\n",
      "  df = pd.read_csv(DF_input + csv)\n",
      "100%|████████████████████████████████████████████████████████████████████████████████████████████████████████████████████████████████████████████████████████████████████| 100000/100000 [09:31<00:00, 175.04it/s]\n"
     ]
    },
    {
     "name": "stdout",
     "output_type": "stream",
     "text": [
      "--Parsing time: 588.56\n",
      "Parsing csv: parsedX_400000.csv, 34 / 45\n"
     ]
    },
    {
     "name": "stderr",
     "output_type": "stream",
     "text": [
      "C:\\Users\\svalb\\AppData\\Local\\Temp\\ipykernel_22808\\1599586646.py:15: DtypeWarning: Columns (13,14,15) have mixed types. Specify dtype option on import or set low_memory=False.\n",
      "  df = pd.read_csv(DF_input + csv)\n",
      "100%|████████████████████████████████████████████████████████████████████████████████████████████████████████████████████████████████████████████████████████████████████| 100000/100000 [06:09<00:00, 270.33it/s]\n"
     ]
    },
    {
     "name": "stdout",
     "output_type": "stream",
     "text": [
      "--Parsing time: 382.79\n",
      "Parsing csv: parsedX_4000000.csv, 35 / 45\n"
     ]
    },
    {
     "name": "stderr",
     "output_type": "stream",
     "text": [
      "100%|████████████████████████████████████████████████████████████████████████████████████████████████████████████████████████████████████████████████████████████████████| 100000/100000 [10:38<00:00, 156.59it/s]\n"
     ]
    },
    {
     "name": "stdout",
     "output_type": "stream",
     "text": [
      "--Parsing time: 657.67\n",
      "Parsing csv: parsedX_4100000.csv, 36 / 45\n"
     ]
    },
    {
     "name": "stderr",
     "output_type": "stream",
     "text": [
      "C:\\Users\\svalb\\AppData\\Local\\Temp\\ipykernel_22808\\1599586646.py:15: DtypeWarning: Columns (13,14,15) have mixed types. Specify dtype option on import or set low_memory=False.\n",
      "  df = pd.read_csv(DF_input + csv)\n",
      "100%|████████████████████████████████████████████████████████████████████████████████████████████████████████████████████████████████████████████████████████████████████| 100000/100000 [10:34<00:00, 157.70it/s]\n"
     ]
    },
    {
     "name": "stdout",
     "output_type": "stream",
     "text": [
      "--Parsing time: 651.51\n",
      "Parsing csv: parsedX_4200000.csv, 37 / 45\n"
     ]
    },
    {
     "name": "stderr",
     "output_type": "stream",
     "text": [
      "C:\\Users\\svalb\\AppData\\Local\\Temp\\ipykernel_22808\\1599586646.py:15: DtypeWarning: Columns (13,14,15) have mixed types. Specify dtype option on import or set low_memory=False.\n",
      "  df = pd.read_csv(DF_input + csv)\n",
      "100%|████████████████████████████████████████████████████████████████████████████████████████████████████████████████████████████████████████████████████████████████████| 100000/100000 [09:44<00:00, 171.08it/s]\n"
     ]
    },
    {
     "name": "stdout",
     "output_type": "stream",
     "text": [
      "--Parsing time: 600.93\n",
      "Parsing csv: parsedX_4300000.csv, 38 / 45\n"
     ]
    },
    {
     "name": "stderr",
     "output_type": "stream",
     "text": [
      "C:\\Users\\svalb\\AppData\\Local\\Temp\\ipykernel_22808\\1599586646.py:15: DtypeWarning: Columns (13,14,15) have mixed types. Specify dtype option on import or set low_memory=False.\n",
      "  df = pd.read_csv(DF_input + csv)\n",
      "100%|████████████████████████████████████████████████████████████████████████████████████████████████████████████████████████████████████████████████████████████████████| 100000/100000 [09:47<00:00, 170.24it/s]\n"
     ]
    },
    {
     "name": "stdout",
     "output_type": "stream",
     "text": [
      "--Parsing time: 604.11\n",
      "Parsing csv: parsedX_4400000.csv, 39 / 45\n"
     ]
    },
    {
     "name": "stderr",
     "output_type": "stream",
     "text": [
      "100%|████████████████████████████████████████████████████████████████████████████████████████████████████████████████████████████████████████████████████████████████████| 100000/100000 [09:54<00:00, 168.11it/s]\n"
     ]
    },
    {
     "name": "stdout",
     "output_type": "stream",
     "text": [
      "--Parsing time: 611.67\n",
      "Parsing csv: parsedX_4454000.csv, 40 / 45\n"
     ]
    },
    {
     "name": "stderr",
     "output_type": "stream",
     "text": [
      "100%|██████████████████████████████████████████████████████████████████████████████████████████████████████████████████████████████████████████████████████████████████████| 54056/54056 [05:23<00:00, 167.18it/s]\n"
     ]
    },
    {
     "name": "stdout",
     "output_type": "stream",
     "text": [
      "--Parsing time: 332.14\n",
      "Parsing csv: parsedX_500000.csv, 41 / 45\n"
     ]
    },
    {
     "name": "stderr",
     "output_type": "stream",
     "text": [
      "100%|████████████████████████████████████████████████████████████████████████████████████████████████████████████████████████████████████████████████████████████████████| 100000/100000 [07:51<00:00, 212.12it/s]\n"
     ]
    },
    {
     "name": "stdout",
     "output_type": "stream",
     "text": [
      "--Parsing time: 483.91\n",
      "Parsing csv: parsedX_600000.csv, 42 / 45\n"
     ]
    },
    {
     "name": "stderr",
     "output_type": "stream",
     "text": [
      "100%|████████████████████████████████████████████████████████████████████████████████████████████████████████████████████████████████████████████████████████████████████| 100000/100000 [07:52<00:00, 211.63it/s]\n"
     ]
    },
    {
     "name": "stdout",
     "output_type": "stream",
     "text": [
      "--Parsing time: 484.98\n",
      "Parsing csv: parsedX_700000.csv, 43 / 45\n"
     ]
    },
    {
     "name": "stderr",
     "output_type": "stream",
     "text": [
      "100%|████████████████████████████████████████████████████████████████████████████████████████████████████████████████████████████████████████████████████████████████████| 100000/100000 [08:20<00:00, 199.75it/s]\n"
     ]
    },
    {
     "name": "stdout",
     "output_type": "stream",
     "text": [
      "--Parsing time: 513.3\n",
      "Parsing csv: parsedX_800000.csv, 44 / 45\n"
     ]
    },
    {
     "name": "stderr",
     "output_type": "stream",
     "text": [
      "100%|████████████████████████████████████████████████████████████████████████████████████████████████████████████████████████████████████████████████████████████████████| 100000/100000 [08:35<00:00, 194.17it/s]\n"
     ]
    },
    {
     "name": "stdout",
     "output_type": "stream",
     "text": [
      "--Parsing time: 527.55\n",
      "Parsing csv: parsedX_900000.csv, 45 / 45\n"
     ]
    },
    {
     "name": "stderr",
     "output_type": "stream",
     "text": [
      "100%|████████████████████████████████████████████████████████████████████████████████████████████████████████████████████████████████████████████████████████████████████| 100000/100000 [08:42<00:00, 191.51it/s]\n"
     ]
    },
    {
     "name": "stdout",
     "output_type": "stream",
     "text": [
      "--Parsing time: 534.89\n"
     ]
    }
   ],
   "source": [
    "# Manage log of parsed files\n",
    "path_parsed_csvs = DF_input+\"csv files with Cancer and Species.txt\"\n",
    "if not os.path.exists(path_parsed_csvs):\n",
    "    open(path_parsed_csvs, 'a').close()\n",
    "\n",
    "parsed_csvs = []\n",
    "with open(path_parsed_csvs, \"r\") as f:\n",
    "    for line in f:\n",
    "        parsed_csvs.append(f)\n",
    "    \n",
    "for csv in list_csvs:\n",
    "    if csv not in parsed_csvs:\n",
    "        start = time.time()\n",
    "        print(f\"Parsing csv: {csv}, {list_csvs.index(csv)+1} / {n_csvs}\")\n",
    "        df = pd.read_csv(DF_input + csv)\n",
    "        df[[\"Cancer\", \"Species\"]] = df.progress_apply(lambda row: extractCancerAnimal([row['Title'], row['Abstract'], row['MeshHeadings'], row['Keywords']]), axis=1).apply(pd.Series)\n",
    "        df.to_csv(DF_input+csv, index=False)\n",
    "        del df\n",
    "        parsed_csvs.append(csv)\n",
    "        with open(path_parsed_csvs, \"a\") as f:\n",
    "                f.write(csv+\"\\n\")\n",
    "        print(f\"--Parsing time: {round(time.time()-start, 2)}\")"
   ]
  },
  {
   "cell_type": "code",
   "execution_count": null,
   "id": "3e00a403-45ac-43af-820d-f0faa8e5e08d",
   "metadata": {},
   "outputs": [],
   "source": []
  }
 ],
 "metadata": {
  "kernelspec": {
   "display_name": "Python 3 (ipykernel)",
   "language": "python",
   "name": "python3"
  },
  "language_info": {
   "codemirror_mode": {
    "name": "ipython",
    "version": 3
   },
   "file_extension": ".py",
   "mimetype": "text/x-python",
   "name": "python",
   "nbconvert_exporter": "python",
   "pygments_lexer": "ipython3",
   "version": "3.13.2"
  }
 },
 "nbformat": 4,
 "nbformat_minor": 5
}
