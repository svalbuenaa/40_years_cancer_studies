{
 "cells": [
  {
   "cell_type": "code",
   "execution_count": 27,
   "id": "dde461a9-58f5-4bcd-bf84-c89b6d8d6731",
   "metadata": {},
   "outputs": [],
   "source": [
    "import os\n",
    "import time\n",
    "import ast\n",
    "import pandas as pd\n",
    "import numpy as np\n",
    "from tqdm import tqdm\n",
    "from itertools import chain\n",
    "\n",
    "# DType warning when importing .csv files with parsed PMIDs. Avoid showing the warning\n",
    "import warnings\n",
    "warnings.simplefilter(action='ignore', category=pd.errors.DtypeWarning)\n",
    "warnings.simplefilter(action='ignore', category=pd.errors.PerformanceWarning)"
   ]
  },
  {
   "cell_type": "code",
   "execution_count": 3,
   "id": "3fea2df5-6de5-4f2e-85b3-2a81adc77423",
   "metadata": {},
   "outputs": [
    {
     "name": "stdin",
     "output_type": "stream",
     "text": [
      " C:\\Users\\svalb\\OneDrive\\Escritorio\\Data_40_years_cancer_studies\\parsedXMLs_first_update_match_GLOBOCAN\\\n"
     ]
    }
   ],
   "source": [
    "# Directory with the articles' dataset\n",
    "DF_input = input().strip()"
   ]
  },
  {
   "cell_type": "code",
   "execution_count": 4,
   "id": "b153cde4-e78a-4a6a-95a7-d41ae8639320",
   "metadata": {},
   "outputs": [
    {
     "name": "stdin",
     "output_type": "stream",
     "text": [
      " C:\\Users\\svalb\\OneDrive\\Escritorio\\Data_40_years_cancer_studies\\resources\\Globocan_dataset_ready.csv\n"
     ]
    }
   ],
   "source": [
    "# CSV with the finished Globocan dataset\n",
    "GLOBOCAN_input = input().strip()"
   ]
  },
  {
   "cell_type": "code",
   "execution_count": 5,
   "id": "874bbdda-01a1-49b5-9487-913f2d1fcaeb",
   "metadata": {
    "scrolled": true
   },
   "outputs": [
    {
     "data": {
      "text/plain": [
       "['parsedXMLs_first_upd_100000.csv',\n",
       " 'parsedXMLs_first_upd_200000.csv',\n",
       " 'parsedXMLs_first_upd_300000.csv',\n",
       " 'parsedXMLs_first_upd_340800.csv']"
      ]
     },
     "execution_count": 5,
     "metadata": {},
     "output_type": "execute_result"
    }
   ],
   "source": [
    "# Import file names of csvs containint articles' data \n",
    "list_dfs_papers = []\n",
    "\n",
    "for file in os.listdir(DF_input):\n",
    "    if file[-4:] == \".csv\":\n",
    "        list_dfs_papers.append(file)\n",
    "\n",
    "list_dfs_papers"
   ]
  },
  {
   "cell_type": "code",
   "execution_count": 6,
   "id": "bc4aa9e7-f6f0-467b-863e-c43d2c875390",
   "metadata": {},
   "outputs": [
    {
     "data": {
      "text/plain": [
       "{'Anal cancer',\n",
       " 'Bladder cancer',\n",
       " 'Brain cancer',\n",
       " 'Breast cancer',\n",
       " 'Cervical cancer',\n",
       " 'Colon cancer',\n",
       " 'Colorectal cancer',\n",
       " 'Esophageal cancer',\n",
       " 'Gallbladder cancer',\n",
       " 'Hodgkin lymphoma',\n",
       " 'Kaposi sarcoma',\n",
       " 'Kidney cancer',\n",
       " 'Laryngeal cancer',\n",
       " 'Leukemia',\n",
       " 'Liver cancer',\n",
       " 'Lung cancer',\n",
       " 'Mesothelioma',\n",
       " 'Mouth cancer',\n",
       " 'Multiple myeloma',\n",
       " 'Non-Hodgkin lymphoma',\n",
       " 'Ovarian cancer',\n",
       " 'Pancreatic cancer',\n",
       " 'Penile cancer',\n",
       " 'Prostate cancer',\n",
       " 'Rectal cancer',\n",
       " 'Salivary gland cancer',\n",
       " 'Skin cancer',\n",
       " 'Stomach cancer',\n",
       " 'Testicular cancer',\n",
       " 'Throat cancer',\n",
       " 'Thyroid cancer',\n",
       " 'Uterine cancer',\n",
       " 'Vaginal cancer',\n",
       " 'Vulvar cancer'}"
      ]
     },
     "execution_count": 6,
     "metadata": {},
     "output_type": "execute_result"
    }
   ],
   "source": [
    "# Show cancer types in Globocan dataset\n",
    "df_globocan = pd.read_csv(GLOBOCAN_input)\n",
    "\n",
    "set(df_globocan[\"Cancer\"].to_list())"
   ]
  },
  {
   "cell_type": "code",
   "execution_count": 7,
   "id": "7bd40cbd-30e4-4939-a555-d7c567d3601b",
   "metadata": {
    "scrolled": true
   },
   "outputs": [
    {
     "data": {
      "text/plain": [
       "{'Afghanistan',\n",
       " 'Albania',\n",
       " 'Algeria',\n",
       " 'Angola',\n",
       " 'Argentina',\n",
       " 'Armenia',\n",
       " 'Australia',\n",
       " 'Austria',\n",
       " 'Azerbaijan',\n",
       " 'Bahamas',\n",
       " 'Bahrain',\n",
       " 'Bangladesh',\n",
       " 'Barbados',\n",
       " 'Belarus',\n",
       " 'Belgium',\n",
       " 'Belize',\n",
       " 'Benin',\n",
       " 'Bhutan',\n",
       " 'Bolivia',\n",
       " 'Bosnia and Herzegovina',\n",
       " 'Botswana',\n",
       " 'Brazil',\n",
       " 'Brunei Darussalam',\n",
       " 'Bulgaria',\n",
       " 'Burkina Faso',\n",
       " 'Burundi',\n",
       " 'Cabo Verde',\n",
       " 'Cambodia',\n",
       " 'Cameroon',\n",
       " 'Canada',\n",
       " 'Central African Republic',\n",
       " 'Chad',\n",
       " 'Chile',\n",
       " 'China',\n",
       " 'Colombia',\n",
       " 'Comoros',\n",
       " 'Congo Republic',\n",
       " 'Costa Rica',\n",
       " \"Cote d'Ivoire\",\n",
       " 'Croatia',\n",
       " 'Cuba',\n",
       " 'Cyprus',\n",
       " 'Czechia',\n",
       " 'DR Congo',\n",
       " 'Denmark',\n",
       " 'Djibouti',\n",
       " 'Dominican Republic',\n",
       " 'Ecuador',\n",
       " 'Egypt',\n",
       " 'El Salvador',\n",
       " 'Eritrea',\n",
       " 'Estonia',\n",
       " 'Eswatini',\n",
       " 'Ethiopia',\n",
       " 'Fiji',\n",
       " 'Finland',\n",
       " 'France',\n",
       " 'French Guiana',\n",
       " 'French Polynesia',\n",
       " 'Gabon',\n",
       " 'Gambia',\n",
       " 'Georgia',\n",
       " 'Germany',\n",
       " 'Ghana',\n",
       " 'Greece',\n",
       " 'Guadeloupe',\n",
       " 'Guam',\n",
       " 'Guatemala',\n",
       " 'Guinea',\n",
       " 'Guinea-Bissau',\n",
       " 'Guyana',\n",
       " 'Haiti',\n",
       " 'Honduras',\n",
       " 'Hungary',\n",
       " 'Iceland',\n",
       " 'India',\n",
       " 'Indonesia',\n",
       " 'Iran',\n",
       " 'Iraq',\n",
       " 'Ireland',\n",
       " 'Israel',\n",
       " 'Italy',\n",
       " 'Jamaica',\n",
       " 'Japan',\n",
       " 'Jordan',\n",
       " 'Kazakhstan',\n",
       " 'Kenya',\n",
       " 'Kuwait',\n",
       " 'Kyrgyz Republic',\n",
       " 'Laos',\n",
       " 'Latvia',\n",
       " 'Lebanon',\n",
       " 'Lesotho',\n",
       " 'Liberia',\n",
       " 'Libya',\n",
       " 'Lithuania',\n",
       " 'Luxembourg',\n",
       " 'Madagascar',\n",
       " 'Malawi',\n",
       " 'Malaysia',\n",
       " 'Maldives',\n",
       " 'Mali',\n",
       " 'Malta',\n",
       " 'Martinique',\n",
       " 'Mauritania',\n",
       " 'Mauritius',\n",
       " 'Mexico',\n",
       " 'Micronesia, Fed. Sts.',\n",
       " 'Moldova',\n",
       " 'Mongolia',\n",
       " 'Montenegro',\n",
       " 'Morocco',\n",
       " 'Mozambique',\n",
       " 'Myanmar',\n",
       " 'Namibia',\n",
       " 'Nepal',\n",
       " 'Netherlands',\n",
       " 'New Caledonia',\n",
       " 'New Zealand',\n",
       " 'Nicaragua',\n",
       " 'Niger',\n",
       " 'Nigeria',\n",
       " 'North Korea',\n",
       " 'North Macedonia',\n",
       " 'Norway',\n",
       " 'Oman',\n",
       " 'Pakistan',\n",
       " 'Palestine',\n",
       " 'Panama',\n",
       " 'Papua New Guinea',\n",
       " 'Paraguay',\n",
       " 'Peru',\n",
       " 'Philippines',\n",
       " 'Poland',\n",
       " 'Portugal',\n",
       " 'Puerto Rico',\n",
       " 'Qatar',\n",
       " 'Reunion',\n",
       " 'Romania',\n",
       " 'Russia',\n",
       " 'Rwanda',\n",
       " 'Samoa',\n",
       " 'Sao Tome and Principe',\n",
       " 'Saudi Arabia',\n",
       " 'Senegal',\n",
       " 'Serbia',\n",
       " 'Sierra Leone',\n",
       " 'Singapore',\n",
       " 'Slovakia',\n",
       " 'Slovenia',\n",
       " 'Solomon Islands',\n",
       " 'Somalia',\n",
       " 'South Africa',\n",
       " 'South Korea',\n",
       " 'South Sudan',\n",
       " 'Spain',\n",
       " 'Sri Lanka',\n",
       " 'St. Lucia',\n",
       " 'Sudan',\n",
       " 'Suriname',\n",
       " 'Sweden',\n",
       " 'Switzerland',\n",
       " 'Syria',\n",
       " 'Tajikistan',\n",
       " 'Tanzania',\n",
       " 'Thailand',\n",
       " 'Timor-Leste',\n",
       " 'Togo',\n",
       " 'Trinidad and Tobago',\n",
       " 'Tunisia',\n",
       " 'Turkmenistan',\n",
       " 'Türkiye',\n",
       " 'Uganda',\n",
       " 'Ukraine',\n",
       " 'United Arab Emirates',\n",
       " 'United Kingdom',\n",
       " 'United States',\n",
       " 'Uruguay',\n",
       " 'Uzbekistan',\n",
       " 'Vanuatu',\n",
       " 'Venezuela',\n",
       " 'Vietnam',\n",
       " 'Yemen',\n",
       " 'Zambia',\n",
       " 'Zimbabwe'}"
      ]
     },
     "execution_count": 7,
     "metadata": {},
     "output_type": "execute_result"
    }
   ],
   "source": [
    "# Show country names in Globocan dataset\n",
    "set(df_globocan[\"Country\"].to_list())"
   ]
  },
  {
   "cell_type": "code",
   "execution_count": 8,
   "id": "fb4af879-c9eb-4104-b3a4-c6215405fe17",
   "metadata": {
    "scrolled": true
   },
   "outputs": [
    {
     "name": "stderr",
     "output_type": "stream",
     "text": [
      "  0%|                                                                                            | 0/4 [00:00<?, ?it/s]"
     ]
    },
    {
     "name": "stdout",
     "output_type": "stream",
     "text": [
      "Parsing csv: parsedXMLs_first_upd_100000.csv, 1 / 4\n"
     ]
    },
    {
     "name": "stderr",
     "output_type": "stream",
     "text": [
      " 25%|█████████████████████                                                               | 1/4 [00:05<00:16,  5.47s/it]"
     ]
    },
    {
     "name": "stdout",
     "output_type": "stream",
     "text": [
      "Parsing csv: parsedXMLs_first_upd_200000.csv, 2 / 4\n"
     ]
    },
    {
     "name": "stderr",
     "output_type": "stream",
     "text": [
      " 50%|██████████████████████████████████████████                                          | 2/4 [00:10<00:10,  5.44s/it]"
     ]
    },
    {
     "name": "stdout",
     "output_type": "stream",
     "text": [
      "Parsing csv: parsedXMLs_first_upd_300000.csv, 3 / 4\n"
     ]
    },
    {
     "name": "stderr",
     "output_type": "stream",
     "text": [
      " 75%|███████████████████████████████████████████████████████████████                     | 3/4 [00:16<00:05,  5.45s/it]"
     ]
    },
    {
     "name": "stdout",
     "output_type": "stream",
     "text": [
      "Parsing csv: parsedXMLs_first_upd_340800.csv, 4 / 4\n"
     ]
    },
    {
     "name": "stderr",
     "output_type": "stream",
     "text": [
      "100%|████████████████████████████████████████████████████████████████████████████████████| 4/4 [00:18<00:00,  4.63s/it]\n"
     ]
    }
   ],
   "source": [
    "## Extract country names in the articles' dataset\n",
    "articles_dataset_countries_list = []\n",
    "\n",
    "# Import each csv with articles' data and extract country names\n",
    "for csv in tqdm(list_dfs_papers):\n",
    "    print(f\"Parsing csv: {csv}, {list_dfs_papers.index(csv)+1} / {len(list_dfs_papers)}\")\n",
    "    df = pd.read_csv(DF_input + csv)\n",
    "    list_countries = list(set(df[\"Country\"]))\n",
    "    articles_dataset_countries_list.append(list_countries)\n",
    "    del df, list_countries\n",
    "\n",
    "# Flatten list, remove nan, convert to set\n",
    "articles_dataset_countries = set([el for el in (chain(*articles_dataset_countries_list)) if str(el) != \"nan\"])"
   ]
  },
  {
   "cell_type": "code",
   "execution_count": 9,
   "id": "7ef4f586-2ab0-41e8-8d6a-6952241873c2",
   "metadata": {},
   "outputs": [
    {
     "data": {
      "text/plain": [
       "{'Belize',\n",
       " 'Cabo Verde',\n",
       " 'Djibouti',\n",
       " 'Guinea',\n",
       " 'Guyana',\n",
       " 'Laos',\n",
       " 'Lesotho',\n",
       " 'Mauritania',\n",
       " 'Micronesia, Fed. Sts.',\n",
       " 'New Caledonia',\n",
       " 'Solomon Islands',\n",
       " 'South Sudan',\n",
       " 'Tajikistan',\n",
       " 'Turkmenistan',\n",
       " 'Vanuatu'}"
      ]
     },
     "execution_count": 9,
     "metadata": {},
     "output_type": "execute_result"
    }
   ],
   "source": [
    "# Unique entity names in the Globocan dataset\n",
    "globocan_dataset_countries = set(df_globocan[\"Country\"])\n",
    "\n",
    "# Countries appearing in Globocan dataset and missing in articles' dataset\n",
    "globocan_dataset_countries.difference(articles_dataset_countries)"
   ]
  },
  {
   "cell_type": "markdown",
   "id": "696941f7-1654-46b4-bc95-ece14079c472",
   "metadata": {},
   "source": [
    "No country in the Globocan dataset is absent from the articles' dataset"
   ]
  },
  {
   "cell_type": "code",
   "execution_count": 10,
   "id": "4bbe31f4-619f-470e-ac30-e8dcb02f9860",
   "metadata": {},
   "outputs": [
    {
     "data": {
      "text/plain": [
       "{'Aruba'}"
      ]
     },
     "execution_count": 10,
     "metadata": {},
     "output_type": "execute_result"
    }
   ],
   "source": [
    "# Entities appearing in articles' dataset and missing in Globocan dataset\n",
    "articles_dataset_countries.difference(globocan_dataset_countries)"
   ]
  },
  {
   "cell_type": "markdown",
   "id": "71858463-9ceb-469a-9511-6065fee7ac38",
   "metadata": {},
   "source": [
    "# Matching country names in Globocan and articles' datasets\n",
    "\n",
    "There are some naming discrepancies in the articles's dataset with respect to the Globocan dataset (e.g. there is no specification of **Taiwan** or **Hong Kong** in the Globocan dataset, there is only **China**). Here, these discrepancies are solved. In the case just mentioned, for instance, country of articles with coutry of publishing correspoding to **Taiwan** or **Hong Kong** are renamed to **China**. Other renamings are performed so that the country names and corresponding political entities are as similar as possible in the Globocan and the articles' datasets, so that comparisons performed downstream are as accurate as possible"
   ]
  },
  {
   "cell_type": "code",
   "execution_count": 11,
   "id": "8b43b676-3c55-4227-824a-dd4953467cab",
   "metadata": {},
   "outputs": [
    {
     "name": "stderr",
     "output_type": "stream",
     "text": [
      "  0%|                                                                                            | 0/4 [00:00<?, ?it/s]"
     ]
    },
    {
     "name": "stdout",
     "output_type": "stream",
     "text": [
      "Parsing csv: parsedXMLs_first_upd_100000.csv, 1 / 4\n"
     ]
    },
    {
     "name": "stderr",
     "output_type": "stream",
     "text": [
      " 25%|█████████████████████                                                               | 1/4 [00:14<00:42, 14.14s/it]"
     ]
    },
    {
     "name": "stdout",
     "output_type": "stream",
     "text": [
      "Parsing csv: parsedXMLs_first_upd_200000.csv, 2 / 4\n"
     ]
    },
    {
     "name": "stderr",
     "output_type": "stream",
     "text": [
      " 50%|██████████████████████████████████████████                                          | 2/4 [00:27<00:27, 13.90s/it]"
     ]
    },
    {
     "name": "stdout",
     "output_type": "stream",
     "text": [
      "Parsing csv: parsedXMLs_first_upd_300000.csv, 3 / 4\n"
     ]
    },
    {
     "name": "stderr",
     "output_type": "stream",
     "text": [
      " 75%|███████████████████████████████████████████████████████████████                     | 3/4 [00:42<00:14, 14.42s/it]"
     ]
    },
    {
     "name": "stdout",
     "output_type": "stream",
     "text": [
      "Parsing csv: parsedXMLs_first_upd_340800.csv, 4 / 4\n"
     ]
    },
    {
     "name": "stderr",
     "output_type": "stream",
     "text": [
      "100%|████████████████████████████████████████████████████████████████████████████████████| 4/4 [00:48<00:00, 12.23s/it]\n"
     ]
    }
   ],
   "source": [
    "# Remove or rename the coountries appearing in articles' dataset and missing in Globocan dataset\n",
    "\n",
    "for csv in tqdm(list_dfs_papers):\n",
    "    print(f\"Parsing csv: {csv}, {list_dfs_papers.index(csv)+1} / {len(list_dfs_papers)}\")\n",
    "    df = pd.read_csv(DF_input + csv)\n",
    "\n",
    "    ## REMOVE ARTICLES FROM NON-MATCHING COUNTRIES\n",
    "    # Remove articles with country name \"Andorra\" (no matching data in Globocan dataset)\n",
    "    df.drop(df.loc[df[\"Country\"] == \"Andorra\"].index, inplace = True)\n",
    "\n",
    "    # Remove articles with country name \"Tonga\" (no matching data in Globocan dataset)\n",
    "    df.drop(df.loc[df[\"Country\"] == \"Tonga\"].index, inplace = True)\n",
    "\n",
    "    # Remove articles with country name \"St. Kitts and Nevis\" (no matching data in Globocan dataset)\n",
    "    df.drop(df.loc[df[\"Country\"] == \"St. Kitts and Nevis\"].index, inplace = True)\n",
    "\n",
    "    # Remove articles with country name \"Liechtenstein\" (no matching data in Globocan dataset)\n",
    "    df.drop(df.loc[df[\"Country\"] == \"Liechtenstein\"].index, inplace = True)\n",
    "\n",
    "    # Remove articles with country name \"St. Vincent and the Grenadines\" (no matching data in Globocan dataset)\n",
    "    df.drop(df.loc[df[\"Country\"] == \"St. Vincent and the Grenadines\"].index, inplace = True)\n",
    "\n",
    "    # Remove articles with country name \"Antigua and Barbuda\" (no matching data in Globocan dataset)\n",
    "    df.drop(df.loc[df[\"Country\"] == \"Antigua and Barbuda\"].index, inplace = True)\n",
    "\n",
    "    # Remove articles with country name \"Monaco\" (no matching data in Globocan dataset)\n",
    "    df.drop(df.loc[df[\"Country\"] == \"Monaco\"].index, inplace = True)\n",
    "\n",
    "    # Remove articles with country name \"Tuvalu\" (no matching data in Globocan dataset)\n",
    "    df.drop(df.loc[df[\"Country\"] == \"Tuvalu\"].index, inplace = True)\n",
    "\n",
    "    # Remove articles with country name \"Dominica\" (no matching data in Globocan dataset)\n",
    "    df.drop(df.loc[df[\"Country\"] == \"Dominica\"].index, inplace = True)\n",
    "\n",
    "    # Remove articles with country name \"Palau\" (no matching data in Globocan dataset)\n",
    "    df.drop(df.loc[df[\"Country\"] == \"Palau\"].index, inplace = True)\n",
    "\n",
    "    # Remove articles with country name \"Marshall Islands\" (no matching data in Globocan dataset)\n",
    "    df.drop(df.loc[df[\"Country\"] == \"Marshall Islands\"].index, inplace = True)\n",
    "\n",
    "    # Remove articles with country name \"Grenada\" (no matching data in Globocan dataset)\n",
    "    df.drop(df.loc[df[\"Country\"] == \"Grenada\"].index, inplace = True)\n",
    "\n",
    "    # Remove articles with country name \"Vatican\" (no matching data in Globocan dataset)\n",
    "    df.drop(df.loc[df[\"Country\"] == \"Vatican\"].index, inplace = True)\n",
    "\n",
    "    # Remove articles with country name \"Vatican\" (no matching data in Globocan dataset)\n",
    "    df.drop(df.loc[df[\"Country\"] == \"Kosovo\"].index, inplace = True)\n",
    "\n",
    "    # Remove articles with country name \"Seychelles\" (no matching data in Globocan dataset)\n",
    "    df.drop(df.loc[df[\"Country\"] == \"Seychelles\"].index, inplace = True)\n",
    "\n",
    "    # Remove articles with country name \"San Marino\" (no matching data in Globocan dataset)\n",
    "    df.drop(df.loc[df[\"Country\"] == \"San Marino\"].index, inplace = True)\n",
    "\n",
    "    # Remove articles with country name \"Andorra\" (no matching data in Globocan dataset)\n",
    "    df.drop(df.loc[df[\"Country\"] == \"Andorra\"].index, inplace = True)\n",
    "\n",
    "    ## RENAME COUNTRIES\n",
    "    # Rename Country in articles with Country name \"Curacao\" to Netherlands\n",
    "    df.loc[df[\"Country\"] == \"Curacao\", \"Country\"] = \"Netherlands\"\n",
    "\n",
    "    # Rename Country in articles with Country name \"Isle of Man\" to United Kingdom\n",
    "    df.loc[df[\"Country\"] == \"Isle of Man\", \"Country\"] = \"United Kingdom\"\n",
    "\n",
    "    # Rename Country in articles with Country name \"Aruba\" to Netherlands\n",
    "    df.loc[df[\"Country\"] == \"Aruba\", \"Country\"] = \"Netherlands\"\n",
    "\n",
    "    # Rename Country in articles with Country name \"Bonaire, Saint Eustatius and Saba\" to Netherlands\n",
    "    df.loc[df[\"Country\"] == \"Bonaire, Saint Eustatius and Saba\", \"Country\"] = \"Netherlands\"\n",
    "\n",
    "    # Rename Country in articles with Country name \"St. Pierre and Miquelon\" to France\n",
    "    df.loc[df[\"Country\"] == \"St. Pierre and Miquelon\", \"Country\"] = \"France\"\n",
    "\n",
    "    # Rename Country in articles with Country name \"Jersey\" to United Kingdom\n",
    "    df.loc[df[\"Country\"] == \"Jersey\", \"Country\"] = \"United Kingdom\"\n",
    "\n",
    "    # Rename Country in articles with Country name \"Hong Kong\" to China\n",
    "    df.loc[df[\"Country\"] == \"Hong Kong\", \"Country\"] = \"China\"\n",
    "\n",
    "    # Rename Country in articles with Country name \"Bermuda\" to United Kingdom\n",
    "    df.loc[df[\"Country\"] == \"Bermuda\", \"Country\"] = \"United Kingdom\"\n",
    "\n",
    "    # Rename Country in articles with Country name \"Faroe Islands\" to Denmark\n",
    "    df.loc[df[\"Country\"] == \"Faroe Islands\", \"Country\"] = \"Denmark\"\n",
    "\n",
    "    # Rename Country in articles with Country name \"Guernsey\" to United Kingdom\n",
    "    df.loc[df[\"Country\"] == \"Guernsey\", \"Country\"] = \"United Kingdom\"\n",
    "\n",
    "    # Rename Country in articles with Country name \"Anguilla\" to United Kingdom\n",
    "    df.loc[df[\"Country\"] == \"Anguilla\", \"Country\"] = \"United Kingdom\"\n",
    "\n",
    "    # Rename Country in articles with Country name \"Greenland\" to Denmark\n",
    "    df.loc[df[\"Country\"] == \"Greenland\", \"Country\"] = \"Denmark\"\n",
    "\n",
    "    # Rename Country in articles with Country name \"Northern Mariana Islands\" to United States\n",
    "    df.loc[df[\"Country\"] == \"Northern Mariana Islands\", \"Country\"] = \"United States\"\n",
    "\n",
    "    # Rename Country in articles with Country name \"Cayman Islands\" to United Kingdom\n",
    "    df.loc[df[\"Country\"] == \"Cayman Islands\", \"Country\"] = \"United Kingdom\"\n",
    "\n",
    "    # Rename Country in articles with Country name \"Macau\" to China\n",
    "    df.loc[df[\"Country\"] == \"Macau\", \"Country\"] = \"China\"\n",
    "\n",
    "    # Rename Country in articles with Country name \"Taiwan\" to China\n",
    "    df.loc[df[\"Country\"] == \"Taiwan\", \"Country\"] = \"China\"\n",
    "\n",
    "    # Rename Country in articles with Country name \"British Virgin Islands\" to United Kingdom\n",
    "    df.loc[df[\"Country\"] == \"British Virgin Islands\", \"Country\"] = \"United Kingdom\"\n",
    "\n",
    "    # Rename Country in articles with Country name \"American Samoa\" to United States\n",
    "    df.loc[df[\"Country\"] == \"American Samoa\", \"Country\"] = \"United States\"\n",
    "\n",
    "    # Rename Country in articles with Country name \"United States Virgin Islands\" to United States\n",
    "    df.loc[df[\"Country\"] == \"United States Virgin Islands\", \"Country\"] = \"United States\"\n",
    "\n",
    "    # Rename Country in articles with Country name \"Sint Maarten\" to Netherlands\n",
    "    df.loc[df[\"Country\"] == \"Sint Maarten\", \"Country\"] = \"Netherlands\"\n",
    "\n",
    "    # Rename Country in articles with Country name \"Mayotte\" to France\n",
    "    df.loc[df[\"Country\"] == \"Mayotte\", \"Country\"] = \"France\"\n",
    "\n",
    "    df.to_csv(DF_input + csv, index = False)\n",
    "    del df"
   ]
  },
  {
   "cell_type": "code",
   "execution_count": 12,
   "id": "c41762d4-c2a1-4464-8e3b-6fd256c9b53a",
   "metadata": {},
   "outputs": [
    {
     "name": "stderr",
     "output_type": "stream",
     "text": [
      "  0%|                                                                                            | 0/4 [00:00<?, ?it/s]"
     ]
    },
    {
     "name": "stdout",
     "output_type": "stream",
     "text": [
      "Parsing csv: parsedXMLs_first_upd_100000.csv, 1 / 4\n"
     ]
    },
    {
     "name": "stderr",
     "output_type": "stream",
     "text": [
      " 25%|█████████████████████                                                               | 1/4 [00:06<00:18,  6.07s/it]"
     ]
    },
    {
     "name": "stdout",
     "output_type": "stream",
     "text": [
      "Parsing csv: parsedXMLs_first_upd_200000.csv, 2 / 4\n"
     ]
    },
    {
     "name": "stderr",
     "output_type": "stream",
     "text": [
      " 50%|██████████████████████████████████████████                                          | 2/4 [00:11<00:11,  5.98s/it]"
     ]
    },
    {
     "name": "stdout",
     "output_type": "stream",
     "text": [
      "Parsing csv: parsedXMLs_first_upd_300000.csv, 3 / 4\n"
     ]
    },
    {
     "name": "stderr",
     "output_type": "stream",
     "text": [
      " 75%|███████████████████████████████████████████████████████████████                     | 3/4 [00:17<00:05,  5.94s/it]"
     ]
    },
    {
     "name": "stdout",
     "output_type": "stream",
     "text": [
      "Parsing csv: parsedXMLs_first_upd_340800.csv, 4 / 4\n"
     ]
    },
    {
     "name": "stderr",
     "output_type": "stream",
     "text": [
      "100%|████████████████████████████████████████████████████████████████████████████████████| 4/4 [00:20<00:00,  5.03s/it]\n"
     ]
    }
   ],
   "source": [
    "# Remaining non-matching countries\n",
    "## Extract country names in the articles' dataset\n",
    "articles_dataset_countries_list = []\n",
    "\n",
    "# Import each csv with articles' data and extract country names\n",
    "for csv in tqdm(list_dfs_papers):\n",
    "    print(f\"Parsing csv: {csv}, {list_dfs_papers.index(csv)+1} / {len(list_dfs_papers)}\")\n",
    "    df = pd.read_csv(DF_input + csv)\n",
    "    list_countries = list(set(df[\"Country\"]))\n",
    "    articles_dataset_countries_list.append(list_countries)\n",
    "    del df, list_countries\n",
    "\n",
    "# Flatten list, remove nan, convert to set\n",
    "articles_dataset_countries = set([el for el in (chain(*articles_dataset_countries_list)) if str(el) != \"nan\"])"
   ]
  },
  {
   "cell_type": "code",
   "execution_count": 13,
   "id": "a264b075-94d3-43c5-b0db-d6922dfe455f",
   "metadata": {},
   "outputs": [
    {
     "data": {
      "text/plain": [
       "set()"
      ]
     },
     "execution_count": 13,
     "metadata": {},
     "output_type": "execute_result"
    }
   ],
   "source": [
    "# Countries appearing in articles' dataset and missing in Globocan dataset\n",
    "articles_dataset_countries.difference(globocan_dataset_countries)"
   ]
  },
  {
   "cell_type": "markdown",
   "id": "e123d13e-eb0c-4750-adcc-48b73b92f131",
   "metadata": {},
   "source": [
    "No more non-matching countries between the Globocan and the articles' dataset"
   ]
  },
  {
   "cell_type": "markdown",
   "id": "b21c2ca9-d57e-464d-a5a4-3ceab66b559e",
   "metadata": {},
   "source": [
    "# Matching cancer names in Globocan and articles' datasets\n",
    "\n",
    "There are also some naming discrepancies in the cancer names articles's dataset with respect to the Globocan dataset (e.g. the articles' dataset contains a category **Breast cancer** as well as a category **Ductal carcinoma**, which is a type of Breast cancer, whereas the Globocan dataset contains only **Breast cancer**). Here, cancer names/subtypes are homogeneized between the Globocan and the articles' dataset."
   ]
  },
  {
   "cell_type": "code",
   "execution_count": 14,
   "id": "867c9795-6b60-478f-9240-b458b44f35c3",
   "metadata": {},
   "outputs": [
    {
     "data": {
      "text/plain": [
       "{'Anal cancer',\n",
       " 'Bladder cancer',\n",
       " 'Brain cancer',\n",
       " 'Breast cancer',\n",
       " 'Cervical cancer',\n",
       " 'Colon cancer',\n",
       " 'Colorectal cancer',\n",
       " 'Esophageal cancer',\n",
       " 'Gallbladder cancer',\n",
       " 'Hodgkin lymphoma',\n",
       " 'Kaposi sarcoma',\n",
       " 'Kidney cancer',\n",
       " 'Laryngeal cancer',\n",
       " 'Leukemia',\n",
       " 'Liver cancer',\n",
       " 'Lung cancer',\n",
       " 'Mesothelioma',\n",
       " 'Mouth cancer',\n",
       " 'Multiple myeloma',\n",
       " 'Non-Hodgkin lymphoma',\n",
       " 'Ovarian cancer',\n",
       " 'Pancreatic cancer',\n",
       " 'Penile cancer',\n",
       " 'Prostate cancer',\n",
       " 'Rectal cancer',\n",
       " 'Salivary gland cancer',\n",
       " 'Skin cancer',\n",
       " 'Stomach cancer',\n",
       " 'Testicular cancer',\n",
       " 'Throat cancer',\n",
       " 'Thyroid cancer',\n",
       " 'Uterine cancer',\n",
       " 'Vaginal cancer',\n",
       " 'Vulvar cancer'}"
      ]
     },
     "execution_count": 14,
     "metadata": {},
     "output_type": "execute_result"
    }
   ],
   "source": [
    "# Show cancer types available in the Globocan dataset\n",
    "globocan_dataset_cancers = set(df_globocan[\"Cancer\"].to_list())\n",
    "globocan_dataset_cancers"
   ]
  },
  {
   "cell_type": "code",
   "execution_count": 15,
   "id": "e2cf5407-a845-4a1d-8f3f-d0d75965a698",
   "metadata": {
    "scrolled": true
   },
   "outputs": [
    {
     "name": "stderr",
     "output_type": "stream",
     "text": [
      "  0%|                                                                                            | 0/4 [00:00<?, ?it/s]"
     ]
    },
    {
     "name": "stdout",
     "output_type": "stream",
     "text": [
      "Parsing csv: parsedXMLs_first_upd_100000.csv, 1 / 4\n"
     ]
    },
    {
     "name": "stderr",
     "output_type": "stream",
     "text": [
      " 25%|█████████████████████                                                               | 1/4 [00:07<00:21,  7.29s/it]"
     ]
    },
    {
     "name": "stdout",
     "output_type": "stream",
     "text": [
      "Parsing csv: parsedXMLs_first_upd_200000.csv, 2 / 4\n"
     ]
    },
    {
     "name": "stderr",
     "output_type": "stream",
     "text": [
      " 50%|██████████████████████████████████████████                                          | 2/4 [00:14<00:14,  7.41s/it]"
     ]
    },
    {
     "name": "stdout",
     "output_type": "stream",
     "text": [
      "Parsing csv: parsedXMLs_first_upd_300000.csv, 3 / 4\n"
     ]
    },
    {
     "name": "stderr",
     "output_type": "stream",
     "text": [
      " 75%|███████████████████████████████████████████████████████████████                     | 3/4 [00:22<00:07,  7.52s/it]"
     ]
    },
    {
     "name": "stdout",
     "output_type": "stream",
     "text": [
      "Parsing csv: parsedXMLs_first_upd_340800.csv, 4 / 4\n"
     ]
    },
    {
     "name": "stderr",
     "output_type": "stream",
     "text": [
      "100%|████████████████████████████████████████████████████████████████████████████████████| 4/4 [00:25<00:00,  6.35s/it]\n"
     ]
    }
   ],
   "source": [
    "# Show cancer types available in the articles' dataset\n",
    "## Extract cancer names in the articles' dataset\n",
    "articles_dataset_cancers_list = []\n",
    "\n",
    "# Import each csv with articles' data and extract cancer names\n",
    "for csv in tqdm(list_dfs_papers):\n",
    "    print(f\"Parsing csv: {csv}, {list_dfs_papers.index(csv)+1} / {len(list_dfs_papers)}\")\n",
    "    df = pd.read_csv(DF_input + csv)\n",
    "    list_cancers = [ast.literal_eval(el) for el in df[\"Cancer\"].to_list() if len(ast.literal_eval(el)) > 0]\n",
    "    articles_dataset_cancers_list.append(list_cancers)\n",
    "    del df, list_cancers\n",
    "\n",
    "# Flatten the lists and get a set of available cancer types\n",
    "def recursive_chain(iterable):\n",
    "    for item in iterable:\n",
    "        if isinstance(item, list):\n",
    "            yield from recursive_chain(item)\n",
    "        else:\n",
    "            yield item\n",
    "\n",
    "articles_dataset_cancers = set(list(recursive_chain(articles_dataset_cancers_list)))"
   ]
  },
  {
   "cell_type": "code",
   "execution_count": 16,
   "id": "9be846a8-81eb-4da4-bc7c-2b7fcd89512a",
   "metadata": {
    "scrolled": true
   },
   "outputs": [
    {
     "data": {
      "text/plain": [
       "{'Acute lymphoblastic leukemia',\n",
       " 'Acute myeloid leukemia',\n",
       " 'Adenocarcinoma',\n",
       " 'Adenocarcinoma of the colon',\n",
       " 'Adenocarcinoma of the pancreas',\n",
       " 'Adenoid cystic carcinoma',\n",
       " 'Adrenocortical carcinoma',\n",
       " 'Aggressive systemic mastocytosis',\n",
       " 'Alveolar soft part sarcoma',\n",
       " 'Ampullary cancer',\n",
       " 'Ampullary carcinoma',\n",
       " 'Anal cancer',\n",
       " 'Anaplastic thyroid cancer',\n",
       " 'Angiosarcoma',\n",
       " 'Appendix cancer',\n",
       " 'Astrocytoma',\n",
       " 'Atypical chronic myeloid leukemia',\n",
       " 'Basal cell carcinoma',\n",
       " 'Bladder cancer',\n",
       " 'Bone cancer',\n",
       " 'Brain cancer',\n",
       " 'Breast cancer',\n",
       " 'Cervical cancer',\n",
       " 'Cholangiocarcinoma',\n",
       " 'Chondrosarcoma',\n",
       " 'Chordoma',\n",
       " 'Chronic eosinophilic leukemia',\n",
       " 'Chronic lymphocytic leukemia',\n",
       " 'Chronic myeloid leukemia',\n",
       " 'Chronic neutrophilic leukemia',\n",
       " 'Clear cell carcinoma',\n",
       " 'Colon cancer',\n",
       " 'Colorectal cancer',\n",
       " 'Cutaneous mastocytosis',\n",
       " 'Desmoplastic small round cell tumor',\n",
       " 'Diffuse large B-cell lymphoma',\n",
       " 'Ductal carcinoma',\n",
       " 'Duodenal cancer',\n",
       " 'Ear cancer',\n",
       " 'Endometrial cancer',\n",
       " 'Endometrial stromal sarcoma',\n",
       " 'Ependymoma',\n",
       " 'Epithelioid sarcoma',\n",
       " 'Esophageal cancer',\n",
       " 'Essential thrombocythemia',\n",
       " 'Ewing sarcoma',\n",
       " 'Extraskeletal chondrosarcoma',\n",
       " 'Extraskeletal myxoid chondrosarcoma',\n",
       " 'Extraskeletal osteosarcoma',\n",
       " 'Eye cancer',\n",
       " 'Fallopian tube cancer',\n",
       " 'Fibrolamellar carcinoma',\n",
       " 'Fibrosarcoma',\n",
       " 'Follicular lymphoma',\n",
       " 'Follicular thyroid cancer',\n",
       " 'Gallbladder cancer',\n",
       " 'Gastric adenocarcinoma',\n",
       " 'Gastrointestinal stromal tumor',\n",
       " 'Giant cell tumor of bone',\n",
       " 'Glioblastoma',\n",
       " 'Granulosa cell tumor',\n",
       " 'Hairy cell leukemia',\n",
       " 'Head and neck cancer',\n",
       " 'Hepatocellular carcinoma',\n",
       " 'Hodgkin lymphoma',\n",
       " 'Ileal cancer',\n",
       " 'Jejunal cancer',\n",
       " 'Juvenile myelomonocytic leukemia',\n",
       " 'Kaposi sarcoma',\n",
       " 'Kidney cancer',\n",
       " 'Laryngeal cancer',\n",
       " 'Leiomyoma',\n",
       " 'Leiomyosarcoma',\n",
       " 'Leukemia',\n",
       " 'Liposarcoma',\n",
       " 'Liver cancer',\n",
       " 'Lobular carcinoma',\n",
       " 'Lung cancer',\n",
       " 'Lymphoma',\n",
       " 'Malignant fibrous histiocytoma',\n",
       " 'Malignant mesenchymoma',\n",
       " 'Malignant peripheral nerve sheath tumor',\n",
       " 'Mantle cell lymphoma',\n",
       " 'Marginal zone lymphoma',\n",
       " 'Mast cell leukemia',\n",
       " 'Mast cell sarcoma',\n",
       " 'Medullary thyroid cancer',\n",
       " 'Medulloblastoma',\n",
       " 'Melanoma',\n",
       " 'Meningioma',\n",
       " 'Merkel cell carcinoma',\n",
       " 'Mesonephric carcinoma',\n",
       " 'Mesothelioma',\n",
       " 'Mouth cancer',\n",
       " 'Mucinous adenocarcinoma',\n",
       " 'Mucinous carcinoma',\n",
       " 'Mucosa-associated lymphoid tissue lymphoma',\n",
       " 'Multiple myeloma',\n",
       " 'Myelodysplastic syndromes',\n",
       " 'Myeloproliferative neoplasms',\n",
       " 'Nasal cancer',\n",
       " 'Neuroblastoma',\n",
       " 'Neuroendocrine tumor',\n",
       " 'Neurofibroma',\n",
       " 'Non-Hodgkin lymphoma',\n",
       " 'Non-small cell lung cancer',\n",
       " 'Oligodendroglioma',\n",
       " 'Osteoblastoma',\n",
       " 'Osteochondroma',\n",
       " 'Osteosarcoma',\n",
       " 'Ovarian cancer',\n",
       " 'Pancreatic cancer',\n",
       " 'Papillary thyroid cancer',\n",
       " 'Parathyroid carcinoma',\n",
       " 'Penile cancer',\n",
       " 'Periosteal osteosarcoma',\n",
       " 'Peripheral T-cell lymphoma',\n",
       " 'Peritoneal cancer',\n",
       " 'Pleomorphic sarcoma',\n",
       " 'Polycythemia vera',\n",
       " 'Primary central nervous system lymphoma',\n",
       " 'Primary myelofibrosis',\n",
       " 'Primitive neuroectodermal tumor',\n",
       " 'Prostate cancer',\n",
       " 'Rectal cancer',\n",
       " 'Renal cell carcinoma',\n",
       " 'Rhabdomyosarcoma',\n",
       " 'Salivary gland cancer',\n",
       " 'Sarcoma',\n",
       " 'Schwannoma',\n",
       " 'Sebaceous carcinoma',\n",
       " 'Sebaceous gland carcinoma',\n",
       " 'Sertoli-Leydig cell tumor',\n",
       " 'Skin cancer',\n",
       " 'Small cell lung cancer',\n",
       " 'Small intestine cancer',\n",
       " 'Smoldering systemic mastocytosis',\n",
       " 'Solitary fibrous tumor',\n",
       " 'Squamous cell carcinoma',\n",
       " 'Squamous cell carcinoma of the skin',\n",
       " 'Stomach cancer',\n",
       " 'Synovial sarcoma',\n",
       " 'Systemic mastocytosis',\n",
       " 'Testicular cancer',\n",
       " 'Throat cancer',\n",
       " 'Thymic carcinoma',\n",
       " 'Thymoma',\n",
       " 'Thyroid cancer',\n",
       " 'Transitional cell carcinoma',\n",
       " 'Urothelial carcinoma',\n",
       " 'Uterine cancer',\n",
       " 'Vaginal cancer',\n",
       " 'Vulval cancer',\n",
       " 'Vulvar cancer',\n",
       " 'Wilms tumor',\n",
       " 'hemangiosarcoma'}"
      ]
     },
     "execution_count": 16,
     "metadata": {},
     "output_type": "execute_result"
    }
   ],
   "source": [
    "articles_dataset_cancers"
   ]
  },
  {
   "cell_type": "markdown",
   "id": "fa30b759-56aa-40f3-91b9-9c129da6e484",
   "metadata": {},
   "source": [
    "Cancer types in the present in the Globocan dataset but not in the articles' dataset"
   ]
  },
  {
   "cell_type": "code",
   "execution_count": 17,
   "id": "61215988-5387-4069-a1eb-dd9d787295a8",
   "metadata": {},
   "outputs": [
    {
     "data": {
      "text/plain": [
       "set()"
      ]
     },
     "execution_count": 17,
     "metadata": {},
     "output_type": "execute_result"
    }
   ],
   "source": [
    "globocan_dataset_cancers.difference(articles_dataset_cancers)"
   ]
  },
  {
   "cell_type": "markdown",
   "id": "3d73847d-697d-4b94-a7b9-60f98453aa98",
   "metadata": {},
   "source": [
    "Cancer types in the present in the articles' dataset but not in the Globocan dataset"
   ]
  },
  {
   "cell_type": "code",
   "execution_count": 18,
   "id": "3a52fc50-c481-4b9c-8ae4-01a145f31ea7",
   "metadata": {
    "scrolled": true
   },
   "outputs": [
    {
     "data": {
      "text/plain": [
       "{'Acute lymphoblastic leukemia',\n",
       " 'Acute myeloid leukemia',\n",
       " 'Adenocarcinoma',\n",
       " 'Adenocarcinoma of the colon',\n",
       " 'Adenocarcinoma of the pancreas',\n",
       " 'Adenoid cystic carcinoma',\n",
       " 'Adrenocortical carcinoma',\n",
       " 'Aggressive systemic mastocytosis',\n",
       " 'Alveolar soft part sarcoma',\n",
       " 'Ampullary cancer',\n",
       " 'Ampullary carcinoma',\n",
       " 'Anaplastic thyroid cancer',\n",
       " 'Angiosarcoma',\n",
       " 'Appendix cancer',\n",
       " 'Astrocytoma',\n",
       " 'Atypical chronic myeloid leukemia',\n",
       " 'Basal cell carcinoma',\n",
       " 'Bone cancer',\n",
       " 'Cholangiocarcinoma',\n",
       " 'Chondrosarcoma',\n",
       " 'Chordoma',\n",
       " 'Chronic eosinophilic leukemia',\n",
       " 'Chronic lymphocytic leukemia',\n",
       " 'Chronic myeloid leukemia',\n",
       " 'Chronic neutrophilic leukemia',\n",
       " 'Clear cell carcinoma',\n",
       " 'Cutaneous mastocytosis',\n",
       " 'Desmoplastic small round cell tumor',\n",
       " 'Diffuse large B-cell lymphoma',\n",
       " 'Ductal carcinoma',\n",
       " 'Duodenal cancer',\n",
       " 'Ear cancer',\n",
       " 'Endometrial cancer',\n",
       " 'Endometrial stromal sarcoma',\n",
       " 'Ependymoma',\n",
       " 'Epithelioid sarcoma',\n",
       " 'Essential thrombocythemia',\n",
       " 'Ewing sarcoma',\n",
       " 'Extraskeletal chondrosarcoma',\n",
       " 'Extraskeletal myxoid chondrosarcoma',\n",
       " 'Extraskeletal osteosarcoma',\n",
       " 'Eye cancer',\n",
       " 'Fallopian tube cancer',\n",
       " 'Fibrolamellar carcinoma',\n",
       " 'Fibrosarcoma',\n",
       " 'Follicular lymphoma',\n",
       " 'Follicular thyroid cancer',\n",
       " 'Gastric adenocarcinoma',\n",
       " 'Gastrointestinal stromal tumor',\n",
       " 'Giant cell tumor of bone',\n",
       " 'Glioblastoma',\n",
       " 'Granulosa cell tumor',\n",
       " 'Hairy cell leukemia',\n",
       " 'Head and neck cancer',\n",
       " 'Hepatocellular carcinoma',\n",
       " 'Ileal cancer',\n",
       " 'Jejunal cancer',\n",
       " 'Juvenile myelomonocytic leukemia',\n",
       " 'Leiomyoma',\n",
       " 'Leiomyosarcoma',\n",
       " 'Liposarcoma',\n",
       " 'Lobular carcinoma',\n",
       " 'Lymphoma',\n",
       " 'Malignant fibrous histiocytoma',\n",
       " 'Malignant mesenchymoma',\n",
       " 'Malignant peripheral nerve sheath tumor',\n",
       " 'Mantle cell lymphoma',\n",
       " 'Marginal zone lymphoma',\n",
       " 'Mast cell leukemia',\n",
       " 'Mast cell sarcoma',\n",
       " 'Medullary thyroid cancer',\n",
       " 'Medulloblastoma',\n",
       " 'Melanoma',\n",
       " 'Meningioma',\n",
       " 'Merkel cell carcinoma',\n",
       " 'Mesonephric carcinoma',\n",
       " 'Mucinous adenocarcinoma',\n",
       " 'Mucinous carcinoma',\n",
       " 'Mucosa-associated lymphoid tissue lymphoma',\n",
       " 'Myelodysplastic syndromes',\n",
       " 'Myeloproliferative neoplasms',\n",
       " 'Nasal cancer',\n",
       " 'Neuroblastoma',\n",
       " 'Neuroendocrine tumor',\n",
       " 'Neurofibroma',\n",
       " 'Non-small cell lung cancer',\n",
       " 'Oligodendroglioma',\n",
       " 'Osteoblastoma',\n",
       " 'Osteochondroma',\n",
       " 'Osteosarcoma',\n",
       " 'Papillary thyroid cancer',\n",
       " 'Parathyroid carcinoma',\n",
       " 'Periosteal osteosarcoma',\n",
       " 'Peripheral T-cell lymphoma',\n",
       " 'Peritoneal cancer',\n",
       " 'Pleomorphic sarcoma',\n",
       " 'Polycythemia vera',\n",
       " 'Primary central nervous system lymphoma',\n",
       " 'Primary myelofibrosis',\n",
       " 'Primitive neuroectodermal tumor',\n",
       " 'Renal cell carcinoma',\n",
       " 'Rhabdomyosarcoma',\n",
       " 'Sarcoma',\n",
       " 'Schwannoma',\n",
       " 'Sebaceous carcinoma',\n",
       " 'Sebaceous gland carcinoma',\n",
       " 'Sertoli-Leydig cell tumor',\n",
       " 'Small cell lung cancer',\n",
       " 'Small intestine cancer',\n",
       " 'Smoldering systemic mastocytosis',\n",
       " 'Solitary fibrous tumor',\n",
       " 'Squamous cell carcinoma',\n",
       " 'Squamous cell carcinoma of the skin',\n",
       " 'Synovial sarcoma',\n",
       " 'Systemic mastocytosis',\n",
       " 'Thymic carcinoma',\n",
       " 'Thymoma',\n",
       " 'Transitional cell carcinoma',\n",
       " 'Urothelial carcinoma',\n",
       " 'Vulval cancer',\n",
       " 'Wilms tumor',\n",
       " 'hemangiosarcoma'}"
      ]
     },
     "execution_count": 18,
     "metadata": {},
     "output_type": "execute_result"
    }
   ],
   "source": [
    "articles_dataset_cancers.difference(globocan_dataset_cancers)"
   ]
  },
  {
   "cell_type": "markdown",
   "id": "f3afe2ca-7031-4662-bfaa-7d8e34cd9ffd",
   "metadata": {},
   "source": [
    "for cancer in articles_dataset_cancers.difference(temp_df.columns):\n",
    "    temp_df[cancer] = 0"
   ]
  },
  {
   "cell_type": "code",
   "execution_count": 20,
   "id": "3a569c39-0007-4e2a-9713-d2e4b58d8759",
   "metadata": {
    "scrolled": true
   },
   "outputs": [
    {
     "name": "stderr",
     "output_type": "stream",
     "text": [
      "C:\\Users\\svalb\\AppData\\Local\\Temp\\ipykernel_30592\\1474745992.py:11: PerformanceWarning: DataFrame is highly fragmented.  This is usually the result of calling `frame.insert` many times, which has poor performance.  Consider joining all columns at once using pd.concat(axis=1) instead. To get a de-fragmented frame, use `newframe = frame.copy()`\n",
      "  df[cancer] = 0\n",
      "C:\\Users\\svalb\\AppData\\Local\\Temp\\ipykernel_30592\\1474745992.py:11: PerformanceWarning: DataFrame is highly fragmented.  This is usually the result of calling `frame.insert` many times, which has poor performance.  Consider joining all columns at once using pd.concat(axis=1) instead. To get a de-fragmented frame, use `newframe = frame.copy()`\n",
      "  df[cancer] = 0\n",
      "C:\\Users\\svalb\\AppData\\Local\\Temp\\ipykernel_30592\\1474745992.py:11: PerformanceWarning: DataFrame is highly fragmented.  This is usually the result of calling `frame.insert` many times, which has poor performance.  Consider joining all columns at once using pd.concat(axis=1) instead. To get a de-fragmented frame, use `newframe = frame.copy()`\n",
      "  df[cancer] = 0\n",
      "C:\\Users\\svalb\\AppData\\Local\\Temp\\ipykernel_30592\\1474745992.py:11: PerformanceWarning: DataFrame is highly fragmented.  This is usually the result of calling `frame.insert` many times, which has poor performance.  Consider joining all columns at once using pd.concat(axis=1) instead. To get a de-fragmented frame, use `newframe = frame.copy()`\n",
      "  df[cancer] = 0\n",
      "C:\\Users\\svalb\\AppData\\Local\\Temp\\ipykernel_30592\\1474745992.py:11: PerformanceWarning: DataFrame is highly fragmented.  This is usually the result of calling `frame.insert` many times, which has poor performance.  Consider joining all columns at once using pd.concat(axis=1) instead. To get a de-fragmented frame, use `newframe = frame.copy()`\n",
      "  df[cancer] = 0\n",
      "C:\\Users\\svalb\\AppData\\Local\\Temp\\ipykernel_30592\\1474745992.py:11: PerformanceWarning: DataFrame is highly fragmented.  This is usually the result of calling `frame.insert` many times, which has poor performance.  Consider joining all columns at once using pd.concat(axis=1) instead. To get a de-fragmented frame, use `newframe = frame.copy()`\n",
      "  df[cancer] = 0\n",
      "C:\\Users\\svalb\\AppData\\Local\\Temp\\ipykernel_30592\\1474745992.py:11: PerformanceWarning: DataFrame is highly fragmented.  This is usually the result of calling `frame.insert` many times, which has poor performance.  Consider joining all columns at once using pd.concat(axis=1) instead. To get a de-fragmented frame, use `newframe = frame.copy()`\n",
      "  df[cancer] = 0\n",
      "C:\\Users\\svalb\\AppData\\Local\\Temp\\ipykernel_30592\\1474745992.py:11: PerformanceWarning: DataFrame is highly fragmented.  This is usually the result of calling `frame.insert` many times, which has poor performance.  Consider joining all columns at once using pd.concat(axis=1) instead. To get a de-fragmented frame, use `newframe = frame.copy()`\n",
      "  df[cancer] = 0\n",
      "C:\\Users\\svalb\\AppData\\Local\\Temp\\ipykernel_30592\\1474745992.py:11: PerformanceWarning: DataFrame is highly fragmented.  This is usually the result of calling `frame.insert` many times, which has poor performance.  Consider joining all columns at once using pd.concat(axis=1) instead. To get a de-fragmented frame, use `newframe = frame.copy()`\n",
      "  df[cancer] = 0\n",
      "C:\\Users\\svalb\\AppData\\Local\\Temp\\ipykernel_30592\\1474745992.py:11: PerformanceWarning: DataFrame is highly fragmented.  This is usually the result of calling `frame.insert` many times, which has poor performance.  Consider joining all columns at once using pd.concat(axis=1) instead. To get a de-fragmented frame, use `newframe = frame.copy()`\n",
      "  df[cancer] = 0\n",
      "C:\\Users\\svalb\\AppData\\Local\\Temp\\ipykernel_30592\\1474745992.py:11: PerformanceWarning: DataFrame is highly fragmented.  This is usually the result of calling `frame.insert` many times, which has poor performance.  Consider joining all columns at once using pd.concat(axis=1) instead. To get a de-fragmented frame, use `newframe = frame.copy()`\n",
      "  df[cancer] = 0\n",
      "C:\\Users\\svalb\\AppData\\Local\\Temp\\ipykernel_30592\\1474745992.py:11: PerformanceWarning: DataFrame is highly fragmented.  This is usually the result of calling `frame.insert` many times, which has poor performance.  Consider joining all columns at once using pd.concat(axis=1) instead. To get a de-fragmented frame, use `newframe = frame.copy()`\n",
      "  df[cancer] = 0\n",
      "C:\\Users\\svalb\\AppData\\Local\\Temp\\ipykernel_30592\\1474745992.py:11: PerformanceWarning: DataFrame is highly fragmented.  This is usually the result of calling `frame.insert` many times, which has poor performance.  Consider joining all columns at once using pd.concat(axis=1) instead. To get a de-fragmented frame, use `newframe = frame.copy()`\n",
      "  df[cancer] = 0\n",
      "C:\\Users\\svalb\\AppData\\Local\\Temp\\ipykernel_30592\\1474745992.py:11: PerformanceWarning: DataFrame is highly fragmented.  This is usually the result of calling `frame.insert` many times, which has poor performance.  Consider joining all columns at once using pd.concat(axis=1) instead. To get a de-fragmented frame, use `newframe = frame.copy()`\n",
      "  df[cancer] = 0\n",
      "C:\\Users\\svalb\\AppData\\Local\\Temp\\ipykernel_30592\\1474745992.py:11: PerformanceWarning: DataFrame is highly fragmented.  This is usually the result of calling `frame.insert` many times, which has poor performance.  Consider joining all columns at once using pd.concat(axis=1) instead. To get a de-fragmented frame, use `newframe = frame.copy()`\n",
      "  df[cancer] = 0\n",
      "C:\\Users\\svalb\\AppData\\Local\\Temp\\ipykernel_30592\\1474745992.py:11: PerformanceWarning: DataFrame is highly fragmented.  This is usually the result of calling `frame.insert` many times, which has poor performance.  Consider joining all columns at once using pd.concat(axis=1) instead. To get a de-fragmented frame, use `newframe = frame.copy()`\n",
      "  df[cancer] = 0\n",
      "C:\\Users\\svalb\\AppData\\Local\\Temp\\ipykernel_30592\\1474745992.py:11: PerformanceWarning: DataFrame is highly fragmented.  This is usually the result of calling `frame.insert` many times, which has poor performance.  Consider joining all columns at once using pd.concat(axis=1) instead. To get a de-fragmented frame, use `newframe = frame.copy()`\n",
      "  df[cancer] = 0\n",
      "C:\\Users\\svalb\\AppData\\Local\\Temp\\ipykernel_30592\\1474745992.py:11: PerformanceWarning: DataFrame is highly fragmented.  This is usually the result of calling `frame.insert` many times, which has poor performance.  Consider joining all columns at once using pd.concat(axis=1) instead. To get a de-fragmented frame, use `newframe = frame.copy()`\n",
      "  df[cancer] = 0\n",
      "C:\\Users\\svalb\\AppData\\Local\\Temp\\ipykernel_30592\\1474745992.py:11: PerformanceWarning: DataFrame is highly fragmented.  This is usually the result of calling `frame.insert` many times, which has poor performance.  Consider joining all columns at once using pd.concat(axis=1) instead. To get a de-fragmented frame, use `newframe = frame.copy()`\n",
      "  df[cancer] = 0\n",
      "C:\\Users\\svalb\\AppData\\Local\\Temp\\ipykernel_30592\\1474745992.py:11: PerformanceWarning: DataFrame is highly fragmented.  This is usually the result of calling `frame.insert` many times, which has poor performance.  Consider joining all columns at once using pd.concat(axis=1) instead. To get a de-fragmented frame, use `newframe = frame.copy()`\n",
      "  df[cancer] = 0\n",
      "C:\\Users\\svalb\\AppData\\Local\\Temp\\ipykernel_30592\\1474745992.py:11: PerformanceWarning: DataFrame is highly fragmented.  This is usually the result of calling `frame.insert` many times, which has poor performance.  Consider joining all columns at once using pd.concat(axis=1) instead. To get a de-fragmented frame, use `newframe = frame.copy()`\n",
      "  df[cancer] = 0\n",
      "C:\\Users\\svalb\\AppData\\Local\\Temp\\ipykernel_30592\\1474745992.py:11: PerformanceWarning: DataFrame is highly fragmented.  This is usually the result of calling `frame.insert` many times, which has poor performance.  Consider joining all columns at once using pd.concat(axis=1) instead. To get a de-fragmented frame, use `newframe = frame.copy()`\n",
      "  df[cancer] = 0\n",
      "C:\\Users\\svalb\\AppData\\Local\\Temp\\ipykernel_30592\\1474745992.py:11: PerformanceWarning: DataFrame is highly fragmented.  This is usually the result of calling `frame.insert` many times, which has poor performance.  Consider joining all columns at once using pd.concat(axis=1) instead. To get a de-fragmented frame, use `newframe = frame.copy()`\n",
      "  df[cancer] = 0\n",
      "C:\\Users\\svalb\\AppData\\Local\\Temp\\ipykernel_30592\\1474745992.py:11: PerformanceWarning: DataFrame is highly fragmented.  This is usually the result of calling `frame.insert` many times, which has poor performance.  Consider joining all columns at once using pd.concat(axis=1) instead. To get a de-fragmented frame, use `newframe = frame.copy()`\n",
      "  df[cancer] = 0\n",
      "C:\\Users\\svalb\\AppData\\Local\\Temp\\ipykernel_30592\\1474745992.py:11: PerformanceWarning: DataFrame is highly fragmented.  This is usually the result of calling `frame.insert` many times, which has poor performance.  Consider joining all columns at once using pd.concat(axis=1) instead. To get a de-fragmented frame, use `newframe = frame.copy()`\n",
      "  df[cancer] = 0\n",
      "C:\\Users\\svalb\\AppData\\Local\\Temp\\ipykernel_30592\\1474745992.py:11: PerformanceWarning: DataFrame is highly fragmented.  This is usually the result of calling `frame.insert` many times, which has poor performance.  Consider joining all columns at once using pd.concat(axis=1) instead. To get a de-fragmented frame, use `newframe = frame.copy()`\n",
      "  df[cancer] = 0\n",
      "C:\\Users\\svalb\\AppData\\Local\\Temp\\ipykernel_30592\\1474745992.py:11: PerformanceWarning: DataFrame is highly fragmented.  This is usually the result of calling `frame.insert` many times, which has poor performance.  Consider joining all columns at once using pd.concat(axis=1) instead. To get a de-fragmented frame, use `newframe = frame.copy()`\n",
      "  df[cancer] = 0\n",
      "C:\\Users\\svalb\\AppData\\Local\\Temp\\ipykernel_30592\\1474745992.py:11: PerformanceWarning: DataFrame is highly fragmented.  This is usually the result of calling `frame.insert` many times, which has poor performance.  Consider joining all columns at once using pd.concat(axis=1) instead. To get a de-fragmented frame, use `newframe = frame.copy()`\n",
      "  df[cancer] = 0\n",
      "C:\\Users\\svalb\\AppData\\Local\\Temp\\ipykernel_30592\\1474745992.py:11: PerformanceWarning: DataFrame is highly fragmented.  This is usually the result of calling `frame.insert` many times, which has poor performance.  Consider joining all columns at once using pd.concat(axis=1) instead. To get a de-fragmented frame, use `newframe = frame.copy()`\n",
      "  df[cancer] = 0\n",
      "C:\\Users\\svalb\\AppData\\Local\\Temp\\ipykernel_30592\\1474745992.py:11: PerformanceWarning: DataFrame is highly fragmented.  This is usually the result of calling `frame.insert` many times, which has poor performance.  Consider joining all columns at once using pd.concat(axis=1) instead. To get a de-fragmented frame, use `newframe = frame.copy()`\n",
      "  df[cancer] = 0\n",
      "C:\\Users\\svalb\\AppData\\Local\\Temp\\ipykernel_30592\\1474745992.py:11: PerformanceWarning: DataFrame is highly fragmented.  This is usually the result of calling `frame.insert` many times, which has poor performance.  Consider joining all columns at once using pd.concat(axis=1) instead. To get a de-fragmented frame, use `newframe = frame.copy()`\n",
      "  df[cancer] = 0\n",
      "C:\\Users\\svalb\\AppData\\Local\\Temp\\ipykernel_30592\\1474745992.py:11: PerformanceWarning: DataFrame is highly fragmented.  This is usually the result of calling `frame.insert` many times, which has poor performance.  Consider joining all columns at once using pd.concat(axis=1) instead. To get a de-fragmented frame, use `newframe = frame.copy()`\n",
      "  df[cancer] = 0\n",
      "C:\\Users\\svalb\\AppData\\Local\\Temp\\ipykernel_30592\\1474745992.py:11: PerformanceWarning: DataFrame is highly fragmented.  This is usually the result of calling `frame.insert` many times, which has poor performance.  Consider joining all columns at once using pd.concat(axis=1) instead. To get a de-fragmented frame, use `newframe = frame.copy()`\n",
      "  df[cancer] = 0\n",
      "C:\\Users\\svalb\\AppData\\Local\\Temp\\ipykernel_30592\\1474745992.py:11: PerformanceWarning: DataFrame is highly fragmented.  This is usually the result of calling `frame.insert` many times, which has poor performance.  Consider joining all columns at once using pd.concat(axis=1) instead. To get a de-fragmented frame, use `newframe = frame.copy()`\n",
      "  df[cancer] = 0\n",
      "C:\\Users\\svalb\\AppData\\Local\\Temp\\ipykernel_30592\\1474745992.py:11: PerformanceWarning: DataFrame is highly fragmented.  This is usually the result of calling `frame.insert` many times, which has poor performance.  Consider joining all columns at once using pd.concat(axis=1) instead. To get a de-fragmented frame, use `newframe = frame.copy()`\n",
      "  df[cancer] = 0\n",
      "C:\\Users\\svalb\\AppData\\Local\\Temp\\ipykernel_30592\\1474745992.py:11: PerformanceWarning: DataFrame is highly fragmented.  This is usually the result of calling `frame.insert` many times, which has poor performance.  Consider joining all columns at once using pd.concat(axis=1) instead. To get a de-fragmented frame, use `newframe = frame.copy()`\n",
      "  df[cancer] = 0\n",
      "C:\\Users\\svalb\\AppData\\Local\\Temp\\ipykernel_30592\\1474745992.py:11: PerformanceWarning: DataFrame is highly fragmented.  This is usually the result of calling `frame.insert` many times, which has poor performance.  Consider joining all columns at once using pd.concat(axis=1) instead. To get a de-fragmented frame, use `newframe = frame.copy()`\n",
      "  df[cancer] = 0\n",
      "C:\\Users\\svalb\\AppData\\Local\\Temp\\ipykernel_30592\\1474745992.py:11: PerformanceWarning: DataFrame is highly fragmented.  This is usually the result of calling `frame.insert` many times, which has poor performance.  Consider joining all columns at once using pd.concat(axis=1) instead. To get a de-fragmented frame, use `newframe = frame.copy()`\n",
      "  df[cancer] = 0\n",
      "C:\\Users\\svalb\\AppData\\Local\\Temp\\ipykernel_30592\\1474745992.py:11: PerformanceWarning: DataFrame is highly fragmented.  This is usually the result of calling `frame.insert` many times, which has poor performance.  Consider joining all columns at once using pd.concat(axis=1) instead. To get a de-fragmented frame, use `newframe = frame.copy()`\n",
      "  df[cancer] = 0\n",
      "C:\\Users\\svalb\\AppData\\Local\\Temp\\ipykernel_30592\\1474745992.py:11: PerformanceWarning: DataFrame is highly fragmented.  This is usually the result of calling `frame.insert` many times, which has poor performance.  Consider joining all columns at once using pd.concat(axis=1) instead. To get a de-fragmented frame, use `newframe = frame.copy()`\n",
      "  df[cancer] = 0\n",
      "C:\\Users\\svalb\\AppData\\Local\\Temp\\ipykernel_30592\\1474745992.py:11: PerformanceWarning: DataFrame is highly fragmented.  This is usually the result of calling `frame.insert` many times, which has poor performance.  Consider joining all columns at once using pd.concat(axis=1) instead. To get a de-fragmented frame, use `newframe = frame.copy()`\n",
      "  df[cancer] = 0\n",
      "C:\\Users\\svalb\\AppData\\Local\\Temp\\ipykernel_30592\\1474745992.py:11: PerformanceWarning: DataFrame is highly fragmented.  This is usually the result of calling `frame.insert` many times, which has poor performance.  Consider joining all columns at once using pd.concat(axis=1) instead. To get a de-fragmented frame, use `newframe = frame.copy()`\n",
      "  df[cancer] = 0\n",
      "C:\\Users\\svalb\\AppData\\Local\\Temp\\ipykernel_30592\\1474745992.py:11: PerformanceWarning: DataFrame is highly fragmented.  This is usually the result of calling `frame.insert` many times, which has poor performance.  Consider joining all columns at once using pd.concat(axis=1) instead. To get a de-fragmented frame, use `newframe = frame.copy()`\n",
      "  df[cancer] = 0\n",
      "C:\\Users\\svalb\\AppData\\Local\\Temp\\ipykernel_30592\\1474745992.py:11: PerformanceWarning: DataFrame is highly fragmented.  This is usually the result of calling `frame.insert` many times, which has poor performance.  Consider joining all columns at once using pd.concat(axis=1) instead. To get a de-fragmented frame, use `newframe = frame.copy()`\n",
      "  df[cancer] = 0\n",
      "C:\\Users\\svalb\\AppData\\Local\\Temp\\ipykernel_30592\\1474745992.py:11: PerformanceWarning: DataFrame is highly fragmented.  This is usually the result of calling `frame.insert` many times, which has poor performance.  Consider joining all columns at once using pd.concat(axis=1) instead. To get a de-fragmented frame, use `newframe = frame.copy()`\n",
      "  df[cancer] = 0\n",
      "C:\\Users\\svalb\\AppData\\Local\\Temp\\ipykernel_30592\\1474745992.py:11: PerformanceWarning: DataFrame is highly fragmented.  This is usually the result of calling `frame.insert` many times, which has poor performance.  Consider joining all columns at once using pd.concat(axis=1) instead. To get a de-fragmented frame, use `newframe = frame.copy()`\n",
      "  df[cancer] = 0\n",
      "C:\\Users\\svalb\\AppData\\Local\\Temp\\ipykernel_30592\\1474745992.py:11: PerformanceWarning: DataFrame is highly fragmented.  This is usually the result of calling `frame.insert` many times, which has poor performance.  Consider joining all columns at once using pd.concat(axis=1) instead. To get a de-fragmented frame, use `newframe = frame.copy()`\n",
      "  df[cancer] = 0\n",
      "C:\\Users\\svalb\\AppData\\Local\\Temp\\ipykernel_30592\\1474745992.py:11: PerformanceWarning: DataFrame is highly fragmented.  This is usually the result of calling `frame.insert` many times, which has poor performance.  Consider joining all columns at once using pd.concat(axis=1) instead. To get a de-fragmented frame, use `newframe = frame.copy()`\n",
      "  df[cancer] = 0\n",
      "C:\\Users\\svalb\\AppData\\Local\\Temp\\ipykernel_30592\\1474745992.py:11: PerformanceWarning: DataFrame is highly fragmented.  This is usually the result of calling `frame.insert` many times, which has poor performance.  Consider joining all columns at once using pd.concat(axis=1) instead. To get a de-fragmented frame, use `newframe = frame.copy()`\n",
      "  df[cancer] = 0\n",
      "C:\\Users\\svalb\\AppData\\Local\\Temp\\ipykernel_30592\\1474745992.py:11: PerformanceWarning: DataFrame is highly fragmented.  This is usually the result of calling `frame.insert` many times, which has poor performance.  Consider joining all columns at once using pd.concat(axis=1) instead. To get a de-fragmented frame, use `newframe = frame.copy()`\n",
      "  df[cancer] = 0\n",
      "C:\\Users\\svalb\\AppData\\Local\\Temp\\ipykernel_30592\\1474745992.py:11: PerformanceWarning: DataFrame is highly fragmented.  This is usually the result of calling `frame.insert` many times, which has poor performance.  Consider joining all columns at once using pd.concat(axis=1) instead. To get a de-fragmented frame, use `newframe = frame.copy()`\n",
      "  df[cancer] = 0\n",
      "C:\\Users\\svalb\\AppData\\Local\\Temp\\ipykernel_30592\\1474745992.py:11: PerformanceWarning: DataFrame is highly fragmented.  This is usually the result of calling `frame.insert` many times, which has poor performance.  Consider joining all columns at once using pd.concat(axis=1) instead. To get a de-fragmented frame, use `newframe = frame.copy()`\n",
      "  df[cancer] = 0\n",
      "C:\\Users\\svalb\\AppData\\Local\\Temp\\ipykernel_30592\\1474745992.py:11: PerformanceWarning: DataFrame is highly fragmented.  This is usually the result of calling `frame.insert` many times, which has poor performance.  Consider joining all columns at once using pd.concat(axis=1) instead. To get a de-fragmented frame, use `newframe = frame.copy()`\n",
      "  df[cancer] = 0\n",
      "C:\\Users\\svalb\\AppData\\Local\\Temp\\ipykernel_30592\\1474745992.py:11: PerformanceWarning: DataFrame is highly fragmented.  This is usually the result of calling `frame.insert` many times, which has poor performance.  Consider joining all columns at once using pd.concat(axis=1) instead. To get a de-fragmented frame, use `newframe = frame.copy()`\n",
      "  df[cancer] = 0\n",
      "C:\\Users\\svalb\\AppData\\Local\\Temp\\ipykernel_30592\\1474745992.py:11: PerformanceWarning: DataFrame is highly fragmented.  This is usually the result of calling `frame.insert` many times, which has poor performance.  Consider joining all columns at once using pd.concat(axis=1) instead. To get a de-fragmented frame, use `newframe = frame.copy()`\n",
      "  df[cancer] = 0\n",
      "C:\\Users\\svalb\\AppData\\Local\\Temp\\ipykernel_30592\\1474745992.py:11: PerformanceWarning: DataFrame is highly fragmented.  This is usually the result of calling `frame.insert` many times, which has poor performance.  Consider joining all columns at once using pd.concat(axis=1) instead. To get a de-fragmented frame, use `newframe = frame.copy()`\n",
      "  df[cancer] = 0\n",
      "C:\\Users\\svalb\\AppData\\Local\\Temp\\ipykernel_30592\\1474745992.py:11: PerformanceWarning: DataFrame is highly fragmented.  This is usually the result of calling `frame.insert` many times, which has poor performance.  Consider joining all columns at once using pd.concat(axis=1) instead. To get a de-fragmented frame, use `newframe = frame.copy()`\n",
      "  df[cancer] = 0\n",
      "C:\\Users\\svalb\\AppData\\Local\\Temp\\ipykernel_30592\\1474745992.py:11: PerformanceWarning: DataFrame is highly fragmented.  This is usually the result of calling `frame.insert` many times, which has poor performance.  Consider joining all columns at once using pd.concat(axis=1) instead. To get a de-fragmented frame, use `newframe = frame.copy()`\n",
      "  df[cancer] = 0\n",
      "C:\\Users\\svalb\\AppData\\Local\\Temp\\ipykernel_30592\\1474745992.py:11: PerformanceWarning: DataFrame is highly fragmented.  This is usually the result of calling `frame.insert` many times, which has poor performance.  Consider joining all columns at once using pd.concat(axis=1) instead. To get a de-fragmented frame, use `newframe = frame.copy()`\n",
      "  df[cancer] = 0\n",
      "C:\\Users\\svalb\\AppData\\Local\\Temp\\ipykernel_30592\\1474745992.py:11: PerformanceWarning: DataFrame is highly fragmented.  This is usually the result of calling `frame.insert` many times, which has poor performance.  Consider joining all columns at once using pd.concat(axis=1) instead. To get a de-fragmented frame, use `newframe = frame.copy()`\n",
      "  df[cancer] = 0\n",
      "C:\\Users\\svalb\\AppData\\Local\\Temp\\ipykernel_30592\\1474745992.py:11: PerformanceWarning: DataFrame is highly fragmented.  This is usually the result of calling `frame.insert` many times, which has poor performance.  Consider joining all columns at once using pd.concat(axis=1) instead. To get a de-fragmented frame, use `newframe = frame.copy()`\n",
      "  df[cancer] = 0\n",
      "C:\\Users\\svalb\\AppData\\Local\\Temp\\ipykernel_30592\\1474745992.py:11: PerformanceWarning: DataFrame is highly fragmented.  This is usually the result of calling `frame.insert` many times, which has poor performance.  Consider joining all columns at once using pd.concat(axis=1) instead. To get a de-fragmented frame, use `newframe = frame.copy()`\n",
      "  df[cancer] = 0\n",
      "C:\\Users\\svalb\\AppData\\Local\\Temp\\ipykernel_30592\\1474745992.py:11: PerformanceWarning: DataFrame is highly fragmented.  This is usually the result of calling `frame.insert` many times, which has poor performance.  Consider joining all columns at once using pd.concat(axis=1) instead. To get a de-fragmented frame, use `newframe = frame.copy()`\n",
      "  df[cancer] = 0\n",
      "C:\\Users\\svalb\\AppData\\Local\\Temp\\ipykernel_30592\\1474745992.py:11: PerformanceWarning: DataFrame is highly fragmented.  This is usually the result of calling `frame.insert` many times, which has poor performance.  Consider joining all columns at once using pd.concat(axis=1) instead. To get a de-fragmented frame, use `newframe = frame.copy()`\n",
      "  df[cancer] = 0\n",
      "C:\\Users\\svalb\\AppData\\Local\\Temp\\ipykernel_30592\\1474745992.py:11: PerformanceWarning: DataFrame is highly fragmented.  This is usually the result of calling `frame.insert` many times, which has poor performance.  Consider joining all columns at once using pd.concat(axis=1) instead. To get a de-fragmented frame, use `newframe = frame.copy()`\n",
      "  df[cancer] = 0\n",
      "C:\\Users\\svalb\\AppData\\Local\\Temp\\ipykernel_30592\\1474745992.py:11: PerformanceWarning: DataFrame is highly fragmented.  This is usually the result of calling `frame.insert` many times, which has poor performance.  Consider joining all columns at once using pd.concat(axis=1) instead. To get a de-fragmented frame, use `newframe = frame.copy()`\n",
      "  df[cancer] = 0\n",
      "C:\\Users\\svalb\\AppData\\Local\\Temp\\ipykernel_30592\\1474745992.py:11: PerformanceWarning: DataFrame is highly fragmented.  This is usually the result of calling `frame.insert` many times, which has poor performance.  Consider joining all columns at once using pd.concat(axis=1) instead. To get a de-fragmented frame, use `newframe = frame.copy()`\n",
      "  df[cancer] = 0\n",
      "C:\\Users\\svalb\\AppData\\Local\\Temp\\ipykernel_30592\\1474745992.py:11: PerformanceWarning: DataFrame is highly fragmented.  This is usually the result of calling `frame.insert` many times, which has poor performance.  Consider joining all columns at once using pd.concat(axis=1) instead. To get a de-fragmented frame, use `newframe = frame.copy()`\n",
      "  df[cancer] = 0\n",
      "C:\\Users\\svalb\\AppData\\Local\\Temp\\ipykernel_30592\\1474745992.py:11: PerformanceWarning: DataFrame is highly fragmented.  This is usually the result of calling `frame.insert` many times, which has poor performance.  Consider joining all columns at once using pd.concat(axis=1) instead. To get a de-fragmented frame, use `newframe = frame.copy()`\n",
      "  df[cancer] = 0\n",
      "C:\\Users\\svalb\\AppData\\Local\\Temp\\ipykernel_30592\\1474745992.py:11: PerformanceWarning: DataFrame is highly fragmented.  This is usually the result of calling `frame.insert` many times, which has poor performance.  Consider joining all columns at once using pd.concat(axis=1) instead. To get a de-fragmented frame, use `newframe = frame.copy()`\n",
      "  df[cancer] = 0\n",
      "C:\\Users\\svalb\\AppData\\Local\\Temp\\ipykernel_30592\\1474745992.py:11: PerformanceWarning: DataFrame is highly fragmented.  This is usually the result of calling `frame.insert` many times, which has poor performance.  Consider joining all columns at once using pd.concat(axis=1) instead. To get a de-fragmented frame, use `newframe = frame.copy()`\n",
      "  df[cancer] = 0\n",
      "C:\\Users\\svalb\\AppData\\Local\\Temp\\ipykernel_30592\\1474745992.py:11: PerformanceWarning: DataFrame is highly fragmented.  This is usually the result of calling `frame.insert` many times, which has poor performance.  Consider joining all columns at once using pd.concat(axis=1) instead. To get a de-fragmented frame, use `newframe = frame.copy()`\n",
      "  df[cancer] = 0\n",
      "C:\\Users\\svalb\\AppData\\Local\\Temp\\ipykernel_30592\\1474745992.py:11: PerformanceWarning: DataFrame is highly fragmented.  This is usually the result of calling `frame.insert` many times, which has poor performance.  Consider joining all columns at once using pd.concat(axis=1) instead. To get a de-fragmented frame, use `newframe = frame.copy()`\n",
      "  df[cancer] = 0\n",
      "C:\\Users\\svalb\\AppData\\Local\\Temp\\ipykernel_30592\\1474745992.py:11: PerformanceWarning: DataFrame is highly fragmented.  This is usually the result of calling `frame.insert` many times, which has poor performance.  Consider joining all columns at once using pd.concat(axis=1) instead. To get a de-fragmented frame, use `newframe = frame.copy()`\n",
      "  df[cancer] = 0\n",
      "C:\\Users\\svalb\\AppData\\Local\\Temp\\ipykernel_30592\\1474745992.py:11: PerformanceWarning: DataFrame is highly fragmented.  This is usually the result of calling `frame.insert` many times, which has poor performance.  Consider joining all columns at once using pd.concat(axis=1) instead. To get a de-fragmented frame, use `newframe = frame.copy()`\n",
      "  df[cancer] = 0\n",
      "C:\\Users\\svalb\\AppData\\Local\\Temp\\ipykernel_30592\\1474745992.py:11: PerformanceWarning: DataFrame is highly fragmented.  This is usually the result of calling `frame.insert` many times, which has poor performance.  Consider joining all columns at once using pd.concat(axis=1) instead. To get a de-fragmented frame, use `newframe = frame.copy()`\n",
      "  df[cancer] = 0\n",
      "C:\\Users\\svalb\\AppData\\Local\\Temp\\ipykernel_30592\\1474745992.py:11: PerformanceWarning: DataFrame is highly fragmented.  This is usually the result of calling `frame.insert` many times, which has poor performance.  Consider joining all columns at once using pd.concat(axis=1) instead. To get a de-fragmented frame, use `newframe = frame.copy()`\n",
      "  df[cancer] = 0\n",
      "C:\\Users\\svalb\\AppData\\Local\\Temp\\ipykernel_30592\\1474745992.py:11: PerformanceWarning: DataFrame is highly fragmented.  This is usually the result of calling `frame.insert` many times, which has poor performance.  Consider joining all columns at once using pd.concat(axis=1) instead. To get a de-fragmented frame, use `newframe = frame.copy()`\n",
      "  df[cancer] = 0\n",
      "C:\\Users\\svalb\\AppData\\Local\\Temp\\ipykernel_30592\\1474745992.py:11: PerformanceWarning: DataFrame is highly fragmented.  This is usually the result of calling `frame.insert` many times, which has poor performance.  Consider joining all columns at once using pd.concat(axis=1) instead. To get a de-fragmented frame, use `newframe = frame.copy()`\n",
      "  df[cancer] = 0\n",
      "C:\\Users\\svalb\\AppData\\Local\\Temp\\ipykernel_30592\\1474745992.py:11: PerformanceWarning: DataFrame is highly fragmented.  This is usually the result of calling `frame.insert` many times, which has poor performance.  Consider joining all columns at once using pd.concat(axis=1) instead. To get a de-fragmented frame, use `newframe = frame.copy()`\n",
      "  df[cancer] = 0\n",
      "C:\\Users\\svalb\\AppData\\Local\\Temp\\ipykernel_30592\\1474745992.py:11: PerformanceWarning: DataFrame is highly fragmented.  This is usually the result of calling `frame.insert` many times, which has poor performance.  Consider joining all columns at once using pd.concat(axis=1) instead. To get a de-fragmented frame, use `newframe = frame.copy()`\n",
      "  df[cancer] = 0\n",
      "C:\\Users\\svalb\\AppData\\Local\\Temp\\ipykernel_30592\\1474745992.py:11: PerformanceWarning: DataFrame is highly fragmented.  This is usually the result of calling `frame.insert` many times, which has poor performance.  Consider joining all columns at once using pd.concat(axis=1) instead. To get a de-fragmented frame, use `newframe = frame.copy()`\n",
      "  df[cancer] = 0\n",
      "C:\\Users\\svalb\\AppData\\Local\\Temp\\ipykernel_30592\\1474745992.py:11: PerformanceWarning: DataFrame is highly fragmented.  This is usually the result of calling `frame.insert` many times, which has poor performance.  Consider joining all columns at once using pd.concat(axis=1) instead. To get a de-fragmented frame, use `newframe = frame.copy()`\n",
      "  df[cancer] = 0\n",
      "C:\\Users\\svalb\\AppData\\Local\\Temp\\ipykernel_30592\\1474745992.py:11: PerformanceWarning: DataFrame is highly fragmented.  This is usually the result of calling `frame.insert` many times, which has poor performance.  Consider joining all columns at once using pd.concat(axis=1) instead. To get a de-fragmented frame, use `newframe = frame.copy()`\n",
      "  df[cancer] = 0\n",
      "C:\\Users\\svalb\\AppData\\Local\\Temp\\ipykernel_30592\\1474745992.py:11: PerformanceWarning: DataFrame is highly fragmented.  This is usually the result of calling `frame.insert` many times, which has poor performance.  Consider joining all columns at once using pd.concat(axis=1) instead. To get a de-fragmented frame, use `newframe = frame.copy()`\n",
      "  df[cancer] = 0\n",
      "C:\\Users\\svalb\\AppData\\Local\\Temp\\ipykernel_30592\\1474745992.py:11: PerformanceWarning: DataFrame is highly fragmented.  This is usually the result of calling `frame.insert` many times, which has poor performance.  Consider joining all columns at once using pd.concat(axis=1) instead. To get a de-fragmented frame, use `newframe = frame.copy()`\n",
      "  df[cancer] = 0\n",
      "C:\\Users\\svalb\\AppData\\Local\\Temp\\ipykernel_30592\\1474745992.py:11: PerformanceWarning: DataFrame is highly fragmented.  This is usually the result of calling `frame.insert` many times, which has poor performance.  Consider joining all columns at once using pd.concat(axis=1) instead. To get a de-fragmented frame, use `newframe = frame.copy()`\n",
      "  df[cancer] = 0\n",
      "C:\\Users\\svalb\\AppData\\Local\\Temp\\ipykernel_30592\\1474745992.py:11: PerformanceWarning: DataFrame is highly fragmented.  This is usually the result of calling `frame.insert` many times, which has poor performance.  Consider joining all columns at once using pd.concat(axis=1) instead. To get a de-fragmented frame, use `newframe = frame.copy()`\n",
      "  df[cancer] = 0\n",
      "C:\\Users\\svalb\\AppData\\Local\\Temp\\ipykernel_30592\\1474745992.py:11: PerformanceWarning: DataFrame is highly fragmented.  This is usually the result of calling `frame.insert` many times, which has poor performance.  Consider joining all columns at once using pd.concat(axis=1) instead. To get a de-fragmented frame, use `newframe = frame.copy()`\n",
      "  df[cancer] = 0\n",
      "C:\\Users\\svalb\\AppData\\Local\\Temp\\ipykernel_30592\\1474745992.py:11: PerformanceWarning: DataFrame is highly fragmented.  This is usually the result of calling `frame.insert` many times, which has poor performance.  Consider joining all columns at once using pd.concat(axis=1) instead. To get a de-fragmented frame, use `newframe = frame.copy()`\n",
      "  df[cancer] = 0\n",
      "C:\\Users\\svalb\\AppData\\Local\\Temp\\ipykernel_30592\\1474745992.py:11: PerformanceWarning: DataFrame is highly fragmented.  This is usually the result of calling `frame.insert` many times, which has poor performance.  Consider joining all columns at once using pd.concat(axis=1) instead. To get a de-fragmented frame, use `newframe = frame.copy()`\n",
      "  df[cancer] = 0\n",
      "C:\\Users\\svalb\\AppData\\Local\\Temp\\ipykernel_30592\\1474745992.py:11: PerformanceWarning: DataFrame is highly fragmented.  This is usually the result of calling `frame.insert` many times, which has poor performance.  Consider joining all columns at once using pd.concat(axis=1) instead. To get a de-fragmented frame, use `newframe = frame.copy()`\n",
      "  df[cancer] = 0\n",
      "C:\\Users\\svalb\\AppData\\Local\\Temp\\ipykernel_30592\\1474745992.py:11: PerformanceWarning: DataFrame is highly fragmented.  This is usually the result of calling `frame.insert` many times, which has poor performance.  Consider joining all columns at once using pd.concat(axis=1) instead. To get a de-fragmented frame, use `newframe = frame.copy()`\n",
      "  df[cancer] = 0\n",
      "C:\\Users\\svalb\\AppData\\Local\\Temp\\ipykernel_30592\\1474745992.py:11: PerformanceWarning: DataFrame is highly fragmented.  This is usually the result of calling `frame.insert` many times, which has poor performance.  Consider joining all columns at once using pd.concat(axis=1) instead. To get a de-fragmented frame, use `newframe = frame.copy()`\n",
      "  df[cancer] = 0\n",
      "C:\\Users\\svalb\\AppData\\Local\\Temp\\ipykernel_30592\\1474745992.py:11: PerformanceWarning: DataFrame is highly fragmented.  This is usually the result of calling `frame.insert` many times, which has poor performance.  Consider joining all columns at once using pd.concat(axis=1) instead. To get a de-fragmented frame, use `newframe = frame.copy()`\n",
      "  df[cancer] = 0\n",
      "C:\\Users\\svalb\\AppData\\Local\\Temp\\ipykernel_30592\\1474745992.py:11: PerformanceWarning: DataFrame is highly fragmented.  This is usually the result of calling `frame.insert` many times, which has poor performance.  Consider joining all columns at once using pd.concat(axis=1) instead. To get a de-fragmented frame, use `newframe = frame.copy()`\n",
      "  df[cancer] = 0\n",
      "C:\\Users\\svalb\\AppData\\Local\\Temp\\ipykernel_30592\\1474745992.py:11: PerformanceWarning: DataFrame is highly fragmented.  This is usually the result of calling `frame.insert` many times, which has poor performance.  Consider joining all columns at once using pd.concat(axis=1) instead. To get a de-fragmented frame, use `newframe = frame.copy()`\n",
      "  df[cancer] = 0\n",
      "C:\\Users\\svalb\\AppData\\Local\\Temp\\ipykernel_30592\\1474745992.py:11: PerformanceWarning: DataFrame is highly fragmented.  This is usually the result of calling `frame.insert` many times, which has poor performance.  Consider joining all columns at once using pd.concat(axis=1) instead. To get a de-fragmented frame, use `newframe = frame.copy()`\n",
      "  df[cancer] = 0\n",
      "C:\\Users\\svalb\\AppData\\Local\\Temp\\ipykernel_30592\\1474745992.py:11: PerformanceWarning: DataFrame is highly fragmented.  This is usually the result of calling `frame.insert` many times, which has poor performance.  Consider joining all columns at once using pd.concat(axis=1) instead. To get a de-fragmented frame, use `newframe = frame.copy()`\n",
      "  df[cancer] = 0\n",
      "C:\\Users\\svalb\\AppData\\Local\\Temp\\ipykernel_30592\\1474745992.py:11: PerformanceWarning: DataFrame is highly fragmented.  This is usually the result of calling `frame.insert` many times, which has poor performance.  Consider joining all columns at once using pd.concat(axis=1) instead. To get a de-fragmented frame, use `newframe = frame.copy()`\n",
      "  df[cancer] = 0\n",
      "100%|████████████████████████████████████████████████████████████████████████████████████| 4/4 [00:51<00:00, 12.99s/it]\n"
     ]
    }
   ],
   "source": [
    "# Here, cancers which can be considered synonyms or subtypes of main cancers present in the \n",
    "# Globocan dataset are combined with these main cancers. \n",
    "# Subsequently, these synonyms and subtypes are removed\n",
    "cancers_remove_matched = []\n",
    "\n",
    "for csv in tqdm(list_dfs_papers):\n",
    "    df = pd.read_csv(DF_input + csv)\n",
    "\n",
    "    # Some dfs don't contain all cancer types of the whole dataset. For these cases, add each missing cancer with value 0 for all papers\n",
    "    for cancer in articles_dataset_cancers.difference(df.columns):\n",
    "        df[cancer] = 0\n",
    "\n",
    "    ## Synonyms and subtypes of brain cancer\n",
    "    # Schwannoma is left out since it affects most frequently the peripheral nervous system\n",
    "    df[\"Brain cancer\"] = df[\"Brain cancer\"] + df[\"Astrocytoma\"] + df[\"Ependymoma\"] + df[\"Glioblastoma\"] + df[\"Oligodendroglioma\"] + df[\"Meningioma\"] + df[\"Medulloblastoma\"] + df[\"Primitive neuroectodermal tumor\"]\n",
    "    df[\"Brain cancer\"] = np.where(df[\"Brain cancer\"] > 0, 1, df[\"Brain cancer\"])\n",
    "    cancers_remove_matched += [\"Astrocytoma\", \"Ependymoma\", \"Glioblastoma\", \"Oligodendroglioma\", \"Meningioma\", \"Medulloblastoma\", \"Primitive neuroectodermal tumor\"]\n",
    "    \n",
    "    ## Synonyms and subtypes of breast cancer\n",
    "    df[\"Breast cancer\"] = df[\"Breast cancer\"] + df[\"Ductal carcinoma\"] + df[\"Lobular carcinoma\"]\n",
    "    df[\"Breast cancer\"] = np.where(df[\"Breast cancer\"] > 0, 1, df[\"Breast cancer\"])\n",
    "    cancers_remove_matched += [\"Ductal carcinoma\", \"Lobular carcinoma\"]\n",
    "\n",
    "    ## Synonyms and subtypes of colon cancer\n",
    "    df[\"Colon cancer\"] = df[\"Colon cancer\"] + df[\"Adenocarcinoma of the colon\"]\n",
    "    df[\"Colon cancer\"] = np.where(df[\"Colon cancer\"] > 0, 1, df[\"Colon cancer\"])\n",
    "    cancers_remove_matched += [\"Adenocarcinoma of the colon\"]\n",
    "\n",
    "    ## Synonyms and subtypes of kidney cancer\n",
    "    df[\"Kidney cancer\"] = df[\"Kidney cancer\"] + df[\"Renal cell carcinoma\"] + df[\"Wilms tumor\"]\n",
    "    df[\"Kidney cancer\"] = np.where(df[\"Kidney cancer\"] > 0, 1, df[\"Kidney cancer\"])\n",
    "    cancers_remove_matched += [\"Renal cell carcinoma\", \"Wilms tumor\"]\n",
    "\n",
    "    ## Synonyms and subtypes of leukemia\n",
    "    df[\"Leukemia\"] = df[\"Leukemia\"] + df[\"Acute lymphoblastic leukemia\"] + df[\"Acute myeloid leukemia\"] + df[\"Atypical chronic myeloid leukemia\"] + df[\"Chronic eosinophilic leukemia\"] + df[\"Chronic lymphocytic leukemia\"] + df[\"Chronic myeloid leukemia\"] + df[\"Chronic neutrophilic leukemia\"] + df[\"Hairy cell leukemia\"] + df[\"Juvenile myelomonocytic leukemia\"] + df[\"Mast cell leukemia\"]\n",
    "    df[\"Leukemia\"] = np.where(df[\"Leukemia\"] > 0, 1, df[\"Leukemia\"])\n",
    "    cancers_remove_matched += [\"Acute lymphoblastic leukemia\", \"Acute myeloid leukemia\", \"Atypical chronic myeloid leukemia\", \"Chronic eosinophilic leukemia\", \"Chronic lymphocytic leukemia\", \"Chronic myeloid leukemia\", \"Chronic neutrophilic leukemia\", \"Hairy cell leukemia\", \"Juvenile myelomonocytic leukemia\", \"Mast cell leukemia\"]\n",
    "\n",
    "    ## Synonyms and subtypes of liver cancer\n",
    "    # Cholangiocarcinoma is left out since it is not always associated to the liver\n",
    "    df[\"Liver cancer\"] = df[\"Liver cancer\"] + df[\"Hepatocellular carcinoma\"] + df[\"Fibrolamellar carcinoma\"]\n",
    "    df[\"Liver cancer\"] = np.where(df[\"Liver cancer\"] > 0, 1, df[\"Liver cancer\"])\n",
    "    cancers_remove_matched += [\"Hepatocellular carcinoma\", \"Fibrolamellar carcinoma\"]\n",
    "\n",
    "    ## Synonyms and subtypes of lung cancer\n",
    "    df[\"Lung cancer\"] = df[\"Liver cancer\"] + df[\"Non-small cell lung cancer\"] + df[\"Small cell lung cancer\"]\n",
    "    df[\"Lung cancer\"] = np.where(df[\"Lung cancer\"] > 0, 1, df[\"Lung cancer\"])\n",
    "    cancers_remove_matched += [\"Non-small cell lung cancer\", \"Small cell lung cancer\"]\n",
    "    \n",
    "    ## Synonyms and subtypes of non-Hodgkin lymphoma\n",
    "    df[\"Non-Hodgkin lymphoma\"] = df[\"Non-Hodgkin lymphoma\"] + df[\"Diffuse large B-cell lymphoma\"] + df[\"Follicular lymphoma\"] + df[\"Marginal zone lymphoma\"] + df[\"Mucosa-associated lymphoid tissue lymphoma\"]  + df[\"Peripheral T-cell lymphoma\"] \n",
    "    df[\"Non-Hodgkin lymphoma\"] = np.where(df[\"Non-Hodgkin lymphoma\"] > 0, 1, df[\"Non-Hodgkin lymphoma\"])\n",
    "    cancers_remove_matched += [\"Diffuse large B-cell lymphoma\", \"Follicular lymphoma\", \"Marginal zone lymphoma\", \"Mucosa-associated lymphoid tissue lymphoma\", \"Peripheral T-cell lymphoma\"]\n",
    "    \n",
    "    ## Synonyms and subtypes of skin cancer\n",
    "    # This category combines melanoma and non-melanoma skin cancers, as in Globocan\n",
    "    # Squamous cell carcinoma is left out since it can affect other areas beyond the skin\n",
    "    df[\"Skin cancer\"] = df[\"Skin cancer\"] + df[\"Melanoma\"] + df[\"Squamous cell carcinoma of the skin\"] + df[\"Basal cell carcinoma\"] + df[\"Merkel cell carcinoma\"] + df[\"Sebaceous carcinoma\"] + df[\"Sebaceous gland carcinoma\"]\n",
    "    df[\"Skin cancer\"] = np.where(df[\"Skin cancer\"] > 0, 1, df[\"Skin cancer\"])\n",
    "    cancers_remove_matched += [\"Melanoma\", \"Squamous cell carcinoma of the skin\", \"Basal cell carcinoma\", \"Merkel cell carcinoma\", \"Sebaceous carcinoma\", \"Sebaceous gland carcinoma\"]\n",
    "\n",
    "    ## Synonyms and subtypes of ovarian cancer\n",
    "    df[\"Ovarian cancer\"] = df[\"Ovarian cancer\"] + df[\"Granulosa cell tumor\"]\n",
    "    df[\"Ovarian cancer\"] = np.where(df[\"Ovarian cancer\"] > 0, 1, df[\"Ovarian cancer\"])\n",
    "    cancers_remove_matched += [\"Granulosa cell tumor\"]\n",
    "\n",
    "    ## Synonyms and subtypes of pancreatic cancer\n",
    "    df[\"Pancreatic cancer\"] = df[\"Pancreatic cancer\"] + df[\"Adenocarcinoma of the pancreas\"]\n",
    "    df[\"Pancreatic cancer\"] = np.where(df[\"Pancreatic cancer\"] > 0, 1, df[\"Pancreatic cancer\"])\n",
    "    cancers_remove_matched += [\"Adenocarcinoma of the pancreas\"]\n",
    "\n",
    "    ## Synonyms and subtypes of stomach cancer\n",
    "    df[\"Stomach cancer\"] = df[\"Stomach cancer\"] + df[\"Gastric adenocarcinoma\"]\n",
    "    df[\"Stomach cancer\"] = np.where(df[\"Stomach cancer\"] > 0, 1, df[\"Stomach cancer\"])\n",
    "    cancers_remove_matched += [\"Gastric adenocarcinoma\"]\n",
    "\n",
    "    ## Synonyms and subtypes of thyroid cancer\n",
    "    df[\"Thyroid cancer\"] = df[\"Thyroid cancer\"] + df[\"Papillary thyroid cancer\"]  + df[\"Follicular thyroid cancer\"]  + df[\"Medullary thyroid cancer\"]  + df[\"Anaplastic thyroid cancer\"]\n",
    "    df[\"Thyroid cancer\"] = np.where(df[\"Thyroid cancer\"] > 0, 1, df[\"Thyroid cancer\"])\n",
    "    cancers_remove_matched += [\"Papillary thyroid cancer\", \"Follicular thyroid cancer\", \"Medullary thyroid cancer\", \"Anaplastic thyroid cancer\"]\n",
    "\n",
    "    ## Synonyms and subtypes of uterine cancer\n",
    "    df[\"Uterine cancer\"] = df[\"Uterine cancer\"] + df[\"Endometrial cancer\"] + df[\"Endometrial stromal sarcoma\"]\n",
    "    df[\"Uterine cancer\"] = np.where(df[\"Uterine cancer\"] > 0, 1, df[\"Uterine cancer\"])\n",
    "    cancers_remove_matched += [\"Endometrial cancer\", \"Endometrial stromal sarcoma\"]\n",
    "\n",
    "    ## Synonyms and subtypes of vulvar cancer\n",
    "    df[\"Vulvar cancer\"] = df[\"Vulvar cancer\"] + df[\"Vulval cancer\"]\n",
    "    df[\"Vulvar cancer\"] = np.where(df[\"Vulvar cancer\"] > 0, 1, df[\"Vulvar cancer\"])\n",
    "    cancers_remove_matched += [\"Vulval cancer\"]\n",
    "\n",
    "    # Remove columns corresponding to synonyms and subtypes of main cancer types\n",
    "    all_df_columns = set(df.columns.to_list())\n",
    "    columns_df_keep = list(all_df_columns.difference(set(cancers_remove_matched)))\n",
    "    df = df[columns_df_keep]\n",
    "    \n",
    "    df.to_csv(DF_input + csv, index = False)\n",
    "    del df"
   ]
  },
  {
   "cell_type": "code",
   "execution_count": 21,
   "id": "bb27460d-32d6-438c-b4ef-156385452b58",
   "metadata": {
    "scrolled": true
   },
   "outputs": [
    {
     "name": "stderr",
     "output_type": "stream",
     "text": [
      "100%|████████████████████████████████████████████████████████████████████████████████████| 4/4 [00:21<00:00,  5.41s/it]\n"
     ]
    }
   ],
   "source": [
    "# All columns in the articles' dataset\n",
    "all_columns_articles_dataset = []\n",
    "\n",
    "for csv in tqdm(list_dfs_papers):\n",
    "    df = pd.read_csv(DF_input + csv)\n",
    "    for column in df.columns.to_list():\n",
    "        if column not in all_columns_articles_dataset:\n",
    "            all_columns_articles_dataset.append(column)\n",
    "\n",
    "    del df"
   ]
  },
  {
   "cell_type": "code",
   "execution_count": 28,
   "id": "51afc9f4-aaf2-4a6f-bdc3-fea5679827b1",
   "metadata": {},
   "outputs": [
    {
     "data": {
      "text/plain": [
       "{'Adenocarcinoma',\n",
       " 'Adenoid cystic carcinoma',\n",
       " 'Adrenocortical carcinoma',\n",
       " 'Aggressive systemic mastocytosis',\n",
       " 'Alveolar soft part sarcoma',\n",
       " 'Ampullary cancer',\n",
       " 'Ampullary carcinoma',\n",
       " 'Angiosarcoma',\n",
       " 'Appendix cancer',\n",
       " 'Bone cancer',\n",
       " 'Cholangiocarcinoma',\n",
       " 'Chondrosarcoma',\n",
       " 'Chordoma',\n",
       " 'Clear cell carcinoma',\n",
       " 'Cutaneous mastocytosis',\n",
       " 'Desmoplastic small round cell tumor',\n",
       " 'Duodenal cancer',\n",
       " 'Ear cancer',\n",
       " 'Epithelioid sarcoma',\n",
       " 'Essential thrombocythemia',\n",
       " 'Ewing sarcoma',\n",
       " 'Extraskeletal chondrosarcoma',\n",
       " 'Extraskeletal myxoid chondrosarcoma',\n",
       " 'Extraskeletal osteosarcoma',\n",
       " 'Eye cancer',\n",
       " 'Fallopian tube cancer',\n",
       " 'Fibrosarcoma',\n",
       " 'Gastrointestinal stromal tumor',\n",
       " 'Giant cell tumor of bone',\n",
       " 'Head and neck cancer',\n",
       " 'Ileal cancer',\n",
       " 'Jejunal cancer',\n",
       " 'Leiomyoma',\n",
       " 'Leiomyosarcoma',\n",
       " 'Liposarcoma',\n",
       " 'Lymphoma',\n",
       " 'Malignant fibrous histiocytoma',\n",
       " 'Malignant mesenchymoma',\n",
       " 'Malignant peripheral nerve sheath tumor',\n",
       " 'Mantle cell lymphoma',\n",
       " 'Mast cell sarcoma',\n",
       " 'Mesonephric carcinoma',\n",
       " 'Mucinous adenocarcinoma',\n",
       " 'Mucinous carcinoma',\n",
       " 'Myelodysplastic syndromes',\n",
       " 'Myeloproliferative neoplasms',\n",
       " 'Nasal cancer',\n",
       " 'Neuroblastoma',\n",
       " 'Neuroendocrine tumor',\n",
       " 'Neurofibroma',\n",
       " 'Osteoblastoma',\n",
       " 'Osteochondroma',\n",
       " 'Osteosarcoma',\n",
       " 'Other cancer',\n",
       " 'Parathyroid carcinoma',\n",
       " 'Periosteal osteosarcoma',\n",
       " 'Peritoneal cancer',\n",
       " 'Pleomorphic sarcoma',\n",
       " 'Polycythemia vera',\n",
       " 'Primary central nervous system lymphoma',\n",
       " 'Primary myelofibrosis',\n",
       " 'Rhabdomyosarcoma',\n",
       " 'Sarcoma',\n",
       " 'Schwannoma',\n",
       " 'Sertoli-Leydig cell tumor',\n",
       " 'Small intestine cancer',\n",
       " 'Smoldering systemic mastocytosis',\n",
       " 'Solitary fibrous tumor',\n",
       " 'Squamous cell carcinoma',\n",
       " 'Synovial sarcoma',\n",
       " 'Systemic mastocytosis',\n",
       " 'Thymic carcinoma',\n",
       " 'Thymoma',\n",
       " 'Transitional cell carcinoma',\n",
       " 'Undetermined cancer',\n",
       " 'Urothelial carcinoma',\n",
       " 'hemangiosarcoma'}"
      ]
     },
     "execution_count": 28,
     "metadata": {},
     "output_type": "execute_result"
    }
   ],
   "source": [
    "# Cancer types which are not matched to Globocan cancers\n",
    "columns_articles_data = [\"PMID\", \"DOI\", \"Journal\", \"Title\", \"BookTitle\", \"Book Accession\", \"Publisher\", \"Abstract\", \"PublicationDate\", \"Authors\", \"NER_lastAuthor\",\n",
    "                        \"Country\", \"Country_source\", \"Keywords\", \"MeshHeadings\", \"Language\", \"Type\", \"PublicationTypes\", \"Chemicals\"] \n",
    "\n",
    "columns_species = [\"Species\", \"Undetermined_Species\", \"human\", \"patient\", \"primate\", \"macaque\", \"monkey\", \"Chimpanzee\",\n",
    "                   \"rat\", \"mouse\", \"mice\", \"rabbit\", \"Lagomorph\", \"guinea pig\", \"zebrafish\", \"medaka\", \"fruit fly\",\n",
    "                   \"Syrian hamster\", \"Homo sapiens\", \"H.sapiens\", \"Rhesus macaque\", \"Rhesus monkey\", \"Macaca mulatta\",\n",
    "                   \"M. mulatta\", \"Macaca fascicularis\", \"M. fasticularis\", \"Cynomolgus\", \"Pan troglodytes\", \"P. troglodytes\",\n",
    "                   \"Rattus norvegicus\", \"R. norvegicus\" \"Mus musculus\", \"M. musculus\", \"Oryctolagus cuniculus\", \"O. cuniculus\",\n",
    "                   \"Cavia porcellus\", \"C. porcellus\", \"Danio rerio\", \"D. rerio\", \"Drosophila\", \"D. melanogaster\", \n",
    "                   \"Mesocricetus auratus\", \"M. auratus\", \"Oryzias latipes\", \"O. latipes\", \"Caenorhabditis elegans\" \"C. elegans\"]\n",
    "\n",
    "cancer_columns_keep = list(globocan_dataset_cancers) + [ \"Cancer\", \"Undetermined_Cancer\"]\n",
    "\n",
    "columns_keep = columns_articles_data + cancer_columns_keep + columns_species\n",
    "\n",
    "other_cancers = set(all_columns_articles_dataset).difference(set(columns_keep))\n",
    "other_cancers"
   ]
  },
  {
   "cell_type": "code",
   "execution_count": 23,
   "id": "9f42e199-c58d-4fce-bcf1-7f9d4e83e98b",
   "metadata": {},
   "outputs": [
    {
     "name": "stderr",
     "output_type": "stream",
     "text": [
      "100%|████████████████████████████████████████████████████████████████████████████████████| 4/4 [00:48<00:00, 12.10s/it]\n"
     ]
    }
   ],
   "source": [
    "# Deal with articles with cancer types not in the main cancer types and not being synonyms or subtypes of these\n",
    "# Some cancer types (e.g. squamous cell carcinoma) can affect several tissues/organs and therefore were not  \n",
    "# matched to any main cancer type in the previous step. These cancers and any other cancer\n",
    "# which was not matched will be combined into an \"Other cancers\" category\n",
    "\n",
    "for csv in tqdm(list_dfs_papers):\n",
    "    df = pd.read_csv(DF_input + csv)\n",
    "\n",
    "    ## Dealing with other cancer types beyond Globocan cancers and synonyms/subtypes\n",
    "    # Create a \n",
    "    df[\"Other cancer\"] = df[list(other_cancers)].sum(axis = 1)\n",
    "\n",
    "    # Remove columns corresponding to other cancer types\n",
    "    all_df_columns = set(df.columns.to_list())\n",
    "    columns_df_keep = list(all_df_columns.difference(set(other_cancers)))\n",
    "    df = df[columns_df_keep]\n",
    "    \n",
    "    df.to_csv(DF_input + csv, index = False)\n",
    "    del df"
   ]
  },
  {
   "cell_type": "code",
   "execution_count": 24,
   "id": "3ad3a1e9-545a-4dbc-83a8-652932ffa1b3",
   "metadata": {
    "scrolled": true
   },
   "outputs": [
    {
     "data": {
      "text/plain": [
       "{'Abstract',\n",
       " 'Anal cancer',\n",
       " 'Authors',\n",
       " 'Bladder cancer',\n",
       " 'Book Accession',\n",
       " 'BookTitle',\n",
       " 'Brain cancer',\n",
       " 'Breast cancer',\n",
       " 'Cancer',\n",
       " 'Cavia porcellus',\n",
       " 'Cervical cancer',\n",
       " 'Chemicals',\n",
       " 'Chimpanzee',\n",
       " 'Colon cancer',\n",
       " 'Colorectal cancer',\n",
       " 'Country',\n",
       " 'Country_source',\n",
       " 'D. melanogaster',\n",
       " 'DOI',\n",
       " 'Danio rerio',\n",
       " 'Drosophila',\n",
       " 'Esophageal cancer',\n",
       " 'Gallbladder cancer',\n",
       " 'Hodgkin lymphoma',\n",
       " 'Homo sapiens',\n",
       " 'Journal',\n",
       " 'Kaposi sarcoma',\n",
       " 'Keywords',\n",
       " 'Kidney cancer',\n",
       " 'Language',\n",
       " 'Laryngeal cancer',\n",
       " 'Leukemia',\n",
       " 'Liver cancer',\n",
       " 'Lung cancer',\n",
       " 'Macaca fascicularis',\n",
       " 'Macaca mulatta',\n",
       " 'MeshHeadings',\n",
       " 'Mesocricetus auratus',\n",
       " 'Mesothelioma',\n",
       " 'Mouth cancer',\n",
       " 'Multiple myeloma',\n",
       " 'NER_lastAuthor',\n",
       " 'Non-Hodgkin lymphoma',\n",
       " 'Oryctolagus cuniculus',\n",
       " 'Ovarian cancer',\n",
       " 'PMID',\n",
       " 'Pan troglodytes',\n",
       " 'Pancreatic cancer',\n",
       " 'Penile cancer',\n",
       " 'Prostate cancer',\n",
       " 'PublicationDate',\n",
       " 'PublicationTypes',\n",
       " 'Publisher',\n",
       " 'Rattus norvegicus',\n",
       " 'Rectal cancer',\n",
       " 'Rhesus macaque',\n",
       " 'Rhesus monkey',\n",
       " 'Salivary gland cancer',\n",
       " 'Skin cancer',\n",
       " 'Species',\n",
       " 'Stomach cancer',\n",
       " 'Syrian hamster',\n",
       " 'Testicular cancer',\n",
       " 'Throat cancer',\n",
       " 'Thyroid cancer',\n",
       " 'Title',\n",
       " 'Type',\n",
       " 'Undetermined_Species',\n",
       " 'Uterine cancer',\n",
       " 'Vaginal cancer',\n",
       " 'Vulvar cancer',\n",
       " 'fruit fly',\n",
       " 'guinea pig',\n",
       " 'human',\n",
       " 'macaque',\n",
       " 'medaka',\n",
       " 'mice',\n",
       " 'monkey',\n",
       " 'mouse',\n",
       " 'patient',\n",
       " 'primate',\n",
       " 'rabbit',\n",
       " 'rat',\n",
       " 'zebrafish'}"
      ]
     },
     "execution_count": 24,
     "metadata": {},
     "output_type": "execute_result"
    }
   ],
   "source": [
    "# Remaining columns in the dataset\n",
    "set(pd.read_csv(DF_input + list_dfs_papers[1]).columns.to_list())"
   ]
  },
  {
   "cell_type": "code",
   "execution_count": 25,
   "id": "48c978b9-fa8b-4dfb-afd0-b7e635c5459f",
   "metadata": {},
   "outputs": [
    {
     "name": "stderr",
     "output_type": "stream",
     "text": [
      "100%|████████████████████████████████████████████████████████████████████████████████████| 4/4 [00:47<00:00, 11.75s/it]\n"
     ]
    }
   ],
   "source": [
    "# Rename \"Undetermined_Cancer\" to \"Undetermined cancer\"\n",
    "for csv in tqdm(list_dfs_papers):\n",
    "    df = pd.read_csv(DF_input + csv)\n",
    "    df.rename(columns = {\"Undetermined_Cancer\" : \"Undetermined cancer\"}, inplace=True)\n",
    "    df.to_csv(DF_input + csv, index = False)\n",
    "    del df"
   ]
  },
  {
   "cell_type": "code",
   "execution_count": 26,
   "id": "7c636987-98e8-4cc6-a375-863cb3691c33",
   "metadata": {},
   "outputs": [
    {
     "data": {
      "text/plain": [
       "['Chimpanzee',\n",
       " 'PublicationTypes',\n",
       " 'Species',\n",
       " 'Oryzias latipes',\n",
       " 'Cavia porcellus',\n",
       " 'Laryngeal cancer',\n",
       " 'Syrian hamster',\n",
       " 'Undetermined_Species',\n",
       " 'Abstract',\n",
       " 'PublicationDate',\n",
       " 'M. musculus',\n",
       " 'monkey',\n",
       " 'BookTitle',\n",
       " 'Anal cancer',\n",
       " 'Publisher',\n",
       " 'Kidney cancer',\n",
       " 'macaque',\n",
       " 'Hodgkin lymphoma',\n",
       " 'human',\n",
       " 'Rhesus monkey',\n",
       " 'Bladder cancer',\n",
       " 'D. melanogaster',\n",
       " 'Title',\n",
       " 'Thyroid cancer',\n",
       " 'Book Accession',\n",
       " 'Kaposi sarcoma',\n",
       " 'Lung cancer',\n",
       " 'Penile cancer',\n",
       " 'Breast cancer',\n",
       " 'Leukemia',\n",
       " 'Brain cancer',\n",
       " 'Liver cancer',\n",
       " 'Homo sapiens',\n",
       " 'fruit fly',\n",
       " 'Prostate cancer',\n",
       " 'Esophageal cancer',\n",
       " 'DOI',\n",
       " 'Keywords',\n",
       " 'Stomach cancer',\n",
       " 'Non-Hodgkin lymphoma',\n",
       " 'Country_source',\n",
       " 'Ovarian cancer',\n",
       " 'Macaca fascicularis',\n",
       " 'medaka',\n",
       " 'mice',\n",
       " 'rat',\n",
       " 'PMID',\n",
       " 'Country',\n",
       " 'Mesothelioma',\n",
       " 'Chemicals',\n",
       " 'Macaca mulatta',\n",
       " 'Colon cancer',\n",
       " 'NER_lastAuthor',\n",
       " 'Pancreatic cancer',\n",
       " 'Gallbladder cancer',\n",
       " 'Uterine cancer',\n",
       " 'Journal',\n",
       " 'Type',\n",
       " 'Multiple myeloma',\n",
       " 'Lagomorph',\n",
       " 'MeshHeadings',\n",
       " 'Pan troglodytes',\n",
       " 'zebrafish',\n",
       " 'mouse',\n",
       " 'Vulvar cancer',\n",
       " 'Skin cancer',\n",
       " 'Authors',\n",
       " 'Rectal cancer',\n",
       " 'primate',\n",
       " 'Mouth cancer',\n",
       " 'Oryctolagus cuniculus',\n",
       " 'Cancer',\n",
       " 'Testicular cancer',\n",
       " 'rabbit',\n",
       " 'guinea pig',\n",
       " 'patient',\n",
       " 'Throat cancer',\n",
       " 'Salivary gland cancer',\n",
       " 'Language',\n",
       " 'Vaginal cancer',\n",
       " 'Cervical cancer',\n",
       " 'Rhesus macaque',\n",
       " 'Colorectal cancer',\n",
       " 'Drosophila',\n",
       " 'Rattus norvegicus',\n",
       " 'Danio rerio']"
      ]
     },
     "execution_count": 26,
     "metadata": {},
     "output_type": "execute_result"
    }
   ],
   "source": [
    "temp_df = pd.read_csv(DF_input + list_dfs_papers[0])\n",
    "temp_df.columns.to_list()"
   ]
  },
  {
   "cell_type": "code",
   "execution_count": null,
   "id": "1056afe3-edf2-4e36-91bf-a39a2db22b23",
   "metadata": {},
   "outputs": [],
   "source": []
  }
 ],
 "metadata": {
  "kernelspec": {
   "display_name": "Python 3 (ipykernel)",
   "language": "python",
   "name": "python3"
  },
  "language_info": {
   "codemirror_mode": {
    "name": "ipython",
    "version": 3
   },
   "file_extension": ".py",
   "mimetype": "text/x-python",
   "name": "python",
   "nbconvert_exporter": "python",
   "pygments_lexer": "ipython3",
   "version": "3.13.2"
  }
 },
 "nbformat": 4,
 "nbformat_minor": 5
}
