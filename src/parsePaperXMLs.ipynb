{
 "cells": [
  {
   "cell_type": "code",
   "execution_count": 10,
   "id": "b7714945-a580-47f3-9553-edaa4c2fc81f",
   "metadata": {},
   "outputs": [],
   "source": [
    "import time\n",
    "import os\n",
    "from utils import parseXML\n",
    "from utils import findPMIDInXML\n",
    "import pandas as pd\n",
    "pd.set_option('display.max_rows', 500)"
   ]
  },
  {
   "cell_type": "code",
   "execution_count": 12,
   "id": "dce93896-e719-4296-af95-c3c316635a74",
   "metadata": {},
   "outputs": [
    {
     "name": "stdin",
     "output_type": "stream",
     "text": [
      "  C:\\Users\\svalb\\OneDrive\\Escritorio\\Data_40_years_cancer_studies\\XMLs\\\n"
     ]
    }
   ],
   "source": [
    "XML_dir = input().strip()"
   ]
  },
  {
   "cell_type": "code",
   "execution_count": 11,
   "id": "3ec2c899-02ad-4c96-a3f1-a533871a91d4",
   "metadata": {},
   "outputs": [
    {
     "name": "stdin",
     "output_type": "stream",
     "text": [
      " C:\\Users\\svalb\\OneDrive\\Escritorio\\Data_40_years_cancer_studies\\parsedXMLs\\\n"
     ]
    }
   ],
   "source": [
    "DF_output = input().strip()"
   ]
  },
  {
   "cell_type": "code",
   "execution_count": 13,
   "id": "503216eb-4a77-4b8e-b9fe-afb4307c9474",
   "metadata": {},
   "outputs": [],
   "source": [
    "XML_dir_content = os.listdir(XML_dir)"
   ]
  },
  {
   "cell_type": "code",
   "execution_count": 14,
   "id": "3c0f7f26-66cd-49ef-92be-89213b3f91b2",
   "metadata": {},
   "outputs": [],
   "source": [
    "# Sort XMLs\n",
    "XML_numbers = []\n",
    "XML_file = []\n",
    "        \n",
    "for XML in range(len(XML_dir_content)):\n",
    "    XML_numbers.append(int(XML_dir_content[XML][:-4]))\n",
    "        \n",
    "XML_numbers.sort()\n",
    "\n",
    "for number in range(len(XML_numbers)):\n",
    "    XML_file.append(str(XML_numbers[number]) + \".txt\")"
   ]
  },
  {
   "cell_type": "code",
   "execution_count": 15,
   "id": "21435b38-2f97-42fe-9d65-3ffa055ba1f7",
   "metadata": {},
   "outputs": [
    {
     "name": "stdout",
     "output_type": "stream",
     "text": [
      "Currently parsing article: 0/4454200\n",
      "Currently parsing article: 100000/4454200\n",
      "Currently parsing article: 200000/4454200\n",
      "Currently parsing article: 300000/4454200\n",
      "Currently parsing article: 400000/4454200\n",
      "Currently parsing article: 500000/4454200\n",
      "Currently parsing article: 600000/4454200\n",
      "Currently parsing article: 700000/4454200\n",
      "Currently parsing article: 800000/4454200\n",
      "Currently parsing article: 900000/4454200\n",
      "Currently parsing article: 1000000/4454200\n",
      "Currently parsing article: 1100000/4454200\n",
      "Currently parsing article: 1200000/4454200\n",
      "Currently parsing article: 1300000/4454200\n",
      "Currently parsing article: 1400000/4454200\n",
      "Currently parsing article: 1500000/4454200\n",
      "Currently parsing article: 1600000/4454200\n",
      "Currently parsing article: 1700000/4454200\n",
      "Currently parsing article: 1800000/4454200\n",
      "Currently parsing article: 1900000/4454200\n",
      "Currently parsing article: 2000000/4454200\n",
      "Currently parsing article: 2100000/4454200\n",
      "Currently parsing article: 2200000/4454200\n",
      "Currently parsing article: 2300000/4454200\n",
      "Currently parsing article: 2400000/4454200\n",
      "Currently parsing article: 2500000/4454200\n",
      "Currently parsing article: 2600000/4454200\n",
      "Currently parsing article: 2700000/4454200\n",
      "Currently parsing article: 2800000/4454200\n",
      "Currently parsing article: 2900000/4454200\n",
      "Currently parsing article: 3000000/4454200\n",
      "Currently parsing article: 3100000/4454200\n",
      "Currently parsing article: 3200000/4454200\n",
      "Currently parsing article: 3300000/4454200\n",
      "Currently parsing article: 3400000/4454200\n",
      "Currently parsing article: 3500000/4454200\n",
      "Currently parsing article: 3600000/4454200\n",
      "Currently parsing article: 3700000/4454200\n",
      "Currently parsing article: 3800000/4454200\n",
      "Currently parsing article: 3900000/4454200\n",
      "Currently parsing article: 4000000/4454200\n",
      "Currently parsing article: 4100000/4454200\n",
      "Currently parsing article: 4200000/4454200\n",
      "Currently parsing article: 4300000/4454200\n",
      "Currently parsing article: 4400000/4454200\n",
      "Last XML file parsed\n",
      "Parsing time: 4884.89 seconds\n"
     ]
    }
   ],
   "source": [
    "# Parse XMLs\n",
    "parsed_XML_output = []\n",
    "not_parsed_XML_files = []\n",
    "current_parsing_XML = ''\n",
    "\n",
    "start = time.time()\n",
    "parseXML(XML_dir, XML_file, parsed_XML_output, not_parsed_XML_files, current_parsing_XML, DF_output)\n",
    "print(\"Parsing time: \" + str(round(time.time()-start,2)) + \" seconds\")"
   ]
  },
  {
   "cell_type": "code",
   "execution_count": 9,
   "id": "78388482-25e1-44e3-9727-57838a531d34",
   "metadata": {},
   "outputs": [
    {
     "data": {
      "text/plain": [
       "[]"
      ]
     },
     "execution_count": 9,
     "metadata": {},
     "output_type": "execute_result"
    }
   ],
   "source": [
    "not_parsed_XML_files"
   ]
  }
 ],
 "metadata": {
  "kernelspec": {
   "display_name": "Python 3 (ipykernel)",
   "language": "python",
   "name": "python3"
  },
  "language_info": {
   "codemirror_mode": {
    "name": "ipython",
    "version": 3
   },
   "file_extension": ".py",
   "mimetype": "text/x-python",
   "name": "python",
   "nbconvert_exporter": "python",
   "pygments_lexer": "ipython3",
   "version": "3.13.2"
  }
 },
 "nbformat": 4,
 "nbformat_minor": 5
}
