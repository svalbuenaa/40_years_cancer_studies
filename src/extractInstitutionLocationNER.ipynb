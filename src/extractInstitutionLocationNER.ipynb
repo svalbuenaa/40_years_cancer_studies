{
 "cells": [
  {
   "cell_type": "code",
   "execution_count": 2,
   "id": "b50906a7-9ad3-4ca3-a339-5376174f2884",
   "metadata": {},
   "outputs": [],
   "source": [
    "import pandas as pd\n",
    "import spacy\n",
    "import os\n",
    "import ast\n",
    "import gc\n",
    "import time\n",
    "\n",
    "# Libraries for language detection. Avoid warnings\n",
    "from langdetect import detect, DetectorFactory\n",
    "import warnings\n",
    "warnings.filterwarnings(\"ignore\", category=UserWarning, module='langdetect')\n",
    "\n",
    "# Ensure consistent language detection results across runs\n",
    "DetectorFactory.seed = 0"
   ]
  },
  {
   "cell_type": "code",
   "execution_count": 3,
   "id": "e90a28d0-5b71-4e39-b033-de9759e5f8d7",
   "metadata": {},
   "outputs": [],
   "source": [
    "# Load spaCy models\n",
    "\n",
    "nlp_models = {}\n",
    "nlp_models['en'] = spacy.load(\"en_core_web_lg\")\n",
    "nlp_models['es'] = spacy.load(\"es_core_news_lg\")\n",
    "nlp_models['fr'] = spacy.load(\"fr_core_news_lg\")\n",
    "nlp_models['de'] = spacy.load(\"de_core_news_lg\")\n",
    "nlp_models['it'] = spacy.load(\"it_core_news_lg\")\n",
    "nlp_models['ja'] = spacy.load(\"fr_core_news_lg\")\n",
    "nlp_models['pl'] = spacy.load(\"pl_core_news_lg\")\n",
    "nlp_models['pt'] = spacy.load(\"pt_core_news_lg\")\n",
    "nlp_models['ru'] = spacy.load(\"ru_core_news_lg\")\n",
    "nlp_models['sv'] = spacy.load(\"sv_core_news_lg\")\n",
    "nlp_models['undetermined'] = spacy.load(\"xx_ent_wiki_sm\")"
   ]
  },
  {
   "cell_type": "code",
   "execution_count": 4,
   "id": "74f0cca7-8ad5-4ec8-bcdf-b8f8ff8f480e",
   "metadata": {},
   "outputs": [
    {
     "name": "stdin",
     "output_type": "stream",
     "text": [
      "   C:\\Users\\svalb\\OneDrive\\Escritorio\\Data_40_years_cancer_studies\\parsedXMLs\\\n"
     ]
    }
   ],
   "source": [
    "# Input directory (dir. with csvs containing parsed articles)\n",
    "DF_input = input().strip()"
   ]
  },
  {
   "cell_type": "code",
   "execution_count": 5,
   "id": "fe57bf8a-af59-48ce-8c9f-a404e5fc7d10",
   "metadata": {},
   "outputs": [],
   "source": [
    "list_csvs = []\n",
    "\n",
    "for file in os.listdir(DF_input):\n",
    "    if file[-4:] == \".csv\":\n",
    "        list_csvs.append(file)\n",
    "\n",
    "n_csvs = len(list_csvs)"
   ]
  },
  {
   "cell_type": "code",
   "execution_count": 10,
   "id": "ba36d537-2f52-41e7-8672-9a291227df69",
   "metadata": {},
   "outputs": [
    {
     "name": "stdout",
     "output_type": "stream",
     "text": [
      "Extracting affiliation of articles in csv: parsedX_1100000.csv (3/45)\n",
      "Doing NER of articles in csv: parsedX_1100000.csv (3/45)\n",
      "--Processing time: 825.37 s\n",
      "Extracting affiliation of articles in csv: parsedX_1200000.csv (4/45)\n",
      "Doing NER of articles in csv: parsedX_1200000.csv (4/45)\n",
      "--Processing time: 835.34 s\n",
      "Extracting affiliation of articles in csv: parsedX_1300000.csv (5/45)\n",
      "Doing NER of articles in csv: parsedX_1300000.csv (5/45)\n",
      "--Processing time: 845.69 s\n",
      "Extracting affiliation of articles in csv: parsedX_1400000.csv (6/45)\n",
      "Doing NER of articles in csv: parsedX_1400000.csv (6/45)\n",
      "--Processing time: 839.83 s\n",
      "Extracting affiliation of articles in csv: parsedX_1500000.csv (7/45)\n",
      "Doing NER of articles in csv: parsedX_1500000.csv (7/45)\n",
      "--Processing time: 845.18 s\n",
      "Extracting affiliation of articles in csv: parsedX_1600000.csv (8/45)\n",
      "Doing NER of articles in csv: parsedX_1600000.csv (8/45)\n",
      "--Processing time: 840.93 s\n",
      "Extracting affiliation of articles in csv: parsedX_1700000.csv (9/45)\n",
      "Doing NER of articles in csv: parsedX_1700000.csv (9/45)\n",
      "--Processing time: 846.73 s\n",
      "Extracting affiliation of articles in csv: parsedX_1800000.csv (10/45)\n"
     ]
    },
    {
     "name": "stderr",
     "output_type": "stream",
     "text": [
      "C:\\Users\\svalb\\AppData\\Local\\Temp\\ipykernel_16464\\753028249.py:16: DtypeWarning: Columns (13,14,15) have mixed types. Specify dtype option on import or set low_memory=False.\n",
      "  df= pd.read_csv(DF_input + csv)\n"
     ]
    },
    {
     "name": "stdout",
     "output_type": "stream",
     "text": [
      "Doing NER of articles in csv: parsedX_1800000.csv (10/45)\n",
      "--Processing time: 842.72 s\n",
      "Extracting affiliation of articles in csv: parsedX_1900000.csv (11/45)\n"
     ]
    },
    {
     "name": "stderr",
     "output_type": "stream",
     "text": [
      "C:\\Users\\svalb\\AppData\\Local\\Temp\\ipykernel_16464\\753028249.py:16: DtypeWarning: Columns (13,14,15) have mixed types. Specify dtype option on import or set low_memory=False.\n",
      "  df= pd.read_csv(DF_input + csv)\n"
     ]
    },
    {
     "name": "stdout",
     "output_type": "stream",
     "text": [
      "Doing NER of articles in csv: parsedX_1900000.csv (11/45)\n",
      "--Processing time: 845.77 s\n",
      "Extracting affiliation of articles in csv: parsedX_200000.csv (12/45)\n",
      "Doing NER of articles in csv: parsedX_200000.csv (12/45)\n",
      "--Processing time: 636.2 s\n",
      "Extracting affiliation of articles in csv: parsedX_2000000.csv (13/45)\n",
      "Doing NER of articles in csv: parsedX_2000000.csv (13/45)\n",
      "--Processing time: 852.09 s\n",
      "Extracting affiliation of articles in csv: parsedX_2100000.csv (14/45)\n",
      "Doing NER of articles in csv: parsedX_2100000.csv (14/45)\n",
      "--Processing time: 846.56 s\n",
      "Extracting affiliation of articles in csv: parsedX_2200000.csv (15/45)\n"
     ]
    },
    {
     "name": "stderr",
     "output_type": "stream",
     "text": [
      "C:\\Users\\svalb\\AppData\\Local\\Temp\\ipykernel_16464\\753028249.py:16: DtypeWarning: Columns (13,14,15) have mixed types. Specify dtype option on import or set low_memory=False.\n",
      "  df= pd.read_csv(DF_input + csv)\n"
     ]
    },
    {
     "name": "stdout",
     "output_type": "stream",
     "text": [
      "Doing NER of articles in csv: parsedX_2200000.csv (15/45)\n",
      "--Processing time: 863.21 s\n",
      "Extracting affiliation of articles in csv: parsedX_2300000.csv (16/45)\n",
      "Doing NER of articles in csv: parsedX_2300000.csv (16/45)\n",
      "--Processing time: 968.37 s\n",
      "Extracting affiliation of articles in csv: parsedX_2400000.csv (17/45)\n"
     ]
    },
    {
     "name": "stderr",
     "output_type": "stream",
     "text": [
      "C:\\Users\\svalb\\AppData\\Local\\Temp\\ipykernel_16464\\753028249.py:16: DtypeWarning: Columns (13,14,15) have mixed types. Specify dtype option on import or set low_memory=False.\n",
      "  df= pd.read_csv(DF_input + csv)\n"
     ]
    },
    {
     "name": "stdout",
     "output_type": "stream",
     "text": [
      "Doing NER of articles in csv: parsedX_2400000.csv (17/45)\n",
      "--Processing time: 993.24 s\n",
      "Extracting affiliation of articles in csv: parsedX_2500000.csv (18/45)\n"
     ]
    },
    {
     "name": "stderr",
     "output_type": "stream",
     "text": [
      "C:\\Users\\svalb\\AppData\\Local\\Temp\\ipykernel_16464\\753028249.py:16: DtypeWarning: Columns (13,14,15) have mixed types. Specify dtype option on import or set low_memory=False.\n",
      "  df= pd.read_csv(DF_input + csv)\n"
     ]
    },
    {
     "name": "stdout",
     "output_type": "stream",
     "text": [
      "Doing NER of articles in csv: parsedX_2500000.csv (18/45)\n",
      "--Processing time: 986.72 s\n",
      "Extracting affiliation of articles in csv: parsedX_2600000.csv (19/45)\n"
     ]
    },
    {
     "name": "stderr",
     "output_type": "stream",
     "text": [
      "C:\\Users\\svalb\\AppData\\Local\\Temp\\ipykernel_16464\\753028249.py:16: DtypeWarning: Columns (13,14,15) have mixed types. Specify dtype option on import or set low_memory=False.\n",
      "  df= pd.read_csv(DF_input + csv)\n"
     ]
    },
    {
     "name": "stdout",
     "output_type": "stream",
     "text": [
      "Doing NER of articles in csv: parsedX_2600000.csv (19/45)\n",
      "--Processing time: 928.26 s\n",
      "Extracting affiliation of articles in csv: parsedX_2700000.csv (20/45)\n"
     ]
    },
    {
     "name": "stderr",
     "output_type": "stream",
     "text": [
      "C:\\Users\\svalb\\AppData\\Local\\Temp\\ipykernel_16464\\753028249.py:16: DtypeWarning: Columns (13,14,15) have mixed types. Specify dtype option on import or set low_memory=False.\n",
      "  df= pd.read_csv(DF_input + csv)\n"
     ]
    },
    {
     "name": "stdout",
     "output_type": "stream",
     "text": [
      "Doing NER of articles in csv: parsedX_2700000.csv (20/45)\n",
      "--Processing time: 929.62 s\n",
      "Extracting affiliation of articles in csv: parsedX_2800000.csv (21/45)\n"
     ]
    },
    {
     "name": "stderr",
     "output_type": "stream",
     "text": [
      "C:\\Users\\svalb\\AppData\\Local\\Temp\\ipykernel_16464\\753028249.py:16: DtypeWarning: Columns (13,14,15) have mixed types. Specify dtype option on import or set low_memory=False.\n",
      "  df= pd.read_csv(DF_input + csv)\n"
     ]
    },
    {
     "name": "stdout",
     "output_type": "stream",
     "text": [
      "Doing NER of articles in csv: parsedX_2800000.csv (21/45)\n",
      "--Processing time: 940.96 s\n",
      "Extracting affiliation of articles in csv: parsedX_2900000.csv (22/45)\n",
      "Doing NER of articles in csv: parsedX_2900000.csv (22/45)\n",
      "--Processing time: 944.47 s\n",
      "Extracting affiliation of articles in csv: parsedX_300000.csv (23/45)\n",
      "Doing NER of articles in csv: parsedX_300000.csv (23/45)\n",
      "--Processing time: 449.74 s\n",
      "Extracting affiliation of articles in csv: parsedX_3000000.csv (24/45)\n"
     ]
    },
    {
     "name": "stderr",
     "output_type": "stream",
     "text": [
      "C:\\Users\\svalb\\AppData\\Local\\Temp\\ipykernel_16464\\753028249.py:16: DtypeWarning: Columns (13,14,15) have mixed types. Specify dtype option on import or set low_memory=False.\n",
      "  df= pd.read_csv(DF_input + csv)\n"
     ]
    },
    {
     "name": "stdout",
     "output_type": "stream",
     "text": [
      "Doing NER of articles in csv: parsedX_3000000.csv (24/45)\n",
      "--Processing time: 928.53 s\n",
      "Extracting affiliation of articles in csv: parsedX_3100000.csv (25/45)\n"
     ]
    },
    {
     "name": "stderr",
     "output_type": "stream",
     "text": [
      "C:\\Users\\svalb\\AppData\\Local\\Temp\\ipykernel_16464\\753028249.py:16: DtypeWarning: Columns (13,14,15) have mixed types. Specify dtype option on import or set low_memory=False.\n",
      "  df= pd.read_csv(DF_input + csv)\n"
     ]
    },
    {
     "name": "stdout",
     "output_type": "stream",
     "text": [
      "Doing NER of articles in csv: parsedX_3100000.csv (25/45)\n",
      "--Processing time: 930.7 s\n",
      "Extracting affiliation of articles in csv: parsedX_3200000.csv (26/45)\n"
     ]
    },
    {
     "name": "stderr",
     "output_type": "stream",
     "text": [
      "C:\\Users\\svalb\\AppData\\Local\\Temp\\ipykernel_16464\\753028249.py:16: DtypeWarning: Columns (13,14,15) have mixed types. Specify dtype option on import or set low_memory=False.\n",
      "  df= pd.read_csv(DF_input + csv)\n"
     ]
    },
    {
     "name": "stdout",
     "output_type": "stream",
     "text": [
      "Doing NER of articles in csv: parsedX_3200000.csv (26/45)\n",
      "--Processing time: 948.77 s\n",
      "Extracting affiliation of articles in csv: parsedX_3300000.csv (27/45)\n"
     ]
    },
    {
     "name": "stderr",
     "output_type": "stream",
     "text": [
      "C:\\Users\\svalb\\AppData\\Local\\Temp\\ipykernel_16464\\753028249.py:16: DtypeWarning: Columns (13,14,15) have mixed types. Specify dtype option on import or set low_memory=False.\n",
      "  df= pd.read_csv(DF_input + csv)\n"
     ]
    },
    {
     "name": "stdout",
     "output_type": "stream",
     "text": [
      "Doing NER of articles in csv: parsedX_3300000.csv (27/45)\n",
      "--Processing time: 988.94 s\n",
      "Extracting affiliation of articles in csv: parsedX_3400000.csv (28/45)\n"
     ]
    },
    {
     "name": "stderr",
     "output_type": "stream",
     "text": [
      "C:\\Users\\svalb\\AppData\\Local\\Temp\\ipykernel_16464\\753028249.py:16: DtypeWarning: Columns (13,14,15) have mixed types. Specify dtype option on import or set low_memory=False.\n",
      "  df= pd.read_csv(DF_input + csv)\n"
     ]
    },
    {
     "name": "stdout",
     "output_type": "stream",
     "text": [
      "Doing NER of articles in csv: parsedX_3400000.csv (28/45)\n",
      "--Processing time: 997.5 s\n",
      "Extracting affiliation of articles in csv: parsedX_3500000.csv (29/45)\n",
      "Doing NER of articles in csv: parsedX_3500000.csv (29/45)\n",
      "--Processing time: 1038.01 s\n",
      "Extracting affiliation of articles in csv: parsedX_3600000.csv (30/45)\n"
     ]
    },
    {
     "name": "stderr",
     "output_type": "stream",
     "text": [
      "C:\\Users\\svalb\\AppData\\Local\\Temp\\ipykernel_16464\\753028249.py:16: DtypeWarning: Columns (13,14,15) have mixed types. Specify dtype option on import or set low_memory=False.\n",
      "  df= pd.read_csv(DF_input + csv)\n"
     ]
    },
    {
     "name": "stdout",
     "output_type": "stream",
     "text": [
      "Doing NER of articles in csv: parsedX_3600000.csv (30/45)\n",
      "--Processing time: 952.86 s\n",
      "Extracting affiliation of articles in csv: parsedX_3700000.csv (31/45)\n",
      "Doing NER of articles in csv: parsedX_3700000.csv (31/45)\n",
      "--Processing time: 948.55 s\n",
      "Extracting affiliation of articles in csv: parsedX_3800000.csv (32/45)\n"
     ]
    },
    {
     "name": "stderr",
     "output_type": "stream",
     "text": [
      "C:\\Users\\svalb\\AppData\\Local\\Temp\\ipykernel_16464\\753028249.py:16: DtypeWarning: Columns (13,14,15) have mixed types. Specify dtype option on import or set low_memory=False.\n",
      "  df= pd.read_csv(DF_input + csv)\n"
     ]
    },
    {
     "name": "stdout",
     "output_type": "stream",
     "text": [
      "Doing NER of articles in csv: parsedX_3800000.csv (32/45)\n",
      "--Processing time: 943.98 s\n",
      "Extracting affiliation of articles in csv: parsedX_3900000.csv (33/45)\n"
     ]
    },
    {
     "name": "stderr",
     "output_type": "stream",
     "text": [
      "C:\\Users\\svalb\\AppData\\Local\\Temp\\ipykernel_16464\\753028249.py:16: DtypeWarning: Columns (13,14,15) have mixed types. Specify dtype option on import or set low_memory=False.\n",
      "  df= pd.read_csv(DF_input + csv)\n"
     ]
    },
    {
     "name": "stdout",
     "output_type": "stream",
     "text": [
      "Doing NER of articles in csv: parsedX_3900000.csv (33/45)\n",
      "--Processing time: 1010.38 s\n",
      "Extracting affiliation of articles in csv: parsedX_400000.csv (34/45)\n",
      "Doing NER of articles in csv: parsedX_400000.csv (34/45)\n",
      "--Processing time: 87.3 s\n",
      "Extracting affiliation of articles in csv: parsedX_4000000.csv (35/45)\n",
      "Doing NER of articles in csv: parsedX_4000000.csv (35/45)\n",
      "--Processing time: 1015.67 s\n",
      "Extracting affiliation of articles in csv: parsedX_4100000.csv (36/45)\n"
     ]
    },
    {
     "name": "stderr",
     "output_type": "stream",
     "text": [
      "C:\\Users\\svalb\\AppData\\Local\\Temp\\ipykernel_16464\\753028249.py:16: DtypeWarning: Columns (13,14,15) have mixed types. Specify dtype option on import or set low_memory=False.\n",
      "  df= pd.read_csv(DF_input + csv)\n"
     ]
    },
    {
     "name": "stdout",
     "output_type": "stream",
     "text": [
      "Doing NER of articles in csv: parsedX_4100000.csv (36/45)\n",
      "--Processing time: 1019.86 s\n",
      "Extracting affiliation of articles in csv: parsedX_4200000.csv (37/45)\n"
     ]
    },
    {
     "name": "stderr",
     "output_type": "stream",
     "text": [
      "C:\\Users\\svalb\\AppData\\Local\\Temp\\ipykernel_16464\\753028249.py:16: DtypeWarning: Columns (13,14,15) have mixed types. Specify dtype option on import or set low_memory=False.\n",
      "  df= pd.read_csv(DF_input + csv)\n"
     ]
    },
    {
     "name": "stdout",
     "output_type": "stream",
     "text": [
      "Doing NER of articles in csv: parsedX_4200000.csv (37/45)\n",
      "--Processing time: 1017.14 s\n",
      "Extracting affiliation of articles in csv: parsedX_4300000.csv (38/45)\n"
     ]
    },
    {
     "name": "stderr",
     "output_type": "stream",
     "text": [
      "C:\\Users\\svalb\\AppData\\Local\\Temp\\ipykernel_16464\\753028249.py:16: DtypeWarning: Columns (13,14,15) have mixed types. Specify dtype option on import or set low_memory=False.\n",
      "  df= pd.read_csv(DF_input + csv)\n"
     ]
    },
    {
     "name": "stdout",
     "output_type": "stream",
     "text": [
      "Doing NER of articles in csv: parsedX_4300000.csv (38/45)\n",
      "--Processing time: 1011.17 s\n",
      "Extracting affiliation of articles in csv: parsedX_4400000.csv (39/45)\n",
      "Doing NER of articles in csv: parsedX_4400000.csv (39/45)\n",
      "--Processing time: 1016.62 s\n",
      "Extracting affiliation of articles in csv: parsedX_4454000.csv (40/45)\n",
      "Doing NER of articles in csv: parsedX_4454000.csv (40/45)\n",
      "--Processing time: 549.12 s\n",
      "Extracting affiliation of articles in csv: parsedX_500000.csv (41/45)\n",
      "Doing NER of articles in csv: parsedX_500000.csv (41/45)\n",
      "--Processing time: 804.04 s\n",
      "Extracting affiliation of articles in csv: parsedX_600000.csv (42/45)\n",
      "Doing NER of articles in csv: parsedX_600000.csv (42/45)\n",
      "--Processing time: 826.38 s\n",
      "Extracting affiliation of articles in csv: parsedX_700000.csv (43/45)\n",
      "Doing NER of articles in csv: parsedX_700000.csv (43/45)\n",
      "--Processing time: 843.87 s\n",
      "Extracting affiliation of articles in csv: parsedX_800000.csv (44/45)\n",
      "Doing NER of articles in csv: parsedX_800000.csv (44/45)\n",
      "--Processing time: 847.33 s\n",
      "Extracting affiliation of articles in csv: parsedX_900000.csv (45/45)\n",
      "Doing NER of articles in csv: parsedX_900000.csv (45/45)\n",
      "--Processing time: 875.65 s\n"
     ]
    }
   ],
   "source": [
    "# Extract the affiliation of the last author (or, if that is not available, of any author) of each article\n",
    "# Then, do NER on the affiliation, add result to dataframe and save it\n",
    "no_affiliation = []\n",
    "parsed_csvs = []\n",
    "with open(DF_input+\"csv files with NER.txt\", \"r\") as f:\n",
    "    for line in f:\n",
    "        parsed_csvs.append(line[:-1])\n",
    "    \n",
    "for csv in list_csvs:\n",
    "    if csv not in parsed_csvs: \n",
    "        start = time.time()\n",
    "        NER_input = {} # PMIDs used as keys, affiliation for this PMID as values\n",
    "        NER_lastAuthor = {} # PMIDs used as keys, NER of affiliation as values\n",
    "        # Part 1: Extract affiliation of last (or, if not available, any other) author of each article\n",
    "        print(\"Extracting affiliation of articles in csv: \" + csv + \" (\" + str(list_csvs.index(csv)+1) + \"/\" + str(n_csvs) + \")\")\n",
    "        df= pd.read_csv(DF_input + csv)\n",
    "        for i in range(df.index[-1] + 1): # Iterate through all rows, including the last one\n",
    "            try:\n",
    "                authors_data = ast.literal_eval(df.iat[i, 6])\n",
    "                last_author = authors_data[-1]\n",
    "        \n",
    "                affiliation_found = False\n",
    "                if \"Affiliation\" in last_author and last_author[\"Affiliation\"]:\n",
    "                    # If the last author has an \"Affiliation\" key and it's not empty,\n",
    "                    # take the first one. You can modify this to take any specific one\n",
    "                    # or iterate if you have a preference.\n",
    "                    NER_input[df.iat[i,1]] = last_author[\"Affiliation\"][0]\n",
    "                    affiliation_found = True\n",
    "                else:\n",
    "                    # If the last author doesn't have an \"Affiliation\" key or it's empty,\n",
    "                    # try to find any affiliation within their entry.\n",
    "                    for el in authors_data:\n",
    "                        if el[\"Affiliation\"] is not None and len(el[\"Affiliation\"]) != 0:\n",
    "                            NER_input[df.iat[i,1]] = el[\"Affiliation\"][0]\n",
    "                            affiliation_found = True\n",
    "                            break # Stop after finding the affiliation for any author                    \n",
    "        \n",
    "                if not affiliation_found:\n",
    "                    NER_input[df.iat[i,1]] = None\n",
    "                    no_affiliation.append(df.iat[i, 1])\n",
    "        \n",
    "            except (SyntaxError, ValueError, IndexError, KeyError):\n",
    "                # Handle cases where ast.literal_eval fails, or index is out of bounds,\n",
    "                # or 'Affiliation' key is not found in the expected structure.\n",
    "                NER_input[df.iat[i,1]] = None\n",
    "                no_affiliation.append(df.iat[i, 1])\n",
    "    \n",
    "        # Part 2: Do NER on the affiliation to extract structured info\n",
    "        print(\"Doing NER of articles in csv: \" + csv + \" (\" + str(list_csvs.index(csv)+1) + \"/\" + str(n_csvs) + \")\")\n",
    "        for article in list(NER_input.keys()):\n",
    "            # Default language in affiliation text\n",
    "            detected_lang = \"undetermined\"\n",
    "    \n",
    "            # Attempt to detect affiliation text language\n",
    "            try:\n",
    "                detected_lang = detect(NER_input[article])\n",
    "            except Exception as e:\n",
    "                continue\n",
    "    \n",
    "            # Use the model for the detected language (or a multilingual model if language not detected or no model available for the detected language)\n",
    "            # Do NER with this model on the affiliation\n",
    "            try:\n",
    "                # Load model\n",
    "                nlp = nlp_models.get(detected_lang, nlp_models[\"undetermined\"])\n",
    "    \n",
    "                # Load affiliation text, do NER\n",
    "                doc = nlp(NER_input[article])\n",
    "                sentence_entities = []\n",
    "    \n",
    "                # Extract entities of interest\n",
    "                for ent in doc.ents:\n",
    "                    if ent.label_ in [\"ORG\", \"LOC\", \"GPE\"]:\n",
    "                        sentence_entities.append({\"text\": ent.text, \"label\": ent.label_})\n",
    "    \n",
    "                # Save the entities associated to the article DOI\n",
    "                NER_lastAuthor[article] = ({\"entities\": sentence_entities})\n",
    "    \n",
    "            # If NER not possible, store an empty dict\n",
    "            except ValueError:\n",
    "                NER_lastAuthor[article] = {}\n",
    "                \n",
    "        # Create df from dictionary\n",
    "        df_NER_lastAuthor = pd.DataFrame.from_dict(NER_lastAuthor, orient=\"index\")\n",
    "        df_NER_lastAuthor = df_NER_lastAuthor.rename(columns={\"entities\": \"NER_lastAuthor\"})\n",
    "        df_NER_lastAuthor[\"PMID_NER\"] = df_NER_lastAuthor.index\n",
    "    \n",
    "        # Merge with original df, save\n",
    "        df_save = pd.merge(df, df_NER_lastAuthor, left_on= \"PMID\", right_on=\"PMID_NER\", how=\"left\")\n",
    "        df_save = df_save.drop(columns=[\"PMID_NER\"])\n",
    "        df_save.to_csv(DF_input+csv, index=False)\n",
    "        with open(DF_input+\"csv files with NER.txt\", \"a\") as f:\n",
    "            f.write(csv+\"\\n\")\n",
    "        parsed_csvs.append(csv)\n",
    "        del df, df_save, df_NER_lastAuthor\n",
    "        gc.collect()\n",
    "        print(\"--Processing time: \" + str(round(time.time() - start, 2)) + \" s\")"
   ]
  },
  {
   "cell_type": "code",
   "execution_count": null,
   "id": "6d082280-6782-4ea5-8fe1-6c2ee28c96b6",
   "metadata": {},
   "outputs": [],
   "source": []
  }
 ],
 "metadata": {
  "kernelspec": {
   "display_name": "Python 3 (ipykernel)",
   "language": "python",
   "name": "python3"
  },
  "language_info": {
   "codemirror_mode": {
    "name": "ipython",
    "version": 3
   },
   "file_extension": ".py",
   "mimetype": "text/x-python",
   "name": "python",
   "nbconvert_exporter": "python",
   "pygments_lexer": "ipython3",
   "version": "3.13.2"
  }
 },
 "nbformat": 4,
 "nbformat_minor": 5
}
