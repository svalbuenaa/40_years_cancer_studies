{
 "cells": [
  {
   "cell_type": "code",
   "execution_count": 3,
   "id": "ac9090b9-3841-442d-80ce-e108bb14419a",
   "metadata": {},
   "outputs": [],
   "source": [
    "import requests\n",
    "from bs4 import BeautifulSoup\n",
    "import os"
   ]
  },
  {
   "cell_type": "code",
   "execution_count": 1,
   "id": "c55c98b6-ce15-4d7c-905d-29f900fb3c6b",
   "metadata": {},
   "outputs": [
    {
     "name": "stdin",
     "output_type": "stream",
     "text": [
      " C:\\Users\\svalb\\OneDrive\\Escritorio\\Data_40_years_cancer_studies\\pmids_from_19840701_until_20240630.txt\n"
     ]
    }
   ],
   "source": [
    "# File with article identificators (PMID numbers) to download\n",
    "PMID_input = input().strip()"
   ]
  },
  {
   "cell_type": "code",
   "execution_count": 4,
   "id": "da971254-92e9-4b2e-a277-69a2e75c06d0",
   "metadata": {},
   "outputs": [
    {
     "name": "stdin",
     "output_type": "stream",
     "text": [
      " C:\\Users\\svalb\\OneDrive\\Escritorio\\Data_40_years_cancer_studies\\XMLs\n"
     ]
    }
   ],
   "source": [
    "# Directory to save articles' XMLs\n",
    "XML_output = input().strip()\n",
    "\n",
    "if os.path.exists(XML_output) == False:\n",
    "    os.mkdir(XML_output)"
   ]
  },
  {
   "cell_type": "code",
   "execution_count": 7,
   "id": "9568f29a-d33a-4cfc-9620-e8b9d86637dc",
   "metadata": {},
   "outputs": [],
   "source": [
    "# Load PMIDs as elements of a table\n",
    "with open(PMID_input) as file:\n",
    "    articles_ids = [line.rstrip() for line in file]\n",
    "\n",
    "n_articles = len(articles_ids)"
   ]
  },
  {
   "cell_type": "code",
   "execution_count": 36,
   "id": "920f7020-9fa8-4dcf-acbf-a8af2071898d",
   "metadata": {},
   "outputs": [],
   "source": [
    "# Articles will be downloaded in sets of 200\n",
    "# Sometimes NCBI blocks downloads while the script is running\n",
    "# A variable is used to keep the last successfully downloaded PMID set to restart from there if needed\n",
    "i = 4454000"
   ]
  },
  {
   "cell_type": "code",
   "execution_count": 37,
   "id": "f438c047-ad5d-4150-9093-e8c2838699c6",
   "metadata": {
    "scrolled": true
   },
   "outputs": [
    {
     "name": "stdout",
     "output_type": "stream",
     "text": [
      "4454000\n"
     ]
    }
   ],
   "source": [
    "while i < n_articles:\n",
    "    if n_articles - i >= 200:\n",
    "        response = requests.get(\"https://eutils.ncbi.nlm.nih.gov/entrez/eutils/efetch.fcgi?db=pubmed&id=\" + str(articles_ids[i:i+200]))\n",
    "        print(i)\n",
    "        soup = BeautifulSoup(response.text, \"xml\")\n",
    "        f = open(XML_output+\"\\\\\"+str(i)+\".txt\", \"w\", encoding=\"utf-8\")\n",
    "        f.write(soup.prettify())\n",
    "        f.close()\n",
    "        i+=200\n",
    "    else:\n",
    "        response = requests.get(\n",
    "            \"https://eutils.ncbi.nlm.nih.gov/entrez/eutils/efetch.fcgi?db=pubmed&id=\" + str(articles_ids[i:]))\n",
    "        print(i)\n",
    "        soup = BeautifulSoup(response.text, \"xml\")\n",
    "        f = open(XML_output+\"\\\\\"+str(i) + \".txt\", \"w\", encoding=\"utf-8\")\n",
    "        f.write(soup.prettify())\n",
    "        f.close()\n",
    "        i+=200"
   ]
  },
  {
   "cell_type": "code",
   "execution_count": null,
   "id": "81eb4f63-766d-4140-b591-ee6dec1a6062",
   "metadata": {},
   "outputs": [],
   "source": []
  }
 ],
 "metadata": {
  "kernelspec": {
   "display_name": "Python 3 (ipykernel)",
   "language": "python",
   "name": "python3"
  },
  "language_info": {
   "codemirror_mode": {
    "name": "ipython",
    "version": 3
   },
   "file_extension": ".py",
   "mimetype": "text/x-python",
   "name": "python",
   "nbconvert_exporter": "python",
   "pygments_lexer": "ipython3",
   "version": "3.13.2"
  }
 },
 "nbformat": 4,
 "nbformat_minor": 5
}
