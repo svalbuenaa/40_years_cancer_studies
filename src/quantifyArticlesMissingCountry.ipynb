{
 "cells": [
  {
   "cell_type": "code",
   "execution_count": 10,
   "id": "f3b942b8-a370-457e-8c02-772b3adfb9c1",
   "metadata": {},
   "outputs": [],
   "source": [
    "import pandas as pd\n",
    "import os\n",
    "import matplotlib.pyplot as plt"
   ]
  },
  {
   "cell_type": "code",
   "execution_count": 2,
   "id": "92a178d1-845d-4fea-8edd-726006c7ce85",
   "metadata": {},
   "outputs": [
    {
     "name": "stdin",
     "output_type": "stream",
     "text": [
      " C:\\Users\\svalb\\OneDrive\\Escritorio\\Data_40_years_cancer_studies\\parsedXMLs\\\n"
     ]
    }
   ],
   "source": [
    "DF_input = input().strip()"
   ]
  },
  {
   "cell_type": "code",
   "execution_count": 3,
   "id": "7ef90bdb-9602-4c4c-84b8-c46d356e3e2a",
   "metadata": {},
   "outputs": [],
   "source": [
    "# Import list of csvs to parse\n",
    "list_csvs = []\n",
    "\n",
    "for file in os.listdir(DF_input):\n",
    "    if file[-4:] == \".csv\":\n",
    "        list_csvs.append(file)\n",
    "\n",
    "n_csvs = len(list_csvs)"
   ]
  },
  {
   "cell_type": "code",
   "execution_count": 8,
   "id": "68a96916-ed6d-4298-8950-882565f36f76",
   "metadata": {
    "scrolled": true
   },
   "outputs": [
    {
     "name": "stdout",
     "output_type": "stream",
     "text": [
      "Parsing article parsedX_100000.csv, 1/45\n",
      "Parsing article parsedX_1000000.csv, 2/45\n",
      "Parsing article parsedX_1100000.csv, 3/45\n",
      "Parsing article parsedX_1200000.csv, 4/45\n",
      "Parsing article parsedX_1300000.csv, 5/45\n",
      "Parsing article parsedX_1400000.csv, 6/45\n"
     ]
    },
    {
     "name": "stderr",
     "output_type": "stream",
     "text": [
      "C:\\Users\\svalb\\AppData\\Local\\Temp\\ipykernel_16892\\1760510233.py:6: DtypeWarning: Columns (12) have mixed types. Specify dtype option on import or set low_memory=False.\n",
      "  df = pd.read_csv(DF_input+csv)\n"
     ]
    },
    {
     "name": "stdout",
     "output_type": "stream",
     "text": [
      "Parsing article parsedX_1500000.csv, 7/45\n",
      "Parsing article parsedX_1600000.csv, 8/45\n",
      "Parsing article parsedX_1700000.csv, 9/45\n",
      "Parsing article parsedX_1800000.csv, 10/45\n"
     ]
    },
    {
     "name": "stderr",
     "output_type": "stream",
     "text": [
      "C:\\Users\\svalb\\AppData\\Local\\Temp\\ipykernel_16892\\1760510233.py:6: DtypeWarning: Columns (13,14,15) have mixed types. Specify dtype option on import or set low_memory=False.\n",
      "  df = pd.read_csv(DF_input+csv)\n"
     ]
    },
    {
     "name": "stdout",
     "output_type": "stream",
     "text": [
      "Parsing article parsedX_1900000.csv, 11/45\n"
     ]
    },
    {
     "name": "stderr",
     "output_type": "stream",
     "text": [
      "C:\\Users\\svalb\\AppData\\Local\\Temp\\ipykernel_16892\\1760510233.py:6: DtypeWarning: Columns (13,14,15) have mixed types. Specify dtype option on import or set low_memory=False.\n",
      "  df = pd.read_csv(DF_input+csv)\n"
     ]
    },
    {
     "name": "stdout",
     "output_type": "stream",
     "text": [
      "Parsing article parsedX_200000.csv, 12/45\n",
      "Parsing article parsedX_2000000.csv, 13/45\n",
      "Parsing article parsedX_2100000.csv, 14/45\n",
      "Parsing article parsedX_2200000.csv, 15/45\n"
     ]
    },
    {
     "name": "stderr",
     "output_type": "stream",
     "text": [
      "C:\\Users\\svalb\\AppData\\Local\\Temp\\ipykernel_16892\\1760510233.py:6: DtypeWarning: Columns (13,14,15) have mixed types. Specify dtype option on import or set low_memory=False.\n",
      "  df = pd.read_csv(DF_input+csv)\n"
     ]
    },
    {
     "name": "stdout",
     "output_type": "stream",
     "text": [
      "Parsing article parsedX_2300000.csv, 16/45\n",
      "Parsing article parsedX_2400000.csv, 17/45\n"
     ]
    },
    {
     "name": "stderr",
     "output_type": "stream",
     "text": [
      "C:\\Users\\svalb\\AppData\\Local\\Temp\\ipykernel_16892\\1760510233.py:6: DtypeWarning: Columns (13,14,15) have mixed types. Specify dtype option on import or set low_memory=False.\n",
      "  df = pd.read_csv(DF_input+csv)\n"
     ]
    },
    {
     "name": "stdout",
     "output_type": "stream",
     "text": [
      "Parsing article parsedX_2500000.csv, 18/45\n"
     ]
    },
    {
     "name": "stderr",
     "output_type": "stream",
     "text": [
      "C:\\Users\\svalb\\AppData\\Local\\Temp\\ipykernel_16892\\1760510233.py:6: DtypeWarning: Columns (13,14,15) have mixed types. Specify dtype option on import or set low_memory=False.\n",
      "  df = pd.read_csv(DF_input+csv)\n"
     ]
    },
    {
     "name": "stdout",
     "output_type": "stream",
     "text": [
      "Parsing article parsedX_2600000.csv, 19/45\n"
     ]
    },
    {
     "name": "stderr",
     "output_type": "stream",
     "text": [
      "C:\\Users\\svalb\\AppData\\Local\\Temp\\ipykernel_16892\\1760510233.py:6: DtypeWarning: Columns (13,14,15) have mixed types. Specify dtype option on import or set low_memory=False.\n",
      "  df = pd.read_csv(DF_input+csv)\n"
     ]
    },
    {
     "name": "stdout",
     "output_type": "stream",
     "text": [
      "Parsing article parsedX_2700000.csv, 20/45\n"
     ]
    },
    {
     "name": "stderr",
     "output_type": "stream",
     "text": [
      "C:\\Users\\svalb\\AppData\\Local\\Temp\\ipykernel_16892\\1760510233.py:6: DtypeWarning: Columns (13,14,15) have mixed types. Specify dtype option on import or set low_memory=False.\n",
      "  df = pd.read_csv(DF_input+csv)\n"
     ]
    },
    {
     "name": "stdout",
     "output_type": "stream",
     "text": [
      "Parsing article parsedX_2800000.csv, 21/45\n"
     ]
    },
    {
     "name": "stderr",
     "output_type": "stream",
     "text": [
      "C:\\Users\\svalb\\AppData\\Local\\Temp\\ipykernel_16892\\1760510233.py:6: DtypeWarning: Columns (13,14,15) have mixed types. Specify dtype option on import or set low_memory=False.\n",
      "  df = pd.read_csv(DF_input+csv)\n"
     ]
    },
    {
     "name": "stdout",
     "output_type": "stream",
     "text": [
      "Parsing article parsedX_2900000.csv, 22/45\n",
      "Parsing article parsedX_300000.csv, 23/45\n",
      "Parsing article parsedX_3000000.csv, 24/45\n"
     ]
    },
    {
     "name": "stderr",
     "output_type": "stream",
     "text": [
      "C:\\Users\\svalb\\AppData\\Local\\Temp\\ipykernel_16892\\1760510233.py:6: DtypeWarning: Columns (13,14,15) have mixed types. Specify dtype option on import or set low_memory=False.\n",
      "  df = pd.read_csv(DF_input+csv)\n"
     ]
    },
    {
     "name": "stdout",
     "output_type": "stream",
     "text": [
      "Parsing article parsedX_3100000.csv, 25/45\n"
     ]
    },
    {
     "name": "stderr",
     "output_type": "stream",
     "text": [
      "C:\\Users\\svalb\\AppData\\Local\\Temp\\ipykernel_16892\\1760510233.py:6: DtypeWarning: Columns (13,14,15) have mixed types. Specify dtype option on import or set low_memory=False.\n",
      "  df = pd.read_csv(DF_input+csv)\n"
     ]
    },
    {
     "name": "stdout",
     "output_type": "stream",
     "text": [
      "Parsing article parsedX_3200000.csv, 26/45\n"
     ]
    },
    {
     "name": "stderr",
     "output_type": "stream",
     "text": [
      "C:\\Users\\svalb\\AppData\\Local\\Temp\\ipykernel_16892\\1760510233.py:6: DtypeWarning: Columns (13,14,15) have mixed types. Specify dtype option on import or set low_memory=False.\n",
      "  df = pd.read_csv(DF_input+csv)\n"
     ]
    },
    {
     "name": "stdout",
     "output_type": "stream",
     "text": [
      "Parsing article parsedX_3300000.csv, 27/45\n"
     ]
    },
    {
     "name": "stderr",
     "output_type": "stream",
     "text": [
      "C:\\Users\\svalb\\AppData\\Local\\Temp\\ipykernel_16892\\1760510233.py:6: DtypeWarning: Columns (13,14,15) have mixed types. Specify dtype option on import or set low_memory=False.\n",
      "  df = pd.read_csv(DF_input+csv)\n"
     ]
    },
    {
     "name": "stdout",
     "output_type": "stream",
     "text": [
      "Parsing article parsedX_3400000.csv, 28/45\n"
     ]
    },
    {
     "name": "stderr",
     "output_type": "stream",
     "text": [
      "C:\\Users\\svalb\\AppData\\Local\\Temp\\ipykernel_16892\\1760510233.py:6: DtypeWarning: Columns (13,14,15) have mixed types. Specify dtype option on import or set low_memory=False.\n",
      "  df = pd.read_csv(DF_input+csv)\n"
     ]
    },
    {
     "name": "stdout",
     "output_type": "stream",
     "text": [
      "Parsing article parsedX_3500000.csv, 29/45\n",
      "Parsing article parsedX_3600000.csv, 30/45\n"
     ]
    },
    {
     "name": "stderr",
     "output_type": "stream",
     "text": [
      "C:\\Users\\svalb\\AppData\\Local\\Temp\\ipykernel_16892\\1760510233.py:6: DtypeWarning: Columns (13,14,15) have mixed types. Specify dtype option on import or set low_memory=False.\n",
      "  df = pd.read_csv(DF_input+csv)\n"
     ]
    },
    {
     "name": "stdout",
     "output_type": "stream",
     "text": [
      "Parsing article parsedX_3700000.csv, 31/45\n",
      "Parsing article parsedX_3800000.csv, 32/45\n"
     ]
    },
    {
     "name": "stderr",
     "output_type": "stream",
     "text": [
      "C:\\Users\\svalb\\AppData\\Local\\Temp\\ipykernel_16892\\1760510233.py:6: DtypeWarning: Columns (13,14,15) have mixed types. Specify dtype option on import or set low_memory=False.\n",
      "  df = pd.read_csv(DF_input+csv)\n"
     ]
    },
    {
     "name": "stdout",
     "output_type": "stream",
     "text": [
      "Parsing article parsedX_3900000.csv, 33/45\n"
     ]
    },
    {
     "name": "stderr",
     "output_type": "stream",
     "text": [
      "C:\\Users\\svalb\\AppData\\Local\\Temp\\ipykernel_16892\\1760510233.py:6: DtypeWarning: Columns (13,14,15) have mixed types. Specify dtype option on import or set low_memory=False.\n",
      "  df = pd.read_csv(DF_input+csv)\n"
     ]
    },
    {
     "name": "stdout",
     "output_type": "stream",
     "text": [
      "Parsing article parsedX_400000.csv, 34/45\n"
     ]
    },
    {
     "name": "stderr",
     "output_type": "stream",
     "text": [
      "C:\\Users\\svalb\\AppData\\Local\\Temp\\ipykernel_16892\\1760510233.py:6: DtypeWarning: Columns (13,14,15) have mixed types. Specify dtype option on import or set low_memory=False.\n",
      "  df = pd.read_csv(DF_input+csv)\n"
     ]
    },
    {
     "name": "stdout",
     "output_type": "stream",
     "text": [
      "Parsing article parsedX_4000000.csv, 35/45\n",
      "Parsing article parsedX_4100000.csv, 36/45\n"
     ]
    },
    {
     "name": "stderr",
     "output_type": "stream",
     "text": [
      "C:\\Users\\svalb\\AppData\\Local\\Temp\\ipykernel_16892\\1760510233.py:6: DtypeWarning: Columns (13,14,15) have mixed types. Specify dtype option on import or set low_memory=False.\n",
      "  df = pd.read_csv(DF_input+csv)\n"
     ]
    },
    {
     "name": "stdout",
     "output_type": "stream",
     "text": [
      "Parsing article parsedX_4200000.csv, 37/45\n"
     ]
    },
    {
     "name": "stderr",
     "output_type": "stream",
     "text": [
      "C:\\Users\\svalb\\AppData\\Local\\Temp\\ipykernel_16892\\1760510233.py:6: DtypeWarning: Columns (13,14,15) have mixed types. Specify dtype option on import or set low_memory=False.\n",
      "  df = pd.read_csv(DF_input+csv)\n"
     ]
    },
    {
     "name": "stdout",
     "output_type": "stream",
     "text": [
      "Parsing article parsedX_4300000.csv, 38/45\n"
     ]
    },
    {
     "name": "stderr",
     "output_type": "stream",
     "text": [
      "C:\\Users\\svalb\\AppData\\Local\\Temp\\ipykernel_16892\\1760510233.py:6: DtypeWarning: Columns (13,14,15) have mixed types. Specify dtype option on import or set low_memory=False.\n",
      "  df = pd.read_csv(DF_input+csv)\n"
     ]
    },
    {
     "name": "stdout",
     "output_type": "stream",
     "text": [
      "Parsing article parsedX_4400000.csv, 39/45\n",
      "Parsing article parsedX_4454000.csv, 40/45\n",
      "Parsing article parsedX_500000.csv, 41/45\n",
      "Parsing article parsedX_600000.csv, 42/45\n",
      "Parsing article parsedX_700000.csv, 43/45\n",
      "Parsing article parsedX_800000.csv, 44/45\n",
      "Parsing article parsedX_900000.csv, 45/45\n",
      "All csvs parsed\n"
     ]
    }
   ],
   "source": [
    "# Var to store number of articles for which Country was found,\n",
    "# number of articles for which there was no NER field \n",
    "# and number of articles for which there was NER field but Country\n",
    "# was not found\n",
    "articles_country = {}\n",
    "\n",
    "# Parse csvs\n",
    "for csv in list_csvs:\n",
    "    articles_country[csv] = {}\n",
    "    print(f\"Parsing article {csv}, {list_csvs.index(csv)+1}/{n_csvs}\")\n",
    "    df = pd.read_csv(DF_input+csv)\n",
    "    # Count and store number of articles with Country field\n",
    "    articles_country[csv][\"with_country\"] = len(df.loc[df[\"Country\"].notna()])\n",
    "\n",
    "    # Count and store number of articles without NER field (and no Country)\n",
    "    articles_country[csv][\"no_country_no_NER\"] = len(df.loc[(df[\"Country\"].isna())&(df[\"NER_lastAuthor\"].isna())])\n",
    "\n",
    "    # Count and store number of articles with NER field but no Country\n",
    "    articles_country[csv][\"no_country_yes_NER\"] = len(df.loc[(df[\"Country\"].isna())&(df[\"NER_lastAuthor\"].notna())])\n",
    "    del df\n",
    "    \n",
    "print(\"All csvs parsed\")"
   ]
  },
  {
   "cell_type": "code",
   "execution_count": 60,
   "id": "f0c807f9-b978-4c0c-a92f-71f852a6d3ad",
   "metadata": {},
   "outputs": [],
   "source": [
    "df = pd.DataFrame(articles_country)\n",
    "df = df.transpose()"
   ]
  },
  {
   "cell_type": "code",
   "execution_count": 61,
   "id": "d87005c5-5dda-4fc3-90ca-e3ded36db950",
   "metadata": {
    "scrolled": true
   },
   "outputs": [],
   "source": [
    "df[\"Prop_with_country\"] = df[\"with_country\"] / (df[\"with_country\"] + df[\"no_country_no_NER\"] + df[\"no_country_yes_NER\"])\n",
    "df[\"Prop_no_country_no_NER\"] = df[\"no_country_no_NER\"] / (df[\"with_country\"] + df[\"no_country_no_NER\"] + df[\"no_country_yes_NER\"])\n",
    "df[\"Prop_no_country_yes_NER\"] = df[\"no_country_yes_NER\"] / (df[\"with_country\"] + df[\"no_country_no_NER\"] + df[\"no_country_yes_NER\"])"
   ]
  },
  {
   "cell_type": "code",
   "execution_count": 66,
   "id": "b5407c5d-d35f-4cf0-8905-c97637f484b4",
   "metadata": {},
   "outputs": [
    {
     "data": {
      "image/png": "[encoded data removed]",
      "text/plain": [
       "<Figure size 640x480 with 1 Axes>"
      ]
     },
     "metadata": {},
     "output_type": "display_data"
    }
   ],
   "source": [
    "fig, ax = plt.subplots()\n",
    "bplot = plt.boxplot(df[[\"Prop_with_country\", \n",
    "                \"Prop_no_country_no_NER\", \n",
    "                \"Prop_no_country_yes_NER\"]], \n",
    "            showmeans=True, \n",
    "            patch_artist=True,\n",
    "            tick_labels = ['Country found', \n",
    "                           'No named entities,\\nno Country', \n",
    "                           'Named entities,\\nno Country'])\n",
    "ax.set_ylabel(\"Proportion of articles per 100K articles\")\n",
    "plt.title(\"Articles with / without found Countries in each .csv\")\n",
    "plt.show()"
   ]
  }
 ],
 "metadata": {
  "kernelspec": {
   "display_name": "Python 3 (ipykernel)",
   "language": "python",
   "name": "python3"
  },
  "language_info": {
   "codemirror_mode": {
    "name": "ipython",
    "version": 3
   },
   "file_extension": ".py",
   "mimetype": "text/x-python",
   "name": "python",
   "nbconvert_exporter": "python",
   "pygments_lexer": "ipython3",
   "version": "3.13.2"
  }
 },
 "nbformat": 4,
 "nbformat_minor": 5
}
