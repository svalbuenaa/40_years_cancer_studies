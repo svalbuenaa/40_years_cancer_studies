{
 "cells": [
  {
   "cell_type": "code",
   "execution_count": 2,
   "id": "0fc32435-cc5c-4d37-ac68-e0d3a95b1f70",
   "metadata": {},
   "outputs": [],
   "source": [
    "import os\n",
    "import pandas as pd\n",
    "from tqdm import tqdm\n",
    "import ast\n",
    "\n",
    "import warnings\n",
    "warnings.simplefilter(action='ignore', category=pd.errors.DtypeWarning)\n",
    "warnings.simplefilter(action='ignore', category=pd.errors.SettingWithCopyWarning)"
   ]
  },
  {
   "cell_type": "code",
   "execution_count": 3,
   "id": "a3eb1230-a199-4847-8aa5-91b7a5a5122f",
   "metadata": {},
   "outputs": [],
   "source": [
    "# Set max number of rows displayed\n",
    "pd.set_option('display.max_rows', 100000)\n",
    "\n",
    "# Set max column width\n",
    "pd.set_option(\"max_colwidth\", 500)"
   ]
  },
  {
   "cell_type": "code",
   "execution_count": 54,
   "id": "e0e26d4f-15d4-43e4-897f-3a494c17963b",
   "metadata": {},
   "outputs": [
    {
     "name": "stdin",
     "output_type": "stream",
     "text": [
      " C:\\Users\\svalb\\OneDrive\\Escritorio\\Data_40_years_cancer_studies\\parsedXMLs_first_update_match_GLOBOCAN\\\n"
     ]
    }
   ],
   "source": [
    "DF_input = input().strip()"
   ]
  },
  {
   "cell_type": "code",
   "execution_count": 55,
   "id": "b14d6e10-ca21-4a6f-b138-37e0bfc2524f",
   "metadata": {},
   "outputs": [
    {
     "data": {
      "text/plain": [
       "['parsedXMLs_first_upd_100000.csv',\n",
       " 'parsedXMLs_first_upd_200000.csv',\n",
       " 'parsedXMLs_first_upd_300000.csv',\n",
       " 'parsedXMLs_first_upd_340800.csv']"
      ]
     },
     "execution_count": 55,
     "metadata": {},
     "output_type": "execute_result"
    }
   ],
   "source": [
    "# Import file names of csvs containint articles' data \n",
    "list_dfs_papers = []\n",
    "\n",
    "for file in os.listdir(DF_input):\n",
    "    if file[-4:] == \".csv\":\n",
    "        list_dfs_papers.append(file)\n",
    "\n",
    "list_dfs_papers"
   ]
  },
  {
   "cell_type": "code",
   "execution_count": 101,
   "id": "beceaa19-ee64-4197-999f-2249de871f77",
   "metadata": {},
   "outputs": [
    {
     "name": "stdout",
     "output_type": "stream",
     "text": [
      "parsedXMLs_first_upd_100000.csv\n"
     ]
    },
    {
     "data": {
      "text/html": [
       "<div>\n",
       "<style scoped>\n",
       "    .dataframe tbody tr th:only-of-type {\n",
       "        vertical-align: middle;\n",
       "    }\n",
       "\n",
       "    .dataframe tbody tr th {\n",
       "        vertical-align: top;\n",
       "    }\n",
       "\n",
       "    .dataframe thead th {\n",
       "        text-align: right;\n",
       "    }\n",
       "</style>\n",
       "<table border=\"1\" class=\"dataframe\">\n",
       "  <thead>\n",
       "    <tr style=\"text-align: right;\">\n",
       "      <th></th>\n",
       "      <th>PMID</th>\n",
       "      <th>NER_lastAuthor</th>\n",
       "      <th>Country</th>\n",
       "    </tr>\n",
       "  </thead>\n",
       "  <tbody>\n",
       "  </tbody>\n",
       "</table>\n",
       "</div>"
      ],
      "text/plain": [
       "Empty DataFrame\n",
       "Columns: [PMID, NER_lastAuthor, Country]\n",
       "Index: []"
      ]
     },
     "metadata": {},
     "output_type": "display_data"
    },
    {
     "name": "stdout",
     "output_type": "stream",
     "text": [
      "parsedXMLs_first_upd_200000.csv\n"
     ]
    },
    {
     "data": {
      "text/html": [
       "<div>\n",
       "<style scoped>\n",
       "    .dataframe tbody tr th:only-of-type {\n",
       "        vertical-align: middle;\n",
       "    }\n",
       "\n",
       "    .dataframe tbody tr th {\n",
       "        vertical-align: top;\n",
       "    }\n",
       "\n",
       "    .dataframe thead th {\n",
       "        text-align: right;\n",
       "    }\n",
       "</style>\n",
       "<table border=\"1\" class=\"dataframe\">\n",
       "  <thead>\n",
       "    <tr style=\"text-align: right;\">\n",
       "      <th></th>\n",
       "      <th>PMID</th>\n",
       "      <th>NER_lastAuthor</th>\n",
       "      <th>Country</th>\n",
       "    </tr>\n",
       "  </thead>\n",
       "  <tbody>\n",
       "  </tbody>\n",
       "</table>\n",
       "</div>"
      ],
      "text/plain": [
       "Empty DataFrame\n",
       "Columns: [PMID, NER_lastAuthor, Country]\n",
       "Index: []"
      ]
     },
     "metadata": {},
     "output_type": "display_data"
    },
    {
     "name": "stdout",
     "output_type": "stream",
     "text": [
      "parsedXMLs_first_upd_300000.csv\n"
     ]
    },
    {
     "data": {
      "text/html": [
       "<div>\n",
       "<style scoped>\n",
       "    .dataframe tbody tr th:only-of-type {\n",
       "        vertical-align: middle;\n",
       "    }\n",
       "\n",
       "    .dataframe tbody tr th {\n",
       "        vertical-align: top;\n",
       "    }\n",
       "\n",
       "    .dataframe thead th {\n",
       "        text-align: right;\n",
       "    }\n",
       "</style>\n",
       "<table border=\"1\" class=\"dataframe\">\n",
       "  <thead>\n",
       "    <tr style=\"text-align: right;\">\n",
       "      <th></th>\n",
       "      <th>PMID</th>\n",
       "      <th>NER_lastAuthor</th>\n",
       "      <th>Country</th>\n",
       "    </tr>\n",
       "  </thead>\n",
       "  <tbody>\n",
       "    <tr>\n",
       "      <th>58451</th>\n",
       "      <td>40370481</td>\n",
       "      <td>[{'text': 'Department of Pulmonary and Critical Care Norton Community Hospital', 'label': 'ORG'}, {'text': 'Virginia USA', 'label': 'GPE'}]</td>\n",
       "      <td>United States Virgin Islands</td>\n",
       "    </tr>\n",
       "    <tr>\n",
       "      <th>60754</th>\n",
       "      <td>40385535</td>\n",
       "      <td>[{'text': 'Fralin Biomedical Research Institute', 'label': 'ORG'}, {'text': 'VTC Virginia Tech Roanoke', 'label': 'ORG'}, {'text': 'Virginia USA', 'label': 'GPE'}]</td>\n",
       "      <td>United States Virgin Islands</td>\n",
       "    </tr>\n",
       "    <tr>\n",
       "      <th>74372</th>\n",
       "      <td>40479529</td>\n",
       "      <td>[{'text': 'ICF', 'label': 'ORG'}, {'text': 'Reston', 'label': 'LOC'}, {'text': 'Virginia USA', 'label': 'LOC'}]</td>\n",
       "      <td>United States Virgin Islands</td>\n",
       "    </tr>\n",
       "  </tbody>\n",
       "</table>\n",
       "</div>"
      ],
      "text/plain": [
       "           PMID  \\\n",
       "58451  40370481   \n",
       "60754  40385535   \n",
       "74372  40479529   \n",
       "\n",
       "                                                                                                                                                            NER_lastAuthor  \\\n",
       "58451                          [{'text': 'Department of Pulmonary and Critical Care Norton Community Hospital', 'label': 'ORG'}, {'text': 'Virginia USA', 'label': 'GPE'}]   \n",
       "60754  [{'text': 'Fralin Biomedical Research Institute', 'label': 'ORG'}, {'text': 'VTC Virginia Tech Roanoke', 'label': 'ORG'}, {'text': 'Virginia USA', 'label': 'GPE'}]   \n",
       "74372                                                      [{'text': 'ICF', 'label': 'ORG'}, {'text': 'Reston', 'label': 'LOC'}, {'text': 'Virginia USA', 'label': 'LOC'}]   \n",
       "\n",
       "                            Country  \n",
       "58451  United States Virgin Islands  \n",
       "60754  United States Virgin Islands  \n",
       "74372  United States Virgin Islands  "
      ]
     },
     "metadata": {},
     "output_type": "display_data"
    },
    {
     "name": "stdout",
     "output_type": "stream",
     "text": [
      "parsedXMLs_first_upd_340800.csv\n"
     ]
    },
    {
     "data": {
      "text/html": [
       "<div>\n",
       "<style scoped>\n",
       "    .dataframe tbody tr th:only-of-type {\n",
       "        vertical-align: middle;\n",
       "    }\n",
       "\n",
       "    .dataframe tbody tr th {\n",
       "        vertical-align: top;\n",
       "    }\n",
       "\n",
       "    .dataframe thead th {\n",
       "        text-align: right;\n",
       "    }\n",
       "</style>\n",
       "<table border=\"1\" class=\"dataframe\">\n",
       "  <thead>\n",
       "    <tr style=\"text-align: right;\">\n",
       "      <th></th>\n",
       "      <th>PMID</th>\n",
       "      <th>NER_lastAuthor</th>\n",
       "      <th>Country</th>\n",
       "    </tr>\n",
       "  </thead>\n",
       "  <tbody>\n",
       "  </tbody>\n",
       "</table>\n",
       "</div>"
      ],
      "text/plain": [
       "Empty DataFrame\n",
       "Columns: [PMID, NER_lastAuthor, Country]\n",
       "Index: []"
      ]
     },
     "metadata": {},
     "output_type": "display_data"
    }
   ],
   "source": [
    "for csv in list_dfs_papers:\n",
    "    print(csv)\n",
    "    df = pd.read_csv(DF_input + csv)\n",
    "    display(df.loc[df[\"Country\"] == \"United States Virgin Islands\", [\"PMID\", \"NER_lastAuthor\", \"Country\"]])\n",
    "    del df"
   ]
  },
  {
   "cell_type": "code",
   "execution_count": 104,
   "id": "136678d5-fafb-4de7-a1f5-a8a7a28930dc",
   "metadata": {},
   "outputs": [
    {
     "name": "stdout",
     "output_type": "stream",
     "text": [
      "Parsing csv: parsedXMLs_first_upd_100000.csv\n",
      "Parsing csv: parsedXMLs_first_upd_200000.csv\n",
      "Parsing csv: parsedXMLs_first_upd_300000.csv\n",
      "Parsing csv: parsedXMLs_first_upd_340800.csv\n"
     ]
    }
   ],
   "source": [
    "for csv in list_dfs_papers:\n",
    "    print(f\"Parsing csv: {csv}\")\n",
    "    df = pd.read_csv(DF_input + csv)\n",
    "    temp_list_putative = []\n",
    "    for row in df.loc[(df[\"Country_source\"] == \"Most_common_list_countries\") & (df[\"Country\"] == \"China\")].index:\n",
    "        for el in ast.literal_eval(df.iloc[row][\"NER_lastAuthor\"]):\n",
    "            if \"Uchinada\" in el['text']:\n",
    "                temp_list_putative.append(df.iloc[[row]])\n",
    "    if len(temp_list_putative) > 0:\n",
    "        display(pd.concat(temp_list_putative)[[\"PMID\", \"NER_lastAuthor\", \"Country\"]])\n",
    "\n",
    "    del df, temp_list_putative        "
   ]
  },
  {
   "cell_type": "code",
   "execution_count": 46,
   "id": "2d2f2fc3-491d-45b9-84a8-808fa804cc00",
   "metadata": {},
   "outputs": [
    {
     "name": "stdout",
     "output_type": "stream",
     "text": [
      "40312203\n",
      "40389188\n",
      "40389188\n",
      "40616585\n"
     ]
    }
   ],
   "source": [
    "for i in temp_df.index:\n",
    "    if temp_df.at[i, \"Country_source\"] == \"State_in_US\":\n",
    "        for el in ast.literal_eval(temp_df.at[i, \"NER_lastAuthor\"]):\n",
    "            if el[\"text\"] in [\"DE\", \"de\", \"De\", \"dE\"]:\n",
    "                print(temp_df.iloc[i][\"PMID\"])"
   ]
  },
  {
   "cell_type": "code",
   "execution_count": null,
   "id": "99bfd3a6-5d97-4546-a122-a49ee275b7f7",
   "metadata": {},
   "outputs": [],
   "source": []
  },
  {
   "cell_type": "code",
   "execution_count": 41,
   "id": "2d26e612-7023-4576-a3d5-89ad1f68a35e",
   "metadata": {},
   "outputs": [
    {
     "name": "stderr",
     "output_type": "stream",
     "text": [
      "100%|██████████████████████████████████████████████████████████████████████████████████| 45/45 [02:32<00:00,  3.38s/it]\n"
     ]
    }
   ],
   "source": [
    "list_affiliations = []\n",
    "list_included_annotation = []\n",
    "\n",
    "for csv in tqdm(list_dfs_papers):\n",
    "    included = 0\n",
    "    df = pd.read_csv(DF_input + csv)\n",
    "    for row in df.index[:1000]:\n",
    "        if included < 230:\n",
    "            for author in ast.literal_eval(df.iloc[[row]][[\"Authors\"]].values[0][0]):\n",
    "                if len(author[\"Affiliation\"]) > 0:\n",
    "                    list_included_annotation.append(df.iloc[[row]][\"PMID\"].values)\n",
    "                    list_affiliations.append(author[\"Affiliation\"][0])\n",
    "                    included +=1"
   ]
  },
  {
   "cell_type": "code",
   "execution_count": 50,
   "id": "43d80ff1-b03d-43d4-990b-2e9eb35f2405",
   "metadata": {},
   "outputs": [],
   "source": [
    "with open (affiliations_output + \"first_round_annotations.txt\", \"w\", encoding=\"utf-8\") as f:\n",
    "    for el in list_affiliations:\n",
    "        f.write(el+\"\\n\")"
   ]
  },
  {
   "cell_type": "code",
   "execution_count": null,
   "id": "adcb4e32-53c7-4a00-9dad-a8028585a118",
   "metadata": {},
   "outputs": [],
   "source": []
  },
  {
   "cell_type": "code",
   "execution_count": null,
   "id": "8b6ae0f3-653f-4504-a05e-6bfe759efbb0",
   "metadata": {},
   "outputs": [],
   "source": [
    "for csv in list_dfs_sept_2025:\n",
    "    print(f\"Parsing csv: {csv}\")\n",
    "    df = pd.read_csv(DF_input_sept_2025 + csv)\n",
    "    temp_list_putative = []\n",
    "    for row in df.loc[(df[\"Country_source\"] == \"Most_common_list_countries\") & (df[\"Country\"] == \"Peru\")].index:\n",
    "        for el in ast.literal_eval(df.iloc[row][\"NER_lastAuthor\"]):\n",
    "            if \"Perugia\" in el['text']:\n",
    "                temp_list_putative.append(df.iloc[[row]])\n",
    "    if len(temp_list_putative) > 0:\n",
    "        display(pd.concat(temp_list_putative)[[\"PMID\", \"NER_lastAuthor\", \"Country\"]])\n",
    "\n",
    "    del df, temp_list_putative  "
   ]
  },
  {
   "cell_type": "code",
   "execution_count": null,
   "id": "62022ab0-af42-442f-bb32-42e07a965fe5",
   "metadata": {},
   "outputs": [],
   "source": []
  },
  {
   "cell_type": "code",
   "execution_count": 4,
   "id": "a73aa505-9c43-4b7c-9c15-db1ba4af8899",
   "metadata": {},
   "outputs": [
    {
     "name": "stdin",
     "output_type": "stream",
     "text": [
      " C:\\Users\\svalb\\OneDrive\\Escritorio\\Data_40_years_cancer_studies\\parsedXMLs_update_2025-09_match_GLOBOCAN\\\n"
     ]
    }
   ],
   "source": [
    "DF_input_update = input().strip()"
   ]
  },
  {
   "cell_type": "code",
   "execution_count": 5,
   "id": "af4ab47e-cf9e-44a4-aead-806ae2740c5c",
   "metadata": {},
   "outputs": [
    {
     "data": {
      "text/plain": [
       "['parsedXMLs_update_2025_09_33200.csv']"
      ]
     },
     "execution_count": 5,
     "metadata": {},
     "output_type": "execute_result"
    }
   ],
   "source": [
    "# Import file names of csvs containint articles' data \n",
    "list_dfs_papers_update = []\n",
    "\n",
    "for file in os.listdir(DF_input_update):\n",
    "    if file[-4:] == \".csv\":\n",
    "        list_dfs_papers_update.append(file)\n",
    "\n",
    "list_dfs_papers_update"
   ]
  },
  {
   "cell_type": "code",
   "execution_count": 74,
   "id": "82341f6b-75ca-4f5f-ba9a-fbf8c77b2160",
   "metadata": {},
   "outputs": [],
   "source": [
    "temp_df = pd.read_csv(DF_input_update + list_dfs_papers_update[0])"
   ]
  },
  {
   "cell_type": "code",
   "execution_count": 78,
   "id": "357ba0ba-de84-4865-9803-2018dc2f36a6",
   "metadata": {},
   "outputs": [],
   "source": [
    "# Substring allowed\n",
    "problematic_yes_subs = \"Pg\"\n",
    "wrong_country_yes_subs = \"Papua New Guinea\"\n",
    "\n",
    "temp_list_putative = []\n",
    "for row in temp_df.loc[(temp_df[\"Country_source\"] == \"Most_common_list_countries\") & (temp_df[\"Country\"] == wrong_country_yes_subs)].index:\n",
    "    for el in ast.literal_eval(temp_df.iloc[row][\"NER_lastAuthor\"]):\n",
    "        if problematic_yes_subs in el['text']:\n",
    "            temp_list_putative.append(temp_df.iloc[[row]])\n",
    "if len(temp_list_putative) > 0:\n",
    "    display(pd.concat(temp_list_putative)[[\"PMID\", \"NER_lastAuthor\", \"Country\"]].drop_duplicates())\n",
    "del temp_list_putative  "
   ]
  },
  {
   "cell_type": "code",
   "execution_count": 62,
   "id": "6e04b7ee-f975-4599-8c4a-6f2e1f576a79",
   "metadata": {
    "scrolled": true
   },
   "outputs": [
    {
     "data": {
      "text/html": [
       "<div>\n",
       "<style scoped>\n",
       "    .dataframe tbody tr th:only-of-type {\n",
       "        vertical-align: middle;\n",
       "    }\n",
       "\n",
       "    .dataframe tbody tr th {\n",
       "        vertical-align: top;\n",
       "    }\n",
       "\n",
       "    .dataframe thead th {\n",
       "        text-align: right;\n",
       "    }\n",
       "</style>\n",
       "<table border=\"1\" class=\"dataframe\">\n",
       "  <thead>\n",
       "    <tr style=\"text-align: right;\">\n",
       "      <th></th>\n",
       "      <th>PMID</th>\n",
       "      <th>NER_lastAuthor</th>\n",
       "      <th>Country</th>\n",
       "    </tr>\n",
       "  </thead>\n",
       "  <tbody>\n",
       "    <tr>\n",
       "      <th>16094</th>\n",
       "      <td>40898334</td>\n",
       "      <td>[{'text': 'Department of Veterinary Medical Sciences', 'label': 'ORG'}, {'text': \"University of Bologna, Ozzano dell'Emilia\", 'label': 'ORG'}, {'text': 'Bologna', 'label': 'GPE'}, {'text': 'BO', 'label': 'GPE'}, {'text': 'Italy', 'label': 'GPE'}]</td>\n",
       "      <td>Bolivia</td>\n",
       "    </tr>\n",
       "  </tbody>\n",
       "</table>\n",
       "</div>"
      ],
      "text/plain": [
       "           PMID  \\\n",
       "16094  40898334   \n",
       "\n",
       "                                                                                                                                                                                                                                               NER_lastAuthor  \\\n",
       "16094  [{'text': 'Department of Veterinary Medical Sciences', 'label': 'ORG'}, {'text': \"University of Bologna, Ozzano dell'Emilia\", 'label': 'ORG'}, {'text': 'Bologna', 'label': 'GPE'}, {'text': 'BO', 'label': 'GPE'}, {'text': 'Italy', 'label': 'GPE'}]   \n",
       "\n",
       "       Country  \n",
       "16094  Bolivia  "
      ]
     },
     "metadata": {},
     "output_type": "display_data"
    }
   ],
   "source": [
    "# Substring not allowed\n",
    "problematic_no_subs = \"BO\"\n",
    "wrong_country_no_subs = \"Bolivia\"\n",
    "\n",
    "temp_list_putative = []\n",
    "for row in temp_df.loc[(temp_df[\"Country_source\"] == \"Most_common_list_countries\") & (temp_df[\"Country\"] == wrong_country_no_subs)].index:\n",
    "    for el in ast.literal_eval(temp_df.iloc[row][\"NER_lastAuthor\"]):\n",
    "        if problematic_no_subs == el['text']:\n",
    "            temp_list_putative.append(temp_df.iloc[[row]])\n",
    "if len(temp_list_putative) > 0:\n",
    "    display(pd.concat(temp_list_putative)[[\"PMID\", \"NER_lastAuthor\", \"Country\"]].drop_duplicates())\n",
    "del temp_list_putative  "
   ]
  },
  {
   "cell_type": "code",
   "execution_count": 87,
   "id": "2f6d40ee-95f9-415f-9ee3-a2e9a302300a",
   "metadata": {},
   "outputs": [
    {
     "data": {
      "text/html": [
       "<div>\n",
       "<style scoped>\n",
       "    .dataframe tbody tr th:only-of-type {\n",
       "        vertical-align: middle;\n",
       "    }\n",
       "\n",
       "    .dataframe tbody tr th {\n",
       "        vertical-align: top;\n",
       "    }\n",
       "\n",
       "    .dataframe thead th {\n",
       "        text-align: right;\n",
       "    }\n",
       "</style>\n",
       "<table border=\"1\" class=\"dataframe\">\n",
       "  <thead>\n",
       "    <tr style=\"text-align: right;\">\n",
       "      <th></th>\n",
       "      <th>PMID</th>\n",
       "      <th>NER_lastAuthor</th>\n",
       "      <th>Country</th>\n",
       "    </tr>\n",
       "  </thead>\n",
       "  <tbody>\n",
       "    <tr>\n",
       "      <th>29151</th>\n",
       "      <td>41016940</td>\n",
       "      <td>[{'text': 'Institute of Neurogenetics', 'label': 'ORG'}, {'text': 'University of Luebeck', 'label': 'ORG'}, {'text': 'Luebeck', 'label': 'GPE'}, {'text': 'SH', 'label': 'GPE'}, {'text': 'Germany', 'label': 'GPE'}]</td>\n",
       "      <td>St. Helena</td>\n",
       "    </tr>\n",
       "  </tbody>\n",
       "</table>\n",
       "</div>"
      ],
      "text/plain": [
       "           PMID  \\\n",
       "29151  41016940   \n",
       "\n",
       "                                                                                                                                                                                                              NER_lastAuthor  \\\n",
       "29151  [{'text': 'Institute of Neurogenetics', 'label': 'ORG'}, {'text': 'University of Luebeck', 'label': 'ORG'}, {'text': 'Luebeck', 'label': 'GPE'}, {'text': 'SH', 'label': 'GPE'}, {'text': 'Germany', 'label': 'GPE'}]   \n",
       "\n",
       "          Country  \n",
       "29151  St. Helena  "
      ]
     },
     "execution_count": 87,
     "metadata": {},
     "output_type": "execute_result"
    }
   ],
   "source": [
    "temp_df.loc[temp_df[\"Country\"] == \"St. Helena\", [\"PMID\", \"NER_lastAuthor\", \"Country\"]]"
   ]
  },
  {
   "cell_type": "code",
   "execution_count": null,
   "id": "31dae3f5-2edf-4d50-8709-c3ff74bd127d",
   "metadata": {},
   "outputs": [],
   "source": []
  }
 ],
 "metadata": {
  "kernelspec": {
   "display_name": "Python 3 (ipykernel)",
   "language": "python",
   "name": "python3"
  },
  "language_info": {
   "codemirror_mode": {
    "name": "ipython",
    "version": 3
   },
   "file_extension": ".py",
   "mimetype": "text/x-python",
   "name": "python",
   "nbconvert_exporter": "python",
   "pygments_lexer": "ipython3",
   "version": "3.13.2"
  }
 },
 "nbformat": 4,
 "nbformat_minor": 5
}
