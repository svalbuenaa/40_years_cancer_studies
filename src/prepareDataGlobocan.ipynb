{
 "cells": [
  {
   "cell_type": "code",
   "execution_count": 1,
   "id": "e787fa0a-5d09-4a6b-95d9-fe761415e122",
   "metadata": {},
   "outputs": [],
   "source": [
    "import pandas as pd\n",
    "import os\n",
    "import re\n",
    "from itertools import chain\n",
    "from tqdm import tqdm\n",
    "import time\n",
    "\n",
    "# DType warning when importing .csv files with parsed PMIDs. Avoid showing the warning\n",
    "import warnings\n",
    "warnings.simplefilter(action='ignore', category=pd.errors.DtypeWarning)"
   ]
  },
  {
   "cell_type": "code",
   "execution_count": 2,
   "id": "05bf6bc1-65eb-4109-81a0-a981f40d0fb3",
   "metadata": {},
   "outputs": [
    {
     "name": "stdin",
     "output_type": "stream",
     "text": [
      " C:\\Users\\svalb\\OneDrive\\Escritorio\\Data_40_years_cancer_studies\\Globocan_data\\\n"
     ]
    }
   ],
   "source": [
    "# Directory with Globocal data separated by cancer\n",
    "CSV_input = input().strip()"
   ]
  },
  {
   "cell_type": "code",
   "execution_count": 78,
   "id": "faf5d98d-c20b-43f6-8bba-04de3b1e7647",
   "metadata": {},
   "outputs": [
    {
     "name": "stdin",
     "output_type": "stream",
     "text": [
      " C:\\Users\\svalb\\OneDrive\\Escritorio\\Data_40_years_cancer_studies\\resources\\\n"
     ]
    }
   ],
   "source": [
    "# Directory to save Globocan curated dataset\n",
    "Globocan_output = input().strip()"
   ]
  },
  {
   "cell_type": "code",
   "execution_count": 3,
   "id": "a077e691-a674-4753-b202-d0c47f1b80cb",
   "metadata": {},
   "outputs": [
    {
     "name": "stdin",
     "output_type": "stream",
     "text": [
      " C:\\Users\\svalb\\OneDrive\\Escritorio\\Data_40_years_cancer_studies\\parsedXMLs\\\n"
     ]
    }
   ],
   "source": [
    "# Directory with articles' data (to extract country names)\n",
    "DF_input = input().strip()"
   ]
  },
  {
   "cell_type": "code",
   "execution_count": 41,
   "id": "fa2eb635-4ba8-4a27-b55f-95bd35f01ffe",
   "metadata": {
    "scrolled": true
   },
   "outputs": [
    {
     "data": {
      "text/plain": [
       "['dataset-inc-both-sexes-in-2022-anus.csv',\n",
       " 'dataset-inc-both-sexes-in-2022-bladder.csv',\n",
       " 'dataset-inc-both-sexes-in-2022-brain-central-nervous-system.csv',\n",
       " 'dataset-inc-both-sexes-in-2022-breast.csv',\n",
       " 'dataset-inc-both-sexes-in-2022-cervix-uteri.csv',\n",
       " 'dataset-inc-both-sexes-in-2022-colon.csv',\n",
       " 'dataset-inc-both-sexes-in-2022-colorectum.csv',\n",
       " 'dataset-inc-both-sexes-in-2022-corpus-uteri.csv',\n",
       " 'dataset-inc-both-sexes-in-2022-gallbladder.csv',\n",
       " 'dataset-inc-both-sexes-in-2022-hodgkin-lymphoma.csv',\n",
       " 'dataset-inc-both-sexes-in-2022-hypopharynx.csv',\n",
       " 'dataset-inc-both-sexes-in-2022-kaposi-sarcoma.csv',\n",
       " 'dataset-inc-both-sexes-in-2022-kidney.csv',\n",
       " 'dataset-inc-both-sexes-in-2022-larynx.csv',\n",
       " 'dataset-inc-both-sexes-in-2022-leukaemia.csv',\n",
       " 'dataset-inc-both-sexes-in-2022-lip-oral-cavity.csv',\n",
       " 'dataset-inc-both-sexes-in-2022-liver-and-intrahepatic-bile-ducts.csv',\n",
       " 'dataset-inc-both-sexes-in-2022-melanoma-of-skin.csv',\n",
       " 'dataset-inc-both-sexes-in-2022-mesothelioma.csv',\n",
       " 'dataset-inc-both-sexes-in-2022-multiple-myeloma.csv',\n",
       " 'dataset-inc-both-sexes-in-2022-nasopharynx.csv',\n",
       " 'dataset-inc-both-sexes-in-2022-non-hodgkin-lymphoma.csv',\n",
       " 'dataset-inc-both-sexes-in-2022-non-melanoma-skin-cancer.csv',\n",
       " 'dataset-inc-both-sexes-in-2022-oesophagus.csv',\n",
       " 'dataset-inc-both-sexes-in-2022-oropharynx.csv',\n",
       " 'dataset-inc-both-sexes-in-2022-ovary.csv',\n",
       " 'dataset-inc-both-sexes-in-2022-pancreas.csv',\n",
       " 'dataset-inc-both-sexes-in-2022-penis.csv',\n",
       " 'dataset-inc-both-sexes-in-2022-prostate.csv',\n",
       " 'dataset-inc-both-sexes-in-2022-rectum.csv',\n",
       " 'dataset-inc-both-sexes-in-2022-salivary-glands.csv',\n",
       " 'dataset-inc-both-sexes-in-2022-stomach.csv',\n",
       " 'dataset-inc-both-sexes-in-2022-testis.csv',\n",
       " 'dataset-inc-both-sexes-in-2022-thyroid.csv',\n",
       " 'dataset-inc-both-sexes-in-2022-trachea-bronchus-and-lung.csv',\n",
       " 'dataset-inc-both-sexes-in-2022-vagina.csv',\n",
       " 'dataset-inc-both-sexes-in-2022-vulva.csv']"
      ]
     },
     "execution_count": 41,
     "metadata": {},
     "output_type": "execute_result"
    }
   ],
   "source": [
    "# Import file names of csvs containint Globocan data \n",
    "list_csvs = []\n",
    "\n",
    "for file in os.listdir(CSV_input):\n",
    "    if file[-4:] == \".csv\":\n",
    "        list_csvs.append(file)\n",
    "\n",
    "list_csvs"
   ]
  },
  {
   "cell_type": "code",
   "execution_count": 5,
   "id": "fde00004-e691-40b4-8366-1e1044db2089",
   "metadata": {
    "scrolled": true
   },
   "outputs": [
    {
     "data": {
      "text/plain": [
       "['parsedX_100000.csv',\n",
       " 'parsedX_1000000.csv',\n",
       " 'parsedX_1100000.csv',\n",
       " 'parsedX_1200000.csv',\n",
       " 'parsedX_1300000.csv',\n",
       " 'parsedX_1400000.csv',\n",
       " 'parsedX_1500000.csv',\n",
       " 'parsedX_1600000.csv',\n",
       " 'parsedX_1700000.csv',\n",
       " 'parsedX_1800000.csv',\n",
       " 'parsedX_1900000.csv',\n",
       " 'parsedX_200000.csv',\n",
       " 'parsedX_2000000.csv',\n",
       " 'parsedX_2100000.csv',\n",
       " 'parsedX_2200000.csv',\n",
       " 'parsedX_2300000.csv',\n",
       " 'parsedX_2400000.csv',\n",
       " 'parsedX_2500000.csv',\n",
       " 'parsedX_2600000.csv',\n",
       " 'parsedX_2700000.csv',\n",
       " 'parsedX_2800000.csv',\n",
       " 'parsedX_2900000.csv',\n",
       " 'parsedX_300000.csv',\n",
       " 'parsedX_3000000.csv',\n",
       " 'parsedX_3100000.csv',\n",
       " 'parsedX_3200000.csv',\n",
       " 'parsedX_3300000.csv',\n",
       " 'parsedX_3400000.csv',\n",
       " 'parsedX_3500000.csv',\n",
       " 'parsedX_3600000.csv',\n",
       " 'parsedX_3700000.csv',\n",
       " 'parsedX_3800000.csv',\n",
       " 'parsedX_3900000.csv',\n",
       " 'parsedX_400000.csv',\n",
       " 'parsedX_4000000.csv',\n",
       " 'parsedX_4100000.csv',\n",
       " 'parsedX_4200000.csv',\n",
       " 'parsedX_4300000.csv',\n",
       " 'parsedX_4400000.csv',\n",
       " 'parsedX_4454000.csv',\n",
       " 'parsedX_500000.csv',\n",
       " 'parsedX_600000.csv',\n",
       " 'parsedX_700000.csv',\n",
       " 'parsedX_800000.csv',\n",
       " 'parsedX_900000.csv']"
      ]
     },
     "execution_count": 5,
     "metadata": {},
     "output_type": "execute_result"
    }
   ],
   "source": [
    "# Import file names of csvs containint articles' data \n",
    "\n",
    "list_dfs_papers = []\n",
    "\n",
    "for file in os.listdir(DF_input):\n",
    "    if file[-4:] == \".csv\":\n",
    "        list_dfs_papers.append(file)\n",
    "\n",
    "list_dfs_papers"
   ]
  },
  {
   "cell_type": "code",
   "execution_count": 56,
   "id": "b5a0cac7-71d2-4601-8305-756a6015c15c",
   "metadata": {},
   "outputs": [],
   "source": [
    "# Import dataframes\n",
    "list_dfs = []\n",
    "for csv in list_csvs:\n",
    "    df = pd.read_csv(CSV_input + csv)\n",
    "    df[\"Cancer\"] = csv.split(\"in-2022-\")[1].split(\".csv\")[0]\n",
    "    list_dfs.append(df)\n",
    "    del df\n",
    "\n",
    "# Bind into one dataframe\n",
    "df_globocan = pd.concat(list_dfs, axis = 0)\n",
    "\n",
    "# Drop variable \"Country\" (contains country numeric code, useless)\n",
    "df_globocan = df_globocan.drop(columns=[\"Country\"])"
   ]
  },
  {
   "cell_type": "markdown",
   "id": "d1c613ed-b6ce-4848-868c-e23acaa26090",
   "metadata": {},
   "source": [
    "## Note\n",
    "\n",
    "For each cancer, there is information of independent countries as well as aggregated information for relevant supranational entities (e.g. WHO East Mediterranean Region (EMRO)). Information concerning these supranational entities is removed"
   ]
  },
  {
   "cell_type": "code",
   "execution_count": 57,
   "id": "24ed4e90-2c8e-46b0-8c5e-21843b56a994",
   "metadata": {},
   "outputs": [
    {
     "data": {
      "text/html": [
       "<div>\n",
       "<style scoped>\n",
       "    .dataframe tbody tr th:only-of-type {\n",
       "        vertical-align: middle;\n",
       "    }\n",
       "\n",
       "    .dataframe tbody tr th {\n",
       "        vertical-align: top;\n",
       "    }\n",
       "\n",
       "    .dataframe thead th {\n",
       "        text-align: right;\n",
       "    }\n",
       "</style>\n",
       "<table border=\"1\" class=\"dataframe\">\n",
       "  <thead>\n",
       "    <tr style=\"text-align: right;\">\n",
       "      <th></th>\n",
       "      <th>Alpha-3 code</th>\n",
       "      <th>Cancer code</th>\n",
       "      <th>Population code (ISO/UN)</th>\n",
       "      <th>Label</th>\n",
       "      <th>Sex</th>\n",
       "      <th>Number</th>\n",
       "      <th>95% UI low</th>\n",
       "      <th>95% UI high</th>\n",
       "      <th>Number.1</th>\n",
       "      <th>ASR (World)</th>\n",
       "      <th>Crude rate</th>\n",
       "      <th>Cumulative risk</th>\n",
       "      <th>Cancer</th>\n",
       "    </tr>\n",
       "  </thead>\n",
       "  <tbody>\n",
       "    <tr>\n",
       "      <th>0</th>\n",
       "      <td>AFG</td>\n",
       "      <td>10.0</td>\n",
       "      <td>4.0</td>\n",
       "      <td>Afghanistan</td>\n",
       "      <td>0.0</td>\n",
       "      <td>110</td>\n",
       "      <td>15.0</td>\n",
       "      <td>793.0</td>\n",
       "      <td>110</td>\n",
       "      <td>0.47</td>\n",
       "      <td>0.27</td>\n",
       "      <td>0.06</td>\n",
       "      <td>anus</td>\n",
       "    </tr>\n",
       "    <tr>\n",
       "      <th>1</th>\n",
       "      <td>ALB</td>\n",
       "      <td>10.0</td>\n",
       "      <td>8.0</td>\n",
       "      <td>Albania</td>\n",
       "      <td>0.0</td>\n",
       "      <td>11</td>\n",
       "      <td>4.0</td>\n",
       "      <td>28.0</td>\n",
       "      <td>11</td>\n",
       "      <td>0.24</td>\n",
       "      <td>0.38</td>\n",
       "      <td>0.03</td>\n",
       "      <td>anus</td>\n",
       "    </tr>\n",
       "    <tr>\n",
       "      <th>2</th>\n",
       "      <td>DZA</td>\n",
       "      <td>10.0</td>\n",
       "      <td>12.0</td>\n",
       "      <td>Algeria</td>\n",
       "      <td>0.0</td>\n",
       "      <td>158</td>\n",
       "      <td>48.0</td>\n",
       "      <td>517.0</td>\n",
       "      <td>158</td>\n",
       "      <td>0.34</td>\n",
       "      <td>0.35</td>\n",
       "      <td>0.04</td>\n",
       "      <td>anus</td>\n",
       "    </tr>\n",
       "    <tr>\n",
       "      <th>3</th>\n",
       "      <td>AGO</td>\n",
       "      <td>10.0</td>\n",
       "      <td>24.0</td>\n",
       "      <td>Angola</td>\n",
       "      <td>0.0</td>\n",
       "      <td>38</td>\n",
       "      <td>35.0</td>\n",
       "      <td>41.0</td>\n",
       "      <td>38</td>\n",
       "      <td>0.24</td>\n",
       "      <td>0.11</td>\n",
       "      <td>0.04</td>\n",
       "      <td>anus</td>\n",
       "    </tr>\n",
       "    <tr>\n",
       "      <th>4</th>\n",
       "      <td>AZE</td>\n",
       "      <td>10.0</td>\n",
       "      <td>31.0</td>\n",
       "      <td>Azerbaijan</td>\n",
       "      <td>0.0</td>\n",
       "      <td>106</td>\n",
       "      <td>8.0</td>\n",
       "      <td>1471.0</td>\n",
       "      <td>106</td>\n",
       "      <td>0.87</td>\n",
       "      <td>1.00</td>\n",
       "      <td>0.08</td>\n",
       "      <td>anus</td>\n",
       "    </tr>\n",
       "  </tbody>\n",
       "</table>\n",
       "</div>"
      ],
      "text/plain": [
       "  Alpha-3 code  Cancer code  Population code (ISO/UN)        Label  Sex  \\\n",
       "0          AFG         10.0                       4.0  Afghanistan  0.0   \n",
       "1          ALB         10.0                       8.0      Albania  0.0   \n",
       "2          DZA         10.0                      12.0      Algeria  0.0   \n",
       "3          AGO         10.0                      24.0       Angola  0.0   \n",
       "4          AZE         10.0                      31.0   Azerbaijan  0.0   \n",
       "\n",
       "   Number 95% UI low 95% UI high  Number.1  ASR (World)  Crude rate  \\\n",
       "0     110       15.0       793.0       110         0.47        0.27   \n",
       "1      11        4.0        28.0        11         0.24        0.38   \n",
       "2     158       48.0       517.0       158         0.34        0.35   \n",
       "3      38       35.0        41.0        38         0.24        0.11   \n",
       "4     106        8.0      1471.0       106         0.87        1.00   \n",
       "\n",
       "   Cumulative risk Cancer  \n",
       "0             0.06   anus  \n",
       "1             0.03   anus  \n",
       "2             0.04   anus  \n",
       "3             0.04   anus  \n",
       "4             0.08   anus  "
      ]
     },
     "execution_count": 57,
     "metadata": {},
     "output_type": "execute_result"
    }
   ],
   "source": [
    "df_globocan.head()"
   ]
  },
  {
   "cell_type": "markdown",
   "id": "ab9cab1c-8f98-4fd3-a092-570324900d2c",
   "metadata": {},
   "source": [
    "## Note\n",
    "\n",
    "Country naming will follow the same pattern as the country names in the articles' dataset. Country names in the Globocan dataset will be replaced by the name in the articles' dataset when different."
   ]
  },
  {
   "cell_type": "code",
   "execution_count": 9,
   "id": "8fbbe03d-e595-43ac-bc11-031c66b31114",
   "metadata": {
    "scrolled": true
   },
   "outputs": [
    {
     "name": "stderr",
     "output_type": "stream",
     "text": [
      "  0%|                                                                                                                                                                                      | 0/45 [00:00<?, ?it/s]"
     ]
    },
    {
     "name": "stdout",
     "output_type": "stream",
     "text": [
      "Parsing csv: parsedX_100000.csv, 1 / 45\n"
     ]
    },
    {
     "name": "stderr",
     "output_type": "stream",
     "text": [
      "  2%|███▊                                                                                                                                                                          | 1/45 [00:02<02:01,  2.77s/it]"
     ]
    },
    {
     "name": "stdout",
     "output_type": "stream",
     "text": [
      "--Parsing time: 2.77\n",
      "Parsing csv: parsedX_1000000.csv, 2 / 45\n"
     ]
    },
    {
     "name": "stderr",
     "output_type": "stream",
     "text": [
      "  4%|███████▋                                                                                                                                                                      | 2/45 [00:05<02:09,  3.02s/it]"
     ]
    },
    {
     "name": "stdout",
     "output_type": "stream",
     "text": [
      "--Parsing time: 3.2\n",
      "Parsing csv: parsedX_1100000.csv, 3 / 45\n"
     ]
    },
    {
     "name": "stderr",
     "output_type": "stream",
     "text": [
      "  7%|███████████▌                                                                                                                                                                  | 3/45 [00:09<02:11,  3.13s/it]"
     ]
    },
    {
     "name": "stdout",
     "output_type": "stream",
     "text": [
      "--Parsing time: 3.25\n",
      "Parsing csv: parsedX_1200000.csv, 4 / 45\n"
     ]
    },
    {
     "name": "stderr",
     "output_type": "stream",
     "text": [
      "  9%|███████████████▍                                                                                                                                                              | 4/45 [00:12<02:11,  3.20s/it]"
     ]
    },
    {
     "name": "stdout",
     "output_type": "stream",
     "text": [
      "--Parsing time: 3.3\n",
      "Parsing csv: parsedX_1300000.csv, 5 / 45\n"
     ]
    },
    {
     "name": "stderr",
     "output_type": "stream",
     "text": [
      " 11%|███████████████████▎                                                                                                                                                          | 5/45 [00:15<02:09,  3.23s/it]"
     ]
    },
    {
     "name": "stdout",
     "output_type": "stream",
     "text": [
      "--Parsing time: 3.3\n",
      "Parsing csv: parsedX_1400000.csv, 6 / 45\n"
     ]
    },
    {
     "name": "stderr",
     "output_type": "stream",
     "text": [
      " 13%|███████████████████████▏                                                                                                                                                      | 6/45 [00:19<02:07,  3.26s/it]"
     ]
    },
    {
     "name": "stdout",
     "output_type": "stream",
     "text": [
      "--Parsing time: 3.31\n",
      "Parsing csv: parsedX_1500000.csv, 7 / 45\n"
     ]
    },
    {
     "name": "stderr",
     "output_type": "stream",
     "text": [
      " 16%|███████████████████████████                                                                                                                                                   | 7/45 [00:22<02:04,  3.28s/it]"
     ]
    },
    {
     "name": "stdout",
     "output_type": "stream",
     "text": [
      "--Parsing time: 3.3\n",
      "Parsing csv: parsedX_1600000.csv, 8 / 45\n"
     ]
    },
    {
     "name": "stderr",
     "output_type": "stream",
     "text": [
      " 18%|██████████████████████████████▉                                                                                                                                               | 8/45 [00:25<02:01,  3.29s/it]"
     ]
    },
    {
     "name": "stdout",
     "output_type": "stream",
     "text": [
      "--Parsing time: 3.32\n",
      "Parsing csv: parsedX_1700000.csv, 9 / 45\n"
     ]
    },
    {
     "name": "stderr",
     "output_type": "stream",
     "text": [
      " 20%|██████████████████████████████████▊                                                                                                                                           | 9/45 [00:29<01:59,  3.31s/it]"
     ]
    },
    {
     "name": "stdout",
     "output_type": "stream",
     "text": [
      "--Parsing time: 3.36\n",
      "Parsing csv: parsedX_1800000.csv, 10 / 45\n"
     ]
    },
    {
     "name": "stderr",
     "output_type": "stream",
     "text": [
      " 22%|██████████████████████████████████████▍                                                                                                                                      | 10/45 [00:32<01:58,  3.38s/it]"
     ]
    },
    {
     "name": "stdout",
     "output_type": "stream",
     "text": [
      "--Parsing time: 3.54\n",
      "Parsing csv: parsedX_1900000.csv, 11 / 45\n"
     ]
    },
    {
     "name": "stderr",
     "output_type": "stream",
     "text": [
      " 24%|██████████████████████████████████████████▎                                                                                                                                  | 11/45 [00:36<01:56,  3.44s/it]"
     ]
    },
    {
     "name": "stdout",
     "output_type": "stream",
     "text": [
      "--Parsing time: 3.56\n",
      "Parsing csv: parsedX_200000.csv, 12 / 45\n"
     ]
    },
    {
     "name": "stderr",
     "output_type": "stream",
     "text": [
      " 27%|██████████████████████████████████████████████▏                                                                                                                              | 12/45 [00:38<01:44,  3.18s/it]"
     ]
    },
    {
     "name": "stdout",
     "output_type": "stream",
     "text": [
      "--Parsing time: 2.59\n",
      "Parsing csv: parsedX_2000000.csv, 13 / 45\n"
     ]
    },
    {
     "name": "stderr",
     "output_type": "stream",
     "text": [
      " 29%|█████████████████████████████████████████████████▉                                                                                                                           | 13/45 [00:42<01:45,  3.29s/it]"
     ]
    },
    {
     "name": "stdout",
     "output_type": "stream",
     "text": [
      "--Parsing time: 3.56\n",
      "Parsing csv: parsedX_2100000.csv, 14 / 45\n"
     ]
    },
    {
     "name": "stderr",
     "output_type": "stream",
     "text": [
      " 31%|█████████████████████████████████████████████████████▊                                                                                                                       | 14/45 [00:45<01:45,  3.39s/it]"
     ]
    },
    {
     "name": "stdout",
     "output_type": "stream",
     "text": [
      "--Parsing time: 3.62\n",
      "Parsing csv: parsedX_2200000.csv, 15 / 45\n"
     ]
    },
    {
     "name": "stderr",
     "output_type": "stream",
     "text": [
      " 33%|█████████████████████████████████████████████████████████▋                                                                                                                   | 15/45 [00:49<01:44,  3.48s/it]"
     ]
    },
    {
     "name": "stdout",
     "output_type": "stream",
     "text": [
      "--Parsing time: 3.68\n",
      "Parsing csv: parsedX_2300000.csv, 16 / 45\n"
     ]
    },
    {
     "name": "stderr",
     "output_type": "stream",
     "text": [
      " 36%|█████████████████████████████████████████████████████████████▌                                                                                                               | 16/45 [00:53<01:45,  3.63s/it]"
     ]
    },
    {
     "name": "stdout",
     "output_type": "stream",
     "text": [
      "--Parsing time: 3.98\n",
      "Parsing csv: parsedX_2400000.csv, 17 / 45\n"
     ]
    },
    {
     "name": "stderr",
     "output_type": "stream",
     "text": [
      " 38%|█████████████████████████████████████████████████████████████████▎                                                                                                           | 17/45 [00:57<01:46,  3.82s/it]"
     ]
    },
    {
     "name": "stdout",
     "output_type": "stream",
     "text": [
      "--Parsing time: 4.25\n",
      "Parsing csv: parsedX_2500000.csv, 18 / 45\n"
     ]
    },
    {
     "name": "stderr",
     "output_type": "stream",
     "text": [
      " 40%|█████████████████████████████████████████████████████████████████████▏                                                                                                       | 18/45 [01:02<01:48,  4.01s/it]"
     ]
    },
    {
     "name": "stdout",
     "output_type": "stream",
     "text": [
      "--Parsing time: 4.46\n",
      "Parsing csv: parsedX_2600000.csv, 19 / 45\n"
     ]
    },
    {
     "name": "stderr",
     "output_type": "stream",
     "text": [
      " 42%|█████████████████████████████████████████████████████████████████████████                                                                                                    | 19/45 [01:06<01:48,  4.18s/it]"
     ]
    },
    {
     "name": "stdout",
     "output_type": "stream",
     "text": [
      "--Parsing time: 4.57\n",
      "Parsing csv: parsedX_2700000.csv, 20 / 45\n"
     ]
    },
    {
     "name": "stderr",
     "output_type": "stream",
     "text": [
      " 44%|████████████████████████████████████████████████████████████████████████████▉                                                                                                | 20/45 [01:11<01:47,  4.31s/it]"
     ]
    },
    {
     "name": "stdout",
     "output_type": "stream",
     "text": [
      "--Parsing time: 4.62\n",
      "Parsing csv: parsedX_2800000.csv, 21 / 45\n"
     ]
    },
    {
     "name": "stderr",
     "output_type": "stream",
     "text": [
      " 47%|████████████████████████████████████████████████████████████████████████████████▋                                                                                            | 21/45 [01:16<01:45,  4.38s/it]"
     ]
    },
    {
     "name": "stdout",
     "output_type": "stream",
     "text": [
      "--Parsing time: 4.53\n",
      "Parsing csv: parsedX_2900000.csv, 22 / 45\n"
     ]
    },
    {
     "name": "stderr",
     "output_type": "stream",
     "text": [
      " 49%|████████████████████████████████████████████████████████████████████████████████████▌                                                                                        | 22/45 [01:20<01:41,  4.43s/it]"
     ]
    },
    {
     "name": "stdout",
     "output_type": "stream",
     "text": [
      "--Parsing time: 4.54\n",
      "Parsing csv: parsedX_300000.csv, 23 / 45\n"
     ]
    },
    {
     "name": "stderr",
     "output_type": "stream",
     "text": [
      " 51%|████████████████████████████████████████████████████████████████████████████████████████▍                                                                                    | 23/45 [01:23<01:24,  3.83s/it]"
     ]
    },
    {
     "name": "stdout",
     "output_type": "stream",
     "text": [
      "--Parsing time: 2.43\n",
      "Parsing csv: parsedX_3000000.csv, 24 / 45\n"
     ]
    },
    {
     "name": "stderr",
     "output_type": "stream",
     "text": [
      " 53%|████████████████████████████████████████████████████████████████████████████████████████████▎                                                                                | 24/45 [01:27<01:24,  4.04s/it]"
     ]
    },
    {
     "name": "stdout",
     "output_type": "stream",
     "text": [
      "--Parsing time: 4.53\n",
      "Parsing csv: parsedX_3100000.csv, 25 / 45\n"
     ]
    },
    {
     "name": "stderr",
     "output_type": "stream",
     "text": [
      " 56%|████████████████████████████████████████████████████████████████████████████████████████████████                                                                             | 25/45 [01:32<01:23,  4.19s/it]"
     ]
    },
    {
     "name": "stdout",
     "output_type": "stream",
     "text": [
      "--Parsing time: 4.56\n",
      "Parsing csv: parsedX_3200000.csv, 26 / 45\n"
     ]
    },
    {
     "name": "stderr",
     "output_type": "stream",
     "text": [
      " 58%|███████████████████████████████████████████████████████████████████████████████████████████████████▉                                                                         | 26/45 [01:36<01:21,  4.31s/it]"
     ]
    },
    {
     "name": "stdout",
     "output_type": "stream",
     "text": [
      "--Parsing time: 4.57\n",
      "Parsing csv: parsedX_3300000.csv, 27 / 45\n"
     ]
    },
    {
     "name": "stderr",
     "output_type": "stream",
     "text": [
      " 60%|███████████████████████████████████████████████████████████████████████████████████████████████████████▊                                                                     | 27/45 [01:41<01:19,  4.39s/it]"
     ]
    },
    {
     "name": "stdout",
     "output_type": "stream",
     "text": [
      "--Parsing time: 4.59\n",
      "Parsing csv: parsedX_3400000.csv, 28 / 45\n"
     ]
    },
    {
     "name": "stderr",
     "output_type": "stream",
     "text": [
      " 62%|███████████████████████████████████████████████████████████████████████████████████████████████████████████▋                                                                 | 28/45 [01:45<01:15,  4.47s/it]"
     ]
    },
    {
     "name": "stdout",
     "output_type": "stream",
     "text": [
      "--Parsing time: 4.63\n",
      "Parsing csv: parsedX_3500000.csv, 29 / 45\n"
     ]
    },
    {
     "name": "stderr",
     "output_type": "stream",
     "text": [
      " 64%|███████████████████████████████████████████████████████████████████████████████████████████████████████████████▍                                                             | 29/45 [01:50<01:12,  4.50s/it]"
     ]
    },
    {
     "name": "stdout",
     "output_type": "stream",
     "text": [
      "--Parsing time: 4.59\n",
      "Parsing csv: parsedX_3600000.csv, 30 / 45\n"
     ]
    },
    {
     "name": "stderr",
     "output_type": "stream",
     "text": [
      " 67%|███████████████████████████████████████████████████████████████████████████████████████████████████████████████████▎                                                         | 30/45 [01:55<01:08,  4.56s/it]"
     ]
    },
    {
     "name": "stdout",
     "output_type": "stream",
     "text": [
      "--Parsing time: 4.69\n",
      "Parsing csv: parsedX_3700000.csv, 31 / 45\n"
     ]
    },
    {
     "name": "stderr",
     "output_type": "stream",
     "text": [
      " 69%|███████████████████████████████████████████████████████████████████████████████████████████████████████████████████████▏                                                     | 31/45 [01:59<01:04,  4.62s/it]"
     ]
    },
    {
     "name": "stdout",
     "output_type": "stream",
     "text": [
      "--Parsing time: 4.76\n",
      "Parsing csv: parsedX_3800000.csv, 32 / 45\n"
     ]
    },
    {
     "name": "stderr",
     "output_type": "stream",
     "text": [
      " 71%|███████████████████████████████████████████████████████████████████████████████████████████████████████████████████████████                                                  | 32/45 [02:04<01:00,  4.65s/it]"
     ]
    },
    {
     "name": "stdout",
     "output_type": "stream",
     "text": [
      "--Parsing time: 4.73\n",
      "Parsing csv: parsedX_3900000.csv, 33 / 45\n"
     ]
    },
    {
     "name": "stderr",
     "output_type": "stream",
     "text": [
      " 73%|██████████████████████████████████████████████████████████████████████████████████████████████████████████████████████████████▊                                              | 33/45 [02:09<00:56,  4.67s/it]"
     ]
    },
    {
     "name": "stdout",
     "output_type": "stream",
     "text": [
      "--Parsing time: 4.72\n",
      "Parsing csv: parsedX_400000.csv, 34 / 45\n"
     ]
    },
    {
     "name": "stderr",
     "output_type": "stream",
     "text": [
      " 76%|██████████████████████████████████████████████████████████████████████████████████████████████████████████████████████████████████▋                                          | 34/45 [02:11<00:43,  3.92s/it]"
     ]
    },
    {
     "name": "stdout",
     "output_type": "stream",
     "text": [
      "--Parsing time: 2.17\n",
      "Parsing csv: parsedX_4000000.csv, 35 / 45\n"
     ]
    },
    {
     "name": "stderr",
     "output_type": "stream",
     "text": [
      " 78%|██████████████████████████████████████████████████████████████████████████████████████████████████████████████████████████████████████▌                                      | 35/45 [02:16<00:41,  4.16s/it]"
     ]
    },
    {
     "name": "stdout",
     "output_type": "stream",
     "text": [
      "--Parsing time: 4.69\n",
      "Parsing csv: parsedX_4100000.csv, 36 / 45\n"
     ]
    },
    {
     "name": "stderr",
     "output_type": "stream",
     "text": [
      " 80%|██████████████████████████████████████████████████████████████████████████████████████████████████████████████████████████████████████████▍                                  | 36/45 [02:21<00:39,  4.35s/it]"
     ]
    },
    {
     "name": "stdout",
     "output_type": "stream",
     "text": [
      "--Parsing time: 4.82\n",
      "Parsing csv: parsedX_4200000.csv, 37 / 45\n"
     ]
    },
    {
     "name": "stderr",
     "output_type": "stream",
     "text": [
      " 82%|██████████████████████████████████████████████████████████████████████████████████████████████████████████████████████████████████████████████▏                              | 37/45 [02:25<00:35,  4.48s/it]"
     ]
    },
    {
     "name": "stdout",
     "output_type": "stream",
     "text": [
      "--Parsing time: 4.78\n",
      "Parsing csv: parsedX_4300000.csv, 38 / 45\n"
     ]
    },
    {
     "name": "stderr",
     "output_type": "stream",
     "text": [
      " 84%|██████████████████████████████████████████████████████████████████████████████████████████████████████████████████████████████████████████████████                           | 38/45 [02:30<00:32,  4.61s/it]"
     ]
    },
    {
     "name": "stdout",
     "output_type": "stream",
     "text": [
      "--Parsing time: 4.91\n",
      "Parsing csv: parsedX_4400000.csv, 39 / 45\n"
     ]
    },
    {
     "name": "stderr",
     "output_type": "stream",
     "text": [
      " 87%|█████████████████████████████████████████████████████████████████████████████████████████████████████████████████████████████████████████████████████▉                       | 39/45 [02:35<00:28,  4.70s/it]"
     ]
    },
    {
     "name": "stdout",
     "output_type": "stream",
     "text": [
      "--Parsing time: 4.91\n",
      "Parsing csv: parsedX_4454000.csv, 40 / 45\n"
     ]
    },
    {
     "name": "stderr",
     "output_type": "stream",
     "text": [
      " 89%|█████████████████████████████████████████████████████████████████████████████████████████████████████████████████████████████████████████████████████████▊                   | 40/45 [02:38<00:20,  4.06s/it]"
     ]
    },
    {
     "name": "stdout",
     "output_type": "stream",
     "text": [
      "--Parsing time: 2.56\n",
      "Parsing csv: parsedX_500000.csv, 41 / 45\n"
     ]
    },
    {
     "name": "stderr",
     "output_type": "stream",
     "text": [
      " 91%|█████████████████████████████████████████████████████████████████████████████████████████████████████████████████████████████████████████████████████████████▌               | 41/45 [02:41<00:14,  3.69s/it]"
     ]
    },
    {
     "name": "stdout",
     "output_type": "stream",
     "text": [
      "--Parsing time: 2.82\n",
      "Parsing csv: parsedX_600000.csv, 42 / 45\n"
     ]
    },
    {
     "name": "stderr",
     "output_type": "stream",
     "text": [
      " 93%|█████████████████████████████████████████████████████████████████████████████████████████████████████████████████████████████████████████████████████████████████▍           | 42/45 [02:43<00:10,  3.44s/it]"
     ]
    },
    {
     "name": "stdout",
     "output_type": "stream",
     "text": [
      "--Parsing time: 2.86\n",
      "Parsing csv: parsedX_700000.csv, 43 / 45\n"
     ]
    },
    {
     "name": "stderr",
     "output_type": "stream",
     "text": [
      " 96%|█████████████████████████████████████████████████████████████████████████████████████████████████████████████████████████████████████████████████████████████████████▎       | 43/45 [02:47<00:06,  3.34s/it]"
     ]
    },
    {
     "name": "stdout",
     "output_type": "stream",
     "text": [
      "--Parsing time: 3.12\n",
      "Parsing csv: parsedX_800000.csv, 44 / 45\n"
     ]
    },
    {
     "name": "stderr",
     "output_type": "stream",
     "text": [
      " 98%|█████████████████████████████████████████████████████████████████████████████████████████████████████████████████████████████████████████████████████████████████████████▏   | 44/45 [02:50<00:03,  3.26s/it]"
     ]
    },
    {
     "name": "stdout",
     "output_type": "stream",
     "text": [
      "--Parsing time: 3.05\n",
      "Parsing csv: parsedX_900000.csv, 45 / 45\n"
     ]
    },
    {
     "name": "stderr",
     "output_type": "stream",
     "text": [
      "100%|█████████████████████████████████████████████████████████████████████████████████████████████████████████████████████████████████████████████████████████████████████████████| 45/45 [02:53<00:00,  3.85s/it]"
     ]
    },
    {
     "name": "stdout",
     "output_type": "stream",
     "text": [
      "--Parsing time: 3.14\n"
     ]
    },
    {
     "name": "stderr",
     "output_type": "stream",
     "text": [
      "\n"
     ]
    }
   ],
   "source": [
    "## Extract country names in the articles' dataset\n",
    "articles_dataset_countries_list = []\n",
    "\n",
    "# Import each csv with articles' data and extract country names\n",
    "for csv in tqdm(list_dfs_papers):\n",
    "    start = time.time()\n",
    "    print(f\"Parsing csv: {csv}, {list_dfs_papers.index(csv)+1} / {len(list_dfs_papers)}\")\n",
    "    df = pd.read_csv(DF_input + csv)\n",
    "    list_countries = list(set(df[\"Country\"]))\n",
    "    articles_dataset_countries_list.append(list_countries)\n",
    "    del df, list_countries\n",
    "    print(f\"--Parsing time: {round(time.time()-start, 2)}\")\n",
    "\n",
    "# Flatten list, remove nan, convert to set\n",
    "articles_dataset_countries = set([el for el in (chain(*articles_dataset_countries_list)) if str(el) != \"nan\"])"
   ]
  },
  {
   "cell_type": "code",
   "execution_count": 58,
   "id": "97e6ab21-ab8e-4913-8545-b256feb64a89",
   "metadata": {},
   "outputs": [],
   "source": [
    "# Rename \"Label\" as \"Country\"\n",
    "df_globocan.rename(columns={\"Label\": \"Country\"}, inplace = True)"
   ]
  },
  {
   "cell_type": "code",
   "execution_count": 59,
   "id": "ae3a0a4e-a64d-41d4-b966-5ab7a9f1379a",
   "metadata": {
    "scrolled": true
   },
   "outputs": [
    {
     "data": {
      "text/plain": [
       "{'Afghanistan',\n",
       " 'Africa',\n",
       " 'Albania',\n",
       " 'Algeria',\n",
       " 'Angola',\n",
       " 'Argentina',\n",
       " 'Armenia',\n",
       " 'Asia',\n",
       " 'Australia',\n",
       " 'Australia-New Zealand',\n",
       " 'Austria',\n",
       " 'Azerbaijan',\n",
       " 'Bahamas',\n",
       " 'Bahrain',\n",
       " 'Bangladesh',\n",
       " 'Barbados',\n",
       " 'Belarus',\n",
       " 'Belgium',\n",
       " 'Belize',\n",
       " 'Benin',\n",
       " 'Bhutan',\n",
       " 'Bolivia (Plurinational State of)',\n",
       " 'Bosnia Herzegovina',\n",
       " 'Botswana',\n",
       " 'Brazil',\n",
       " 'Brunei Darussalam',\n",
       " 'Bulgaria',\n",
       " 'Burkina Faso',\n",
       " 'Burundi',\n",
       " 'Cambodia',\n",
       " 'Cameroon',\n",
       " 'Canada',\n",
       " 'Cape Verde',\n",
       " 'Caribbean',\n",
       " 'Caribbean hub',\n",
       " 'Central African Republic',\n",
       " 'Central America',\n",
       " 'Chad',\n",
       " 'Chile',\n",
       " 'China',\n",
       " 'Colombia',\n",
       " 'Comoros',\n",
       " 'Congo, Democratic Republic of',\n",
       " 'Congo, Republic of',\n",
       " 'Costa Rica',\n",
       " 'Croatia',\n",
       " 'Cuba',\n",
       " 'Cyprus',\n",
       " 'Czechia',\n",
       " \"Côte d'Ivoire\",\n",
       " 'Denmark',\n",
       " 'Djibouti',\n",
       " 'Dominican Republic',\n",
       " 'Eastern Africa',\n",
       " 'Eastern Asia',\n",
       " 'Eastern Europe',\n",
       " 'Ecuador',\n",
       " 'Egypt',\n",
       " 'El Salvador',\n",
       " 'Equatorial Guinea',\n",
       " 'Eritrea',\n",
       " 'Estonia',\n",
       " 'Eswatini',\n",
       " 'Ethiopia',\n",
       " 'Europe',\n",
       " 'European Union (27)',\n",
       " 'Fiji',\n",
       " 'Finland',\n",
       " 'France (metropolitan)',\n",
       " 'France, Guadeloupe',\n",
       " 'France, La Réunion',\n",
       " 'France, Martinique',\n",
       " 'French Guyana',\n",
       " 'French Polynesia',\n",
       " 'Gabon',\n",
       " 'Gaza Strip and West Bank',\n",
       " 'Georgia',\n",
       " 'Germany',\n",
       " 'Ghana',\n",
       " 'Greece',\n",
       " 'Guam',\n",
       " 'Guatemala',\n",
       " 'Guinea',\n",
       " 'Guinea-Bissau',\n",
       " 'Guyana',\n",
       " 'Haiti',\n",
       " 'High HDI country',\n",
       " 'High HDI country (but China)',\n",
       " 'High income',\n",
       " 'Honduras',\n",
       " 'Hungary',\n",
       " 'Iceland',\n",
       " 'India',\n",
       " 'Indonesia',\n",
       " 'Iran, Islamic Republic of',\n",
       " 'Iraq',\n",
       " 'Ireland',\n",
       " 'Israel',\n",
       " 'Italy',\n",
       " 'Jamaica',\n",
       " 'Japan',\n",
       " 'Jordan',\n",
       " 'Kazakhstan',\n",
       " 'Kenya',\n",
       " 'Korea, Democratic People Republic of',\n",
       " 'Korea, Republic of',\n",
       " 'Kuwait',\n",
       " 'Kyrgyzstan',\n",
       " \"Lao People's Democratic Republic\",\n",
       " 'Latin America Hub',\n",
       " 'Latin America and the Caribbean',\n",
       " 'Latvia',\n",
       " 'Lebanon',\n",
       " 'Lesotho',\n",
       " 'Liberia',\n",
       " 'Libya',\n",
       " 'Lithuania',\n",
       " 'Low HDI country',\n",
       " 'Low income',\n",
       " 'Lower middle income',\n",
       " 'Luxembourg',\n",
       " 'Madagascar',\n",
       " 'Malawi',\n",
       " 'Malaysia',\n",
       " 'Maldives',\n",
       " 'Mali',\n",
       " 'Malta',\n",
       " 'Mauritania',\n",
       " 'Mauritius',\n",
       " 'Medium HDI country',\n",
       " 'Medium HDI country (but India)',\n",
       " 'Melanesia',\n",
       " 'Mexico',\n",
       " 'Micronesia',\n",
       " 'Micronesia/Polynesia',\n",
       " 'Middle Africa',\n",
       " 'Mongolia',\n",
       " 'Montenegro',\n",
       " 'Morocco',\n",
       " 'Mozambique',\n",
       " 'Myanmar',\n",
       " 'Namibia',\n",
       " 'Nepal',\n",
       " 'New Caledonia',\n",
       " 'New Zealand',\n",
       " 'Nicaragua',\n",
       " 'Niger',\n",
       " 'Nigeria',\n",
       " 'North Macedonia',\n",
       " 'Northern Africa',\n",
       " 'Northern Africa, Central and Western Asia Hub',\n",
       " 'Northern America',\n",
       " 'Northern Europe',\n",
       " 'Norway',\n",
       " 'Oceania',\n",
       " 'Oman',\n",
       " 'Pacific Islands Hub',\n",
       " 'Pakistan',\n",
       " 'Panama',\n",
       " 'Papua New Guinea',\n",
       " 'Paraguay',\n",
       " 'Peru',\n",
       " 'Philippines',\n",
       " 'Poland',\n",
       " 'Polynesia',\n",
       " 'Portugal',\n",
       " 'Puerto Rico',\n",
       " 'Qatar',\n",
       " 'Republic of Moldova',\n",
       " 'Romania',\n",
       " 'Russian Federation',\n",
       " 'Rwanda',\n",
       " 'Saint Lucia',\n",
       " 'Samoa',\n",
       " 'Sao Tome and Principe',\n",
       " 'Saudi Arabia',\n",
       " 'Senegal',\n",
       " 'Serbia',\n",
       " 'Sierra Leone',\n",
       " 'Singapore',\n",
       " 'Slovakia',\n",
       " 'Slovenia',\n",
       " 'Solomon Islands',\n",
       " 'Somalia',\n",
       " 'South Africa',\n",
       " 'South America',\n",
       " 'South Central Asia',\n",
       " 'South Sudan',\n",
       " 'South, East and South-Eastern Asia Hub',\n",
       " 'South-Eastern Asia',\n",
       " 'Southern Africa',\n",
       " 'Southern Europe',\n",
       " 'Spain',\n",
       " 'Sri Lanka',\n",
       " 'Sub-Saharan Africa',\n",
       " 'Sub-Saharan Africa Hub',\n",
       " 'Sudan',\n",
       " 'Suriname',\n",
       " 'Sweden',\n",
       " 'Switzerland',\n",
       " 'Syrian Arab Republic',\n",
       " 'Tajikistan',\n",
       " 'Tanzania, United Republic of',\n",
       " 'Thailand',\n",
       " 'The Netherlands',\n",
       " 'The Republic of the Gambia',\n",
       " 'Timor-Leste',\n",
       " 'Togo',\n",
       " 'Total',\n",
       " 'Trinidad and Tobago',\n",
       " 'Tunisia',\n",
       " 'Turkmenistan',\n",
       " 'Türkiye',\n",
       " 'Uganda',\n",
       " 'Ukraine',\n",
       " 'United Arab Emirates',\n",
       " 'United Kingdom',\n",
       " 'United States of America',\n",
       " 'Upper middle income',\n",
       " 'Uruguay',\n",
       " 'Uzbekistan',\n",
       " 'Vanuatu',\n",
       " 'Venezuela',\n",
       " 'Very HDI country',\n",
       " 'Viet Nam',\n",
       " 'WHO Africa region (AFRO)',\n",
       " 'WHO Americas region (PAHO)',\n",
       " 'WHO East Mediterranean region (EMRO)',\n",
       " 'WHO Europe region (EURO)',\n",
       " 'WHO South-East Asia region (SEARO)',\n",
       " 'WHO Western Pacific region (WPRO)',\n",
       " 'Western Africa',\n",
       " 'Western Asia',\n",
       " 'Western Europe',\n",
       " 'World',\n",
       " 'Yemen',\n",
       " 'Zambia',\n",
       " 'Zimbabwe'}"
      ]
     },
     "execution_count": 59,
     "metadata": {},
     "output_type": "execute_result"
    }
   ],
   "source": [
    "# Unique entity names in the Globocan dataset\n",
    "globocan_dataset_countries = set(df_globocan[\"Country\"])\n",
    "globocan_dataset_countries"
   ]
  },
  {
   "cell_type": "code",
   "execution_count": 60,
   "id": "aee767dd-f9ae-4deb-ad0f-ed44a7725e46",
   "metadata": {},
   "outputs": [],
   "source": [
    "## Remove from Globocan dataset any supranational entity\n",
    "\n",
    "# Remove supranational entities\n",
    "df_globocan = df_globocan.loc[df_globocan[\"Country\"]!=\"Latin America and the Caribbean\"]\n",
    "df_globocan = df_globocan.loc[df_globocan[\"Country\"]!=\"Sub-Saharan Africa Hub\"]\n",
    "df_globocan = df_globocan.loc[df_globocan[\"Country\"]!=\"High HDI country\"]\n",
    "df_globocan = df_globocan.loc[df_globocan[\"Country\"]!=\"Latin America Hub\"]\n",
    "df_globocan = df_globocan.loc[df_globocan[\"Country\"]!=\"Caribbean\"]\n",
    "df_globocan = df_globocan.loc[df_globocan[\"Country\"]!=\"South Central Asia\"]\n",
    "df_globocan = df_globocan.loc[df_globocan[\"Country\"]!=\"Australia-New Zealand\"]\n",
    "df_globocan = df_globocan.loc[df_globocan[\"Country\"]!=\"WHO Europe region (EURO)\"]\n",
    "df_globocan = df_globocan.loc[df_globocan[\"Country\"]!=\"WHO South-East Asia region (SEARO)\"]\n",
    "df_globocan = df_globocan.loc[df_globocan[\"Country\"]!=\"Upper middle income\"]\n",
    "df_globocan = df_globocan.loc[df_globocan[\"Country\"]!=\"WHO East Mediterranean region (EMRO)\"]\n",
    "df_globocan = df_globocan.loc[df_globocan[\"Country\"]!=\"WHO Africa region (AFRO)\"]\n",
    "df_globocan = df_globocan.loc[df_globocan[\"Country\"]!=\"Medium HDI country (but India)\"]\n",
    "df_globocan = df_globocan.loc[df_globocan[\"Country\"]!=\"Western Africa\"]\n",
    "df_globocan = df_globocan.loc[df_globocan[\"Country\"]!=\"Western Asia\"]\n",
    "df_globocan = df_globocan.loc[df_globocan[\"Country\"]!=\"European Union (27)\"]\n",
    "df_globocan = df_globocan.loc[df_globocan[\"Country\"]!=\"Northern Africa\"]\n",
    "df_globocan = df_globocan.loc[df_globocan[\"Country\"]!=\"South-Eastern Asia\"]\n",
    "df_globocan = df_globocan.loc[df_globocan[\"Country\"]!=\"Low income\"]\n",
    "df_globocan = df_globocan.loc[df_globocan[\"Country\"]!=\"Medium HDI country\"]\n",
    "df_globocan = df_globocan.loc[df_globocan[\"Country\"]!=\"WHO Western Pacific region (WPRO)\"]\n",
    "df_globocan = df_globocan.loc[df_globocan[\"Country\"]!=\"Lower middle income\"]\n",
    "df_globocan = df_globocan.loc[df_globocan[\"Country\"]!=\"Northern Europe\"]\n",
    "df_globocan = df_globocan.loc[df_globocan[\"Country\"]!=\"Pacific Islands Hub\"]\n",
    "df_globocan = df_globocan.loc[df_globocan[\"Country\"]!=\"Asia\"]\n",
    "df_globocan = df_globocan.loc[df_globocan[\"Country\"]!=\"Low HDI country\"]\n",
    "df_globocan = df_globocan.loc[df_globocan[\"Country\"]!=\"WHO Americas region (PAHO)\"]\n",
    "df_globocan = df_globocan.loc[df_globocan[\"Country\"]!=\"Very HDI country\"]\n",
    "df_globocan = df_globocan.loc[df_globocan[\"Country\"]!=\"Caribbean hub\"]\n",
    "df_globocan = df_globocan.loc[df_globocan[\"Country\"]!=\"Eastern Europe\"]\n",
    "df_globocan = df_globocan.loc[df_globocan[\"Country\"]!=\"Africa\"]\n",
    "df_globocan = df_globocan.loc[df_globocan[\"Country\"]!=\"Southern Europe\"]\n",
    "df_globocan = df_globocan.loc[df_globocan[\"Country\"]!=\"Central America\"]\n",
    "df_globocan = df_globocan.loc[df_globocan[\"Country\"]!=\"Western Europe\"]\n",
    "df_globocan = df_globocan.loc[df_globocan[\"Country\"]!=\"Europe\"]\n",
    "df_globocan = df_globocan.loc[df_globocan[\"Country\"]!=\"Eastern Asia\"]\n",
    "df_globocan = df_globocan.loc[df_globocan[\"Country\"]!=\"South America\"]\n",
    "df_globocan = df_globocan.loc[df_globocan[\"Country\"]!=\"Sub-Saharan Africa\"]\n",
    "df_globocan = df_globocan.loc[df_globocan[\"Country\"]!=\"Southern Africa\"]\n",
    "df_globocan = df_globocan.loc[df_globocan[\"Country\"]!=\"Middle Africa\"]\n",
    "df_globocan = df_globocan.loc[df_globocan[\"Country\"]!=\"Oceania\"]\n",
    "df_globocan = df_globocan.loc[df_globocan[\"Country\"]!=\"High HDI country (but China)\"]\n",
    "df_globocan = df_globocan.loc[df_globocan[\"Country\"]!=\"Northern Africa, Central and Western Asia Hub\"]\n",
    "df_globocan = df_globocan.loc[df_globocan[\"Country\"]!=\"Eastern Africa\"]\n",
    "df_globocan = df_globocan.loc[df_globocan[\"Country\"]!=\"South, East and South-Eastern Asia Hub\"]\n",
    "df_globocan = df_globocan.loc[df_globocan[\"Country\"]!=\"High income\"]\n",
    "df_globocan = df_globocan.loc[df_globocan[\"Country\"]!=\"Northern America\"]\n",
    "df_globocan = df_globocan.loc[df_globocan[\"Country\"]!=\"Micronesia/Polynesia\"]\n",
    "df_globocan = df_globocan.loc[df_globocan[\"Country\"]!=\"Polynesia\"]\n",
    "df_globocan = df_globocan.loc[df_globocan[\"Country\"]!=\"Melanesia\"]\n",
    "\n",
    "# Totals will be calculated as aggregates\n",
    "df_globocan = df_globocan.loc[df_globocan[\"Country\"]!=\"Total\"]\n",
    "df_globocan = df_globocan.loc[df_globocan[\"Country\"]!=\"World\"]"
   ]
  },
  {
   "cell_type": "code",
   "execution_count": 61,
   "id": "edc69ee3-c80b-4c5c-ad3f-de5b5284b52b",
   "metadata": {},
   "outputs": [],
   "source": [
    "## Rename Globocan country names to match format of articles' dataset\n",
    "df_globocan['Country'] = df_globocan['Country'].replace({'Republic of Moldova': 'Moldova'})\n",
    "df_globocan['Country'] = df_globocan['Country'].replace({'Viet Nam': 'Vietnam'})\n",
    "df_globocan['Country'] = df_globocan['Country'].replace({'Bosnia Herzegovina': 'Bosnia and Herzegovina'})\n",
    "df_globocan['Country'] = df_globocan['Country'].replace({'Gaza Strip and West Bank': 'Palestine'})\n",
    "df_globocan['Country'] = df_globocan['Country'].replace({'Korea, Republic of': 'South Korea'})\n",
    "df_globocan['Country'] = df_globocan['Country'].replace({\"Côte d'Ivoire\": \"Cote d'Ivoire\"})\n",
    "df_globocan['Country'] = df_globocan['Country'].replace({\"The Republic of the Gambia\": \"Gambia\"})\n",
    "df_globocan['Country'] = df_globocan['Country'].replace({\"Iran, Islamic Republic of\": \"Iran\"})\n",
    "df_globocan['Country'] = df_globocan['Country'].replace({\"Micronesia\": \"Micronesia, Fed. Sts.\"})\n",
    "df_globocan['Country'] = df_globocan['Country'].replace({\"Congo, Republic of\": \"Congo Republic\"})\n",
    "df_globocan['Country'] = df_globocan['Country'].replace({\"Kyrgyzstan\": \"Kyrgyz Republic\"})\n",
    "df_globocan['Country'] = df_globocan['Country'].replace({\"Congo, Democratic Republic of\": \"DR Congo\"})\n",
    "df_globocan['Country'] = df_globocan['Country'].replace({\"French Guyana\": \"French Guiana\"})\n",
    "df_globocan['Country'] = df_globocan['Country'].replace({\"Saint Lucia\": \"St. Lucia\"})\n",
    "df_globocan['Country'] = df_globocan['Country'].replace({\"The Netherlands\": \"Netherlands\"})\n",
    "df_globocan['Country'] = df_globocan['Country'].replace({\"Tanzania, United Republic of\": \"Tanzania\"})\n",
    "df_globocan['Country'] = df_globocan['Country'].replace({\"Russian Federation\": \"Russia\"})\n",
    "df_globocan['Country'] = df_globocan['Country'].replace({\"Lao People's Democratic Republic\": \"Laos\"})\n",
    "df_globocan['Country'] = df_globocan['Country'].replace({\"Cape Verde\": \"Cabo Verde\"})\n",
    "df_globocan['Country'] = df_globocan['Country'].replace({\"Korea, Democratic People Republic of\": \"North Korea\"})\n",
    "df_globocan['Country'] = df_globocan['Country'].replace({\"Syrian Arab Republic\": \"Syria\"})\n",
    "df_globocan['Country'] = df_globocan['Country'].replace({\"Bolivia (Plurinational State of)\": \"Bolivia\"})\n",
    "df_globocan['Country'] = df_globocan['Country'].replace({\"France, La Réunion\": \"Reunion\"})\n",
    "df_globocan['Country'] = df_globocan['Country'].replace({\"United States of America\": \"United States\"})\n",
    "df_globocan['Country'] = df_globocan['Country'].replace({\"France, Martinique\": \"Martinique\"})\n",
    "df_globocan['Country'] = df_globocan['Country'].replace({\"France (metropolitan)\": \"France\"})\n",
    "df_globocan['Country'] = df_globocan['Country'].replace({\"France, Guadeloupe\": \"Guadeloupe\"})"
   ]
  },
  {
   "cell_type": "code",
   "execution_count": 62,
   "id": "b0a4ee64-41e1-4786-a280-705041fb7f41",
   "metadata": {},
   "outputs": [
    {
     "name": "stdout",
     "output_type": "stream",
     "text": [
      "Equatorial Guinea\n"
     ]
    }
   ],
   "source": [
    "# Unique entity names in the Globocan dataset\n",
    "globocan_dataset_countries = set(df_globocan[\"Country\"])\n",
    "\n",
    "# Entities appearing in Globocan dataset and missing in articles' dataset\n",
    "for entity in globocan_dataset_countries:\n",
    "    if entity not in articles_dataset_countries:\n",
    "        print(entity)"
   ]
  },
  {
   "cell_type": "markdown",
   "id": "53e9ace1-d2dc-41a3-8e7a-e41739272b20",
   "metadata": {},
   "source": [
    "Only country present in Globocan and not present in articles is Equatorial Guinea. The reason is that no cancer article published yet has someone from\n",
    "this country as last author"
   ]
  },
  {
   "cell_type": "code",
   "execution_count": 63,
   "id": "94238b26-c96f-46dc-8830-9be52b4cd48b",
   "metadata": {
    "scrolled": true
   },
   "outputs": [
    {
     "name": "stdout",
     "output_type": "stream",
     "text": [
      "Northern Mariana Islands\n",
      "Bonaire, Saint Eustatius and Saba\n",
      "Falkland Islands\n",
      "Tonga\n",
      "Andorra\n",
      "Wallis and Futuna Islands\n",
      "Taiwan\n",
      "San Marino\n",
      "Guernsey\n",
      "Curacao\n",
      "St. Kitts and Nevis\n",
      "Palau\n",
      "St. Barths\n",
      "Cocos (Keeling) Islands\n",
      "Svalbard and Jan Mayen Islands\n",
      "Antigua and Barbuda\n",
      "Hong Kong\n",
      "French Southern Territories\n",
      "Aruba\n",
      "Christmas Island\n",
      "Tuvalu\n",
      "Aland Islands\n",
      "Vatican\n",
      "Antarctica\n",
      "St. Pierre and Miquelon\n",
      "British Virgin Islands\n",
      "Faroe Islands\n",
      "St. Vincent and the Grenadines\n",
      "Pitcairn\n",
      "Greenland\n",
      "Mayotte\n",
      "South Georgia and South Sandwich Is.\n",
      "Bermuda\n",
      "Saint-Martin\n",
      "Anguilla\n",
      "Grenada\n",
      "Sint Maarten\n",
      "Dominica\n",
      "Niue\n",
      "Liechtenstein\n",
      "American Samoa\n",
      "Cook Islands\n",
      "Kosovo\n",
      "British Indian Ocean Territory\n",
      "Macau\n",
      "United States Minor Outlying Islands\n",
      "Montserrat\n",
      "Nauru\n",
      "Seychelles\n",
      "Jersey\n",
      "United States Virgin Islands\n",
      "Gibraltar\n",
      "Marshall Islands\n",
      "Heard and McDonald Islands\n",
      "Cayman Islands\n",
      "St. Helena\n",
      "Monaco\n",
      "Isle of Man\n",
      "Bouvet Island\n"
     ]
    }
   ],
   "source": [
    "# Entities appearing in articles' dataset and missing in Globocan dataset\n",
    "for entity in articles_dataset_countries:\n",
    "    if entity not in globocan_dataset_countries:\n",
    "        print(entity)"
   ]
  },
  {
   "cell_type": "markdown",
   "id": "b3431b4d-d336-4e55-8501-a63b5579bec4",
   "metadata": {},
   "source": [
    "A number of small entities are listed separately in the articles's dataset but not in the Globocan dataset. These countries stay as they are in the articles' datasets, meaning that they are not properly matched with Globocan numbers. These are small countries contributing marginally (with the probable exceptions of Hong Kong and Taiwan) to cancer incidence data."
   ]
  },
  {
   "cell_type": "code",
   "execution_count": 64,
   "id": "c25c057e-cb3b-4e62-964a-fdc3656e3946",
   "metadata": {
    "scrolled": true
   },
   "outputs": [
    {
     "data": {
      "text/plain": [
       "{'Afghanistan',\n",
       " 'Aland Islands',\n",
       " 'Albania',\n",
       " 'Algeria',\n",
       " 'American Samoa',\n",
       " 'Andorra',\n",
       " 'Angola',\n",
       " 'Anguilla',\n",
       " 'Antarctica',\n",
       " 'Antigua and Barbuda',\n",
       " 'Argentina',\n",
       " 'Armenia',\n",
       " 'Aruba',\n",
       " 'Australia',\n",
       " 'Austria',\n",
       " 'Azerbaijan',\n",
       " 'Bahamas',\n",
       " 'Bahrain',\n",
       " 'Bangladesh',\n",
       " 'Barbados',\n",
       " 'Belarus',\n",
       " 'Belgium',\n",
       " 'Belize',\n",
       " 'Benin',\n",
       " 'Bermuda',\n",
       " 'Bhutan',\n",
       " 'Bolivia',\n",
       " 'Bonaire, Saint Eustatius and Saba',\n",
       " 'Bosnia and Herzegovina',\n",
       " 'Botswana',\n",
       " 'Bouvet Island',\n",
       " 'Brazil',\n",
       " 'British Indian Ocean Territory',\n",
       " 'British Virgin Islands',\n",
       " 'Brunei Darussalam',\n",
       " 'Bulgaria',\n",
       " 'Burkina Faso',\n",
       " 'Burundi',\n",
       " 'Cabo Verde',\n",
       " 'Cambodia',\n",
       " 'Cameroon',\n",
       " 'Canada',\n",
       " 'Cayman Islands',\n",
       " 'Central African Republic',\n",
       " 'Chad',\n",
       " 'Chile',\n",
       " 'China',\n",
       " 'Christmas Island',\n",
       " 'Cocos (Keeling) Islands',\n",
       " 'Colombia',\n",
       " 'Comoros',\n",
       " 'Congo Republic',\n",
       " 'Cook Islands',\n",
       " 'Costa Rica',\n",
       " \"Cote d'Ivoire\",\n",
       " 'Croatia',\n",
       " 'Cuba',\n",
       " 'Curacao',\n",
       " 'Cyprus',\n",
       " 'Czechia',\n",
       " 'DR Congo',\n",
       " 'Denmark',\n",
       " 'Djibouti',\n",
       " 'Dominica',\n",
       " 'Dominican Republic',\n",
       " 'Ecuador',\n",
       " 'Egypt',\n",
       " 'El Salvador',\n",
       " 'Eritrea',\n",
       " 'Estonia',\n",
       " 'Eswatini',\n",
       " 'Ethiopia',\n",
       " 'Falkland Islands',\n",
       " 'Faroe Islands',\n",
       " 'Fiji',\n",
       " 'Finland',\n",
       " 'France',\n",
       " 'French Guiana',\n",
       " 'French Polynesia',\n",
       " 'French Southern Territories',\n",
       " 'Gabon',\n",
       " 'Gambia',\n",
       " 'Georgia',\n",
       " 'Germany',\n",
       " 'Ghana',\n",
       " 'Gibraltar',\n",
       " 'Greece',\n",
       " 'Greenland',\n",
       " 'Grenada',\n",
       " 'Guadeloupe',\n",
       " 'Guam',\n",
       " 'Guatemala',\n",
       " 'Guernsey',\n",
       " 'Guinea',\n",
       " 'Guinea-Bissau',\n",
       " 'Guyana',\n",
       " 'Haiti',\n",
       " 'Heard and McDonald Islands',\n",
       " 'Honduras',\n",
       " 'Hong Kong',\n",
       " 'Hungary',\n",
       " 'Iceland',\n",
       " 'India',\n",
       " 'Indonesia',\n",
       " 'Iran',\n",
       " 'Iraq',\n",
       " 'Ireland',\n",
       " 'Isle of Man',\n",
       " 'Israel',\n",
       " 'Italy',\n",
       " 'Jamaica',\n",
       " 'Japan',\n",
       " 'Jersey',\n",
       " 'Jordan',\n",
       " 'Kazakhstan',\n",
       " 'Kenya',\n",
       " 'Kosovo',\n",
       " 'Kuwait',\n",
       " 'Kyrgyz Republic',\n",
       " 'Laos',\n",
       " 'Latvia',\n",
       " 'Lebanon',\n",
       " 'Lesotho',\n",
       " 'Liberia',\n",
       " 'Libya',\n",
       " 'Liechtenstein',\n",
       " 'Lithuania',\n",
       " 'Luxembourg',\n",
       " 'Macau',\n",
       " 'Madagascar',\n",
       " 'Malawi',\n",
       " 'Malaysia',\n",
       " 'Maldives',\n",
       " 'Mali',\n",
       " 'Malta',\n",
       " 'Marshall Islands',\n",
       " 'Martinique',\n",
       " 'Mauritania',\n",
       " 'Mauritius',\n",
       " 'Mayotte',\n",
       " 'Mexico',\n",
       " 'Micronesia, Fed. Sts.',\n",
       " 'Moldova',\n",
       " 'Monaco',\n",
       " 'Mongolia',\n",
       " 'Montenegro',\n",
       " 'Montserrat',\n",
       " 'Morocco',\n",
       " 'Mozambique',\n",
       " 'Myanmar',\n",
       " 'Namibia',\n",
       " 'Nauru',\n",
       " 'Nepal',\n",
       " 'Netherlands',\n",
       " 'New Caledonia',\n",
       " 'New Zealand',\n",
       " 'Nicaragua',\n",
       " 'Niger',\n",
       " 'Nigeria',\n",
       " 'Niue',\n",
       " 'North Korea',\n",
       " 'North Macedonia',\n",
       " 'Northern Mariana Islands',\n",
       " 'Norway',\n",
       " 'Oman',\n",
       " 'Pakistan',\n",
       " 'Palau',\n",
       " 'Palestine',\n",
       " 'Panama',\n",
       " 'Papua New Guinea',\n",
       " 'Paraguay',\n",
       " 'Peru',\n",
       " 'Philippines',\n",
       " 'Pitcairn',\n",
       " 'Poland',\n",
       " 'Portugal',\n",
       " 'Puerto Rico',\n",
       " 'Qatar',\n",
       " 'Reunion',\n",
       " 'Romania',\n",
       " 'Russia',\n",
       " 'Rwanda',\n",
       " 'Saint-Martin',\n",
       " 'Samoa',\n",
       " 'San Marino',\n",
       " 'Sao Tome and Principe',\n",
       " 'Saudi Arabia',\n",
       " 'Senegal',\n",
       " 'Serbia',\n",
       " 'Seychelles',\n",
       " 'Sierra Leone',\n",
       " 'Singapore',\n",
       " 'Sint Maarten',\n",
       " 'Slovakia',\n",
       " 'Slovenia',\n",
       " 'Solomon Islands',\n",
       " 'Somalia',\n",
       " 'South Africa',\n",
       " 'South Georgia and South Sandwich Is.',\n",
       " 'South Korea',\n",
       " 'South Sudan',\n",
       " 'Spain',\n",
       " 'Sri Lanka',\n",
       " 'St. Barths',\n",
       " 'St. Helena',\n",
       " 'St. Kitts and Nevis',\n",
       " 'St. Lucia',\n",
       " 'St. Pierre and Miquelon',\n",
       " 'St. Vincent and the Grenadines',\n",
       " 'Sudan',\n",
       " 'Suriname',\n",
       " 'Svalbard and Jan Mayen Islands',\n",
       " 'Sweden',\n",
       " 'Switzerland',\n",
       " 'Syria',\n",
       " 'Taiwan',\n",
       " 'Tajikistan',\n",
       " 'Tanzania',\n",
       " 'Thailand',\n",
       " 'Timor-Leste',\n",
       " 'Togo',\n",
       " 'Tonga',\n",
       " 'Trinidad and Tobago',\n",
       " 'Tunisia',\n",
       " 'Turkmenistan',\n",
       " 'Tuvalu',\n",
       " 'Türkiye',\n",
       " 'Uganda',\n",
       " 'Ukraine',\n",
       " 'United Arab Emirates',\n",
       " 'United Kingdom',\n",
       " 'United States',\n",
       " 'United States Minor Outlying Islands',\n",
       " 'United States Virgin Islands',\n",
       " 'Uruguay',\n",
       " 'Uzbekistan',\n",
       " 'Vanuatu',\n",
       " 'Vatican',\n",
       " 'Venezuela',\n",
       " 'Vietnam',\n",
       " 'Wallis and Futuna Islands',\n",
       " 'Yemen',\n",
       " 'Zambia',\n",
       " 'Zimbabwe'}"
      ]
     },
     "execution_count": 64,
     "metadata": {},
     "output_type": "execute_result"
    }
   ],
   "source": [
    "# All countries present in cancer articles\n",
    "articles_dataset_countries"
   ]
  },
  {
   "cell_type": "markdown",
   "id": "9c21c8a4-8938-43e6-9c42-f3eab96408b9",
   "metadata": {},
   "source": [
    "## Preparation Cancer type names\n",
    "To show incidence data in parallel to articles' data, common cancer types names are required. In this section, cancer types names in the Globocan dataset are replaced by those used in the articles' dataset"
   ]
  },
  {
   "cell_type": "code",
   "execution_count": 65,
   "id": "dc78feef-f067-4507-9730-c058b6baf4f4",
   "metadata": {
    "scrolled": true
   },
   "outputs": [
    {
     "data": {
      "text/plain": [
       "{'anus',\n",
       " 'bladder',\n",
       " 'brain-central-nervous-system',\n",
       " 'breast',\n",
       " 'cervix-uteri',\n",
       " 'colon',\n",
       " 'colorectum',\n",
       " 'corpus-uteri',\n",
       " 'gallbladder',\n",
       " 'hodgkin-lymphoma',\n",
       " 'hypopharynx',\n",
       " 'kaposi-sarcoma',\n",
       " 'kidney',\n",
       " 'larynx',\n",
       " 'leukaemia',\n",
       " 'lip-oral-cavity',\n",
       " 'liver-and-intrahepatic-bile-ducts',\n",
       " 'melanoma-of-skin',\n",
       " 'mesothelioma',\n",
       " 'multiple-myeloma',\n",
       " 'nasopharynx',\n",
       " 'non-hodgkin-lymphoma',\n",
       " 'non-melanoma-skin-cancer',\n",
       " 'oesophagus',\n",
       " 'oropharynx',\n",
       " 'ovary',\n",
       " 'pancreas',\n",
       " 'penis',\n",
       " 'prostate',\n",
       " 'rectum',\n",
       " 'salivary-glands',\n",
       " 'stomach',\n",
       " 'testis',\n",
       " 'thyroid',\n",
       " 'trachea-bronchus-and-lung',\n",
       " 'vagina',\n",
       " 'vulva'}"
      ]
     },
     "execution_count": 65,
     "metadata": {},
     "output_type": "execute_result"
    }
   ],
   "source": [
    "cancers_globocan = set(df_globocan[\"Cancer\"].to_list())\n",
    "cancers_globocan"
   ]
  },
  {
   "cell_type": "markdown",
   "id": "b5c65897-95f6-4fef-892d-deb4d54512d7",
   "metadata": {},
   "source": [
    "Some cancers will be combined together to make more sense with regard to the naming in the articles' dataset. Combining several cancer types implies adding their numeric values and assigning a single name for all of them (e.g. \"nasopharynx\" + \"hypopharynx\" + \"oropharynx\" = \"Throat cancer\")"
   ]
  },
  {
   "cell_type": "code",
   "execution_count": 71,
   "id": "374b08f8-28a2-4fc4-b29e-b8839aea66c2",
   "metadata": {},
   "outputs": [],
   "source": [
    "## Bind nasopharynx and hypopharynx as \"Throat cancer\"\n",
    "\n",
    "# Aggregate data\n",
    "bind_throat = df_globocan.loc[df_globocan[\"Cancer\"].isin([\"nasopharynx\", \"hypopharynx\", \"oropharynx\"])].groupby([\"Alpha-3 code\", \"Country\"], as_index=False).sum()\n",
    "\n",
    "# Rename cancer\n",
    "bind_throat[\"Cancer\"] = \"Throat cancer\"\n",
    "bind_throat\n",
    "\n",
    "\n",
    "# Concat, remove the rows having as Cancer type nasopharynx, hypopharynx or oropharynx\n",
    "df_globocan = pd.concat([df_globocan, bind_throat])\n",
    "df_globocan = df_globocan.loc[~df_globocan[\"Cancer\"].isin([\"nasopharynx\", \"hypopharynx\", \"oropharynx\"])]"
   ]
  },
  {
   "cell_type": "code",
   "execution_count": 72,
   "id": "d69c63cc-dfd1-4c8f-944b-1566bfb7add6",
   "metadata": {
    "scrolled": true
   },
   "outputs": [
    {
     "data": {
      "text/plain": [
       "{'Throat cancer',\n",
       " 'anus',\n",
       " 'bladder',\n",
       " 'brain-central-nervous-system',\n",
       " 'breast',\n",
       " 'cervix-uteri',\n",
       " 'colon',\n",
       " 'colorectum',\n",
       " 'corpus-uteri',\n",
       " 'gallbladder',\n",
       " 'hodgkin-lymphoma',\n",
       " 'kaposi-sarcoma',\n",
       " 'kidney',\n",
       " 'larynx',\n",
       " 'leukaemia',\n",
       " 'lip-oral-cavity',\n",
       " 'liver-and-intrahepatic-bile-ducts',\n",
       " 'melanoma-of-skin',\n",
       " 'mesothelioma',\n",
       " 'multiple-myeloma',\n",
       " 'non-hodgkin-lymphoma',\n",
       " 'non-melanoma-skin-cancer',\n",
       " 'oesophagus',\n",
       " 'ovary',\n",
       " 'pancreas',\n",
       " 'penis',\n",
       " 'prostate',\n",
       " 'rectum',\n",
       " 'salivary-glands',\n",
       " 'stomach',\n",
       " 'testis',\n",
       " 'thyroid',\n",
       " 'trachea-bronchus-and-lung',\n",
       " 'vagina',\n",
       " 'vulva'}"
      ]
     },
     "execution_count": 72,
     "metadata": {},
     "output_type": "execute_result"
    }
   ],
   "source": [
    "set(df_globocan[\"Cancer\"].to_list())"
   ]
  },
  {
   "cell_type": "code",
   "execution_count": 74,
   "id": "d91745ab-03de-4551-83c8-28df1acb8091",
   "metadata": {},
   "outputs": [],
   "source": [
    "## Replace cancer names in the Globocan dataset to match those of the articles' dataset\n",
    "\n",
    "df_globocan['Cancer'] = df_globocan['Cancer'].replace('anus', 'Anal cancer')\n",
    "df_globocan['Cancer'] = df_globocan['Cancer'].replace('bladder', 'Bladder cancer')\n",
    "df_globocan['Cancer'] = df_globocan['Cancer'].replace('brain-central-nervous system', 'Brain cancer')\n",
    "df_globocan['Cancer'] = df_globocan['Cancer'].replace('breast', 'Breast cancer')\n",
    "df_globocan['Cancer'] = df_globocan['Cancer'].replace('cervix-uteri', 'Cervical cancer')\n",
    "df_globocan['Cancer'] = df_globocan['Cancer'].replace('colon', 'Colon cancer')\n",
    "df_globocan['Cancer'] = df_globocan['Cancer'].replace('colorectum', 'Colorectal cancer')\n",
    "df_globocan['Cancer'] = df_globocan['Cancer'].replace('corpus-uteri', 'Uterine cancer')\n",
    "df_globocan['Cancer'] = df_globocan['Cancer'].replace('gallbladder', 'Gallbladder cancer')\n",
    "df_globocan['Cancer'] = df_globocan['Cancer'].replace('hodgkin-lymphoma', 'Hodgkin lymphoma')\n",
    "df_globocan['Cancer'] = df_globocan['Cancer'].replace('kaposi-sarcoma', 'Kaposi sarcoma')\n",
    "df_globocan['Cancer'] = df_globocan['Cancer'].replace('kidney', 'Kidney cancer')\n",
    "df_globocan['Cancer'] = df_globocan['Cancer'].replace('larynx', 'Laryngeal cancer')\n",
    "df_globocan['Cancer'] = df_globocan['Cancer'].replace('leukaemia', 'Leukemia')\n",
    "df_globocan['Cancer'] = df_globocan['Cancer'].replace('lip-oral-cavity', 'Mouth cancer')\n",
    "df_globocan['Cancer'] = df_globocan['Cancer'].replace('liver-and-intrahepatic-bile-ducts', 'Liver cancer')\n",
    "df_globocan['Cancer'] = df_globocan['Cancer'].replace('melanoma-of-skin', 'Skin cancer')\n",
    "df_globocan['Cancer'] = df_globocan['Cancer'].replace('non-melanoma-skin-cancer', 'Non-melanoma skin cancer')\n",
    "df_globocan['Cancer'] = df_globocan['Cancer'].replace('mesothelioma', 'Mesothelioma')\n",
    "df_globocan['Cancer'] = df_globocan['Cancer'].replace('multiple-myeloma', 'Multiple myeloma')\n",
    "df_globocan['Cancer'] = df_globocan['Cancer'].replace('non-hodgkin-lymphoma', 'Non-Hodgkin lymphoma')\n",
    "df_globocan['Cancer'] = df_globocan['Cancer'].replace('oesophagus', 'Esophageal cancer')\n",
    "df_globocan['Cancer'] = df_globocan['Cancer'].replace('ovary', 'Ovarian cancer')\n",
    "df_globocan['Cancer'] = df_globocan['Cancer'].replace('pancreas', 'Pancreatic cancer')\n",
    "df_globocan['Cancer'] = df_globocan['Cancer'].replace('penis', 'Penile cancer')\n",
    "df_globocan['Cancer'] = df_globocan['Cancer'].replace('prostate', 'Prostate cancer')\n",
    "df_globocan['Cancer'] = df_globocan['Cancer'].replace('rectum', 'Rectal cancer')\n",
    "df_globocan['Cancer'] = df_globocan['Cancer'].replace('salivary-glands', 'Salivary gland cancer')\n",
    "df_globocan['Cancer'] = df_globocan['Cancer'].replace('stomach', 'Stomach cancer')\n",
    "df_globocan['Cancer'] = df_globocan['Cancer'].replace('testis', 'Testicular cancer')\n",
    "df_globocan['Cancer'] = df_globocan['Cancer'].replace('thyroid', 'Thyroid cancer')\n",
    "df_globocan['Cancer'] = df_globocan['Cancer'].replace('trachea-bronchus-and-lung', 'Lung cancer')\n",
    "df_globocan['Cancer'] = df_globocan['Cancer'].replace('vagina', 'Vaginal cancer')\n",
    "df_globocan['Cancer'] = df_globocan['Cancer'].replace('vulva', 'Vulvar cancer')"
   ]
  },
  {
   "cell_type": "code",
   "execution_count": 77,
   "id": "46dc8d21-15c5-4eac-a936-5c0e77becdbf",
   "metadata": {},
   "outputs": [
    {
     "data": {
      "text/html": [
       "<div>\n",
       "<style scoped>\n",
       "    .dataframe tbody tr th:only-of-type {\n",
       "        vertical-align: middle;\n",
       "    }\n",
       "\n",
       "    .dataframe tbody tr th {\n",
       "        vertical-align: top;\n",
       "    }\n",
       "\n",
       "    .dataframe thead th {\n",
       "        text-align: right;\n",
       "    }\n",
       "</style>\n",
       "<table border=\"1\" class=\"dataframe\">\n",
       "  <thead>\n",
       "    <tr style=\"text-align: right;\">\n",
       "      <th></th>\n",
       "      <th>Alpha-3 code</th>\n",
       "      <th>Cancer code</th>\n",
       "      <th>Population code (ISO/UN)</th>\n",
       "      <th>Country</th>\n",
       "      <th>Sex</th>\n",
       "      <th>Number</th>\n",
       "      <th>95% UI low</th>\n",
       "      <th>95% UI high</th>\n",
       "      <th>Number.1</th>\n",
       "      <th>ASR (World)</th>\n",
       "      <th>Crude rate</th>\n",
       "      <th>Cumulative risk</th>\n",
       "      <th>Cancer</th>\n",
       "    </tr>\n",
       "  </thead>\n",
       "  <tbody>\n",
       "    <tr>\n",
       "      <th>0</th>\n",
       "      <td>AFG</td>\n",
       "      <td>10.0</td>\n",
       "      <td>4.0</td>\n",
       "      <td>Afghanistan</td>\n",
       "      <td>0.0</td>\n",
       "      <td>110</td>\n",
       "      <td>15.0</td>\n",
       "      <td>793.0</td>\n",
       "      <td>110</td>\n",
       "      <td>0.47</td>\n",
       "      <td>0.27</td>\n",
       "      <td>0.06</td>\n",
       "      <td>Anal cancer</td>\n",
       "    </tr>\n",
       "    <tr>\n",
       "      <th>1</th>\n",
       "      <td>ALB</td>\n",
       "      <td>10.0</td>\n",
       "      <td>8.0</td>\n",
       "      <td>Albania</td>\n",
       "      <td>0.0</td>\n",
       "      <td>11</td>\n",
       "      <td>4.0</td>\n",
       "      <td>28.0</td>\n",
       "      <td>11</td>\n",
       "      <td>0.24</td>\n",
       "      <td>0.38</td>\n",
       "      <td>0.03</td>\n",
       "      <td>Anal cancer</td>\n",
       "    </tr>\n",
       "    <tr>\n",
       "      <th>2</th>\n",
       "      <td>DZA</td>\n",
       "      <td>10.0</td>\n",
       "      <td>12.0</td>\n",
       "      <td>Algeria</td>\n",
       "      <td>0.0</td>\n",
       "      <td>158</td>\n",
       "      <td>48.0</td>\n",
       "      <td>517.0</td>\n",
       "      <td>158</td>\n",
       "      <td>0.34</td>\n",
       "      <td>0.35</td>\n",
       "      <td>0.04</td>\n",
       "      <td>Anal cancer</td>\n",
       "    </tr>\n",
       "    <tr>\n",
       "      <th>3</th>\n",
       "      <td>AGO</td>\n",
       "      <td>10.0</td>\n",
       "      <td>24.0</td>\n",
       "      <td>Angola</td>\n",
       "      <td>0.0</td>\n",
       "      <td>38</td>\n",
       "      <td>35.0</td>\n",
       "      <td>41.0</td>\n",
       "      <td>38</td>\n",
       "      <td>0.24</td>\n",
       "      <td>0.11</td>\n",
       "      <td>0.04</td>\n",
       "      <td>Anal cancer</td>\n",
       "    </tr>\n",
       "    <tr>\n",
       "      <th>4</th>\n",
       "      <td>AZE</td>\n",
       "      <td>10.0</td>\n",
       "      <td>31.0</td>\n",
       "      <td>Azerbaijan</td>\n",
       "      <td>0.0</td>\n",
       "      <td>106</td>\n",
       "      <td>8.0</td>\n",
       "      <td>1471.0</td>\n",
       "      <td>106</td>\n",
       "      <td>0.87</td>\n",
       "      <td>1.00</td>\n",
       "      <td>0.08</td>\n",
       "      <td>Anal cancer</td>\n",
       "    </tr>\n",
       "    <tr>\n",
       "      <th>...</th>\n",
       "      <td>...</td>\n",
       "      <td>...</td>\n",
       "      <td>...</td>\n",
       "      <td>...</td>\n",
       "      <td>...</td>\n",
       "      <td>...</td>\n",
       "      <td>...</td>\n",
       "      <td>...</td>\n",
       "      <td>...</td>\n",
       "      <td>...</td>\n",
       "      <td>...</td>\n",
       "      <td>...</td>\n",
       "      <td>...</td>\n",
       "    </tr>\n",
       "    <tr>\n",
       "      <th>181</th>\n",
       "      <td>WSM</td>\n",
       "      <td>12.0</td>\n",
       "      <td>2646.0</td>\n",
       "      <td>Samoa</td>\n",
       "      <td>0.0</td>\n",
       "      <td>4</td>\n",
       "      <td>2.0</td>\n",
       "      <td>8.0</td>\n",
       "      <td>4</td>\n",
       "      <td>2.20</td>\n",
       "      <td>2.00</td>\n",
       "      <td>0.17</td>\n",
       "      <td>Throat cancer</td>\n",
       "    </tr>\n",
       "    <tr>\n",
       "      <th>182</th>\n",
       "      <td>YEM</td>\n",
       "      <td>12.0</td>\n",
       "      <td>2661.0</td>\n",
       "      <td>Yemen</td>\n",
       "      <td>0.0</td>\n",
       "      <td>447</td>\n",
       "      <td>273.0</td>\n",
       "      <td>846.0</td>\n",
       "      <td>447</td>\n",
       "      <td>1.82</td>\n",
       "      <td>1.39</td>\n",
       "      <td>0.17</td>\n",
       "      <td>Throat cancer</td>\n",
       "    </tr>\n",
       "    <tr>\n",
       "      <th>183</th>\n",
       "      <td>ZAF</td>\n",
       "      <td>12.0</td>\n",
       "      <td>2130.0</td>\n",
       "      <td>South Africa</td>\n",
       "      <td>0.0</td>\n",
       "      <td>806</td>\n",
       "      <td>508.0</td>\n",
       "      <td>1388.0</td>\n",
       "      <td>806</td>\n",
       "      <td>1.49</td>\n",
       "      <td>1.32</td>\n",
       "      <td>0.17</td>\n",
       "      <td>Throat cancer</td>\n",
       "    </tr>\n",
       "    <tr>\n",
       "      <th>184</th>\n",
       "      <td>ZMB</td>\n",
       "      <td>12.0</td>\n",
       "      <td>2682.0</td>\n",
       "      <td>Zambia</td>\n",
       "      <td>0.0</td>\n",
       "      <td>79</td>\n",
       "      <td>12.0</td>\n",
       "      <td>543.0</td>\n",
       "      <td>79</td>\n",
       "      <td>0.84</td>\n",
       "      <td>0.41</td>\n",
       "      <td>0.10</td>\n",
       "      <td>Throat cancer</td>\n",
       "    </tr>\n",
       "    <tr>\n",
       "      <th>185</th>\n",
       "      <td>ZWE</td>\n",
       "      <td>12.0</td>\n",
       "      <td>2148.0</td>\n",
       "      <td>Zimbabwe</td>\n",
       "      <td>0.0</td>\n",
       "      <td>85</td>\n",
       "      <td>13.0</td>\n",
       "      <td>576.0</td>\n",
       "      <td>85</td>\n",
       "      <td>0.90</td>\n",
       "      <td>0.56</td>\n",
       "      <td>0.11</td>\n",
       "      <td>Throat cancer</td>\n",
       "    </tr>\n",
       "  </tbody>\n",
       "</table>\n",
       "<p>6510 rows × 13 columns</p>\n",
       "</div>"
      ],
      "text/plain": [
       "    Alpha-3 code  Cancer code  Population code (ISO/UN)       Country  Sex  \\\n",
       "0            AFG         10.0                       4.0   Afghanistan  0.0   \n",
       "1            ALB         10.0                       8.0       Albania  0.0   \n",
       "2            DZA         10.0                      12.0       Algeria  0.0   \n",
       "3            AGO         10.0                      24.0        Angola  0.0   \n",
       "4            AZE         10.0                      31.0    Azerbaijan  0.0   \n",
       "..           ...          ...                       ...           ...  ...   \n",
       "181          WSM         12.0                    2646.0         Samoa  0.0   \n",
       "182          YEM         12.0                    2661.0         Yemen  0.0   \n",
       "183          ZAF         12.0                    2130.0  South Africa  0.0   \n",
       "184          ZMB         12.0                    2682.0        Zambia  0.0   \n",
       "185          ZWE         12.0                    2148.0      Zimbabwe  0.0   \n",
       "\n",
       "     Number 95% UI low 95% UI high  Number.1  ASR (World)  Crude rate  \\\n",
       "0       110       15.0       793.0       110         0.47        0.27   \n",
       "1        11        4.0        28.0        11         0.24        0.38   \n",
       "2       158       48.0       517.0       158         0.34        0.35   \n",
       "3        38       35.0        41.0        38         0.24        0.11   \n",
       "4       106        8.0      1471.0       106         0.87        1.00   \n",
       "..      ...        ...         ...       ...          ...         ...   \n",
       "181       4        2.0         8.0         4         2.20        2.00   \n",
       "182     447      273.0       846.0       447         1.82        1.39   \n",
       "183     806      508.0      1388.0       806         1.49        1.32   \n",
       "184      79       12.0       543.0        79         0.84        0.41   \n",
       "185      85       13.0       576.0        85         0.90        0.56   \n",
       "\n",
       "     Cumulative risk         Cancer  \n",
       "0               0.06    Anal cancer  \n",
       "1               0.03    Anal cancer  \n",
       "2               0.04    Anal cancer  \n",
       "3               0.04    Anal cancer  \n",
       "4               0.08    Anal cancer  \n",
       "..               ...            ...  \n",
       "181             0.17  Throat cancer  \n",
       "182             0.17  Throat cancer  \n",
       "183             0.17  Throat cancer  \n",
       "184             0.10  Throat cancer  \n",
       "185             0.11  Throat cancer  \n",
       "\n",
       "[6510 rows x 13 columns]"
      ]
     },
     "execution_count": 77,
     "metadata": {},
     "output_type": "execute_result"
    }
   ],
   "source": [
    "# Final Globocan dataset\n",
    "df_globocan"
   ]
  },
  {
   "cell_type": "code",
   "execution_count": 79,
   "id": "ff5eb60e-5858-49e1-8084-98cdc99fa00d",
   "metadata": {},
   "outputs": [],
   "source": [
    "# Save curated dataset\n",
    "df_globocan.to_csv(Globocan_output + \"Globocan_dataset_ready.csv\", index = False)"
   ]
  }
 ],
 "metadata": {
  "kernelspec": {
   "display_name": "Python 3 (ipykernel)",
   "language": "python",
   "name": "python3"
  },
  "language_info": {
   "codemirror_mode": {
    "name": "ipython",
    "version": 3
   },
   "file_extension": ".py",
   "mimetype": "text/x-python",
   "name": "python",
   "nbconvert_exporter": "python",
   "pygments_lexer": "ipython3",
   "version": "3.13.2"
  }
 },
 "nbformat": 4,
 "nbformat_minor": 5
}
