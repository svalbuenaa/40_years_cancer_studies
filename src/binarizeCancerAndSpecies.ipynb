{
 "cells": [
  {
   "cell_type": "code",
   "execution_count": 1,
   "id": "d5818b93-99cc-4bc5-bf8a-8cb207caca81",
   "metadata": {},
   "outputs": [],
   "source": [
    "import os\n",
    "import pandas as pd\n",
    "import time\n",
    "from tqdm import tqdm\n",
    "from sklearn.preprocessing import MultiLabelBinarizer"
   ]
  },
  {
   "cell_type": "code",
   "execution_count": 2,
   "id": "d3a1d802-d341-46f4-8b0d-de660f52ab05",
   "metadata": {},
   "outputs": [
    {
     "name": "stdin",
     "output_type": "stream",
     "text": [
      " C:\\Users\\svalb\\OneDrive\\Escritorio\\Data_40_years_cancer_studies\\parsedXMLs_first_update\\\n"
     ]
    }
   ],
   "source": [
    "DF_input = input().strip()"
   ]
  },
  {
   "cell_type": "code",
   "execution_count": 3,
   "id": "9da692f5-6ded-4e67-99db-04f0fb936034",
   "metadata": {},
   "outputs": [],
   "source": [
    "# Import list of csvs to parse\n",
    "list_csvs = []\n",
    "\n",
    "for file in os.listdir(DF_input):\n",
    "    if file[-4:] == \".csv\":\n",
    "        list_csvs.append(file)\n",
    "\n",
    "n_csvs = len(list_csvs)"
   ]
  },
  {
   "cell_type": "code",
   "execution_count": 5,
   "id": "71bd1005-b904-474a-9002-98b7c4303413",
   "metadata": {},
   "outputs": [
    {
     "name": "stderr",
     "output_type": "stream",
     "text": [
      "  0%|                                                                                                                                                      | 0/4 [00:00<?, ?it/s]"
     ]
    },
    {
     "name": "stdout",
     "output_type": "stream",
     "text": [
      "Parsing csv: parsedXMLs_first_upd_100000.csv, 1 / 4\n"
     ]
    },
    {
     "name": "stderr",
     "output_type": "stream",
     "text": [
      "C:\\Users\\svalb\\AppData\\Local\\Temp\\ipykernel_7428\\1864532111.py:17: DtypeWarning: Columns (2,3,4) have mixed types. Specify dtype option on import or set low_memory=False.\n",
      "  df = pd.read_csv(DF_input + csv)\n",
      " 25%|███████████████████████████████████▌                                                                                                          | 1/4 [00:13<00:40, 13.52s/it]"
     ]
    },
    {
     "name": "stdout",
     "output_type": "stream",
     "text": [
      "--Parsing time: 13.52\n",
      "Parsing csv: parsedXMLs_first_upd_200000.csv, 2 / 4\n"
     ]
    },
    {
     "name": "stderr",
     "output_type": "stream",
     "text": [
      " 50%|███████████████████████████████████████████████████████████████████████                                                                       | 2/4 [00:27<00:27, 13.81s/it]"
     ]
    },
    {
     "name": "stdout",
     "output_type": "stream",
     "text": [
      "--Parsing time: 14.02\n",
      "Parsing csv: parsedXMLs_first_upd_300000.csv, 3 / 4\n"
     ]
    },
    {
     "name": "stderr",
     "output_type": "stream",
     "text": [
      "C:\\Users\\svalb\\AppData\\Local\\Temp\\ipykernel_7428\\1864532111.py:17: DtypeWarning: Columns (13,14,15) have mixed types. Specify dtype option on import or set low_memory=False.\n",
      "  df = pd.read_csv(DF_input + csv)\n",
      " 75%|██████████████████████████████████████████████████████████████████████████████████████████████████████████▌                                   | 3/4 [00:41<00:13, 13.77s/it]"
     ]
    },
    {
     "name": "stdout",
     "output_type": "stream",
     "text": [
      "--Parsing time: 13.72\n",
      "Parsing csv: parsedXMLs_first_upd_340800.csv, 4 / 4\n"
     ]
    },
    {
     "name": "stderr",
     "output_type": "stream",
     "text": [
      "100%|██████████████████████████████████████████████████████████████████████████████████████████████████████████████████████████████████████████████| 4/4 [00:47<00:00, 11.81s/it]"
     ]
    },
    {
     "name": "stdout",
     "output_type": "stream",
     "text": [
      "--Parsing time: 6.0\n"
     ]
    },
    {
     "name": "stderr",
     "output_type": "stream",
     "text": [
      "\n"
     ]
    }
   ],
   "source": [
    "# Manage log of parsed files\n",
    "path_parsed_csvs_cancer = DF_input+\"csv files with Cancer and Species binarized.txt\"\n",
    "if not os.path.exists(path_parsed_csvs_cancer):\n",
    "    open(path_parsed_csvs_cancer, 'a').close()\n",
    "\n",
    "parsed_csvs_cancer = []\n",
    "with open(path_parsed_csvs_cancer, \"r\") as f:\n",
    "    for line in f:\n",
    "        parsed_csvs_cancer.append(f)\n",
    "    \n",
    "for csv in tqdm(list_csvs):\n",
    "    if csv not in parsed_csvs_cancer:\n",
    "        start = time.time()\n",
    "        print(f\"Parsing csv: {csv}, {list_csvs.index(csv)+1} / {n_csvs}\")\n",
    "\n",
    "        # Import csv\n",
    "        df = pd.read_csv(DF_input + csv)\n",
    "\n",
    "        ## Binarize Cancer types\n",
    "        # Use Multilabel binarizer from scikit-learn\n",
    "        mlb = MultiLabelBinarizer()\n",
    "        \n",
    "        # Use the binarizer on the Cancer column\n",
    "        df_one_hot_cancer = pd.DataFrame(\n",
    "            mlb.fit_transform(df['Cancer'].astype(str)\n",
    "                              .str.strip(\"[]\")\n",
    "                              .str.split(\",\")\n",
    "                              .map(lambda x: [i.strip() for i in x])),\n",
    "            columns=mlb.classes_,\n",
    "            index=df.index)\n",
    "        \n",
    "        ## Rename the columns \n",
    "        # First column contains value 1 for articles with no found cancer\n",
    "        df_one_hot_cancer.columns.values[0] = \"Undetermined_Cancer\"\n",
    "\n",
    "        # Remove the '' from the names of the cancers\n",
    "        for col in df_one_hot_cancer.columns[1:]:\n",
    "            df_one_hot_cancer.rename(columns={col: col.strip(\"'\")}, inplace=True)\n",
    "\n",
    "        \n",
    "        ## Binarize Species\n",
    "        # Use Multilabel binarizer from scikit-learn\n",
    "        mlb = MultiLabelBinarizer()\n",
    "        \n",
    "        # Use the binarizer on the Cancer column\n",
    "        df_one_hot_species = pd.DataFrame(\n",
    "            mlb.fit_transform(df['Species'].astype(str)\n",
    "                              .str.strip(\"[]\")\n",
    "                              .str.split(\",\")\n",
    "                              .map(lambda x: [i.strip() for i in x])),\n",
    "            columns=mlb.classes_,\n",
    "            index=df.index)\n",
    "        \n",
    "        ## Rename the columns \n",
    "        # First column contains value 1 for articles with no found species\n",
    "        df_one_hot_species.columns.values[0] = \"Undetermined_Species\"\n",
    "\n",
    "        # Remove the '' from the names of the species\n",
    "        for col in df_one_hot_species.columns[1:]:\n",
    "            df_one_hot_species.rename(columns={col: col.strip(\"'\")}, inplace=True)\n",
    "\n",
    "        # Concatenate the data with the binarized columns\n",
    "        df_save = pd.concat([df, df_one_hot_cancer, df_one_hot_species], axis=1)\n",
    "\n",
    "        # Save df, add to parsed list, clean workspace\n",
    "        df_save.to_csv(DF_input+csv, index=False)\n",
    "        del df, df_one_hot_cancer, df_one_hot_species, mlb, df_save\n",
    "        parsed_csvs_cancer.append(csv)\n",
    "        with open(path_parsed_csvs_cancer, \"a\") as f:\n",
    "                f.write(csv+\"\\n\")\n",
    "        print(f\"--Parsing time: {round(time.time()-start, 2)}\")"
   ]
  },
  {
   "cell_type": "code",
   "execution_count": 6,
   "id": "6120b60c-af9f-400f-b141-1a58b1530e3b",
   "metadata": {},
   "outputs": [
    {
     "name": "stderr",
     "output_type": "stream",
     "text": [
      "C:\\Users\\svalb\\AppData\\Local\\Temp\\ipykernel_7428\\1178554274.py:1: DtypeWarning: Columns (2,3,4) have mixed types. Specify dtype option on import or set low_memory=False.\n",
      "  temp_df = pd.read_csv(DF_input + list_csvs[0])\n"
     ]
    }
   ],
   "source": [
    "temp_df = pd.read_csv(DF_input + list_csvs[0])"
   ]
  },
  {
   "cell_type": "code",
   "execution_count": 11,
   "id": "8f16c071-78bf-4447-bc03-09dee40e4311",
   "metadata": {},
   "outputs": [
    {
     "data": {
      "text/plain": [
       "0                          []\n",
       "1                          []\n",
       "2                          []\n",
       "3                          []\n",
       "4                          []\n",
       "                 ...         \n",
       "99995    ['human', 'patient']\n",
       "99996                      []\n",
       "99997                      []\n",
       "99998                      []\n",
       "99999                      []\n",
       "Name: Species, Length: 100000, dtype: object"
      ]
     },
     "execution_count": 11,
     "metadata": {},
     "output_type": "execute_result"
    }
   ],
   "source": [
    "temp_df[\"Species\"]"
   ]
  },
  {
   "cell_type": "code",
   "execution_count": null,
   "id": "e3cdd9c8-0cf0-40e2-9b15-930ea086e895",
   "metadata": {},
   "outputs": [],
   "source": []
  }
 ],
 "metadata": {
  "kernelspec": {
   "display_name": "Python 3 (ipykernel)",
   "language": "python",
   "name": "python3"
  },
  "language_info": {
   "codemirror_mode": {
    "name": "ipython",
    "version": 3
   },
   "file_extension": ".py",
   "mimetype": "text/x-python",
   "name": "python",
   "nbconvert_exporter": "python",
   "pygments_lexer": "ipython3",
   "version": "3.13.2"
  }
 },
 "nbformat": 4,
 "nbformat_minor": 5
}
