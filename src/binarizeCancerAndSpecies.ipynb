{
 "cells": [
  {
   "cell_type": "code",
   "execution_count": 13,
   "id": "d5818b93-99cc-4bc5-bf8a-8cb207caca81",
   "metadata": {},
   "outputs": [],
   "source": [
    "import os\n",
    "import pandas as pd\n",
    "import time\n",
    "from tqdm import tqdm\n",
    "from sklearn.preprocessing import MultiLabelBinarizer"
   ]
  },
  {
   "cell_type": "code",
   "execution_count": 2,
   "id": "d3a1d802-d341-46f4-8b0d-de660f52ab05",
   "metadata": {},
   "outputs": [
    {
     "name": "stdin",
     "output_type": "stream",
     "text": [
      " C:\\Users\\svalb\\OneDrive\\Escritorio\\Data_40_years_cancer_studies\\parsedXMLs\\\n"
     ]
    }
   ],
   "source": [
    "DF_input = input().strip()"
   ]
  },
  {
   "cell_type": "code",
   "execution_count": 17,
   "id": "9da692f5-6ded-4e67-99db-04f0fb936034",
   "metadata": {},
   "outputs": [],
   "source": [
    "# Import list of csvs to parse\n",
    "list_csvs = []\n",
    "\n",
    "for file in os.listdir(DF_input):\n",
    "    if file[-4:] == \".csv\":\n",
    "        list_csvs.append(file)\n",
    "\n",
    "n_csvs = len(list_csvs)"
   ]
  },
  {
   "cell_type": "code",
   "execution_count": 212,
   "id": "71bd1005-b904-474a-9002-98b7c4303413",
   "metadata": {},
   "outputs": [
    {
     "name": "stderr",
     "output_type": "stream",
     "text": [
      "  0%|                                                                                                                                                                                      | 0/45 [00:00<?, ?it/s]"
     ]
    },
    {
     "name": "stdout",
     "output_type": "stream",
     "text": [
      "Parsing csv: parsedX_100000.csv, 1 / 45\n"
     ]
    },
    {
     "name": "stderr",
     "output_type": "stream",
     "text": [
      "  2%|███▊                                                                                                                                                                          | 1/45 [00:09<06:47,  9.26s/it]"
     ]
    },
    {
     "name": "stdout",
     "output_type": "stream",
     "text": [
      "--Parsing time: 9.26\n",
      "Parsing csv: parsedX_1000000.csv, 2 / 45\n"
     ]
    },
    {
     "name": "stderr",
     "output_type": "stream",
     "text": [
      "  4%|███████▋                                                                                                                                                                      | 2/45 [00:19<06:57,  9.72s/it]"
     ]
    },
    {
     "name": "stdout",
     "output_type": "stream",
     "text": [
      "--Parsing time: 10.03\n",
      "Parsing csv: parsedX_1100000.csv, 3 / 45\n"
     ]
    },
    {
     "name": "stderr",
     "output_type": "stream",
     "text": [
      "  7%|███████████▌                                                                                                                                                                  | 3/45 [00:29<07:03, 10.08s/it]"
     ]
    },
    {
     "name": "stdout",
     "output_type": "stream",
     "text": [
      "--Parsing time: 10.5\n",
      "Parsing csv: parsedX_1200000.csv, 4 / 45\n"
     ]
    },
    {
     "name": "stderr",
     "output_type": "stream",
     "text": [
      "  9%|███████████████▍                                                                                                                                                              | 4/45 [00:40<06:59, 10.24s/it]"
     ]
    },
    {
     "name": "stdout",
     "output_type": "stream",
     "text": [
      "--Parsing time: 10.5\n",
      "Parsing csv: parsedX_1300000.csv, 5 / 45\n"
     ]
    },
    {
     "name": "stderr",
     "output_type": "stream",
     "text": [
      " 11%|███████████████████▎                                                                                                                                                          | 5/45 [00:50<06:55, 10.38s/it]"
     ]
    },
    {
     "name": "stdout",
     "output_type": "stream",
     "text": [
      "--Parsing time: 10.61\n",
      "Parsing csv: parsedX_1400000.csv, 6 / 45\n"
     ]
    },
    {
     "name": "stderr",
     "output_type": "stream",
     "text": [
      "C:\\Users\\svalb\\AppData\\Local\\Temp\\ipykernel_28964\\1864532111.py:17: DtypeWarning: Columns (12) have mixed types. Specify dtype option on import or set low_memory=False.\n",
      "  df = pd.read_csv(DF_input + csv)\n",
      " 13%|███████████████████████▏                                                                                                                                                      | 6/45 [01:01<06:44, 10.37s/it]"
     ]
    },
    {
     "name": "stdout",
     "output_type": "stream",
     "text": [
      "--Parsing time: 10.36\n",
      "Parsing csv: parsedX_1500000.csv, 7 / 45\n"
     ]
    },
    {
     "name": "stderr",
     "output_type": "stream",
     "text": [
      " 16%|███████████████████████████                                                                                                                                                   | 7/45 [01:11<06:33, 10.35s/it]"
     ]
    },
    {
     "name": "stdout",
     "output_type": "stream",
     "text": [
      "--Parsing time: 10.3\n",
      "Parsing csv: parsedX_1600000.csv, 8 / 45\n"
     ]
    },
    {
     "name": "stderr",
     "output_type": "stream",
     "text": [
      " 18%|██████████████████████████████▉                                                                                                                                               | 8/45 [01:21<06:22, 10.33s/it]"
     ]
    },
    {
     "name": "stdout",
     "output_type": "stream",
     "text": [
      "--Parsing time: 10.3\n",
      "Parsing csv: parsedX_1700000.csv, 9 / 45\n"
     ]
    },
    {
     "name": "stderr",
     "output_type": "stream",
     "text": [
      " 20%|██████████████████████████████████▊                                                                                                                                           | 9/45 [01:31<06:07, 10.22s/it]"
     ]
    },
    {
     "name": "stdout",
     "output_type": "stream",
     "text": [
      "--Parsing time: 9.97\n",
      "Parsing csv: parsedX_1800000.csv, 10 / 45\n"
     ]
    },
    {
     "name": "stderr",
     "output_type": "stream",
     "text": [
      "C:\\Users\\svalb\\AppData\\Local\\Temp\\ipykernel_28964\\1864532111.py:17: DtypeWarning: Columns (13,14,15) have mixed types. Specify dtype option on import or set low_memory=False.\n",
      "  df = pd.read_csv(DF_input + csv)\n",
      " 22%|██████████████████████████████████████▍                                                                                                                                      | 10/45 [01:42<06:02, 10.35s/it]"
     ]
    },
    {
     "name": "stdout",
     "output_type": "stream",
     "text": [
      "--Parsing time: 10.64\n",
      "Parsing csv: parsedX_1900000.csv, 11 / 45\n"
     ]
    },
    {
     "name": "stderr",
     "output_type": "stream",
     "text": [
      "C:\\Users\\svalb\\AppData\\Local\\Temp\\ipykernel_28964\\1864532111.py:17: DtypeWarning: Columns (13,14,15) have mixed types. Specify dtype option on import or set low_memory=False.\n",
      "  df = pd.read_csv(DF_input + csv)\n",
      " 24%|██████████████████████████████████████████▎                                                                                                                                  | 11/45 [01:53<05:54, 10.43s/it]"
     ]
    },
    {
     "name": "stdout",
     "output_type": "stream",
     "text": [
      "--Parsing time: 10.62\n",
      "Parsing csv: parsedX_200000.csv, 12 / 45\n"
     ]
    },
    {
     "name": "stderr",
     "output_type": "stream",
     "text": [
      " 27%|██████████████████████████████████████████████▏                                                                                                                              | 12/45 [02:01<05:23,  9.82s/it]"
     ]
    },
    {
     "name": "stdout",
     "output_type": "stream",
     "text": [
      "--Parsing time: 8.4\n",
      "Parsing csv: parsedX_2000000.csv, 13 / 45\n"
     ]
    },
    {
     "name": "stderr",
     "output_type": "stream",
     "text": [
      " 29%|█████████████████████████████████████████████████▉                                                                                                                           | 13/45 [02:12<05:24, 10.13s/it]"
     ]
    },
    {
     "name": "stdout",
     "output_type": "stream",
     "text": [
      "--Parsing time: 10.85\n",
      "Parsing csv: parsedX_2100000.csv, 14 / 45\n"
     ]
    },
    {
     "name": "stderr",
     "output_type": "stream",
     "text": [
      " 31%|█████████████████████████████████████████████████████▊                                                                                                                       | 14/45 [02:23<05:20, 10.33s/it]"
     ]
    },
    {
     "name": "stdout",
     "output_type": "stream",
     "text": [
      "--Parsing time: 10.81\n",
      "Parsing csv: parsedX_2200000.csv, 15 / 45\n"
     ]
    },
    {
     "name": "stderr",
     "output_type": "stream",
     "text": [
      "C:\\Users\\svalb\\AppData\\Local\\Temp\\ipykernel_28964\\1864532111.py:17: DtypeWarning: Columns (13,14,15) have mixed types. Specify dtype option on import or set low_memory=False.\n",
      "  df = pd.read_csv(DF_input + csv)\n",
      " 33%|█████████████████████████████████████████████████████████▋                                                                                                                   | 15/45 [02:34<05:16, 10.55s/it]"
     ]
    },
    {
     "name": "stdout",
     "output_type": "stream",
     "text": [
      "--Parsing time: 11.05\n",
      "Parsing csv: parsedX_2300000.csv, 16 / 45\n"
     ]
    },
    {
     "name": "stderr",
     "output_type": "stream",
     "text": [
      " 36%|█████████████████████████████████████████████████████████████▌                                                                                                               | 16/45 [02:46<05:19, 11.03s/it]"
     ]
    },
    {
     "name": "stdout",
     "output_type": "stream",
     "text": [
      "--Parsing time: 12.15\n",
      "Parsing csv: parsedX_2400000.csv, 17 / 45\n"
     ]
    },
    {
     "name": "stderr",
     "output_type": "stream",
     "text": [
      "C:\\Users\\svalb\\AppData\\Local\\Temp\\ipykernel_28964\\1864532111.py:17: DtypeWarning: Columns (13,14,15) have mixed types. Specify dtype option on import or set low_memory=False.\n",
      "  df = pd.read_csv(DF_input + csv)\n",
      " 38%|█████████████████████████████████████████████████████████████████▎                                                                                                           | 17/45 [02:59<05:23, 11.56s/it]"
     ]
    },
    {
     "name": "stdout",
     "output_type": "stream",
     "text": [
      "--Parsing time: 12.8\n",
      "Parsing csv: parsedX_2500000.csv, 18 / 45\n"
     ]
    },
    {
     "name": "stderr",
     "output_type": "stream",
     "text": [
      "C:\\Users\\svalb\\AppData\\Local\\Temp\\ipykernel_28964\\1864532111.py:17: DtypeWarning: Columns (13,14,15) have mixed types. Specify dtype option on import or set low_memory=False.\n",
      "  df = pd.read_csv(DF_input + csv)\n",
      " 40%|█████████████████████████████████████████████████████████████████████▏                                                                                                       | 18/45 [03:12<05:23, 11.98s/it]"
     ]
    },
    {
     "name": "stdout",
     "output_type": "stream",
     "text": [
      "--Parsing time: 12.94\n",
      "Parsing csv: parsedX_2600000.csv, 19 / 45\n"
     ]
    },
    {
     "name": "stderr",
     "output_type": "stream",
     "text": [
      "C:\\Users\\svalb\\AppData\\Local\\Temp\\ipykernel_28964\\1864532111.py:17: DtypeWarning: Columns (13,14,15) have mixed types. Specify dtype option on import or set low_memory=False.\n",
      "  df = pd.read_csv(DF_input + csv)\n",
      " 42%|█████████████████████████████████████████████████████████████████████████                                                                                                    | 19/45 [03:24<05:15, 12.12s/it]"
     ]
    },
    {
     "name": "stdout",
     "output_type": "stream",
     "text": [
      "--Parsing time: 12.46\n",
      "Parsing csv: parsedX_2700000.csv, 20 / 45\n"
     ]
    },
    {
     "name": "stderr",
     "output_type": "stream",
     "text": [
      "C:\\Users\\svalb\\AppData\\Local\\Temp\\ipykernel_28964\\1864532111.py:17: DtypeWarning: Columns (13,14,15) have mixed types. Specify dtype option on import or set low_memory=False.\n",
      "  df = pd.read_csv(DF_input + csv)\n",
      " 44%|████████████████████████████████████████████████████████████████████████████▉                                                                                                | 20/45 [03:37<05:10, 12.40s/it]"
     ]
    },
    {
     "name": "stdout",
     "output_type": "stream",
     "text": [
      "--Parsing time: 13.05\n",
      "Parsing csv: parsedX_2800000.csv, 21 / 45\n"
     ]
    },
    {
     "name": "stderr",
     "output_type": "stream",
     "text": [
      "C:\\Users\\svalb\\AppData\\Local\\Temp\\ipykernel_28964\\1864532111.py:17: DtypeWarning: Columns (13,14,15) have mixed types. Specify dtype option on import or set low_memory=False.\n",
      "  df = pd.read_csv(DF_input + csv)\n",
      " 47%|████████████████████████████████████████████████████████████████████████████████▋                                                                                            | 21/45 [03:50<05:01, 12.57s/it]"
     ]
    },
    {
     "name": "stdout",
     "output_type": "stream",
     "text": [
      "--Parsing time: 12.95\n",
      "Parsing csv: parsedX_2900000.csv, 22 / 45\n"
     ]
    },
    {
     "name": "stderr",
     "output_type": "stream",
     "text": [
      " 49%|████████████████████████████████████████████████████████████████████████████████████▌                                                                                        | 22/45 [04:03<04:51, 12.67s/it]"
     ]
    },
    {
     "name": "stdout",
     "output_type": "stream",
     "text": [
      "--Parsing time: 12.93\n",
      "Parsing csv: parsedX_300000.csv, 23 / 45\n"
     ]
    },
    {
     "name": "stderr",
     "output_type": "stream",
     "text": [
      " 51%|████████████████████████████████████████████████████████████████████████████████████████▍                                                                                    | 23/45 [04:11<04:08, 11.29s/it]"
     ]
    },
    {
     "name": "stdout",
     "output_type": "stream",
     "text": [
      "--Parsing time: 8.04\n",
      "Parsing csv: parsedX_3000000.csv, 24 / 45\n"
     ]
    },
    {
     "name": "stderr",
     "output_type": "stream",
     "text": [
      "C:\\Users\\svalb\\AppData\\Local\\Temp\\ipykernel_28964\\1864532111.py:17: DtypeWarning: Columns (13,14,15) have mixed types. Specify dtype option on import or set low_memory=False.\n",
      "  df = pd.read_csv(DF_input + csv)\n",
      " 53%|████████████████████████████████████████████████████████████████████████████████████████████▎                                                                                | 24/45 [04:24<04:08, 11.83s/it]"
     ]
    },
    {
     "name": "stdout",
     "output_type": "stream",
     "text": [
      "--Parsing time: 13.08\n",
      "Parsing csv: parsedX_3100000.csv, 25 / 45\n"
     ]
    },
    {
     "name": "stderr",
     "output_type": "stream",
     "text": [
      "C:\\Users\\svalb\\AppData\\Local\\Temp\\ipykernel_28964\\1864532111.py:17: DtypeWarning: Columns (13,14,15) have mixed types. Specify dtype option on import or set low_memory=False.\n",
      "  df = pd.read_csv(DF_input + csv)\n",
      " 56%|████████████████████████████████████████████████████████████████████████████████████████████████                                                                             | 25/45 [04:37<04:02, 12.15s/it]"
     ]
    },
    {
     "name": "stdout",
     "output_type": "stream",
     "text": [
      "--Parsing time: 12.9\n",
      "Parsing csv: parsedX_3200000.csv, 26 / 45\n"
     ]
    },
    {
     "name": "stderr",
     "output_type": "stream",
     "text": [
      "C:\\Users\\svalb\\AppData\\Local\\Temp\\ipykernel_28964\\1864532111.py:17: DtypeWarning: Columns (13,14,15) have mixed types. Specify dtype option on import or set low_memory=False.\n",
      "  df = pd.read_csv(DF_input + csv)\n",
      " 58%|███████████████████████████████████████████████████████████████████████████████████████████████████▉                                                                         | 26/45 [04:50<03:53, 12.29s/it]"
     ]
    },
    {
     "name": "stdout",
     "output_type": "stream",
     "text": [
      "--Parsing time: 12.61\n",
      "Parsing csv: parsedX_3300000.csv, 27 / 45\n"
     ]
    },
    {
     "name": "stderr",
     "output_type": "stream",
     "text": [
      "C:\\Users\\svalb\\AppData\\Local\\Temp\\ipykernel_28964\\1864532111.py:17: DtypeWarning: Columns (13,14,15) have mixed types. Specify dtype option on import or set low_memory=False.\n",
      "  df = pd.read_csv(DF_input + csv)\n",
      " 60%|███████████████████████████████████████████████████████████████████████████████████████████████████████▊                                                                     | 27/45 [05:03<03:44, 12.49s/it]"
     ]
    },
    {
     "name": "stdout",
     "output_type": "stream",
     "text": [
      "--Parsing time: 12.97\n",
      "Parsing csv: parsedX_3400000.csv, 28 / 45\n"
     ]
    },
    {
     "name": "stderr",
     "output_type": "stream",
     "text": [
      "C:\\Users\\svalb\\AppData\\Local\\Temp\\ipykernel_28964\\1864532111.py:17: DtypeWarning: Columns (13,14,15) have mixed types. Specify dtype option on import or set low_memory=False.\n",
      "  df = pd.read_csv(DF_input + csv)\n",
      " 62%|███████████████████████████████████████████████████████████████████████████████████████████████████████████▋                                                                 | 28/45 [05:16<03:37, 12.78s/it]"
     ]
    },
    {
     "name": "stdout",
     "output_type": "stream",
     "text": [
      "--Parsing time: 13.47\n",
      "Parsing csv: parsedX_3500000.csv, 29 / 45\n"
     ]
    },
    {
     "name": "stderr",
     "output_type": "stream",
     "text": [
      " 64%|███████████████████████████████████████████████████████████████████████████████████████████████████████████████▍                                                             | 29/45 [05:30<03:27, 13.00s/it]"
     ]
    },
    {
     "name": "stdout",
     "output_type": "stream",
     "text": [
      "--Parsing time: 13.5\n",
      "Parsing csv: parsedX_3600000.csv, 30 / 45\n"
     ]
    },
    {
     "name": "stderr",
     "output_type": "stream",
     "text": [
      "C:\\Users\\svalb\\AppData\\Local\\Temp\\ipykernel_28964\\1864532111.py:17: DtypeWarning: Columns (13,14,15) have mixed types. Specify dtype option on import or set low_memory=False.\n",
      "  df = pd.read_csv(DF_input + csv)\n",
      " 67%|███████████████████████████████████████████████████████████████████████████████████████████████████████████████████▎                                                         | 30/45 [05:43<03:14, 12.99s/it]"
     ]
    },
    {
     "name": "stdout",
     "output_type": "stream",
     "text": [
      "--Parsing time: 12.96\n",
      "Parsing csv: parsedX_3700000.csv, 31 / 45\n"
     ]
    },
    {
     "name": "stderr",
     "output_type": "stream",
     "text": [
      " 69%|███████████████████████████████████████████████████████████████████████████████████████████████████████████████████████▏                                                     | 31/45 [05:56<03:02, 13.04s/it]"
     ]
    },
    {
     "name": "stdout",
     "output_type": "stream",
     "text": [
      "--Parsing time: 13.15\n",
      "Parsing csv: parsedX_3800000.csv, 32 / 45\n"
     ]
    },
    {
     "name": "stderr",
     "output_type": "stream",
     "text": [
      "C:\\Users\\svalb\\AppData\\Local\\Temp\\ipykernel_28964\\1864532111.py:17: DtypeWarning: Columns (13,14,15) have mixed types. Specify dtype option on import or set low_memory=False.\n",
      "  df = pd.read_csv(DF_input + csv)\n",
      " 71%|███████████████████████████████████████████████████████████████████████████████████████████████████████████████████████████                                                  | 32/45 [06:09<02:50, 13.08s/it]"
     ]
    },
    {
     "name": "stdout",
     "output_type": "stream",
     "text": [
      "--Parsing time: 13.17\n",
      "Parsing csv: parsedX_3900000.csv, 33 / 45\n"
     ]
    },
    {
     "name": "stderr",
     "output_type": "stream",
     "text": [
      "C:\\Users\\svalb\\AppData\\Local\\Temp\\ipykernel_28964\\1864532111.py:17: DtypeWarning: Columns (13,14,15) have mixed types. Specify dtype option on import or set low_memory=False.\n",
      "  df = pd.read_csv(DF_input + csv)\n",
      " 73%|██████████████████████████████████████████████████████████████████████████████████████████████████████████████████████████████▊                                              | 33/45 [06:22<02:37, 13.13s/it]"
     ]
    },
    {
     "name": "stdout",
     "output_type": "stream",
     "text": [
      "--Parsing time: 13.25\n",
      "Parsing csv: parsedX_400000.csv, 34 / 45\n"
     ]
    },
    {
     "name": "stderr",
     "output_type": "stream",
     "text": [
      "C:\\Users\\svalb\\AppData\\Local\\Temp\\ipykernel_28964\\1864532111.py:17: DtypeWarning: Columns (13,14,15) have mixed types. Specify dtype option on import or set low_memory=False.\n",
      "  df = pd.read_csv(DF_input + csv)\n",
      " 76%|██████████████████████████████████████████████████████████████████████████████████████████████████████████████████████████████████▋                                          | 34/45 [06:29<02:05, 11.37s/it]"
     ]
    },
    {
     "name": "stdout",
     "output_type": "stream",
     "text": [
      "--Parsing time: 7.26\n",
      "Parsing csv: parsedX_4000000.csv, 35 / 45\n"
     ]
    },
    {
     "name": "stderr",
     "output_type": "stream",
     "text": [
      " 78%|██████████████████████████████████████████████████████████████████████████████████████████████████████████████████████████████████████▌                                      | 35/45 [06:43<01:59, 11.92s/it]"
     ]
    },
    {
     "name": "stdout",
     "output_type": "stream",
     "text": [
      "--Parsing time: 13.21\n",
      "Parsing csv: parsedX_4100000.csv, 36 / 45\n"
     ]
    },
    {
     "name": "stderr",
     "output_type": "stream",
     "text": [
      "C:\\Users\\svalb\\AppData\\Local\\Temp\\ipykernel_28964\\1864532111.py:17: DtypeWarning: Columns (13,14,15) have mixed types. Specify dtype option on import or set low_memory=False.\n",
      "  df = pd.read_csv(DF_input + csv)\n",
      " 80%|██████████████████████████████████████████████████████████████████████████████████████████████████████████████████████████████████████████▍                                  | 36/45 [06:56<01:51, 12.38s/it]"
     ]
    },
    {
     "name": "stdout",
     "output_type": "stream",
     "text": [
      "--Parsing time: 13.44\n",
      "Parsing csv: parsedX_4200000.csv, 37 / 45\n"
     ]
    },
    {
     "name": "stderr",
     "output_type": "stream",
     "text": [
      "C:\\Users\\svalb\\AppData\\Local\\Temp\\ipykernel_28964\\1864532111.py:17: DtypeWarning: Columns (13,14,15) have mixed types. Specify dtype option on import or set low_memory=False.\n",
      "  df = pd.read_csv(DF_input + csv)\n",
      " 82%|██████████████████████████████████████████████████████████████████████████████████████████████████████████████████████████████████████████████▏                              | 37/45 [07:09<01:40, 12.61s/it]"
     ]
    },
    {
     "name": "stdout",
     "output_type": "stream",
     "text": [
      "--Parsing time: 13.16\n",
      "Parsing csv: parsedX_4300000.csv, 38 / 45\n"
     ]
    },
    {
     "name": "stderr",
     "output_type": "stream",
     "text": [
      "C:\\Users\\svalb\\AppData\\Local\\Temp\\ipykernel_28964\\1864532111.py:17: DtypeWarning: Columns (13,14,15) have mixed types. Specify dtype option on import or set low_memory=False.\n",
      "  df = pd.read_csv(DF_input + csv)\n",
      " 84%|██████████████████████████████████████████████████████████████████████████████████████████████████████████████████████████████████████████████████                           | 38/45 [07:23<01:30, 12.87s/it]"
     ]
    },
    {
     "name": "stdout",
     "output_type": "stream",
     "text": [
      "--Parsing time: 13.48\n",
      "Parsing csv: parsedX_4400000.csv, 39 / 45\n"
     ]
    },
    {
     "name": "stderr",
     "output_type": "stream",
     "text": [
      " 87%|█████████████████████████████████████████████████████████████████████████████████████████████████████████████████████████████████████████████████████▉                       | 39/45 [07:36<01:18, 13.07s/it]"
     ]
    },
    {
     "name": "stdout",
     "output_type": "stream",
     "text": [
      "--Parsing time: 13.52\n",
      "Parsing csv: parsedX_4454000.csv, 40 / 45\n"
     ]
    },
    {
     "name": "stderr",
     "output_type": "stream",
     "text": [
      " 89%|█████████████████████████████████████████████████████████████████████████████████████████████████████████████████████████████████████████████████████████▊                   | 40/45 [07:43<00:56, 11.27s/it]"
     ]
    },
    {
     "name": "stdout",
     "output_type": "stream",
     "text": [
      "--Parsing time: 7.06\n",
      "Parsing csv: parsedX_500000.csv, 41 / 45\n"
     ]
    },
    {
     "name": "stderr",
     "output_type": "stream",
     "text": [
      " 91%|█████████████████████████████████████████████████████████████████████████████████████████████████████████████████████████████████████████████████████████████▌               | 41/45 [07:53<00:43, 10.85s/it]"
     ]
    },
    {
     "name": "stdout",
     "output_type": "stream",
     "text": [
      "--Parsing time: 9.89\n",
      "Parsing csv: parsedX_600000.csv, 42 / 45\n"
     ]
    },
    {
     "name": "stderr",
     "output_type": "stream",
     "text": [
      " 93%|█████████████████████████████████████████████████████████████████████████████████████████████████████████████████████████████████████████████████████████████████▍           | 42/45 [08:03<00:31, 10.46s/it]"
     ]
    },
    {
     "name": "stdout",
     "output_type": "stream",
     "text": [
      "--Parsing time: 9.55\n",
      "Parsing csv: parsedX_700000.csv, 43 / 45\n"
     ]
    },
    {
     "name": "stderr",
     "output_type": "stream",
     "text": [
      " 96%|█████████████████████████████████████████████████████████████████████████████████████████████████████████████████████████████████████████████████████████████████████▎       | 43/45 [08:12<00:20, 10.22s/it]"
     ]
    },
    {
     "name": "stdout",
     "output_type": "stream",
     "text": [
      "--Parsing time: 9.65\n",
      "Parsing csv: parsedX_800000.csv, 44 / 45\n"
     ]
    },
    {
     "name": "stderr",
     "output_type": "stream",
     "text": [
      " 98%|█████████████████████████████████████████████████████████████████████████████████████████████████████████████████████████████████████████████████████████████████████████▏   | 44/45 [08:22<00:10, 10.08s/it]"
     ]
    },
    {
     "name": "stdout",
     "output_type": "stream",
     "text": [
      "--Parsing time: 9.76\n",
      "Parsing csv: parsedX_900000.csv, 45 / 45\n"
     ]
    },
    {
     "name": "stderr",
     "output_type": "stream",
     "text": [
      "100%|█████████████████████████████████████████████████████████████████████████████████████████████████████████████████████████████████████████████████████████████████████████████| 45/45 [08:32<00:00, 11.39s/it]"
     ]
    },
    {
     "name": "stdout",
     "output_type": "stream",
     "text": [
      "--Parsing time: 9.79\n"
     ]
    },
    {
     "name": "stderr",
     "output_type": "stream",
     "text": [
      "\n"
     ]
    }
   ],
   "source": [
    "# Manage log of parsed files\n",
    "path_parsed_csvs_cancer = DF_input+\"csv files with Cancer and Species binarized.txt\"\n",
    "if not os.path.exists(path_parsed_csvs_cancer):\n",
    "    open(path_parsed_csvs_cancer, 'a').close()\n",
    "\n",
    "parsed_csvs_cancer = []\n",
    "with open(path_parsed_csvs_cancer, \"r\") as f:\n",
    "    for line in f:\n",
    "        parsed_csvs_cancer.append(f)\n",
    "    \n",
    "for csv in tqdm(list_csvs):\n",
    "    if csv not in parsed_csvs_cancer:\n",
    "        start = time.time()\n",
    "        print(f\"Parsing csv: {csv}, {list_csvs.index(csv)+1} / {n_csvs}\")\n",
    "\n",
    "        # Import csv\n",
    "        df = pd.read_csv(DF_input + csv)\n",
    "\n",
    "        ## Binarize Cancer types\n",
    "        # Use Multilabel binarizer from scikit-learn\n",
    "        mlb = MultiLabelBinarizer()\n",
    "        \n",
    "        # Use the binarizer on the Cancer column\n",
    "        df_one_hot_cancer = pd.DataFrame(\n",
    "            mlb.fit_transform(df['Cancer'].astype(str)\n",
    "                              .str.strip(\"[]\")\n",
    "                              .str.split(\",\")\n",
    "                              .map(lambda x: [i.strip() for i in x])),\n",
    "            columns=mlb.classes_,\n",
    "            index=df.index)\n",
    "        \n",
    "        ## Rename the columns \n",
    "        # First column contains value 1 for articles with no found cancer\n",
    "        df_one_hot_cancer.columns.values[0] = \"Undetermined_Cancer\"\n",
    "\n",
    "        # Remove the '' from the names of the cancers\n",
    "        for col in df_one_hot_cancer.columns[1:]:\n",
    "            df_one_hot_cancer.rename(columns={col: col.strip(\"'\")}, inplace=True)\n",
    "\n",
    "        \n",
    "        ## Binarize Species\n",
    "        # Use Multilabel binarizer from scikit-learn\n",
    "        mlb = MultiLabelBinarizer()\n",
    "        \n",
    "        # Use the binarizer on the Cancer column\n",
    "        df_one_hot_species = pd.DataFrame(\n",
    "            mlb.fit_transform(df['Species'].astype(str)\n",
    "                              .str.strip(\"[]\")\n",
    "                              .str.split(\",\")\n",
    "                              .map(lambda x: [i.strip() for i in x])),\n",
    "            columns=mlb.classes_,\n",
    "            index=df.index)\n",
    "        \n",
    "        ## Rename the columns \n",
    "        # First column contains value 1 for articles with no found species\n",
    "        df_one_hot_species.columns.values[0] = \"Undetermined_Species\"\n",
    "\n",
    "        # Remove the '' from the names of the species\n",
    "        for col in df_one_hot_species.columns[1:]:\n",
    "            df_one_hot_species.rename(columns={col: col.strip(\"'\")}, inplace=True)\n",
    "\n",
    "        # Concatenate the data with the binarized columns\n",
    "        df_save = pd.concat([df, df_one_hot_cancer, df_one_hot_species], axis=1)\n",
    "\n",
    "        # Save df, add to parsed list, clean workspace\n",
    "        df_save.to_csv(DF_input+csv, index=False)\n",
    "        del df, df_one_hot_cancer, df_one_hot_species, mlb, df_save\n",
    "        parsed_csvs_cancer.append(csv)\n",
    "        with open(path_parsed_csvs_cancer, \"a\") as f:\n",
    "                f.write(csv+\"\\n\")\n",
    "        print(f\"--Parsing time: {round(time.time()-start, 2)}\")"
   ]
  }
 ],
 "metadata": {
  "kernelspec": {
   "display_name": "Python 3 (ipykernel)",
   "language": "python",
   "name": "python3"
  },
  "language_info": {
   "codemirror_mode": {
    "name": "ipython",
    "version": 3
   },
   "file_extension": ".py",
   "mimetype": "text/x-python",
   "name": "python",
   "nbconvert_exporter": "python",
   "pygments_lexer": "ipython3",
   "version": "3.13.2"
  }
 },
 "nbformat": 4,
 "nbformat_minor": 5
}
