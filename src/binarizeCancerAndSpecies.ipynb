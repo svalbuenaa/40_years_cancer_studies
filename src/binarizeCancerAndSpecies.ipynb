{
 "cells": [
  {
   "cell_type": "code",
   "execution_count": 13,
   "id": "d5818b93-99cc-4bc5-bf8a-8cb207caca81",
   "metadata": {},
   "outputs": [],
   "source": [
    "import os\n",
    "import pandas as pd\n",
    "import time\n",
    "from tqdm import tqdm\n",
    "tqdm.pandas()\n",
    "from sklearn.preprocessing import MultiLabelBinarizer"
   ]
  },
  {
   "cell_type": "code",
   "execution_count": 2,
   "id": "d3a1d802-d341-46f4-8b0d-de660f52ab05",
   "metadata": {},
   "outputs": [
    {
     "name": "stdin",
     "output_type": "stream",
     "text": [
      " C:\\Users\\svalb\\OneDrive\\Escritorio\\Data_40_years_cancer_studies\\parsedXMLs\\\n"
     ]
    }
   ],
   "source": [
    "DF_input = input().strip()"
   ]
  },
  {
   "cell_type": "code",
   "execution_count": 5,
   "id": "9da692f5-6ded-4e67-99db-04f0fb936034",
   "metadata": {},
   "outputs": [],
   "source": [
    "# Import list of csvs to parse\n",
    "list_csvs = []\n",
    "\n",
    "for file in os.listdir(DF_input):\n",
    "    if file[-4:] == \".csv\":\n",
    "        list_csvs.append(file)\n",
    "\n",
    "n_csvs = len(list_csvs)"
   ]
  },
  {
   "cell_type": "code",
   "execution_count": 15,
   "id": "71bd1005-b904-474a-9002-98b7c4303413",
   "metadata": {},
   "outputs": [],
   "source": [
    "def binarizeCancerType():\n",
    "    mlb = MultiLabelBinarizer()\n",
    "\n",
    "    df_one_hot_cancer_type = pd.DataFrame(mlb.fit_transform(df['Cancer'].astype(str)\n",
    "                                                              .str.strip(\"[]\")\n",
    "                                                              .str.split(\",\")\n",
    "                                                              .map(lambda x: [i.strip() for i in x])),\n",
    "                                          columns=mlb.classes_,\n",
    "                                          index=df.index)"
   ]
  },
  {
   "cell_type": "code",
   "execution_count": null,
   "id": "6502e76c-41dc-478f-af42-772d06e75de0",
   "metadata": {},
   "outputs": [
    {
     "name": "stdout",
     "output_type": "stream",
     "text": [
      "Parsing csv: parsedX_100000.csv, 1 / 45\n"
     ]
    },
    {
     "name": "stderr",
     "output_type": "stream",
     "text": [
      "  0%|                                                                                                                                                                       | 46/100000 [00:10<6:14:44,  4.45it/s]"
     ]
    }
   ],
   "source": [
    "# Manage log of parsed files\n",
    "path_parsed_csvs_cancer = DF_input+\"csv files with Cancer binarized.txt\"\n",
    "if not os.path.exists(path_parsed_csvs_cancer):\n",
    "    open(path_parsed_csvs_cancer, 'a').close()\n",
    "\n",
    "parsed_csvs_cancer = []\n",
    "with open(path_parsed_csvs_cancer, \"r\") as f:\n",
    "    for line in f:\n",
    "        parsed_csvs_cancer.append(f)\n",
    "    \n",
    "for csv in list_csvs:\n",
    "    if csv not in parsed_csvs_cancer:\n",
    "        start = time.time()\n",
    "        print(f\"Parsing csv: {csv}, {list_csvs.index(csv)+1} / {n_csvs}\")\n",
    "        df = pd.read_csv(DF_input + csv)\n",
    "        df_cancer_binarized = df.progress_apply(lambda row: binarizeCancerType(), axis=1).apply(pd.Series)\n",
    "        df = pd.concat([df, df_cancer_binarized], axis=1)\n",
    "        df.to_csv(DF_input+csv, index=False)\n",
    "        del df\n",
    "        parsed_csvs_cancer.append(csv)\n",
    "        with open(path_parsed_csvs_cancer, \"a\") as f:\n",
    "                f.write(csv+\"\\n\")\n",
    "        print(f\"--Parsing time: {round(time.time()-start, 2)}\")"
   ]
  },
  {
   "cell_type": "code",
   "execution_count": null,
   "id": "57d399f5-abe8-4540-b829-d01db2131cd3",
   "metadata": {},
   "outputs": [],
   "source": []
  }
 ],
 "metadata": {
  "kernelspec": {
   "display_name": "Python 3 (ipykernel)",
   "language": "python",
   "name": "python3"
  },
  "language_info": {
   "codemirror_mode": {
    "name": "ipython",
    "version": 3
   },
   "file_extension": ".py",
   "mimetype": "text/x-python",
   "name": "python",
   "nbconvert_exporter": "python",
   "pygments_lexer": "ipython3",
   "version": "3.13.2"
  }
 },
 "nbformat": 4,
 "nbformat_minor": 5
}
