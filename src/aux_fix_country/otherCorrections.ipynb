{
 "cells": [
  {
   "cell_type": "code",
   "execution_count": 1,
   "id": "a6b983d7-db7d-4d52-898d-aefdd000a01c",
   "metadata": {},
   "outputs": [],
   "source": [
    "import pandas as pd\n",
    "import os\n",
    "\n",
    "## A function used to update Country names cleanly is imported from another file in this project\n",
    "from aux_fix_country_utils import fix_country_from_text"
   ]
  },
  {
   "cell_type": "code",
   "execution_count": 3,
   "id": "dca7c7ac-7d2f-4cf4-95ae-0d837554ba27",
   "metadata": {},
   "outputs": [
    {
     "name": "stdin",
     "output_type": "stream",
     "text": [
      " C:\\Users\\svalb\\OneDrive\\Escritorio\\Data_40_years_cancer_studies\\parsedXMLs_base\\\n"
     ]
    }
   ],
   "source": [
    "DF_input_base = input().strip()"
   ]
  },
  {
   "cell_type": "code",
   "execution_count": 5,
   "id": "c72f7473-8cbf-4353-9a5a-f521b016cd7b",
   "metadata": {},
   "outputs": [
    {
     "name": "stdin",
     "output_type": "stream",
     "text": [
      " C:\\Users\\svalb\\OneDrive\\Escritorio\\Data_40_years_cancer_studies\\parsedXMLs_match_GLOBOCAN\\\n"
     ]
    }
   ],
   "source": [
    "DF_input_match_GLOBOCAN = input().strip()"
   ]
  },
  {
   "cell_type": "code",
   "execution_count": 6,
   "id": "8e03808c-7f5c-4ea1-abdb-1b0a35376bb8",
   "metadata": {},
   "outputs": [
    {
     "ename": "ImportError",
     "evalue": "cannot import name 'fix_country_from_text' from 'aux_fix_country_utils' (C:\\Users\\svalb\\OneDrive\\Documentos\\GitHub\\40_years_cancer_studies\\src\\aux_fix_country\\aux_fix_country_utils.py)",
     "output_type": "error",
     "traceback": [
      "\u001b[31m---------------------------------------------------------------------------\u001b[39m",
      "\u001b[31mImportError\u001b[39m                               Traceback (most recent call last)",
      "\u001b[36mCell\u001b[39m\u001b[36m \u001b[39m\u001b[32mIn[6]\u001b[39m\u001b[32m, line 1\u001b[39m\n\u001b[32m----> \u001b[39m\u001b[32m1\u001b[39m \u001b[38;5;28;01mfrom\u001b[39;00m\u001b[38;5;250m \u001b[39m\u001b[34;01maux_fix_country_utils\u001b[39;00m\u001b[38;5;250m \u001b[39m\u001b[38;5;28;01mimport\u001b[39;00m fix_country_from_text\n",
      "\u001b[31mImportError\u001b[39m: cannot import name 'fix_country_from_text' from 'aux_fix_country_utils' (C:\\Users\\svalb\\OneDrive\\Documentos\\GitHub\\40_years_cancer_studies\\src\\aux_fix_country\\aux_fix_country_utils.py)"
     ]
    }
   ],
   "source": [
    "from aux_fix_country_utils import fix_country_from_text"
   ]
  },
  {
   "cell_type": "code",
   "execution_count": null,
   "id": "12eb0858-f9d1-4b32-836e-21f415cc5e73",
   "metadata": {},
   "outputs": [],
   "source": []
  }
 ],
 "metadata": {
  "kernelspec": {
   "display_name": "Python 3 (ipykernel)",
   "language": "python",
   "name": "python3"
  },
  "language_info": {
   "codemirror_mode": {
    "name": "ipython",
    "version": 3
   },
   "file_extension": ".py",
   "mimetype": "text/x-python",
   "name": "python",
   "nbconvert_exporter": "python",
   "pygments_lexer": "ipython3",
   "version": "3.13.2"
  }
 },
 "nbformat": 4,
 "nbformat_minor": 5
}
