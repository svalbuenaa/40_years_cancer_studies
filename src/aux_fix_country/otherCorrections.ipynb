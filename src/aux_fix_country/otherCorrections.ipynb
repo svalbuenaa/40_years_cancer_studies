{
 "cells": [
  {
   "cell_type": "code",
   "execution_count": 87,
   "id": "a6b983d7-db7d-4d52-898d-aefdd000a01c",
   "metadata": {},
   "outputs": [],
   "source": [
    "import pandas as pd\n",
    "import os\n",
    "\n",
    "## A function used to update Country names cleanly is imported from another file in this project\n",
    "from aux_fix_country_utils import fix_country_from_text\n",
    "\n",
    "import warnings\n",
    "warnings.simplefilter(action='ignore', category=pd.errors.DtypeWarning)"
   ]
  },
  {
   "cell_type": "code",
   "execution_count": 6,
   "id": "dca7c7ac-7d2f-4cf4-95ae-0d837554ba27",
   "metadata": {},
   "outputs": [
    {
     "name": "stdin",
     "output_type": "stream",
     "text": [
      " C:\\Users\\svalb\\OneDrive\\Escritorio\\Data_40_years_cancer_studies\\parsedXMLs_base\\\n"
     ]
    }
   ],
   "source": [
    "DF_input_base = input().strip()"
   ]
  },
  {
   "cell_type": "code",
   "execution_count": 7,
   "id": "c72f7473-8cbf-4353-9a5a-f521b016cd7b",
   "metadata": {},
   "outputs": [
    {
     "name": "stdin",
     "output_type": "stream",
     "text": [
      " C:\\Users\\svalb\\OneDrive\\Escritorio\\Data_40_years_cancer_studies\\parsedXMLs_match_GLOBOCAN\\\n"
     ]
    }
   ],
   "source": [
    "DF_input_match_GLOBOCAN = input().strip()"
   ]
  },
  {
   "cell_type": "markdown",
   "id": "cb364c68-e244-4134-88a9-378a51046c33",
   "metadata": {},
   "source": [
    "## Note\n",
    "The following corrections are performed afer separating the articles' dataset in two copies, one in which the cancer and country names are untouched (base) and another in which cancer and country names are modified to match those in the Globocan dataset. Here corrections in both copies are performed."
   ]
  },
  {
   "cell_type": "markdown",
   "id": "e752c83a-3179-4ffd-9cb6-a19c0d459034",
   "metadata": {},
   "source": [
    "### Correcting *parsedX_100000.csv*"
   ]
  },
  {
   "cell_type": "code",
   "execution_count": 285,
   "id": "bfb9e647-41cc-4744-9cea-ba06e5af491b",
   "metadata": {},
   "outputs": [],
   "source": [
    "# Read csv\n",
    "df_parsedX_100000_base = pd.read_csv(DF_input_base + \"parsedX_100000.csv\")\n",
    "df_parsedX_100000_match_GLOBOCAN = pd.read_csv(DF_input_match_GLOBOCAN + \"parsedX_100000.csv\")"
   ]
  },
  {
   "cell_type": "code",
   "execution_count": 287,
   "id": "d1c6b339-1229-43b3-b462-fd2a34b2abb2",
   "metadata": {},
   "outputs": [],
   "source": [
    "## Replace found errors by true Country values\n",
    "\n",
    "df_parsedX_100000_base.loc[df_parsedX_100000_base[\"PMID\"] == 1522964, [\"Country\", \"Country_source\"]] = fix_country_from_text(\"Italy\")\n",
    "df_parsedX_100000_match_GLOBOCAN.loc[df_parsedX_100000_match_GLOBOCAN[\"PMID\"] == 1522964, [\"Country\", \"Country_source\"]] = fix_country_from_text(\"Italy\")\n",
    "\n",
    "df_parsedX_100000_base.loc[df_parsedX_100000_base[\"PMID\"] == 1318271, [\"Country\", \"Country_source\"]] = fix_country_from_text(\"France\")\n",
    "df_parsedX_100000_match_GLOBOCAN.loc[df_parsedX_100000_match_GLOBOCAN[\"PMID\"] == 1318271, [\"Country\", \"Country_source\"]] = fix_country_from_text(\"France\")\n",
    "\n",
    "df_parsedX_100000_base.loc[df_parsedX_100000_base[\"PMID\"] == 1525053, [\"Country\", \"Country_source\"]] = fix_country_from_text(\"Australia\")\n",
    "df_parsedX_100000_match_GLOBOCAN.loc[df_parsedX_100000_match_GLOBOCAN[\"PMID\"] == 1525053, [\"Country\", \"Country_source\"]] = fix_country_from_text(\"Australia\")\n",
    "\n",
    "df_parsedX_100000_base.loc[df_parsedX_100000_base[\"PMID\"] == 1586297, [\"Country\", \"Country_source\"]] = fix_country_from_text(\"Australia\")\n",
    "df_parsedX_100000_match_GLOBOCAN.loc[df_parsedX_100000_match_GLOBOCAN[\"PMID\"] == 1586297, [\"Country\", \"Country_source\"]] = fix_country_from_text(\"Australia\")\n",
    "\n",
    "df_parsedX_100000_base.loc[df_parsedX_100000_base[\"PMID\"] == 1703193, [\"Country\", \"Country_source\"]] = fix_country_from_text(\"France\")\n",
    "df_parsedX_100000_match_GLOBOCAN.loc[df_parsedX_100000_match_GLOBOCAN[\"PMID\"] == 1703193, [\"Country\", \"Country_source\"]] = fix_country_from_text(\"France\")\n",
    "\n",
    "df_parsedX_100000_base.loc[df_parsedX_100000_base[\"PMID\"] == 1768942, [\"Country\", \"Country_source\"]] = fix_country_from_text(\"France\")\n",
    "df_parsedX_100000_match_GLOBOCAN.loc[df_parsedX_100000_match_GLOBOCAN[\"PMID\"] == 1768942, [\"Country\", \"Country_source\"]] = fix_country_from_text(\"France\")\n",
    "\n",
    "df_parsedX_100000_base.loc[df_parsedX_100000_base[\"PMID\"] == 1772998, [\"Country\", \"Country_source\"]] = fix_country_from_text(\"Ireland\")\n",
    "df_parsedX_100000_match_GLOBOCAN.loc[df_parsedX_100000_match_GLOBOCAN[\"PMID\"] == 1772998, [\"Country\", \"Country_source\"]] = fix_country_from_text(\"Ireland\")\n",
    "\n",
    "df_parsedX_100000_base.loc[df_parsedX_100000_base[\"PMID\"] == 1874576, [\"Country\", \"Country_source\"]] = fix_country_from_text(\"France\")\n",
    "df_parsedX_100000_match_GLOBOCAN.loc[df_parsedX_100000_match_GLOBOCAN[\"PMID\"] == 1874576, [\"Country\", \"Country_source\"]] = fix_country_from_text(\"France\")\n",
    "\n",
    "#df_parsedX_100000_base.loc[df_parsedX_100000_base[\"PMID\"] == , [\"Country\", \"Country_source\"]] = fix_country_from_text(\"\")\n",
    "#df_parsedX_100000_match_GLOBOCAN.loc[df_parsedX_100000_match_GLOBOCAN[\"PMID\"] == , [\"Country\", \"Country_source\"]] = fix_country_from_text(\"\")"
   ]
  },
  {
   "cell_type": "code",
   "execution_count": 288,
   "id": "227ab189-6ec7-41b0-a8fa-c600199894b0",
   "metadata": {},
   "outputs": [],
   "source": [
    "df_parsedX_100000_base.to_csv(DF_input_base + \"parsedX_100000.csv\", index = False)\n",
    "df_parsedX_100000_match_GLOBOCAN.to_csv(DF_input_match_GLOBOCAN + \"parsedX_100000.csv\", index = False)\n",
    "\n",
    "del df_parsedX_100000_base\n",
    "del df_parsedX_100000_match_GLOBOCAN"
   ]
  },
  {
   "cell_type": "markdown",
   "id": "5e988dbb-a22a-4ab7-a5c5-c706a5de7244",
   "metadata": {},
   "source": [
    "### Correcting *parsedX_1000000.csv*"
   ]
  },
  {
   "cell_type": "code",
   "execution_count": 289,
   "id": "4a892e17-c75d-4360-95ee-e12abdcf97fb",
   "metadata": {},
   "outputs": [],
   "source": [
    "# Read csv\n",
    "df_parsedX_1000000_base = pd.read_csv(DF_input_base + \"parsedX_1000000.csv\")\n",
    "df_parsedX_1000000_match_GLOBOCAN = pd.read_csv(DF_input_match_GLOBOCAN + \"parsedX_1000000.csv\")"
   ]
  },
  {
   "cell_type": "code",
   "execution_count": 290,
   "id": "bdcd2222-30c6-4278-ba94-5a6b813de1b4",
   "metadata": {},
   "outputs": [],
   "source": [
    "## Replace found errors by true Country values\n",
    "\n",
    "df_parsedX_1000000_base.loc[df_parsedX_1000000_base[\"PMID\"] == 11721110, [\"Country\", \"Country_source\"]] = fix_country_from_text(\"United States\")\n",
    "df_parsedX_1000000_match_GLOBOCAN.loc[df_parsedX_1000000_match_GLOBOCAN[\"PMID\"] == 11721110, [\"Country\", \"Country_source\"]] = fix_country_from_text(\"United States\")\n",
    "\n",
    "df_parsedX_1000000_base.loc[df_parsedX_1000000_base[\"PMID\"] == 11309027, [\"Country\", \"Country_source\"]] = fix_country_from_text(\"Australia\")\n",
    "df_parsedX_1000000_match_GLOBOCAN.loc[df_parsedX_1000000_match_GLOBOCAN[\"PMID\"] == 11309027, [\"Country\", \"Country_source\"]] = fix_country_from_text(\"Australia\")\n",
    "\n",
    "df_parsedX_1000000_base.loc[df_parsedX_1000000_base[\"PMID\"] == 11450918, [\"Country\", \"Country_source\"]] = fix_country_from_text(\"Australia\")\n",
    "df_parsedX_1000000_match_GLOBOCAN.loc[df_parsedX_1000000_match_GLOBOCAN[\"PMID\"] == 11450918, [\"Country\", \"Country_source\"]] = fix_country_from_text(\"Australia\")\n",
    "\n",
    "df_parsedX_1000000_base.loc[df_parsedX_1000000_base[\"PMID\"] == 11468033, [\"Country\", \"Country_source\"]] = fix_country_from_text(\"France\")\n",
    "df_parsedX_1000000_match_GLOBOCAN.loc[df_parsedX_1000000_match_GLOBOCAN[\"PMID\"] == 11468033, [\"Country\", \"Country_source\"]] = fix_country_from_text(\"France\")\n",
    "\n",
    "df_parsedX_1000000_base.loc[df_parsedX_1000000_base[\"PMID\"] == 11593153, [\"Country\", \"Country_source\"]] = fix_country_from_text(\"France\")\n",
    "df_parsedX_1000000_match_GLOBOCAN.loc[df_parsedX_1000000_match_GLOBOCAN[\"PMID\"] == 11593153, [\"Country\", \"Country_source\"]] = fix_country_from_text(\"France\")\n",
    "\n",
    "df_parsedX_1000000_base.loc[df_parsedX_1000000_base[\"PMID\"] == 11680021, [\"Country\", \"Country_source\"]] = fix_country_from_text(\"Germany\")\n",
    "df_parsedX_1000000_match_GLOBOCAN.loc[df_parsedX_1000000_match_GLOBOCAN[\"PMID\"] == 11680021, [\"Country\", \"Country_source\"]] = fix_country_from_text(\"Germany\")\n",
    "\n",
    "df_parsedX_1000000_base.loc[df_parsedX_1000000_base[\"PMID\"] == 11917379, [\"Country\", \"Country_source\"]] = fix_country_from_text(\"France\")\n",
    "df_parsedX_1000000_match_GLOBOCAN.loc[df_parsedX_1000000_match_GLOBOCAN[\"PMID\"] == 11917379, [\"Country\", \"Country_source\"]] = fix_country_from_text(\"France\")\n",
    "\n",
    "df_parsedX_1000000_base.loc[df_parsedX_1000000_base[\"PMID\"] == 11956310, [\"Country\", \"Country_source\"]] = fix_country_from_text(\"Ireland\")\n",
    "df_parsedX_1000000_match_GLOBOCAN.loc[df_parsedX_1000000_match_GLOBOCAN[\"PMID\"] == 11956310, [\"Country\", \"Country_source\"]] = fix_country_from_text(\"Ireland\")\n",
    "\n",
    "df_parsedX_1000000_base.loc[df_parsedX_1000000_base[\"PMID\"] == 12016415, [\"Country\", \"Country_source\"]] = fix_country_from_text(\"France\")\n",
    "df_parsedX_1000000_match_GLOBOCAN.loc[df_parsedX_1000000_match_GLOBOCAN[\"PMID\"] == 12016415, [\"Country\", \"Country_source\"]] = fix_country_from_text(\"France\")\n",
    "\n",
    "df_parsedX_1000000_base.loc[df_parsedX_1000000_base[\"PMID\"] == 12058131, [\"Country\", \"Country_source\"]] = fix_country_from_text(\"France\")\n",
    "df_parsedX_1000000_match_GLOBOCAN.loc[df_parsedX_1000000_match_GLOBOCAN[\"PMID\"] == 12058131, [\"Country\", \"Country_source\"]] = fix_country_from_text(\"France\")\n",
    "\n",
    "df_parsedX_1000000_base.loc[df_parsedX_1000000_base[\"PMID\"] == 12108281, [\"Country\", \"Country_source\"]] = fix_country_from_text(\"France\")\n",
    "df_parsedX_1000000_match_GLOBOCAN.loc[df_parsedX_1000000_match_GLOBOCAN[\"PMID\"] == 12108281, [\"Country\", \"Country_source\"]] = fix_country_from_text(\"France\")\n",
    "\n",
    "#df_parsedX_1000000_base.loc[df_parsedX_1000000_base[\"PMID\"] == , [\"Country\", \"Country_source\"]] = fix_country_from_text(\"\")\n",
    "#df_parsedX_1000000_match_GLOBOCAN.loc[df_parsedX_1000000_match_GLOBOCAN[\"PMID\"] == , [\"Country\", \"Country_source\"]] = fix_country_from_text(\"\")\n",
    "\n",
    "#df_parsedX_1000000_base.loc[df_parsedX_1000000_base[\"PMID\"] == , [\"Country\", \"Country_source\"]] = fix_country_from_text(\"\")\n",
    "#df_parsedX_1000000_match_GLOBOCAN.loc[df_parsedX_1000000_match_GLOBOCAN[\"PMID\"] == , [\"Country\", \"Country_source\"]] = fix_country_from_text(\"\")"
   ]
  },
  {
   "cell_type": "code",
   "execution_count": 291,
   "id": "b51a8f59-77fb-4561-8bcb-ccf68896e1c8",
   "metadata": {},
   "outputs": [],
   "source": [
    "df_parsedX_1000000_base.to_csv(DF_input_base + \"parsedX_1000000.csv\", index = False)\n",
    "df_parsedX_1000000_match_GLOBOCAN.to_csv(DF_input_match_GLOBOCAN + \"parsedX_1000000.csv\", index = False)\n",
    "\n",
    "del df_parsedX_1000000_base\n",
    "del df_parsedX_1000000_match_GLOBOCAN"
   ]
  },
  {
   "cell_type": "markdown",
   "id": "412a3485-2c45-4889-ad25-753ccf99bd1b",
   "metadata": {},
   "source": [
    "### Correcting *parsedX_1100000.csv*"
   ]
  },
  {
   "cell_type": "code",
   "execution_count": 292,
   "id": "4b481f01-cc63-4a06-80d6-bb72c67a1dc8",
   "metadata": {},
   "outputs": [],
   "source": [
    "# Read csv\n",
    "df_parsedX_1100000_base = pd.read_csv(DF_input_base + \"parsedX_1100000.csv\")\n",
    "df_parsedX_1100000_match_GLOBOCAN = pd.read_csv(DF_input_match_GLOBOCAN + \"parsedX_1100000.csv\")"
   ]
  },
  {
   "cell_type": "code",
   "execution_count": 293,
   "id": "414980ca-49fe-48e7-bcc2-705941927a7d",
   "metadata": {},
   "outputs": [],
   "source": [
    "## Replace found errors by true Country values\n",
    "\n",
    "df_parsedX_1100000_base.loc[df_parsedX_1100000_base[\"PMID\"] == 12957547, [\"Country\", \"Country_source\"]] = fix_country_from_text(\"Brazil\")\n",
    "df_parsedX_1100000_match_GLOBOCAN.loc[df_parsedX_1100000_match_GLOBOCAN[\"PMID\"] == 12957547, [\"Country\", \"Country_source\"]] = fix_country_from_text(\"Brazil\")\n",
    "\n",
    "df_parsedX_1100000_base.loc[df_parsedX_1100000_base[\"PMID\"] == 12355183, [\"Country\", \"Country_source\"]] = fix_country_from_text(\"Argentina\")\n",
    "df_parsedX_1100000_match_GLOBOCAN.loc[df_parsedX_1100000_match_GLOBOCAN[\"PMID\"] == 12355183, [\"Country\", \"Country_source\"]] = fix_country_from_text(\"Argentina\")\n",
    "\n",
    "df_parsedX_1100000_base.loc[df_parsedX_1100000_base[\"PMID\"] == 12161378, [\"Country\", \"Country_source\"]] = fix_country_from_text(\"Italy\")\n",
    "df_parsedX_1100000_match_GLOBOCAN.loc[df_parsedX_1100000_match_GLOBOCAN[\"PMID\"] == 12161378, [\"Country\", \"Country_source\"]] = fix_country_from_text(\"Italy\")\n",
    "\n",
    "df_parsedX_1100000_base.loc[df_parsedX_1100000_base[\"PMID\"] == 12506764, [\"Country\", \"Country_source\"]] = fix_country_from_text(\"Austria\")\n",
    "df_parsedX_1100000_match_GLOBOCAN.loc[df_parsedX_1100000_match_GLOBOCAN[\"PMID\"] == 12506764, [\"Country\", \"Country_source\"]] = fix_country_from_text(\"Austria\")\n",
    "\n",
    "df_parsedX_1100000_base.loc[df_parsedX_1100000_base[\"PMID\"] == 12621853, [\"Country\", \"Country_source\"]] = fix_country_from_text(\"Austria\")\n",
    "df_parsedX_1100000_match_GLOBOCAN.loc[df_parsedX_1100000_match_GLOBOCAN[\"PMID\"] == 12621853, [\"Country\", \"Country_source\"]] = fix_country_from_text(\"Austria\")\n",
    "\n",
    "df_parsedX_1100000_base.loc[df_parsedX_1100000_base[\"PMID\"] == 12422048, [\"Country\", \"Country_source\"]] = fix_country_from_text(\"United States\")\n",
    "df_parsedX_1100000_match_GLOBOCAN.loc[df_parsedX_1100000_match_GLOBOCAN[\"PMID\"] == 12422048, [\"Country\", \"Country_source\"]] = fix_country_from_text(\"United States\")\n",
    "\n",
    "df_parsedX_1100000_base.loc[df_parsedX_1100000_base[\"PMID\"] == 12538984, [\"Country\", \"Country_source\"]] = fix_country_from_text(\"United States\")\n",
    "df_parsedX_1100000_match_GLOBOCAN.loc[df_parsedX_1100000_match_GLOBOCAN[\"PMID\"] == 12538984, [\"Country\", \"Country_source\"]] = fix_country_from_text(\"United States\")\n",
    "\n",
    "df_parsedX_1100000_base.loc[df_parsedX_1100000_base[\"PMID\"] == 12873172, [\"Country\", \"Country_source\"]] = fix_country_from_text(\"United States\")\n",
    "df_parsedX_1100000_match_GLOBOCAN.loc[df_parsedX_1100000_match_GLOBOCAN[\"PMID\"] == 12873172, [\"Country\", \"Country_source\"]] = fix_country_from_text(\"United States\")\n",
    "\n",
    "df_parsedX_1100000_base.loc[df_parsedX_1100000_base[\"PMID\"] == 12145848, [\"Country\", \"Country_source\"]] = fix_country_from_text(\"France\")\n",
    "df_parsedX_1100000_match_GLOBOCAN.loc[df_parsedX_1100000_match_GLOBOCAN[\"PMID\"] == 12145848, [\"Country\", \"Country_source\"]] = fix_country_from_text(\"France\")\n",
    "\n",
    "df_parsedX_1100000_base.loc[df_parsedX_1100000_base[\"PMID\"] == 12205789, [\"Country\", \"Country_source\"]] = fix_country_from_text(\"France\")\n",
    "df_parsedX_1100000_match_GLOBOCAN.loc[df_parsedX_1100000_match_GLOBOCAN[\"PMID\"] == 12205789, [\"Country\", \"Country_source\"]] = fix_country_from_text(\"France\")\n",
    "\n",
    "df_parsedX_1100000_base.loc[df_parsedX_1100000_base[\"PMID\"] == 12846424, [\"Country\", \"Country_source\"]] = fix_country_from_text(\"Australia\")\n",
    "df_parsedX_1100000_match_GLOBOCAN.loc[df_parsedX_1100000_match_GLOBOCAN[\"PMID\"] == 12846424, [\"Country\", \"Country_source\"]] = fix_country_from_text(\"Australia\")\n",
    "\n",
    "df_parsedX_1100000_base.loc[df_parsedX_1100000_base[\"PMID\"] == 12972519, [\"Country\", \"Country_source\"]] = fix_country_from_text(\"France\")\n",
    "df_parsedX_1100000_match_GLOBOCAN.loc[df_parsedX_1100000_match_GLOBOCAN[\"PMID\"] == 12972519, [\"Country\", \"Country_source\"]] = fix_country_from_text(\"France\")\n",
    "\n",
    "#df_parsedX_1100000_base.loc[df_parsedX_1100000_base[\"PMID\"] == , [\"Country\", \"Country_source\"]] = fix_country_from_text(\"\")\n",
    "#df_parsedX_1100000_match_GLOBOCAN.loc[df_parsedX_1100000_match_GLOBOCAN[\"PMID\"] == , [\"Country\", \"Country_source\"]] = fix_country_from_text(\"\")"
   ]
  },
  {
   "cell_type": "code",
   "execution_count": 294,
   "id": "89a3926a-fd10-4d9c-9fee-4773dcae85a4",
   "metadata": {},
   "outputs": [],
   "source": [
    "df_parsedX_1100000_base.to_csv(DF_input_base + \"parsedX_1100000.csv\", index = False)\n",
    "df_parsedX_1100000_match_GLOBOCAN.to_csv(DF_input_match_GLOBOCAN + \"parsedX_1100000.csv\", index = False)\n",
    "\n",
    "del df_parsedX_1100000_base\n",
    "del df_parsedX_1100000_match_GLOBOCAN"
   ]
  },
  {
   "cell_type": "markdown",
   "id": "dc2ac4d2-330e-4668-bb07-e67e105c5f68",
   "metadata": {},
   "source": [
    "### Correcting *parsedX_1200000.csv*"
   ]
  },
  {
   "cell_type": "code",
   "execution_count": 295,
   "id": "1f79692f-4200-4b1a-b32b-ebe02fea4f2d",
   "metadata": {},
   "outputs": [],
   "source": [
    "# Read csv\n",
    "df_parsedX_1200000_base = pd.read_csv(DF_input_base + \"parsedX_1200000.csv\")\n",
    "df_parsedX_1200000_match_GLOBOCAN = pd.read_csv(DF_input_match_GLOBOCAN + \"parsedX_1200000.csv\")"
   ]
  },
  {
   "cell_type": "code",
   "execution_count": 296,
   "id": "2b15b14f-9ccf-4cb8-8cf2-d73b34c98277",
   "metadata": {},
   "outputs": [],
   "source": [
    "## Replace found errors by true Country values\n",
    "\n",
    "df_parsedX_1200000_base.loc[df_parsedX_1200000_base[\"PMID\"] == 15481700, [\"Country\", \"Country_source\"]] = fix_country_from_text(\"Italy\")\n",
    "df_parsedX_1200000_match_GLOBOCAN.loc[df_parsedX_1200000_match_GLOBOCAN[\"PMID\"] == 15481700, [\"Country\", \"Country_source\"]] = fix_country_from_text(\"Italy\")\n",
    "\n",
    "df_parsedX_1200000_base.loc[df_parsedX_1200000_base[\"PMID\"] == 14696430, [\"Country\", \"Country_source\"]] = fix_country_from_text(\"Austria\")\n",
    "df_parsedX_1200000_match_GLOBOCAN.loc[df_parsedX_1200000_match_GLOBOCAN[\"PMID\"] == 14696430, [\"Country\", \"Country_source\"]] = fix_country_from_text(\"Austria\")\n",
    "\n",
    "df_parsedX_1200000_base.loc[df_parsedX_1200000_base[\"PMID\"] == 15067206, [\"Country\", \"Country_source\"]] = fix_country_from_text(\"United States\")\n",
    "df_parsedX_1200000_match_GLOBOCAN.loc[df_parsedX_1200000_match_GLOBOCAN[\"PMID\"] == 15067206, [\"Country\", \"Country_source\"]] = fix_country_from_text(\"United States\")\n",
    "\n",
    "df_parsedX_1200000_base.loc[df_parsedX_1200000_base[\"PMID\"] == 14586258, [\"Country\", \"Country_source\"]] = fix_country_from_text(\"France\")\n",
    "df_parsedX_1200000_match_GLOBOCAN.loc[df_parsedX_1200000_match_GLOBOCAN[\"PMID\"] == 14586258, [\"Country\", \"Country_source\"]] = fix_country_from_text(\"France\")\n",
    "\n",
    "df_parsedX_1200000_base.loc[df_parsedX_1200000_base[\"PMID\"] == 14600589, [\"Country\", \"Country_source\"]] = fix_country_from_text(\"Australia\")\n",
    "df_parsedX_1200000_match_GLOBOCAN.loc[df_parsedX_1200000_match_GLOBOCAN[\"PMID\"] == 14600589, [\"Country\", \"Country_source\"]] = fix_country_from_text(\"Australia\")\n",
    "\n",
    "df_parsedX_1200000_base.loc[df_parsedX_1200000_base[\"PMID\"] == 14968015, [\"Country\", \"Country_source\"]] = fix_country_from_text(\"France\")\n",
    "df_parsedX_1200000_match_GLOBOCAN.loc[df_parsedX_1200000_match_GLOBOCAN[\"PMID\"] == 14968015, [\"Country\", \"Country_source\"]] = fix_country_from_text(\"France\")\n",
    "\n",
    "df_parsedX_1200000_base.loc[df_parsedX_1200000_base[\"PMID\"] == 15022781, [\"Country\", \"Country_source\"]] = fix_country_from_text(\"France\")\n",
    "df_parsedX_1200000_match_GLOBOCAN.loc[df_parsedX_1200000_match_GLOBOCAN[\"PMID\"] == 15022781, [\"Country\", \"Country_source\"]] = fix_country_from_text(\"France\")\n",
    "\n",
    "df_parsedX_1200000_base.loc[df_parsedX_1200000_base[\"PMID\"] == 15027374, [\"Country\", \"Country_source\"]] = fix_country_from_text(\"France\")\n",
    "df_parsedX_1200000_match_GLOBOCAN.loc[df_parsedX_1200000_match_GLOBOCAN[\"PMID\"] == 15027374, [\"Country\", \"Country_source\"]] = fix_country_from_text(\"France\")\n",
    "\n",
    "df_parsedX_1200000_base.loc[df_parsedX_1200000_base[\"PMID\"] == 15036243, [\"Country\", \"Country_source\"]] = fix_country_from_text(\"Ireland\")\n",
    "df_parsedX_1200000_match_GLOBOCAN.loc[df_parsedX_1200000_match_GLOBOCAN[\"PMID\"] == 15036243, [\"Country\", \"Country_source\"]] = fix_country_from_text(\"Ireland\")\n",
    "\n",
    "df_parsedX_1200000_base.loc[df_parsedX_1200000_base[\"PMID\"] == 15039608, [\"Country\", \"Country_source\"]] = fix_country_from_text(\"Australia\")\n",
    "df_parsedX_1200000_match_GLOBOCAN.loc[df_parsedX_1200000_match_GLOBOCAN[\"PMID\"] == 15039608, [\"Country\", \"Country_source\"]] = fix_country_from_text(\"Australia\")\n",
    "\n",
    "df_parsedX_1200000_base.loc[df_parsedX_1200000_base[\"PMID\"] == 15204374, [\"Country\", \"Country_source\"]] = fix_country_from_text(\"Ireland\")\n",
    "df_parsedX_1200000_match_GLOBOCAN.loc[df_parsedX_1200000_match_GLOBOCAN[\"PMID\"] == 15204374, [\"Country\", \"Country_source\"]] = fix_country_from_text(\"Ireland\")\n",
    "\n",
    "df_parsedX_1200000_base.loc[df_parsedX_1200000_base[\"PMID\"] == 15204423, [\"Country\", \"Country_source\"]] = fix_country_from_text(\"Ireland\")\n",
    "df_parsedX_1200000_match_GLOBOCAN.loc[df_parsedX_1200000_match_GLOBOCAN[\"PMID\"] == 15204423, [\"Country\", \"Country_source\"]] = fix_country_from_text(\"Ireland\")\n",
    "\n",
    "df_parsedX_1200000_base.loc[df_parsedX_1200000_base[\"PMID\"] == 15351012, [\"Country\", \"Country_source\"]] = fix_country_from_text(\"France\")\n",
    "df_parsedX_1200000_match_GLOBOCAN.loc[df_parsedX_1200000_match_GLOBOCAN[\"PMID\"] == 15351012, [\"Country\", \"Country_source\"]] = fix_country_from_text(\"France\")\n",
    "\n",
    "df_parsedX_1200000_base.loc[df_parsedX_1200000_base[\"PMID\"] == 15357755, [\"Country\", \"Country_source\"]] = fix_country_from_text(\"Australia\")\n",
    "df_parsedX_1200000_match_GLOBOCAN.loc[df_parsedX_1200000_match_GLOBOCAN[\"PMID\"] == 15357755, [\"Country\", \"Country_source\"]] = fix_country_from_text(\"Australia\")\n",
    "\n",
    "df_parsedX_1200000_base.loc[df_parsedX_1200000_base[\"PMID\"] == 15365563, [\"Country\", \"Country_source\"]] = fix_country_from_text(\"Ireland\")\n",
    "df_parsedX_1200000_match_GLOBOCAN.loc[df_parsedX_1200000_match_GLOBOCAN[\"PMID\"] == 15365563, [\"Country\", \"Country_source\"]] = fix_country_from_text(\"Ireland\")\n",
    "\n",
    "df_parsedX_1200000_base.loc[df_parsedX_1200000_base[\"PMID\"] == 15380568, [\"Country\", \"Country_source\"]] = fix_country_from_text(\"Australia\")\n",
    "df_parsedX_1200000_match_GLOBOCAN.loc[df_parsedX_1200000_match_GLOBOCAN[\"PMID\"] == 15380568, [\"Country\", \"Country_source\"]] = fix_country_from_text(\"Australia\")\n",
    "\n",
    "df_parsedX_1200000_base.loc[df_parsedX_1200000_base[\"PMID\"] == 15545939, [\"Country\", \"Country_source\"]] = fix_country_from_text(\"France\")\n",
    "df_parsedX_1200000_match_GLOBOCAN.loc[df_parsedX_1200000_match_GLOBOCAN[\"PMID\"] == 15545939, [\"Country\", \"Country_source\"]] = fix_country_from_text(\"France\")\n",
    "\n",
    "#df_parsedX_1200000_base.loc[df_parsedX_1200000_base[\"PMID\"] == , [\"Country\", \"Country_source\"]] = fix_country_from_text(\"\")\n",
    "#df_parsedX_1200000_match_GLOBOCAN.loc[df_parsedX_1200000_match_GLOBOCAN[\"PMID\"] == , [\"Country\", \"Country_source\"]] = fix_country_from_text(\"\")\n",
    "\n",
    "#df_parsedX_1200000_base.loc[df_parsedX_1200000_base[\"PMID\"] == , [\"Country\", \"Country_source\"]] = fix_country_from_text(\"\")\n",
    "#df_parsedX_1200000_match_GLOBOCAN.loc[df_parsedX_1200000_match_GLOBOCAN[\"PMID\"] == , [\"Country\", \"Country_source\"]] = fix_country_from_text(\"\")"
   ]
  },
  {
   "cell_type": "code",
   "execution_count": 298,
   "id": "f11f9dad-97df-44c9-8ce9-a35127b57a2b",
   "metadata": {},
   "outputs": [
    {
     "ename": "NameError",
     "evalue": "name 'df_parsedX_1200000_base' is not defined",
     "output_type": "error",
     "traceback": [
      "\u001b[31m---------------------------------------------------------------------------\u001b[39m",
      "\u001b[31mNameError\u001b[39m                                 Traceback (most recent call last)",
      "\u001b[36mCell\u001b[39m\u001b[36m \u001b[39m\u001b[32mIn[298]\u001b[39m\u001b[32m, line 1\u001b[39m\n\u001b[32m----> \u001b[39m\u001b[32m1\u001b[39m df_parsedX_1200000_base.to_csv(DF_input_base + \u001b[33m\"\u001b[39m\u001b[33mparsedX_1200000.csv\u001b[39m\u001b[33m\"\u001b[39m, index = \u001b[38;5;28;01mFalse\u001b[39;00m)\n\u001b[32m      2\u001b[39m df_parsedX_1200000_match_GLOBOCAN.to_csv(DF_input_match_GLOBOCAN + \u001b[33m\"\u001b[39m\u001b[33mparsedX_1200000.csv\u001b[39m\u001b[33m\"\u001b[39m, index = \u001b[38;5;28;01mFalse\u001b[39;00m)\n\u001b[32m      4\u001b[39m \u001b[38;5;28;01mdel\u001b[39;00m df_parsedX_1200000_base\n",
      "\u001b[31mNameError\u001b[39m: name 'df_parsedX_1200000_base' is not defined"
     ]
    }
   ],
   "source": [
    "df_parsedX_1200000_base.to_csv(DF_input_base + \"parsedX_1200000.csv\", index = False)\n",
    "df_parsedX_1200000_match_GLOBOCAN.to_csv(DF_input_match_GLOBOCAN + \"parsedX_1200000.csv\", index = False)\n",
    "\n",
    "del df_parsedX_1200000_base\n",
    "del df_parsedX_1200000_match_GLOBOCAN"
   ]
  },
  {
   "cell_type": "markdown",
   "id": "57b2a684-ec30-4ffd-9811-21830d09696a",
   "metadata": {},
   "source": [
    "### Correcting *parsedX_1300000.csv*"
   ]
  },
  {
   "cell_type": "code",
   "execution_count": 299,
   "id": "ee395ecb-4204-49b6-b94e-6386de255432",
   "metadata": {},
   "outputs": [],
   "source": [
    "# Read csv\n",
    "df_parsedX_1300000_base = pd.read_csv(DF_input_base + \"parsedX_1300000.csv\")\n",
    "df_parsedX_1300000_match_GLOBOCAN = pd.read_csv(DF_input_match_GLOBOCAN + \"parsedX_1300000.csv\")"
   ]
  },
  {
   "cell_type": "code",
   "execution_count": 300,
   "id": "b85b6e66-28f7-4624-91a1-7726467e8109",
   "metadata": {},
   "outputs": [],
   "source": [
    "## Replace found errors by true Country values\n",
    "\n",
    "df_parsedX_1300000_base.loc[df_parsedX_1300000_base[\"PMID\"] == 16267798, [\"Country\", \"Country_source\"]] = fix_country_from_text(\"Italy\")\n",
    "df_parsedX_1300000_match_GLOBOCAN.loc[df_parsedX_1300000_match_GLOBOCAN[\"PMID\"] == 16267798, [\"Country\", \"Country_source\"]] = fix_country_from_text(\"Italy\")\n",
    "\n",
    "df_parsedX_1300000_base.loc[df_parsedX_1300000_base[\"PMID\"] == 15942562, [\"Country\", \"Country_source\"]] = fix_country_from_text(\"United States\")\n",
    "df_parsedX_1300000_match_GLOBOCAN.loc[df_parsedX_1300000_match_GLOBOCAN[\"PMID\"] == 15942562, [\"Country\", \"Country_source\"]] = fix_country_from_text(\"United States\")\n",
    "\n",
    "df_parsedX_1300000_base.loc[df_parsedX_1300000_base[\"PMID\"] == 15692413, [\"Country\", \"Country_source\"]] = fix_country_from_text(\"France\")\n",
    "df_parsedX_1300000_match_GLOBOCAN.loc[df_parsedX_1300000_match_GLOBOCAN[\"PMID\"] == 15692413, [\"Country\", \"Country_source\"]] = fix_country_from_text(\"France\")\n",
    "\n",
    "df_parsedX_1300000_base.loc[df_parsedX_1300000_base[\"PMID\"] == 15731292, [\"Country\", \"Country_source\"]] = fix_country_from_text(\"Ireland\")\n",
    "df_parsedX_1300000_match_GLOBOCAN.loc[df_parsedX_1300000_match_GLOBOCAN[\"PMID\"] == 15731292, [\"Country\", \"Country_source\"]] = fix_country_from_text(\"Ireland\")\n",
    "\n",
    "df_parsedX_1300000_base.loc[df_parsedX_1300000_base[\"PMID\"] == 15734139, [\"Country\", \"Country_source\"]] = fix_country_from_text(\"France\")\n",
    "df_parsedX_1300000_match_GLOBOCAN.loc[df_parsedX_1300000_match_GLOBOCAN[\"PMID\"] == 15734139, [\"Country\", \"Country_source\"]] = fix_country_from_text(\"France\")\n",
    "\n",
    "df_parsedX_1300000_base.loc[df_parsedX_1300000_base[\"PMID\"] == 15748131, [\"Country\", \"Country_source\"]] = fix_country_from_text(\"Australia\")\n",
    "df_parsedX_1300000_match_GLOBOCAN.loc[df_parsedX_1300000_match_GLOBOCAN[\"PMID\"] == 15748131, [\"Country\", \"Country_source\"]] = fix_country_from_text(\"Australia\")\n",
    "\n",
    "df_parsedX_1300000_base.loc[df_parsedX_1300000_base[\"PMID\"] == 15808448, [\"Country\", \"Country_source\"]] = fix_country_from_text(\"France\")\n",
    "df_parsedX_1300000_match_GLOBOCAN.loc[df_parsedX_1300000_match_GLOBOCAN[\"PMID\"] == 15808448, [\"Country\", \"Country_source\"]] = fix_country_from_text(\"France\")\n",
    "\n",
    "df_parsedX_1300000_base.loc[df_parsedX_1300000_base[\"PMID\"] == 15810157, [\"Country\", \"Country_source\"]] = fix_country_from_text(\"France\")\n",
    "df_parsedX_1300000_match_GLOBOCAN.loc[df_parsedX_1300000_match_GLOBOCAN[\"PMID\"] == 15810157, [\"Country\", \"Country_source\"]] = fix_country_from_text(\"France\")\n",
    "\n",
    "df_parsedX_1300000_base.loc[df_parsedX_1300000_base[\"PMID\"] == 16039103, [\"Country\", \"Country_source\"]] = fix_country_from_text(\"France\")\n",
    "df_parsedX_1300000_match_GLOBOCAN.loc[df_parsedX_1300000_match_GLOBOCAN[\"PMID\"] == 16039103, [\"Country\", \"Country_source\"]] = fix_country_from_text(\"France\")\n",
    "\n",
    "df_parsedX_1300000_base.loc[df_parsedX_1300000_base[\"PMID\"] == 16129520, [\"Country\", \"Country_source\"]] = fix_country_from_text(\"France\")\n",
    "df_parsedX_1300000_match_GLOBOCAN.loc[df_parsedX_1300000_match_GLOBOCAN[\"PMID\"] == 16129520, [\"Country\", \"Country_source\"]] = fix_country_from_text(\"France\")\n",
    "\n",
    "df_parsedX_1300000_base.loc[df_parsedX_1300000_base[\"PMID\"] == 16134302, [\"Country\", \"Country_source\"]] = fix_country_from_text(\"France\")\n",
    "df_parsedX_1300000_match_GLOBOCAN.loc[df_parsedX_1300000_match_GLOBOCAN[\"PMID\"] == 16134302, [\"Country\", \"Country_source\"]] = fix_country_from_text(\"France\")\n",
    "\n",
    "df_parsedX_1300000_base.loc[df_parsedX_1300000_base[\"PMID\"] == 16181454, [\"Country\", \"Country_source\"]] = fix_country_from_text(\"Australia\")\n",
    "df_parsedX_1300000_match_GLOBOCAN.loc[df_parsedX_1300000_match_GLOBOCAN[\"PMID\"] == 16181454, [\"Country\", \"Country_source\"]] = fix_country_from_text(\"Australia\")\n",
    "\n",
    "#df_parsedX_1300000_base.loc[df_parsedX_1300000_base[\"PMID\"] == , [\"Country\", \"Country_source\"]] = fix_country_from_text(\"\")\n",
    "#df_parsedX_1300000_match_GLOBOCAN.loc[df_parsedX_1300000_match_GLOBOCAN[\"PMID\"] == , [\"Country\", \"Country_source\"]] = fix_country_from_text(\"\")"
   ]
  },
  {
   "cell_type": "code",
   "execution_count": 301,
   "id": "4b3b1658-9377-41dd-a48d-ba526b18d3da",
   "metadata": {},
   "outputs": [],
   "source": [
    "df_parsedX_1300000_base.to_csv(DF_input_base + \"parsedX_1300000.csv\", index = False)\n",
    "df_parsedX_1300000_match_GLOBOCAN.to_csv(DF_input_match_GLOBOCAN + \"parsedX_1300000.csv\", index = False)\n",
    "\n",
    "del df_parsedX_1300000_base\n",
    "del df_parsedX_1300000_match_GLOBOCAN"
   ]
  },
  {
   "cell_type": "markdown",
   "id": "4dbdbd62-d4a4-4546-ac87-069ec230f881",
   "metadata": {},
   "source": [
    "### Correcting *parsedX_1400000.csv*"
   ]
  },
  {
   "cell_type": "code",
   "execution_count": 302,
   "id": "3448eb68-9a5f-4f6f-80ce-fcab47afc207",
   "metadata": {},
   "outputs": [],
   "source": [
    "# Read csv\n",
    "df_parsedX_1400000_base = pd.read_csv(DF_input_base + \"parsedX_1400000.csv\")\n",
    "df_parsedX_1400000_match_GLOBOCAN = pd.read_csv(DF_input_match_GLOBOCAN + \"parsedX_1400000.csv\")"
   ]
  },
  {
   "cell_type": "code",
   "execution_count": 303,
   "id": "798405d1-ad47-4e26-9876-3085abaf31c3",
   "metadata": {},
   "outputs": [],
   "source": [
    "## Replace found errors by true Country values\n",
    "\n",
    "df_parsedX_1400000_base.loc[df_parsedX_1400000_base[\"PMID\"] == 16715323, [\"Country\", \"Country_source\"]] = fix_country_from_text(\"Brazil\")\n",
    "df_parsedX_1400000_match_GLOBOCAN.loc[df_parsedX_1400000_match_GLOBOCAN[\"PMID\"] == 16715323, [\"Country\", \"Country_source\"]] = fix_country_from_text(\"Brazil\")\n",
    "\n",
    "df_parsedX_1400000_base.loc[df_parsedX_1400000_base[\"PMID\"] == 17007025, [\"Country\", \"Country_source\"]] = fix_country_from_text(\"Italy\")\n",
    "df_parsedX_1400000_match_GLOBOCAN.loc[df_parsedX_1400000_match_GLOBOCAN[\"PMID\"] == 17007025, [\"Country\", \"Country_source\"]] = fix_country_from_text(\"Italy\")\n",
    "\n",
    "df_parsedX_1400000_base.loc[df_parsedX_1400000_base[\"PMID\"] == 16340834, [\"Country\", \"Country_source\"]] = fix_country_from_text(\"Belgium\")\n",
    "df_parsedX_1400000_match_GLOBOCAN.loc[df_parsedX_1400000_match_GLOBOCAN[\"PMID\"] == 16340834, [\"Country\", \"Country_source\"]] = fix_country_from_text(\"Belgium\")\n",
    "\n",
    "df_parsedX_1400000_base.loc[df_parsedX_1400000_base[\"PMID\"] == 16482873, [\"Country\", \"Country_source\"]] = fix_country_from_text(\"Belgium\")\n",
    "df_parsedX_1400000_match_GLOBOCAN.loc[df_parsedX_1400000_match_GLOBOCAN[\"PMID\"] == 16482873, [\"Country\", \"Country_source\"]] = fix_country_from_text(\"Belgium\")\n",
    "\n",
    "df_parsedX_1400000_base.loc[df_parsedX_1400000_base[\"PMID\"] == 16642235, [\"Country\", \"Country_source\"]] = fix_country_from_text(\"Australia\")\n",
    "df_parsedX_1400000_match_GLOBOCAN.loc[df_parsedX_1400000_match_GLOBOCAN[\"PMID\"] == 16642235, [\"Country\", \"Country_source\"]] = fix_country_from_text(\"Australia\")\n",
    "\n",
    "df_parsedX_1400000_base.loc[df_parsedX_1400000_base[\"PMID\"] == 16697618, [\"Country\", \"Country_source\"]] = fix_country_from_text(\"France\")\n",
    "df_parsedX_1400000_match_GLOBOCAN.loc[df_parsedX_1400000_match_GLOBOCAN[\"PMID\"] == 16697618, [\"Country\", \"Country_source\"]] = fix_country_from_text(\"France\")\n",
    "\n",
    "df_parsedX_1400000_base.loc[df_parsedX_1400000_base[\"PMID\"] == 17030388, [\"Country\", \"Country_source\"]] = fix_country_from_text(\"France\")\n",
    "df_parsedX_1400000_match_GLOBOCAN.loc[df_parsedX_1400000_match_GLOBOCAN[\"PMID\"] == 17030388, [\"Country\", \"Country_source\"]] = fix_country_from_text(\"France\")\n",
    "\n",
    "df_parsedX_1400000_base.loc[df_parsedX_1400000_base[\"PMID\"] == 17091098, [\"Country\", \"Country_source\"]] = fix_country_from_text(\"Australia\")\n",
    "df_parsedX_1400000_match_GLOBOCAN.loc[df_parsedX_1400000_match_GLOBOCAN[\"PMID\"] == 17091098, [\"Country\", \"Country_source\"]] = fix_country_from_text(\"Australia\")\n",
    "\n",
    "#df_parsedX_1400000_base.loc[df_parsedX_1400000_base[\"PMID\"] == , [\"Country\", \"Country_source\"]] = fix_country_from_text(\"\")\n",
    "#df_parsedX_1400000_match_GLOBOCAN.loc[df_parsedX_1400000_match_GLOBOCAN[\"PMID\"] == , [\"Country\", \"Country_source\"]] = fix_country_from_text(\"\")"
   ]
  },
  {
   "cell_type": "code",
   "execution_count": 304,
   "id": "280d78be-58eb-4027-8512-cf8091bb5f13",
   "metadata": {},
   "outputs": [],
   "source": [
    "df_parsedX_1400000_base.to_csv(DF_input_base + \"parsedX_1400000.csv\", index = False)\n",
    "df_parsedX_1400000_match_GLOBOCAN.to_csv(DF_input_match_GLOBOCAN + \"parsedX_1400000.csv\", index = False)\n",
    "\n",
    "del df_parsedX_1400000_base\n",
    "del df_parsedX_1400000_match_GLOBOCAN"
   ]
  },
  {
   "cell_type": "markdown",
   "id": "025e9509-0be4-40ef-81f7-42e5cd628173",
   "metadata": {},
   "source": [
    "### Correcting *parsedX_1500000.csv*"
   ]
  },
  {
   "cell_type": "code",
   "execution_count": 305,
   "id": "ee3547cc-77b7-43d3-8d67-bf27d8b64b8e",
   "metadata": {},
   "outputs": [],
   "source": [
    "# Read csv\n",
    "df_parsedX_1500000_base = pd.read_csv(DF_input_base + \"parsedX_1500000.csv\")\n",
    "df_parsedX_1500000_match_GLOBOCAN = pd.read_csv(DF_input_match_GLOBOCAN + \"parsedX_1500000.csv\")"
   ]
  },
  {
   "cell_type": "code",
   "execution_count": 306,
   "id": "93684af9-34e9-43c1-9dd8-ef678c3af9f6",
   "metadata": {},
   "outputs": [],
   "source": [
    "## Replace found errors by true Country values\n",
    "\n",
    "df_parsedX_1500000_base.loc[df_parsedX_1500000_base[\"PMID\"] == 17406831, [\"Country\", \"Country_source\"]] = fix_country_from_text(\"Italy\")\n",
    "df_parsedX_1500000_match_GLOBOCAN.loc[df_parsedX_1500000_match_GLOBOCAN[\"PMID\"] == 17406831, [\"Country\", \"Country_source\"]] = fix_country_from_text(\"Italy\")\n",
    "\n",
    "df_parsedX_1500000_base.loc[df_parsedX_1500000_base[\"PMID\"] == 17927986, [\"Country\", \"Country_source\"]] = fix_country_from_text(\"Argentina\")\n",
    "df_parsedX_1500000_match_GLOBOCAN.loc[df_parsedX_1500000_match_GLOBOCAN[\"PMID\"] == 17927986, [\"Country\", \"Country_source\"]] = fix_country_from_text(\"Argentina\")\n",
    "\n",
    "df_parsedX_1500000_base.loc[df_parsedX_1500000_base[\"PMID\"] == 17383523, [\"Country\", \"Country_source\"]] = fix_country_from_text(\"United States\")\n",
    "df_parsedX_1500000_match_GLOBOCAN.loc[df_parsedX_1500000_match_GLOBOCAN[\"PMID\"] == 17383523, [\"Country\", \"Country_source\"]] = fix_country_from_text(\"United States\")\n",
    "\n",
    "df_parsedX_1500000_base.loc[df_parsedX_1500000_base[\"PMID\"] == 17389413, [\"Country\", \"Country_source\"]] = fix_country_from_text(\"United States\")\n",
    "df_parsedX_1500000_match_GLOBOCAN.loc[df_parsedX_1500000_match_GLOBOCAN[\"PMID\"] == 17389413, [\"Country\", \"Country_source\"]] = fix_country_from_text(\"United States\")\n",
    "\n",
    "df_parsedX_1500000_base.loc[df_parsedX_1500000_base[\"PMID\"] == 17479108, [\"Country\", \"Country_source\"]] = fix_country_from_text(\"Australia\")\n",
    "df_parsedX_1500000_match_GLOBOCAN.loc[df_parsedX_1500000_match_GLOBOCAN[\"PMID\"] == 17479108, [\"Country\", \"Country_source\"]] = fix_country_from_text(\"Australia\")\n",
    "\n",
    "df_parsedX_1500000_base.loc[df_parsedX_1500000_base[\"PMID\"] == 17596859, [\"Country\", \"Country_source\"]] = fix_country_from_text(\"France\")\n",
    "df_parsedX_1500000_match_GLOBOCAN.loc[df_parsedX_1500000_match_GLOBOCAN[\"PMID\"] == 17596859, [\"Country\", \"Country_source\"]] = fix_country_from_text(\"France\")\n",
    "\n",
    "df_parsedX_1500000_base.loc[df_parsedX_1500000_base[\"PMID\"] == 17702593, [\"Country\", \"Country_source\"]] = fix_country_from_text(\"France\")\n",
    "df_parsedX_1500000_match_GLOBOCAN.loc[df_parsedX_1500000_match_GLOBOCAN[\"PMID\"] == 17702593, [\"Country\", \"Country_source\"]] = fix_country_from_text(\"France\")\n",
    "\n",
    "df_parsedX_1500000_base.loc[df_parsedX_1500000_base[\"PMID\"] == 17932053, [\"Country\", \"Country_source\"]] = fix_country_from_text(\"Italy\")\n",
    "df_parsedX_1500000_match_GLOBOCAN.loc[df_parsedX_1500000_match_GLOBOCAN[\"PMID\"] == 17932053, [\"Country\", \"Country_source\"]] = fix_country_from_text(\"Italy\")\n",
    "\n",
    "df_parsedX_1500000_base.loc[df_parsedX_1500000_base[\"PMID\"] == 18080419, [\"Country\", \"Country_source\"]] = fix_country_from_text(\"France\")\n",
    "df_parsedX_1500000_match_GLOBOCAN.loc[df_parsedX_1500000_match_GLOBOCAN[\"PMID\"] == 18080419, [\"Country\", \"Country_source\"]] = fix_country_from_text(\"France\")\n",
    "\n",
    "#df_parsedX_1500000_base.loc[df_parsedX_1500000_base[\"PMID\"] == , [\"Country\", \"Country_source\"]] = fix_country_from_text(\"\")\n",
    "#df_parsedX_1500000_match_GLOBOCAN.loc[df_parsedX_1500000_match_GLOBOCAN[\"PMID\"] == , [\"Country\", \"Country_source\"]] = fix_country_from_text(\"\")"
   ]
  },
  {
   "cell_type": "code",
   "execution_count": 307,
   "id": "c8770966-9b36-40ed-9fe8-4558d2d39062",
   "metadata": {},
   "outputs": [],
   "source": [
    "df_parsedX_1500000_base.to_csv(DF_input_base + \"parsedX_1500000.csv\", index = False)\n",
    "df_parsedX_1500000_match_GLOBOCAN.to_csv(DF_input_match_GLOBOCAN + \"parsedX_1500000.csv\", index = False)\n",
    "\n",
    "del df_parsedX_1500000_base\n",
    "del df_parsedX_1500000_match_GLOBOCAN"
   ]
  },
  {
   "cell_type": "markdown",
   "id": "c95ec993-8ccf-4088-ad32-60311c0a199c",
   "metadata": {},
   "source": [
    "### Correcting *parsedX_1600000.csv*"
   ]
  },
  {
   "cell_type": "code",
   "execution_count": 309,
   "id": "94c485bf-bb07-4108-9fe8-e2310703e0e8",
   "metadata": {},
   "outputs": [],
   "source": [
    "# Read csv\n",
    "df_parsedX_1600000_base = pd.read_csv(DF_input_base + \"parsedX_1600000.csv\")\n",
    "df_parsedX_1600000_match_GLOBOCAN = pd.read_csv(DF_input_match_GLOBOCAN + \"parsedX_1600000.csv\")"
   ]
  },
  {
   "cell_type": "code",
   "execution_count": 310,
   "id": "374caddb-6a24-453b-b78b-d172a44d85c1",
   "metadata": {},
   "outputs": [],
   "source": [
    "## Replace found errors by true Country values\n",
    "\n",
    "df_parsedX_1600000_base.loc[df_parsedX_1600000_base[\"PMID\"] == 18228178, [\"Country\", \"Country_source\"]] = fix_country_from_text(\"United Kingdom\")\n",
    "df_parsedX_1600000_match_GLOBOCAN.loc[df_parsedX_1600000_match_GLOBOCAN[\"PMID\"] == 18228178, [\"Country\", \"Country_source\"]] = fix_country_from_text(\"United Kingdom\")\n",
    "\n",
    "df_parsedX_1600000_base.loc[df_parsedX_1600000_base[\"PMID\"] == 19011482, [\"Country\", \"Country_source\"]] = fix_country_from_text(\"Japan\")\n",
    "df_parsedX_1600000_match_GLOBOCAN.loc[df_parsedX_1600000_match_GLOBOCAN[\"PMID\"] == 19011482, [\"Country\", \"Country_source\"]] = fix_country_from_text(\"Japan\")\n",
    "\n",
    "df_parsedX_1600000_base.loc[df_parsedX_1600000_base[\"PMID\"] == 18365760, [\"Country\", \"Country_source\"]] = fix_country_from_text(\"Brazil\")\n",
    "df_parsedX_1600000_match_GLOBOCAN.loc[df_parsedX_1600000_match_GLOBOCAN[\"PMID\"] == 18365760, [\"Country\", \"Country_source\"]] = fix_country_from_text(\"Brazil\")\n",
    "\n",
    "df_parsedX_1600000_base.loc[df_parsedX_1600000_base[\"PMID\"] == 18977715, [\"Country\", \"Country_source\"]] = fix_country_from_text(\"Argentina\")\n",
    "df_parsedX_1600000_match_GLOBOCAN.loc[df_parsedX_1600000_match_GLOBOCAN[\"PMID\"] == 18977715, [\"Country\", \"Country_source\"]] = fix_country_from_text(\"Argentina\")\n",
    "\n",
    "df_parsedX_1600000_base.loc[df_parsedX_1600000_base[\"PMID\"] == 18408385, [\"Country\", \"Country_source\"]] = fix_country_from_text(\"United States\")\n",
    "df_parsedX_1600000_match_GLOBOCAN.loc[df_parsedX_1600000_match_GLOBOCAN[\"PMID\"] == 18408385, [\"Country\", \"Country_source\"]] = fix_country_from_text(\"United States\")\n",
    "\n",
    "df_parsedX_1600000_base.loc[df_parsedX_1600000_base[\"PMID\"] == 18380311, [\"Country\", \"Country_source\"]] = fix_country_from_text(\"France\")\n",
    "df_parsedX_1600000_match_GLOBOCAN.loc[df_parsedX_1600000_match_GLOBOCAN[\"PMID\"] == 18380311, [\"Country\", \"Country_source\"]] = fix_country_from_text(\"France\")\n",
    "\n",
    "df_parsedX_1600000_base.loc[df_parsedX_1600000_base[\"PMID\"] == 18456062, [\"Country\", \"Country_source\"]] = fix_country_from_text(\"France\")\n",
    "df_parsedX_1600000_match_GLOBOCAN.loc[df_parsedX_1600000_match_GLOBOCAN[\"PMID\"] == 18456062, [\"Country\", \"Country_source\"]] = fix_country_from_text(\"France\")\n",
    "\n",
    "df_parsedX_1600000_base.loc[df_parsedX_1600000_base[\"PMID\"] == 18538271, [\"Country\", \"Country_source\"]] = fix_country_from_text(\"France\")\n",
    "df_parsedX_1600000_match_GLOBOCAN.loc[df_parsedX_1600000_match_GLOBOCAN[\"PMID\"] == 18538271, [\"Country\", \"Country_source\"]] = fix_country_from_text(\"France\")\n",
    "\n",
    "df_parsedX_1600000_base.loc[df_parsedX_1600000_base[\"PMID\"] == 18557535, [\"Country\", \"Country_source\"]] = fix_country_from_text(\"Switzerland\")\n",
    "df_parsedX_1600000_match_GLOBOCAN.loc[df_parsedX_1600000_match_GLOBOCAN[\"PMID\"] == 18557535, [\"Country\", \"Country_source\"]] = fix_country_from_text(\"Switzerland\")\n",
    "\n",
    "df_parsedX_1600000_base.loc[df_parsedX_1600000_base[\"PMID\"] == 18588522, [\"Country\", \"Country_source\"]] = fix_country_from_text(\"Australia\")\n",
    "df_parsedX_1600000_match_GLOBOCAN.loc[df_parsedX_1600000_match_GLOBOCAN[\"PMID\"] == 18588522, [\"Country\", \"Country_source\"]] = fix_country_from_text(\"Australia\")\n",
    "\n",
    "df_parsedX_1600000_base.loc[df_parsedX_1600000_base[\"PMID\"] == 18604657, [\"Country\", \"Country_source\"]] = fix_country_from_text(\"Australia\")\n",
    "df_parsedX_1600000_match_GLOBOCAN.loc[df_parsedX_1600000_match_GLOBOCAN[\"PMID\"] == 18604657, [\"Country\", \"Country_source\"]] = fix_country_from_text(\"Australia\")\n",
    "\n",
    "df_parsedX_1600000_base.loc[df_parsedX_1600000_base[\"PMID\"] == 18656282, [\"Country\", \"Country_source\"]] = fix_country_from_text(\"Australia\")\n",
    "df_parsedX_1600000_match_GLOBOCAN.loc[df_parsedX_1600000_match_GLOBOCAN[\"PMID\"] == 18656282, [\"Country\", \"Country_source\"]] = fix_country_from_text(\"Australia\")\n",
    "\n",
    "df_parsedX_1600000_base.loc[df_parsedX_1600000_base[\"PMID\"] == 18807605, [\"Country\", \"Country_source\"]] = fix_country_from_text(\"Belgium\")\n",
    "df_parsedX_1600000_match_GLOBOCAN.loc[df_parsedX_1600000_match_GLOBOCAN[\"PMID\"] == 18807605, [\"Country\", \"Country_source\"]] = fix_country_from_text(\"Belgium\")\n",
    "\n",
    "df_parsedX_1600000_base.loc[df_parsedX_1600000_base[\"PMID\"] == 19031932, [\"Country\", \"Country_source\"]] = fix_country_from_text(\"Austria\")\n",
    "df_parsedX_1600000_match_GLOBOCAN.loc[df_parsedX_1600000_match_GLOBOCAN[\"PMID\"] == 19031932, [\"Country\", \"Country_source\"]] = fix_country_from_text(\"Austria\")\n",
    "\n",
    "#df_parsedX_1600000_base.loc[df_parsedX_1600000_base[\"PMID\"] == , [\"Country\", \"Country_source\"]] = fix_country_from_text(\"\")\n",
    "#df_parsedX_1600000_match_GLOBOCAN.loc[df_parsedX_1600000_match_GLOBOCAN[\"PMID\"] == , [\"Country\", \"Country_source\"]] = fix_country_from_text(\"\")"
   ]
  },
  {
   "cell_type": "code",
   "execution_count": 311,
   "id": "63b34f8b-ea2c-4a0a-a151-2140f731ffa4",
   "metadata": {},
   "outputs": [],
   "source": [
    "df_parsedX_1600000_base.to_csv(DF_input_base + \"parsedX_1600000.csv\", index = False)\n",
    "df_parsedX_1600000_match_GLOBOCAN.to_csv(DF_input_match_GLOBOCAN + \"parsedX_1600000.csv\", index = False)\n",
    "\n",
    "del df_parsedX_1600000_base\n",
    "del df_parsedX_1600000_match_GLOBOCAN"
   ]
  },
  {
   "cell_type": "markdown",
   "id": "61fe10a3-947b-4c72-85d1-5a6cf0de9adc",
   "metadata": {},
   "source": [
    "### Correcting *parsedX_1700000.csv*"
   ]
  },
  {
   "cell_type": "code",
   "execution_count": 312,
   "id": "dde99651-ef3b-4e9d-8c15-f110cbee9552",
   "metadata": {},
   "outputs": [],
   "source": [
    "# Read csv\n",
    "df_parsedX_1700000_base = pd.read_csv(DF_input_base + \"parsedX_1700000.csv\")\n",
    "df_parsedX_1700000_match_GLOBOCAN = pd.read_csv(DF_input_match_GLOBOCAN + \"parsedX_1700000.csv\")"
   ]
  },
  {
   "cell_type": "code",
   "execution_count": 313,
   "id": "c9ca6607-7298-4722-a0c1-ba742bc8237e",
   "metadata": {},
   "outputs": [],
   "source": [
    "## Replace found errors by true Country values\n",
    "\n",
    "df_parsedX_1700000_base.loc[df_parsedX_1700000_base[\"PMID\"] == 19046130, [\"Country\", \"Country_source\"]] = fix_country_from_text(\"Australia\")\n",
    "df_parsedX_1700000_match_GLOBOCAN.loc[df_parsedX_1700000_match_GLOBOCAN[\"PMID\"] == 19046130, [\"Country\", \"Country_source\"]] = fix_country_from_text(\"Australia\")\n",
    "\n",
    "df_parsedX_1700000_base.loc[df_parsedX_1700000_base[\"PMID\"] == 19051189, [\"Country\", \"Country_source\"]] = fix_country_from_text(\"Australia\")\n",
    "df_parsedX_1700000_match_GLOBOCAN.loc[df_parsedX_1700000_match_GLOBOCAN[\"PMID\"] == 19051189, [\"Country\", \"Country_source\"]] = fix_country_from_text(\"Australia\")\n",
    "\n",
    "df_parsedX_1700000_base.loc[df_parsedX_1700000_base[\"PMID\"] == 19061466, [\"Country\", \"Country_source\"]] = fix_country_from_text(\"Australia\")\n",
    "df_parsedX_1700000_match_GLOBOCAN.loc[df_parsedX_1700000_match_GLOBOCAN[\"PMID\"] == 19061466, [\"Country\", \"Country_source\"]] = fix_country_from_text(\"Australia\")\n",
    "\n",
    "df_parsedX_1700000_base.loc[df_parsedX_1700000_base[\"PMID\"] == 19075591, [\"Country\", \"Country_source\"]] = fix_country_from_text(\"Australia\")\n",
    "df_parsedX_1700000_match_GLOBOCAN.loc[df_parsedX_1700000_match_GLOBOCAN[\"PMID\"] == 19075591, [\"Country\", \"Country_source\"]] = fix_country_from_text(\"Australia\")\n",
    "\n",
    "df_parsedX_1700000_base.loc[df_parsedX_1700000_base[\"PMID\"] == 19126291, [\"Country\", \"Country_source\"]] = fix_country_from_text(\"Australia\")\n",
    "df_parsedX_1700000_match_GLOBOCAN.loc[df_parsedX_1700000_match_GLOBOCAN[\"PMID\"] == 19126291, [\"Country\", \"Country_source\"]] = fix_country_from_text(\"Australia\")\n",
    "\n",
    "df_parsedX_1700000_base.loc[df_parsedX_1700000_base[\"PMID\"] == 19168018, [\"Country\", \"Country_source\"]] = fix_country_from_text(\"France\")\n",
    "df_parsedX_1700000_match_GLOBOCAN.loc[df_parsedX_1700000_match_GLOBOCAN[\"PMID\"] == 19168018, [\"Country\", \"Country_source\"]] = fix_country_from_text(\"France\")\n",
    "\n",
    "df_parsedX_1700000_base.loc[df_parsedX_1700000_base[\"PMID\"] == 19178759, [\"Country\", \"Country_source\"]] = fix_country_from_text(\"Australia\")\n",
    "df_parsedX_1700000_match_GLOBOCAN.loc[df_parsedX_1700000_match_GLOBOCAN[\"PMID\"] == 19178759, [\"Country\", \"Country_source\"]] = fix_country_from_text(\"Australia\")\n",
    "\n",
    "df_parsedX_1700000_base.loc[df_parsedX_1700000_base[\"PMID\"] == 19268208, [\"Country\", \"Country_source\"]] = fix_country_from_text(\"France\")\n",
    "df_parsedX_1700000_match_GLOBOCAN.loc[df_parsedX_1700000_match_GLOBOCAN[\"PMID\"] == 19268208, [\"Country\", \"Country_source\"]] = fix_country_from_text(\"France\")\n",
    "\n",
    "df_parsedX_1700000_base.loc[df_parsedX_1700000_base[\"PMID\"] == 19326171, [\"Country\", \"Country_source\"]] = fix_country_from_text(\"Austria\")\n",
    "df_parsedX_1700000_match_GLOBOCAN.loc[df_parsedX_1700000_match_GLOBOCAN[\"PMID\"] == 19326171, [\"Country\", \"Country_source\"]] = fix_country_from_text(\"Austria\")\n",
    "\n",
    "df_parsedX_1700000_base.loc[df_parsedX_1700000_base[\"PMID\"] == 19479418, [\"Country\", \"Country_source\"]] = fix_country_from_text(\"Germany\")\n",
    "df_parsedX_1700000_match_GLOBOCAN.loc[df_parsedX_1700000_match_GLOBOCAN[\"PMID\"] == 19479418, [\"Country\", \"Country_source\"]] = fix_country_from_text(\"Germany\")\n",
    "\n",
    "df_parsedX_1700000_base.loc[df_parsedX_1700000_base[\"PMID\"] == 19647630, [\"Country\", \"Country_source\"]] = fix_country_from_text(\"United States\")\n",
    "df_parsedX_1700000_match_GLOBOCAN.loc[df_parsedX_1700000_match_GLOBOCAN[\"PMID\"] == 19647630, [\"Country\", \"Country_source\"]] = fix_country_from_text(\"United States\")\n",
    "\n",
    "df_parsedX_1700000_base.loc[df_parsedX_1700000_base[\"PMID\"] == 19760114, [\"Country\", \"Country_source\"]] = fix_country_from_text(\"Australia\")\n",
    "df_parsedX_1700000_match_GLOBOCAN.loc[df_parsedX_1700000_match_GLOBOCAN[\"PMID\"] == 19760114, [\"Country\", \"Country_source\"]] = fix_country_from_text(\"Australia\")\n",
    "\n",
    "df_parsedX_1700000_base.loc[df_parsedX_1700000_base[\"PMID\"] == 19801219, [\"Country\", \"Country_source\"]] = fix_country_from_text(\"Austria\")\n",
    "df_parsedX_1700000_match_GLOBOCAN.loc[df_parsedX_1700000_match_GLOBOCAN[\"PMID\"] == 19801219, [\"Country\", \"Country_source\"]] = fix_country_from_text(\"Austria\")\n",
    "\n",
    "df_parsedX_1700000_base.loc[df_parsedX_1700000_base[\"PMID\"] == 19824281, [\"Country\", \"Country_source\"]] = fix_country_from_text(\"Australia\")\n",
    "df_parsedX_1700000_match_GLOBOCAN.loc[df_parsedX_1700000_match_GLOBOCAN[\"PMID\"] == 19824281, [\"Country\", \"Country_source\"]] = fix_country_from_text(\"Australia\")\n",
    "\n",
    "#df_parsedX_1700000_base.loc[df_parsedX_1700000_base[\"PMID\"] == , [\"Country\", \"Country_source\"]] = fix_country_from_text(\"\")\n",
    "#df_parsedX_1700000_match_GLOBOCAN.loc[df_parsedX_1700000_match_GLOBOCAN[\"PMID\"] == , [\"Country\", \"Country_source\"]] = fix_country_from_text(\"\")"
   ]
  },
  {
   "cell_type": "code",
   "execution_count": 314,
   "id": "829f1e27-5f71-45fd-a865-426bb325ab0e",
   "metadata": {},
   "outputs": [],
   "source": [
    "df_parsedX_1700000_base.to_csv(DF_input_base + \"parsedX_1700000.csv\", index = False)\n",
    "df_parsedX_1700000_match_GLOBOCAN.to_csv(DF_input_match_GLOBOCAN + \"parsedX_1700000.csv\", index = False)\n",
    "\n",
    "del df_parsedX_1700000_base\n",
    "del df_parsedX_1700000_match_GLOBOCAN"
   ]
  },
  {
   "cell_type": "markdown",
   "id": "06b04148-8339-4361-aad7-8ecd8c85e598",
   "metadata": {},
   "source": [
    "### Correcting *parsedX_1800000.csv*"
   ]
  },
  {
   "cell_type": "code",
   "execution_count": 315,
   "id": "d64b3570-61a7-43c0-9e1b-e4d0782cebdf",
   "metadata": {},
   "outputs": [],
   "source": [
    "# Read csv\n",
    "df_parsedX_1800000_base = pd.read_csv(DF_input_base + \"parsedX_1800000.csv\")\n",
    "df_parsedX_1800000_match_GLOBOCAN = pd.read_csv(DF_input_match_GLOBOCAN + \"parsedX_1800000.csv\")"
   ]
  },
  {
   "cell_type": "code",
   "execution_count": 316,
   "id": "884e9e4f-0ade-4b4b-9cbb-c6fd151971ba",
   "metadata": {},
   "outputs": [],
   "source": [
    "## Replace found errors by true Country values\n",
    "\n",
    "df_parsedX_1800000_base.loc[df_parsedX_1800000_base[\"PMID\"] == 20704980, [\"Country\", \"Country_source\"]] = fix_country_from_text(\"United Kingdom\")\n",
    "df_parsedX_1800000_match_GLOBOCAN.loc[df_parsedX_1800000_match_GLOBOCAN[\"PMID\"] == 20704980, [\"Country\", \"Country_source\"]] = fix_country_from_text(\"United Kingdom\")\n",
    "\n",
    "df_parsedX_1800000_base.loc[df_parsedX_1800000_base[\"PMID\"] == 20116771, [\"Country\", \"Country_source\"]] = fix_country_from_text(\"Austria\")\n",
    "df_parsedX_1800000_match_GLOBOCAN.loc[df_parsedX_1800000_match_GLOBOCAN[\"PMID\"] == 20116771, [\"Country\", \"Country_source\"]] = fix_country_from_text(\"Austria\")\n",
    "\n",
    "df_parsedX_1800000_base.loc[df_parsedX_1800000_base[\"PMID\"] == 19858739, [\"Country\", \"Country_source\"]] = fix_country_from_text(\"United States\")\n",
    "df_parsedX_1800000_match_GLOBOCAN.loc[df_parsedX_1800000_match_GLOBOCAN[\"PMID\"] == 19858739, [\"Country\", \"Country_source\"]] = fix_country_from_text(\"United States\")\n",
    "\n",
    "df_parsedX_1800000_base.loc[df_parsedX_1800000_base[\"PMID\"] == 19858743, [\"Country\", \"Country_source\"]] = fix_country_from_text(\"United States\")\n",
    "df_parsedX_1800000_match_GLOBOCAN.loc[df_parsedX_1800000_match_GLOBOCAN[\"PMID\"] == 19858743, [\"Country\", \"Country_source\"]] = fix_country_from_text(\"United States\")\n",
    "\n",
    "df_parsedX_1800000_base.loc[df_parsedX_1800000_base[\"PMID\"] == 20651972, [\"Country\", \"Country_source\"]] = fix_country_from_text(\"United States\")\n",
    "df_parsedX_1800000_match_GLOBOCAN.loc[df_parsedX_1800000_match_GLOBOCAN[\"PMID\"] == 20651972, [\"Country\", \"Country_source\"]] = fix_country_from_text(\"United States\")\n",
    "\n",
    "df_parsedX_1800000_base.loc[df_parsedX_1800000_base[\"PMID\"] == 20079483, [\"Country\", \"Country_source\"]] = fix_country_from_text(\"France\")\n",
    "df_parsedX_1800000_match_GLOBOCAN.loc[df_parsedX_1800000_match_GLOBOCAN[\"PMID\"] == 20079483, [\"Country\", \"Country_source\"]] = fix_country_from_text(\"France\")\n",
    "\n",
    "df_parsedX_1800000_base.loc[df_parsedX_1800000_base[\"PMID\"] == 20177103, [\"Country\", \"Country_source\"]] = fix_country_from_text(\"Austria\")\n",
    "df_parsedX_1800000_match_GLOBOCAN.loc[df_parsedX_1800000_match_GLOBOCAN[\"PMID\"] == 20177103, [\"Country\", \"Country_source\"]] = fix_country_from_text(\"Austria\")\n",
    "\n",
    "df_parsedX_1800000_base.loc[df_parsedX_1800000_base[\"PMID\"] == 20399038, [\"Country\", \"Country_source\"]] = fix_country_from_text(\"France\")\n",
    "df_parsedX_1800000_match_GLOBOCAN.loc[df_parsedX_1800000_match_GLOBOCAN[\"PMID\"] == 20399038, [\"Country\", \"Country_source\"]] = fix_country_from_text(\"France\")\n",
    "\n",
    "df_parsedX_1800000_base.loc[df_parsedX_1800000_base[\"PMID\"] == 20423029, [\"Country\", \"Country_source\"]] = fix_country_from_text(\"France\")\n",
    "df_parsedX_1800000_match_GLOBOCAN.loc[df_parsedX_1800000_match_GLOBOCAN[\"PMID\"] == 20423029, [\"Country\", \"Country_source\"]] = fix_country_from_text(\"France\")\n",
    "\n",
    "df_parsedX_1800000_base.loc[df_parsedX_1800000_base[\"PMID\"] == 20423030, [\"Country\", \"Country_source\"]] = fix_country_from_text(\"France\")\n",
    "df_parsedX_1800000_match_GLOBOCAN.loc[df_parsedX_1800000_match_GLOBOCAN[\"PMID\"] == 20423030, [\"Country\", \"Country_source\"]] = fix_country_from_text(\"France\")\n",
    "\n",
    "df_parsedX_1800000_base.loc[df_parsedX_1800000_base[\"PMID\"] == 20423034, [\"Country\", \"Country_source\"]] = fix_country_from_text(\"France\")\n",
    "df_parsedX_1800000_match_GLOBOCAN.loc[df_parsedX_1800000_match_GLOBOCAN[\"PMID\"] == 20423034, [\"Country\", \"Country_source\"]] = fix_country_from_text(\"France\")\n",
    "\n",
    "df_parsedX_1800000_base.loc[df_parsedX_1800000_base[\"PMID\"] == 20423041, [\"Country\", \"Country_source\"]] = fix_country_from_text(\"France\")\n",
    "df_parsedX_1800000_match_GLOBOCAN.loc[df_parsedX_1800000_match_GLOBOCAN[\"PMID\"] == 20423041, [\"Country\", \"Country_source\"]] = fix_country_from_text(\"France\")\n",
    "\n",
    "df_parsedX_1800000_base.loc[df_parsedX_1800000_base[\"PMID\"] == 20594856, [\"Country\", \"Country_source\"]] = fix_country_from_text(\"Australia\")\n",
    "df_parsedX_1800000_match_GLOBOCAN.loc[df_parsedX_1800000_match_GLOBOCAN[\"PMID\"] == 20594856, [\"Country\", \"Country_source\"]] = fix_country_from_text(\"Australia\")\n",
    "\n",
    "df_parsedX_1800000_base.loc[df_parsedX_1800000_base[\"PMID\"] == 20607507, [\"Country\", \"Country_source\"]] = fix_country_from_text(\"Germany\")\n",
    "df_parsedX_1800000_match_GLOBOCAN.loc[df_parsedX_1800000_match_GLOBOCAN[\"PMID\"] == 20607507, [\"Country\", \"Country_source\"]] = fix_country_from_text(\"Germany\")\n",
    "\n",
    "df_parsedX_1800000_base.loc[df_parsedX_1800000_base[\"PMID\"] == 20690526, [\"Country\", \"Country_source\"]] = fix_country_from_text(\"Belgium\")\n",
    "df_parsedX_1800000_match_GLOBOCAN.loc[df_parsedX_1800000_match_GLOBOCAN[\"PMID\"] == 20690526, [\"Country\", \"Country_source\"]] = fix_country_from_text(\"Belgium\")\n",
    "\n",
    "#df_parsedX_1800000_base.loc[df_parsedX_1800000_base[\"PMID\"] == , [\"Country\", \"Country_source\"]] = fix_country_from_text(\"\")\n",
    "#df_parsedX_1800000_match_GLOBOCAN.loc[df_parsedX_1800000_match_GLOBOCAN[\"PMID\"] == , [\"Country\", \"Country_source\"]] = fix_country_from_text(\"\")"
   ]
  },
  {
   "cell_type": "code",
   "execution_count": 317,
   "id": "5e8b38d5-8d19-4ac7-8988-e1086ca04745",
   "metadata": {},
   "outputs": [],
   "source": [
    "df_parsedX_1800000_base.to_csv(DF_input_base + \"parsedX_1800000.csv\", index = False)\n",
    "df_parsedX_1800000_match_GLOBOCAN.to_csv(DF_input_match_GLOBOCAN + \"parsedX_1800000.csv\", index = False)\n",
    "\n",
    "del df_parsedX_1800000_base\n",
    "del df_parsedX_1800000_match_GLOBOCAN"
   ]
  },
  {
   "cell_type": "markdown",
   "id": "daac9927-4b12-4ebb-bd54-9d1101769557",
   "metadata": {},
   "source": [
    "### Correcting *parsedX_1900000.csv*"
   ]
  },
  {
   "cell_type": "code",
   "execution_count": 318,
   "id": "8bac8863-7f1d-4023-8522-b5ea9f748e67",
   "metadata": {},
   "outputs": [],
   "source": [
    "# Read csv\n",
    "df_parsedX_1900000_base = pd.read_csv(DF_input_base + \"parsedX_1900000.csv\")\n",
    "df_parsedX_1900000_match_GLOBOCAN = pd.read_csv(DF_input_match_GLOBOCAN + \"parsedX_1900000.csv\")"
   ]
  },
  {
   "cell_type": "code",
   "execution_count": 319,
   "id": "ed02f073-6412-4c2e-a651-67d1e6c40fe0",
   "metadata": {},
   "outputs": [],
   "source": [
    "## Replace found errors by true Country values\n",
    "\n",
    "df_parsedX_1900000_base.loc[df_parsedX_1900000_base[\"PMID\"] == 20979677, [\"Country\", \"Country_source\"]] = fix_country_from_text(\"Ireland\")\n",
    "df_parsedX_1900000_match_GLOBOCAN.loc[df_parsedX_1900000_match_GLOBOCAN[\"PMID\"] == 20979677, [\"Country\", \"Country_source\"]] = fix_country_from_text(\"Ireland\")\n",
    "\n",
    "df_parsedX_1900000_base.loc[df_parsedX_1900000_base[\"PMID\"] == 20981674, [\"Country\", \"Country_source\"]] = fix_country_from_text(\"Australia\")\n",
    "df_parsedX_1900000_match_GLOBOCAN.loc[df_parsedX_1900000_match_GLOBOCAN[\"PMID\"] == 20981674, [\"Country\", \"Country_source\"]] = fix_country_from_text(\"Australia\")\n",
    "\n",
    "df_parsedX_1900000_base.loc[df_parsedX_1900000_base[\"PMID\"] == 21353748, [\"Country\", \"Country_source\"]] = fix_country_from_text(\"France\")\n",
    "df_parsedX_1900000_match_GLOBOCAN.loc[df_parsedX_1900000_match_GLOBOCAN[\"PMID\"] == 21353748, [\"Country\", \"Country_source\"]] = fix_country_from_text(\"France\")\n",
    "\n",
    "df_parsedX_1900000_base.loc[df_parsedX_1900000_base[\"PMID\"] == 21389920, [\"Country\", \"Country_source\"]] = fix_country_from_text(\"Australia\")\n",
    "df_parsedX_1900000_match_GLOBOCAN.loc[df_parsedX_1900000_match_GLOBOCAN[\"PMID\"] == 21389920, [\"Country\", \"Country_source\"]] = fix_country_from_text(\"Australia\")\n",
    "\n",
    "df_parsedX_1900000_base.loc[df_parsedX_1900000_base[\"PMID\"] == 21513998, [\"Country\", \"Country_source\"]] = fix_country_from_text(\"Belgium\")\n",
    "df_parsedX_1900000_match_GLOBOCAN.loc[df_parsedX_1900000_match_GLOBOCAN[\"PMID\"] == 21513998, [\"Country\", \"Country_source\"]] = fix_country_from_text(\"Belgium\")\n",
    "\n",
    "df_parsedX_1900000_base.loc[df_parsedX_1900000_base[\"PMID\"] == 21577052, [\"Country\", \"Country_source\"]] = fix_country_from_text(\"Australia\")\n",
    "df_parsedX_1900000_match_GLOBOCAN.loc[df_parsedX_1900000_match_GLOBOCAN[\"PMID\"] == 21577052, [\"Country\", \"Country_source\"]] = fix_country_from_text(\"Australia\")\n",
    "\n",
    "#df_parsedX_1900000_base.loc[df_parsedX_1900000_base[\"PMID\"] == , [\"Country\", \"Country_source\"]] = fix_country_from_text(\"\")\n",
    "#df_parsedX_1900000_match_GLOBOCAN.loc[df_parsedX_1900000_match_GLOBOCAN[\"PMID\"] == , [\"Country\", \"Country_source\"]] = fix_country_from_text(\"\")"
   ]
  },
  {
   "cell_type": "code",
   "execution_count": 320,
   "id": "dd46d29b-fe80-4bc8-8bd2-0b27bb79c287",
   "metadata": {},
   "outputs": [],
   "source": [
    "df_parsedX_1900000_base.to_csv(DF_input_base + \"parsedX_1900000.csv\", index = False)\n",
    "df_parsedX_1900000_match_GLOBOCAN.to_csv(DF_input_match_GLOBOCAN + \"parsedX_1900000.csv\", index = False)\n",
    "\n",
    "del df_parsedX_1900000_base\n",
    "del df_parsedX_1900000_match_GLOBOCAN"
   ]
  },
  {
   "cell_type": "markdown",
   "id": "05d0d348-ce1d-44d9-b9e8-e9083055b4ab",
   "metadata": {},
   "source": [
    "### Correcting *parsedX_200000.csv*"
   ]
  },
  {
   "cell_type": "code",
   "execution_count": 321,
   "id": "e9ca7ba2-c1ea-4010-bfaf-429a850552da",
   "metadata": {},
   "outputs": [],
   "source": [
    "# Read csv\n",
    "df_parsedX_200000_base = pd.read_csv(DF_input_base + \"parsedX_200000.csv\")\n",
    "df_parsedX_200000_match_GLOBOCAN = pd.read_csv(DF_input_match_GLOBOCAN + \"parsedX_200000.csv\")"
   ]
  },
  {
   "cell_type": "code",
   "execution_count": null,
   "id": "a6f62394-2493-45d3-8fe7-54ffa38a50d5",
   "metadata": {},
   "outputs": [],
   "source": [
    "## Replace found errors by true Country values\n",
    "\n",
    "df_parsedX_200000_base.loc[df_parsedX_200000_base[\"PMID\"] == 1998100, [\"Country\", \"Country_source\"]] = fix_country_from_text(\"France\")\n",
    "df_parsedX_200000_match_GLOBOCAN.loc[df_parsedX_200000_match_GLOBOCAN[\"PMID\"] == 1998100, [\"Country\", \"Country_source\"]] = fix_country_from_text(\"France\")\n",
    "\n",
    "df_parsedX_200000_base.loc[df_parsedX_200000_base[\"PMID\"] == , [\"Country\", \"Country_source\"]] = fix_country_from_text(\"\")\n",
    "df_parsedX_200000_match_GLOBOCAN.loc[df_parsedX_200000_match_GLOBOCAN[\"PMID\"] == , [\"Country\", \"Country_source\"]] = fix_country_from_text(\"\")\n",
    "\n",
    "df_parsedX_200000_base.loc[df_parsedX_200000_base[\"PMID\"] == , [\"Country\", \"Country_source\"]] = fix_country_from_text(\"\")\n",
    "df_parsedX_200000_match_GLOBOCAN.loc[df_parsedX_200000_match_GLOBOCAN[\"PMID\"] == , [\"Country\", \"Country_source\"]] = fix_country_from_text(\"\")\n",
    "\n",
    "df_parsedX_200000_base.loc[df_parsedX_200000_base[\"PMID\"] == , [\"Country\", \"Country_source\"]] = fix_country_from_text(\"\")\n",
    "df_parsedX_200000_match_GLOBOCAN.loc[df_parsedX_200000_match_GLOBOCAN[\"PMID\"] == , [\"Country\", \"Country_source\"]] = fix_country_from_text(\"\")\n",
    "\n",
    "df_parsedX_200000_base.loc[df_parsedX_200000_base[\"PMID\"] == , [\"Country\", \"Country_source\"]] = fix_country_from_text(\"\")\n",
    "df_parsedX_200000_match_GLOBOCAN.loc[df_parsedX_200000_match_GLOBOCAN[\"PMID\"] == , [\"Country\", \"Country_source\"]] = fix_country_from_text(\"\")\n",
    "\n",
    "df_parsedX_200000_base.loc[df_parsedX_200000_base[\"PMID\"] == , [\"Country\", \"Country_source\"]] = fix_country_from_text(\"\")\n",
    "df_parsedX_200000_match_GLOBOCAN.loc[df_parsedX_200000_match_GLOBOCAN[\"PMID\"] == , [\"Country\", \"Country_source\"]] = fix_country_from_text(\"\")\n",
    "\n",
    "df_parsedX_200000_base.loc[df_parsedX_200000_base[\"PMID\"] == , [\"Country\", \"Country_source\"]] = fix_country_from_text(\"\")\n",
    "df_parsedX_200000_match_GLOBOCAN.loc[df_parsedX_200000_match_GLOBOCAN[\"PMID\"] == , [\"Country\", \"Country_source\"]] = fix_country_from_text(\"\")\n",
    "\n",
    "df_parsedX_200000_base.loc[df_parsedX_200000_base[\"PMID\"] == , [\"Country\", \"Country_source\"]] = fix_country_from_text(\"\")\n",
    "df_parsedX_200000_match_GLOBOCAN.loc[df_parsedX_200000_match_GLOBOCAN[\"PMID\"] == , [\"Country\", \"Country_source\"]] = fix_country_from_text(\"\")\n",
    "\n",
    "df_parsedX_200000_base.loc[df_parsedX_200000_base[\"PMID\"] == , [\"Country\", \"Country_source\"]] = fix_country_from_text(\"\")\n",
    "df_parsedX_200000_match_GLOBOCAN.loc[df_parsedX_200000_match_GLOBOCAN[\"PMID\"] == , [\"Country\", \"Country_source\"]] = fix_country_from_text(\"\")\n",
    "\n",
    "df_parsedX_200000_base.loc[df_parsedX_200000_base[\"PMID\"] == , [\"Country\", \"Country_source\"]] = fix_country_from_text(\"\")\n",
    "df_parsedX_200000_match_GLOBOCAN.loc[df_parsedX_200000_match_GLOBOCAN[\"PMID\"] == , [\"Country\", \"Country_source\"]] = fix_country_from_text(\"\")\n",
    "\n",
    "df_parsedX_200000_base.loc[df_parsedX_200000_base[\"PMID\"] == , [\"Country\", \"Country_source\"]] = fix_country_from_text(\"\")\n",
    "df_parsedX_200000_match_GLOBOCAN.loc[df_parsedX_200000_match_GLOBOCAN[\"PMID\"] == , [\"Country\", \"Country_source\"]] = fix_country_from_text(\"\")\n",
    "\n",
    "df_parsedX_200000_base.loc[df_parsedX_200000_base[\"PMID\"] == , [\"Country\", \"Country_source\"]] = fix_country_from_text(\"\")\n",
    "df_parsedX_200000_match_GLOBOCAN.loc[df_parsedX_200000_match_GLOBOCAN[\"PMID\"] == , [\"Country\", \"Country_source\"]] = fix_country_from_text(\"\")\n",
    "\n",
    "#df_parsedX_200000_base.loc[df_parsedX_200000_base[\"PMID\"] == , [\"Country\", \"Country_source\"]] = fix_country_from_text(\"\")\n",
    "#df_parsedX_200000_match_GLOBOCAN.loc[df_parsedX_200000_match_GLOBOCAN[\"PMID\"] == , [\"Country\", \"Country_source\"]] = fix_country_from_text(\"\")"
   ]
  },
  {
   "cell_type": "code",
   "execution_count": null,
   "id": "6ca5954e-1575-4909-a630-ff73ea897549",
   "metadata": {},
   "outputs": [],
   "source": [
    "df_parsedX_200000_base.to_csv(DF_input_base + \"parsedX_200000.csv\", index = False)\n",
    "df_parsedX_200000_match_GLOBOCAN.to_csv(DF_input_match_GLOBOCAN + \"parsedX_200000.csv\", index = False)\n",
    "\n",
    "del df_parsedX_200000_base\n",
    "del df_parsedX_200000_match_GLOBOCAN"
   ]
  },
  {
   "cell_type": "markdown",
   "id": "c47562fa-edd1-49bc-b619-c9c7bfa0a1f6",
   "metadata": {},
   "source": [
    "### Correcting *parsedX_2100000.csv*"
   ]
  },
  {
   "cell_type": "code",
   "execution_count": 222,
   "id": "d3d3b7b2-c650-490c-938f-a018e0a4b7ee",
   "metadata": {},
   "outputs": [],
   "source": [
    "# Read csv\n",
    "df_parsedX_2100000_base = pd.read_csv(DF_input_base + \"parsedX_2100000.csv\")\n",
    "df_parsedX_2100000_match_GLOBOCAN = pd.read_csv(DF_input_match_GLOBOCAN + \"parsedX_2100000.csv\")"
   ]
  },
  {
   "cell_type": "code",
   "execution_count": 224,
   "id": "36532d3a-f4c4-432a-b281-52228248b7cf",
   "metadata": {},
   "outputs": [],
   "source": [
    "## Replace found errors by true Country values\n",
    "\n",
    "df_parsedX_2100000_base.loc[df_parsedX_2100000_base[\"PMID\"] == 22504321, [\"Country\", \"Country_source\"]] = fix_country_from_text(\"United Kingdom\")\n",
    "df_parsedX_2100000_match_GLOBOCAN.loc[df_parsedX_2100000_match_GLOBOCAN[\"PMID\"] == 22504321, [\"Country\", \"Country_source\"]] = fix_country_from_text(\"United Kingdom\")\n",
    "\n",
    "df_parsedX_2100000_base.loc[df_parsedX_2100000_base[\"PMID\"] == 23150848, [\"Country\", \"Country_source\"]] = fix_country_from_text(\"United States\")\n",
    "df_parsedX_2100000_match_GLOBOCAN.loc[df_parsedX_2100000_match_GLOBOCAN[\"PMID\"] == 23150848, [\"Country\", \"Country_source\"]] = fix_country_from_text(\"United States\")\n",
    "\n",
    "#df_parsedX_2100000_base.loc[df_parsedX_2100000_base[\"PMID\"] == , [\"Country\", \"Country_source\"]] = fix_country_from_text(\"\")\n",
    "#df_parsedX_2100000_match_GLOBOCAN.loc[df_parsedX_2100000_match_GLOBOCAN[\"PMID\"] == , [\"Country\", \"Country_source\"]] = fix_country_from_text(\"\")"
   ]
  },
  {
   "cell_type": "code",
   "execution_count": 225,
   "id": "2ee51239-419a-4d3e-b446-b71d3a3864cb",
   "metadata": {},
   "outputs": [],
   "source": [
    "df_parsedX_2100000_base.to_csv(DF_input_base + \"parsedX_2100000.csv\", index = False)\n",
    "df_parsedX_2100000_match_GLOBOCAN.to_csv(DF_input_match_GLOBOCAN + \"parsedX_2100000.csv\", index = False)\n",
    "\n",
    "del df_parsedX_2100000_base\n",
    "del df_parsedX_2100000_match_GLOBOCAN"
   ]
  },
  {
   "cell_type": "markdown",
   "id": "bb53ab84-716c-49c8-b8a1-66ded63113d2",
   "metadata": {},
   "source": [
    "### Correcting *parsedX_2300000.csv*"
   ]
  },
  {
   "cell_type": "code",
   "execution_count": 50,
   "id": "bd30b0b8-1d68-42df-ad1e-1df15c789928",
   "metadata": {},
   "outputs": [
    {
     "name": "stderr",
     "output_type": "stream",
     "text": [
      "C:\\Users\\svalb\\AppData\\Local\\Temp\\ipykernel_53352\\2131202583.py:2: DtypeWarning: Columns (13,14,15) have mixed types. Specify dtype option on import or set low_memory=False.\n",
      "  df_parsedX_2300000_base = pd.read_csv(DF_input_base + \"parsedX_2300000.csv\")\n",
      "C:\\Users\\svalb\\AppData\\Local\\Temp\\ipykernel_53352\\2131202583.py:3: DtypeWarning: Columns (13,14,15) have mixed types. Specify dtype option on import or set low_memory=False.\n",
      "  df_parsedX_2300000_match_GLOBOCAN = pd.read_csv(DF_input_match_GLOBOCAN + \"parsedX_2300000.csv\")\n"
     ]
    }
   ],
   "source": [
    "# Read csv\n",
    "df_parsedX_2300000_base = pd.read_csv(DF_input_base + \"parsedX_2300000.csv\")\n",
    "df_parsedX_2300000_match_GLOBOCAN = pd.read_csv(DF_input_match_GLOBOCAN + \"parsedX_2300000.csv\")"
   ]
  },
  {
   "cell_type": "code",
   "execution_count": 51,
   "id": "f329114d-be31-47e0-924d-d7324023f7ac",
   "metadata": {},
   "outputs": [],
   "source": [
    "## Replace found errors by true Country values\n",
    "\n",
    "df_parsedX_2300000_base.loc[df_parsedX_2300000_base[\"PMID\"] == 24198623, [\"Country\", \"Country_source\"]] = fix_country_from_text(\"Austria\")\n",
    "df_parsedX_2300000_match_GLOBOCAN.loc[df_parsedX_2300000_match_GLOBOCAN[\"PMID\"] == 24198623, [\"Country\", \"Country_source\"]] = fix_country_from_text(\"Austria\")\n",
    "\n",
    "#df_parsedX_2300000_base.loc[df_parsedX_2300000_base[\"PMID\"] == , [\"Country\", \"Country_source\"]] = fix_country_from_text(\"\")\n",
    "#df_parsedX_2300000_match_GLOBOCAN.loc[df_parsedX_2300000_match_GLOBOCAN[\"PMID\"] == , [\"Country\", \"Country_source\"]] = fix_country_from_text(\"\")"
   ]
  },
  {
   "cell_type": "code",
   "execution_count": 52,
   "id": "2f1b85f3-b9af-435e-86f3-33b82d6e0f8f",
   "metadata": {},
   "outputs": [],
   "source": [
    "df_parsedX_2300000_base.to_csv(DF_input_base + \"parsedX_2300000.csv\", index = False)\n",
    "df_parsedX_2300000_match_GLOBOCAN.to_csv(DF_input_match_GLOBOCAN + \"parsedX_2300000.csv\", index = False)\n",
    "\n",
    "del df_parsedX_2300000_base\n",
    "del df_parsedX_2300000_match_GLOBOCAN"
   ]
  },
  {
   "cell_type": "markdown",
   "id": "bd2cefcf-2ba1-456e-9ab8-2cfac81b6b10",
   "metadata": {},
   "source": [
    "### Correcting *parsedX_2400000.csv*"
   ]
  },
  {
   "cell_type": "code",
   "execution_count": 226,
   "id": "45481232-b73c-4f4d-8a80-f61006ed954e",
   "metadata": {},
   "outputs": [],
   "source": [
    "# Read csv\n",
    "df_parsedX_2400000_base = pd.read_csv(DF_input_base + \"parsedX_2400000.csv\")\n",
    "df_parsedX_2400000_match_GLOBOCAN = pd.read_csv(DF_input_match_GLOBOCAN + \"parsedX_2400000.csv\")"
   ]
  },
  {
   "cell_type": "code",
   "execution_count": 227,
   "id": "5d5e4db9-0a06-46e1-af47-212c3d4484b3",
   "metadata": {},
   "outputs": [],
   "source": [
    "## Replace found errors by true Country values\n",
    "\n",
    "df_parsedX_2400000_base.loc[df_parsedX_2400000_base[\"PMID\"] == 24781824, [\"Country\", \"Country_source\"]] = fix_country_from_text(\"Brazil\")\n",
    "df_parsedX_2400000_match_GLOBOCAN.loc[df_parsedX_2400000_match_GLOBOCAN[\"PMID\"] == 24781824, [\"Country\", \"Country_source\"]] = fix_country_from_text(\"Brazil\")\n",
    "\n",
    "df_parsedX_2400000_base.loc[df_parsedX_2400000_base[\"PMID\"] == 25019046, [\"Country\", \"Country_source\"]] = fix_country_from_text(\"Brazil\")\n",
    "df_parsedX_2400000_match_GLOBOCAN.loc[df_parsedX_2400000_match_GLOBOCAN[\"PMID\"] == 25019046, [\"Country\", \"Country_source\"]] = fix_country_from_text(\"Brazil\")\n",
    "\n",
    "df_parsedX_2400000_base.loc[df_parsedX_2400000_base[\"PMID\"] == 25253429, [\"Country\", \"Country_source\"]] = fix_country_from_text(\"Brazil\")\n",
    "df_parsedX_2400000_match_GLOBOCAN.loc[df_parsedX_2400000_match_GLOBOCAN[\"PMID\"] == 25253429, [\"Country\", \"Country_source\"]] = fix_country_from_text(\"Brazil\")\n",
    "\n",
    "df_parsedX_2400000_base.loc[df_parsedX_2400000_base[\"PMID\"] == 24739432, [\"Country\", \"Country_source\"]] = fix_country_from_text(\"United States\")\n",
    "df_parsedX_2400000_match_GLOBOCAN.loc[df_parsedX_2400000_match_GLOBOCAN[\"PMID\"] == 24739432, [\"Country\", \"Country_source\"]] = fix_country_from_text(\"United States\")\n",
    "\n",
    "df_parsedX_2400000_base.loc[df_parsedX_2400000_base[\"PMID\"] == 25010257, [\"Country\", \"Country_source\"]] = fix_country_from_text(\"United States\")\n",
    "df_parsedX_2400000_match_GLOBOCAN.loc[df_parsedX_2400000_match_GLOBOCAN[\"PMID\"] == 25010257, [\"Country\", \"Country_source\"]] = fix_country_from_text(\"United States\")\n",
    "\n",
    "#df_parsedX_2400000_base.loc[df_parsedX_2400000_base[\"PMID\"] == , [\"Country\", \"Country_source\"]] = fix_country_from_text(\"\")\n",
    "#df_parsedX_2400000_match_GLOBOCAN.loc[df_parsedX_2400000_match_GLOBOCAN[\"PMID\"] == , [\"Country\", \"Country_source\"]] = fix_country_from_text(\"\")"
   ]
  },
  {
   "cell_type": "code",
   "execution_count": 228,
   "id": "37dcdfbb-3889-4bd4-8ca1-f0a3dafe60f5",
   "metadata": {},
   "outputs": [],
   "source": [
    "df_parsedX_2400000_base.to_csv(DF_input_base + \"parsedX_2400000.csv\", index = False)\n",
    "df_parsedX_2400000_match_GLOBOCAN.to_csv(DF_input_match_GLOBOCAN + \"parsedX_2400000.csv\", index = False)\n",
    "\n",
    "del df_parsedX_2400000_base\n",
    "del df_parsedX_2400000_match_GLOBOCAN"
   ]
  },
  {
   "cell_type": "markdown",
   "id": "cb9b2adc-a22c-49d5-80d8-9dfe4fcf8a43",
   "metadata": {},
   "source": [
    "### Correcting *parsedX_2500000.csv*"
   ]
  },
  {
   "cell_type": "code",
   "execution_count": 230,
   "id": "c1e7c815-6890-4d04-83d9-7dc6ce4f1ac6",
   "metadata": {},
   "outputs": [],
   "source": [
    "# Read csv\n",
    "df_parsedX_2500000_base = pd.read_csv(DF_input_base + \"parsedX_2500000.csv\")\n",
    "df_parsedX_2500000_match_GLOBOCAN = pd.read_csv(DF_input_match_GLOBOCAN + \"parsedX_2500000.csv\")"
   ]
  },
  {
   "cell_type": "code",
   "execution_count": 231,
   "id": "3f0f4eae-b5b2-43a0-85ee-a26db26f37f7",
   "metadata": {},
   "outputs": [],
   "source": [
    "## Replace found errors by true Country values\n",
    "\n",
    "df_parsedX_2500000_base.loc[df_parsedX_2500000_base[\"PMID\"] == 25936229, [\"Country\", \"Country_source\"]] = fix_country_from_text(\"United Kingdom\")\n",
    "df_parsedX_2500000_match_GLOBOCAN.loc[df_parsedX_2500000_match_GLOBOCAN[\"PMID\"] == 25936229, [\"Country\", \"Country_source\"]] = fix_country_from_text(\"United Kingdom\")\n",
    "\n",
    "df_parsedX_2500000_base.loc[df_parsedX_2500000_base[\"PMID\"] == 25575781, [\"Country\", \"Country_source\"]] = fix_country_from_text(\"Brazil\")\n",
    "df_parsedX_2500000_match_GLOBOCAN.loc[df_parsedX_2500000_match_GLOBOCAN[\"PMID\"] == 25575781, [\"Country\", \"Country_source\"]] = fix_country_from_text(\"Brazil\")\n",
    "\n",
    "df_parsedX_2500000_base.loc[df_parsedX_2500000_base[\"PMID\"] == 25569638, [\"Country\", \"Country_source\"]] = fix_country_from_text(\"Spain\")\n",
    "df_parsedX_2500000_match_GLOBOCAN.loc[df_parsedX_2500000_match_GLOBOCAN[\"PMID\"] == 25569638, [\"Country\", \"Country_source\"]] = fix_country_from_text(\"Spain\")\n",
    "\n",
    "df_parsedX_2500000_base.loc[df_parsedX_2500000_base[\"PMID\"] == 25420684, [\"Country\", \"Country_source\"]] = fix_country_from_text(\"United States\")\n",
    "df_parsedX_2500000_match_GLOBOCAN.loc[df_parsedX_2500000_match_GLOBOCAN[\"PMID\"] == 25420684, [\"Country\", \"Country_source\"]] = fix_country_from_text(\"United States\")\n",
    "\n",
    "df_parsedX_2500000_base.loc[df_parsedX_2500000_base[\"PMID\"] == 25420684, [\"Country\", \"Country_source\"]] = fix_country_from_text(\"United States\")\n",
    "df_parsedX_2500000_match_GLOBOCAN.loc[df_parsedX_2500000_match_GLOBOCAN[\"PMID\"] == 25634551, [\"Country\", \"Country_source\"]] = fix_country_from_text(\"United States\")\n",
    "\n",
    "#df_parsedX_2500000_base.loc[df_parsedX_2500000_base[\"PMID\"] == , [\"Country\", \"Country_source\"]] = fix_country_from_text(\"\")\n",
    "#df_parsedX_2500000_match_GLOBOCAN.loc[df_parsedX_2500000_match_GLOBOCAN[\"PMID\"] == , [\"Country\", \"Country_source\"]] = fix_country_from_text(\"\")"
   ]
  },
  {
   "cell_type": "code",
   "execution_count": 232,
   "id": "f670597b-925f-44af-bab3-aed12c63a5b8",
   "metadata": {},
   "outputs": [],
   "source": [
    "df_parsedX_2500000_base.to_csv(DF_input_base + \"parsedX_2500000.csv\", index = False)\n",
    "df_parsedX_2500000_match_GLOBOCAN.to_csv(DF_input_match_GLOBOCAN + \"parsedX_2500000.csv\", index = False)\n",
    "\n",
    "del df_parsedX_2500000_base\n",
    "del df_parsedX_2500000_match_GLOBOCAN"
   ]
  },
  {
   "cell_type": "markdown",
   "id": "d9ac65ff-aebd-481a-ab0d-901df3bb1cab",
   "metadata": {},
   "source": [
    "### Correcting *parsedX_2600000.csv*"
   ]
  },
  {
   "cell_type": "code",
   "execution_count": 233,
   "id": "cf013fab-e897-451a-a8d3-0c21a2041cfc",
   "metadata": {},
   "outputs": [],
   "source": [
    "# Read csv\n",
    "df_parsedX_2600000_base = pd.read_csv(DF_input_base + \"parsedX_2600000.csv\")\n",
    "df_parsedX_2600000_match_GLOBOCAN = pd.read_csv(DF_input_match_GLOBOCAN + \"parsedX_2600000.csv\")"
   ]
  },
  {
   "cell_type": "code",
   "execution_count": 234,
   "id": "43dc1757-6cba-40fc-8bb1-1834a69d18f7",
   "metadata": {},
   "outputs": [],
   "source": [
    "## Replace found errors by true Country values\n",
    "\n",
    "df_parsedX_2600000_base.loc[df_parsedX_2600000_base[\"PMID\"] == 26047983, [\"Country\", \"Country_source\"]] = fix_country_from_text(\"Canada\")\n",
    "df_parsedX_2600000_match_GLOBOCAN.loc[df_parsedX_2600000_match_GLOBOCAN[\"PMID\"] == 26047983, [\"Country\", \"Country_source\"]] = fix_country_from_text(\"Canada\")\n",
    "\n",
    "df_parsedX_2600000_base.loc[df_parsedX_2600000_base[\"PMID\"] == 26149098, [\"Country\", \"Country_source\"]] = fix_country_from_text(\"United States\")\n",
    "df_parsedX_2600000_match_GLOBOCAN.loc[df_parsedX_2600000_match_GLOBOCAN[\"PMID\"] == 26149098, [\"Country\", \"Country_source\"]] = fix_country_from_text(\"United States\")\n",
    "\n",
    "#df_parsedX_2600000_base.loc[df_parsedX_2600000_base[\"PMID\"] == , [\"Country\", \"Country_source\"]] = fix_country_from_text(\"\")\n",
    "#df_parsedX_2600000_match_GLOBOCAN.loc[df_parsedX_2600000_match_GLOBOCAN[\"PMID\"] == , [\"Country\", \"Country_source\"]] = fix_country_from_text(\"\")"
   ]
  },
  {
   "cell_type": "code",
   "execution_count": 235,
   "id": "6b43f0f8-c27b-40b8-b043-4cf14afb73c9",
   "metadata": {},
   "outputs": [],
   "source": [
    "df_parsedX_2600000_base.to_csv(DF_input_base + \"parsedX_2600000.csv\", index = False)\n",
    "df_parsedX_2600000_match_GLOBOCAN.to_csv(DF_input_match_GLOBOCAN + \"parsedX_2600000.csv\", index = False)\n",
    "\n",
    "del df_parsedX_2600000_base\n",
    "del df_parsedX_2600000_match_GLOBOCAN"
   ]
  },
  {
   "cell_type": "markdown",
   "id": "d2386601-364e-40b9-b156-a4976ffa1039",
   "metadata": {},
   "source": [
    "### Correcting *parsedX_2700000.csv*"
   ]
  },
  {
   "cell_type": "code",
   "execution_count": 236,
   "id": "638d3e89-debe-4231-abfb-f408e6cc6de6",
   "metadata": {},
   "outputs": [],
   "source": [
    "# Read csv\n",
    "df_parsedX_2700000_base = pd.read_csv(DF_input_base + \"parsedX_2700000.csv\")\n",
    "df_parsedX_2700000_match_GLOBOCAN = pd.read_csv(DF_input_match_GLOBOCAN + \"parsedX_2700000.csv\")"
   ]
  },
  {
   "cell_type": "code",
   "execution_count": 237,
   "id": "566da10e-12d0-409f-a945-bd860d0590dc",
   "metadata": {},
   "outputs": [],
   "source": [
    "## Replace found errors by true Country values\n",
    "\n",
    "df_parsedX_2700000_base.loc[df_parsedX_2700000_base[\"PMID\"] == 26974049, [\"Country\", \"Country_source\"]] = fix_country_from_text(\"United States\")\n",
    "df_parsedX_2700000_match_GLOBOCAN.loc[df_parsedX_2700000_match_GLOBOCAN[\"PMID\"] == 26974049, [\"Country\", \"Country_source\"]] = fix_country_from_text(\"United States\")\n",
    "\n",
    "df_parsedX_2700000_base.loc[df_parsedX_2700000_base[\"PMID\"] == 27292875, [\"Country\", \"Country_source\"]] = fix_country_from_text(\"United States\")\n",
    "df_parsedX_2700000_match_GLOBOCAN.loc[df_parsedX_2700000_match_GLOBOCAN[\"PMID\"] == 27292875, [\"Country\", \"Country_source\"]] = fix_country_from_text(\"United States\")\n",
    "\n",
    "#df_parsedX_2700000_base.loc[df_parsedX_2700000_base[\"PMID\"] == , [\"Country\", \"Country_source\"]] = fix_country_from_text(\"\")\n",
    "#df_parsedX_2700000_match_GLOBOCAN.loc[df_parsedX_2700000_match_GLOBOCAN[\"PMID\"] == , [\"Country\", \"Country_source\"]] = fix_country_from_text(\"\")"
   ]
  },
  {
   "cell_type": "code",
   "execution_count": 238,
   "id": "387e05cf-5af7-4c3d-8269-35d44ea5bad5",
   "metadata": {},
   "outputs": [],
   "source": [
    "df_parsedX_2700000_base.to_csv(DF_input_base + \"parsedX_2700000.csv\", index = False)\n",
    "df_parsedX_2700000_match_GLOBOCAN.to_csv(DF_input_match_GLOBOCAN + \"parsedX_2700000.csv\", index = False)\n",
    "\n",
    "del df_parsedX_2700000_base\n",
    "del df_parsedX_2700000_match_GLOBOCAN"
   ]
  },
  {
   "cell_type": "markdown",
   "id": "e7070848-f34d-4612-b2a9-72a5578f5bcc",
   "metadata": {},
   "source": [
    "### Correcting *parsedX_2800000.csv*"
   ]
  },
  {
   "cell_type": "code",
   "execution_count": 239,
   "id": "35d83f38-4e4b-42f6-b493-ab35abc74c26",
   "metadata": {},
   "outputs": [],
   "source": [
    "# Read csv\n",
    "df_parsedX_2800000_base = pd.read_csv(DF_input_base + \"parsedX_2800000.csv\")\n",
    "df_parsedX_2800000_match_GLOBOCAN = pd.read_csv(DF_input_match_GLOBOCAN + \"parsedX_2800000.csv\")"
   ]
  },
  {
   "cell_type": "code",
   "execution_count": 240,
   "id": "0cc13210-e9a2-40e5-bf1d-7f7f507d3230",
   "metadata": {},
   "outputs": [],
   "source": [
    "## Replace found errors by true Country values\n",
    "\n",
    "df_parsedX_2800000_base.loc[df_parsedX_2800000_base[\"PMID\"] == 28198377, [\"Country\", \"Country_source\"]] = fix_country_from_text(\"Brazil\")\n",
    "df_parsedX_2800000_match_GLOBOCAN.loc[df_parsedX_2800000_match_GLOBOCAN[\"PMID\"] == 28198377, [\"Country\", \"Country_source\"]] = fix_country_from_text(\"Brazil\")\n",
    "\n",
    "df_parsedX_2800000_base.loc[df_parsedX_2800000_base[\"PMID\"] == 27665490, [\"Country\", \"Country_source\"]] = fix_country_from_text(\"United States\")\n",
    "df_parsedX_2800000_match_GLOBOCAN.loc[df_parsedX_2800000_match_GLOBOCAN[\"PMID\"] == 27665490, [\"Country\", \"Country_source\"]] = fix_country_from_text(\"United States\")\n",
    "\n",
    "#df_parsedX_2800000_base.loc[df_parsedX_2800000_base[\"PMID\"] == , [\"Country\", \"Country_source\"]] = fix_country_from_text(\"\")\n",
    "#df_parsedX_2800000_match_GLOBOCAN.loc[df_parsedX_2800000_match_GLOBOCAN[\"PMID\"] == , [\"Country\", \"Country_source\"]] = fix_country_from_text(\"\")"
   ]
  },
  {
   "cell_type": "code",
   "execution_count": 241,
   "id": "b4da83b5-fc84-49c3-b615-4c56917ee024",
   "metadata": {},
   "outputs": [],
   "source": [
    "df_parsedX_2800000_base.to_csv(DF_input_base + \"parsedX_2800000.csv\", index = False)\n",
    "df_parsedX_2800000_match_GLOBOCAN.to_csv(DF_input_match_GLOBOCAN + \"parsedX_2800000.csv\", index = False)\n",
    "\n",
    "del df_parsedX_2800000_base\n",
    "del df_parsedX_2800000_match_GLOBOCAN"
   ]
  },
  {
   "cell_type": "markdown",
   "id": "04847a96-e3eb-4e6c-82c9-c7b360fa4f79",
   "metadata": {},
   "source": [
    "### Correcting *parsedX_2900000.csv*"
   ]
  },
  {
   "cell_type": "code",
   "execution_count": 242,
   "id": "02955230-3d80-4894-ab40-b76a40b90f5e",
   "metadata": {},
   "outputs": [],
   "source": [
    "# Read csv\n",
    "df_parsedX_2900000_base = pd.read_csv(DF_input_base + \"parsedX_2900000.csv\")\n",
    "df_parsedX_2900000_match_GLOBOCAN = pd.read_csv(DF_input_match_GLOBOCAN + \"parsedX_2900000.csv\")"
   ]
  },
  {
   "cell_type": "code",
   "execution_count": 243,
   "id": "dfe453a5-1768-4f2e-9055-130a1333c4df",
   "metadata": {},
   "outputs": [],
   "source": [
    "## Replace found errors by true Country values\n",
    "\n",
    "df_parsedX_2900000_base.loc[df_parsedX_2900000_base[\"PMID\"] == 28499594, [\"Country\", \"Country_source\"]] = fix_country_from_text(\"United States\")\n",
    "df_parsedX_2900000_match_GLOBOCAN.loc[df_parsedX_2900000_match_GLOBOCAN[\"PMID\"] == 28499594, [\"Country\", \"Country_source\"]] = fix_country_from_text(\"United States\")\n",
    "\n",
    "df_parsedX_2900000_base.loc[df_parsedX_2900000_base[\"PMID\"] == 28719413, [\"Country\", \"Country_source\"]] = fix_country_from_text(\"United States\")\n",
    "df_parsedX_2900000_match_GLOBOCAN.loc[df_parsedX_2900000_match_GLOBOCAN[\"PMID\"] == 28719413, [\"Country\", \"Country_source\"]] = fix_country_from_text(\"United States\")\n",
    "\n",
    "#df_parsedX_2900000_base.loc[df_parsedX_2900000_base[\"PMID\"] == , [\"Country\", \"Country_source\"]] = fix_country_from_text(\"\")\n",
    "#df_parsedX_2900000_match_GLOBOCAN.loc[df_parsedX_2900000_match_GLOBOCAN[\"PMID\"] == , [\"Country\", \"Country_source\"]] = fix_country_from_text(\"\")"
   ]
  },
  {
   "cell_type": "code",
   "execution_count": 244,
   "id": "107921a8-556b-4a75-a9ae-e4e0060ac14c",
   "metadata": {},
   "outputs": [],
   "source": [
    "df_parsedX_2900000_base.to_csv(DF_input_base + \"parsedX_2900000.csv\", index = False)\n",
    "df_parsedX_2900000_match_GLOBOCAN.to_csv(DF_input_match_GLOBOCAN + \"parsedX_2900000.csv\", index = False)\n",
    "\n",
    "del df_parsedX_2900000_base\n",
    "del df_parsedX_2900000_match_GLOBOCAN"
   ]
  },
  {
   "cell_type": "markdown",
   "id": "abc3211c-651b-4bed-ac39-fc6f9c0fa6b3",
   "metadata": {},
   "source": [
    "### Correcting *parsedX_3000000.csv*"
   ]
  },
  {
   "cell_type": "code",
   "execution_count": 245,
   "id": "efb21bc7-8526-43c9-8fe2-175887ffb805",
   "metadata": {},
   "outputs": [],
   "source": [
    "# Read csv\n",
    "df_parsedX_3000000_base = pd.read_csv(DF_input_base + \"parsedX_3000000.csv\")\n",
    "df_parsedX_3000000_match_GLOBOCAN = pd.read_csv(DF_input_match_GLOBOCAN + \"parsedX_3000000.csv\")"
   ]
  },
  {
   "cell_type": "code",
   "execution_count": 246,
   "id": "7a90a284-51c5-48ee-9f80-bc23baa32268",
   "metadata": {},
   "outputs": [],
   "source": [
    "## Replace found errors by true Country values\n",
    "\n",
    "df_parsedX_3000000_base.loc[df_parsedX_3000000_base[\"PMID\"] == 29427708, [\"Country\", \"Country_source\"]] = fix_country_from_text(\"Brazil\")\n",
    "df_parsedX_3000000_match_GLOBOCAN.loc[df_parsedX_3000000_match_GLOBOCAN[\"PMID\"] == 29427708, [\"Country\", \"Country_source\"]] = fix_country_from_text(\"Brazil\")\n",
    "\n",
    "df_parsedX_3000000_base.loc[df_parsedX_3000000_base[\"PMID\"] == 28943004, [\"Country\", \"Country_source\"]] = fix_country_from_text(\"United States\")\n",
    "df_parsedX_3000000_match_GLOBOCAN.loc[df_parsedX_3000000_match_GLOBOCAN[\"PMID\"] == 28943004, [\"Country\", \"Country_source\"]] = fix_country_from_text(\"United States\")\n",
    "\n",
    "df_parsedX_3000000_base.loc[df_parsedX_3000000_base[\"PMID\"] == 29408798, [\"Country\", \"Country_source\"]] = fix_country_from_text(\"India\")\n",
    "df_parsedX_3000000_match_GLOBOCAN.loc[df_parsedX_3000000_match_GLOBOCAN[\"PMID\"] == 29408798, [\"Country\", \"Country_source\"]] = fix_country_from_text(\"India\")\n",
    "\n",
    "#df_parsedX_3000000_base.loc[df_parsedX_3000000_base[\"PMID\"] == , [\"Country\", \"Country_source\"]] = fix_country_from_text(\"\")\n",
    "#df_parsedX_3000000_match_GLOBOCAN.loc[df_parsedX_3000000_match_GLOBOCAN[\"PMID\"] == , [\"Country\", \"Country_source\"]] = fix_country_from_text(\"\")"
   ]
  },
  {
   "cell_type": "code",
   "execution_count": 247,
   "id": "63fd837f-98ef-4b45-8c4a-66b0b614c4e0",
   "metadata": {},
   "outputs": [],
   "source": [
    "df_parsedX_3000000_base.to_csv(DF_input_base + \"parsedX_3000000.csv\", index = False)\n",
    "df_parsedX_3000000_match_GLOBOCAN.to_csv(DF_input_match_GLOBOCAN + \"parsedX_3000000.csv\", index = False)\n",
    "\n",
    "del df_parsedX_3000000_base\n",
    "del df_parsedX_3000000_match_GLOBOCAN"
   ]
  },
  {
   "cell_type": "markdown",
   "id": "8a0d1281-8ab7-4887-9fed-a7cea4c5a8d3",
   "metadata": {},
   "source": [
    "### Correcting *parsedX_3100000.csv*"
   ]
  },
  {
   "cell_type": "code",
   "execution_count": 248,
   "id": "b24dea4a-4cf2-4fe2-9a94-5f2395a3f748",
   "metadata": {},
   "outputs": [],
   "source": [
    "# Read csv\n",
    "df_parsedX_3100000_base = pd.read_csv(DF_input_base + \"parsedX_3100000.csv\")\n",
    "df_parsedX_3100000_match_GLOBOCAN = pd.read_csv(DF_input_match_GLOBOCAN + \"parsedX_3100000.csv\")"
   ]
  },
  {
   "cell_type": "code",
   "execution_count": 249,
   "id": "b8dc11b7-4d8b-47bb-96b9-770ff4b184e8",
   "metadata": {},
   "outputs": [],
   "source": [
    "## Replace found errors by true Country values\n",
    "\n",
    "df_parsedX_3100000_base.loc[df_parsedX_3100000_base[\"PMID\"] == 29856243, [\"Country\", \"Country_source\"]] = fix_country_from_text(\"United Kingdom\")\n",
    "df_parsedX_3100000_match_GLOBOCAN.loc[df_parsedX_3100000_match_GLOBOCAN[\"PMID\"] == 29856243, [\"Country\", \"Country_source\"]] = fix_country_from_text(\"United Kingdom\")\n",
    "\n",
    "df_parsedX_3100000_base.loc[df_parsedX_3100000_base[\"PMID\"] == 29653120, [\"Country\", \"Country_source\"]] = fix_country_from_text(\"Italy\")\n",
    "df_parsedX_3100000_match_GLOBOCAN.loc[df_parsedX_3100000_match_GLOBOCAN[\"PMID\"] == 29653120, [\"Country\", \"Country_source\"]] = fix_country_from_text(\"Italy\")\n",
    "\n",
    "df_parsedX_3100000_base.loc[df_parsedX_3100000_base[\"PMID\"] == 30229205, [\"Country\", \"Country_source\"]] = fix_country_from_text(\"United States\")\n",
    "df_parsedX_3100000_match_GLOBOCAN.loc[df_parsedX_3100000_match_GLOBOCAN[\"PMID\"] == 30229205, [\"Country\", \"Country_source\"]] = fix_country_from_text(\"United States\")\n",
    "\n",
    "#df_parsedX_3100000_base.loc[df_parsedX_3100000_base[\"PMID\"] == , [\"Country\", \"Country_source\"]] = fix_country_from_text(\"\")\n",
    "#df_parsedX_3100000_match_GLOBOCAN.loc[df_parsedX_3100000_match_GLOBOCAN[\"PMID\"] == , [\"Country\", \"Country_source\"]] = fix_country_from_text(\"\")"
   ]
  },
  {
   "cell_type": "code",
   "execution_count": 250,
   "id": "10becece-4e6e-40b7-b8be-ef3dc8da875f",
   "metadata": {},
   "outputs": [],
   "source": [
    "df_parsedX_3100000_base.to_csv(DF_input_base + \"parsedX_3100000.csv\", index = False)\n",
    "df_parsedX_3100000_match_GLOBOCAN.to_csv(DF_input_match_GLOBOCAN + \"parsedX_3100000.csv\", index = False)\n",
    "\n",
    "del df_parsedX_3100000_base\n",
    "del df_parsedX_3100000_match_GLOBOCAN"
   ]
  },
  {
   "cell_type": "markdown",
   "id": "514c4567-36fc-4446-9cdf-89bded8527ed",
   "metadata": {},
   "source": [
    "### Correcting *parsedX_3200000.csv*"
   ]
  },
  {
   "cell_type": "code",
   "execution_count": 251,
   "id": "cf570bbc-2b1b-4b3a-b6d1-deb30656ac94",
   "metadata": {},
   "outputs": [],
   "source": [
    "# Read csv\n",
    "df_parsedX_3200000_base = pd.read_csv(DF_input_base + \"parsedX_3200000.csv\")\n",
    "df_parsedX_3200000_match_GLOBOCAN = pd.read_csv(DF_input_match_GLOBOCAN + \"parsedX_3200000.csv\")"
   ]
  },
  {
   "cell_type": "code",
   "execution_count": 252,
   "id": "9bc1e794-e405-41e4-a7ed-f69e62a760ff",
   "metadata": {},
   "outputs": [],
   "source": [
    "## Replace found errors by true Country values\n",
    "\n",
    "df_parsedX_3200000_base.loc[df_parsedX_3200000_base[\"PMID\"] == 30585274, [\"Country\", \"Country_source\"]] = fix_country_from_text(\"Argentina\")\n",
    "df_parsedX_3200000_match_GLOBOCAN.loc[df_parsedX_3200000_match_GLOBOCAN[\"PMID\"] == 30585274, [\"Country\", \"Country_source\"]] = fix_country_from_text(\"Argentina\")\n",
    "\n",
    "df_parsedX_3200000_base.loc[df_parsedX_3200000_base[\"PMID\"] == 30318359, [\"Country\", \"Country_source\"]] = fix_country_from_text(\"United States\")\n",
    "df_parsedX_3200000_match_GLOBOCAN.loc[df_parsedX_3200000_match_GLOBOCAN[\"PMID\"] == 30318359, [\"Country\", \"Country_source\"]] = fix_country_from_text(\"United States\")\n",
    "\n",
    "df_parsedX_3200000_base.loc[df_parsedX_3200000_base[\"PMID\"] == 30770107, [\"Country\", \"Country_source\"]] = fix_country_from_text(\"United States\")\n",
    "df_parsedX_3200000_match_GLOBOCAN.loc[df_parsedX_3200000_match_GLOBOCAN[\"PMID\"] == 30770107, [\"Country\", \"Country_source\"]] = fix_country_from_text(\"United States\")\n",
    "\n",
    "#df_parsedX_3200000_base.loc[df_parsedX_3200000_base[\"PMID\"] == , [\"Country\", \"Country_source\"]] = fix_country_from_text(\"\")\n",
    "#df_parsedX_3200000_match_GLOBOCAN.loc[df_parsedX_3200000_match_GLOBOCAN[\"PMID\"] == , [\"Country\", \"Country_source\"]] = fix_country_from_text(\"\")"
   ]
  },
  {
   "cell_type": "code",
   "execution_count": 253,
   "id": "d52b9cff-fd6d-4898-bb70-187edfda718d",
   "metadata": {},
   "outputs": [],
   "source": [
    "df_parsedX_3200000_base.to_csv(DF_input_base + \"parsedX_3200000.csv\", index = False)\n",
    "df_parsedX_3200000_match_GLOBOCAN.to_csv(DF_input_match_GLOBOCAN + \"parsedX_3200000.csv\", index = False)\n",
    "\n",
    "del df_parsedX_3200000_base\n",
    "del df_parsedX_3200000_match_GLOBOCAN"
   ]
  },
  {
   "cell_type": "markdown",
   "id": "5087ba2c-9bdf-4e75-a539-1063545e34c5",
   "metadata": {},
   "source": [
    "### Correcting *parsedX_3300000.csv*"
   ]
  },
  {
   "cell_type": "code",
   "execution_count": 254,
   "id": "009f176f-65f6-4af1-9bcc-27aa68f72152",
   "metadata": {},
   "outputs": [],
   "source": [
    "# Read csv\n",
    "df_parsedX_3300000_base = pd.read_csv(DF_input_base + \"parsedX_3300000.csv\")\n",
    "df_parsedX_3300000_match_GLOBOCAN = pd.read_csv(DF_input_match_GLOBOCAN + \"parsedX_3300000.csv\")"
   ]
  },
  {
   "cell_type": "code",
   "execution_count": 255,
   "id": "cac51be2-5ee4-491c-b7c7-d8c62ae77602",
   "metadata": {},
   "outputs": [],
   "source": [
    "## Replace found errors by true Country values\n",
    "\n",
    "df_parsedX_3300000_base.loc[df_parsedX_3300000_base[\"PMID\"] == 30954945, [\"Country\", \"Country_source\"]] = fix_country_from_text(\"France\")\n",
    "df_parsedX_3300000_match_GLOBOCAN.loc[df_parsedX_3300000_match_GLOBOCAN[\"PMID\"] == 30954945, [\"Country\", \"Country_source\"]] = fix_country_from_text(\"France\")\n",
    "\n",
    "df_parsedX_3300000_base.loc[df_parsedX_3300000_base[\"PMID\"] == 31324932, [\"Country\", \"Country_source\"]] = fix_country_from_text(\"Austria\")\n",
    "df_parsedX_3300000_match_GLOBOCAN.loc[df_parsedX_3300000_match_GLOBOCAN[\"PMID\"] == 31324932, [\"Country\", \"Country_source\"]] = fix_country_from_text(\"Austria\")\n",
    "\n",
    "df_parsedX_3300000_base.loc[df_parsedX_3300000_base[\"PMID\"] == 31107807, [\"Country\", \"Country_source\"]] = fix_country_from_text(\"United States\")\n",
    "df_parsedX_3300000_match_GLOBOCAN.loc[df_parsedX_3300000_match_GLOBOCAN[\"PMID\"] == 31107807, [\"Country\", \"Country_source\"]] = fix_country_from_text(\"United States\")\n",
    "\n",
    "#df_parsedX_3300000_base.loc[df_parsedX_3300000_base[\"PMID\"] == , [\"Country\", \"Country_source\"]] = fix_country_from_text(\"\")\n",
    "#df_parsedX_3300000_match_GLOBOCAN.loc[df_parsedX_3300000_match_GLOBOCAN[\"PMID\"] == , [\"Country\", \"Country_source\"]] = fix_country_from_text(\"\")"
   ]
  },
  {
   "cell_type": "code",
   "execution_count": 256,
   "id": "aa3f6752-3093-4a26-b9d2-58d3bb96f167",
   "metadata": {},
   "outputs": [],
   "source": [
    "df_parsedX_3300000_base.to_csv(DF_input_base + \"parsedX_3300000.csv\", index = False)\n",
    "df_parsedX_3300000_match_GLOBOCAN.to_csv(DF_input_match_GLOBOCAN + \"parsedX_3300000.csv\", index = False)\n",
    "\n",
    "del df_parsedX_3300000_base\n",
    "del df_parsedX_3300000_match_GLOBOCAN"
   ]
  },
  {
   "cell_type": "markdown",
   "id": "f1a30c0f-bdd3-480e-80a1-e70819092a7b",
   "metadata": {},
   "source": [
    "### Correcting *parsedX_3400000.csv*"
   ]
  },
  {
   "cell_type": "code",
   "execution_count": 53,
   "id": "da44be16-93ca-4057-9c6c-7465d614241e",
   "metadata": {},
   "outputs": [
    {
     "name": "stderr",
     "output_type": "stream",
     "text": [
      "C:\\Users\\svalb\\AppData\\Local\\Temp\\ipykernel_53352\\501477961.py:2: DtypeWarning: Columns (13,14,15) have mixed types. Specify dtype option on import or set low_memory=False.\n",
      "  df_parsedX_3400000_base = pd.read_csv(DF_input_base + \"parsedX_3400000.csv\")\n",
      "C:\\Users\\svalb\\AppData\\Local\\Temp\\ipykernel_53352\\501477961.py:3: DtypeWarning: Columns (13,14,15) have mixed types. Specify dtype option on import or set low_memory=False.\n",
      "  df_parsedX_3400000_match_GLOBOCAN = pd.read_csv(DF_input_match_GLOBOCAN + \"parsedX_3400000.csv\")\n"
     ]
    }
   ],
   "source": [
    "# Read csv\n",
    "df_parsedX_3400000_base = pd.read_csv(DF_input_base + \"parsedX_3400000.csv\")\n",
    "df_parsedX_3400000_match_GLOBOCAN = pd.read_csv(DF_input_match_GLOBOCAN + \"parsedX_3400000.csv\")"
   ]
  },
  {
   "cell_type": "code",
   "execution_count": 54,
   "id": "ab9554d7-2938-41d0-9046-8236e3fef593",
   "metadata": {},
   "outputs": [],
   "source": [
    "## Replace found errors by true Country values\n",
    "\n",
    "df_parsedX_3400000_base.loc[df_parsedX_3400000_base[\"PMID\"] == 31889898, [\"Country\", \"Country_source\"]] = fix_country_from_text(\"United Kingdom\")\n",
    "df_parsedX_3400000_match_GLOBOCAN.loc[df_parsedX_3400000_match_GLOBOCAN[\"PMID\"] == 31889898, [\"Country\", \"Country_source\"]] = fix_country_from_text(\"United Kingdom\")\n",
    "\n",
    "df_parsedX_3400000_base.loc[df_parsedX_3400000_base[\"PMID\"] == 31610880, [\"Country\", \"Country_source\"]] = fix_country_from_text(\"Austria\")\n",
    "df_parsedX_3400000_match_GLOBOCAN.loc[df_parsedX_3400000_match_GLOBOCAN[\"PMID\"] == 31610880, [\"Country\", \"Country_source\"]] = fix_country_from_text(\"Austria\")\n",
    "\n",
    "#df_parsedX_3400000_base.loc[df_parsedX_3400000_base[\"PMID\"] == , [\"Country\", \"Country_source\"]] = fix_country_from_text(\"\")\n",
    "#df_parsedX_3400000_match_GLOBOCAN.loc[df_parsedX_3400000_match_GLOBOCAN[\"PMID\"] == , [\"Country\", \"Country_source\"]] = fix_country_from_text(\"\")"
   ]
  },
  {
   "cell_type": "code",
   "execution_count": 55,
   "id": "cd9befb9-9691-4b97-807b-626c286883bf",
   "metadata": {},
   "outputs": [],
   "source": [
    "df_parsedX_3400000_base.to_csv(DF_input_base + \"parsedX_3400000.csv\", index = False)\n",
    "df_parsedX_3400000_match_GLOBOCAN.to_csv(DF_input_match_GLOBOCAN + \"parsedX_3400000.csv\", index = False)\n",
    "\n",
    "del df_parsedX_3400000_base\n",
    "del df_parsedX_3400000_match_GLOBOCAN"
   ]
  },
  {
   "cell_type": "markdown",
   "id": "c8e72581-090e-45d6-aac0-2f38f57ae277",
   "metadata": {},
   "source": [
    "### Correcting *parsedX_3500000.csv*"
   ]
  },
  {
   "cell_type": "code",
   "execution_count": 257,
   "id": "6d8f823b-a3ac-41ee-b9fd-27508873a386",
   "metadata": {},
   "outputs": [],
   "source": [
    "# Read csv\n",
    "df_parsedX_3500000_base = pd.read_csv(DF_input_base + \"parsedX_3500000.csv\")\n",
    "df_parsedX_3500000_match_GLOBOCAN = pd.read_csv(DF_input_match_GLOBOCAN + \"parsedX_3500000.csv\")"
   ]
  },
  {
   "cell_type": "code",
   "execution_count": 258,
   "id": "81e9cde4-90ff-4a16-8ef1-60136a82aace",
   "metadata": {},
   "outputs": [],
   "source": [
    "## Replace found errors by true Country values\n",
    "\n",
    "df_parsedX_3500000_base.loc[df_parsedX_3500000_base[\"PMID\"] == 32719975, [\"Country\", \"Country_source\"]] = fix_country_from_text(\"Austria\")\n",
    "df_parsedX_3500000_match_GLOBOCAN.loc[df_parsedX_3500000_match_GLOBOCAN[\"PMID\"] == 32719975, [\"Country\", \"Country_source\"]] = fix_country_from_text(\"Austria\")\n",
    "\n",
    "df_parsedX_3500000_base.loc[df_parsedX_3500000_base[\"PMID\"] == 32192726, [\"Country\", \"Country_source\"]] = fix_country_from_text(\"United States\")\n",
    "df_parsedX_3500000_match_GLOBOCAN.loc[df_parsedX_3500000_match_GLOBOCAN[\"PMID\"] == 32192726, [\"Country\", \"Country_source\"]] = fix_country_from_text(\"United States\")\n",
    "\n",
    "df_parsedX_3500000_base.loc[df_parsedX_3500000_base[\"PMID\"] == 32522324, [\"Country\", \"Country_source\"]] = fix_country_from_text(\"United States\")\n",
    "df_parsedX_3500000_match_GLOBOCAN.loc[df_parsedX_3500000_match_GLOBOCAN[\"PMID\"] == 32522324, [\"Country\", \"Country_source\"]] = fix_country_from_text(\"United States\")\n",
    "\n",
    "df_parsedX_3500000_base.loc[df_parsedX_3500000_base[\"PMID\"] == 32734609, [\"Country\", \"Country_source\"]] = fix_country_from_text(\"India\")\n",
    "df_parsedX_3500000_match_GLOBOCAN.loc[df_parsedX_3500000_match_GLOBOCAN[\"PMID\"] == 32734609, [\"Country\", \"Country_source\"]] = fix_country_from_text(\"India\")\n",
    "\n",
    "#df_parsedX_3500000_base.loc[df_parsedX_3500000_base[\"PMID\"] == , [\"Country\", \"Country_source\"]] = fix_country_from_text(\"\")\n",
    "#df_parsedX_3500000_match_GLOBOCAN.loc[df_parsedX_3500000_match_GLOBOCAN[\"PMID\"] == , [\"Country\", \"Country_source\"]] = fix_country_from_text(\"\")"
   ]
  },
  {
   "cell_type": "code",
   "execution_count": 259,
   "id": "2aa6501a-15b3-4b7e-829d-85c264b03a84",
   "metadata": {},
   "outputs": [],
   "source": [
    "df_parsedX_3500000_base.to_csv(DF_input_base + \"parsedX_3500000.csv\", index = False)\n",
    "df_parsedX_3500000_match_GLOBOCAN.to_csv(DF_input_match_GLOBOCAN + \"parsedX_3500000.csv\", index = False)\n",
    "\n",
    "del df_parsedX_3500000_base\n",
    "del df_parsedX_3500000_match_GLOBOCAN"
   ]
  },
  {
   "cell_type": "markdown",
   "id": "18784f57-3b03-4c12-a2f3-09aea16ba5ab",
   "metadata": {},
   "source": [
    "### Correcting *parsedX_3600000.csv*"
   ]
  },
  {
   "cell_type": "code",
   "execution_count": 260,
   "id": "268cf53e-645d-4368-943b-d44517b94565",
   "metadata": {},
   "outputs": [],
   "source": [
    "# Read csv\n",
    "df_parsedX_3600000_base = pd.read_csv(DF_input_base + \"parsedX_3600000.csv\")\n",
    "df_parsedX_3600000_match_GLOBOCAN = pd.read_csv(DF_input_match_GLOBOCAN + \"parsedX_3600000.csv\")"
   ]
  },
  {
   "cell_type": "code",
   "execution_count": 261,
   "id": "d103907f-6ee7-4f7a-aaf8-c01d6c102971",
   "metadata": {},
   "outputs": [],
   "source": [
    "## Replace found errors by true Country values\n",
    "\n",
    "df_parsedX_3600000_base.loc[df_parsedX_3600000_base[\"PMID\"] == 33073332, [\"Country\", \"Country_source\"]] = fix_country_from_text(\"Italy\")\n",
    "df_parsedX_3600000_match_GLOBOCAN.loc[df_parsedX_3600000_match_GLOBOCAN[\"PMID\"] == 33073332, [\"Country\", \"Country_source\"]] = fix_country_from_text(\"Italy\")\n",
    "\n",
    "df_parsedX_3600000_base.loc[df_parsedX_3600000_base[\"PMID\"] == 33334598, [\"Country\", \"Country_source\"]] = fix_country_from_text(\"United States\")\n",
    "df_parsedX_3600000_match_GLOBOCAN.loc[df_parsedX_3600000_match_GLOBOCAN[\"PMID\"] == 33334598, [\"Country\", \"Country_source\"]] = fix_country_from_text(\"United States\")\n",
    "\n",
    "#df_parsedX_3600000_base.loc[df_parsedX_3600000_base[\"PMID\"] == , [\"Country\", \"Country_source\"]] = fix_country_from_text(\"\")\n",
    "#df_parsedX_3600000_match_GLOBOCAN.loc[df_parsedX_3600000_match_GLOBOCAN[\"PMID\"] == , [\"Country\", \"Country_source\"]] = fix_country_from_text(\"\")"
   ]
  },
  {
   "cell_type": "code",
   "execution_count": 262,
   "id": "490052ef-654b-4c9b-a5ad-a641857278dd",
   "metadata": {},
   "outputs": [],
   "source": [
    "df_parsedX_3600000_base.to_csv(DF_input_base + \"parsedX_3600000.csv\", index = False)\n",
    "df_parsedX_3600000_match_GLOBOCAN.to_csv(DF_input_match_GLOBOCAN + \"parsedX_3600000.csv\", index = False)\n",
    "\n",
    "del df_parsedX_3600000_base\n",
    "del df_parsedX_3600000_match_GLOBOCAN"
   ]
  },
  {
   "cell_type": "markdown",
   "id": "67f06e1b-c95d-4196-a542-967e3ebbb124",
   "metadata": {},
   "source": [
    "### Correcting *parsedX_3700000.csv*"
   ]
  },
  {
   "cell_type": "code",
   "execution_count": 263,
   "id": "d10261a8-066b-4cbb-8923-85c50eb2fc86",
   "metadata": {},
   "outputs": [],
   "source": [
    "# Read csv\n",
    "df_parsedX_3700000_base = pd.read_csv(DF_input_base + \"parsedX_3700000.csv\")\n",
    "df_parsedX_3700000_match_GLOBOCAN = pd.read_csv(DF_input_match_GLOBOCAN + \"parsedX_3700000.csv\")"
   ]
  },
  {
   "cell_type": "code",
   "execution_count": 264,
   "id": "175123d6-e5ec-48fa-8f00-2181c81900e8",
   "metadata": {},
   "outputs": [],
   "source": [
    "## Replace found errors by true Country values\n",
    "\n",
    "df_parsedX_3700000_base.loc[df_parsedX_3700000_base[\"PMID\"] == 33749551, [\"Country\", \"Country_source\"]] = fix_country_from_text(\"United Kingdom\")\n",
    "df_parsedX_3700000_match_GLOBOCAN.loc[df_parsedX_3700000_match_GLOBOCAN[\"PMID\"] == 33749551, [\"Country\", \"Country_source\"]] = fix_country_from_text(\"United Kingdom\")\n",
    "\n",
    "df_parsedX_3700000_base.loc[df_parsedX_3700000_base[\"PMID\"] == 33848668, [\"Country\", \"Country_source\"]] = fix_country_from_text(\"Italy\")\n",
    "df_parsedX_3700000_match_GLOBOCAN.loc[df_parsedX_3700000_match_GLOBOCAN[\"PMID\"] == 33848668, [\"Country\", \"Country_source\"]] = fix_country_from_text(\"Italy\")\n",
    "\n",
    "df_parsedX_3700000_base.loc[df_parsedX_3700000_base[\"PMID\"] == 33903933, [\"Country\", \"Country_source\"]] = fix_country_from_text(\"Italy\")\n",
    "df_parsedX_3700000_match_GLOBOCAN.loc[df_parsedX_3700000_match_GLOBOCAN[\"PMID\"] == 33903933, [\"Country\", \"Country_source\"]] = fix_country_from_text(\"Italy\")\n",
    "\n",
    "df_parsedX_3700000_base.loc[df_parsedX_3700000_base[\"PMID\"] == 33616840, [\"Country\", \"Country_source\"]] = fix_country_from_text(\"Argentina\")\n",
    "df_parsedX_3700000_match_GLOBOCAN.loc[df_parsedX_3700000_match_GLOBOCAN[\"PMID\"] == 33616840, [\"Country\", \"Country_source\"]] = fix_country_from_text(\"Argentina\")\n",
    "\n",
    "df_parsedX_3700000_base.loc[df_parsedX_3700000_base[\"PMID\"] == 33551073, [\"Country\", \"Country_source\"]] = fix_country_from_text(\"United States\")\n",
    "df_parsedX_3700000_match_GLOBOCAN.loc[df_parsedX_3700000_match_GLOBOCAN[\"PMID\"] == 33551073, [\"Country\", \"Country_source\"]] = fix_country_from_text(\"United States\")\n",
    "\n",
    "#df_parsedX_3700000_base.loc[df_parsedX_3700000_base[\"PMID\"] == , [\"Country\", \"Country_source\"]] = fix_country_from_text(\"\")\n",
    "#df_parsedX_3700000_match_GLOBOCAN.loc[df_parsedX_3700000_match_GLOBOCAN[\"PMID\"] == , [\"Country\", \"Country_source\"]] = fix_country_from_text(\"\")"
   ]
  },
  {
   "cell_type": "code",
   "execution_count": 265,
   "id": "a8db6ee7-19c9-4427-a29d-90d744ad1db4",
   "metadata": {},
   "outputs": [],
   "source": [
    "df_parsedX_3700000_base.to_csv(DF_input_base + \"parsedX_3700000.csv\", index = False)\n",
    "df_parsedX_3700000_match_GLOBOCAN.to_csv(DF_input_match_GLOBOCAN + \"parsedX_3700000.csv\", index = False)\n",
    "\n",
    "del df_parsedX_3700000_base\n",
    "del df_parsedX_3700000_match_GLOBOCAN"
   ]
  },
  {
   "cell_type": "markdown",
   "id": "856fd6e4-f6f5-480b-8d51-3ab704e44b94",
   "metadata": {},
   "source": [
    "### Correcting *parsedX_3800000.csv*"
   ]
  },
  {
   "cell_type": "code",
   "execution_count": 166,
   "id": "d636f425-bff8-43b9-aeac-fe4b10bcc926",
   "metadata": {},
   "outputs": [],
   "source": [
    "# Read csv\n",
    "df_parsedX_3800000_base = pd.read_csv(DF_input_base + \"parsedX_3800000.csv\")\n",
    "df_parsedX_3800000_match_GLOBOCAN = pd.read_csv(DF_input_match_GLOBOCAN + \"parsedX_3800000.csv\")"
   ]
  },
  {
   "cell_type": "code",
   "execution_count": 167,
   "id": "0223ae4b-7e32-4625-8e9c-0fa55bee41e9",
   "metadata": {},
   "outputs": [],
   "source": [
    "## Replace found errors by true Country values\n",
    "\n",
    "df_parsedX_3800000_base.loc[df_parsedX_3800000_base[\"PMID\"] == 34414870, [\"Country\", \"Country_source\"]] = fix_country_from_text(\"United Kingdom\")\n",
    "df_parsedX_3800000_match_GLOBOCAN.loc[df_parsedX_3800000_match_GLOBOCAN[\"PMID\"] == 34414870, [\"Country\", \"Country_source\"]] = fix_country_from_text(\"United Kingdom\")\n",
    "\n",
    "df_parsedX_3800000_base.loc[df_parsedX_3800000_base[\"PMID\"] == 34374389, [\"Country\", \"Country_source\"]] = fix_country_from_text(\"Brazil\")\n",
    "df_parsedX_3800000_match_GLOBOCAN.loc[df_parsedX_3800000_match_GLOBOCAN[\"PMID\"] == 34374389, [\"Country\", \"Country_source\"]] = fix_country_from_text(\"Brazil\")\n",
    "\n",
    "df_parsedX_3800000_base.loc[df_parsedX_3800000_base[\"PMID\"] == 34185219, [\"Country\", \"Country_source\"]] = fix_country_from_text(\"Austria\")\n",
    "df_parsedX_3800000_match_GLOBOCAN.loc[df_parsedX_3800000_match_GLOBOCAN[\"PMID\"] == 34185219, [\"Country\", \"Country_source\"]] = fix_country_from_text(\"Austria\")\n",
    "\n",
    "#df_parsedX_3800000_base.loc[df_parsedX_3800000_base[\"PMID\"] == , [\"Country\", \"Country_source\"]] = fix_country_from_text(\"\")\n",
    "#df_parsedX_3800000_match_GLOBOCAN.loc[df_parsedX_3800000_match_GLOBOCAN[\"PMID\"] == , [\"Country\", \"Country_source\"]] = fix_country_from_text(\"\")"
   ]
  },
  {
   "cell_type": "code",
   "execution_count": 168,
   "id": "cd9a7d15-45f0-4662-bfde-3b55042d5abf",
   "metadata": {},
   "outputs": [],
   "source": [
    "df_parsedX_3800000_base.to_csv(DF_input_base + \"parsedX_3800000.csv\", index = False)\n",
    "df_parsedX_3800000_match_GLOBOCAN.to_csv(DF_input_match_GLOBOCAN + \"parsedX_3800000.csv\", index = False)\n",
    "\n",
    "del df_parsedX_3800000_base\n",
    "del df_parsedX_3800000_match_GLOBOCAN"
   ]
  },
  {
   "cell_type": "markdown",
   "id": "2cd58c0d-41fc-44ea-a16f-1a76fdef60e7",
   "metadata": {},
   "source": [
    "### Correcting *parsedX_3900000.csv*"
   ]
  },
  {
   "cell_type": "code",
   "execution_count": 266,
   "id": "2ddaf421-2ba7-42fc-9933-98253d9c95b2",
   "metadata": {},
   "outputs": [],
   "source": [
    "# Read csv\n",
    "df_parsedX_3900000_base = pd.read_csv(DF_input_base + \"parsedX_3900000.csv\")\n",
    "df_parsedX_3900000_match_GLOBOCAN = pd.read_csv(DF_input_match_GLOBOCAN + \"parsedX_3900000.csv\")"
   ]
  },
  {
   "cell_type": "code",
   "execution_count": 267,
   "id": "dcf0a2ad-8a70-40bf-acae-6f4557dc1e5c",
   "metadata": {},
   "outputs": [],
   "source": [
    "## Replace found errors by true Country values\n",
    "\n",
    "df_parsedX_3900000_base.loc[df_parsedX_3900000_base[\"PMID\"] == 34937625, [\"Country\", \"Country_source\"]] = fix_country_from_text(\"United States\")\n",
    "df_parsedX_3900000_match_GLOBOCAN.loc[df_parsedX_3900000_match_GLOBOCAN[\"PMID\"] == 34937625, [\"Country\", \"Country_source\"]] = fix_country_from_text(\"United States\")\n",
    "\n",
    "#df_parsedX_3900000_base.loc[df_parsedX_3900000_base[\"PMID\"] == , [\"Country\", \"Country_source\"]] = fix_country_from_text(\"\")\n",
    "#df_parsedX_3900000_match_GLOBOCAN.loc[df_parsedX_3900000_match_GLOBOCAN[\"PMID\"] == , [\"Country\", \"Country_source\"]] = fix_country_from_text(\"\")"
   ]
  },
  {
   "cell_type": "code",
   "execution_count": 268,
   "id": "86b77c38-c476-4d62-8791-a41f32ac4cb6",
   "metadata": {},
   "outputs": [],
   "source": [
    "df_parsedX_3900000_base.to_csv(DF_input_base + \"parsedX_3900000.csv\", index = False)\n",
    "df_parsedX_3900000_match_GLOBOCAN.to_csv(DF_input_match_GLOBOCAN + \"parsedX_3900000.csv\", index = False)\n",
    "\n",
    "del df_parsedX_3900000_base\n",
    "del df_parsedX_3900000_match_GLOBOCAN"
   ]
  },
  {
   "cell_type": "markdown",
   "id": "e8619c8f-8a29-4376-a1d1-43ccf398195a",
   "metadata": {},
   "source": [
    "### Correcting *parsedX_4200000.csv*"
   ]
  },
  {
   "cell_type": "code",
   "execution_count": 269,
   "id": "938be98c-e247-4d11-ac61-ad62cce552c4",
   "metadata": {},
   "outputs": [],
   "source": [
    "# Read csv\n",
    "df_parsedX_4200000_base = pd.read_csv(DF_input_base + \"parsedX_4200000.csv\")\n",
    "df_parsedX_4200000_match_GLOBOCAN = pd.read_csv(DF_input_match_GLOBOCAN + \"parsedX_4200000.csv\")"
   ]
  },
  {
   "cell_type": "code",
   "execution_count": 270,
   "id": "e0d873bf-e09e-432a-8e72-8d40f0e47645",
   "metadata": {},
   "outputs": [],
   "source": [
    "## Replace found errors by true Country values\n",
    "\n",
    "df_parsedX_4200000_base.loc[df_parsedX_4200000_base[\"PMID\"] == 36994202, [\"Country\", \"Country_source\"]] = fix_country_from_text(\"United Kingdom\")\n",
    "df_parsedX_4200000_match_GLOBOCAN.loc[df_parsedX_4200000_match_GLOBOCAN[\"PMID\"] == 36994202, [\"Country\", \"Country_source\"]] = fix_country_from_text(\"United Kingdom\")\n",
    "\n",
    "df_parsedX_4200000_base.loc[df_parsedX_4200000_base[\"PMID\"] == 37096110, [\"Country\", \"Country_source\"]] = fix_country_from_text(\"United States\")\n",
    "df_parsedX_4200000_match_GLOBOCAN.loc[df_parsedX_4200000_match_GLOBOCAN[\"PMID\"] == 37096110, [\"Country\", \"Country_source\"]] = fix_country_from_text(\"United States\")\n",
    "\n",
    "#df_parsedX_4200000_base.loc[df_parsedX_4200000_base[\"PMID\"] == , [\"Country\", \"Country_source\"]] = fix_country_from_text(\"\")\n",
    "#df_parsedX_4200000_match_GLOBOCAN.loc[df_parsedX_4200000_match_GLOBOCAN[\"PMID\"] == , [\"Country\", \"Country_source\"]] = fix_country_from_text(\"\")"
   ]
  },
  {
   "cell_type": "code",
   "execution_count": 271,
   "id": "f1f6e5be-890f-4bd3-86c1-e1ddf4b1526c",
   "metadata": {},
   "outputs": [],
   "source": [
    "df_parsedX_4200000_base.to_csv(DF_input_base + \"parsedX_4200000.csv\", index = False)\n",
    "df_parsedX_4200000_match_GLOBOCAN.to_csv(DF_input_match_GLOBOCAN + \"parsedX_4200000.csv\", index = False)\n",
    "\n",
    "del df_parsedX_4200000_base\n",
    "del df_parsedX_4200000_match_GLOBOCAN"
   ]
  },
  {
   "cell_type": "markdown",
   "id": "79bd0b5b-fcaa-4601-8ae3-f4a41c07a260",
   "metadata": {},
   "source": [
    "### Correcting *parsedX_4400000.csv*"
   ]
  },
  {
   "cell_type": "code",
   "execution_count": 84,
   "id": "f7e283ee-e8e4-4768-86f9-b525f56aaa6f",
   "metadata": {},
   "outputs": [
    {
     "name": "stderr",
     "output_type": "stream",
     "text": [
      "C:\\Users\\svalb\\AppData\\Local\\Temp\\ipykernel_53352\\688935312.py:2: DtypeWarning: Columns (13,14,15) have mixed types. Specify dtype option on import or set low_memory=False.\n",
      "  df_parsedX_4400000_base = pd.read_csv(DF_input_base + \"parsedX_4400000.csv\")\n",
      "C:\\Users\\svalb\\AppData\\Local\\Temp\\ipykernel_53352\\688935312.py:3: DtypeWarning: Columns (13,14,15) have mixed types. Specify dtype option on import or set low_memory=False.\n",
      "  df_parsedX_4400000_match_GLOBOCAN = pd.read_csv(DF_input_match_GLOBOCAN + \"parsedX_4400000.csv\")\n"
     ]
    }
   ],
   "source": [
    "# Read csv\n",
    "df_parsedX_4400000_base = pd.read_csv(DF_input_base + \"parsedX_4400000.csv\")\n",
    "df_parsedX_4400000_match_GLOBOCAN = pd.read_csv(DF_input_match_GLOBOCAN + \"parsedX_4400000.csv\")"
   ]
  },
  {
   "cell_type": "code",
   "execution_count": 85,
   "id": "1c80ed0b-4873-41b7-911e-af730d00549a",
   "metadata": {},
   "outputs": [],
   "source": [
    "## Replace found errors by true Country values\n",
    "\n",
    "df_parsedX_4400000_base.loc[df_parsedX_4400000_base[\"PMID\"] == 38527596, [\"Country\", \"Country_source\"]] = fix_country_from_text(\"Brazil\")\n",
    "df_parsedX_4400000_match_GLOBOCAN.loc[df_parsedX_4400000_match_GLOBOCAN[\"PMID\"] == 38527596, [\"Country\", \"Country_source\"]] = fix_country_from_text(\"Brazil\")\n",
    "\n",
    "#df_parsedX_4400000_base.loc[df_parsedX_4400000_base[\"PMID\"] == , [\"Country\", \"Country_source\"]] = fix_country_from_text(\"\")\n",
    "#df_parsedX_4400000_match_GLOBOCAN.loc[df_parsedX_4400000_match_GLOBOCAN[\"PMID\"] == , [\"Country\", \"Country_source\"]] = fix_country_from_text(\"\")\n"
   ]
  },
  {
   "cell_type": "code",
   "execution_count": 86,
   "id": "43843ca2-e722-43a5-ac2c-4d02cdf09917",
   "metadata": {},
   "outputs": [],
   "source": [
    "df_parsedX_4400000_base.to_csv(DF_input_base + \"parsedX_4400000.csv\", index = False)\n",
    "df_parsedX_4400000_match_GLOBOCAN.to_csv(DF_input_match_GLOBOCAN + \"parsedX_4400000.csv\", index = False)\n",
    "\n",
    "del df_parsedX_4400000_base\n",
    "del df_parsedX_4400000_match_GLOBOCAN"
   ]
  },
  {
   "cell_type": "markdown",
   "id": "cef638ad-0bbe-46aa-9ff2-7a81b242f376",
   "metadata": {},
   "source": [
    "### Correcting *parsedX_4454000.csv*"
   ]
  },
  {
   "cell_type": "code",
   "execution_count": 272,
   "id": "a59c1ba9-2408-4eac-bf11-076d4dfe093d",
   "metadata": {},
   "outputs": [],
   "source": [
    "# Read csv\n",
    "df_parsedX_4454000_base = pd.read_csv(DF_input_base + \"parsedX_4454000.csv\")\n",
    "df_parsedX_4454000_match_GLOBOCAN = pd.read_csv(DF_input_match_GLOBOCAN + \"parsedX_4454000.csv\")"
   ]
  },
  {
   "cell_type": "code",
   "execution_count": 273,
   "id": "6cfce1f0-d8b4-4b95-9492-670716f28eaa",
   "metadata": {},
   "outputs": [],
   "source": [
    "## Replace found errors by true Country values\n",
    "\n",
    "df_parsedX_4454000_base.loc[df_parsedX_4454000_base[\"PMID\"] == 38750928, [\"Country\", \"Country_source\"]] = fix_country_from_text(\"United Kingdom\")\n",
    "df_parsedX_4454000_match_GLOBOCAN.loc[df_parsedX_4454000_match_GLOBOCAN[\"PMID\"] == 38750928, [\"Country\", \"Country_source\"]] = fix_country_from_text(\"United Kingdom\")\n",
    "\n",
    "df_parsedX_4454000_base.loc[df_parsedX_4454000_base[\"PMID\"] == 38903136, [\"Country\", \"Country_source\"]] = fix_country_from_text(\"United States\")\n",
    "df_parsedX_4454000_match_GLOBOCAN.loc[df_parsedX_4454000_match_GLOBOCAN[\"PMID\"] == 38903136, [\"Country\", \"Country_source\"]] = fix_country_from_text(\"United States\")\n",
    "\n",
    "#df_parsedX_4454000_base.loc[df_parsedX_4454000_base[\"PMID\"] == , [\"Country\", \"Country_source\"]] = fix_country_from_text(\"\")\n",
    "#df_parsedX_4454000_match_GLOBOCAN.loc[df_parsedX_4454000_match_GLOBOCAN[\"PMID\"] == , [\"Country\", \"Country_source\"]] = fix_country_from_text(\"\")"
   ]
  },
  {
   "cell_type": "code",
   "execution_count": 274,
   "id": "976eaeb5-aa0b-414a-9dc8-54e6f5358f94",
   "metadata": {},
   "outputs": [],
   "source": [
    "df_parsedX_4454000_base.to_csv(DF_input_base + \"parsedX_4454000.csv\", index = False)\n",
    "df_parsedX_4454000_match_GLOBOCAN.to_csv(DF_input_match_GLOBOCAN + \"parsedX_4454000.csv\", index = False)\n",
    "\n",
    "del df_parsedX_4454000_base\n",
    "del df_parsedX_4454000_match_GLOBOCAN"
   ]
  },
  {
   "cell_type": "markdown",
   "id": "4ba757d7-2581-4b99-abe0-254a99cf2e62",
   "metadata": {},
   "source": [
    "### Correcting *parsedX_500000.csv*"
   ]
  },
  {
   "cell_type": "code",
   "execution_count": 275,
   "id": "1bf9265a-7b58-46ad-b59a-8bfcac5e9abb",
   "metadata": {},
   "outputs": [],
   "source": [
    "# Read csv\n",
    "df_parsedX_500000_base = pd.read_csv(DF_input_base + \"parsedX_500000.csv\")\n",
    "df_parsedX_500000_match_GLOBOCAN = pd.read_csv(DF_input_match_GLOBOCAN + \"parsedX_500000.csv\")"
   ]
  },
  {
   "cell_type": "code",
   "execution_count": 276,
   "id": "91a26551-d9bf-437a-b0ea-5c58ae9c77ff",
   "metadata": {},
   "outputs": [],
   "source": [
    "## Replace found errors by true Country values\n",
    "\n",
    "df_parsedX_500000_base.loc[df_parsedX_500000_base[\"PMID\"] == 7716605, [\"Country\", \"Country_source\"]] = fix_country_from_text(\"United States\")\n",
    "df_parsedX_500000_match_GLOBOCAN.loc[df_parsedX_500000_match_GLOBOCAN[\"PMID\"] == 7716605, [\"Country\", \"Country_source\"]] = fix_country_from_text(\"United States\")\n",
    "\n",
    "#df_parsedX_500000_base.loc[df_parsedX_500000_base[\"PMID\"] == , [\"Country\", \"Country_source\"]] = fix_country_from_text(\"\")\n",
    "#df_parsedX_500000_match_GLOBOCAN.loc[df_parsedX_500000_match_GLOBOCAN[\"PMID\"] == , [\"Country\", \"Country_source\"]] = fix_country_from_text(\"\")"
   ]
  },
  {
   "cell_type": "code",
   "execution_count": 278,
   "id": "9288fcb7-315e-469d-91ba-38a78e4ed9bc",
   "metadata": {},
   "outputs": [],
   "source": [
    "df_parsedX_500000_base.to_csv(DF_input_base + \"parsedX_500000.csv\", index = False)\n",
    "df_parsedX_500000_match_GLOBOCAN.to_csv(DF_input_match_GLOBOCAN + \"parsedX_500000.csv\", index = False)\n",
    "\n",
    "del df_parsedX_500000_base\n",
    "del df_parsedX_500000_match_GLOBOCAN"
   ]
  },
  {
   "cell_type": "markdown",
   "id": "1ab1ef13-3639-46d4-8850-d8b9b0a9e934",
   "metadata": {},
   "source": [
    "### Correcting *parsedX_600000.csv*"
   ]
  },
  {
   "cell_type": "code",
   "execution_count": 169,
   "id": "30faeaf0-e95d-4b15-a499-72436057cdf4",
   "metadata": {},
   "outputs": [],
   "source": [
    "# Read csv\n",
    "df_parsedX_600000_base = pd.read_csv(DF_input_base + \"parsedX_600000.csv\")\n",
    "df_parsedX_600000_match_GLOBOCAN = pd.read_csv(DF_input_match_GLOBOCAN + \"parsedX_600000.csv\")"
   ]
  },
  {
   "cell_type": "code",
   "execution_count": 170,
   "id": "1373680b-10f0-48b6-8fea-c34d60fc3108",
   "metadata": {},
   "outputs": [],
   "source": [
    "## Replace found errors by true Country values\n",
    "\n",
    "df_parsedX_600000_base.loc[df_parsedX_600000_base[\"PMID\"] == 8671916, [\"Country\", \"Country_source\"]] = fix_country_from_text(\"Austria\")\n",
    "df_parsedX_600000_match_GLOBOCAN.loc[df_parsedX_600000_match_GLOBOCAN[\"PMID\"] == 8671916, [\"Country\", \"Country_source\"]] = fix_country_from_text(\"Austria\")\n",
    "\n",
    "#df_parsedX_600000_base.loc[df_parsedX_600000_base[\"PMID\"] == , [\"Country\", \"Country_source\"]] = fix_country_from_text(\"\")\n",
    "#df_parsedX_600000_match_GLOBOCAN.loc[df_parsedX_600000_match_GLOBOCAN[\"PMID\"] == , [\"Country\", \"Country_source\"]] = fix_country_from_text(\"\")"
   ]
  },
  {
   "cell_type": "code",
   "execution_count": 171,
   "id": "6c210bd5-1842-45dc-a38c-c2ea02a54f3c",
   "metadata": {},
   "outputs": [],
   "source": [
    "df_parsedX_600000_base.to_csv(DF_input_base + \"parsedX_600000.csv\", index = False)\n",
    "df_parsedX_600000_match_GLOBOCAN.to_csv(DF_input_match_GLOBOCAN + \"parsedX_600000.csv\", index = False)\n",
    "\n",
    "del df_parsedX_600000_base\n",
    "del df_parsedX_600000_match_GLOBOCAN"
   ]
  },
  {
   "cell_type": "markdown",
   "id": "8cb1880b-0628-43b0-87c9-80fca32f625f",
   "metadata": {},
   "source": [
    "### Correcting *parsedX_700000.csv*"
   ]
  },
  {
   "cell_type": "code",
   "execution_count": 279,
   "id": "8e567b83-65f5-4f7f-ba44-1c655cd64a6a",
   "metadata": {},
   "outputs": [],
   "source": [
    "# Read csv\n",
    "df_parsedX_700000_base = pd.read_csv(DF_input_base + \"parsedX_700000.csv\")\n",
    "df_parsedX_700000_match_GLOBOCAN = pd.read_csv(DF_input_match_GLOBOCAN + \"parsedX_700000.csv\")"
   ]
  },
  {
   "cell_type": "code",
   "execution_count": 280,
   "id": "4c4afb05-98c0-4924-90af-48a4cc41971b",
   "metadata": {},
   "outputs": [],
   "source": [
    "## Replace found errors by true Country values\n",
    "\n",
    "df_parsedX_700000_base.loc[df_parsedX_700000_base[\"PMID\"] == 9312254, [\"Country\", \"Country_source\"]] = fix_country_from_text(\"Italy\")\n",
    "df_parsedX_700000_match_GLOBOCAN.loc[df_parsedX_700000_match_GLOBOCAN[\"PMID\"] == 9312254, [\"Country\", \"Country_source\"]] = fix_country_from_text(\"Italy\")\n",
    "\n",
    "df_parsedX_700000_base.loc[df_parsedX_700000_base[\"PMID\"] == 9413693, [\"Country\", \"Country_source\"]] = fix_country_from_text(\"United States\")\n",
    "df_parsedX_700000_match_GLOBOCAN.loc[df_parsedX_700000_match_GLOBOCAN[\"PMID\"] == 9413693, [\"Country\", \"Country_source\"]] = fix_country_from_text(\"United States\")\n",
    "\n",
    "#df_parsedX_700000_base.loc[df_parsedX_700000_base[\"PMID\"] == , [\"Country\", \"Country_source\"]] = fix_country_from_text(\"\")\n",
    "#df_parsedX_700000_match_GLOBOCAN.loc[df_parsedX_700000_match_GLOBOCAN[\"PMID\"] == , [\"Country\", \"Country_source\"]] = fix_country_from_text(\"\")"
   ]
  },
  {
   "cell_type": "code",
   "execution_count": 281,
   "id": "794dd7e1-652c-47a1-a3e4-448530e72ac4",
   "metadata": {},
   "outputs": [],
   "source": [
    "df_parsedX_700000_base.to_csv(DF_input_base + \"parsedX_700000.csv\", index = False)\n",
    "df_parsedX_700000_match_GLOBOCAN.to_csv(DF_input_match_GLOBOCAN + \"parsedX_700000.csv\", index = False)\n",
    "\n",
    "del df_parsedX_700000_base\n",
    "del df_parsedX_700000_match_GLOBOCAN"
   ]
  },
  {
   "cell_type": "markdown",
   "id": "52249b82-1c87-426e-923a-71d198256184",
   "metadata": {},
   "source": [
    "### Correcting *parsedX_800000.csv*"
   ]
  },
  {
   "cell_type": "code",
   "execution_count": 41,
   "id": "378aa867-7f79-47d9-bf2a-a19a9263227a",
   "metadata": {},
   "outputs": [],
   "source": [
    "# Read csv\n",
    "df_parsedX_800000_base = pd.read_csv(DF_input_base + \"parsedX_800000.csv\")\n",
    "df_parsedX_800000_match_GLOBOCAN = pd.read_csv(DF_input_match_GLOBOCAN + \"parsedX_800000.csv\")"
   ]
  },
  {
   "cell_type": "code",
   "execution_count": 42,
   "id": "d3ee69c4-5510-4fe4-9a95-2190f9cce8f4",
   "metadata": {},
   "outputs": [],
   "source": [
    "## Replace found errors by true Country values\n",
    "\n",
    "df_parsedX_800000_base.loc[df_parsedX_800000_base[\"PMID\"] == 9589843, [\"Country\", \"Country_source\"]] = fix_country_from_text(\"United Kingdom\")\n",
    "df_parsedX_800000_match_GLOBOCAN.loc[df_parsedX_800000_match_GLOBOCAN[\"PMID\"] == 9589843, [\"Country\", \"Country_source\"]] = fix_country_from_text(\"United Kingdom\")\n",
    "\n",
    "#df_parsedX_800000_base.loc[df_parsedX_800000_base[\"PMID\"] == , [\"Country\", \"Country_source\"]] = fix_country_from_text(\"\")\n",
    "#df_parsedX_800000_match_GLOBOCAN.loc[df_parsedX_800000_match_GLOBOCAN[\"PMID\"] == , [\"Country\", \"Country_source\"]] = fix_country_from_text(\"\")"
   ]
  },
  {
   "cell_type": "code",
   "execution_count": 43,
   "id": "5815d0b1-9643-4300-a1e4-ead674388032",
   "metadata": {},
   "outputs": [],
   "source": [
    "df_parsedX_800000_base.to_csv(DF_input_base + \"parsedX_800000.csv\", index = False)\n",
    "df_parsedX_800000_match_GLOBOCAN.to_csv(DF_input_match_GLOBOCAN + \"parsedX_800000.csv\", index = False)\n",
    "\n",
    "del df_parsedX_800000_base\n",
    "del df_parsedX_800000_match_GLOBOCAN"
   ]
  },
  {
   "cell_type": "markdown",
   "id": "f27cac02-4320-429b-aa6e-996caea6c0e2",
   "metadata": {},
   "source": [
    "### Correcting *parsedX_900000.csv*"
   ]
  },
  {
   "cell_type": "code",
   "execution_count": 282,
   "id": "41322cfb-c119-4fae-b6c4-9358b66c4afe",
   "metadata": {},
   "outputs": [],
   "source": [
    "# Read csv\n",
    "df_parsedX_900000_base = pd.read_csv(DF_input_base + \"parsedX_900000.csv\")\n",
    "df_parsedX_900000_match_GLOBOCAN = pd.read_csv(DF_input_match_GLOBOCAN + \"parsedX_900000.csv\")"
   ]
  },
  {
   "cell_type": "code",
   "execution_count": 283,
   "id": "70c74534-1af2-49b1-8365-9d2838970048",
   "metadata": {},
   "outputs": [],
   "source": [
    "## Replace found errors by true Country values\n",
    "\n",
    "df_parsedX_900000_base.loc[df_parsedX_900000_base[\"PMID\"] == 10791581, [\"Country\", \"Country_source\"]] = fix_country_from_text(\"United States\")\n",
    "df_parsedX_900000_match_GLOBOCAN.loc[df_parsedX_900000_match_GLOBOCAN[\"PMID\"] == 10791581, [\"Country\", \"Country_source\"]] = fix_country_from_text(\"United States\")\n",
    "\n",
    "#df_parsedX_900000_base.loc[df_parsedX_900000_base[\"PMID\"] == , [\"Country\", \"Country_source\"]] = fix_country_from_text(\"\")\n",
    "#df_parsedX_900000_match_GLOBOCAN.loc[df_parsedX_900000_match_GLOBOCAN[\"PMID\"] == , [\"Country\", \"Country_source\"]] = fix_country_from_text(\"\")"
   ]
  },
  {
   "cell_type": "code",
   "execution_count": 284,
   "id": "64961f94-5621-4622-8558-07046336950a",
   "metadata": {},
   "outputs": [],
   "source": [
    "df_parsedX_900000_base.to_csv(DF_input_base + \"parsedX_900000.csv\", index = False)\n",
    "df_parsedX_900000_match_GLOBOCAN.to_csv(DF_input_match_GLOBOCAN + \"parsedX_900000.csv\", index = False)\n",
    "\n",
    "del df_parsedX_900000_base\n",
    "del df_parsedX_900000_match_GLOBOCAN"
   ]
  }
 ],
 "metadata": {
  "kernelspec": {
   "display_name": "Python 3 (ipykernel)",
   "language": "python",
   "name": "python3"
  },
  "language_info": {
   "codemirror_mode": {
    "name": "ipython",
    "version": 3
   },
   "file_extension": ".py",
   "mimetype": "text/x-python",
   "name": "python",
   "nbconvert_exporter": "python",
   "pygments_lexer": "ipython3",
   "version": "3.13.2"
  }
 },
 "nbformat": 4,
 "nbformat_minor": 5
}
