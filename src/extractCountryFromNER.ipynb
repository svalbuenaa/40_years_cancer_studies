{
 "cells": [
  {
   "cell_type": "code",
   "execution_count": 102,
   "id": "4ef54bae-c419-4666-b029-246b42b8b898",
   "metadata": {},
   "outputs": [],
   "source": [
    "import pandas as pd\n",
    "import numpy as np\n",
    "import os\n",
    "import gc\n",
    "import time\n",
    "import re\n",
    "import ast\n",
    "import country_converter as coco\n",
    "import time\n",
    "\n",
    "import logging\n",
    "coco_logger = logging.getLogger('country_converter.country_converter')\n",
    "coco_logger.setLevel(logging.ERROR)"
   ]
  },
  {
   "cell_type": "code",
   "execution_count": 2,
   "id": "619c3c9d-1578-4823-84a5-a09824e8f437",
   "metadata": {},
   "outputs": [
    {
     "name": "stdin",
     "output_type": "stream",
     "text": [
      "  C:\\Users\\svalb\\OneDrive\\Escritorio\\Data_40_years_cancer_studies\\\n"
     ]
    }
   ],
   "source": [
    "DF_input = input().strip()"
   ]
  },
  {
   "cell_type": "code",
   "execution_count": 3,
   "id": "1bafe16a-ebab-4883-b3ee-1ae6423779d1",
   "metadata": {},
   "outputs": [
    {
     "name": "stdin",
     "output_type": "stream",
     "text": [
      " C:\\Users\\svalb\\OneDrive\\Escritorio\\Data_40_years_cancer_studies\\resources\\allCountries_clean.csv\n"
     ]
    }
   ],
   "source": [
    "entities_database_input = input().strip()"
   ]
  },
  {
   "cell_type": "code",
   "execution_count": 52,
   "id": "458742f3-0efa-4b0a-bb61-de1d55664d9e",
   "metadata": {},
   "outputs": [
    {
     "name": "stdin",
     "output_type": "stream",
     "text": [
      " C:\\Users\\svalb\\OneDrive\\Escritorio\\Data_40_years_cancer_studies\\resources\\ScimagoIR 2025 - Overall Rank.csv\n"
     ]
    }
   ],
   "source": [
    "institutions_database_input = input().strip()"
   ]
  },
  {
   "cell_type": "code",
   "execution_count": 4,
   "id": "22bb8c86-2ba2-4fa1-9f9f-2558c632cbbd",
   "metadata": {},
   "outputs": [],
   "source": [
    "df=pd.read_csv(DF_input+\"parsedX_100000.csv\")"
   ]
  },
  {
   "cell_type": "code",
   "execution_count": 5,
   "id": "88e15d09-8e59-4641-94bc-7e24de50f8c2",
   "metadata": {},
   "outputs": [],
   "source": [
    "entities_database = pd.read_csv(entities_database_input)"
   ]
  },
  {
   "cell_type": "code",
   "execution_count": 54,
   "id": "4b12cd65-b6d2-4259-9e2f-27c2cca35470",
   "metadata": {},
   "outputs": [],
   "source": [
    "institutions_database = pd.read_csv(institutions_database_input, sep=\";\")"
   ]
  },
  {
   "cell_type": "code",
   "execution_count": 55,
   "id": "c1407261-30e6-41cc-84dc-6a7a391171de",
   "metadata": {},
   "outputs": [
    {
     "data": {
      "text/html": [
       "<div>\n",
       "<style scoped>\n",
       "    .dataframe tbody tr th:only-of-type {\n",
       "        vertical-align: middle;\n",
       "    }\n",
       "\n",
       "    .dataframe tbody tr th {\n",
       "        vertical-align: top;\n",
       "    }\n",
       "\n",
       "    .dataframe thead th {\n",
       "        text-align: right;\n",
       "    }\n",
       "</style>\n",
       "<table border=\"1\" class=\"dataframe\">\n",
       "  <thead>\n",
       "    <tr style=\"text-align: right;\">\n",
       "      <th></th>\n",
       "      <th>Global Rank</th>\n",
       "      <th>Institution</th>\n",
       "      <th>Country</th>\n",
       "      <th>Sector</th>\n",
       "      <th>Best Country Quartile</th>\n",
       "    </tr>\n",
       "  </thead>\n",
       "  <tbody>\n",
       "    <tr>\n",
       "      <th>0</th>\n",
       "      <td>1</td>\n",
       "      <td>Chinese Academy of Sciences *</td>\n",
       "      <td>CHN</td>\n",
       "      <td>Government</td>\n",
       "      <td>1</td>\n",
       "    </tr>\n",
       "    <tr>\n",
       "      <th>1</th>\n",
       "      <td>2</td>\n",
       "      <td>Ministry of Education of the People's Republic...</td>\n",
       "      <td>CHN</td>\n",
       "      <td>Government</td>\n",
       "      <td>1</td>\n",
       "    </tr>\n",
       "    <tr>\n",
       "      <th>2</th>\n",
       "      <td>3</td>\n",
       "      <td>Centre National de la Recherche Scientifique *</td>\n",
       "      <td>FRA</td>\n",
       "      <td>Government</td>\n",
       "      <td>1</td>\n",
       "    </tr>\n",
       "    <tr>\n",
       "      <th>3</th>\n",
       "      <td>4</td>\n",
       "      <td>Harvard University *</td>\n",
       "      <td>USA</td>\n",
       "      <td>Universities</td>\n",
       "      <td>1</td>\n",
       "    </tr>\n",
       "    <tr>\n",
       "      <th>4</th>\n",
       "      <td>5</td>\n",
       "      <td>University of Chinese Academy of Sciences *</td>\n",
       "      <td>CHN</td>\n",
       "      <td>Universities</td>\n",
       "      <td>1</td>\n",
       "    </tr>\n",
       "    <tr>\n",
       "      <th>...</th>\n",
       "      <td>...</td>\n",
       "      <td>...</td>\n",
       "      <td>...</td>\n",
       "      <td>...</td>\n",
       "      <td>...</td>\n",
       "    </tr>\n",
       "    <tr>\n",
       "      <th>9751</th>\n",
       "      <td>9752</td>\n",
       "      <td>Iranian Research Institute of Plant Protection</td>\n",
       "      <td>IRN</td>\n",
       "      <td>Government</td>\n",
       "      <td>4</td>\n",
       "    </tr>\n",
       "    <tr>\n",
       "      <th>9752</th>\n",
       "      <td>9753</td>\n",
       "      <td>Al-Turath University College</td>\n",
       "      <td>IRQ</td>\n",
       "      <td>Universities</td>\n",
       "      <td>4</td>\n",
       "    </tr>\n",
       "    <tr>\n",
       "      <th>9753</th>\n",
       "      <td>9754</td>\n",
       "      <td>Ecole Normale Superieure de Kouba Bachir el Ib...</td>\n",
       "      <td>DZA</td>\n",
       "      <td>Universities</td>\n",
       "      <td>4</td>\n",
       "    </tr>\n",
       "    <tr>\n",
       "      <th>9754</th>\n",
       "      <td>9755</td>\n",
       "      <td>Semashko National Research Institute of Public...</td>\n",
       "      <td>RUS</td>\n",
       "      <td>Health</td>\n",
       "      <td>4</td>\n",
       "    </tr>\n",
       "    <tr>\n",
       "      <th>9755</th>\n",
       "      <td>9756</td>\n",
       "      <td>Samarqand Qishloq xo`Jalik Instituti</td>\n",
       "      <td>UZB</td>\n",
       "      <td>Universities</td>\n",
       "      <td>3</td>\n",
       "    </tr>\n",
       "  </tbody>\n",
       "</table>\n",
       "<p>9756 rows × 5 columns</p>\n",
       "</div>"
      ],
      "text/plain": [
       "      Global Rank                                        Institution Country  \\\n",
       "0               1                      Chinese Academy of Sciences *     CHN   \n",
       "1               2  Ministry of Education of the People's Republic...     CHN   \n",
       "2               3     Centre National de la Recherche Scientifique *     FRA   \n",
       "3               4                               Harvard University *     USA   \n",
       "4               5        University of Chinese Academy of Sciences *     CHN   \n",
       "...           ...                                                ...     ...   \n",
       "9751         9752     Iranian Research Institute of Plant Protection     IRN   \n",
       "9752         9753                       Al-Turath University College     IRQ   \n",
       "9753         9754  Ecole Normale Superieure de Kouba Bachir el Ib...     DZA   \n",
       "9754         9755  Semashko National Research Institute of Public...     RUS   \n",
       "9755         9756               Samarqand Qishloq xo`Jalik Instituti     UZB   \n",
       "\n",
       "            Sector  Best Country Quartile  \n",
       "0       Government                      1  \n",
       "1       Government                      1  \n",
       "2       Government                      1  \n",
       "3     Universities                      1  \n",
       "4     Universities                      1  \n",
       "...            ...                    ...  \n",
       "9751    Government                      4  \n",
       "9752  Universities                      4  \n",
       "9753  Universities                      4  \n",
       "9754        Health                      4  \n",
       "9755  Universities                      3  \n",
       "\n",
       "[9756 rows x 5 columns]"
      ]
     },
     "execution_count": 55,
     "metadata": {},
     "output_type": "execute_result"
    }
   ],
   "source": [
    "institutions_database"
   ]
  },
  {
   "cell_type": "code",
   "execution_count": 57,
   "id": "fdd4bc2b-ea8d-4095-880a-ac9895baa99f",
   "metadata": {},
   "outputs": [],
   "source": [
    "# Remove \" *\" from institutions when present\n",
    "institutions_database[\"Institution\"] = institutions_database[\"Institution\"].apply(lambda x: x[:-2] if x[-2:] == \" *\" else x)"
   ]
  },
  {
   "cell_type": "code",
   "execution_count": 6,
   "id": "d405d39d-63f9-4016-a33f-680e6dad20c2",
   "metadata": {},
   "outputs": [
    {
     "data": {
      "text/html": [
       "<div>\n",
       "<style scoped>\n",
       "    .dataframe tbody tr th:only-of-type {\n",
       "        vertical-align: middle;\n",
       "    }\n",
       "\n",
       "    .dataframe tbody tr th {\n",
       "        vertical-align: top;\n",
       "    }\n",
       "\n",
       "    .dataframe thead th {\n",
       "        text-align: right;\n",
       "    }\n",
       "</style>\n",
       "<table border=\"1\" class=\"dataframe\">\n",
       "  <thead>\n",
       "    <tr style=\"text-align: right;\">\n",
       "      <th></th>\n",
       "      <th>name</th>\n",
       "      <th>asciiname</th>\n",
       "      <th>alternatenames</th>\n",
       "      <th>country code</th>\n",
       "    </tr>\n",
       "  </thead>\n",
       "  <tbody>\n",
       "    <tr>\n",
       "      <th>0</th>\n",
       "      <td>Xixerella</td>\n",
       "      <td>Xixerella</td>\n",
       "      <td>NaN</td>\n",
       "      <td>AD</td>\n",
       "    </tr>\n",
       "    <tr>\n",
       "      <th>1</th>\n",
       "      <td>Vila</td>\n",
       "      <td>Vila</td>\n",
       "      <td>Casas Vila,Vila</td>\n",
       "      <td>AD</td>\n",
       "    </tr>\n",
       "    <tr>\n",
       "      <th>2</th>\n",
       "      <td>Tossalet i Vinyals1</td>\n",
       "      <td>Tossalet i Vinyals1</td>\n",
       "      <td>Tossalet i Vin'jal's,Tossalet i Vinyals,Тоссал...</td>\n",
       "      <td>AD</td>\n",
       "    </tr>\n",
       "    <tr>\n",
       "      <th>3</th>\n",
       "      <td>Sornàs</td>\n",
       "      <td>Sornas</td>\n",
       "      <td>Sornas,Sornàs</td>\n",
       "      <td>AD</td>\n",
       "    </tr>\n",
       "    <tr>\n",
       "      <th>4</th>\n",
       "      <td>Soldeu</td>\n",
       "      <td>Soldeu</td>\n",
       "      <td>Sol'deu,Soldeu,surudeu,swldw,Сольдеу,סולדאו,سو...</td>\n",
       "      <td>AD</td>\n",
       "    </tr>\n",
       "  </tbody>\n",
       "</table>\n",
       "</div>"
      ],
      "text/plain": [
       "                  name            asciiname  \\\n",
       "0            Xixerella            Xixerella   \n",
       "1                 Vila                 Vila   \n",
       "2  Tossalet i Vinyals1  Tossalet i Vinyals1   \n",
       "3               Sornàs               Sornas   \n",
       "4               Soldeu               Soldeu   \n",
       "\n",
       "                                      alternatenames country code  \n",
       "0                                                NaN           AD  \n",
       "1                                    Casas Vila,Vila           AD  \n",
       "2  Tossalet i Vin'jal's,Tossalet i Vinyals,Тоссал...           AD  \n",
       "3                                      Sornas,Sornàs           AD  \n",
       "4  Sol'deu,Soldeu,surudeu,swldw,Сольдеу,סולדאו,سو...           AD  "
      ]
     },
     "execution_count": 6,
     "metadata": {},
     "output_type": "execute_result"
    }
   ],
   "source": [
    "entities_database.head()"
   ]
  },
  {
   "cell_type": "code",
   "execution_count": 105,
   "id": "9710b904-8b6c-4395-a27b-f2cd1dbb9330",
   "metadata": {},
   "outputs": [
    {
     "data": {
      "text/html": [
       "<div>\n",
       "<style scoped>\n",
       "    .dataframe tbody tr th:only-of-type {\n",
       "        vertical-align: middle;\n",
       "    }\n",
       "\n",
       "    .dataframe tbody tr th {\n",
       "        vertical-align: top;\n",
       "    }\n",
       "\n",
       "    .dataframe thead th {\n",
       "        text-align: right;\n",
       "    }\n",
       "</style>\n",
       "<table border=\"1\" class=\"dataframe\">\n",
       "  <thead>\n",
       "    <tr style=\"text-align: right;\">\n",
       "      <th></th>\n",
       "      <th>Global Rank</th>\n",
       "      <th>Institution</th>\n",
       "      <th>Country</th>\n",
       "      <th>Sector</th>\n",
       "      <th>Best Country Quartile</th>\n",
       "    </tr>\n",
       "  </thead>\n",
       "  <tbody>\n",
       "    <tr>\n",
       "      <th>0</th>\n",
       "      <td>1</td>\n",
       "      <td>Chinese Academy of Sciences</td>\n",
       "      <td>CHN</td>\n",
       "      <td>Government</td>\n",
       "      <td>1</td>\n",
       "    </tr>\n",
       "    <tr>\n",
       "      <th>1</th>\n",
       "      <td>2</td>\n",
       "      <td>Ministry of Education of the People's Republic...</td>\n",
       "      <td>CHN</td>\n",
       "      <td>Government</td>\n",
       "      <td>1</td>\n",
       "    </tr>\n",
       "    <tr>\n",
       "      <th>2</th>\n",
       "      <td>3</td>\n",
       "      <td>Centre National de la Recherche Scientifique</td>\n",
       "      <td>FRA</td>\n",
       "      <td>Government</td>\n",
       "      <td>1</td>\n",
       "    </tr>\n",
       "    <tr>\n",
       "      <th>3</th>\n",
       "      <td>4</td>\n",
       "      <td>Harvard University</td>\n",
       "      <td>USA</td>\n",
       "      <td>Universities</td>\n",
       "      <td>1</td>\n",
       "    </tr>\n",
       "    <tr>\n",
       "      <th>4</th>\n",
       "      <td>5</td>\n",
       "      <td>University of Chinese Academy of Sciences</td>\n",
       "      <td>CHN</td>\n",
       "      <td>Universities</td>\n",
       "      <td>1</td>\n",
       "    </tr>\n",
       "  </tbody>\n",
       "</table>\n",
       "</div>"
      ],
      "text/plain": [
       "   Global Rank                                        Institution Country  \\\n",
       "0            1                        Chinese Academy of Sciences     CHN   \n",
       "1            2  Ministry of Education of the People's Republic...     CHN   \n",
       "2            3       Centre National de la Recherche Scientifique     FRA   \n",
       "3            4                                 Harvard University     USA   \n",
       "4            5          University of Chinese Academy of Sciences     CHN   \n",
       "\n",
       "         Sector  Best Country Quartile  \n",
       "0    Government                      1  \n",
       "1    Government                      1  \n",
       "2    Government                      1  \n",
       "3  Universities                      1  \n",
       "4  Universities                      1  "
      ]
     },
     "execution_count": 105,
     "metadata": {},
     "output_type": "execute_result"
    }
   ],
   "source": [
    "institutions_database.head()"
   ]
  },
  {
   "cell_type": "code",
   "execution_count": 115,
   "id": "343934e6-14f8-4a8b-bdf7-9d28c637c1e4",
   "metadata": {},
   "outputs": [
    {
     "data": {
      "text/plain": [
       "array([\"[{'Name': 'G Karp', 'Affiliation': ['Department of Medicine, UMDNJ-Robert Wood Johnson Medical School.']}, {'Name': 'K Nahum', 'Affiliation': []}]\"],\n",
       "      dtype=object)"
      ]
     },
     "execution_count": 115,
     "metadata": {},
     "output_type": "execute_result"
    }
   ],
   "source": [
    "df.loc[df[\"PMID\"]==1279132][\"Authors\"].values"
   ]
  },
  {
   "cell_type": "code",
   "execution_count": 12,
   "id": "3cd3c98f-f85a-426c-88e6-e6f38940b117",
   "metadata": {},
   "outputs": [],
   "source": [
    "cc = coco.CountryConverter()\n",
    "\n",
    "# Define a dictionary for US states\n",
    "us_states_to_country = {\n",
    "    \"Alabama\": \"United States\", \"Alaska\": \"United States\", \"Arizona\": \"United States\",\n",
    "    \"Arkansas\": \"United States\", \"California\": \"United States\", \"Colorado\": \"United States\",\n",
    "    \"Connecticut\": \"United States\", \"Delaware\": \"United States\", \"Florida\": \"United States\",\n",
    "    \"Georgia\": \"United States\", \"Hawaii\": \"United States\", \"Idaho\": \"United States\",\n",
    "    \"Illinois\": \"United States\", \"Indiana\": \"United States\", \"Iowa\": \"United States\",\n",
    "    \"Kansas\": \"United States\", \"Kentucky\": \"United States\", \"Louisiana\": \"United States\",\n",
    "    \"Maine\": \"United States\", \"Maryland\": \"United States\", \"Massachusetts\": \"United States\",\n",
    "    \"Michigan\": \"United States\", \"Minnesota\": \"United States\", \"Mississippi\": \"United States\",\n",
    "    \"Missouri\": \"United States\", \"Montana\": \"United States\", \"Nebraska\": \"United States\",\n",
    "    \"Nevada\": \"United States\", \"New Hampshire\": \"United States\", \"New Jersey\": \"United States\",\n",
    "    \"New Mexico\": \"United States\", \"New York\": \"United States\", \"North Carolina\": \"United States\",\n",
    "    \"North Dakota\": \"United States\", \"Ohio\": \"United States\", \"Oklahoma\": \"United States\",\n",
    "    \"Oregon\": \"United States\", \"Pennsylvania\": \"United States\", \"Rhode Island\": \"United States\",\n",
    "    \"South Carolina\": \"United States\", \"South Dakota\": \"United States\", \"Tennessee\": \"United States\",\n",
    "    \"Texas\": \"United States\", \"Utah\": \"United States\", \"Vermont\": \"United States\",\n",
    "    \"Virginia\": \"United States\", \"Washington\": \"United States\", \"West Virginia\": \"United States\",\n",
    "    \"Wisconsin\": \"United States\", \"Wyoming\": \"United States\",\n",
    "    \"DC\": \"United States\", \"District of Columbia\": \"United States\", \n",
    "    \"CA\": \"United States\", \"NY\": \"United States\", \"TX\": \"United States\"\n",
    "}"
   ]
  },
  {
   "cell_type": "code",
   "execution_count": 103,
   "id": "dfffffae-610b-4ee3-8e32-a1290f4ae290",
   "metadata": {},
   "outputs": [
    {
     "name": "stdout",
     "output_type": "stream",
     "text": [
      "12.399199485778809\n"
     ]
    }
   ],
   "source": [
    "def extract_country_with_states(cell_content):\n",
    "    if pd.isna(cell_content) or cell_content is None:\n",
    "        return None\n",
    "\n",
    "    elif isinstance(ast.literal_eval(cell_content), list):\n",
    "        parsed_content = ast.literal_eval(cell_content)\n",
    "        countries = []\n",
    "        for el in parsed_content:\n",
    "            if isinstance(el, dict):\n",
    "                text = el[\"text\"]\n",
    "                label = el[\"label\"]\n",
    "\n",
    "                if text in list(us_states_to_country.keys()):\n",
    "                    text = us_states_to_country[text]\n",
    "                \n",
    "                if label in [\"LOC\", \"GPE\"]:\n",
    "                    standard_names = cc.convert(names = text, to = 'name_short')\n",
    "                    if standard_names != \"not found\":\n",
    "                        countries.append(standard_names)\n",
    "            else:\n",
    "                pass\n",
    "            \n",
    "        if len(countries) == 1:\n",
    "            return countries[0]\n",
    "            \n",
    "        elif len(countries) == 0:\n",
    "            string_parts = [el[\"text\"] for el in parsed_content if isinstance(el, dict) and \"text\" in el]\n",
    "            string = \", \".join(string_parts) + \", \" if string_parts else \"\"\n",
    "            for el in parsed_content:\n",
    "                entity_name = el[\"text\"]\n",
    "                if len(institutions_database[institutions_database[\"Institution\"]==entity_name]) == 1:\n",
    "                    return cc.convert(institutions_database[institutions_database[\"Institution\"]==entity_name][\"Country\"].values[0], to=\"name_short\")\n",
    "                \n",
    "            for el in parsed_content[::-1]:\n",
    "                entity_name = el[\"text\"]\n",
    "                df_entities = entities_database[entities_database[\"name\"]==entity_name]\n",
    "                if len(df_entities) == 1:\n",
    "                    return cc.convert(df_entities[\"country code\"].iloc[0], to=\"name_short\")\n",
    "            \n",
    "                elif len(df_entities) > 1:\n",
    "                    possible_countries = df_entities[\"country code\"].values\n",
    "                    for country in possible_countries:\n",
    "                        if type(country)==str:\n",
    "                            country_short_name = cc.convert(country, to=\"name_short\")\n",
    "                            if country_short_name != \"not found\" and re.search(r'\\b' + re.escape(country_short_name) + r'\\b', string):\n",
    "                                return country_short_name\n",
    "                else:\n",
    "                    return None\n",
    "                        \n",
    "        else:\n",
    "            count_country = {}\n",
    "            for el in countries:\n",
    "                if el in list(count_country.keys()):\n",
    "                    count_country[el] += 1\n",
    "                else:\n",
    "                    count_country[el] = 1\n",
    "\n",
    "            top_country = list(count_country.keys())[list(count_country.values()).index(max(count_country.values()))]\n",
    "            return top_country\n",
    "\n",
    "    else:\n",
    "        return None\n",
    "\n",
    "start = time.time()\n",
    "df_2[\"Country\"] = df_2[\"NER_lastAuthor\"].apply(extract_country_with_states)\n",
    "\n",
    "print(time.time()-start)"
   ]
  },
  {
   "cell_type": "code",
   "execution_count": 8,
   "id": "f5eb83e5-f729-4b35-99a7-83cf88298377",
   "metadata": {},
   "outputs": [],
   "source": [
    "df_2 = df.copy(deep=True)"
   ]
  },
  {
   "cell_type": "code",
   "execution_count": 196,
   "id": "9e785d58-8d45-40a5-84a4-b1ef9ff9ed26",
   "metadata": {},
   "outputs": [],
   "source": [
    "df_2 = df_2.iloc[0:100]"
   ]
  }
 ],
 "metadata": {
  "kernelspec": {
   "display_name": "Python 3 (ipykernel)",
   "language": "python",
   "name": "python3"
  },
  "language_info": {
   "codemirror_mode": {
    "name": "ipython",
    "version": 3
   },
   "file_extension": ".py",
   "mimetype": "text/x-python",
   "name": "python",
   "nbconvert_exporter": "python",
   "pygments_lexer": "ipython3",
   "version": "3.13.2"
  }
 },
 "nbformat": 4,
 "nbformat_minor": 5
}
