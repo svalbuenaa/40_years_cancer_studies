{
 "cells": [
  {
   "cell_type": "markdown",
   "id": "1b89bfb8-6a0d-4fd6-af19-7c1ce766c626",
   "metadata": {},
   "source": [
    "### IMPORTANT NOTE\n",
    "This file splits the data into base and match_GLOBOCAN datasets. The match_GLOBOCAN is later adapted (file **9-matchArticlesWITHGlobocan.ipynb**) to the countries and cancer types and naming included in the GLOBOCAN dataset, whereas the base dataset stays as is.  The original folder is then erased"
   ]
  },
  {
   "cell_type": "code",
   "execution_count": 16,
   "id": "a19eee6d-e7d6-4b74-af5f-e264dc9ad673",
   "metadata": {},
   "outputs": [],
   "source": [
    "import os\n",
    "import shutil\n",
    "from tqdm import tqdm"
   ]
  },
  {
   "cell_type": "code",
   "execution_count": 2,
   "id": "890c3806-9854-4374-804a-2e84d55d1758",
   "metadata": {},
   "outputs": [
    {
     "name": "stdin",
     "output_type": "stream",
     "text": [
      " C:\\Users\\svalb\\OneDrive\\Escritorio\\Data_40_years_cancer_studies\\trial_split\\\n"
     ]
    }
   ],
   "source": [
    "DF_input = input().strip()"
   ]
  },
  {
   "cell_type": "code",
   "execution_count": 3,
   "id": "4c68a89c-ea53-41dd-b083-1ea071ecfb5a",
   "metadata": {},
   "outputs": [
    {
     "name": "stdin",
     "output_type": "stream",
     "text": [
      " C:\\Users\\svalb\\OneDrive\\Escritorio\\Data_40_years_cancer_studies\\trial_split_base\\\n"
     ]
    }
   ],
   "source": [
    "DF_output_base = input().strip()"
   ]
  },
  {
   "cell_type": "code",
   "execution_count": 4,
   "id": "9b68872c-8ff1-461f-830b-6906486fcb0c",
   "metadata": {},
   "outputs": [
    {
     "name": "stdin",
     "output_type": "stream",
     "text": [
      " C:\\Users\\svalb\\OneDrive\\Escritorio\\Data_40_years_cancer_studies\\trial_split_match_GLOBOCAN\\\n"
     ]
    }
   ],
   "source": [
    "DF_output_match_GLOBOCAN = input().strip()"
   ]
  },
  {
   "cell_type": "code",
   "execution_count": 7,
   "id": "33d2e54a-67b1-4dfd-8453-367eab076eca",
   "metadata": {},
   "outputs": [
    {
     "name": "stdout",
     "output_type": "stream",
     "text": [
      "Creating directory C:\\Users\\svalb\\OneDrive\\Escritorio\\Data_40_years_cancer_studies\\trial_split_match_GLOBOCAN\\\n"
     ]
    }
   ],
   "source": [
    "# Check and create base dir\n",
    "if os.path.exists(DF_output_base):\n",
    "    if len(os.listdir(DF_output_base)) > 0:\n",
    "        raise OSError(f\"OUTPUT DIR {DF_output_base} IS NOT EMPTY, EMPTY IT TO PREVENT DATA LOSS AND AGGREGATION ERRORS\")\n",
    "else:\n",
    "    print(f\"Creating directory {DF_output_base}\")\n",
    "    os.mkdir(DF_output_base)\n",
    "\n",
    "# Check and create match_GLOBOCAN dir\n",
    "if os.path.exists(DF_output_match_GLOBOCAN):\n",
    "    if len(os.listdir(DF_output_match_GLOBOCAN)) > 0:\n",
    "        raise OSError(f\"OUTPUT DIR {DF_output_match_GLOBOCAN} IS NOT EMPTY, EMPTY IT TO PREVENT DATA LOSS AND AGGREGATION ERRORS\")\n",
    "else:\n",
    "    print(f\"Creating directory {DF_output_match_GLOBOCAN}\")\n",
    "    os.mkdir(DF_output_match_GLOBOCAN)"
   ]
  },
  {
   "cell_type": "code",
   "execution_count": 14,
   "id": "1bb60910-4632-4620-9804-ac286e918c72",
   "metadata": {},
   "outputs": [
    {
     "data": {
      "text/plain": [
       "['parsedXMLs_first_upd_100000.csv', 'parsedXMLs_first_upd_200000.csv']"
      ]
     },
     "execution_count": 14,
     "metadata": {},
     "output_type": "execute_result"
    }
   ],
   "source": [
    "# Import file names of csvs contained in the DF_input dir\n",
    "list_dfs_papers = []\n",
    "\n",
    "for file in os.listdir(DF_input):\n",
    "    if file[-4:] == \".csv\":\n",
    "        list_dfs_papers.append(file)\n",
    "\n",
    "list_dfs_papers"
   ]
  },
  {
   "cell_type": "code",
   "execution_count": 17,
   "id": "af059106-5118-4a58-bbb1-979a6d5fd8cb",
   "metadata": {},
   "outputs": [
    {
     "name": "stderr",
     "output_type": "stream",
     "text": [
      "  0%|                                                                                            | 0/2 [00:00<?, ?it/s]"
     ]
    },
    {
     "name": "stdout",
     "output_type": "stream",
     "text": [
      "Copying file. parsedXMLs_first_upd_100000.csv\n"
     ]
    },
    {
     "name": "stderr",
     "output_type": "stream",
     "text": [
      " 50%|██████████████████████████████████████████                                          | 1/2 [00:00<00:00,  2.76it/s]"
     ]
    },
    {
     "name": "stdout",
     "output_type": "stream",
     "text": [
      "Copying file. parsedXMLs_first_upd_200000.csv\n"
     ]
    },
    {
     "name": "stderr",
     "output_type": "stream",
     "text": [
      "100%|████████████████████████████████████████████████████████████████████████████████████| 2/2 [00:00<00:00,  2.73it/s]\n"
     ]
    }
   ],
   "source": [
    "for file in tqdm(list_dfs_papers):\n",
    "    print(f\"Copying file. {file}\")\n",
    "    shutil.copyfile(DF_input + file, DF_output_base + file)\n",
    "    shutil.copyfile(DF_input + file, DF_output_match_GLOBOCAN + file)"
   ]
  },
  {
   "cell_type": "markdown",
   "id": "4757951f-0a27-4d2a-ac9d-4f61cba3d98c",
   "metadata": {},
   "source": [
    "### DANGER ZONE\n",
    "Removing files and input folder to avoid duplication"
   ]
  },
  {
   "cell_type": "code",
   "execution_count": 18,
   "id": "f886abb0-111f-49af-b02c-8bc58f2f63cf",
   "metadata": {},
   "outputs": [
    {
     "ename": "OSError",
     "evalue": "[WinError 145] The directory is not empty: 'C:\\\\Users\\\\svalb\\\\OneDrive\\\\Escritorio\\\\Data_40_years_cancer_studies\\\\trial_split\\\\'",
     "output_type": "error",
     "traceback": [
      "\u001b[31m---------------------------------------------------------------------------\u001b[39m",
      "\u001b[31mOSError\u001b[39m                                   Traceback (most recent call last)",
      "\u001b[36mCell\u001b[39m\u001b[36m \u001b[39m\u001b[32mIn[18]\u001b[39m\u001b[32m, line 1\u001b[39m\n\u001b[32m----> \u001b[39m\u001b[32m1\u001b[39m os.rmdir(DF_input)\n",
      "\u001b[31mOSError\u001b[39m: [WinError 145] The directory is not empty: 'C:\\\\Users\\\\svalb\\\\OneDrive\\\\Escritorio\\\\Data_40_years_cancer_studies\\\\trial_split\\\\'"
     ]
    }
   ],
   "source": [
    "shutil.rmtree(DF_input)"
   ]
  },
  {
   "cell_type": "code",
   "execution_count": null,
   "id": "81e3d612-8e43-41a6-bdf6-7bfa16fe886b",
   "metadata": {},
   "outputs": [],
   "source": []
  }
 ],
 "metadata": {
  "kernelspec": {
   "display_name": "Python 3 (ipykernel)",
   "language": "python",
   "name": "python3"
  },
  "language_info": {
   "codemirror_mode": {
    "name": "ipython",
    "version": 3
   },
   "file_extension": ".py",
   "mimetype": "text/x-python",
   "name": "python",
   "nbconvert_exporter": "python",
   "pygments_lexer": "ipython3",
   "version": "3.13.2"
  }
 },
 "nbformat": 4,
 "nbformat_minor": 5
}
