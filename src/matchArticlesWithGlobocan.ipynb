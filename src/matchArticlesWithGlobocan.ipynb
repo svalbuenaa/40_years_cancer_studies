{
 "cells": [
  {
   "cell_type": "code",
   "execution_count": 29,
   "id": "dde461a9-58f5-4bcd-bf84-c89b6d8d6731",
   "metadata": {},
   "outputs": [],
   "source": [
    "import os\n",
    "import time\n",
    "import ast\n",
    "import pandas as pd\n",
    "import numpy as np\n",
    "from tqdm import tqdm\n",
    "from itertools import chain\n",
    "\n",
    "# DType warning when importing .csv files with parsed PMIDs. Avoid showing the warning\n",
    "import warnings\n",
    "warnings.simplefilter(action='ignore', category=pd.errors.DtypeWarning)"
   ]
  },
  {
   "cell_type": "code",
   "execution_count": 3,
   "id": "3fea2df5-6de5-4f2e-85b3-2a81adc77423",
   "metadata": {},
   "outputs": [
    {
     "name": "stdin",
     "output_type": "stream",
     "text": [
      " C:\\Users\\svalb\\OneDrive\\Escritorio\\Data_40_years_cancer_studies\\parsedXMLs_match_GLOBOCAN\\\n"
     ]
    }
   ],
   "source": [
    "# Directory with the articles' dataset\n",
    "DF_input = input().strip()"
   ]
  },
  {
   "cell_type": "code",
   "execution_count": 4,
   "id": "b153cde4-e78a-4a6a-95a7-d41ae8639320",
   "metadata": {},
   "outputs": [
    {
     "name": "stdin",
     "output_type": "stream",
     "text": [
      " C:\\Users\\svalb\\OneDrive\\Escritorio\\Data_40_years_cancer_studies\\resources\\Globocan_dataset_ready.csv\n"
     ]
    }
   ],
   "source": [
    "# CSV with the finished Globocan dataset\n",
    "GLOBOCAN_input = input().strip()"
   ]
  },
  {
   "cell_type": "code",
   "execution_count": 5,
   "id": "874bbdda-01a1-49b5-9487-913f2d1fcaeb",
   "metadata": {
    "scrolled": true
   },
   "outputs": [
    {
     "data": {
      "text/plain": [
       "['parsedX_100000.csv',\n",
       " 'parsedX_1000000.csv',\n",
       " 'parsedX_1100000.csv',\n",
       " 'parsedX_1200000.csv',\n",
       " 'parsedX_1300000.csv',\n",
       " 'parsedX_1400000.csv',\n",
       " 'parsedX_1500000.csv',\n",
       " 'parsedX_1600000.csv',\n",
       " 'parsedX_1700000.csv',\n",
       " 'parsedX_1800000.csv',\n",
       " 'parsedX_1900000.csv',\n",
       " 'parsedX_200000.csv',\n",
       " 'parsedX_2000000.csv',\n",
       " 'parsedX_2100000.csv',\n",
       " 'parsedX_2200000.csv',\n",
       " 'parsedX_2300000.csv',\n",
       " 'parsedX_2400000.csv',\n",
       " 'parsedX_2500000.csv',\n",
       " 'parsedX_2600000.csv',\n",
       " 'parsedX_2700000.csv',\n",
       " 'parsedX_2800000.csv',\n",
       " 'parsedX_2900000.csv',\n",
       " 'parsedX_300000.csv',\n",
       " 'parsedX_3000000.csv',\n",
       " 'parsedX_3100000.csv',\n",
       " 'parsedX_3200000.csv',\n",
       " 'parsedX_3300000.csv',\n",
       " 'parsedX_3400000.csv',\n",
       " 'parsedX_3500000.csv',\n",
       " 'parsedX_3600000.csv',\n",
       " 'parsedX_3700000.csv',\n",
       " 'parsedX_3800000.csv',\n",
       " 'parsedX_3900000.csv',\n",
       " 'parsedX_400000.csv',\n",
       " 'parsedX_4000000.csv',\n",
       " 'parsedX_4100000.csv',\n",
       " 'parsedX_4200000.csv',\n",
       " 'parsedX_4300000.csv',\n",
       " 'parsedX_4400000.csv',\n",
       " 'parsedX_4454000.csv',\n",
       " 'parsedX_500000.csv',\n",
       " 'parsedX_600000.csv',\n",
       " 'parsedX_700000.csv',\n",
       " 'parsedX_800000.csv',\n",
       " 'parsedX_900000.csv']"
      ]
     },
     "execution_count": 5,
     "metadata": {},
     "output_type": "execute_result"
    }
   ],
   "source": [
    "# Import file names of csvs containint articles' data \n",
    "list_dfs_papers = []\n",
    "\n",
    "for file in os.listdir(DF_input):\n",
    "    if file[-4:] == \".csv\":\n",
    "        list_dfs_papers.append(file)\n",
    "\n",
    "list_dfs_papers"
   ]
  },
  {
   "cell_type": "code",
   "execution_count": 56,
   "id": "bc4aa9e7-f6f0-467b-863e-c43d2c875390",
   "metadata": {},
   "outputs": [
    {
     "data": {
      "text/plain": [
       "{'Anal cancer',\n",
       " 'Bladder cancer',\n",
       " 'Brain cancer',\n",
       " 'Breast cancer',\n",
       " 'Cervical cancer',\n",
       " 'Colon cancer',\n",
       " 'Colorectal cancer',\n",
       " 'Esophageal cancer',\n",
       " 'Gallbladder cancer',\n",
       " 'Hodgkin lymphoma',\n",
       " 'Kaposi sarcoma',\n",
       " 'Kidney cancer',\n",
       " 'Laryngeal cancer',\n",
       " 'Leukemia',\n",
       " 'Liver cancer',\n",
       " 'Lung cancer',\n",
       " 'Mesothelioma',\n",
       " 'Mouth cancer',\n",
       " 'Multiple myeloma',\n",
       " 'Non-Hodgkin lymphoma',\n",
       " 'Ovarian cancer',\n",
       " 'Pancreatic cancer',\n",
       " 'Penile cancer',\n",
       " 'Prostate cancer',\n",
       " 'Rectal cancer',\n",
       " 'Salivary gland cancer',\n",
       " 'Skin cancer',\n",
       " 'Stomach cancer',\n",
       " 'Testicular cancer',\n",
       " 'Throat cancer',\n",
       " 'Thyroid cancer',\n",
       " 'Uterine cancer',\n",
       " 'Vaginal cancer',\n",
       " 'Vulvar cancer'}"
      ]
     },
     "execution_count": 56,
     "metadata": {},
     "output_type": "execute_result"
    }
   ],
   "source": [
    "# Show cancer types in Globocan dataset\n",
    "df_globocan = pd.read_csv(GLOBOCAN_input)\n",
    "\n",
    "set(df_globocan[\"Cancer\"].to_list())"
   ]
  },
  {
   "cell_type": "code",
   "execution_count": 38,
   "id": "7bd40cbd-30e4-4939-a555-d7c567d3601b",
   "metadata": {
    "scrolled": true
   },
   "outputs": [
    {
     "data": {
      "text/plain": [
       "{'Afghanistan',\n",
       " 'Albania',\n",
       " 'Algeria',\n",
       " 'Angola',\n",
       " 'Argentina',\n",
       " 'Armenia',\n",
       " 'Australia',\n",
       " 'Austria',\n",
       " 'Azerbaijan',\n",
       " 'Bahamas',\n",
       " 'Bahrain',\n",
       " 'Bangladesh',\n",
       " 'Barbados',\n",
       " 'Belarus',\n",
       " 'Belgium',\n",
       " 'Belize',\n",
       " 'Benin',\n",
       " 'Bhutan',\n",
       " 'Bolivia',\n",
       " 'Bosnia and Herzegovina',\n",
       " 'Botswana',\n",
       " 'Brazil',\n",
       " 'Brunei Darussalam',\n",
       " 'Bulgaria',\n",
       " 'Burkina Faso',\n",
       " 'Burundi',\n",
       " 'Cabo Verde',\n",
       " 'Cambodia',\n",
       " 'Cameroon',\n",
       " 'Canada',\n",
       " 'Central African Republic',\n",
       " 'Chad',\n",
       " 'Chile',\n",
       " 'China',\n",
       " 'Colombia',\n",
       " 'Comoros',\n",
       " 'Congo Republic',\n",
       " 'Costa Rica',\n",
       " \"Cote d'Ivoire\",\n",
       " 'Croatia',\n",
       " 'Cuba',\n",
       " 'Cyprus',\n",
       " 'Czechia',\n",
       " 'DR Congo',\n",
       " 'Denmark',\n",
       " 'Djibouti',\n",
       " 'Dominican Republic',\n",
       " 'Ecuador',\n",
       " 'Egypt',\n",
       " 'El Salvador',\n",
       " 'Eritrea',\n",
       " 'Estonia',\n",
       " 'Eswatini',\n",
       " 'Ethiopia',\n",
       " 'Fiji',\n",
       " 'Finland',\n",
       " 'France',\n",
       " 'French Guiana',\n",
       " 'French Polynesia',\n",
       " 'Gabon',\n",
       " 'Gambia',\n",
       " 'Georgia',\n",
       " 'Germany',\n",
       " 'Ghana',\n",
       " 'Greece',\n",
       " 'Guadeloupe',\n",
       " 'Guam',\n",
       " 'Guatemala',\n",
       " 'Guinea',\n",
       " 'Guinea-Bissau',\n",
       " 'Guyana',\n",
       " 'Haiti',\n",
       " 'Honduras',\n",
       " 'Hungary',\n",
       " 'Iceland',\n",
       " 'India',\n",
       " 'Indonesia',\n",
       " 'Iran',\n",
       " 'Iraq',\n",
       " 'Ireland',\n",
       " 'Israel',\n",
       " 'Italy',\n",
       " 'Jamaica',\n",
       " 'Japan',\n",
       " 'Jordan',\n",
       " 'Kazakhstan',\n",
       " 'Kenya',\n",
       " 'Kuwait',\n",
       " 'Kyrgyz Republic',\n",
       " 'Laos',\n",
       " 'Latvia',\n",
       " 'Lebanon',\n",
       " 'Lesotho',\n",
       " 'Liberia',\n",
       " 'Libya',\n",
       " 'Lithuania',\n",
       " 'Luxembourg',\n",
       " 'Madagascar',\n",
       " 'Malawi',\n",
       " 'Malaysia',\n",
       " 'Maldives',\n",
       " 'Mali',\n",
       " 'Malta',\n",
       " 'Martinique',\n",
       " 'Mauritania',\n",
       " 'Mauritius',\n",
       " 'Mexico',\n",
       " 'Micronesia, Fed. Sts.',\n",
       " 'Moldova',\n",
       " 'Mongolia',\n",
       " 'Montenegro',\n",
       " 'Morocco',\n",
       " 'Mozambique',\n",
       " 'Myanmar',\n",
       " 'Namibia',\n",
       " 'Nepal',\n",
       " 'Netherlands',\n",
       " 'New Caledonia',\n",
       " 'New Zealand',\n",
       " 'Nicaragua',\n",
       " 'Niger',\n",
       " 'Nigeria',\n",
       " 'North Korea',\n",
       " 'North Macedonia',\n",
       " 'Norway',\n",
       " 'Oman',\n",
       " 'Pakistan',\n",
       " 'Palestine',\n",
       " 'Panama',\n",
       " 'Papua New Guinea',\n",
       " 'Paraguay',\n",
       " 'Peru',\n",
       " 'Philippines',\n",
       " 'Poland',\n",
       " 'Portugal',\n",
       " 'Puerto Rico',\n",
       " 'Qatar',\n",
       " 'Reunion',\n",
       " 'Romania',\n",
       " 'Russia',\n",
       " 'Rwanda',\n",
       " 'Samoa',\n",
       " 'Sao Tome and Principe',\n",
       " 'Saudi Arabia',\n",
       " 'Senegal',\n",
       " 'Serbia',\n",
       " 'Sierra Leone',\n",
       " 'Singapore',\n",
       " 'Slovakia',\n",
       " 'Slovenia',\n",
       " 'Solomon Islands',\n",
       " 'Somalia',\n",
       " 'South Africa',\n",
       " 'South Korea',\n",
       " 'South Sudan',\n",
       " 'Spain',\n",
       " 'Sri Lanka',\n",
       " 'St. Lucia',\n",
       " 'Sudan',\n",
       " 'Suriname',\n",
       " 'Sweden',\n",
       " 'Switzerland',\n",
       " 'Syria',\n",
       " 'Tajikistan',\n",
       " 'Tanzania',\n",
       " 'Thailand',\n",
       " 'Timor-Leste',\n",
       " 'Togo',\n",
       " 'Trinidad and Tobago',\n",
       " 'Tunisia',\n",
       " 'Turkmenistan',\n",
       " 'Türkiye',\n",
       " 'Uganda',\n",
       " 'Ukraine',\n",
       " 'United Arab Emirates',\n",
       " 'United Kingdom',\n",
       " 'United States',\n",
       " 'Uruguay',\n",
       " 'Uzbekistan',\n",
       " 'Vanuatu',\n",
       " 'Venezuela',\n",
       " 'Vietnam',\n",
       " 'Yemen',\n",
       " 'Zambia',\n",
       " 'Zimbabwe'}"
      ]
     },
     "execution_count": 38,
     "metadata": {},
     "output_type": "execute_result"
    }
   ],
   "source": [
    "# Show country names in Globocan dataset\n",
    "set(df_globocan[\"Country\"].to_list())"
   ]
  },
  {
   "cell_type": "code",
   "execution_count": 7,
   "id": "fb4af879-c9eb-4104-b3a4-c6215405fe17",
   "metadata": {
    "scrolled": true
   },
   "outputs": [
    {
     "name": "stderr",
     "output_type": "stream",
     "text": [
      "  0%|                                                                                           | 0/45 [00:00<?, ?it/s]"
     ]
    },
    {
     "name": "stdout",
     "output_type": "stream",
     "text": [
      "Parsing csv: parsedX_100000.csv, 1 / 45\n"
     ]
    },
    {
     "name": "stderr",
     "output_type": "stream",
     "text": [
      "  2%|█▊                                                                                 | 1/45 [00:02<01:54,  2.61s/it]"
     ]
    },
    {
     "name": "stdout",
     "output_type": "stream",
     "text": [
      "Parsing csv: parsedX_1000000.csv, 2 / 45\n"
     ]
    },
    {
     "name": "stderr",
     "output_type": "stream",
     "text": [
      "  4%|███▋                                                                               | 2/45 [00:05<02:06,  2.94s/it]"
     ]
    },
    {
     "name": "stdout",
     "output_type": "stream",
     "text": [
      "Parsing csv: parsedX_1100000.csv, 3 / 45\n"
     ]
    },
    {
     "name": "stderr",
     "output_type": "stream",
     "text": [
      "  7%|█████▌                                                                             | 3/45 [00:09<02:09,  3.08s/it]"
     ]
    },
    {
     "name": "stdout",
     "output_type": "stream",
     "text": [
      "Parsing csv: parsedX_1200000.csv, 4 / 45\n"
     ]
    },
    {
     "name": "stderr",
     "output_type": "stream",
     "text": [
      "  9%|███████▍                                                                           | 4/45 [00:12<02:09,  3.16s/it]"
     ]
    },
    {
     "name": "stdout",
     "output_type": "stream",
     "text": [
      "Parsing csv: parsedX_1300000.csv, 5 / 45\n"
     ]
    },
    {
     "name": "stderr",
     "output_type": "stream",
     "text": [
      " 11%|█████████▏                                                                         | 5/45 [00:15<02:07,  3.19s/it]"
     ]
    },
    {
     "name": "stdout",
     "output_type": "stream",
     "text": [
      "Parsing csv: parsedX_1400000.csv, 6 / 45\n"
     ]
    },
    {
     "name": "stderr",
     "output_type": "stream",
     "text": [
      " 13%|███████████                                                                        | 6/45 [00:18<02:04,  3.20s/it]"
     ]
    },
    {
     "name": "stdout",
     "output_type": "stream",
     "text": [
      "Parsing csv: parsedX_1500000.csv, 7 / 45\n"
     ]
    },
    {
     "name": "stderr",
     "output_type": "stream",
     "text": [
      " 16%|████████████▉                                                                      | 7/45 [00:21<02:02,  3.21s/it]"
     ]
    },
    {
     "name": "stdout",
     "output_type": "stream",
     "text": [
      "Parsing csv: parsedX_1600000.csv, 8 / 45\n"
     ]
    },
    {
     "name": "stderr",
     "output_type": "stream",
     "text": [
      " 18%|██████████████▊                                                                    | 8/45 [00:25<01:59,  3.23s/it]"
     ]
    },
    {
     "name": "stdout",
     "output_type": "stream",
     "text": [
      "Parsing csv: parsedX_1700000.csv, 9 / 45\n"
     ]
    },
    {
     "name": "stderr",
     "output_type": "stream",
     "text": [
      " 20%|████████████████▌                                                                  | 9/45 [00:28<01:57,  3.27s/it]"
     ]
    },
    {
     "name": "stdout",
     "output_type": "stream",
     "text": [
      "Parsing csv: parsedX_1800000.csv, 10 / 45\n"
     ]
    },
    {
     "name": "stderr",
     "output_type": "stream",
     "text": [
      " 22%|██████████████████▏                                                               | 10/45 [00:32<01:57,  3.35s/it]"
     ]
    },
    {
     "name": "stdout",
     "output_type": "stream",
     "text": [
      "Parsing csv: parsedX_1900000.csv, 11 / 45\n"
     ]
    },
    {
     "name": "stderr",
     "output_type": "stream",
     "text": [
      " 24%|████████████████████                                                              | 11/45 [00:35<01:55,  3.38s/it]"
     ]
    },
    {
     "name": "stdout",
     "output_type": "stream",
     "text": [
      "Parsing csv: parsedX_200000.csv, 12 / 45\n"
     ]
    },
    {
     "name": "stderr",
     "output_type": "stream",
     "text": [
      " 27%|█████████████████████▊                                                            | 12/45 [00:38<01:43,  3.13s/it]"
     ]
    },
    {
     "name": "stdout",
     "output_type": "stream",
     "text": [
      "Parsing csv: parsedX_2000000.csv, 13 / 45\n"
     ]
    },
    {
     "name": "stderr",
     "output_type": "stream",
     "text": [
      " 29%|███████████████████████▋                                                          | 13/45 [00:41<01:45,  3.28s/it]"
     ]
    },
    {
     "name": "stdout",
     "output_type": "stream",
     "text": [
      "Parsing csv: parsedX_2100000.csv, 14 / 45\n"
     ]
    },
    {
     "name": "stderr",
     "output_type": "stream",
     "text": [
      " 31%|█████████████████████████▌                                                        | 14/45 [00:45<01:44,  3.36s/it]"
     ]
    },
    {
     "name": "stdout",
     "output_type": "stream",
     "text": [
      "Parsing csv: parsedX_2200000.csv, 15 / 45\n"
     ]
    },
    {
     "name": "stderr",
     "output_type": "stream",
     "text": [
      " 33%|███████████████████████████▎                                                      | 15/45 [00:48<01:42,  3.42s/it]"
     ]
    },
    {
     "name": "stdout",
     "output_type": "stream",
     "text": [
      "Parsing csv: parsedX_2300000.csv, 16 / 45\n"
     ]
    },
    {
     "name": "stderr",
     "output_type": "stream",
     "text": [
      " 36%|█████████████████████████████▏                                                    | 16/45 [00:52<01:42,  3.55s/it]"
     ]
    },
    {
     "name": "stdout",
     "output_type": "stream",
     "text": [
      "Parsing csv: parsedX_2400000.csv, 17 / 45\n"
     ]
    },
    {
     "name": "stderr",
     "output_type": "stream",
     "text": [
      " 38%|██████████████████████████████▉                                                   | 17/45 [00:57<01:51,  3.97s/it]"
     ]
    },
    {
     "name": "stdout",
     "output_type": "stream",
     "text": [
      "Parsing csv: parsedX_2500000.csv, 18 / 45\n"
     ]
    },
    {
     "name": "stderr",
     "output_type": "stream",
     "text": [
      " 40%|████████████████████████████████▊                                                 | 18/45 [01:02<01:54,  4.23s/it]"
     ]
    },
    {
     "name": "stdout",
     "output_type": "stream",
     "text": [
      "Parsing csv: parsedX_2600000.csv, 19 / 45\n"
     ]
    },
    {
     "name": "stderr",
     "output_type": "stream",
     "text": [
      " 42%|██████████████████████████████████▌                                               | 19/45 [01:07<01:57,  4.51s/it]"
     ]
    },
    {
     "name": "stdout",
     "output_type": "stream",
     "text": [
      "Parsing csv: parsedX_2700000.csv, 20 / 45\n"
     ]
    },
    {
     "name": "stderr",
     "output_type": "stream",
     "text": [
      " 44%|████████████████████████████████████▍                                             | 20/45 [01:13<02:00,  4.83s/it]"
     ]
    },
    {
     "name": "stdout",
     "output_type": "stream",
     "text": [
      "Parsing csv: parsedX_2800000.csv, 21 / 45\n"
     ]
    },
    {
     "name": "stderr",
     "output_type": "stream",
     "text": [
      " 47%|██████████████████████████████████████▎                                           | 21/45 [01:18<01:55,  4.81s/it]"
     ]
    },
    {
     "name": "stdout",
     "output_type": "stream",
     "text": [
      "Parsing csv: parsedX_2900000.csv, 22 / 45\n"
     ]
    },
    {
     "name": "stderr",
     "output_type": "stream",
     "text": [
      " 49%|████████████████████████████████████████                                          | 22/45 [01:23<01:51,  4.87s/it]"
     ]
    },
    {
     "name": "stdout",
     "output_type": "stream",
     "text": [
      "Parsing csv: parsedX_300000.csv, 23 / 45\n"
     ]
    },
    {
     "name": "stderr",
     "output_type": "stream",
     "text": [
      " 51%|█████████████████████████████████████████▉                                        | 23/45 [01:25<01:33,  4.23s/it]"
     ]
    },
    {
     "name": "stdout",
     "output_type": "stream",
     "text": [
      "Parsing csv: parsedX_3000000.csv, 24 / 45\n"
     ]
    },
    {
     "name": "stderr",
     "output_type": "stream",
     "text": [
      " 53%|███████████████████████████████████████████▋                                      | 24/45 [01:30<01:33,  4.45s/it]"
     ]
    },
    {
     "name": "stdout",
     "output_type": "stream",
     "text": [
      "Parsing csv: parsedX_3100000.csv, 25 / 45\n"
     ]
    },
    {
     "name": "stderr",
     "output_type": "stream",
     "text": [
      " 56%|█████████████████████████████████████████████▌                                    | 25/45 [01:35<01:30,  4.51s/it]"
     ]
    },
    {
     "name": "stdout",
     "output_type": "stream",
     "text": [
      "Parsing csv: parsedX_3200000.csv, 26 / 45\n"
     ]
    },
    {
     "name": "stderr",
     "output_type": "stream",
     "text": [
      " 58%|███████████████████████████████████████████████▍                                  | 26/45 [01:40<01:27,  4.60s/it]"
     ]
    },
    {
     "name": "stdout",
     "output_type": "stream",
     "text": [
      "Parsing csv: parsedX_3300000.csv, 27 / 45\n"
     ]
    },
    {
     "name": "stderr",
     "output_type": "stream",
     "text": [
      " 60%|█████████████████████████████████████████████████▏                                | 27/45 [01:44<01:23,  4.63s/it]"
     ]
    },
    {
     "name": "stdout",
     "output_type": "stream",
     "text": [
      "Parsing csv: parsedX_3400000.csv, 28 / 45\n"
     ]
    },
    {
     "name": "stderr",
     "output_type": "stream",
     "text": [
      " 62%|███████████████████████████████████████████████████                               | 28/45 [01:49<01:18,  4.64s/it]"
     ]
    },
    {
     "name": "stdout",
     "output_type": "stream",
     "text": [
      "Parsing csv: parsedX_3500000.csv, 29 / 45\n"
     ]
    },
    {
     "name": "stderr",
     "output_type": "stream",
     "text": [
      " 64%|████████████████████████████████████████████████████▊                             | 29/45 [01:54<01:13,  4.62s/it]"
     ]
    },
    {
     "name": "stdout",
     "output_type": "stream",
     "text": [
      "Parsing csv: parsedX_3600000.csv, 30 / 45\n"
     ]
    },
    {
     "name": "stderr",
     "output_type": "stream",
     "text": [
      " 67%|██████████████████████████████████████████████████████▋                           | 30/45 [01:58<01:09,  4.61s/it]"
     ]
    },
    {
     "name": "stdout",
     "output_type": "stream",
     "text": [
      "Parsing csv: parsedX_3700000.csv, 31 / 45\n"
     ]
    },
    {
     "name": "stderr",
     "output_type": "stream",
     "text": [
      " 69%|████████████████████████████████████████████████████████▍                         | 31/45 [02:03<01:05,  4.69s/it]"
     ]
    },
    {
     "name": "stdout",
     "output_type": "stream",
     "text": [
      "Parsing csv: parsedX_3800000.csv, 32 / 45\n"
     ]
    },
    {
     "name": "stderr",
     "output_type": "stream",
     "text": [
      " 71%|██████████████████████████████████████████████████████████▎                       | 32/45 [02:08<01:02,  4.81s/it]"
     ]
    },
    {
     "name": "stdout",
     "output_type": "stream",
     "text": [
      "Parsing csv: parsedX_3900000.csv, 33 / 45\n"
     ]
    },
    {
     "name": "stderr",
     "output_type": "stream",
     "text": [
      " 73%|████████████████████████████████████████████████████████████▏                     | 33/45 [02:14<01:01,  5.11s/it]"
     ]
    },
    {
     "name": "stdout",
     "output_type": "stream",
     "text": [
      "Parsing csv: parsedX_400000.csv, 34 / 45\n"
     ]
    },
    {
     "name": "stderr",
     "output_type": "stream",
     "text": [
      " 76%|█████████████████████████████████████████████████████████████▉                    | 34/45 [02:17<00:47,  4.35s/it]"
     ]
    },
    {
     "name": "stdout",
     "output_type": "stream",
     "text": [
      "Parsing csv: parsedX_4000000.csv, 35 / 45\n"
     ]
    },
    {
     "name": "stderr",
     "output_type": "stream",
     "text": [
      " 78%|███████████████████████████████████████████████████████████████▊                  | 35/45 [02:23<00:48,  4.86s/it]"
     ]
    },
    {
     "name": "stdout",
     "output_type": "stream",
     "text": [
      "Parsing csv: parsedX_4100000.csv, 36 / 45\n"
     ]
    },
    {
     "name": "stderr",
     "output_type": "stream",
     "text": [
      " 80%|█████████████████████████████████████████████████████████████████▌                | 36/45 [02:28<00:45,  5.02s/it]"
     ]
    },
    {
     "name": "stdout",
     "output_type": "stream",
     "text": [
      "Parsing csv: parsedX_4200000.csv, 37 / 45\n"
     ]
    },
    {
     "name": "stderr",
     "output_type": "stream",
     "text": [
      " 82%|███████████████████████████████████████████████████████████████████▍              | 37/45 [02:33<00:40,  5.07s/it]"
     ]
    },
    {
     "name": "stdout",
     "output_type": "stream",
     "text": [
      "Parsing csv: parsedX_4300000.csv, 38 / 45\n"
     ]
    },
    {
     "name": "stderr",
     "output_type": "stream",
     "text": [
      " 84%|█████████████████████████████████████████████████████████████████████▏            | 38/45 [02:39<00:36,  5.17s/it]"
     ]
    },
    {
     "name": "stdout",
     "output_type": "stream",
     "text": [
      "Parsing csv: parsedX_4400000.csv, 39 / 45\n"
     ]
    },
    {
     "name": "stderr",
     "output_type": "stream",
     "text": [
      " 87%|███████████████████████████████████████████████████████████████████████           | 39/45 [02:44<00:31,  5.25s/it]"
     ]
    },
    {
     "name": "stdout",
     "output_type": "stream",
     "text": [
      "Parsing csv: parsedX_4454000.csv, 40 / 45\n"
     ]
    },
    {
     "name": "stderr",
     "output_type": "stream",
     "text": [
      " 89%|████████████████████████████████████████████████████████████████████████▉         | 40/45 [02:47<00:22,  4.56s/it]"
     ]
    },
    {
     "name": "stdout",
     "output_type": "stream",
     "text": [
      "Parsing csv: parsedX_500000.csv, 41 / 45\n"
     ]
    },
    {
     "name": "stderr",
     "output_type": "stream",
     "text": [
      " 91%|██████████████████████████████████████████████████████████████████████████▋       | 41/45 [02:51<00:17,  4.26s/it]"
     ]
    },
    {
     "name": "stdout",
     "output_type": "stream",
     "text": [
      "Parsing csv: parsedX_600000.csv, 42 / 45\n"
     ]
    },
    {
     "name": "stderr",
     "output_type": "stream",
     "text": [
      " 93%|████████████████████████████████████████████████████████████████████████████▌     | 42/45 [02:54<00:12,  4.05s/it]"
     ]
    },
    {
     "name": "stdout",
     "output_type": "stream",
     "text": [
      "Parsing csv: parsedX_700000.csv, 43 / 45\n"
     ]
    },
    {
     "name": "stderr",
     "output_type": "stream",
     "text": [
      " 96%|██████████████████████████████████████████████████████████████████████████████▎   | 43/45 [02:57<00:07,  3.85s/it]"
     ]
    },
    {
     "name": "stdout",
     "output_type": "stream",
     "text": [
      "Parsing csv: parsedX_800000.csv, 44 / 45\n"
     ]
    },
    {
     "name": "stderr",
     "output_type": "stream",
     "text": [
      " 98%|████████████████████████████████████████████████████████████████████████████████▏ | 44/45 [03:01<00:03,  3.71s/it]"
     ]
    },
    {
     "name": "stdout",
     "output_type": "stream",
     "text": [
      "Parsing csv: parsedX_900000.csv, 45 / 45\n"
     ]
    },
    {
     "name": "stderr",
     "output_type": "stream",
     "text": [
      "100%|██████████████████████████████████████████████████████████████████████████████████| 45/45 [03:04<00:00,  4.11s/it]\n"
     ]
    }
   ],
   "source": [
    "## Extract country names in the articles' dataset\n",
    "articles_dataset_countries_list = []\n",
    "\n",
    "# Import each csv with articles' data and extract country names\n",
    "for csv in tqdm(list_dfs_papers):\n",
    "    print(f\"Parsing csv: {csv}, {list_dfs_papers.index(csv)+1} / {len(list_dfs_papers)}\")\n",
    "    df = pd.read_csv(DF_input + csv)\n",
    "    list_countries = list(set(df[\"Country\"]))\n",
    "    articles_dataset_countries_list.append(list_countries)\n",
    "    del df, list_countries\n",
    "\n",
    "# Flatten list, remove nan, convert to set\n",
    "articles_dataset_countries = set([el for el in (chain(*articles_dataset_countries_list)) if str(el) != \"nan\"])"
   ]
  },
  {
   "cell_type": "code",
   "execution_count": 8,
   "id": "7ef4f586-2ab0-41e8-8d6a-6952241873c2",
   "metadata": {},
   "outputs": [
    {
     "data": {
      "text/plain": [
       "set()"
      ]
     },
     "execution_count": 8,
     "metadata": {},
     "output_type": "execute_result"
    }
   ],
   "source": [
    "# Unique entity names in the Globocan dataset\n",
    "globocan_dataset_countries = set(df_globocan[\"Country\"])\n",
    "\n",
    "# Countries appearing in Globocan dataset and missing in articles' dataset\n",
    "globocan_dataset_countries.difference(articles_dataset_countries)"
   ]
  },
  {
   "cell_type": "markdown",
   "id": "696941f7-1654-46b4-bc95-ece14079c472",
   "metadata": {},
   "source": [
    "No country in the Globocan dataset is absent from the articles' dataset"
   ]
  },
  {
   "cell_type": "code",
   "execution_count": 183,
   "id": "4bbe31f4-619f-470e-ac30-e8dcb02f9860",
   "metadata": {},
   "outputs": [
    {
     "name": "stdout",
     "output_type": "stream",
     "text": [
      "Tonga\n",
      "St. Kitts and Nevis\n",
      "Curacao\n",
      "Isle of Man\n",
      "Aruba\n",
      "Liechtenstein\n",
      "St. Vincent and the Grenadines\n",
      "Bonaire, Saint Eustatius and Saba\n",
      "Antigua and Barbuda\n",
      "St. Pierre and Miquelon\n",
      "Monaco\n",
      "Tuvalu\n",
      "Dominica\n",
      "Jersey\n",
      "Palau\n",
      "Marshall Islands\n",
      "Grenada\n",
      "Vatican\n",
      "Kosovo\n",
      "Hong Kong\n",
      "Bermuda\n",
      "Faroe Islands\n",
      "Guernsey\n",
      "Anguilla\n",
      "Seychelles\n",
      "Greenland\n",
      "Northern Mariana Islands\n",
      "Cayman Islands\n",
      "Macau\n",
      "Taiwan\n",
      "San Marino\n",
      "British Virgin Islands\n",
      "American Samoa\n",
      "Andorra\n",
      "United States Virgin Islands\n",
      "St. Helena\n",
      "Sint Maarten\n",
      "Mayotte\n"
     ]
    }
   ],
   "source": [
    "# Entities appearing in articles' dataset and missing in Globocan dataset\n",
    "articles_dataset_countries.difference(globocan_dataset_countries)"
   ]
  },
  {
   "cell_type": "markdown",
   "id": "71858463-9ceb-469a-9511-6065fee7ac38",
   "metadata": {},
   "source": [
    "# Matching country names in Globocan and articles' datasets\n",
    "\n",
    "There are some naming discrepancies in the articles's dataset with respect to the Globocan dataset (e.g. there is no specification of **Taiwan** or **Hong Kong** in the Globocan dataset, there is only **China**). Here, these discrepancies are solved. In the case just mentioned, for instance, country of articles with coutry of publishing correspoding to **Taiwan** or **Hong Kong** are renamed to **China**. Other renamings are performed so that the country names and corresponding political entities are as similar as possible in the Globocan and the articles' datasets, so that comparisons performed downstream are as accurate as possible"
   ]
  },
  {
   "cell_type": "code",
   "execution_count": 9,
   "id": "8b43b676-3c55-4227-824a-dd4953467cab",
   "metadata": {
    "collapsed": true,
    "jupyter": {
     "outputs_hidden": true
    }
   },
   "outputs": [
    {
     "name": "stderr",
     "output_type": "stream",
     "text": [
      "  0%|                                                                                           | 0/45 [00:00<?, ?it/s]"
     ]
    },
    {
     "name": "stdout",
     "output_type": "stream",
     "text": [
      "Parsing csv: parsedX_100000.csv, 1 / 45\n"
     ]
    },
    {
     "name": "stderr",
     "output_type": "stream",
     "text": [
      "  2%|█▊                                                                                 | 1/45 [00:08<06:21,  8.68s/it]"
     ]
    },
    {
     "name": "stdout",
     "output_type": "stream",
     "text": [
      "Parsing csv: parsedX_1000000.csv, 2 / 45\n"
     ]
    },
    {
     "name": "stderr",
     "output_type": "stream",
     "text": [
      "  4%|███▋                                                                               | 2/45 [00:19<07:05,  9.89s/it]"
     ]
    },
    {
     "name": "stdout",
     "output_type": "stream",
     "text": [
      "Parsing csv: parsedX_1100000.csv, 3 / 45\n"
     ]
    },
    {
     "name": "stderr",
     "output_type": "stream",
     "text": [
      "  7%|█████▌                                                                             | 3/45 [00:29<07:05, 10.14s/it]"
     ]
    },
    {
     "name": "stdout",
     "output_type": "stream",
     "text": [
      "Parsing csv: parsedX_1200000.csv, 4 / 45\n"
     ]
    },
    {
     "name": "stderr",
     "output_type": "stream",
     "text": [
      "  9%|███████▍                                                                           | 4/45 [00:40<07:02, 10.30s/it]"
     ]
    },
    {
     "name": "stdout",
     "output_type": "stream",
     "text": [
      "Parsing csv: parsedX_1300000.csv, 5 / 45\n"
     ]
    },
    {
     "name": "stderr",
     "output_type": "stream",
     "text": [
      " 11%|█████████▏                                                                         | 5/45 [00:50<06:53, 10.34s/it]"
     ]
    },
    {
     "name": "stdout",
     "output_type": "stream",
     "text": [
      "Parsing csv: parsedX_1400000.csv, 6 / 45\n"
     ]
    },
    {
     "name": "stderr",
     "output_type": "stream",
     "text": [
      " 13%|███████████                                                                        | 6/45 [01:01<06:46, 10.43s/it]"
     ]
    },
    {
     "name": "stdout",
     "output_type": "stream",
     "text": [
      "Parsing csv: parsedX_1500000.csv, 7 / 45\n"
     ]
    },
    {
     "name": "stderr",
     "output_type": "stream",
     "text": [
      " 16%|████████████▉                                                                      | 7/45 [01:12<06:39, 10.51s/it]"
     ]
    },
    {
     "name": "stdout",
     "output_type": "stream",
     "text": [
      "Parsing csv: parsedX_1600000.csv, 8 / 45\n"
     ]
    },
    {
     "name": "stderr",
     "output_type": "stream",
     "text": [
      " 18%|██████████████▊                                                                    | 8/45 [01:22<06:24, 10.40s/it]"
     ]
    },
    {
     "name": "stdout",
     "output_type": "stream",
     "text": [
      "Parsing csv: parsedX_1700000.csv, 9 / 45\n"
     ]
    },
    {
     "name": "stderr",
     "output_type": "stream",
     "text": [
      " 20%|████████████████▌                                                                  | 9/45 [01:32<06:14, 10.39s/it]"
     ]
    },
    {
     "name": "stdout",
     "output_type": "stream",
     "text": [
      "Parsing csv: parsedX_1800000.csv, 10 / 45\n"
     ]
    },
    {
     "name": "stderr",
     "output_type": "stream",
     "text": [
      " 22%|██████████████████▏                                                               | 10/45 [01:43<06:07, 10.50s/it]"
     ]
    },
    {
     "name": "stdout",
     "output_type": "stream",
     "text": [
      "Parsing csv: parsedX_1900000.csv, 11 / 45\n"
     ]
    },
    {
     "name": "stderr",
     "output_type": "stream",
     "text": [
      " 24%|████████████████████                                                              | 11/45 [01:54<05:58, 10.55s/it]"
     ]
    },
    {
     "name": "stdout",
     "output_type": "stream",
     "text": [
      "Parsing csv: parsedX_200000.csv, 12 / 45\n"
     ]
    },
    {
     "name": "stderr",
     "output_type": "stream",
     "text": [
      " 27%|█████████████████████▊                                                            | 12/45 [02:02<05:27,  9.91s/it]"
     ]
    },
    {
     "name": "stdout",
     "output_type": "stream",
     "text": [
      "Parsing csv: parsedX_2000000.csv, 13 / 45\n"
     ]
    },
    {
     "name": "stderr",
     "output_type": "stream",
     "text": [
      " 29%|███████████████████████▋                                                          | 13/45 [02:13<05:31, 10.35s/it]"
     ]
    },
    {
     "name": "stdout",
     "output_type": "stream",
     "text": [
      "Parsing csv: parsedX_2100000.csv, 14 / 45\n"
     ]
    },
    {
     "name": "stderr",
     "output_type": "stream",
     "text": [
      " 31%|█████████████████████████▌                                                        | 14/45 [02:25<05:36, 10.86s/it]"
     ]
    },
    {
     "name": "stdout",
     "output_type": "stream",
     "text": [
      "Parsing csv: parsedX_2200000.csv, 15 / 45\n"
     ]
    },
    {
     "name": "stderr",
     "output_type": "stream",
     "text": [
      " 33%|███████████████████████████▎                                                      | 15/45 [02:36<05:26, 10.89s/it]"
     ]
    },
    {
     "name": "stdout",
     "output_type": "stream",
     "text": [
      "Parsing csv: parsedX_2300000.csv, 16 / 45\n"
     ]
    },
    {
     "name": "stderr",
     "output_type": "stream",
     "text": [
      " 36%|█████████████████████████████▏                                                    | 16/45 [02:48<05:24, 11.18s/it]"
     ]
    },
    {
     "name": "stdout",
     "output_type": "stream",
     "text": [
      "Parsing csv: parsedX_2400000.csv, 17 / 45\n"
     ]
    },
    {
     "name": "stderr",
     "output_type": "stream",
     "text": [
      " 38%|██████████████████████████████▉                                                   | 17/45 [03:00<05:21, 11.49s/it]"
     ]
    },
    {
     "name": "stdout",
     "output_type": "stream",
     "text": [
      "Parsing csv: parsedX_2500000.csv, 18 / 45\n"
     ]
    },
    {
     "name": "stderr",
     "output_type": "stream",
     "text": [
      " 40%|████████████████████████████████▊                                                 | 18/45 [03:13<05:19, 11.82s/it]"
     ]
    },
    {
     "name": "stdout",
     "output_type": "stream",
     "text": [
      "Parsing csv: parsedX_2600000.csv, 19 / 45\n"
     ]
    },
    {
     "name": "stderr",
     "output_type": "stream",
     "text": [
      " 42%|██████████████████████████████████▌                                               | 19/45 [03:26<05:13, 12.07s/it]"
     ]
    },
    {
     "name": "stdout",
     "output_type": "stream",
     "text": [
      "Parsing csv: parsedX_2700000.csv, 20 / 45\n"
     ]
    },
    {
     "name": "stderr",
     "output_type": "stream",
     "text": [
      " 44%|████████████████████████████████████▍                                             | 20/45 [03:38<05:06, 12.24s/it]"
     ]
    },
    {
     "name": "stdout",
     "output_type": "stream",
     "text": [
      "Parsing csv: parsedX_2800000.csv, 21 / 45\n"
     ]
    },
    {
     "name": "stderr",
     "output_type": "stream",
     "text": [
      " 47%|██████████████████████████████████████▎                                           | 21/45 [03:51<04:55, 12.32s/it]"
     ]
    },
    {
     "name": "stdout",
     "output_type": "stream",
     "text": [
      "Parsing csv: parsedX_2900000.csv, 22 / 45\n"
     ]
    },
    {
     "name": "stderr",
     "output_type": "stream",
     "text": [
      " 49%|████████████████████████████████████████                                          | 22/45 [04:03<04:44, 12.37s/it]"
     ]
    },
    {
     "name": "stdout",
     "output_type": "stream",
     "text": [
      "Parsing csv: parsedX_300000.csv, 23 / 45\n"
     ]
    },
    {
     "name": "stderr",
     "output_type": "stream",
     "text": [
      " 51%|█████████████████████████████████████████▉                                        | 23/45 [04:11<04:02, 11.00s/it]"
     ]
    },
    {
     "name": "stdout",
     "output_type": "stream",
     "text": [
      "Parsing csv: parsedX_3000000.csv, 24 / 45\n"
     ]
    },
    {
     "name": "stderr",
     "output_type": "stream",
     "text": [
      " 53%|███████████████████████████████████████████▋                                      | 24/45 [04:24<04:01, 11.48s/it]"
     ]
    },
    {
     "name": "stdout",
     "output_type": "stream",
     "text": [
      "Parsing csv: parsedX_3100000.csv, 25 / 45\n"
     ]
    },
    {
     "name": "stderr",
     "output_type": "stream",
     "text": [
      " 56%|█████████████████████████████████████████████▌                                    | 25/45 [04:36<03:56, 11.81s/it]"
     ]
    },
    {
     "name": "stdout",
     "output_type": "stream",
     "text": [
      "Parsing csv: parsedX_3200000.csv, 26 / 45\n"
     ]
    },
    {
     "name": "stderr",
     "output_type": "stream",
     "text": [
      " 58%|███████████████████████████████████████████████▍                                  | 26/45 [04:49<03:48, 12.04s/it]"
     ]
    },
    {
     "name": "stdout",
     "output_type": "stream",
     "text": [
      "Parsing csv: parsedX_3300000.csv, 27 / 45\n"
     ]
    },
    {
     "name": "stderr",
     "output_type": "stream",
     "text": [
      " 60%|█████████████████████████████████████████████████▏                                | 27/45 [05:02<03:40, 12.23s/it]"
     ]
    },
    {
     "name": "stdout",
     "output_type": "stream",
     "text": [
      "Parsing csv: parsedX_3400000.csv, 28 / 45\n"
     ]
    },
    {
     "name": "stderr",
     "output_type": "stream",
     "text": [
      " 62%|███████████████████████████████████████████████████                               | 28/45 [05:14<03:30, 12.36s/it]"
     ]
    },
    {
     "name": "stdout",
     "output_type": "stream",
     "text": [
      "Parsing csv: parsedX_3500000.csv, 29 / 45\n"
     ]
    },
    {
     "name": "stderr",
     "output_type": "stream",
     "text": [
      " 64%|████████████████████████████████████████████████████▊                             | 29/45 [05:27<03:21, 12.58s/it]"
     ]
    },
    {
     "name": "stdout",
     "output_type": "stream",
     "text": [
      "Parsing csv: parsedX_3600000.csv, 30 / 45\n"
     ]
    },
    {
     "name": "stderr",
     "output_type": "stream",
     "text": [
      " 67%|██████████████████████████████████████████████████████▋                           | 30/45 [05:41<03:13, 12.88s/it]"
     ]
    },
    {
     "name": "stdout",
     "output_type": "stream",
     "text": [
      "Parsing csv: parsedX_3700000.csv, 31 / 45\n"
     ]
    },
    {
     "name": "stderr",
     "output_type": "stream",
     "text": [
      " 69%|████████████████████████████████████████████████████████▍                         | 31/45 [05:54<03:01, 12.95s/it]"
     ]
    },
    {
     "name": "stdout",
     "output_type": "stream",
     "text": [
      "Parsing csv: parsedX_3800000.csv, 32 / 45\n"
     ]
    },
    {
     "name": "stderr",
     "output_type": "stream",
     "text": [
      " 71%|██████████████████████████████████████████████████████████▎                       | 32/45 [06:07<02:49, 13.00s/it]"
     ]
    },
    {
     "name": "stdout",
     "output_type": "stream",
     "text": [
      "Parsing csv: parsedX_3900000.csv, 33 / 45\n"
     ]
    },
    {
     "name": "stderr",
     "output_type": "stream",
     "text": [
      " 73%|████████████████████████████████████████████████████████████▏                     | 33/45 [06:21<02:37, 13.14s/it]"
     ]
    },
    {
     "name": "stdout",
     "output_type": "stream",
     "text": [
      "Parsing csv: parsedX_400000.csv, 34 / 45\n"
     ]
    },
    {
     "name": "stderr",
     "output_type": "stream",
     "text": [
      " 76%|█████████████████████████████████████████████████████████████▉                    | 34/45 [06:28<02:05, 11.39s/it]"
     ]
    },
    {
     "name": "stdout",
     "output_type": "stream",
     "text": [
      "Parsing csv: parsedX_4000000.csv, 35 / 45\n"
     ]
    },
    {
     "name": "stderr",
     "output_type": "stream",
     "text": [
      " 78%|███████████████████████████████████████████████████████████████▊                  | 35/45 [06:41<01:59, 11.94s/it]"
     ]
    },
    {
     "name": "stdout",
     "output_type": "stream",
     "text": [
      "Parsing csv: parsedX_4100000.csv, 36 / 45\n"
     ]
    },
    {
     "name": "stderr",
     "output_type": "stream",
     "text": [
      " 80%|█████████████████████████████████████████████████████████████████▌                | 36/45 [06:54<01:51, 12.34s/it]"
     ]
    },
    {
     "name": "stdout",
     "output_type": "stream",
     "text": [
      "Parsing csv: parsedX_4200000.csv, 37 / 45\n"
     ]
    },
    {
     "name": "stderr",
     "output_type": "stream",
     "text": [
      " 82%|███████████████████████████████████████████████████████████████████▍              | 37/45 [07:08<01:40, 12.60s/it]"
     ]
    },
    {
     "name": "stdout",
     "output_type": "stream",
     "text": [
      "Parsing csv: parsedX_4300000.csv, 38 / 45\n"
     ]
    },
    {
     "name": "stderr",
     "output_type": "stream",
     "text": [
      " 84%|█████████████████████████████████████████████████████████████████████▏            | 38/45 [07:21<01:29, 12.80s/it]"
     ]
    },
    {
     "name": "stdout",
     "output_type": "stream",
     "text": [
      "Parsing csv: parsedX_4400000.csv, 39 / 45\n"
     ]
    },
    {
     "name": "stderr",
     "output_type": "stream",
     "text": [
      " 87%|███████████████████████████████████████████████████████████████████████           | 39/45 [07:34<01:17, 12.99s/it]"
     ]
    },
    {
     "name": "stdout",
     "output_type": "stream",
     "text": [
      "Parsing csv: parsedX_4454000.csv, 40 / 45\n"
     ]
    },
    {
     "name": "stderr",
     "output_type": "stream",
     "text": [
      " 89%|████████████████████████████████████████████████████████████████████████▉         | 40/45 [07:41<00:56, 11.21s/it]"
     ]
    },
    {
     "name": "stdout",
     "output_type": "stream",
     "text": [
      "Parsing csv: parsedX_500000.csv, 41 / 45\n"
     ]
    },
    {
     "name": "stderr",
     "output_type": "stream",
     "text": [
      " 91%|██████████████████████████████████████████████████████████████████████████▋       | 41/45 [07:50<00:42, 10.53s/it]"
     ]
    },
    {
     "name": "stdout",
     "output_type": "stream",
     "text": [
      "Parsing csv: parsedX_600000.csv, 42 / 45\n"
     ]
    },
    {
     "name": "stderr",
     "output_type": "stream",
     "text": [
      " 93%|████████████████████████████████████████████████████████████████████████████▌     | 42/45 [07:59<00:30, 10.04s/it]"
     ]
    },
    {
     "name": "stdout",
     "output_type": "stream",
     "text": [
      "Parsing csv: parsedX_700000.csv, 43 / 45\n"
     ]
    },
    {
     "name": "stderr",
     "output_type": "stream",
     "text": [
      " 96%|██████████████████████████████████████████████████████████████████████████████▎   | 43/45 [08:09<00:19,  9.86s/it]"
     ]
    },
    {
     "name": "stdout",
     "output_type": "stream",
     "text": [
      "Parsing csv: parsedX_800000.csv, 44 / 45\n"
     ]
    },
    {
     "name": "stderr",
     "output_type": "stream",
     "text": [
      " 98%|████████████████████████████████████████████████████████████████████████████████▏ | 44/45 [08:18<00:09,  9.74s/it]"
     ]
    },
    {
     "name": "stdout",
     "output_type": "stream",
     "text": [
      "Parsing csv: parsedX_900000.csv, 45 / 45\n"
     ]
    },
    {
     "name": "stderr",
     "output_type": "stream",
     "text": [
      "100%|██████████████████████████████████████████████████████████████████████████████████| 45/45 [08:28<00:00, 11.29s/it]\n"
     ]
    }
   ],
   "source": [
    "# Remove or rename the coountries appearing in articles' dataset and missing in Globocan dataset\n",
    "\n",
    "for csv in tqdm(list_dfs_papers):\n",
    "    print(f\"Parsing csv: {csv}, {list_dfs_papers.index(csv)+1} / {len(list_dfs_papers)}\")\n",
    "    df = pd.read_csv(DF_input + csv)\n",
    "\n",
    "    ## REMOVE ARTICLES FROM NON-MATCHING COUNTRIES\n",
    "    # Remove articles with country name \"Andorra\" (no matching data in Globocan dataset)\n",
    "    df.drop(df.loc[df[\"Country\"] == \"Andorra\"].index, inplace = True)\n",
    "\n",
    "    # Remove articles with country name \"Tonga\" (no matching data in Globocan dataset)\n",
    "    df.drop(df.loc[df[\"Country\"] == \"Tonga\"].index, inplace = True)\n",
    "\n",
    "    # Remove articles with country name \"St. Kitts and Nevis\" (no matching data in Globocan dataset)\n",
    "    df.drop(df.loc[df[\"Country\"] == \"St. Kitts and Nevis\"].index, inplace = True)\n",
    "\n",
    "    # Remove articles with country name \"Liechtenstein\" (no matching data in Globocan dataset)\n",
    "    df.drop(df.loc[df[\"Country\"] == \"Liechtenstein\"].index, inplace = True)\n",
    "\n",
    "    # Remove articles with country name \"St. Vincent and the Grenadines\" (no matching data in Globocan dataset)\n",
    "    df.drop(df.loc[df[\"Country\"] == \"St. Vincent and the Grenadines\"].index, inplace = True)\n",
    "\n",
    "    # Remove articles with country name \"Antigua and Barbuda\" (no matching data in Globocan dataset)\n",
    "    df.drop(df.loc[df[\"Country\"] == \"Antigua and Barbuda\"].index, inplace = True)\n",
    "\n",
    "    # Remove articles with country name \"Monaco\" (no matching data in Globocan dataset)\n",
    "    df.drop(df.loc[df[\"Country\"] == \"Monaco\"].index, inplace = True)\n",
    "\n",
    "    # Remove articles with country name \"Tuvalu\" (no matching data in Globocan dataset)\n",
    "    df.drop(df.loc[df[\"Country\"] == \"Tuvalu\"].index, inplace = True)\n",
    "\n",
    "    # Remove articles with country name \"Dominica\" (no matching data in Globocan dataset)\n",
    "    df.drop(df.loc[df[\"Country\"] == \"Dominica\"].index, inplace = True)\n",
    "\n",
    "    # Remove articles with country name \"Palau\" (no matching data in Globocan dataset)\n",
    "    df.drop(df.loc[df[\"Country\"] == \"Palau\"].index, inplace = True)\n",
    "\n",
    "    # Remove articles with country name \"Marshall Islands\" (no matching data in Globocan dataset)\n",
    "    df.drop(df.loc[df[\"Country\"] == \"Marshall Islands\"].index, inplace = True)\n",
    "\n",
    "    # Remove articles with country name \"Grenada\" (no matching data in Globocan dataset)\n",
    "    df.drop(df.loc[df[\"Country\"] == \"Grenada\"].index, inplace = True)\n",
    "\n",
    "    # Remove articles with country name \"Vatican\" (no matching data in Globocan dataset)\n",
    "    df.drop(df.loc[df[\"Country\"] == \"Vatican\"].index, inplace = True)\n",
    "\n",
    "    # Remove articles with country name \"Vatican\" (no matching data in Globocan dataset)\n",
    "    df.drop(df.loc[df[\"Country\"] == \"Kosovo\"].index, inplace = True)\n",
    "\n",
    "    # Remove articles with country name \"Seychelles\" (no matching data in Globocan dataset)\n",
    "    df.drop(df.loc[df[\"Country\"] == \"Seychelles\"].index, inplace = True)\n",
    "\n",
    "    # Remove articles with country name \"San Marino\" (no matching data in Globocan dataset)\n",
    "    df.drop(df.loc[df[\"Country\"] == \"San Marino\"].index, inplace = True)\n",
    "\n",
    "    # Remove articles with country name \"Andorra\" (no matching data in Globocan dataset)\n",
    "    df.drop(df.loc[df[\"Country\"] == \"Andorra\"].index, inplace = True)\n",
    "\n",
    "    ## RENAME COUNTRIES\n",
    "    # Rename Country in articles with Country name \"Curacao\" to Netherlands\n",
    "    df.loc[df[\"Country\"] == \"Curacao\", \"Country\"] = \"Netherlands\"\n",
    "\n",
    "    # Rename Country in articles with Country name \"Isle of Man\" to United Kingdom\n",
    "    df.loc[df[\"Country\"] == \"Isle of Man\", \"Country\"] = \"United Kingdom\"\n",
    "\n",
    "    # Rename Country in articles with Country name \"Aruba\" to Netherlands\n",
    "    df.loc[df[\"Country\"] == \"Aruba\", \"Country\"] = \"Netherlands\"\n",
    "\n",
    "    # Rename Country in articles with Country name \"Bonaire, Saint Eustatius and Saba\" to Netherlands\n",
    "    df.loc[df[\"Country\"] == \"Bonaire, Saint Eustatius and Saba\", \"Country\"] = \"Netherlands\"\n",
    "\n",
    "    # Rename Country in articles with Country name \"St. Pierre and Miquelon\" to France\n",
    "    df.loc[df[\"Country\"] == \"St. Pierre and Miquelon\", \"Country\"] = \"France\"\n",
    "\n",
    "    # Rename Country in articles with Country name \"Jersey\" to United Kingdom\n",
    "    df.loc[df[\"Country\"] == \"Jersey\", \"Country\"] = \"United Kingdom\"\n",
    "\n",
    "    # Rename Country in articles with Country name \"Hong Kong\" to China\n",
    "    df.loc[df[\"Country\"] == \"Hong Kong\", \"Country\"] = \"China\"\n",
    "\n",
    "    # Rename Country in articles with Country name \"Bermuda\" to United Kingdom\n",
    "    df.loc[df[\"Country\"] == \"Bermuda\", \"Country\"] = \"United Kingdom\"\n",
    "\n",
    "    # Rename Country in articles with Country name \"Faroe Islands\" to Denmark\n",
    "    df.loc[df[\"Country\"] == \"Faroe Islands\", \"Country\"] = \"Denmark\"\n",
    "\n",
    "    # Rename Country in articles with Country name \"Guernsey\" to United Kingdom\n",
    "    df.loc[df[\"Country\"] == \"Guernsey\", \"Country\"] = \"United Kingdom\"\n",
    "\n",
    "    # Rename Country in articles with Country name \"Anguilla\" to United Kingdom\n",
    "    df.loc[df[\"Country\"] == \"Anguilla\", \"Country\"] = \"United Kingdom\"\n",
    "\n",
    "    # Rename Country in articles with Country name \"Greenland\" to Denmark\n",
    "    df.loc[df[\"Country\"] == \"Greenland\", \"Country\"] = \"Denmark\"\n",
    "\n",
    "    # Rename Country in articles with Country name \"Northern Mariana Islands\" to United States\n",
    "    df.loc[df[\"Country\"] == \"Northern Mariana Islands\", \"Country\"] = \"United States\"\n",
    "\n",
    "    # Rename Country in articles with Country name \"Cayman Islands\" to United Kingdom\n",
    "    df.loc[df[\"Country\"] == \"Cayman Islands\", \"Country\"] = \"United Kingdom\"\n",
    "\n",
    "    # Rename Country in articles with Country name \"Macau\" to China\n",
    "    df.loc[df[\"Country\"] == \"Macau\", \"Country\"] = \"China\"\n",
    "\n",
    "    # Rename Country in articles with Country name \"Taiwan\" to China\n",
    "    df.loc[df[\"Country\"] == \"Taiwan\", \"Country\"] = \"China\"\n",
    "\n",
    "    # Rename Country in articles with Country name \"British Virgin Islands\" to United Kingdom\n",
    "    df.loc[df[\"Country\"] == \"British Virgin Islands\", \"Country\"] = \"United Kingdom\"\n",
    "\n",
    "    # Rename Country in articles with Country name \"American Samoa\" to United States\n",
    "    df.loc[df[\"Country\"] == \"American Samoa\", \"Country\"] = \"United States\"\n",
    "\n",
    "    # Rename Country in articles with Country name \"United States Virgin Islands\" to United States\n",
    "    df.loc[df[\"Country\"] == \"United States Virgin Islands\", \"Country\"] = \"United States\"\n",
    "\n",
    "    # Rename Country in articles with Country name \"Sint Maarten\" to Netherlands\n",
    "    df.loc[df[\"Country\"] == \"Sint Maarten\", \"Country\"] = \"Netherlands\"\n",
    "\n",
    "    # Rename Country in articles with Country name \"Mayotte\" to France\n",
    "    df.loc[df[\"Country\"] == \"Mayotte\", \"Country\"] = \"France\"\n",
    "\n",
    "    df.to_csv(DF_input + csv, index = False)\n",
    "    del df"
   ]
  },
  {
   "cell_type": "code",
   "execution_count": 10,
   "id": "c41762d4-c2a1-4464-8e3b-6fd256c9b53a",
   "metadata": {},
   "outputs": [
    {
     "name": "stderr",
     "output_type": "stream",
     "text": [
      "  0%|                                                                                           | 0/45 [00:00<?, ?it/s]"
     ]
    },
    {
     "name": "stdout",
     "output_type": "stream",
     "text": [
      "Parsing csv: parsedX_100000.csv, 1 / 45\n"
     ]
    },
    {
     "name": "stderr",
     "output_type": "stream",
     "text": [
      "  2%|█▊                                                                                 | 1/45 [00:02<01:57,  2.66s/it]"
     ]
    },
    {
     "name": "stdout",
     "output_type": "stream",
     "text": [
      "Parsing csv: parsedX_1000000.csv, 2 / 45\n"
     ]
    },
    {
     "name": "stderr",
     "output_type": "stream",
     "text": [
      "  4%|███▋                                                                               | 2/45 [00:05<02:06,  2.95s/it]"
     ]
    },
    {
     "name": "stdout",
     "output_type": "stream",
     "text": [
      "Parsing csv: parsedX_1100000.csv, 3 / 45\n"
     ]
    },
    {
     "name": "stderr",
     "output_type": "stream",
     "text": [
      "  7%|█████▌                                                                             | 3/45 [00:09<02:09,  3.08s/it]"
     ]
    },
    {
     "name": "stdout",
     "output_type": "stream",
     "text": [
      "Parsing csv: parsedX_1200000.csv, 4 / 45\n"
     ]
    },
    {
     "name": "stderr",
     "output_type": "stream",
     "text": [
      "  9%|███████▍                                                                           | 4/45 [00:12<02:05,  3.06s/it]"
     ]
    },
    {
     "name": "stdout",
     "output_type": "stream",
     "text": [
      "Parsing csv: parsedX_1300000.csv, 5 / 45\n"
     ]
    },
    {
     "name": "stderr",
     "output_type": "stream",
     "text": [
      " 11%|█████████▏                                                                         | 5/45 [00:15<02:02,  3.06s/it]"
     ]
    },
    {
     "name": "stdout",
     "output_type": "stream",
     "text": [
      "Parsing csv: parsedX_1400000.csv, 6 / 45\n"
     ]
    },
    {
     "name": "stderr",
     "output_type": "stream",
     "text": [
      " 13%|███████████                                                                        | 6/45 [00:18<01:59,  3.08s/it]"
     ]
    },
    {
     "name": "stdout",
     "output_type": "stream",
     "text": [
      "Parsing csv: parsedX_1500000.csv, 7 / 45\n"
     ]
    },
    {
     "name": "stderr",
     "output_type": "stream",
     "text": [
      " 16%|████████████▉                                                                      | 7/45 [00:21<01:57,  3.08s/it]"
     ]
    },
    {
     "name": "stdout",
     "output_type": "stream",
     "text": [
      "Parsing csv: parsedX_1600000.csv, 8 / 45\n"
     ]
    },
    {
     "name": "stderr",
     "output_type": "stream",
     "text": [
      " 18%|██████████████▊                                                                    | 8/45 [00:24<01:54,  3.10s/it]"
     ]
    },
    {
     "name": "stdout",
     "output_type": "stream",
     "text": [
      "Parsing csv: parsedX_1700000.csv, 9 / 45\n"
     ]
    },
    {
     "name": "stderr",
     "output_type": "stream",
     "text": [
      " 20%|████████████████▌                                                                  | 9/45 [00:27<01:52,  3.12s/it]"
     ]
    },
    {
     "name": "stdout",
     "output_type": "stream",
     "text": [
      "Parsing csv: parsedX_1800000.csv, 10 / 45\n"
     ]
    },
    {
     "name": "stderr",
     "output_type": "stream",
     "text": [
      " 22%|██████████████████▏                                                               | 10/45 [00:30<01:50,  3.15s/it]"
     ]
    },
    {
     "name": "stdout",
     "output_type": "stream",
     "text": [
      "Parsing csv: parsedX_1900000.csv, 11 / 45\n"
     ]
    },
    {
     "name": "stderr",
     "output_type": "stream",
     "text": [
      " 24%|████████████████████                                                              | 11/45 [00:34<01:49,  3.22s/it]"
     ]
    },
    {
     "name": "stdout",
     "output_type": "stream",
     "text": [
      "Parsing csv: parsedX_200000.csv, 12 / 45\n"
     ]
    },
    {
     "name": "stderr",
     "output_type": "stream",
     "text": [
      " 27%|█████████████████████▊                                                            | 12/45 [00:36<01:37,  2.95s/it]"
     ]
    },
    {
     "name": "stdout",
     "output_type": "stream",
     "text": [
      "Parsing csv: parsedX_2000000.csv, 13 / 45\n"
     ]
    },
    {
     "name": "stderr",
     "output_type": "stream",
     "text": [
      " 29%|███████████████████████▋                                                          | 13/45 [00:39<01:38,  3.08s/it]"
     ]
    },
    {
     "name": "stdout",
     "output_type": "stream",
     "text": [
      "Parsing csv: parsedX_2100000.csv, 14 / 45\n"
     ]
    },
    {
     "name": "stderr",
     "output_type": "stream",
     "text": [
      " 31%|█████████████████████████▌                                                        | 14/45 [00:43<01:39,  3.19s/it]"
     ]
    },
    {
     "name": "stdout",
     "output_type": "stream",
     "text": [
      "Parsing csv: parsedX_2200000.csv, 15 / 45\n"
     ]
    },
    {
     "name": "stderr",
     "output_type": "stream",
     "text": [
      " 33%|███████████████████████████▎                                                      | 15/45 [00:46<01:37,  3.27s/it]"
     ]
    },
    {
     "name": "stdout",
     "output_type": "stream",
     "text": [
      "Parsing csv: parsedX_2300000.csv, 16 / 45\n"
     ]
    },
    {
     "name": "stderr",
     "output_type": "stream",
     "text": [
      " 36%|█████████████████████████████▏                                                    | 16/45 [00:50<01:38,  3.40s/it]"
     ]
    },
    {
     "name": "stdout",
     "output_type": "stream",
     "text": [
      "Parsing csv: parsedX_2400000.csv, 17 / 45\n"
     ]
    },
    {
     "name": "stderr",
     "output_type": "stream",
     "text": [
      " 38%|██████████████████████████████▉                                                   | 17/45 [00:54<01:40,  3.58s/it]"
     ]
    },
    {
     "name": "stdout",
     "output_type": "stream",
     "text": [
      "Parsing csv: parsedX_2500000.csv, 18 / 45\n"
     ]
    },
    {
     "name": "stderr",
     "output_type": "stream",
     "text": [
      " 40%|████████████████████████████████▊                                                 | 18/45 [00:58<01:41,  3.75s/it]"
     ]
    },
    {
     "name": "stdout",
     "output_type": "stream",
     "text": [
      "Parsing csv: parsedX_2600000.csv, 19 / 45\n"
     ]
    },
    {
     "name": "stderr",
     "output_type": "stream",
     "text": [
      " 42%|██████████████████████████████████▌                                               | 19/45 [01:02<01:41,  3.89s/it]"
     ]
    },
    {
     "name": "stdout",
     "output_type": "stream",
     "text": [
      "Parsing csv: parsedX_2700000.csv, 20 / 45\n"
     ]
    },
    {
     "name": "stderr",
     "output_type": "stream",
     "text": [
      " 44%|████████████████████████████████████▍                                             | 20/45 [01:07<01:40,  4.02s/it]"
     ]
    },
    {
     "name": "stdout",
     "output_type": "stream",
     "text": [
      "Parsing csv: parsedX_2800000.csv, 21 / 45\n"
     ]
    },
    {
     "name": "stderr",
     "output_type": "stream",
     "text": [
      " 47%|██████████████████████████████████████▎                                           | 21/45 [01:11<01:38,  4.09s/it]"
     ]
    },
    {
     "name": "stdout",
     "output_type": "stream",
     "text": [
      "Parsing csv: parsedX_2900000.csv, 22 / 45\n"
     ]
    },
    {
     "name": "stderr",
     "output_type": "stream",
     "text": [
      " 49%|████████████████████████████████████████                                          | 22/45 [01:15<01:35,  4.14s/it]"
     ]
    },
    {
     "name": "stdout",
     "output_type": "stream",
     "text": [
      "Parsing csv: parsedX_300000.csv, 23 / 45\n"
     ]
    },
    {
     "name": "stderr",
     "output_type": "stream",
     "text": [
      " 51%|█████████████████████████████████████████▉                                        | 23/45 [01:17<01:18,  3.56s/it]"
     ]
    },
    {
     "name": "stdout",
     "output_type": "stream",
     "text": [
      "Parsing csv: parsedX_3000000.csv, 24 / 45\n"
     ]
    },
    {
     "name": "stderr",
     "output_type": "stream",
     "text": [
      " 53%|███████████████████████████████████████████▋                                      | 24/45 [01:22<01:18,  3.76s/it]"
     ]
    },
    {
     "name": "stdout",
     "output_type": "stream",
     "text": [
      "Parsing csv: parsedX_3100000.csv, 25 / 45\n"
     ]
    },
    {
     "name": "stderr",
     "output_type": "stream",
     "text": [
      " 56%|█████████████████████████████████████████████▌                                    | 25/45 [01:26<01:18,  3.90s/it]"
     ]
    },
    {
     "name": "stdout",
     "output_type": "stream",
     "text": [
      "Parsing csv: parsedX_3200000.csv, 26 / 45\n"
     ]
    },
    {
     "name": "stderr",
     "output_type": "stream",
     "text": [
      " 58%|███████████████████████████████████████████████▍                                  | 26/45 [01:30<01:16,  4.01s/it]"
     ]
    },
    {
     "name": "stdout",
     "output_type": "stream",
     "text": [
      "Parsing csv: parsedX_3300000.csv, 27 / 45\n"
     ]
    },
    {
     "name": "stderr",
     "output_type": "stream",
     "text": [
      " 60%|█████████████████████████████████████████████████▏                                | 27/45 [01:34<01:13,  4.09s/it]"
     ]
    },
    {
     "name": "stdout",
     "output_type": "stream",
     "text": [
      "Parsing csv: parsedX_3400000.csv, 28 / 45\n"
     ]
    },
    {
     "name": "stderr",
     "output_type": "stream",
     "text": [
      " 62%|███████████████████████████████████████████████████                               | 28/45 [01:39<01:10,  4.15s/it]"
     ]
    },
    {
     "name": "stdout",
     "output_type": "stream",
     "text": [
      "Parsing csv: parsedX_3500000.csv, 29 / 45\n"
     ]
    },
    {
     "name": "stderr",
     "output_type": "stream",
     "text": [
      " 64%|████████████████████████████████████████████████████▊                             | 29/45 [01:43<01:07,  4.19s/it]"
     ]
    },
    {
     "name": "stdout",
     "output_type": "stream",
     "text": [
      "Parsing csv: parsedX_3600000.csv, 30 / 45\n"
     ]
    },
    {
     "name": "stderr",
     "output_type": "stream",
     "text": [
      " 67%|██████████████████████████████████████████████████████▋                           | 30/45 [01:47<01:03,  4.25s/it]"
     ]
    },
    {
     "name": "stdout",
     "output_type": "stream",
     "text": [
      "Parsing csv: parsedX_3700000.csv, 31 / 45\n"
     ]
    },
    {
     "name": "stderr",
     "output_type": "stream",
     "text": [
      " 69%|████████████████████████████████████████████████████████▍                         | 31/45 [01:52<00:59,  4.29s/it]"
     ]
    },
    {
     "name": "stdout",
     "output_type": "stream",
     "text": [
      "Parsing csv: parsedX_3800000.csv, 32 / 45\n"
     ]
    },
    {
     "name": "stderr",
     "output_type": "stream",
     "text": [
      " 71%|██████████████████████████████████████████████████████████▎                       | 32/45 [01:56<00:56,  4.33s/it]"
     ]
    },
    {
     "name": "stdout",
     "output_type": "stream",
     "text": [
      "Parsing csv: parsedX_3900000.csv, 33 / 45\n"
     ]
    },
    {
     "name": "stderr",
     "output_type": "stream",
     "text": [
      " 73%|████████████████████████████████████████████████████████████▏                     | 33/45 [02:01<00:52,  4.35s/it]"
     ]
    },
    {
     "name": "stdout",
     "output_type": "stream",
     "text": [
      "Parsing csv: parsedX_400000.csv, 34 / 45\n"
     ]
    },
    {
     "name": "stderr",
     "output_type": "stream",
     "text": [
      " 76%|█████████████████████████████████████████████████████████████▉                    | 34/45 [02:03<00:40,  3.65s/it]"
     ]
    },
    {
     "name": "stdout",
     "output_type": "stream",
     "text": [
      "Parsing csv: parsedX_4000000.csv, 35 / 45\n"
     ]
    },
    {
     "name": "stderr",
     "output_type": "stream",
     "text": [
      " 78%|███████████████████████████████████████████████████████████████▊                  | 35/45 [02:07<00:38,  3.88s/it]"
     ]
    },
    {
     "name": "stdout",
     "output_type": "stream",
     "text": [
      "Parsing csv: parsedX_4100000.csv, 36 / 45\n"
     ]
    },
    {
     "name": "stderr",
     "output_type": "stream",
     "text": [
      " 80%|█████████████████████████████████████████████████████████████████▌                | 36/45 [02:12<00:37,  4.18s/it]"
     ]
    },
    {
     "name": "stdout",
     "output_type": "stream",
     "text": [
      "Parsing csv: parsedX_4200000.csv, 37 / 45\n"
     ]
    },
    {
     "name": "stderr",
     "output_type": "stream",
     "text": [
      " 82%|███████████████████████████████████████████████████████████████████▍              | 37/45 [02:17<00:35,  4.40s/it]"
     ]
    },
    {
     "name": "stdout",
     "output_type": "stream",
     "text": [
      "Parsing csv: parsedX_4300000.csv, 38 / 45\n"
     ]
    },
    {
     "name": "stderr",
     "output_type": "stream",
     "text": [
      " 84%|█████████████████████████████████████████████████████████████████████▏            | 38/45 [02:22<00:31,  4.53s/it]"
     ]
    },
    {
     "name": "stdout",
     "output_type": "stream",
     "text": [
      "Parsing csv: parsedX_4400000.csv, 39 / 45\n"
     ]
    },
    {
     "name": "stderr",
     "output_type": "stream",
     "text": [
      " 87%|███████████████████████████████████████████████████████████████████████           | 39/45 [02:26<00:27,  4.61s/it]"
     ]
    },
    {
     "name": "stdout",
     "output_type": "stream",
     "text": [
      "Parsing csv: parsedX_4454000.csv, 40 / 45\n"
     ]
    },
    {
     "name": "stderr",
     "output_type": "stream",
     "text": [
      " 89%|████████████████████████████████████████████████████████████████████████▉         | 40/45 [02:29<00:19,  3.98s/it]"
     ]
    },
    {
     "name": "stdout",
     "output_type": "stream",
     "text": [
      "Parsing csv: parsedX_500000.csv, 41 / 45\n"
     ]
    },
    {
     "name": "stderr",
     "output_type": "stream",
     "text": [
      " 91%|██████████████████████████████████████████████████████████████████████████▋       | 41/45 [02:32<00:14,  3.65s/it]"
     ]
    },
    {
     "name": "stdout",
     "output_type": "stream",
     "text": [
      "Parsing csv: parsedX_600000.csv, 42 / 45\n"
     ]
    },
    {
     "name": "stderr",
     "output_type": "stream",
     "text": [
      " 93%|████████████████████████████████████████████████████████████████████████████▌     | 42/45 [02:35<00:10,  3.43s/it]"
     ]
    },
    {
     "name": "stdout",
     "output_type": "stream",
     "text": [
      "Parsing csv: parsedX_700000.csv, 43 / 45\n"
     ]
    },
    {
     "name": "stderr",
     "output_type": "stream",
     "text": [
      " 96%|██████████████████████████████████████████████████████████████████████████████▎   | 43/45 [02:38<00:06,  3.34s/it]"
     ]
    },
    {
     "name": "stdout",
     "output_type": "stream",
     "text": [
      "Parsing csv: parsedX_800000.csv, 44 / 45\n"
     ]
    },
    {
     "name": "stderr",
     "output_type": "stream",
     "text": [
      " 98%|████████████████████████████████████████████████████████████████████████████████▏ | 44/45 [02:41<00:03,  3.21s/it]"
     ]
    },
    {
     "name": "stdout",
     "output_type": "stream",
     "text": [
      "Parsing csv: parsedX_900000.csv, 45 / 45\n"
     ]
    },
    {
     "name": "stderr",
     "output_type": "stream",
     "text": [
      "100%|██████████████████████████████████████████████████████████████████████████████████| 45/45 [02:44<00:00,  3.65s/it]\n"
     ]
    }
   ],
   "source": [
    "# Remaining non-matching countries\n",
    "## Extract country names in the articles' dataset\n",
    "articles_dataset_countries_list = []\n",
    "\n",
    "# Import each csv with articles' data and extract country names\n",
    "for csv in tqdm(list_dfs_papers):\n",
    "    print(f\"Parsing csv: {csv}, {list_dfs_papers.index(csv)+1} / {len(list_dfs_papers)}\")\n",
    "    df = pd.read_csv(DF_input + csv)\n",
    "    list_countries = list(set(df[\"Country\"]))\n",
    "    articles_dataset_countries_list.append(list_countries)\n",
    "    del df, list_countries\n",
    "\n",
    "# Flatten list, remove nan, convert to set\n",
    "articles_dataset_countries = set([el for el in (chain(*articles_dataset_countries_list)) if str(el) != \"nan\"])"
   ]
  },
  {
   "cell_type": "code",
   "execution_count": 11,
   "id": "a264b075-94d3-43c5-b0db-d6922dfe455f",
   "metadata": {},
   "outputs": [
    {
     "data": {
      "text/plain": [
       "set()"
      ]
     },
     "execution_count": 11,
     "metadata": {},
     "output_type": "execute_result"
    }
   ],
   "source": [
    "# Countries appearing in articles' dataset and missing in Globocan dataset\n",
    "articles_dataset_countries.difference(globocan_dataset_countries)"
   ]
  },
  {
   "cell_type": "markdown",
   "id": "e123d13e-eb0c-4750-adcc-48b73b92f131",
   "metadata": {},
   "source": [
    "No more non-matching countries between the Globocan and the articles' dataset"
   ]
  },
  {
   "cell_type": "markdown",
   "id": "b21c2ca9-d57e-464d-a5a4-3ceab66b559e",
   "metadata": {},
   "source": [
    "# Matching cancer names in Globocan and articles' datasets\n",
    "\n",
    "There are also some naming discrepancies in the cancer names articles's dataset with respect to the Globocan dataset (e.g. the articles' dataset contains a category **Breast cancer** as well as a category **Ductal carcinoma**, which is a type of Breast cancer, whereas the Globocan dataset contains only **Breast cancer**). Here, cancer names/subtypes are homogeneized between the Globocan and the articles' dataset."
   ]
  },
  {
   "cell_type": "code",
   "execution_count": 12,
   "id": "867c9795-6b60-478f-9240-b458b44f35c3",
   "metadata": {},
   "outputs": [
    {
     "data": {
      "text/plain": [
       "{'Anal cancer',\n",
       " 'Bladder cancer',\n",
       " 'Brain cancer',\n",
       " 'Breast cancer',\n",
       " 'Cervical cancer',\n",
       " 'Colon cancer',\n",
       " 'Colorectal cancer',\n",
       " 'Esophageal cancer',\n",
       " 'Gallbladder cancer',\n",
       " 'Hodgkin lymphoma',\n",
       " 'Kaposi sarcoma',\n",
       " 'Kidney cancer',\n",
       " 'Laryngeal cancer',\n",
       " 'Leukemia',\n",
       " 'Liver cancer',\n",
       " 'Lung cancer',\n",
       " 'Mesothelioma',\n",
       " 'Mouth cancer',\n",
       " 'Multiple myeloma',\n",
       " 'Non-Hodgkin lymphoma',\n",
       " 'Non-melanoma skin cancer',\n",
       " 'Ovarian cancer',\n",
       " 'Pancreatic cancer',\n",
       " 'Penile cancer',\n",
       " 'Prostate cancer',\n",
       " 'Rectal cancer',\n",
       " 'Salivary gland cancer',\n",
       " 'Skin cancer',\n",
       " 'Stomach cancer',\n",
       " 'Testicular cancer',\n",
       " 'Throat cancer',\n",
       " 'Thyroid cancer',\n",
       " 'Uterine cancer',\n",
       " 'Vaginal cancer',\n",
       " 'Vulvar cancer'}"
      ]
     },
     "execution_count": 12,
     "metadata": {},
     "output_type": "execute_result"
    }
   ],
   "source": [
    "# Show cancer types available in the Globocan dataset\n",
    "globocan_dataset_cancers = set(df_globocan[\"Cancer\"].to_list())\n",
    "globocan_dataset_cancers"
   ]
  },
  {
   "cell_type": "code",
   "execution_count": 13,
   "id": "e2cf5407-a845-4a1d-8f3f-d0d75965a698",
   "metadata": {
    "scrolled": true
   },
   "outputs": [
    {
     "name": "stderr",
     "output_type": "stream",
     "text": [
      "  0%|                                                                                           | 0/45 [00:00<?, ?it/s]"
     ]
    },
    {
     "name": "stdout",
     "output_type": "stream",
     "text": [
      "Parsing csv: parsedX_100000.csv, 1 / 45\n"
     ]
    },
    {
     "name": "stderr",
     "output_type": "stream",
     "text": [
      "  2%|█▊                                                                                 | 1/45 [00:04<02:57,  4.03s/it]"
     ]
    },
    {
     "name": "stdout",
     "output_type": "stream",
     "text": [
      "Parsing csv: parsedX_1000000.csv, 2 / 45\n"
     ]
    },
    {
     "name": "stderr",
     "output_type": "stream",
     "text": [
      "  4%|███▋                                                                               | 2/45 [00:08<03:03,  4.26s/it]"
     ]
    },
    {
     "name": "stdout",
     "output_type": "stream",
     "text": [
      "Parsing csv: parsedX_1100000.csv, 3 / 45\n"
     ]
    },
    {
     "name": "stderr",
     "output_type": "stream",
     "text": [
      "  7%|█████▌                                                                             | 3/45 [00:13<03:05,  4.42s/it]"
     ]
    },
    {
     "name": "stdout",
     "output_type": "stream",
     "text": [
      "Parsing csv: parsedX_1200000.csv, 4 / 45\n"
     ]
    },
    {
     "name": "stderr",
     "output_type": "stream",
     "text": [
      "  9%|███████▍                                                                           | 4/45 [00:17<03:03,  4.48s/it]"
     ]
    },
    {
     "name": "stdout",
     "output_type": "stream",
     "text": [
      "Parsing csv: parsedX_1300000.csv, 5 / 45\n"
     ]
    },
    {
     "name": "stderr",
     "output_type": "stream",
     "text": [
      " 11%|█████████▏                                                                         | 5/45 [00:22<03:02,  4.57s/it]"
     ]
    },
    {
     "name": "stdout",
     "output_type": "stream",
     "text": [
      "Parsing csv: parsedX_1400000.csv, 6 / 45\n"
     ]
    },
    {
     "name": "stderr",
     "output_type": "stream",
     "text": [
      " 13%|███████████                                                                        | 6/45 [00:27<03:01,  4.65s/it]"
     ]
    },
    {
     "name": "stdout",
     "output_type": "stream",
     "text": [
      "Parsing csv: parsedX_1500000.csv, 7 / 45\n"
     ]
    },
    {
     "name": "stderr",
     "output_type": "stream",
     "text": [
      " 16%|████████████▉                                                                      | 7/45 [00:31<02:57,  4.67s/it]"
     ]
    },
    {
     "name": "stdout",
     "output_type": "stream",
     "text": [
      "Parsing csv: parsedX_1600000.csv, 8 / 45\n"
     ]
    },
    {
     "name": "stderr",
     "output_type": "stream",
     "text": [
      " 18%|██████████████▊                                                                    | 8/45 [00:36<02:54,  4.73s/it]"
     ]
    },
    {
     "name": "stdout",
     "output_type": "stream",
     "text": [
      "Parsing csv: parsedX_1700000.csv, 9 / 45\n"
     ]
    },
    {
     "name": "stderr",
     "output_type": "stream",
     "text": [
      " 20%|████████████████▌                                                                  | 9/45 [00:41<02:50,  4.72s/it]"
     ]
    },
    {
     "name": "stdout",
     "output_type": "stream",
     "text": [
      "Parsing csv: parsedX_1800000.csv, 10 / 45\n"
     ]
    },
    {
     "name": "stderr",
     "output_type": "stream",
     "text": [
      " 22%|██████████████████▏                                                               | 10/45 [00:46<02:46,  4.75s/it]"
     ]
    },
    {
     "name": "stdout",
     "output_type": "stream",
     "text": [
      "Parsing csv: parsedX_1900000.csv, 11 / 45\n"
     ]
    },
    {
     "name": "stderr",
     "output_type": "stream",
     "text": [
      " 24%|████████████████████                                                              | 11/45 [00:51<02:44,  4.83s/it]"
     ]
    },
    {
     "name": "stdout",
     "output_type": "stream",
     "text": [
      "Parsing csv: parsedX_200000.csv, 12 / 45\n"
     ]
    },
    {
     "name": "stderr",
     "output_type": "stream",
     "text": [
      " 27%|█████████████████████▊                                                            | 12/45 [00:55<02:29,  4.52s/it]"
     ]
    },
    {
     "name": "stdout",
     "output_type": "stream",
     "text": [
      "Parsing csv: parsedX_2000000.csv, 13 / 45\n"
     ]
    },
    {
     "name": "stderr",
     "output_type": "stream",
     "text": [
      " 29%|███████████████████████▋                                                          | 13/45 [00:59<02:28,  4.63s/it]"
     ]
    },
    {
     "name": "stdout",
     "output_type": "stream",
     "text": [
      "Parsing csv: parsedX_2100000.csv, 14 / 45\n"
     ]
    },
    {
     "name": "stderr",
     "output_type": "stream",
     "text": [
      " 31%|█████████████████████████▌                                                        | 14/45 [01:05<02:27,  4.76s/it]"
     ]
    },
    {
     "name": "stdout",
     "output_type": "stream",
     "text": [
      "Parsing csv: parsedX_2200000.csv, 15 / 45\n"
     ]
    },
    {
     "name": "stderr",
     "output_type": "stream",
     "text": [
      " 33%|███████████████████████████▎                                                      | 15/45 [01:10<02:27,  4.91s/it]"
     ]
    },
    {
     "name": "stdout",
     "output_type": "stream",
     "text": [
      "Parsing csv: parsedX_2300000.csv, 16 / 45\n"
     ]
    },
    {
     "name": "stderr",
     "output_type": "stream",
     "text": [
      " 36%|█████████████████████████████▏                                                    | 16/45 [01:15<02:27,  5.07s/it]"
     ]
    },
    {
     "name": "stdout",
     "output_type": "stream",
     "text": [
      "Parsing csv: parsedX_2400000.csv, 17 / 45\n"
     ]
    },
    {
     "name": "stderr",
     "output_type": "stream",
     "text": [
      " 38%|██████████████████████████████▉                                                   | 17/45 [01:21<02:26,  5.24s/it]"
     ]
    },
    {
     "name": "stdout",
     "output_type": "stream",
     "text": [
      "Parsing csv: parsedX_2500000.csv, 18 / 45\n"
     ]
    },
    {
     "name": "stderr",
     "output_type": "stream",
     "text": [
      " 40%|████████████████████████████████▊                                                 | 18/45 [01:27<02:26,  5.44s/it]"
     ]
    },
    {
     "name": "stdout",
     "output_type": "stream",
     "text": [
      "Parsing csv: parsedX_2600000.csv, 19 / 45\n"
     ]
    },
    {
     "name": "stderr",
     "output_type": "stream",
     "text": [
      " 42%|██████████████████████████████████▌                                               | 19/45 [01:33<02:24,  5.57s/it]"
     ]
    },
    {
     "name": "stdout",
     "output_type": "stream",
     "text": [
      "Parsing csv: parsedX_2700000.csv, 20 / 45\n"
     ]
    },
    {
     "name": "stderr",
     "output_type": "stream",
     "text": [
      " 44%|████████████████████████████████████▍                                             | 20/45 [01:38<02:21,  5.65s/it]"
     ]
    },
    {
     "name": "stdout",
     "output_type": "stream",
     "text": [
      "Parsing csv: parsedX_2800000.csv, 21 / 45\n"
     ]
    },
    {
     "name": "stderr",
     "output_type": "stream",
     "text": [
      " 47%|██████████████████████████████████████▎                                           | 21/45 [01:44<02:16,  5.70s/it]"
     ]
    },
    {
     "name": "stdout",
     "output_type": "stream",
     "text": [
      "Parsing csv: parsedX_2900000.csv, 22 / 45\n"
     ]
    },
    {
     "name": "stderr",
     "output_type": "stream",
     "text": [
      " 49%|████████████████████████████████████████                                          | 22/45 [01:50<02:12,  5.75s/it]"
     ]
    },
    {
     "name": "stdout",
     "output_type": "stream",
     "text": [
      "Parsing csv: parsedX_300000.csv, 23 / 45\n"
     ]
    },
    {
     "name": "stderr",
     "output_type": "stream",
     "text": [
      " 51%|█████████████████████████████████████████▉                                        | 23/45 [01:54<01:54,  5.19s/it]"
     ]
    },
    {
     "name": "stdout",
     "output_type": "stream",
     "text": [
      "Parsing csv: parsedX_3000000.csv, 24 / 45\n"
     ]
    },
    {
     "name": "stderr",
     "output_type": "stream",
     "text": [
      " 53%|███████████████████████████████████████████▋                                      | 24/45 [02:00<01:53,  5.40s/it]"
     ]
    },
    {
     "name": "stdout",
     "output_type": "stream",
     "text": [
      "Parsing csv: parsedX_3100000.csv, 25 / 45\n"
     ]
    },
    {
     "name": "stderr",
     "output_type": "stream",
     "text": [
      " 56%|█████████████████████████████████████████████▌                                    | 25/45 [02:06<01:51,  5.57s/it]"
     ]
    },
    {
     "name": "stdout",
     "output_type": "stream",
     "text": [
      "Parsing csv: parsedX_3200000.csv, 26 / 45\n"
     ]
    },
    {
     "name": "stderr",
     "output_type": "stream",
     "text": [
      " 58%|███████████████████████████████████████████████▍                                  | 26/45 [02:12<01:47,  5.67s/it]"
     ]
    },
    {
     "name": "stdout",
     "output_type": "stream",
     "text": [
      "Parsing csv: parsedX_3300000.csv, 27 / 45\n"
     ]
    },
    {
     "name": "stderr",
     "output_type": "stream",
     "text": [
      " 60%|█████████████████████████████████████████████████▏                                | 27/45 [02:18<01:43,  5.74s/it]"
     ]
    },
    {
     "name": "stdout",
     "output_type": "stream",
     "text": [
      "Parsing csv: parsedX_3400000.csv, 28 / 45\n"
     ]
    },
    {
     "name": "stderr",
     "output_type": "stream",
     "text": [
      " 62%|███████████████████████████████████████████████████                               | 28/45 [02:24<01:38,  5.77s/it]"
     ]
    },
    {
     "name": "stdout",
     "output_type": "stream",
     "text": [
      "Parsing csv: parsedX_3500000.csv, 29 / 45\n"
     ]
    },
    {
     "name": "stderr",
     "output_type": "stream",
     "text": [
      " 64%|████████████████████████████████████████████████████▊                             | 29/45 [02:30<01:33,  5.85s/it]"
     ]
    },
    {
     "name": "stdout",
     "output_type": "stream",
     "text": [
      "Parsing csv: parsedX_3600000.csv, 30 / 45\n"
     ]
    },
    {
     "name": "stderr",
     "output_type": "stream",
     "text": [
      " 67%|██████████████████████████████████████████████████████▋                           | 30/45 [02:36<01:27,  5.87s/it]"
     ]
    },
    {
     "name": "stdout",
     "output_type": "stream",
     "text": [
      "Parsing csv: parsedX_3700000.csv, 31 / 45\n"
     ]
    },
    {
     "name": "stderr",
     "output_type": "stream",
     "text": [
      " 69%|████████████████████████████████████████████████████████▍                         | 31/45 [02:41<01:22,  5.89s/it]"
     ]
    },
    {
     "name": "stdout",
     "output_type": "stream",
     "text": [
      "Parsing csv: parsedX_3800000.csv, 32 / 45\n"
     ]
    },
    {
     "name": "stderr",
     "output_type": "stream",
     "text": [
      " 71%|██████████████████████████████████████████████████████████▎                       | 32/45 [02:47<01:16,  5.90s/it]"
     ]
    },
    {
     "name": "stdout",
     "output_type": "stream",
     "text": [
      "Parsing csv: parsedX_3900000.csv, 33 / 45\n"
     ]
    },
    {
     "name": "stderr",
     "output_type": "stream",
     "text": [
      " 73%|████████████████████████████████████████████████████████████▏                     | 33/45 [02:53<01:10,  5.90s/it]"
     ]
    },
    {
     "name": "stdout",
     "output_type": "stream",
     "text": [
      "Parsing csv: parsedX_400000.csv, 34 / 45\n"
     ]
    },
    {
     "name": "stderr",
     "output_type": "stream",
     "text": [
      " 76%|█████████████████████████████████████████████████████████████▉                    | 34/45 [02:57<00:56,  5.12s/it]"
     ]
    },
    {
     "name": "stdout",
     "output_type": "stream",
     "text": [
      "Parsing csv: parsedX_4000000.csv, 35 / 45\n"
     ]
    },
    {
     "name": "stderr",
     "output_type": "stream",
     "text": [
      " 78%|███████████████████████████████████████████████████████████████▊                  | 35/45 [03:02<00:53,  5.36s/it]"
     ]
    },
    {
     "name": "stdout",
     "output_type": "stream",
     "text": [
      "Parsing csv: parsedX_4100000.csv, 36 / 45\n"
     ]
    },
    {
     "name": "stderr",
     "output_type": "stream",
     "text": [
      " 80%|█████████████████████████████████████████████████████████████████▌                | 36/45 [03:09<00:50,  5.62s/it]"
     ]
    },
    {
     "name": "stdout",
     "output_type": "stream",
     "text": [
      "Parsing csv: parsedX_4200000.csv, 37 / 45\n"
     ]
    },
    {
     "name": "stderr",
     "output_type": "stream",
     "text": [
      " 82%|███████████████████████████████████████████████████████████████████▍              | 37/45 [03:15<00:47,  5.89s/it]"
     ]
    },
    {
     "name": "stdout",
     "output_type": "stream",
     "text": [
      "Parsing csv: parsedX_4300000.csv, 38 / 45\n"
     ]
    },
    {
     "name": "stderr",
     "output_type": "stream",
     "text": [
      " 84%|█████████████████████████████████████████████████████████████████████▏            | 38/45 [03:21<00:41,  5.93s/it]"
     ]
    },
    {
     "name": "stdout",
     "output_type": "stream",
     "text": [
      "Parsing csv: parsedX_4400000.csv, 39 / 45\n"
     ]
    },
    {
     "name": "stderr",
     "output_type": "stream",
     "text": [
      " 87%|███████████████████████████████████████████████████████████████████████           | 39/45 [03:27<00:35,  5.95s/it]"
     ]
    },
    {
     "name": "stdout",
     "output_type": "stream",
     "text": [
      "Parsing csv: parsedX_4454000.csv, 40 / 45\n"
     ]
    },
    {
     "name": "stderr",
     "output_type": "stream",
     "text": [
      " 89%|████████████████████████████████████████████████████████████████████████▉         | 40/45 [03:30<00:25,  5.11s/it]"
     ]
    },
    {
     "name": "stdout",
     "output_type": "stream",
     "text": [
      "Parsing csv: parsedX_500000.csv, 41 / 45\n"
     ]
    },
    {
     "name": "stderr",
     "output_type": "stream",
     "text": [
      " 91%|██████████████████████████████████████████████████████████████████████████▋       | 41/45 [03:34<00:18,  4.75s/it]"
     ]
    },
    {
     "name": "stdout",
     "output_type": "stream",
     "text": [
      "Parsing csv: parsedX_600000.csv, 42 / 45\n"
     ]
    },
    {
     "name": "stderr",
     "output_type": "stream",
     "text": [
      " 93%|████████████████████████████████████████████████████████████████████████████▌     | 42/45 [03:38<00:13,  4.50s/it]"
     ]
    },
    {
     "name": "stdout",
     "output_type": "stream",
     "text": [
      "Parsing csv: parsedX_700000.csv, 43 / 45\n"
     ]
    },
    {
     "name": "stderr",
     "output_type": "stream",
     "text": [
      " 96%|██████████████████████████████████████████████████████████████████████████████▎   | 43/45 [03:42<00:08,  4.37s/it]"
     ]
    },
    {
     "name": "stdout",
     "output_type": "stream",
     "text": [
      "Parsing csv: parsedX_800000.csv, 44 / 45\n"
     ]
    },
    {
     "name": "stderr",
     "output_type": "stream",
     "text": [
      " 98%|████████████████████████████████████████████████████████████████████████████████▏ | 44/45 [03:47<00:04,  4.39s/it]"
     ]
    },
    {
     "name": "stdout",
     "output_type": "stream",
     "text": [
      "Parsing csv: parsedX_900000.csv, 45 / 45\n"
     ]
    },
    {
     "name": "stderr",
     "output_type": "stream",
     "text": [
      "100%|██████████████████████████████████████████████████████████████████████████████████| 45/45 [03:51<00:00,  5.15s/it]\n"
     ]
    }
   ],
   "source": [
    "# Show cancer types available in the articles' dataset\n",
    "## Extract cancer names in the articles' dataset\n",
    "articles_dataset_cancers_list = []\n",
    "\n",
    "# Import each csv with articles' data and extract cancer names\n",
    "for csv in tqdm(list_dfs_papers):\n",
    "    print(f\"Parsing csv: {csv}, {list_dfs_papers.index(csv)+1} / {len(list_dfs_papers)}\")\n",
    "    df = pd.read_csv(DF_input + csv)\n",
    "    list_cancers = [ast.literal_eval(el) for el in df[\"Cancer\"].to_list() if len(ast.literal_eval(el)) > 0]\n",
    "    articles_dataset_cancers_list.append(list_cancers)\n",
    "    del df, list_cancers\n",
    "\n",
    "# Flatten the lists and get a set of available cancer types\n",
    "def recursive_chain(iterable):\n",
    "    for item in iterable:\n",
    "        if isinstance(item, list):\n",
    "            yield from recursive_chain(item)\n",
    "        else:\n",
    "            yield item\n",
    "\n",
    "articles_dataset_cancers = set(list(recursive_chain(articles_dataset_cancers_list)))"
   ]
  },
  {
   "cell_type": "code",
   "execution_count": 14,
   "id": "9be846a8-81eb-4da4-bc7c-2b7fcd89512a",
   "metadata": {},
   "outputs": [
    {
     "data": {
      "text/plain": [
       "{'Acute lymphoblastic leukemia',\n",
       " 'Acute myeloid leukemia',\n",
       " 'Adenocarcinoma',\n",
       " 'Adenocarcinoma of the colon',\n",
       " 'Adenocarcinoma of the pancreas',\n",
       " 'Adenoid cystic carcinoma',\n",
       " 'Adrenocortical carcinoma',\n",
       " 'Aggressive systemic mastocytosis',\n",
       " 'Alveolar soft part sarcoma',\n",
       " 'Ampullary cancer',\n",
       " 'Ampullary carcinoma',\n",
       " 'Anal cancer',\n",
       " 'Anaplastic thyroid cancer',\n",
       " 'Angiosarcoma',\n",
       " 'Appendix cancer',\n",
       " 'Astrocytoma',\n",
       " 'Atypical chronic myeloid leukemia',\n",
       " 'Basal cell carcinoma',\n",
       " 'Bladder cancer',\n",
       " 'Bone cancer',\n",
       " 'Brain cancer',\n",
       " 'Breast cancer',\n",
       " 'Cervical cancer',\n",
       " 'Cholangiocarcinoma',\n",
       " 'Chondrosarcoma',\n",
       " 'Chordoma',\n",
       " 'Chronic eosinophilic leukemia',\n",
       " 'Chronic lymphocytic leukemia',\n",
       " 'Chronic myeloid leukemia',\n",
       " 'Chronic neutrophilic leukemia',\n",
       " 'Clear cell carcinoma',\n",
       " 'Colon cancer',\n",
       " 'Colorectal cancer',\n",
       " 'Cutaneous mastocytosis',\n",
       " 'Desmoplastic small round cell tumor',\n",
       " 'Diffuse large B-cell lymphoma',\n",
       " 'Ductal carcinoma',\n",
       " 'Duodenal cancer',\n",
       " 'Ear cancer',\n",
       " 'Endometrial cancer',\n",
       " 'Endometrial stromal sarcoma',\n",
       " 'Ependymoma',\n",
       " 'Epithelioid sarcoma',\n",
       " 'Esophageal cancer',\n",
       " 'Essential thrombocythemia',\n",
       " 'Ewing sarcoma',\n",
       " 'Extraskeletal chondrosarcoma',\n",
       " 'Extraskeletal myxoid chondrosarcoma',\n",
       " 'Extraskeletal osteosarcoma',\n",
       " 'Eye cancer',\n",
       " 'Fallopian tube cancer',\n",
       " 'Fibrolamellar carcinoma',\n",
       " 'Fibrosarcoma',\n",
       " 'Follicular lymphoma',\n",
       " 'Follicular thyroid cancer',\n",
       " 'Gallbladder cancer',\n",
       " 'Gastric adenocarcinoma',\n",
       " 'Gastrointestinal stromal tumor',\n",
       " 'Giant cell tumor of bone',\n",
       " 'Glioblastoma',\n",
       " 'Granulosa cell tumor',\n",
       " 'Hairy cell leukemia',\n",
       " 'Head and neck cancer',\n",
       " 'Hepatocellular carcinoma',\n",
       " 'Hodgkin lymphoma',\n",
       " 'Ileal cancer',\n",
       " 'Jejunal cancer',\n",
       " 'Juvenile myelomonocytic leukemia',\n",
       " 'Kaposi sarcoma',\n",
       " 'Kidney cancer',\n",
       " 'Laryngeal cancer',\n",
       " 'Leiomyoma',\n",
       " 'Leiomyosarcoma',\n",
       " 'Leukemia',\n",
       " 'Liposarcoma',\n",
       " 'Liver cancer',\n",
       " 'Lobular carcinoma',\n",
       " 'Lung cancer',\n",
       " 'Lymphoma',\n",
       " 'Malignant fibrous histiocytoma',\n",
       " 'Malignant mesenchymoma',\n",
       " 'Malignant peripheral nerve sheath tumor',\n",
       " 'Mantle cell lymphoma',\n",
       " 'Marginal zone lymphoma',\n",
       " 'Mast cell leukemia',\n",
       " 'Mast cell sarcoma',\n",
       " 'Medullary thyroid cancer',\n",
       " 'Medulloblastoma',\n",
       " 'Melanoma',\n",
       " 'Meningioma',\n",
       " 'Merkel cell carcinoma',\n",
       " 'Mesonephric carcinoma',\n",
       " 'Mesothelioma',\n",
       " 'Mouth cancer',\n",
       " 'Mucinous adenocarcinoma',\n",
       " 'Mucinous carcinoma',\n",
       " 'Mucosa-associated lymphoid tissue lymphoma',\n",
       " 'Multiple myeloma',\n",
       " 'Myelodysplastic syndromes',\n",
       " 'Myeloproliferative neoplasms',\n",
       " 'Nasal cancer',\n",
       " 'Neuroblastoma',\n",
       " 'Neuroendocrine tumor',\n",
       " 'Neurofibroma',\n",
       " 'Non-Hodgkin lymphoma',\n",
       " 'Non-small cell lung cancer',\n",
       " 'Oligodendroglioma',\n",
       " 'Osteoblastoma',\n",
       " 'Osteochondroma',\n",
       " 'Osteosarcoma',\n",
       " 'Ovarian cancer',\n",
       " 'Pancreatic cancer',\n",
       " 'Papillary thyroid cancer',\n",
       " 'Parathyroid carcinoma',\n",
       " 'Penile cancer',\n",
       " 'Periosteal osteosarcoma',\n",
       " 'Peripheral T-cell lymphoma',\n",
       " 'Peritoneal cancer',\n",
       " 'Pleomorphic sarcoma',\n",
       " 'Polycythemia vera',\n",
       " 'Primary central nervous system lymphoma',\n",
       " 'Primary myelofibrosis',\n",
       " 'Primitive neuroectodermal tumor',\n",
       " 'Prostate cancer',\n",
       " 'Rectal cancer',\n",
       " 'Renal cell carcinoma',\n",
       " 'Rhabdomyosarcoma',\n",
       " 'Salivary gland cancer',\n",
       " 'Sarcoma',\n",
       " 'Schwannoma',\n",
       " 'Sebaceous carcinoma',\n",
       " 'Sebaceous gland carcinoma',\n",
       " 'Sertoli-Leydig cell tumor',\n",
       " 'Skin cancer',\n",
       " 'Small cell lung cancer',\n",
       " 'Small intestine cancer',\n",
       " 'Smoldering systemic mastocytosis',\n",
       " 'Solitary fibrous tumor',\n",
       " 'Squamous cell carcinoma',\n",
       " 'Squamous cell carcinoma of the skin',\n",
       " 'Stomach cancer',\n",
       " 'Synovial sarcoma',\n",
       " 'Systemic mastocytosis',\n",
       " 'Testicular cancer',\n",
       " 'Throat cancer',\n",
       " 'Thymic carcinoma',\n",
       " 'Thymoma',\n",
       " 'Thyroid cancer',\n",
       " 'Transitional cell carcinoma',\n",
       " 'Urothelial carcinoma',\n",
       " 'Uterine cancer',\n",
       " 'Vaginal cancer',\n",
       " 'Vulval cancer',\n",
       " 'Vulvar cancer',\n",
       " 'Wilms tumor',\n",
       " 'hemangiosarcoma'}"
      ]
     },
     "execution_count": 14,
     "metadata": {},
     "output_type": "execute_result"
    }
   ],
   "source": [
    "articles_dataset_cancers"
   ]
  },
  {
   "cell_type": "markdown",
   "id": "fa30b759-56aa-40f3-91b9-9c129da6e484",
   "metadata": {},
   "source": [
    "Cancer types in the present in the Globocan dataset but not in the articles' dataset"
   ]
  },
  {
   "cell_type": "code",
   "execution_count": 15,
   "id": "61215988-5387-4069-a1eb-dd9d787295a8",
   "metadata": {},
   "outputs": [
    {
     "data": {
      "text/plain": [
       "{'Non-melanoma skin cancer'}"
      ]
     },
     "execution_count": 15,
     "metadata": {},
     "output_type": "execute_result"
    }
   ],
   "source": [
    "globocan_dataset_cancers.difference(articles_dataset_cancers)"
   ]
  },
  {
   "cell_type": "markdown",
   "id": "3d73847d-697d-4b94-a7b9-60f98453aa98",
   "metadata": {},
   "source": [
    "Cancer types in the present in the articles' dataset but not in the Globocan dataset"
   ]
  },
  {
   "cell_type": "code",
   "execution_count": 16,
   "id": "3a52fc50-c481-4b9c-8ae4-01a145f31ea7",
   "metadata": {
    "scrolled": true
   },
   "outputs": [
    {
     "data": {
      "text/plain": [
       "{'Acute lymphoblastic leukemia',\n",
       " 'Acute myeloid leukemia',\n",
       " 'Adenocarcinoma',\n",
       " 'Adenocarcinoma of the colon',\n",
       " 'Adenocarcinoma of the pancreas',\n",
       " 'Adenoid cystic carcinoma',\n",
       " 'Adrenocortical carcinoma',\n",
       " 'Aggressive systemic mastocytosis',\n",
       " 'Alveolar soft part sarcoma',\n",
       " 'Ampullary cancer',\n",
       " 'Ampullary carcinoma',\n",
       " 'Anaplastic thyroid cancer',\n",
       " 'Angiosarcoma',\n",
       " 'Appendix cancer',\n",
       " 'Astrocytoma',\n",
       " 'Atypical chronic myeloid leukemia',\n",
       " 'Basal cell carcinoma',\n",
       " 'Bone cancer',\n",
       " 'Cholangiocarcinoma',\n",
       " 'Chondrosarcoma',\n",
       " 'Chordoma',\n",
       " 'Chronic eosinophilic leukemia',\n",
       " 'Chronic lymphocytic leukemia',\n",
       " 'Chronic myeloid leukemia',\n",
       " 'Chronic neutrophilic leukemia',\n",
       " 'Clear cell carcinoma',\n",
       " 'Cutaneous mastocytosis',\n",
       " 'Desmoplastic small round cell tumor',\n",
       " 'Diffuse large B-cell lymphoma',\n",
       " 'Ductal carcinoma',\n",
       " 'Duodenal cancer',\n",
       " 'Ear cancer',\n",
       " 'Endometrial cancer',\n",
       " 'Endometrial stromal sarcoma',\n",
       " 'Ependymoma',\n",
       " 'Epithelioid sarcoma',\n",
       " 'Essential thrombocythemia',\n",
       " 'Ewing sarcoma',\n",
       " 'Extraskeletal chondrosarcoma',\n",
       " 'Extraskeletal myxoid chondrosarcoma',\n",
       " 'Extraskeletal osteosarcoma',\n",
       " 'Eye cancer',\n",
       " 'Fallopian tube cancer',\n",
       " 'Fibrolamellar carcinoma',\n",
       " 'Fibrosarcoma',\n",
       " 'Follicular lymphoma',\n",
       " 'Follicular thyroid cancer',\n",
       " 'Gastric adenocarcinoma',\n",
       " 'Gastrointestinal stromal tumor',\n",
       " 'Giant cell tumor of bone',\n",
       " 'Glioblastoma',\n",
       " 'Granulosa cell tumor',\n",
       " 'Hairy cell leukemia',\n",
       " 'Head and neck cancer',\n",
       " 'Hepatocellular carcinoma',\n",
       " 'Ileal cancer',\n",
       " 'Jejunal cancer',\n",
       " 'Juvenile myelomonocytic leukemia',\n",
       " 'Leiomyoma',\n",
       " 'Leiomyosarcoma',\n",
       " 'Liposarcoma',\n",
       " 'Lobular carcinoma',\n",
       " 'Lymphoma',\n",
       " 'Malignant fibrous histiocytoma',\n",
       " 'Malignant mesenchymoma',\n",
       " 'Malignant peripheral nerve sheath tumor',\n",
       " 'Mantle cell lymphoma',\n",
       " 'Marginal zone lymphoma',\n",
       " 'Mast cell leukemia',\n",
       " 'Mast cell sarcoma',\n",
       " 'Medullary thyroid cancer',\n",
       " 'Medulloblastoma',\n",
       " 'Melanoma',\n",
       " 'Meningioma',\n",
       " 'Merkel cell carcinoma',\n",
       " 'Mesonephric carcinoma',\n",
       " 'Mucinous adenocarcinoma',\n",
       " 'Mucinous carcinoma',\n",
       " 'Mucosa-associated lymphoid tissue lymphoma',\n",
       " 'Myelodysplastic syndromes',\n",
       " 'Myeloproliferative neoplasms',\n",
       " 'Nasal cancer',\n",
       " 'Neuroblastoma',\n",
       " 'Neuroendocrine tumor',\n",
       " 'Neurofibroma',\n",
       " 'Non-small cell lung cancer',\n",
       " 'Oligodendroglioma',\n",
       " 'Osteoblastoma',\n",
       " 'Osteochondroma',\n",
       " 'Osteosarcoma',\n",
       " 'Papillary thyroid cancer',\n",
       " 'Parathyroid carcinoma',\n",
       " 'Periosteal osteosarcoma',\n",
       " 'Peripheral T-cell lymphoma',\n",
       " 'Peritoneal cancer',\n",
       " 'Pleomorphic sarcoma',\n",
       " 'Polycythemia vera',\n",
       " 'Primary central nervous system lymphoma',\n",
       " 'Primary myelofibrosis',\n",
       " 'Primitive neuroectodermal tumor',\n",
       " 'Renal cell carcinoma',\n",
       " 'Rhabdomyosarcoma',\n",
       " 'Sarcoma',\n",
       " 'Schwannoma',\n",
       " 'Sebaceous carcinoma',\n",
       " 'Sebaceous gland carcinoma',\n",
       " 'Sertoli-Leydig cell tumor',\n",
       " 'Small cell lung cancer',\n",
       " 'Small intestine cancer',\n",
       " 'Smoldering systemic mastocytosis',\n",
       " 'Solitary fibrous tumor',\n",
       " 'Squamous cell carcinoma',\n",
       " 'Squamous cell carcinoma of the skin',\n",
       " 'Synovial sarcoma',\n",
       " 'Systemic mastocytosis',\n",
       " 'Thymic carcinoma',\n",
       " 'Thymoma',\n",
       " 'Transitional cell carcinoma',\n",
       " 'Urothelial carcinoma',\n",
       " 'Vulval cancer',\n",
       " 'Wilms tumor',\n",
       " 'hemangiosarcoma'}"
      ]
     },
     "execution_count": 16,
     "metadata": {},
     "output_type": "execute_result"
    }
   ],
   "source": [
    "articles_dataset_cancers.difference(globocan_dataset_cancers)"
   ]
  },
  {
   "cell_type": "code",
   "execution_count": 35,
   "id": "525d781c-85cf-4287-8b0b-dfda57639595",
   "metadata": {},
   "outputs": [],
   "source": [
    "for cancer in articles_dataset_cancers.difference(temp_df.columns):\n",
    "    temp_df[cancer] = 0"
   ]
  },
  {
   "cell_type": "code",
   "execution_count": 97,
   "id": "3a569c39-0007-4e2a-9713-d2e4b58d8759",
   "metadata": {},
   "outputs": [
    {
     "name": "stderr",
     "output_type": "stream",
     "text": [
      "100%|██████████████████████████████████████████████████████████████████████████████████| 45/45 [07:49<00:00, 10.42s/it]\n"
     ]
    }
   ],
   "source": [
    "# Here, cancers which can be considered synonyms or subtypes of main cancers present in the \n",
    "# Globocan dataset are combined with these main cancers. \n",
    "# Subsequently, these synonyms and subtypes are removed\n",
    "cancers_remove_matched = []\n",
    "\n",
    "for csv in tqdm(list_dfs_papers):\n",
    "    df = pd.read_csv(DF_input + csv)\n",
    "\n",
    "    # Some dfs don't contain all cancer types of the whole dataset. For these cases, add each missing cancer with value 0 for all papers\n",
    "    for cancer in articles_dataset_cancers.difference(df.columns):\n",
    "        df[cancer] = 0\n",
    "\n",
    "    ## Synonyms and subtypes of brain cancer\n",
    "    # Schwannoma is left out since it affects most frequently the peripheral nervous system\n",
    "    df[\"Brain cancer\"] = df[\"Brain cancer\"] + df[\"Astrocytoma\"] + df[\"Ependymoma\"] + df[\"Glioblastoma\"] + df[\"Oligodendroglioma\"] + df[\"Meningioma\"] + df[\"Medulloblastoma\"] + df[\"Primitive neuroectodermal tumor\"]\n",
    "    df[\"Brain cancer\"] = np.where(df[\"Brain cancer\"] > 0, 1, df[\"Brain cancer\"])\n",
    "    cancers_remove_matched += [\"Astrocytoma\", \"Ependymoma\", \"Glioblastoma\", \"Oligodendroglioma\", \"Meningioma\", \"Medulloblastoma\", \"Primitive neuroectodermal tumor\"]\n",
    "    \n",
    "    ## Synonyms and subtypes of breast cancer\n",
    "    df[\"Breast cancer\"] = df[\"Breast cancer\"] + df[\"Ductal carcinoma\"] + df[\"Lobular carcinoma\"]\n",
    "    df[\"Breast cancer\"] = np.where(df[\"Breast cancer\"] > 0, 1, df[\"Breast cancer\"])\n",
    "    cancers_remove_matched += [\"Ductal carcinoma\", \"Lobular carcinoma\"]\n",
    "\n",
    "    ## Synonyms and subtypes of colon cancer\n",
    "    df[\"Colon cancer\"] = df[\"Colon cancer\"] + df[\"Adenocarcinoma of the colon\"]\n",
    "    df[\"Colon cancer\"] = np.where(df[\"Colon cancer\"] > 0, 1, df[\"Colon cancer\"])\n",
    "    cancers_remove_matched += [\"Adenocarcinoma of the colon\"]\n",
    "\n",
    "    ## Synonyms and subtypes of kidney cancer\n",
    "    df[\"Kidney cancer\"] = df[\"Kidney cancer\"] + df[\"Renal cell carcinoma\"] + df[\"Wilms tumor\"]\n",
    "    df[\"Kidney cancer\"] = np.where(df[\"Kidney cancer\"] > 0, 1, df[\"Kidney cancer\"])\n",
    "    cancers_remove_matched += [\"Renal cell carcinoma\", \"Wilms tumor\"]\n",
    "\n",
    "    ## Synonyms and subtypes of leukemia\n",
    "    df[\"Leukemia\"] = df[\"Leukemia\"] + df[\"Acute lymphoblastic leukemia\"] + df[\"Acute myeloid leukemia\"] + df[\"Atypical chronic myeloid leukemia\"] + df[\"Chronic eosinophilic leukemia\"] + df[\"Chronic lymphocytic leukemia\"] + df[\"Chronic myeloid leukemia\"] + df[\"Chronic neutrophilic leukemia\"] + df[\"Hairy cell leukemia\"] + df[\"Juvenile myelomonocytic leukemia\"] + df[\"Mast cell leukemia\"]\n",
    "    df[\"Leukemia\"] = np.where(df[\"Leukemia\"] > 0, 1, df[\"Leukemia\"])\n",
    "    cancers_remove_matched += [\"Acute lymphoblastic leukemia\", \"Acute myeloid leukemia\", \"Atypical chronic myeloid leukemia\", \"Chronic eosinophilic leukemia\", \"Chronic lymphocytic leukemia\", \"Chronic myeloid leukemia\", \"Chronic neutrophilic leukemia\", \"Hairy cell leukemia\", \"Juvenile myelomonocytic leukemia\", \"Mast cell leukemia\"]\n",
    "\n",
    "    ## Synonyms and subtypes of liver cancer\n",
    "    # Cholangiocarcinoma is left out since it is not always associated to the liver\n",
    "    df[\"Liver cancer\"] = df[\"Liver cancer\"] + df[\"Hepatocellular carcinoma\"] + df[\"Fibrolamellar carcinoma\"]\n",
    "    df[\"Liver cancer\"] = np.where(df[\"Liver cancer\"] > 0, 1, df[\"Liver cancer\"])\n",
    "    cancers_remove_matched += [\"Hepatocellular carcinoma\", \"Fibrolamellar carcinoma\"]\n",
    "\n",
    "    ## Synonyms and subtypes of lung cancer\n",
    "    df[\"Lung cancer\"] = df[\"Liver cancer\"] + df[\"Non-small cell lung cancer\"] + df[\"Small cell lung cancer\"]\n",
    "    df[\"Lung cancer\"] = np.where(df[\"Lung cancer\"] > 0, 1, df[\"Lung cancer\"])\n",
    "    cancers_remove_matched += [\"Non-small cell lung cancer\", \"Small cell lung cancer\"]\n",
    "    \n",
    "    ## Synonyms and subtypes of non-Hodgkin lymphoma\n",
    "    df[\"Non-Hodgkin lymphoma\"] = df[\"Non-Hodgkin lymphoma\"] + df[\"Diffuse large B-cell lymphoma\"] + df[\"Follicular lymphoma\"] + df[\"Marginal zone lymphoma\"] + df[\"Mucosa-associated lymphoid tissue lymphoma\"]  + df[\"Peripheral T-cell lymphoma\"] \n",
    "    df[\"Non-Hodgkin lymphoma\"] = np.where(df[\"Non-Hodgkin lymphoma\"] > 0, 1, df[\"Non-Hodgkin lymphoma\"])\n",
    "    cancers_remove_matched += [\"Diffuse large B-cell lymphoma\", \"Follicular lymphoma\", \"Marginal zone lymphoma\", \"Mucosa-associated lymphoid tissue lymphoma\", \"Peripheral T-cell lymphoma\"]\n",
    "    \n",
    "    ## Synonyms and subtypes of skin cancer\n",
    "    # This category combines melanoma and non-melanoma skin cancers, as in Globocan\n",
    "    # Squamous cell carcinoma is left out since it can affect other areas beyond the skin\n",
    "    df[\"Skin cancer\"] = df[\"Skin cancer\"] + df[\"Melanoma\"] + df[\"Squamous cell carcinoma of the skin\"] + df[\"Basal cell carcinoma\"] + df[\"Merkel cell carcinoma\"] + df[\"Sebaceous carcinoma\"] + df[\"Sebaceous gland carcinoma\"]\n",
    "    df[\"Skin cancer\"] = np.where(df[\"Skin cancer\"] > 0, 1, df[\"Skin cancer\"])\n",
    "    cancers_remove_matched += [\"Melanoma\", \"Squamous cell carcinoma of the skin\", \"Basal cell carcinoma\", \"Merkel cell carcinoma\", \"Sebaceous carcinoma\", \"Sebaceous gland carcinoma\"]\n",
    "\n",
    "    ## Synonyms and subtypes of ovarian cancer\n",
    "    df[\"Ovarian cancer\"] = df[\"Ovarian cancer\"] + df[\"Granulosa cell tumor\"]\n",
    "    df[\"Ovarian cancer\"] = np.where(df[\"Ovarian cancer\"] > 0, 1, df[\"Ovarian cancer\"])\n",
    "    cancers_remove_matched += [\"Granulosa cell tumor\"]\n",
    "\n",
    "    ## Synonyms and subtypes of pancreatic cancer\n",
    "    df[\"Pancreatic cancer\"] = df[\"Pancreatic cancer\"] + df[\"Adenocarcinoma of the pancreas\"]\n",
    "    df[\"Pancreatic cancer\"] = np.where(df[\"Pancreatic cancer\"] > 0, 1, df[\"Pancreatic cancer\"])\n",
    "    cancers_remove_matched += [\"Adenocarcinoma of the pancreas\"]\n",
    "\n",
    "    ## Synonyms and subtypes of stomach cancer\n",
    "    df[\"Stomach cancer\"] = df[\"Stomach cancer\"] + df[\"Gastric adenocarcinoma\"]\n",
    "    df[\"Stomach cancer\"] = np.where(df[\"Stomach cancer\"] > 0, 1, df[\"Stomach cancer\"])\n",
    "    cancers_remove_matched += [\"Gastric adenocarcinoma\"]\n",
    "\n",
    "    ## Synonyms and subtypes of thyroid cancer\n",
    "    df[\"Thyroid cancer\"] = df[\"Thyroid cancer\"] + df[\"Papillary thyroid cancer\"]  + df[\"Follicular thyroid cancer\"]  + df[\"Medullary thyroid cancer\"]  + df[\"Anaplastic thyroid cancer\"]\n",
    "    df[\"Thyroid cancer\"] = np.where(df[\"Thyroid cancer\"] > 0, 1, df[\"Thyroid cancer\"])\n",
    "    cancers_remove_matched += [\"Papillary thyroid cancer\", \"Follicular thyroid cancer\", \"Medullary thyroid cancer\", \"Anaplastic thyroid cancer\"]\n",
    "\n",
    "    ## Synonyms and subtypes of uterine cancer\n",
    "    df[\"Uterine cancer\"] = df[\"Uterine cancer\"] + df[\"Endometrial cancer\"] + df[\"Endometrial stromal sarcoma\"]\n",
    "    df[\"Uterine cancer\"] = np.where(df[\"Uterine cancer\"] > 0, 1, df[\"Uterine cancer\"])\n",
    "    cancers_remove_matched += [\"Endometrial cancer\", \"Endometrial stromal sarcoma\"]\n",
    "\n",
    "    ## Synonyms and subtypes of vulvar cancer\n",
    "    df[\"Vulvar cancer\"] = df[\"Vulvar cancer\"] + df[\"Vulval cancer\"]\n",
    "    df[\"Vulvar cancer\"] = np.where(df[\"Vulvar cancer\"] > 0, 1, df[\"Vulvar cancer\"])\n",
    "    cancers_remove_matched += [\"Vulval cancer\"]\n",
    "\n",
    "    # Remove columns corresponding to synonyms and subtypes of main cancer types\n",
    "    all_df_columns = set(df.columns.to_list())\n",
    "    columns_df_keep = list(all_df_columns.difference(set(cancers_remove_matched)))\n",
    "    df = df[columns_df_keep]\n",
    "    \n",
    "    df.to_csv(DF_input + csv, index = False)\n",
    "    del df"
   ]
  },
  {
   "cell_type": "code",
   "execution_count": 114,
   "id": "bb27460d-32d6-438c-b4ef-156385452b58",
   "metadata": {
    "scrolled": true
   },
   "outputs": [
    {
     "name": "stderr",
     "output_type": "stream",
     "text": [
      "100%|████████████████████████████████████████| 45/45 [02:54<00:00,  3.88s/it]\n"
     ]
    },
    {
     "data": {
      "text/plain": [
       "['Malignant fibrous histiocytoma',\n",
       " 'Synovial sarcoma',\n",
       " 'Throat cancer',\n",
       " 'Homo sapiens',\n",
       " 'D. melanogaster',\n",
       " 'monkey',\n",
       " 'Extraskeletal chondrosarcoma',\n",
       " 'Vulvar cancer',\n",
       " 'Rhesus macaque',\n",
       " 'Kaposi sarcoma',\n",
       " 'Epithelioid sarcoma',\n",
       " 'Myelodysplastic syndromes',\n",
       " 'Adenoid cystic carcinoma',\n",
       " 'Syrian hamster',\n",
       " 'Primary central nervous system lymphoma',\n",
       " 'Species',\n",
       " 'Pan troglodytes',\n",
       " 'Rhesus monkey',\n",
       " 'Schwannoma',\n",
       " 'guinea pig',\n",
       " 'Vaginal cancer',\n",
       " 'Appendix cancer',\n",
       " 'Testicular cancer',\n",
       " 'hemangiosarcoma',\n",
       " 'Neurofibroma',\n",
       " 'Mast cell sarcoma',\n",
       " 'Alveolar soft part sarcoma',\n",
       " 'Ear cancer',\n",
       " 'Pancreatic cancer',\n",
       " 'Solitary fibrous tumor',\n",
       " 'PMID',\n",
       " 'primate',\n",
       " 'Fibrosarcoma',\n",
       " 'Thymic carcinoma',\n",
       " 'Small intestine cancer',\n",
       " 'Desmoplastic small round cell tumor',\n",
       " 'Esophageal cancer',\n",
       " 'Chimpanzee',\n",
       " 'Rhabdomyosarcoma',\n",
       " 'Adenocarcinoma',\n",
       " 'rabbit',\n",
       " 'Gastrointestinal stromal tumor',\n",
       " 'Essential thrombocythemia',\n",
       " 'mouse',\n",
       " 'Colorectal cancer',\n",
       " 'Ampullary carcinoma',\n",
       " 'Osteoblastoma',\n",
       " 'Mucinous adenocarcinoma',\n",
       " 'Bone cancer',\n",
       " 'Mantle cell lymphoma',\n",
       " 'Hodgkin lymphoma',\n",
       " 'Myeloproliferative neoplasms',\n",
       " 'Osteochondroma',\n",
       " 'Salivary gland cancer',\n",
       " 'M. musculus',\n",
       " 'Keywords',\n",
       " 'Eye cancer',\n",
       " 'Language',\n",
       " 'Penile cancer',\n",
       " 'Undetermined_Cancer',\n",
       " 'PublicationTypes',\n",
       " 'Leiomyosarcoma',\n",
       " 'Leiomyoma',\n",
       " 'Skin cancer',\n",
       " 'Leukemia',\n",
       " 'NER_lastAuthor',\n",
       " 'Angiosarcoma',\n",
       " 'Squamous cell carcinoma',\n",
       " 'Drosophila',\n",
       " 'human',\n",
       " 'rat',\n",
       " 'Mouth cancer',\n",
       " 'Transitional cell carcinoma',\n",
       " 'patient',\n",
       " 'Country_source',\n",
       " 'Macaca fascicularis',\n",
       " 'Systemic mastocytosis',\n",
       " 'MeshHeadings',\n",
       " 'Liposarcoma',\n",
       " 'Colon cancer',\n",
       " 'Smoldering systemic mastocytosis',\n",
       " 'Extraskeletal osteosarcoma',\n",
       " 'Abstract',\n",
       " 'Malignant peripheral nerve sheath tumor',\n",
       " 'Head and neck cancer',\n",
       " 'Giant cell tumor of bone',\n",
       " 'Cholangiocarcinoma',\n",
       " 'Clear cell carcinoma',\n",
       " 'Lung cancer',\n",
       " 'fruit fly',\n",
       " 'Chemicals',\n",
       " 'Lymphoma',\n",
       " 'Gallbladder cancer',\n",
       " 'Aggressive systemic mastocytosis',\n",
       " 'Adrenocortical carcinoma',\n",
       " 'macaque',\n",
       " 'Ileal cancer',\n",
       " 'Ampullary cancer',\n",
       " 'Periosteal osteosarcoma',\n",
       " 'Stomach cancer',\n",
       " 'Oryzias latipes',\n",
       " 'Multiple myeloma',\n",
       " 'zebrafish',\n",
       " 'Country',\n",
       " 'Non-Hodgkin lymphoma',\n",
       " 'Prostate cancer',\n",
       " 'Thymoma',\n",
       " 'Malignant mesenchymoma',\n",
       " 'Anal cancer',\n",
       " 'Undetermined_Species',\n",
       " 'Chondrosarcoma',\n",
       " 'Sarcoma',\n",
       " 'Polycythemia vera',\n",
       " 'Brain cancer',\n",
       " 'Ovarian cancer',\n",
       " 'Kidney cancer',\n",
       " 'Type',\n",
       " 'Cervical cancer',\n",
       " 'Breast cancer',\n",
       " 'Fallopian tube cancer',\n",
       " 'DOI',\n",
       " 'Mesocricetus auratus',\n",
       " 'Peritoneal cancer',\n",
       " 'Rectal cancer',\n",
       " 'Parathyroid carcinoma',\n",
       " 'Mucinous carcinoma',\n",
       " 'Extraskeletal myxoid chondrosarcoma',\n",
       " 'Uterine cancer',\n",
       " 'Jejunal cancer',\n",
       " 'Bladder cancer',\n",
       " 'Liver cancer',\n",
       " 'Primary myelofibrosis',\n",
       " 'Journal',\n",
       " 'Urothelial carcinoma',\n",
       " 'mice',\n",
       " 'Duodenal cancer',\n",
       " 'Cutaneous mastocytosis',\n",
       " 'PublicationDate',\n",
       " 'Neuroblastoma',\n",
       " 'Sertoli-Leydig cell tumor',\n",
       " 'Thyroid cancer',\n",
       " 'Mesonephric carcinoma',\n",
       " 'Macaca mulatta',\n",
       " 'Title',\n",
       " 'Authors',\n",
       " 'Cancer',\n",
       " 'Rattus norvegicus',\n",
       " 'Ewing sarcoma',\n",
       " 'medaka',\n",
       " 'Nasal cancer',\n",
       " 'Pleomorphic sarcoma',\n",
       " 'Laryngeal cancer',\n",
       " 'Mesothelioma',\n",
       " 'Chordoma',\n",
       " 'Neuroendocrine tumor',\n",
       " 'Osteosarcoma',\n",
       " 'M. mulatta',\n",
       " 'Danio rerio',\n",
       " 'Oryctolagus cuniculus',\n",
       " 'Lagomorph',\n",
       " 'Cavia porcellus',\n",
       " 'D. rerio',\n",
       " 'BookTitle',\n",
       " 'O. latipes',\n",
       " 'Publisher',\n",
       " 'Book Accession',\n",
       " 'H.sapiens',\n",
       " 'M. auratus',\n",
       " 'O. cuniculus']"
      ]
     },
     "execution_count": 114,
     "metadata": {},
     "output_type": "execute_result"
    }
   ],
   "source": [
    "# All columns in the articles' dataset\n",
    "all_columns_articles_dataset = []\n",
    "\n",
    "for csv in tqdm(list_dfs_papers):\n",
    "    df = pd.read_csv(DF_input + csv)\n",
    "    for column in df.columns.to_list():\n",
    "        if column not in all_columns_articles_dataset:\n",
    "            all_columns_articles_dataset.append(column)\n",
    "\n",
    "    del df"
   ]
  },
  {
   "cell_type": "code",
   "execution_count": 122,
   "id": "51afc9f4-aaf2-4a6f-bdc3-fea5679827b1",
   "metadata": {},
   "outputs": [
    {
     "data": {
      "text/plain": [
       "{'Adenocarcinoma',\n",
       " 'Adenoid cystic carcinoma',\n",
       " 'Adrenocortical carcinoma',\n",
       " 'Aggressive systemic mastocytosis',\n",
       " 'Alveolar soft part sarcoma',\n",
       " 'Ampullary cancer',\n",
       " 'Ampullary carcinoma',\n",
       " 'Angiosarcoma',\n",
       " 'Appendix cancer',\n",
       " 'Bone cancer',\n",
       " 'Cholangiocarcinoma',\n",
       " 'Chondrosarcoma',\n",
       " 'Chordoma',\n",
       " 'Clear cell carcinoma',\n",
       " 'Cutaneous mastocytosis',\n",
       " 'Desmoplastic small round cell tumor',\n",
       " 'Duodenal cancer',\n",
       " 'Ear cancer',\n",
       " 'Epithelioid sarcoma',\n",
       " 'Essential thrombocythemia',\n",
       " 'Ewing sarcoma',\n",
       " 'Extraskeletal chondrosarcoma',\n",
       " 'Extraskeletal myxoid chondrosarcoma',\n",
       " 'Extraskeletal osteosarcoma',\n",
       " 'Eye cancer',\n",
       " 'Fallopian tube cancer',\n",
       " 'Fibrosarcoma',\n",
       " 'Gastrointestinal stromal tumor',\n",
       " 'Giant cell tumor of bone',\n",
       " 'Head and neck cancer',\n",
       " 'Ileal cancer',\n",
       " 'Jejunal cancer',\n",
       " 'Leiomyoma',\n",
       " 'Leiomyosarcoma',\n",
       " 'Liposarcoma',\n",
       " 'Lymphoma',\n",
       " 'Malignant fibrous histiocytoma',\n",
       " 'Malignant mesenchymoma',\n",
       " 'Malignant peripheral nerve sheath tumor',\n",
       " 'Mantle cell lymphoma',\n",
       " 'Mast cell sarcoma',\n",
       " 'Mesonephric carcinoma',\n",
       " 'Mucinous adenocarcinoma',\n",
       " 'Mucinous carcinoma',\n",
       " 'Myelodysplastic syndromes',\n",
       " 'Myeloproliferative neoplasms',\n",
       " 'Nasal cancer',\n",
       " 'Neuroblastoma',\n",
       " 'Neuroendocrine tumor',\n",
       " 'Neurofibroma',\n",
       " 'Osteoblastoma',\n",
       " 'Osteochondroma',\n",
       " 'Osteosarcoma',\n",
       " 'Parathyroid carcinoma',\n",
       " 'Periosteal osteosarcoma',\n",
       " 'Peritoneal cancer',\n",
       " 'Pleomorphic sarcoma',\n",
       " 'Polycythemia vera',\n",
       " 'Primary central nervous system lymphoma',\n",
       " 'Primary myelofibrosis',\n",
       " 'Rhabdomyosarcoma',\n",
       " 'Sarcoma',\n",
       " 'Schwannoma',\n",
       " 'Sertoli-Leydig cell tumor',\n",
       " 'Small intestine cancer',\n",
       " 'Smoldering systemic mastocytosis',\n",
       " 'Solitary fibrous tumor',\n",
       " 'Squamous cell carcinoma',\n",
       " 'Synovial sarcoma',\n",
       " 'Systemic mastocytosis',\n",
       " 'Thymic carcinoma',\n",
       " 'Thymoma',\n",
       " 'Transitional cell carcinoma',\n",
       " 'Urothelial carcinoma',\n",
       " 'hemangiosarcoma'}"
      ]
     },
     "execution_count": 122,
     "metadata": {},
     "output_type": "execute_result"
    }
   ],
   "source": [
    "# Cancer types which are not matched to Globocan cancers\n",
    "columns_articles_data = [\"PMID\", \"DOI\", \"Journal\", \"Title\", \"BookTitle\", \"Book Accession\", \"Publisher\", \"Abstract\", \"PublicationDate\", \"Authors\", \"NER_lastAuthor\",\n",
    "                        \"Country\", \"Country_source\", \"Keywords\", \"MeshHeadings\", \"Language\", \"Type\", \"PublicationTypes\", \"Chemicals\"] \n",
    "\n",
    "columns_species = [\"Species\", \"Undetermined_Species\", \"human\", \"patient\", \"primate\", \"macaque\", \"monkey\", \"Chimpanzee\",\n",
    "                   \"rat\", \"mouse\", \"mice\", \"rabbit\", \"Lagomorph\", \"guinea pig\", \"zebrafish\", \"medaka\", \"fruit fly\",\n",
    "                   \"Syrian hamster\", \"Homo sapiens\", \"H.sapiens\", \"Rhesus macaque\", \"Rhesus monkey\", \"Macaca mulatta\",\n",
    "                   \"M. mulatta\", \"Macaca fascicularis\", \"M. fasticularis\", \"Cynomolgus\", \"Pan troglodytes\", \"P. troglodytes\",\n",
    "                   \"Rattus norvegicus\", \"R. norvegicus\" \"Mus musculus\", \"M. musculus\", \"Oryctolagus cuniculus\", \"O. cuniculus\",\n",
    "                   \"Cavia porcellus\", \"C. porcellus\", \"Danio rerio\", \"D. rerio\", \"Drosophila\", \"D. melanogaster\", \n",
    "                   \"Mesocricetus auratus\", \"M. auratus\", \"Oryzias latipes\", \"O. latipes\", \"Caenorhabditis elegans\" \"C. elegans\"]\n",
    "\n",
    "cancer_columns_keep = list(globocan_dataset_cancers) + [ \"Cancer\", \"Undetermined_Cancer\"]\n",
    "\n",
    "columns_keep = columns_articles_data + cancer_columns_keep + columns_species\n",
    "\n",
    "other_cancers = set(all_columns_articles_dataset).difference(set(columns_keep))\n",
    "other_cancers"
   ]
  },
  {
   "cell_type": "code",
   "execution_count": 149,
   "id": "9f42e199-c58d-4fce-bcf1-7f9d4e83e98b",
   "metadata": {},
   "outputs": [
    {
     "name": "stderr",
     "output_type": "stream",
     "text": [
      "100%|████████████████████████████████████████| 45/45 [07:17<00:00,  9.73s/it]\n"
     ]
    }
   ],
   "source": [
    "# Deal with articles with cancer types not in the main cancer types and not being synonyms or subtypes of these\n",
    "# Some cancer types (e.g. squamous cell carcinoma) can affect several tissues/organs and therefore were not  \n",
    "# matched to any main cancer type in the previous step. These cancers and any other cancer\n",
    "# which was not matched will be combined into an \"Other cancers\" category\n",
    "\n",
    "for csv in tqdm(list_dfs_papers):\n",
    "    df = pd.read_csv(DF_input + csv)\n",
    "\n",
    "    ## Dealing with other cancer types beyond Globocan cancers and synonyms/subtypes\n",
    "    # Create a \n",
    "    df[\"Other cancer\"] = df[list(other_cancers)].sum(axis = 1)\n",
    "\n",
    "    # Remove columns corresponding to other cancer types\n",
    "    all_df_columns = set(df.columns.to_list())\n",
    "    columns_df_keep = list(all_df_columns.difference(set(other_cancers)))\n",
    "    df = df[columns_df_keep]\n",
    "    \n",
    "    df.to_csv(DF_input + csv, index = False)\n",
    "    del df"
   ]
  },
  {
   "cell_type": "code",
   "execution_count": 150,
   "id": "3ad3a1e9-545a-4dbc-83a8-652932ffa1b3",
   "metadata": {},
   "outputs": [
    {
     "data": {
      "text/plain": [
       "{'Abstract',\n",
       " 'Anal cancer',\n",
       " 'Authors',\n",
       " 'Bladder cancer',\n",
       " 'Brain cancer',\n",
       " 'Breast cancer',\n",
       " 'Cancer',\n",
       " 'Cervical cancer',\n",
       " 'Chemicals',\n",
       " 'Chimpanzee',\n",
       " 'Colon cancer',\n",
       " 'Colorectal cancer',\n",
       " 'Country',\n",
       " 'Country_source',\n",
       " 'D. melanogaster',\n",
       " 'DOI',\n",
       " 'Danio rerio',\n",
       " 'Drosophila',\n",
       " 'Esophageal cancer',\n",
       " 'Gallbladder cancer',\n",
       " 'Hodgkin lymphoma',\n",
       " 'Homo sapiens',\n",
       " 'Journal',\n",
       " 'Kaposi sarcoma',\n",
       " 'Keywords',\n",
       " 'Kidney cancer',\n",
       " 'Language',\n",
       " 'Laryngeal cancer',\n",
       " 'Leukemia',\n",
       " 'Liver cancer',\n",
       " 'Lung cancer',\n",
       " 'M. mulatta',\n",
       " 'M. musculus',\n",
       " 'Macaca fascicularis',\n",
       " 'Macaca mulatta',\n",
       " 'MeshHeadings',\n",
       " 'Mesocricetus auratus',\n",
       " 'Mesothelioma',\n",
       " 'Mouth cancer',\n",
       " 'Multiple myeloma',\n",
       " 'NER_lastAuthor',\n",
       " 'Non-Hodgkin lymphoma',\n",
       " 'Oryctolagus cuniculus',\n",
       " 'Oryzias latipes',\n",
       " 'Other cancer',\n",
       " 'Ovarian cancer',\n",
       " 'PMID',\n",
       " 'Pan troglodytes',\n",
       " 'Pancreatic cancer',\n",
       " 'Penile cancer',\n",
       " 'Prostate cancer',\n",
       " 'PublicationDate',\n",
       " 'PublicationTypes',\n",
       " 'Rattus norvegicus',\n",
       " 'Rectal cancer',\n",
       " 'Rhesus macaque',\n",
       " 'Rhesus monkey',\n",
       " 'Salivary gland cancer',\n",
       " 'Skin cancer',\n",
       " 'Species',\n",
       " 'Stomach cancer',\n",
       " 'Syrian hamster',\n",
       " 'Testicular cancer',\n",
       " 'Throat cancer',\n",
       " 'Thyroid cancer',\n",
       " 'Title',\n",
       " 'Type',\n",
       " 'Undetermined_Cancer',\n",
       " 'Undetermined_Species',\n",
       " 'Uterine cancer',\n",
       " 'Vaginal cancer',\n",
       " 'Vulvar cancer',\n",
       " 'fruit fly',\n",
       " 'guinea pig',\n",
       " 'human',\n",
       " 'macaque',\n",
       " 'medaka',\n",
       " 'mice',\n",
       " 'monkey',\n",
       " 'mouse',\n",
       " 'patient',\n",
       " 'primate',\n",
       " 'rabbit',\n",
       " 'rat',\n",
       " 'zebrafish'}"
      ]
     },
     "execution_count": 150,
     "metadata": {},
     "output_type": "execute_result"
    }
   ],
   "source": [
    "# Remaining columns in the dataset\n",
    "set(pd.read_csv(DF_input + list_dfs_papers[1]).columns.to_list())"
   ]
  }
 ],
 "metadata": {
  "kernelspec": {
   "display_name": "Python 3 (ipykernel)",
   "language": "python",
   "name": "python3"
  },
  "language_info": {
   "codemirror_mode": {
    "name": "ipython",
    "version": 3
   },
   "file_extension": ".py",
   "mimetype": "text/x-python",
   "name": "python",
   "nbconvert_exporter": "python",
   "pygments_lexer": "ipython3",
   "version": "3.13.2"
  }
 },
 "nbformat": 4,
 "nbformat_minor": 5
}
