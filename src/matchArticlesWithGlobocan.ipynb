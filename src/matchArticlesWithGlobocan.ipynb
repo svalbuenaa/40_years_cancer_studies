{
 "cells": [
  {
   "cell_type": "code",
   "execution_count": 23,
   "id": "dde461a9-58f5-4bcd-bf84-c89b6d8d6731",
   "metadata": {},
   "outputs": [],
   "source": [
    "import os\n",
    "import time\n",
    "import pandas as pd\n",
    "from tqdm import tqdm\n",
    "from itertools import chain\n",
    "\n",
    "# DType warning when importing .csv files with parsed PMIDs. Avoid showing the warning\n",
    "import warnings\n",
    "warnings.simplefilter(action='ignore', category=pd.errors.DtypeWarning)"
   ]
  },
  {
   "cell_type": "code",
   "execution_count": 20,
   "id": "3fea2df5-6de5-4f2e-85b3-2a81adc77423",
   "metadata": {},
   "outputs": [
    {
     "name": "stdin",
     "output_type": "stream",
     "text": [
      " C:\\Users\\svalb\\OneDrive\\Escritorio\\Data_40_years_cancer_studies\\parsedXMLs_match_GLOBOCAN\\\n"
     ]
    }
   ],
   "source": [
    "# Directory with the articles' dataset\n",
    "DF_input = input().strip()"
   ]
  },
  {
   "cell_type": "code",
   "execution_count": 11,
   "id": "b153cde4-e78a-4a6a-95a7-d41ae8639320",
   "metadata": {},
   "outputs": [
    {
     "name": "stdin",
     "output_type": "stream",
     "text": [
      " C:\\Users\\svalb\\OneDrive\\Escritorio\\Data_40_years_cancer_studies\\resources\\Globocan_dataset_ready.csv\n"
     ]
    }
   ],
   "source": [
    "# CSV with the finished Globocan dataset\n",
    "GLOBOCAN_input = input().strip()"
   ]
  },
  {
   "cell_type": "code",
   "execution_count": 17,
   "id": "874bbdda-01a1-49b5-9487-913f2d1fcaeb",
   "metadata": {
    "scrolled": true
   },
   "outputs": [
    {
     "data": {
      "text/plain": [
       "['parsedX_100000.csv',\n",
       " 'parsedX_1000000.csv',\n",
       " 'parsedX_1100000.csv',\n",
       " 'parsedX_1200000.csv',\n",
       " 'parsedX_1300000.csv',\n",
       " 'parsedX_1400000.csv',\n",
       " 'parsedX_1500000.csv',\n",
       " 'parsedX_1600000.csv',\n",
       " 'parsedX_1700000.csv',\n",
       " 'parsedX_1800000.csv',\n",
       " 'parsedX_1900000.csv',\n",
       " 'parsedX_200000.csv',\n",
       " 'parsedX_2000000.csv',\n",
       " 'parsedX_2100000.csv',\n",
       " 'parsedX_2200000.csv',\n",
       " 'parsedX_2300000.csv',\n",
       " 'parsedX_2400000.csv',\n",
       " 'parsedX_2500000.csv',\n",
       " 'parsedX_2600000.csv',\n",
       " 'parsedX_2700000.csv',\n",
       " 'parsedX_2800000.csv',\n",
       " 'parsedX_2900000.csv',\n",
       " 'parsedX_300000.csv',\n",
       " 'parsedX_3000000.csv',\n",
       " 'parsedX_3100000.csv',\n",
       " 'parsedX_3200000.csv',\n",
       " 'parsedX_3300000.csv',\n",
       " 'parsedX_3400000.csv',\n",
       " 'parsedX_3500000.csv',\n",
       " 'parsedX_3600000.csv',\n",
       " 'parsedX_3700000.csv',\n",
       " 'parsedX_3800000.csv',\n",
       " 'parsedX_3900000.csv',\n",
       " 'parsedX_400000.csv',\n",
       " 'parsedX_4000000.csv',\n",
       " 'parsedX_4100000.csv',\n",
       " 'parsedX_4200000.csv',\n",
       " 'parsedX_4300000.csv',\n",
       " 'parsedX_4400000.csv',\n",
       " 'parsedX_4454000.csv',\n",
       " 'parsedX_500000.csv',\n",
       " 'parsedX_600000.csv',\n",
       " 'parsedX_700000.csv',\n",
       " 'parsedX_800000.csv',\n",
       " 'parsedX_900000.csv']"
      ]
     },
     "execution_count": 17,
     "metadata": {},
     "output_type": "execute_result"
    }
   ],
   "source": [
    "# Import file names of csvs containint articles' data \n",
    "list_dfs_papers = []\n",
    "\n",
    "for file in os.listdir(DF_input):\n",
    "    if file[-4:] == \".csv\":\n",
    "        list_dfs_papers.append(file)\n",
    "\n",
    "list_dfs_papers"
   ]
  },
  {
   "cell_type": "code",
   "execution_count": 37,
   "id": "bc4aa9e7-f6f0-467b-863e-c43d2c875390",
   "metadata": {},
   "outputs": [
    {
     "data": {
      "text/plain": [
       "{'Anal cancer',\n",
       " 'Bladder cancer',\n",
       " 'Brain cancer',\n",
       " 'Breast cancer',\n",
       " 'Cervical cancer',\n",
       " 'Colon cancer',\n",
       " 'Colorectal cancer',\n",
       " 'Esophageal cancer',\n",
       " 'Gallbladder cancer',\n",
       " 'Hodgkin lymphoma',\n",
       " 'Kaposi sarcoma',\n",
       " 'Kidney cancer',\n",
       " 'Laryngeal cancer',\n",
       " 'Leukemia',\n",
       " 'Liver cancer',\n",
       " 'Lung cancer',\n",
       " 'Mesothelioma',\n",
       " 'Mouth cancer',\n",
       " 'Multiple myeloma',\n",
       " 'Non-Hodgkin lymphoma',\n",
       " 'Non-melanoma skin cancer',\n",
       " 'Ovarian cancer',\n",
       " 'Pancreatic cancer',\n",
       " 'Penile cancer',\n",
       " 'Prostate cancer',\n",
       " 'Rectal cancer',\n",
       " 'Salivary gland cancer',\n",
       " 'Skin cancer',\n",
       " 'Stomach cancer',\n",
       " 'Testicular cancer',\n",
       " 'Throat cancer',\n",
       " 'Thyroid cancer',\n",
       " 'Uterine cancer',\n",
       " 'Vaginal cancer',\n",
       " 'Vulvar cancer'}"
      ]
     },
     "execution_count": 37,
     "metadata": {},
     "output_type": "execute_result"
    }
   ],
   "source": [
    "# Show cancer types in Globocan dataset\n",
    "df_globocan = pd.read_csv(GLOBOCAN_input)\n",
    "\n",
    "set(df_globocan[\"Cancer\"].to_list())"
   ]
  },
  {
   "cell_type": "code",
   "execution_count": 38,
   "id": "7bd40cbd-30e4-4939-a555-d7c567d3601b",
   "metadata": {
    "scrolled": true
   },
   "outputs": [
    {
     "data": {
      "text/plain": [
       "{'Afghanistan',\n",
       " 'Albania',\n",
       " 'Algeria',\n",
       " 'Angola',\n",
       " 'Argentina',\n",
       " 'Armenia',\n",
       " 'Australia',\n",
       " 'Austria',\n",
       " 'Azerbaijan',\n",
       " 'Bahamas',\n",
       " 'Bahrain',\n",
       " 'Bangladesh',\n",
       " 'Barbados',\n",
       " 'Belarus',\n",
       " 'Belgium',\n",
       " 'Belize',\n",
       " 'Benin',\n",
       " 'Bhutan',\n",
       " 'Bolivia',\n",
       " 'Bosnia and Herzegovina',\n",
       " 'Botswana',\n",
       " 'Brazil',\n",
       " 'Brunei Darussalam',\n",
       " 'Bulgaria',\n",
       " 'Burkina Faso',\n",
       " 'Burundi',\n",
       " 'Cabo Verde',\n",
       " 'Cambodia',\n",
       " 'Cameroon',\n",
       " 'Canada',\n",
       " 'Central African Republic',\n",
       " 'Chad',\n",
       " 'Chile',\n",
       " 'China',\n",
       " 'Colombia',\n",
       " 'Comoros',\n",
       " 'Congo Republic',\n",
       " 'Costa Rica',\n",
       " \"Cote d'Ivoire\",\n",
       " 'Croatia',\n",
       " 'Cuba',\n",
       " 'Cyprus',\n",
       " 'Czechia',\n",
       " 'DR Congo',\n",
       " 'Denmark',\n",
       " 'Djibouti',\n",
       " 'Dominican Republic',\n",
       " 'Ecuador',\n",
       " 'Egypt',\n",
       " 'El Salvador',\n",
       " 'Eritrea',\n",
       " 'Estonia',\n",
       " 'Eswatini',\n",
       " 'Ethiopia',\n",
       " 'Fiji',\n",
       " 'Finland',\n",
       " 'France',\n",
       " 'French Guiana',\n",
       " 'French Polynesia',\n",
       " 'Gabon',\n",
       " 'Gambia',\n",
       " 'Georgia',\n",
       " 'Germany',\n",
       " 'Ghana',\n",
       " 'Greece',\n",
       " 'Guadeloupe',\n",
       " 'Guam',\n",
       " 'Guatemala',\n",
       " 'Guinea',\n",
       " 'Guinea-Bissau',\n",
       " 'Guyana',\n",
       " 'Haiti',\n",
       " 'Honduras',\n",
       " 'Hungary',\n",
       " 'Iceland',\n",
       " 'India',\n",
       " 'Indonesia',\n",
       " 'Iran',\n",
       " 'Iraq',\n",
       " 'Ireland',\n",
       " 'Israel',\n",
       " 'Italy',\n",
       " 'Jamaica',\n",
       " 'Japan',\n",
       " 'Jordan',\n",
       " 'Kazakhstan',\n",
       " 'Kenya',\n",
       " 'Kuwait',\n",
       " 'Kyrgyz Republic',\n",
       " 'Laos',\n",
       " 'Latvia',\n",
       " 'Lebanon',\n",
       " 'Lesotho',\n",
       " 'Liberia',\n",
       " 'Libya',\n",
       " 'Lithuania',\n",
       " 'Luxembourg',\n",
       " 'Madagascar',\n",
       " 'Malawi',\n",
       " 'Malaysia',\n",
       " 'Maldives',\n",
       " 'Mali',\n",
       " 'Malta',\n",
       " 'Martinique',\n",
       " 'Mauritania',\n",
       " 'Mauritius',\n",
       " 'Mexico',\n",
       " 'Micronesia, Fed. Sts.',\n",
       " 'Moldova',\n",
       " 'Mongolia',\n",
       " 'Montenegro',\n",
       " 'Morocco',\n",
       " 'Mozambique',\n",
       " 'Myanmar',\n",
       " 'Namibia',\n",
       " 'Nepal',\n",
       " 'Netherlands',\n",
       " 'New Caledonia',\n",
       " 'New Zealand',\n",
       " 'Nicaragua',\n",
       " 'Niger',\n",
       " 'Nigeria',\n",
       " 'North Korea',\n",
       " 'North Macedonia',\n",
       " 'Norway',\n",
       " 'Oman',\n",
       " 'Pakistan',\n",
       " 'Palestine',\n",
       " 'Panama',\n",
       " 'Papua New Guinea',\n",
       " 'Paraguay',\n",
       " 'Peru',\n",
       " 'Philippines',\n",
       " 'Poland',\n",
       " 'Portugal',\n",
       " 'Puerto Rico',\n",
       " 'Qatar',\n",
       " 'Reunion',\n",
       " 'Romania',\n",
       " 'Russia',\n",
       " 'Rwanda',\n",
       " 'Samoa',\n",
       " 'Sao Tome and Principe',\n",
       " 'Saudi Arabia',\n",
       " 'Senegal',\n",
       " 'Serbia',\n",
       " 'Sierra Leone',\n",
       " 'Singapore',\n",
       " 'Slovakia',\n",
       " 'Slovenia',\n",
       " 'Solomon Islands',\n",
       " 'Somalia',\n",
       " 'South Africa',\n",
       " 'South Korea',\n",
       " 'South Sudan',\n",
       " 'Spain',\n",
       " 'Sri Lanka',\n",
       " 'St. Lucia',\n",
       " 'Sudan',\n",
       " 'Suriname',\n",
       " 'Sweden',\n",
       " 'Switzerland',\n",
       " 'Syria',\n",
       " 'Tajikistan',\n",
       " 'Tanzania',\n",
       " 'Thailand',\n",
       " 'Timor-Leste',\n",
       " 'Togo',\n",
       " 'Trinidad and Tobago',\n",
       " 'Tunisia',\n",
       " 'Turkmenistan',\n",
       " 'Türkiye',\n",
       " 'Uganda',\n",
       " 'Ukraine',\n",
       " 'United Arab Emirates',\n",
       " 'United Kingdom',\n",
       " 'United States',\n",
       " 'Uruguay',\n",
       " 'Uzbekistan',\n",
       " 'Vanuatu',\n",
       " 'Venezuela',\n",
       " 'Vietnam',\n",
       " 'Yemen',\n",
       " 'Zambia',\n",
       " 'Zimbabwe'}"
      ]
     },
     "execution_count": 38,
     "metadata": {},
     "output_type": "execute_result"
    }
   ],
   "source": [
    "# Show country names in Globocan dataset\n",
    "set(df_globocan[\"Country\"].to_list())"
   ]
  },
  {
   "cell_type": "code",
   "execution_count": 182,
   "id": "fb4af879-c9eb-4104-b3a4-c6215405fe17",
   "metadata": {
    "scrolled": true
   },
   "outputs": [
    {
     "name": "stderr",
     "output_type": "stream",
     "text": [
      "  0%|                                                                                                                                                                                                                                                                                                                             | 0/45 [00:00<?, ?it/s]"
     ]
    },
    {
     "name": "stdout",
     "output_type": "stream",
     "text": [
      "Parsing csv: parsedX_100000.csv, 1 / 45\n"
     ]
    },
    {
     "name": "stderr",
     "output_type": "stream",
     "text": [
      "  2%|██████▊                                                                                                                                                                                                                                                                                                              | 1/45 [00:03<02:32,  3.47s/it]"
     ]
    },
    {
     "name": "stdout",
     "output_type": "stream",
     "text": [
      "--Parsing time: 3.47\n",
      "Parsing csv: parsedX_1000000.csv, 2 / 45\n"
     ]
    },
    {
     "name": "stderr",
     "output_type": "stream",
     "text": [
      "  4%|█████████████▋                                                                                                                                                                                                                                                                                                       | 2/45 [00:07<02:44,  3.83s/it]"
     ]
    },
    {
     "name": "stdout",
     "output_type": "stream",
     "text": [
      "--Parsing time: 4.09\n",
      "Parsing csv: parsedX_1100000.csv, 3 / 45\n"
     ]
    },
    {
     "name": "stderr",
     "output_type": "stream",
     "text": [
      "  7%|████████████████████▌                                                                                                                                                                                                                                                                                                | 3/45 [00:11<02:43,  3.89s/it]"
     ]
    },
    {
     "name": "stdout",
     "output_type": "stream",
     "text": [
      "--Parsing time: 3.96\n",
      "Parsing csv: parsedX_1200000.csv, 4 / 45\n"
     ]
    },
    {
     "name": "stderr",
     "output_type": "stream",
     "text": [
      "  9%|███████████████████████████▍                                                                                                                                                                                                                                                                                         | 4/45 [00:15<02:42,  3.96s/it]"
     ]
    },
    {
     "name": "stdout",
     "output_type": "stream",
     "text": [
      "--Parsing time: 4.06\n",
      "Parsing csv: parsedX_1300000.csv, 5 / 45\n"
     ]
    },
    {
     "name": "stderr",
     "output_type": "stream",
     "text": [
      " 11%|██████████████████████████████████▎                                                                                                                                                                                                                                                                                  | 5/45 [00:19<02:39,  3.99s/it]"
     ]
    },
    {
     "name": "stdout",
     "output_type": "stream",
     "text": [
      "--Parsing time: 4.04\n",
      "Parsing csv: parsedX_1400000.csv, 6 / 45\n"
     ]
    },
    {
     "name": "stderr",
     "output_type": "stream",
     "text": [
      " 13%|█████████████████████████████████████████▏                                                                                                                                                                                                                                                                           | 6/45 [00:23<02:39,  4.08s/it]"
     ]
    },
    {
     "name": "stdout",
     "output_type": "stream",
     "text": [
      "--Parsing time: 4.26\n",
      "Parsing csv: parsedX_1500000.csv, 7 / 45\n"
     ]
    },
    {
     "name": "stderr",
     "output_type": "stream",
     "text": [
      " 16%|████████████████████████████████████████████████                                                                                                                                                                                                                                                                     | 7/45 [00:27<02:35,  4.08s/it]"
     ]
    },
    {
     "name": "stdout",
     "output_type": "stream",
     "text": [
      "--Parsing time: 4.08\n",
      "Parsing csv: parsedX_1600000.csv, 8 / 45\n"
     ]
    },
    {
     "name": "stderr",
     "output_type": "stream",
     "text": [
      " 18%|██████████████████████████████████████████████████████▉                                                                                                                                                                                                                                                              | 8/45 [00:32<02:31,  4.11s/it]"
     ]
    },
    {
     "name": "stdout",
     "output_type": "stream",
     "text": [
      "--Parsing time: 4.17\n",
      "Parsing csv: parsedX_1700000.csv, 9 / 45\n"
     ]
    },
    {
     "name": "stderr",
     "output_type": "stream",
     "text": [
      " 20%|█████████████████████████████████████████████████████████████▊                                                                                                                                                                                                                                                       | 9/45 [00:36<02:29,  4.16s/it]"
     ]
    },
    {
     "name": "stdout",
     "output_type": "stream",
     "text": [
      "--Parsing time: 4.28\n",
      "Parsing csv: parsedX_1800000.csv, 10 / 45\n"
     ]
    },
    {
     "name": "stderr",
     "output_type": "stream",
     "text": [
      " 22%|████████████████████████████████████████████████████████████████████▍                                                                                                                                                                                                                                               | 10/45 [00:40<02:28,  4.23s/it]"
     ]
    },
    {
     "name": "stdout",
     "output_type": "stream",
     "text": [
      "--Parsing time: 4.38\n",
      "Parsing csv: parsedX_1900000.csv, 11 / 45\n"
     ]
    },
    {
     "name": "stderr",
     "output_type": "stream",
     "text": [
      " 24%|███████████████████████████████████████████████████████████████████████████▎                                                                                                                                                                                                                                        | 11/45 [00:45<02:26,  4.30s/it]"
     ]
    },
    {
     "name": "stdout",
     "output_type": "stream",
     "text": [
      "--Parsing time: 4.44\n",
      "Parsing csv: parsedX_200000.csv, 12 / 45\n"
     ]
    },
    {
     "name": "stderr",
     "output_type": "stream",
     "text": [
      " 27%|██████████████████████████████████████████████████████████████████████████████████▏                                                                                                                                                                                                                                 | 12/45 [00:48<02:11,  3.99s/it]"
     ]
    },
    {
     "name": "stdout",
     "output_type": "stream",
     "text": [
      "--Parsing time: 3.28\n",
      "Parsing csv: parsedX_2000000.csv, 13 / 45\n"
     ]
    },
    {
     "name": "stderr",
     "output_type": "stream",
     "text": [
      " 29%|████████████████████████████████████████████████████████████████████████████████████████▉                                                                                                                                                                                                                           | 13/45 [00:53<02:13,  4.16s/it]"
     ]
    },
    {
     "name": "stdout",
     "output_type": "stream",
     "text": [
      "--Parsing time: 4.56\n",
      "Parsing csv: parsedX_2100000.csv, 14 / 45\n"
     ]
    },
    {
     "name": "stderr",
     "output_type": "stream",
     "text": [
      " 31%|███████████████████████████████████████████████████████████████████████████████████████████████▊                                                                                                                                                                                                                    | 14/45 [00:57<02:13,  4.32s/it]"
     ]
    },
    {
     "name": "stdout",
     "output_type": "stream",
     "text": [
      "--Parsing time: 4.68\n",
      "Parsing csv: parsedX_2200000.csv, 15 / 45\n"
     ]
    },
    {
     "name": "stderr",
     "output_type": "stream",
     "text": [
      " 33%|██████████████████████████████████████████████████████████████████████████████████████████████████████▋                                                                                                                                                                                                             | 15/45 [01:02<02:12,  4.41s/it]"
     ]
    },
    {
     "name": "stdout",
     "output_type": "stream",
     "text": [
      "--Parsing time: 4.62\n",
      "Parsing csv: parsedX_2300000.csv, 16 / 45\n"
     ]
    },
    {
     "name": "stderr",
     "output_type": "stream",
     "text": [
      " 36%|█████████████████████████████████████████████████████████████████████████████████████████████████████████████▌                                                                                                                                                                                                      | 16/45 [01:07<02:12,  4.58s/it]"
     ]
    },
    {
     "name": "stdout",
     "output_type": "stream",
     "text": [
      "--Parsing time: 4.97\n",
      "Parsing csv: parsedX_2400000.csv, 17 / 45\n"
     ]
    },
    {
     "name": "stderr",
     "output_type": "stream",
     "text": [
      " 38%|████████████████████████████████████████████████████████████████████████████████████████████████████████████████████▎                                                                                                                                                                                               | 17/45 [01:12<02:14,  4.79s/it]"
     ]
    },
    {
     "name": "stdout",
     "output_type": "stream",
     "text": [
      "--Parsing time: 5.28\n",
      "Parsing csv: parsedX_2500000.csv, 18 / 45\n"
     ]
    },
    {
     "name": "stderr",
     "output_type": "stream",
     "text": [
      " 40%|███████████████████████████████████████████████████████████████████████████████████████████████████████████████████████████▏                                                                                                                                                                                        | 18/45 [01:18<02:18,  5.11s/it]"
     ]
    },
    {
     "name": "stdout",
     "output_type": "stream",
     "text": [
      "--Parsing time: 5.86\n",
      "Parsing csv: parsedX_2600000.csv, 19 / 45\n"
     ]
    },
    {
     "name": "stderr",
     "output_type": "stream",
     "text": [
      " 42%|██████████████████████████████████████████████████████████████████████████████████████████████████████████████████████████████████                                                                                                                                                                                  | 19/45 [01:24<02:17,  5.28s/it]"
     ]
    },
    {
     "name": "stdout",
     "output_type": "stream",
     "text": [
      "--Parsing time: 5.66\n",
      "Parsing csv: parsedX_2700000.csv, 20 / 45\n"
     ]
    },
    {
     "name": "stderr",
     "output_type": "stream",
     "text": [
      " 44%|████████████████████████████████████████████████████████████████████████████████████████████████████████████████████████████████████████▉                                                                                                                                                                           | 20/45 [01:29<02:15,  5.40s/it]"
     ]
    },
    {
     "name": "stdout",
     "output_type": "stream",
     "text": [
      "--Parsing time: 5.68\n",
      "Parsing csv: parsedX_2800000.csv, 21 / 45\n"
     ]
    },
    {
     "name": "stderr",
     "output_type": "stream",
     "text": [
      " 47%|███████████████████████████████████████████████████████████████████████████████████████████████████████████████████████████████████████████████▋                                                                                                                                                                    | 21/45 [01:35<02:11,  5.47s/it]"
     ]
    },
    {
     "name": "stdout",
     "output_type": "stream",
     "text": [
      "--Parsing time: 5.62\n",
      "Parsing csv: parsedX_2900000.csv, 22 / 45\n"
     ]
    },
    {
     "name": "stderr",
     "output_type": "stream",
     "text": [
      " 49%|██████████████████████████████████████████████████████████████████████████████████████████████████████████████████████████████████████████████████████▌                                                                                                                                                             | 22/45 [01:41<02:06,  5.51s/it]"
     ]
    },
    {
     "name": "stdout",
     "output_type": "stream",
     "text": [
      "--Parsing time: 5.61\n",
      "Parsing csv: parsedX_300000.csv, 23 / 45\n"
     ]
    },
    {
     "name": "stderr",
     "output_type": "stream",
     "text": [
      " 51%|█████████████████████████████████████████████████████████████████████████████████████████████████████████████████████████████████████████████████████████████▍                                                                                                                                                      | 23/45 [01:44<01:44,  4.77s/it]"
     ]
    },
    {
     "name": "stdout",
     "output_type": "stream",
     "text": [
      "--Parsing time: 3.05\n",
      "Parsing csv: parsedX_3000000.csv, 24 / 45\n"
     ]
    },
    {
     "name": "stderr",
     "output_type": "stream",
     "text": [
      " 53%|████████████████████████████████████████████████████████████████████████████████████████████████████████████████████████████████████████████████████████████████████▎                                                                                                                                               | 24/45 [01:49<01:46,  5.07s/it]"
     ]
    },
    {
     "name": "stdout",
     "output_type": "stream",
     "text": [
      "--Parsing time: 5.78\n",
      "Parsing csv: parsedX_3100000.csv, 25 / 45\n"
     ]
    },
    {
     "name": "stderr",
     "output_type": "stream",
     "text": [
      " 56%|███████████████████████████████████████████████████████████████████████████████████████████████████████████████████████████████████████████████████████████████████████████                                                                                                                                         | 25/45 [01:55<01:46,  5.31s/it]"
     ]
    },
    {
     "name": "stdout",
     "output_type": "stream",
     "text": [
      "--Parsing time: 5.85\n",
      "Parsing csv: parsedX_3200000.csv, 26 / 45\n"
     ]
    },
    {
     "name": "stderr",
     "output_type": "stream",
     "text": [
      " 58%|█████████████████████████████████████████████████████████████████████████████████████████████████████████████████████████████████████████████████████████████████████████████████▉                                                                                                                                  | 26/45 [02:01<01:43,  5.43s/it]"
     ]
    },
    {
     "name": "stdout",
     "output_type": "stream",
     "text": [
      "--Parsing time: 5.71\n",
      "Parsing csv: parsedX_3300000.csv, 27 / 45\n"
     ]
    },
    {
     "name": "stderr",
     "output_type": "stream",
     "text": [
      " 60%|████████████████████████████████████████████████████████████████████████████████████████████████████████████████████████████████████████████████████████████████████████████████████████▊                                                                                                                           | 27/45 [02:07<01:40,  5.57s/it]"
     ]
    },
    {
     "name": "stdout",
     "output_type": "stream",
     "text": [
      "--Parsing time: 5.89\n",
      "Parsing csv: parsedX_3400000.csv, 28 / 45\n"
     ]
    },
    {
     "name": "stderr",
     "output_type": "stream",
     "text": [
      " 62%|███████████████████████████████████████████████████████████████████████████████████████████████████████████████████████████████████████████████████████████████████████████████████████████████▋                                                                                                                    | 28/45 [02:13<01:35,  5.63s/it]"
     ]
    },
    {
     "name": "stdout",
     "output_type": "stream",
     "text": [
      "--Parsing time: 5.79\n",
      "Parsing csv: parsedX_3500000.csv, 29 / 45\n"
     ]
    },
    {
     "name": "stderr",
     "output_type": "stream",
     "text": [
      " 64%|██████████████████████████████████████████████████████████████████████████████████████████████████████████████████████████████████████████████████████████████████████████████████████████████████████▍                                                                                                             | 29/45 [02:18<01:31,  5.69s/it]"
     ]
    },
    {
     "name": "stdout",
     "output_type": "stream",
     "text": [
      "--Parsing time: 5.82\n",
      "Parsing csv: parsedX_3600000.csv, 30 / 45\n"
     ]
    },
    {
     "name": "stderr",
     "output_type": "stream",
     "text": [
      " 67%|█████████████████████████████████████████████████████████████████████████████████████████████████████████████████████████████████████████████████████████████████████████████████████████████████████████████▎                                                                                                      | 30/45 [02:24<01:25,  5.70s/it]"
     ]
    },
    {
     "name": "stdout",
     "output_type": "stream",
     "text": [
      "--Parsing time: 5.74\n",
      "Parsing csv: parsedX_3700000.csv, 31 / 45\n"
     ]
    },
    {
     "name": "stderr",
     "output_type": "stream",
     "text": [
      " 69%|████████████████████████████████████████████████████████████████████████████████████████████████████████████████████████████████████████████████████████████████████████████████████████████████████████████████████▏                                                                                               | 31/45 [02:30<01:20,  5.75s/it]"
     ]
    },
    {
     "name": "stdout",
     "output_type": "stream",
     "text": [
      "--Parsing time: 5.87\n",
      "Parsing csv: parsedX_3800000.csv, 32 / 45\n"
     ]
    },
    {
     "name": "stderr",
     "output_type": "stream",
     "text": [
      " 71%|███████████████████████████████████████████████████████████████████████████████████████████████████████████████████████████████████████████████████████████████████████████████████████████████████████████████████████████                                                                                         | 32/45 [02:36<01:15,  5.83s/it]"
     ]
    },
    {
     "name": "stdout",
     "output_type": "stream",
     "text": [
      "--Parsing time: 6.01\n",
      "Parsing csv: parsedX_3900000.csv, 33 / 45\n"
     ]
    },
    {
     "name": "stderr",
     "output_type": "stream",
     "text": [
      " 73%|█████████████████████████████████████████████████████████████████████████████████████████████████████████████████████████████████████████████████████████████████████████████████████████████████████████████████████████████████▊                                                                                  | 33/45 [02:42<01:10,  5.88s/it]"
     ]
    },
    {
     "name": "stdout",
     "output_type": "stream",
     "text": [
      "--Parsing time: 5.98\n",
      "Parsing csv: parsedX_400000.csv, 34 / 45\n"
     ]
    },
    {
     "name": "stderr",
     "output_type": "stream",
     "text": [
      " 76%|████████████████████████████████████████████████████████████████████████████████████████████████████████████████████████████████████████████████████████████████████████████████████████████████████████████████████████████████████████▋                                                                           | 34/45 [02:45<00:54,  4.92s/it]"
     ]
    },
    {
     "name": "stdout",
     "output_type": "stream",
     "text": [
      "--Parsing time: 2.69\n",
      "Parsing csv: parsedX_4000000.csv, 35 / 45\n"
     ]
    },
    {
     "name": "stderr",
     "output_type": "stream",
     "text": [
      " 78%|███████████████████████████████████████████████████████████████████████████████████████████████████████████████████████████████████████████████████████████████████████████████████████████████████████████████████████████████████████████████▌                                                                    | 35/45 [02:51<00:54,  5.43s/it]"
     ]
    },
    {
     "name": "stdout",
     "output_type": "stream",
     "text": [
      "--Parsing time: 6.61\n",
      "Parsing csv: parsedX_4100000.csv, 36 / 45\n"
     ]
    },
    {
     "name": "stderr",
     "output_type": "stream",
     "text": [
      " 80%|██████████████████████████████████████████████████████████████████████████████████████████████████████████████████████████████████████████████████████████████████████████████████████████████████████████████████████████████████████████████████████▍                                                             | 36/45 [02:58<00:50,  5.66s/it]"
     ]
    },
    {
     "name": "stdout",
     "output_type": "stream",
     "text": [
      "--Parsing time: 6.19\n",
      "Parsing csv: parsedX_4200000.csv, 37 / 45\n"
     ]
    },
    {
     "name": "stderr",
     "output_type": "stream",
     "text": [
      " 82%|█████████████████████████████████████████████████████████████████████████████████████████████████████████████████████████████████████████████████████████████████████████████████████████████████████████████████████████████████████████████████████████████▏                                                      | 37/45 [03:04<00:46,  5.76s/it]"
     ]
    },
    {
     "name": "stdout",
     "output_type": "stream",
     "text": [
      "--Parsing time: 6.01\n",
      "Parsing csv: parsedX_4300000.csv, 38 / 45\n"
     ]
    },
    {
     "name": "stderr",
     "output_type": "stream",
     "text": [
      " 84%|████████████████████████████████████████████████████████████████████████████████████████████████████████████████████████████████████████████████████████████████████████████████████████████████████████████████████████████████████████████████████████████████████                                                | 38/45 [03:10<00:40,  5.84s/it]"
     ]
    },
    {
     "name": "stdout",
     "output_type": "stream",
     "text": [
      "--Parsing time: 6.01\n",
      "Parsing csv: parsedX_4400000.csv, 39 / 45\n"
     ]
    },
    {
     "name": "stderr",
     "output_type": "stream",
     "text": [
      " 87%|██████████████████████████████████████████████████████████████████████████████████████████████████████████████████████████████████████████████████████████████████████████████████████████████████████████████████████████████████████████████████████████████████████████▉                                         | 39/45 [03:16<00:35,  5.92s/it]"
     ]
    },
    {
     "name": "stdout",
     "output_type": "stream",
     "text": [
      "--Parsing time: 6.11\n",
      "Parsing csv: parsedX_4454000.csv, 40 / 45\n"
     ]
    },
    {
     "name": "stderr",
     "output_type": "stream",
     "text": [
      " 89%|█████████████████████████████████████████████████████████████████████████████████████████████████████████████████████████████████████████████████████████████████████████████████████████████████████████████████████████████████████████████████████████████████████████████████▊                                  | 40/45 [03:19<00:25,  5.16s/it]"
     ]
    },
    {
     "name": "stdout",
     "output_type": "stream",
     "text": [
      "--Parsing time: 3.39\n",
      "Parsing csv: parsedX_500000.csv, 41 / 45\n"
     ]
    },
    {
     "name": "stderr",
     "output_type": "stream",
     "text": [
      " 91%|████████████████████████████████████████████████████████████████████████████████████████████████████████████████████████████████████████████████████████████████████████████████████████████████████████████████████████████████████████████████████████████████████████████████████████▌                           | 41/45 [03:23<00:18,  4.67s/it]"
     ]
    },
    {
     "name": "stdout",
     "output_type": "stream",
     "text": [
      "--Parsing time: 3.54\n",
      "Parsing csv: parsedX_600000.csv, 42 / 45\n"
     ]
    },
    {
     "name": "stderr",
     "output_type": "stream",
     "text": [
      " 93%|███████████████████████████████████████████████████████████████████████████████████████████████████████████████████████████████████████████████████████████████████████████████████████████████████████████████████████████████████████████████████████████████████████████████████████████████▍                    | 42/45 [03:26<00:13,  4.34s/it]"
     ]
    },
    {
     "name": "stdout",
     "output_type": "stream",
     "text": [
      "--Parsing time: 3.56\n",
      "Parsing csv: parsedX_700000.csv, 43 / 45\n"
     ]
    },
    {
     "name": "stderr",
     "output_type": "stream",
     "text": [
      " 96%|██████████████████████████████████████████████████████████████████████████████████████████████████████████████████████████████████████████████████████████████████████████████████████████████████████████████████████████████████████████████████████████████████████████████████████████████████████▎             | 43/45 [03:30<00:08,  4.17s/it]"
     ]
    },
    {
     "name": "stdout",
     "output_type": "stream",
     "text": [
      "--Parsing time: 3.77\n",
      "Parsing csv: parsedX_800000.csv, 44 / 45\n"
     ]
    },
    {
     "name": "stderr",
     "output_type": "stream",
     "text": [
      " 98%|█████████████████████████████████████████████████████████████████████████████████████████████████████████████████████████████████████████████████████████████████████████████████████████████████████████████████████████████████████████████████████████████████████████████████████████████████████████████▏      | 44/45 [03:34<00:04,  4.07s/it]"
     ]
    },
    {
     "name": "stdout",
     "output_type": "stream",
     "text": [
      "--Parsing time: 3.82\n",
      "Parsing csv: parsedX_900000.csv, 45 / 45\n"
     ]
    },
    {
     "name": "stderr",
     "output_type": "stream",
     "text": [
      "100%|████████████████████████████████████████████████████████████████████████████████████████████████████████████████████████████████████████████████████████████████████████████████████████████████████████████████████████████████████████████████████████████████████████████████████████████████████████████████████| 45/45 [03:38<00:00,  4.85s/it]"
     ]
    },
    {
     "name": "stdout",
     "output_type": "stream",
     "text": [
      "--Parsing time: 3.86\n"
     ]
    },
    {
     "name": "stderr",
     "output_type": "stream",
     "text": [
      "\n"
     ]
    }
   ],
   "source": [
    "## Extract country names in the articles' dataset\n",
    "articles_dataset_countries_list = []\n",
    "\n",
    "# Import each csv with articles' data and extract country names\n",
    "for csv in tqdm(list_dfs_papers):\n",
    "    start = time.time()\n",
    "    print(f\"Parsing csv: {csv}, {list_dfs_papers.index(csv)+1} / {len(list_dfs_papers)}\")\n",
    "    df = pd.read_csv(DF_input + csv)\n",
    "    list_countries = list(set(df[\"Country\"]))\n",
    "    articles_dataset_countries_list.append(list_countries)\n",
    "    del df, list_countries\n",
    "    print(f\"--Parsing time: {round(time.time()-start, 2)}\")\n",
    "\n",
    "# Flatten list, remove nan, convert to set\n",
    "articles_dataset_countries = set([el for el in (chain(*articles_dataset_countries_list)) if str(el) != \"nan\"])"
   ]
  },
  {
   "cell_type": "code",
   "execution_count": 39,
   "id": "7ef4f586-2ab0-41e8-8d6a-6952241873c2",
   "metadata": {},
   "outputs": [],
   "source": [
    "# Unique entity names in the Globocan dataset\n",
    "globocan_dataset_countries = set(df_globocan[\"Country\"])\n",
    "\n",
    "# Entities appearing in Globocan dataset and missing in articles' dataset\n",
    "for entity in globocan_dataset_countries:\n",
    "    if entity not in articles_dataset_countries:\n",
    "        print(entity)"
   ]
  },
  {
   "cell_type": "markdown",
   "id": "696941f7-1654-46b4-bc95-ece14079c472",
   "metadata": {},
   "source": [
    "No country in the Globocan dataset is absent from the articles' dataset"
   ]
  },
  {
   "cell_type": "code",
   "execution_count": 183,
   "id": "4bbe31f4-619f-470e-ac30-e8dcb02f9860",
   "metadata": {},
   "outputs": [
    {
     "name": "stdout",
     "output_type": "stream",
     "text": [
      "Tonga\n",
      "St. Kitts and Nevis\n",
      "Curacao\n",
      "Isle of Man\n",
      "Aruba\n",
      "Liechtenstein\n",
      "St. Vincent and the Grenadines\n",
      "Bonaire, Saint Eustatius and Saba\n",
      "Antigua and Barbuda\n",
      "St. Pierre and Miquelon\n",
      "Monaco\n",
      "Tuvalu\n",
      "Dominica\n",
      "Jersey\n",
      "Palau\n",
      "Marshall Islands\n",
      "Grenada\n",
      "Vatican\n",
      "Kosovo\n",
      "Hong Kong\n",
      "Bermuda\n",
      "Faroe Islands\n",
      "Guernsey\n",
      "Anguilla\n",
      "Seychelles\n",
      "Greenland\n",
      "Northern Mariana Islands\n",
      "Cayman Islands\n",
      "Macau\n",
      "Taiwan\n",
      "San Marino\n",
      "British Virgin Islands\n",
      "American Samoa\n",
      "Andorra\n",
      "United States Virgin Islands\n",
      "St. Helena\n",
      "Sint Maarten\n",
      "Mayotte\n"
     ]
    }
   ],
   "source": [
    "# Entities appearing in articles' dataset and missing in Globocan dataset\n",
    "for entity in articles_dataset_countries:\n",
    "    if entity not in globocan_dataset_countries:\n",
    "        print(entity)"
   ]
  },
  {
   "cell_type": "markdown",
   "id": "71858463-9ceb-469a-9511-6065fee7ac38",
   "metadata": {},
   "source": [
    "# Matching country names in Globocan and articles' datasets\n",
    "\n",
    "There are some naming discrepancies in the articles's dataset with respect to the Globocan dataset (e.g. there is no specification of **Taiwan** or **Hong Kong** in the Globocan dataset, there is only **China**. Here, these discrepancies are solved. In the case just mentioned, for instance, country of articles with coutry of publishing correspoding to **Taiwan** or **Hong Kong** are renamed to **China**. Other renamings are performed so that the country names and corresponding political entities are as similar as possible in the Globocan and the articles' datasets, so that comparisons performed downstream are as accurate as possible"
   ]
  },
  {
   "cell_type": "code",
   "execution_count": 186,
   "id": "8b43b676-3c55-4227-824a-dd4953467cab",
   "metadata": {},
   "outputs": [
    {
     "name": "stderr",
     "output_type": "stream",
     "text": [
      "  0%|                                                                                                                                                                                                                                                                                                                             | 0/45 [00:00<?, ?it/s]"
     ]
    },
    {
     "name": "stdout",
     "output_type": "stream",
     "text": [
      "Parsing csv: parsedX_100000.csv, 1 / 45\n"
     ]
    },
    {
     "name": "stderr",
     "output_type": "stream",
     "text": [
      "  2%|██████▊                                                                                                                                                                                                                                                                                                              | 1/45 [00:10<07:33, 10.31s/it]"
     ]
    },
    {
     "name": "stdout",
     "output_type": "stream",
     "text": [
      "--Parsing time: 10.31\n",
      "Parsing csv: parsedX_1000000.csv, 2 / 45\n"
     ]
    },
    {
     "name": "stderr",
     "output_type": "stream",
     "text": [
      "  4%|█████████████▋                                                                                                                                                                                                                                                                                                       | 2/45 [00:23<08:40, 12.11s/it]"
     ]
    },
    {
     "name": "stdout",
     "output_type": "stream",
     "text": [
      "--Parsing time: 13.36\n",
      "Parsing csv: parsedX_1100000.csv, 3 / 45\n"
     ]
    },
    {
     "name": "stderr",
     "output_type": "stream",
     "text": [
      "  7%|████████████████████▌                                                                                                                                                                                                                                                                                                | 3/45 [00:36<08:36, 12.29s/it]"
     ]
    },
    {
     "name": "stdout",
     "output_type": "stream",
     "text": [
      "--Parsing time: 12.51\n",
      "Parsing csv: parsedX_1200000.csv, 4 / 45\n"
     ]
    },
    {
     "name": "stderr",
     "output_type": "stream",
     "text": [
      "  9%|███████████████████████████▍                                                                                                                                                                                                                                                                                         | 4/45 [00:48<08:28, 12.41s/it]"
     ]
    },
    {
     "name": "stdout",
     "output_type": "stream",
     "text": [
      "--Parsing time: 12.6\n",
      "Parsing csv: parsedX_1300000.csv, 5 / 45\n"
     ]
    },
    {
     "name": "stderr",
     "output_type": "stream",
     "text": [
      " 11%|██████████████████████████████████▎                                                                                                                                                                                                                                                                                  | 5/45 [01:01<08:19, 12.49s/it]"
     ]
    },
    {
     "name": "stdout",
     "output_type": "stream",
     "text": [
      "--Parsing time: 12.64\n",
      "Parsing csv: parsedX_1400000.csv, 6 / 45\n"
     ]
    },
    {
     "name": "stderr",
     "output_type": "stream",
     "text": [
      " 13%|█████████████████████████████████████████▏                                                                                                                                                                                                                                                                           | 6/45 [01:14<08:15, 12.70s/it]"
     ]
    },
    {
     "name": "stdout",
     "output_type": "stream",
     "text": [
      "--Parsing time: 13.09\n",
      "Parsing csv: parsedX_1500000.csv, 7 / 45\n"
     ]
    },
    {
     "name": "stderr",
     "output_type": "stream",
     "text": [
      " 16%|████████████████████████████████████████████████                                                                                                                                                                                                                                                                     | 7/45 [01:27<08:09, 12.89s/it]"
     ]
    },
    {
     "name": "stdout",
     "output_type": "stream",
     "text": [
      "--Parsing time: 13.28\n",
      "Parsing csv: parsedX_1600000.csv, 8 / 45\n"
     ]
    },
    {
     "name": "stderr",
     "output_type": "stream",
     "text": [
      " 18%|██████████████████████████████████████████████████████▉                                                                                                                                                                                                                                                              | 8/45 [01:40<07:55, 12.84s/it]"
     ]
    },
    {
     "name": "stdout",
     "output_type": "stream",
     "text": [
      "--Parsing time: 12.74\n",
      "Parsing csv: parsedX_1700000.csv, 9 / 45\n"
     ]
    },
    {
     "name": "stderr",
     "output_type": "stream",
     "text": [
      " 20%|█████████████████████████████████████████████████████████████▊                                                                                                                                                                                                                                                       | 9/45 [01:53<07:38, 12.75s/it]"
     ]
    },
    {
     "name": "stdout",
     "output_type": "stream",
     "text": [
      "--Parsing time: 12.55\n",
      "Parsing csv: parsedX_1800000.csv, 10 / 45\n"
     ]
    },
    {
     "name": "stderr",
     "output_type": "stream",
     "text": [
      " 22%|████████████████████████████████████████████████████████████████████▍                                                                                                                                                                                                                                               | 10/45 [02:06<07:28, 12.80s/it]"
     ]
    },
    {
     "name": "stdout",
     "output_type": "stream",
     "text": [
      "--Parsing time: 12.92\n",
      "Parsing csv: parsedX_1900000.csv, 11 / 45\n"
     ]
    },
    {
     "name": "stderr",
     "output_type": "stream",
     "text": [
      " 24%|███████████████████████████████████████████████████████████████████████████▎                                                                                                                                                                                                                                        | 11/45 [02:18<07:15, 12.82s/it]"
     ]
    },
    {
     "name": "stdout",
     "output_type": "stream",
     "text": [
      "--Parsing time: 12.85\n",
      "Parsing csv: parsedX_200000.csv, 12 / 45\n"
     ]
    },
    {
     "name": "stderr",
     "output_type": "stream",
     "text": [
      " 27%|██████████████████████████████████████████████████████████████████████████████████▏                                                                                                                                                                                                                                 | 12/45 [02:29<06:38, 12.06s/it]"
     ]
    },
    {
     "name": "stdout",
     "output_type": "stream",
     "text": [
      "--Parsing time: 10.33\n",
      "Parsing csv: parsedX_2000000.csv, 13 / 45\n"
     ]
    },
    {
     "name": "stderr",
     "output_type": "stream",
     "text": [
      " 29%|████████████████████████████████████████████████████████████████████████████████████████▉                                                                                                                                                                                                                           | 13/45 [02:42<06:34, 12.31s/it]"
     ]
    },
    {
     "name": "stdout",
     "output_type": "stream",
     "text": [
      "--Parsing time: 12.89\n",
      "Parsing csv: parsedX_2100000.csv, 14 / 45\n"
     ]
    },
    {
     "name": "stderr",
     "output_type": "stream",
     "text": [
      " 31%|███████████████████████████████████████████████████████████████████████████████████████████████▊                                                                                                                                                                                                                    | 14/45 [02:55<06:30, 12.61s/it]"
     ]
    },
    {
     "name": "stdout",
     "output_type": "stream",
     "text": [
      "--Parsing time: 13.29\n",
      "Parsing csv: parsedX_2200000.csv, 15 / 45\n"
     ]
    },
    {
     "name": "stderr",
     "output_type": "stream",
     "text": [
      " 33%|██████████████████████████████████████████████████████████████████████████████████████████████████████▋                                                                                                                                                                                                             | 15/45 [03:08<06:25, 12.86s/it]"
     ]
    },
    {
     "name": "stdout",
     "output_type": "stream",
     "text": [
      "--Parsing time: 13.45\n",
      "Parsing csv: parsedX_2300000.csv, 16 / 45\n"
     ]
    },
    {
     "name": "stderr",
     "output_type": "stream",
     "text": [
      " 36%|█████████████████████████████████████████████████████████████████████████████████████████████████████████████▌                                                                                                                                                                                                      | 16/45 [03:23<06:26, 13.34s/it]"
     ]
    },
    {
     "name": "stdout",
     "output_type": "stream",
     "text": [
      "--Parsing time: 14.43\n",
      "Parsing csv: parsedX_2400000.csv, 17 / 45\n"
     ]
    },
    {
     "name": "stderr",
     "output_type": "stream",
     "text": [
      " 38%|████████████████████████████████████████████████████████████████████████████████████████████████████████████████████▎                                                                                                                                                                                               | 17/45 [03:38<06:27, 13.83s/it]"
     ]
    },
    {
     "name": "stdout",
     "output_type": "stream",
     "text": [
      "--Parsing time: 14.99\n",
      "Parsing csv: parsedX_2500000.csv, 18 / 45\n"
     ]
    },
    {
     "name": "stderr",
     "output_type": "stream",
     "text": [
      " 40%|███████████████████████████████████████████████████████████████████████████████████████████████████████████████████████████▏                                                                                                                                                                                        | 18/45 [03:53<06:25, 14.28s/it]"
     ]
    },
    {
     "name": "stdout",
     "output_type": "stream",
     "text": [
      "--Parsing time: 15.32\n",
      "Parsing csv: parsedX_2600000.csv, 19 / 45\n"
     ]
    },
    {
     "name": "stderr",
     "output_type": "stream",
     "text": [
      " 42%|██████████████████████████████████████████████████████████████████████████████████████████████████████████████████████████████████                                                                                                                                                                                  | 19/45 [04:09<06:22, 14.70s/it]"
     ]
    },
    {
     "name": "stdout",
     "output_type": "stream",
     "text": [
      "--Parsing time: 15.66\n",
      "Parsing csv: parsedX_2700000.csv, 20 / 45\n"
     ]
    },
    {
     "name": "stderr",
     "output_type": "stream",
     "text": [
      " 44%|████████████████████████████████████████████████████████████████████████████████████████████████████████████████████████████████████████▉                                                                                                                                                                           | 20/45 [04:25<06:16, 15.06s/it]"
     ]
    },
    {
     "name": "stdout",
     "output_type": "stream",
     "text": [
      "--Parsing time: 15.9\n",
      "Parsing csv: parsedX_2800000.csv, 21 / 45\n"
     ]
    },
    {
     "name": "stderr",
     "output_type": "stream",
     "text": [
      " 47%|███████████████████████████████████████████████████████████████████████████████████████████████████████████████████████████████████████████████▋                                                                                                                                                                    | 21/45 [04:40<06:05, 15.21s/it]"
     ]
    },
    {
     "name": "stdout",
     "output_type": "stream",
     "text": [
      "--Parsing time: 15.58\n",
      "Parsing csv: parsedX_2900000.csv, 22 / 45\n"
     ]
    },
    {
     "name": "stderr",
     "output_type": "stream",
     "text": [
      " 49%|██████████████████████████████████████████████████████████████████████████████████████████████████████████████████████████████████████████████████████▌                                                                                                                                                             | 22/45 [04:56<05:51, 15.28s/it]"
     ]
    },
    {
     "name": "stdout",
     "output_type": "stream",
     "text": [
      "--Parsing time: 15.43\n",
      "Parsing csv: parsedX_300000.csv, 23 / 45\n"
     ]
    },
    {
     "name": "stderr",
     "output_type": "stream",
     "text": [
      " 51%|█████████████████████████████████████████████████████████████████████████████████████████████████████████████████████████████████████████████████████████████▍                                                                                                                                                      | 23/45 [05:05<05:00, 13.65s/it]"
     ]
    },
    {
     "name": "stdout",
     "output_type": "stream",
     "text": [
      "--Parsing time: 9.84\n",
      "Parsing csv: parsedX_3000000.csv, 24 / 45\n"
     ]
    },
    {
     "name": "stderr",
     "output_type": "stream",
     "text": [
      " 53%|████████████████████████████████████████████████████████████████████████████████████████████████████████████████████████████████████████████████████████████████████▎                                                                                                                                               | 24/45 [05:21<04:59, 14.24s/it]"
     ]
    },
    {
     "name": "stdout",
     "output_type": "stream",
     "text": [
      "--Parsing time: 15.64\n",
      "Parsing csv: parsedX_3100000.csv, 25 / 45\n"
     ]
    },
    {
     "name": "stderr",
     "output_type": "stream",
     "text": [
      " 56%|███████████████████████████████████████████████████████████████████████████████████████████████████████████████████████████████████████████████████████████████████████████                                                                                                                                         | 25/45 [05:37<04:51, 14.60s/it]"
     ]
    },
    {
     "name": "stdout",
     "output_type": "stream",
     "text": [
      "--Parsing time: 15.42\n",
      "Parsing csv: parsedX_3200000.csv, 26 / 45\n"
     ]
    },
    {
     "name": "stderr",
     "output_type": "stream",
     "text": [
      " 58%|█████████████████████████████████████████████████████████████████████████████████████████████████████████████████████████████████████████████████████████████████████████████████▉                                                                                                                                  | 26/45 [05:53<04:47, 15.12s/it]"
     ]
    },
    {
     "name": "stdout",
     "output_type": "stream",
     "text": [
      "--Parsing time: 16.35\n",
      "Parsing csv: parsedX_3300000.csv, 27 / 45\n"
     ]
    },
    {
     "name": "stderr",
     "output_type": "stream",
     "text": [
      " 60%|████████████████████████████████████████████████████████████████████████████████████████████████████████████████████████████████████████████████████████████████████████████████████████▊                                                                                                                           | 27/45 [06:10<04:41, 15.61s/it]"
     ]
    },
    {
     "name": "stdout",
     "output_type": "stream",
     "text": [
      "--Parsing time: 16.76\n",
      "Parsing csv: parsedX_3400000.csv, 28 / 45\n"
     ]
    },
    {
     "name": "stderr",
     "output_type": "stream",
     "text": [
      " 62%|███████████████████████████████████████████████████████████████████████████████████████████████████████████████████████████████████████████████████████████████████████████████████████████████▋                                                                                                                    | 28/45 [06:25<04:25, 15.62s/it]"
     ]
    },
    {
     "name": "stdout",
     "output_type": "stream",
     "text": [
      "--Parsing time: 15.62\n",
      "Parsing csv: parsedX_3500000.csv, 29 / 45\n"
     ]
    },
    {
     "name": "stderr",
     "output_type": "stream",
     "text": [
      " 64%|██████████████████████████████████████████████████████████████████████████████████████████████████████████████████████████████████████████████████████████████████████████████████████████████████████▍                                                                                                             | 29/45 [06:41<04:09, 15.60s/it]"
     ]
    },
    {
     "name": "stdout",
     "output_type": "stream",
     "text": [
      "--Parsing time: 15.56\n",
      "Parsing csv: parsedX_3600000.csv, 30 / 45\n"
     ]
    },
    {
     "name": "stderr",
     "output_type": "stream",
     "text": [
      " 67%|█████████████████████████████████████████████████████████████████████████████████████████████████████████████████████████████████████████████████████████████████████████████████████████████████████████████▎                                                                                                      | 30/45 [06:56<03:54, 15.61s/it]"
     ]
    },
    {
     "name": "stdout",
     "output_type": "stream",
     "text": [
      "--Parsing time: 15.64\n",
      "Parsing csv: parsedX_3700000.csv, 31 / 45\n"
     ]
    },
    {
     "name": "stderr",
     "output_type": "stream",
     "text": [
      " 69%|████████████████████████████████████████████████████████████████████████████████████████████████████████████████████████████████████████████████████████████████████████████████████████████████████████████████████▏                                                                                               | 31/45 [07:12<03:39, 15.71s/it]"
     ]
    },
    {
     "name": "stdout",
     "output_type": "stream",
     "text": [
      "--Parsing time: 15.93\n",
      "Parsing csv: parsedX_3800000.csv, 32 / 45\n"
     ]
    },
    {
     "name": "stderr",
     "output_type": "stream",
     "text": [
      " 71%|███████████████████████████████████████████████████████████████████████████████████████████████████████████████████████████████████████████████████████████████████████████████████████████████████████████████████████████                                                                                         | 32/45 [07:28<03:24, 15.72s/it]"
     ]
    },
    {
     "name": "stdout",
     "output_type": "stream",
     "text": [
      "--Parsing time: 15.75\n",
      "Parsing csv: parsedX_3900000.csv, 33 / 45\n"
     ]
    },
    {
     "name": "stderr",
     "output_type": "stream",
     "text": [
      " 73%|█████████████████████████████████████████████████████████████████████████████████████████████████████████████████████████████████████████████████████████████████████████████████████████████████████████████████████████████████▊                                                                                  | 33/45 [07:44<03:09, 15.80s/it]"
     ]
    },
    {
     "name": "stdout",
     "output_type": "stream",
     "text": [
      "--Parsing time: 16.0\n",
      "Parsing csv: parsedX_400000.csv, 34 / 45\n"
     ]
    },
    {
     "name": "stderr",
     "output_type": "stream",
     "text": [
      " 76%|████████████████████████████████████████████████████████████████████████████████████████████████████████████████████████████████████████████████████████████████████████████████████████████████████████████████████████████████████████▋                                                                           | 34/45 [07:53<02:31, 13.79s/it]"
     ]
    },
    {
     "name": "stdout",
     "output_type": "stream",
     "text": [
      "--Parsing time: 9.1\n",
      "Parsing csv: parsedX_4000000.csv, 35 / 45\n"
     ]
    },
    {
     "name": "stderr",
     "output_type": "stream",
     "text": [
      " 78%|███████████████████████████████████████████████████████████████████████████████████████████████████████████████████████████████████████████████████████████████████████████████████████████████████████████████████████████████████████████████▌                                                                    | 35/45 [08:09<02:24, 14.45s/it]"
     ]
    },
    {
     "name": "stdout",
     "output_type": "stream",
     "text": [
      "--Parsing time: 16.0\n",
      "Parsing csv: parsedX_4100000.csv, 36 / 45\n"
     ]
    },
    {
     "name": "stderr",
     "output_type": "stream",
     "text": [
      " 80%|██████████████████████████████████████████████████████████████████████████████████████████████████████████████████████████████████████████████████████████████████████████████████████████████████████████████████████████████████████████████████████▍                                                             | 36/45 [08:25<02:14, 14.91s/it]"
     ]
    },
    {
     "name": "stdout",
     "output_type": "stream",
     "text": [
      "--Parsing time: 15.99\n",
      "Parsing csv: parsedX_4200000.csv, 37 / 45\n"
     ]
    },
    {
     "name": "stderr",
     "output_type": "stream",
     "text": [
      " 82%|█████████████████████████████████████████████████████████████████████████████████████████████████████████████████████████████████████████████████████████████████████████████████████████████████████████████████████████████████████████████████████████████▏                                                      | 37/45 [08:41<02:01, 15.23s/it]"
     ]
    },
    {
     "name": "stdout",
     "output_type": "stream",
     "text": [
      "--Parsing time: 15.95\n",
      "Parsing csv: parsedX_4300000.csv, 38 / 45\n"
     ]
    },
    {
     "name": "stderr",
     "output_type": "stream",
     "text": [
      " 84%|████████████████████████████████████████████████████████████████████████████████████████████████████████████████████████████████████████████████████████████████████████████████████████████████████████████████████████████████████████████████████████████████████                                                | 38/45 [08:58<01:48, 15.57s/it]"
     ]
    },
    {
     "name": "stdout",
     "output_type": "stream",
     "text": [
      "--Parsing time: 16.37\n",
      "Parsing csv: parsedX_4400000.csv, 39 / 45\n"
     ]
    },
    {
     "name": "stderr",
     "output_type": "stream",
     "text": [
      " 87%|██████████████████████████████████████████████████████████████████████████████████████████████████████████████████████████████████████████████████████████████████████████████████████████████████████████████████████████████████████████████████████████████████████████▉                                         | 39/45 [09:14<01:34, 15.83s/it]"
     ]
    },
    {
     "name": "stdout",
     "output_type": "stream",
     "text": [
      "--Parsing time: 16.43\n",
      "Parsing csv: parsedX_4454000.csv, 40 / 45\n"
     ]
    },
    {
     "name": "stderr",
     "output_type": "stream",
     "text": [
      " 89%|█████████████████████████████████████████████████████████████████████████████████████████████████████████████████████████████████████████████████████████████████████████████████████████████████████████████████████████████████████████████████████████████████████████████████▊                                  | 40/45 [09:23<01:08, 13.72s/it]"
     ]
    },
    {
     "name": "stdout",
     "output_type": "stream",
     "text": [
      "--Parsing time: 8.79\n",
      "Parsing csv: parsedX_500000.csv, 41 / 45\n"
     ]
    },
    {
     "name": "stderr",
     "output_type": "stream",
     "text": [
      " 91%|████████████████████████████████████████████████████████████████████████████████████████████████████████████████████████████████████████████████████████████████████████████████████████████████████████████████████████████████████████████████████████████████████████████████████████▌                           | 41/45 [09:34<00:51, 12.91s/it]"
     ]
    },
    {
     "name": "stdout",
     "output_type": "stream",
     "text": [
      "--Parsing time: 11.03\n",
      "Parsing csv: parsedX_600000.csv, 42 / 45\n"
     ]
    },
    {
     "name": "stderr",
     "output_type": "stream",
     "text": [
      " 93%|███████████████████████████████████████████████████████████████████████████████████████████████████████████████████████████████████████████████████████████████████████████████████████████████████████████████████████████████████████████████████████████████████████████████████████████████▍                    | 42/45 [09:45<00:37, 12.42s/it]"
     ]
    },
    {
     "name": "stdout",
     "output_type": "stream",
     "text": [
      "--Parsing time: 11.26\n",
      "Parsing csv: parsedX_700000.csv, 43 / 45\n"
     ]
    },
    {
     "name": "stderr",
     "output_type": "stream",
     "text": [
      " 96%|██████████████████████████████████████████████████████████████████████████████████████████████████████████████████████████████████████████████████████████████████████████████████████████████████████████████████████████████████████████████████████████████████████████████████████████████████████▎             | 43/45 [09:57<00:24, 12.14s/it]"
     ]
    },
    {
     "name": "stdout",
     "output_type": "stream",
     "text": [
      "--Parsing time: 11.51\n",
      "Parsing csv: parsedX_800000.csv, 44 / 45\n"
     ]
    },
    {
     "name": "stderr",
     "output_type": "stream",
     "text": [
      " 98%|█████████████████████████████████████████████████████████████████████████████████████████████████████████████████████████████████████████████████████████████████████████████████████████████████████████████████████████████████████████████████████████████████████████████████████████████████████████████▏      | 44/45 [10:08<00:12, 12.04s/it]"
     ]
    },
    {
     "name": "stdout",
     "output_type": "stream",
     "text": [
      "--Parsing time: 11.8\n",
      "Parsing csv: parsedX_900000.csv, 45 / 45\n"
     ]
    },
    {
     "name": "stderr",
     "output_type": "stream",
     "text": [
      "100%|████████████████████████████████████████████████████████████████████████████████████████████████████████████████████████████████████████████████████████████████████████████████████████████████████████████████████████████████████████████████████████████████████████████████████████████████████████████████████| 45/45 [10:20<00:00, 13.79s/it]"
     ]
    },
    {
     "name": "stdout",
     "output_type": "stream",
     "text": [
      "--Parsing time: 11.86\n"
     ]
    },
    {
     "name": "stderr",
     "output_type": "stream",
     "text": [
      "\n"
     ]
    }
   ],
   "source": [
    "# Remove or rename the coountries appearing in articles' dataset and missing in Globocan dataset\n",
    "\n",
    "for csv in tqdm(list_dfs_papers):\n",
    "    start = time.time()\n",
    "    print(f\"Parsing csv: {csv}, {list_dfs_papers.index(csv)+1} / {len(list_dfs_papers)}\")\n",
    "    df = pd.read_csv(DF_input + csv)\n",
    "\n",
    "    ## REMOVE ARTICLES FROM NON-MATCHING COUNTRIES\n",
    "    # Remove articles with country name \"Andorra\" (no matching data in Globocan dataset)\n",
    "    df.drop(df.loc[df[\"Country\"] == \"Andorra\"].index, inplace = True)\n",
    "\n",
    "    # Remove articles with country name \"Tonga\" (no matching data in Globocan dataset)\n",
    "    df.drop(df.loc[df[\"Country\"] == \"Tonga\"].index, inplace = True)\n",
    "\n",
    "    # Remove articles with country name \"St. Kitts and Nevis\" (no matching data in Globocan dataset)\n",
    "    df.drop(df.loc[df[\"Country\"] == \"St. Kitts and Nevis\"].index, inplace = True)\n",
    "\n",
    "    # Remove articles with country name \"Liechtenstein\" (no matching data in Globocan dataset)\n",
    "    df.drop(df.loc[df[\"Country\"] == \"Liechtenstein\"].index, inplace = True)\n",
    "\n",
    "    # Remove articles with country name \"St. Vincent and the Grenadines\" (no matching data in Globocan dataset)\n",
    "    df.drop(df.loc[df[\"Country\"] == \"St. Vincent and the Grenadines\"].index, inplace = True)\n",
    "\n",
    "    # Remove articles with country name \"Antigua and Barbuda\" (no matching data in Globocan dataset)\n",
    "    df.drop(df.loc[df[\"Country\"] == \"Antigua and Barbuda\"].index, inplace = True)\n",
    "\n",
    "    # Remove articles with country name \"Monaco\" (no matching data in Globocan dataset)\n",
    "    df.drop(df.loc[df[\"Country\"] == \"Monaco\"].index, inplace = True)\n",
    "\n",
    "    # Remove articles with country name \"Tuvalu\" (no matching data in Globocan dataset)\n",
    "    df.drop(df.loc[df[\"Country\"] == \"Tuvalu\"].index, inplace = True)\n",
    "\n",
    "    # Remove articles with country name \"Dominica\" (no matching data in Globocan dataset)\n",
    "    df.drop(df.loc[df[\"Country\"] == \"Dominica\"].index, inplace = True)\n",
    "\n",
    "    # Remove articles with country name \"Palau\" (no matching data in Globocan dataset)\n",
    "    df.drop(df.loc[df[\"Country\"] == \"Palau\"].index, inplace = True)\n",
    "\n",
    "    # Remove articles with country name \"Marshall Islands\" (no matching data in Globocan dataset)\n",
    "    df.drop(df.loc[df[\"Country\"] == \"Marshall Islands\"].index, inplace = True)\n",
    "\n",
    "    # Remove articles with country name \"Grenada\" (no matching data in Globocan dataset)\n",
    "    df.drop(df.loc[df[\"Country\"] == \"Grenada\"].index, inplace = True)\n",
    "\n",
    "    # Remove articles with country name \"Vatican\" (no matching data in Globocan dataset)\n",
    "    df.drop(df.loc[df[\"Country\"] == \"Vatican\"].index, inplace = True)\n",
    "\n",
    "    # Remove articles with country name \"Vatican\" (no matching data in Globocan dataset)\n",
    "    df.drop(df.loc[df[\"Country\"] == \"Kosovo\"].index, inplace = True)\n",
    "\n",
    "    # Remove articles with country name \"Seychelles\" (no matching data in Globocan dataset)\n",
    "    df.drop(df.loc[df[\"Country\"] == \"Seychelles\"].index, inplace = True)\n",
    "\n",
    "    # Remove articles with country name \"San Marino\" (no matching data in Globocan dataset)\n",
    "    df.drop(df.loc[df[\"Country\"] == \"San Marino\"].index, inplace = True)\n",
    "\n",
    "    # Remove articles with country name \"Andorra\" (no matching data in Globocan dataset)\n",
    "    df.drop(df.loc[df[\"Country\"] == \"Andorra\"].index, inplace = True)\n",
    "\n",
    "    ## RENAME COUNTRIES\n",
    "    # Rename Country in articles with Country name \"Curacao\" to Netherlands\n",
    "    df.loc[df[\"Country\"] == \"Curacao\", \"Country\"] = \"Netherlands\"\n",
    "\n",
    "    # Rename Country in articles with Country name \"Isle of Man\" to United Kingdom\n",
    "    df.loc[df[\"Country\"] == \"Isle of Man\", \"Country\"] = \"United Kingdom\"\n",
    "\n",
    "    # Rename Country in articles with Country name \"Aruba\" to Netherlands\n",
    "    df.loc[df[\"Country\"] == \"Aruba\", \"Country\"] = \"Netherlands\"\n",
    "\n",
    "    # Rename Country in articles with Country name \"Bonaire, Saint Eustatius and Saba\" to Netherlands\n",
    "    df.loc[df[\"Country\"] == \"Bonaire, Saint Eustatius and Saba\", \"Country\"] = \"Netherlands\"\n",
    "\n",
    "    # Rename Country in articles with Country name \"St. Pierre and Miquelon\" to France\n",
    "    df.loc[df[\"Country\"] == \"St. Pierre and Miquelon\", \"Country\"] = \"France\"\n",
    "\n",
    "    # Rename Country in articles with Country name \"Jersey\" to United Kingdom\n",
    "    df.loc[df[\"Country\"] == \"Jersey\", \"Country\"] = \"United Kingdom\"\n",
    "\n",
    "    # Rename Country in articles with Country name \"Hong Kong\" to China\n",
    "    df.loc[df[\"Country\"] == \"Hong Kong\", \"Country\"] = \"China\"\n",
    "\n",
    "    # Rename Country in articles with Country name \"Bermuda\" to United Kingdom\n",
    "    df.loc[df[\"Country\"] == \"Bermuda\", \"Country\"] = \"United Kingdom\"\n",
    "\n",
    "    # Rename Country in articles with Country name \"Faroe Islands\" to Denmark\n",
    "    df.loc[df[\"Country\"] == \"Faroe Islands\", \"Country\"] = \"Denmark\"\n",
    "\n",
    "    # Rename Country in articles with Country name \"Guernsey\" to United Kingdom\n",
    "    df.loc[df[\"Country\"] == \"Guernsey\", \"Country\"] = \"United Kingdom\"\n",
    "\n",
    "    # Rename Country in articles with Country name \"Anguilla\" to United Kingdom\n",
    "    df.loc[df[\"Country\"] == \"Anguilla\", \"Country\"] = \"United Kingdom\"\n",
    "\n",
    "    # Rename Country in articles with Country name \"Greenland\" to Denmark\n",
    "    df.loc[df[\"Country\"] == \"Greenland\", \"Country\"] = \"Denmark\"\n",
    "\n",
    "    # Rename Country in articles with Country name \"Northern Mariana Islands\" to United States\n",
    "    df.loc[df[\"Country\"] == \"Northern Mariana Islands\", \"Country\"] = \"United States\"\n",
    "\n",
    "    # Rename Country in articles with Country name \"Cayman Islands\" to United Kingdom\n",
    "    df.loc[df[\"Country\"] == \"Cayman Islands\", \"Country\"] = \"United Kingdom\"\n",
    "\n",
    "    # Rename Country in articles with Country name \"Macau\" to China\n",
    "    df.loc[df[\"Country\"] == \"Macau\", \"Country\"] = \"China\"\n",
    "\n",
    "    # Rename Country in articles with Country name \"Taiwan\" to China\n",
    "    df.loc[df[\"Country\"] == \"Taiwan\", \"Country\"] = \"China\"\n",
    "\n",
    "    # Rename Country in articles with Country name \"British Virgin Islands\" to United Kingdom\n",
    "    df.loc[df[\"Country\"] == \"British Virgin Islands\", \"Country\"] = \"United Kingdom\"\n",
    "\n",
    "    # Rename Country in articles with Country name \"American Samoa\" to United States\n",
    "    df.loc[df[\"Country\"] == \"American Samoa\", \"Country\"] = \"United States\"\n",
    "\n",
    "    # Rename Country in articles with Country name \"United States Virgin Islands\" to United States\n",
    "    df.loc[df[\"Country\"] == \"United States Virgin Islands\", \"Country\"] = \"United States\"\n",
    "\n",
    "    # Rename Country in articles with Country name \"Sint Maarten\" to Netherlands\n",
    "    df.loc[df[\"Country\"] == \"Sint Maarten\", \"Country\"] = \"Netherlands\"\n",
    "\n",
    "    # Rename Country in articles with Country name \"Mayotte\" to France\n",
    "    df.loc[df[\"Country\"] == \"Mayotte\", \"Country\"] = \"France\"\n",
    "\n",
    "    df.to_csv(DF_input + csv, index = False)\n",
    "    del df\n",
    "    \n",
    "    print(f\"--Parsing time: {round(time.time()-start, 2)}\")"
   ]
  },
  {
   "cell_type": "code",
   "execution_count": 188,
   "id": "c41762d4-c2a1-4464-8e3b-6fd256c9b53a",
   "metadata": {},
   "outputs": [
    {
     "name": "stderr",
     "output_type": "stream",
     "text": [
      "  0%|                                                                                                                                                                                                                                                                                                                             | 0/45 [00:00<?, ?it/s]"
     ]
    },
    {
     "name": "stdout",
     "output_type": "stream",
     "text": [
      "Parsing csv: parsedX_100000.csv, 1 / 45\n"
     ]
    },
    {
     "name": "stderr",
     "output_type": "stream",
     "text": [
      "  2%|██████▊                                                                                                                                                                                                                                                                                                              | 1/45 [00:03<02:31,  3.45s/it]"
     ]
    },
    {
     "name": "stdout",
     "output_type": "stream",
     "text": [
      "--Parsing time: 3.45\n",
      "Parsing csv: parsedX_1000000.csv, 2 / 45\n"
     ]
    },
    {
     "name": "stderr",
     "output_type": "stream",
     "text": [
      "  4%|█████████████▋                                                                                                                                                                                                                                                                                                       | 2/45 [00:07<02:43,  3.81s/it]"
     ]
    },
    {
     "name": "stdout",
     "output_type": "stream",
     "text": [
      "--Parsing time: 4.06\n",
      "Parsing csv: parsedX_1100000.csv, 3 / 45\n"
     ]
    },
    {
     "name": "stderr",
     "output_type": "stream",
     "text": [
      "  7%|████████████████████▌                                                                                                                                                                                                                                                                                                | 3/45 [00:11<02:44,  3.92s/it]"
     ]
    },
    {
     "name": "stdout",
     "output_type": "stream",
     "text": [
      "--Parsing time: 4.06\n",
      "Parsing csv: parsedX_1200000.csv, 4 / 45\n"
     ]
    },
    {
     "name": "stderr",
     "output_type": "stream",
     "text": [
      "  9%|███████████████████████████▍                                                                                                                                                                                                                                                                                         | 4/45 [00:15<02:44,  4.00s/it]"
     ]
    },
    {
     "name": "stdout",
     "output_type": "stream",
     "text": [
      "--Parsing time: 4.12\n",
      "Parsing csv: parsedX_1300000.csv, 5 / 45\n"
     ]
    },
    {
     "name": "stderr",
     "output_type": "stream",
     "text": [
      " 11%|██████████████████████████████████▎                                                                                                                                                                                                                                                                                  | 5/45 [00:19<02:42,  4.06s/it]"
     ]
    },
    {
     "name": "stdout",
     "output_type": "stream",
     "text": [
      "--Parsing time: 4.17\n",
      "Parsing csv: parsedX_1400000.csv, 6 / 45\n"
     ]
    },
    {
     "name": "stderr",
     "output_type": "stream",
     "text": [
      " 13%|█████████████████████████████████████████▏                                                                                                                                                                                                                                                                           | 6/45 [00:24<02:39,  4.09s/it]"
     ]
    },
    {
     "name": "stdout",
     "output_type": "stream",
     "text": [
      "--Parsing time: 4.14\n",
      "Parsing csv: parsedX_1500000.csv, 7 / 45\n"
     ]
    },
    {
     "name": "stderr",
     "output_type": "stream",
     "text": [
      " 16%|████████████████████████████████████████████████                                                                                                                                                                                                                                                                     | 7/45 [00:28<02:35,  4.10s/it]"
     ]
    },
    {
     "name": "stdout",
     "output_type": "stream",
     "text": [
      "--Parsing time: 4.1\n",
      "Parsing csv: parsedX_1600000.csv, 8 / 45\n"
     ]
    },
    {
     "name": "stderr",
     "output_type": "stream",
     "text": [
      " 18%|██████████████████████████████████████████████████████▉                                                                                                                                                                                                                                                              | 8/45 [00:32<02:31,  4.09s/it]"
     ]
    },
    {
     "name": "stdout",
     "output_type": "stream",
     "text": [
      "--Parsing time: 4.07\n",
      "Parsing csv: parsedX_1700000.csv, 9 / 45\n"
     ]
    },
    {
     "name": "stderr",
     "output_type": "stream",
     "text": [
      " 20%|█████████████████████████████████████████████████████████████▊                                                                                                                                                                                                                                                       | 9/45 [00:36<02:28,  4.12s/it]"
     ]
    },
    {
     "name": "stdout",
     "output_type": "stream",
     "text": [
      "--Parsing time: 4.18\n",
      "Parsing csv: parsedX_1800000.csv, 10 / 45\n"
     ]
    },
    {
     "name": "stderr",
     "output_type": "stream",
     "text": [
      " 22%|████████████████████████████████████████████████████████████████████▍                                                                                                                                                                                                                                               | 10/45 [00:41<02:31,  4.31s/it]"
     ]
    },
    {
     "name": "stdout",
     "output_type": "stream",
     "text": [
      "--Parsing time: 4.76\n",
      "Parsing csv: parsedX_1900000.csv, 11 / 45\n"
     ]
    },
    {
     "name": "stderr",
     "output_type": "stream",
     "text": [
      " 24%|███████████████████████████████████████████████████████████████████████████▎                                                                                                                                                                                                                                        | 11/45 [00:45<02:29,  4.39s/it]"
     ]
    },
    {
     "name": "stdout",
     "output_type": "stream",
     "text": [
      "--Parsing time: 4.57\n",
      "Parsing csv: parsedX_200000.csv, 12 / 45\n"
     ]
    },
    {
     "name": "stderr",
     "output_type": "stream",
     "text": [
      " 27%|██████████████████████████████████████████████████████████████████████████████████▏                                                                                                                                                                                                                                 | 12/45 [00:49<02:15,  4.11s/it]"
     ]
    },
    {
     "name": "stdout",
     "output_type": "stream",
     "text": [
      "--Parsing time: 3.46\n",
      "Parsing csv: parsedX_2000000.csv, 13 / 45\n"
     ]
    },
    {
     "name": "stderr",
     "output_type": "stream",
     "text": [
      " 29%|████████████████████████████████████████████████████████████████████████████████████████▉                                                                                                                                                                                                                           | 13/45 [00:53<02:16,  4.27s/it]"
     ]
    },
    {
     "name": "stdout",
     "output_type": "stream",
     "text": [
      "--Parsing time: 4.63\n",
      "Parsing csv: parsedX_2100000.csv, 14 / 45\n"
     ]
    },
    {
     "name": "stderr",
     "output_type": "stream",
     "text": [
      " 31%|███████████████████████████████████████████████████████████████████████████████████████████████▊                                                                                                                                                                                                                    | 14/45 [00:58<02:15,  4.36s/it]"
     ]
    },
    {
     "name": "stdout",
     "output_type": "stream",
     "text": [
      "--Parsing time: 4.58\n",
      "Parsing csv: parsedX_2200000.csv, 15 / 45\n"
     ]
    },
    {
     "name": "stderr",
     "output_type": "stream",
     "text": [
      " 33%|██████████████████████████████████████████████████████████████████████████████████████████████████████▋                                                                                                                                                                                                             | 15/45 [01:03<02:13,  4.46s/it]"
     ]
    },
    {
     "name": "stdout",
     "output_type": "stream",
     "text": [
      "--Parsing time: 4.68\n",
      "Parsing csv: parsedX_2300000.csv, 16 / 45\n"
     ]
    },
    {
     "name": "stderr",
     "output_type": "stream",
     "text": [
      " 36%|█████████████████████████████████████████████████████████████████████████████████████████████████████████████▌                                                                                                                                                                                                      | 16/45 [01:08<02:20,  4.85s/it]"
     ]
    },
    {
     "name": "stdout",
     "output_type": "stream",
     "text": [
      "--Parsing time: 5.75\n",
      "Parsing csv: parsedX_2400000.csv, 17 / 45\n"
     ]
    },
    {
     "name": "stderr",
     "output_type": "stream",
     "text": [
      " 38%|████████████████████████████████████████████████████████████████████████████████████████████████████████████████████▎                                                                                                                                                                                               | 17/45 [01:14<02:21,  5.06s/it]"
     ]
    },
    {
     "name": "stdout",
     "output_type": "stream",
     "text": [
      "--Parsing time: 5.55\n",
      "Parsing csv: parsedX_2500000.csv, 18 / 45\n"
     ]
    },
    {
     "name": "stderr",
     "output_type": "stream",
     "text": [
      " 40%|███████████████████████████████████████████████████████████████████████████████████████████████████████████████████████████▏                                                                                                                                                                                        | 18/45 [01:20<02:21,  5.24s/it]"
     ]
    },
    {
     "name": "stdout",
     "output_type": "stream",
     "text": [
      "--Parsing time: 5.67\n",
      "Parsing csv: parsedX_2600000.csv, 19 / 45\n"
     ]
    },
    {
     "name": "stderr",
     "output_type": "stream",
     "text": [
      " 42%|██████████████████████████████████████████████████████████████████████████████████████████████████████████████████████████████████                                                                                                                                                                                  | 19/45 [01:25<02:21,  5.43s/it]"
     ]
    },
    {
     "name": "stdout",
     "output_type": "stream",
     "text": [
      "--Parsing time: 5.87\n",
      "Parsing csv: parsedX_2700000.csv, 20 / 45\n"
     ]
    },
    {
     "name": "stderr",
     "output_type": "stream",
     "text": [
      " 44%|████████████████████████████████████████████████████████████████████████████████████████████████████████████████████████████████████████▉                                                                                                                                                                           | 20/45 [01:31<02:19,  5.57s/it]"
     ]
    },
    {
     "name": "stdout",
     "output_type": "stream",
     "text": [
      "--Parsing time: 5.9\n",
      "Parsing csv: parsedX_2800000.csv, 21 / 45\n"
     ]
    },
    {
     "name": "stderr",
     "output_type": "stream",
     "text": [
      " 47%|███████████████████████████████████████████████████████████████████████████████████████████████████████████████████████████████████████████████▋                                                                                                                                                                    | 21/45 [01:37<02:15,  5.64s/it]"
     ]
    },
    {
     "name": "stdout",
     "output_type": "stream",
     "text": [
      "--Parsing time: 5.78\n",
      "Parsing csv: parsedX_2900000.csv, 22 / 45\n"
     ]
    },
    {
     "name": "stderr",
     "output_type": "stream",
     "text": [
      " 49%|██████████████████████████████████████████████████████████████████████████████████████████████████████████████████████████████████████████████████████▌                                                                                                                                                             | 22/45 [01:43<02:10,  5.68s/it]"
     ]
    },
    {
     "name": "stdout",
     "output_type": "stream",
     "text": [
      "--Parsing time: 5.78\n",
      "Parsing csv: parsedX_300000.csv, 23 / 45\n"
     ]
    },
    {
     "name": "stderr",
     "output_type": "stream",
     "text": [
      " 51%|█████████████████████████████████████████████████████████████████████████████████████████████████████████████████████████████████████████████████████████████▍                                                                                                                                                      | 23/45 [01:46<01:47,  4.91s/it]"
     ]
    },
    {
     "name": "stdout",
     "output_type": "stream",
     "text": [
      "--Parsing time: 3.11\n",
      "Parsing csv: parsedX_3000000.csv, 24 / 45\n"
     ]
    },
    {
     "name": "stderr",
     "output_type": "stream",
     "text": [
      " 53%|████████████████████████████████████████████████████████████████████████████████████████████████████████████████████████████████████████████████████████████████████▎                                                                                                                                               | 24/45 [01:52<01:48,  5.17s/it]"
     ]
    },
    {
     "name": "stdout",
     "output_type": "stream",
     "text": [
      "--Parsing time: 5.79\n",
      "Parsing csv: parsedX_3100000.csv, 25 / 45\n"
     ]
    },
    {
     "name": "stderr",
     "output_type": "stream",
     "text": [
      " 56%|███████████████████████████████████████████████████████████████████████████████████████████████████████████████████████████████████████████████████████████████████████████                                                                                                                                         | 25/45 [01:57<01:46,  5.32s/it]"
     ]
    },
    {
     "name": "stdout",
     "output_type": "stream",
     "text": [
      "--Parsing time: 5.65\n",
      "Parsing csv: parsedX_3200000.csv, 26 / 45\n"
     ]
    },
    {
     "name": "stderr",
     "output_type": "stream",
     "text": [
      " 58%|█████████████████████████████████████████████████████████████████████████████████████████████████████████████████████████████████████████████████████████████████████████████████▉                                                                                                                                  | 26/45 [02:03<01:43,  5.43s/it]"
     ]
    },
    {
     "name": "stdout",
     "output_type": "stream",
     "text": [
      "--Parsing time: 5.7\n",
      "Parsing csv: parsedX_3300000.csv, 27 / 45\n"
     ]
    },
    {
     "name": "stderr",
     "output_type": "stream",
     "text": [
      " 60%|████████████████████████████████████████████████████████████████████████████████████████████████████████████████████████████████████████████████████████████████████████████████████████▊                                                                                                                           | 27/45 [02:09<01:39,  5.52s/it]"
     ]
    },
    {
     "name": "stdout",
     "output_type": "stream",
     "text": [
      "--Parsing time: 5.71\n",
      "Parsing csv: parsedX_3400000.csv, 28 / 45\n"
     ]
    },
    {
     "name": "stderr",
     "output_type": "stream",
     "text": [
      " 62%|███████████████████████████████████████████████████████████████████████████████████████████████████████████████████████████████████████████████████████████████████████████████████████████████▋                                                                                                                    | 28/45 [02:15<01:35,  5.59s/it]"
     ]
    },
    {
     "name": "stdout",
     "output_type": "stream",
     "text": [
      "--Parsing time: 5.77\n",
      "Parsing csv: parsedX_3500000.csv, 29 / 45\n"
     ]
    },
    {
     "name": "stderr",
     "output_type": "stream",
     "text": [
      " 64%|██████████████████████████████████████████████████████████████████████████████████████████████████████████████████████████████████████████████████████████████████████████████████████████████████████▍                                                                                                             | 29/45 [02:20<01:30,  5.63s/it]"
     ]
    },
    {
     "name": "stdout",
     "output_type": "stream",
     "text": [
      "--Parsing time: 5.71\n",
      "Parsing csv: parsedX_3600000.csv, 30 / 45\n"
     ]
    },
    {
     "name": "stderr",
     "output_type": "stream",
     "text": [
      " 67%|█████████████████████████████████████████████████████████████████████████████████████████████████████████████████████████████████████████████████████████████████████████████████████████████████████████████▎                                                                                                      | 30/45 [02:26<01:25,  5.69s/it]"
     ]
    },
    {
     "name": "stdout",
     "output_type": "stream",
     "text": [
      "--Parsing time: 5.85\n",
      "Parsing csv: parsedX_3700000.csv, 31 / 45\n"
     ]
    },
    {
     "name": "stderr",
     "output_type": "stream",
     "text": [
      " 69%|████████████████████████████████████████████████████████████████████████████████████████████████████████████████████████████████████████████████████████████████████████████████████████████████████████████████████▏                                                                                               | 31/45 [02:32<01:20,  5.76s/it]"
     ]
    },
    {
     "name": "stdout",
     "output_type": "stream",
     "text": [
      "--Parsing time: 5.91\n",
      "Parsing csv: parsedX_3800000.csv, 32 / 45\n"
     ]
    },
    {
     "name": "stderr",
     "output_type": "stream",
     "text": [
      " 71%|███████████████████████████████████████████████████████████████████████████████████████████████████████████████████████████████████████████████████████████████████████████████████████████████████████████████████████████                                                                                         | 32/45 [02:38<01:15,  5.79s/it]"
     ]
    },
    {
     "name": "stdout",
     "output_type": "stream",
     "text": [
      "--Parsing time: 5.86\n",
      "Parsing csv: parsedX_3900000.csv, 33 / 45\n"
     ]
    },
    {
     "name": "stderr",
     "output_type": "stream",
     "text": [
      " 73%|█████████████████████████████████████████████████████████████████████████████████████████████████████████████████████████████████████████████████████████████████████████████████████████████████████████████████████████████████▊                                                                                  | 33/45 [02:44<01:09,  5.82s/it]"
     ]
    },
    {
     "name": "stdout",
     "output_type": "stream",
     "text": [
      "--Parsing time: 5.88\n",
      "Parsing csv: parsedX_400000.csv, 34 / 45\n"
     ]
    },
    {
     "name": "stderr",
     "output_type": "stream",
     "text": [
      " 76%|████████████████████████████████████████████████████████████████████████████████████████████████████████████████████████████████████████████████████████████████████████████████████████████████████████████████████████████████████████▋                                                                           | 34/45 [02:47<00:54,  4.95s/it]"
     ]
    },
    {
     "name": "stdout",
     "output_type": "stream",
     "text": [
      "--Parsing time: 2.92\n",
      "Parsing csv: parsedX_4000000.csv, 35 / 45\n"
     ]
    },
    {
     "name": "stderr",
     "output_type": "stream",
     "text": [
      " 78%|███████████████████████████████████████████████████████████████████████████████████████████████████████████████████████████████████████████████████████████████████████████████████████████████████████████████████████████████████████████████▌                                                                    | 35/45 [02:53<00:53,  5.34s/it]"
     ]
    },
    {
     "name": "stdout",
     "output_type": "stream",
     "text": [
      "--Parsing time: 6.27\n",
      "Parsing csv: parsedX_4100000.csv, 36 / 45\n"
     ]
    },
    {
     "name": "stderr",
     "output_type": "stream",
     "text": [
      " 80%|██████████████████████████████████████████████████████████████████████████████████████████████████████████████████████████████████████████████████████████████████████████████████████████████████████████████████████████████████████████████████████▍                                                             | 36/45 [02:59<00:49,  5.55s/it]"
     ]
    },
    {
     "name": "stdout",
     "output_type": "stream",
     "text": [
      "--Parsing time: 6.02\n",
      "Parsing csv: parsedX_4200000.csv, 37 / 45\n"
     ]
    },
    {
     "name": "stderr",
     "output_type": "stream",
     "text": [
      " 82%|█████████████████████████████████████████████████████████████████████████████████████████████████████████████████████████████████████████████████████████████████████████████████████████████████████████████████████████████████████████████████████████████▏                                                      | 37/45 [03:05<00:45,  5.71s/it]"
     ]
    },
    {
     "name": "stdout",
     "output_type": "stream",
     "text": [
      "--Parsing time: 6.08\n",
      "Parsing csv: parsedX_4300000.csv, 38 / 45\n"
     ]
    },
    {
     "name": "stderr",
     "output_type": "stream",
     "text": [
      " 84%|████████████████████████████████████████████████████████████████████████████████████████████████████████████████████████████████████████████████████████████████████████████████████████████████████████████████████████████████████████████████████████████████████                                                | 38/45 [03:11<00:40,  5.81s/it]"
     ]
    },
    {
     "name": "stdout",
     "output_type": "stream",
     "text": [
      "--Parsing time: 6.05\n",
      "Parsing csv: parsedX_4400000.csv, 39 / 45\n"
     ]
    },
    {
     "name": "stderr",
     "output_type": "stream",
     "text": [
      " 87%|██████████████████████████████████████████████████████████████████████████████████████████████████████████████████████████████████████████████████████████████████████████████████████████████████████████████████████████████████████████████████████████████████████████▉                                         | 39/45 [03:17<00:35,  5.93s/it]"
     ]
    },
    {
     "name": "stdout",
     "output_type": "stream",
     "text": [
      "--Parsing time: 6.23\n",
      "Parsing csv: parsedX_4454000.csv, 40 / 45\n"
     ]
    },
    {
     "name": "stderr",
     "output_type": "stream",
     "text": [
      " 89%|█████████████████████████████████████████████████████████████████████████████████████████████████████████████████████████████████████████████████████████████████████████████████████████████████████████████████████████████████████████████████████████████████████████████████▊                                  | 40/45 [03:21<00:25,  5.19s/it]"
     ]
    },
    {
     "name": "stdout",
     "output_type": "stream",
     "text": [
      "--Parsing time: 3.46\n",
      "Parsing csv: parsedX_500000.csv, 41 / 45\n"
     ]
    },
    {
     "name": "stderr",
     "output_type": "stream",
     "text": [
      " 91%|████████████████████████████████████████████████████████████████████████████████████████████████████████████████████████████████████████████████████████████████████████████████████████████████████████████████████████████████████████████████████████████████████████████████████████▌                           | 41/45 [03:24<00:18,  4.72s/it]"
     ]
    },
    {
     "name": "stdout",
     "output_type": "stream",
     "text": [
      "--Parsing time: 3.6\n",
      "Parsing csv: parsedX_600000.csv, 42 / 45\n"
     ]
    },
    {
     "name": "stderr",
     "output_type": "stream",
     "text": [
      " 93%|███████████████████████████████████████████████████████████████████████████████████████████████████████████████████████████████████████████████████████████████████████████████████████████████████████████████████████████████████████████████████████████████████████████████████████████████▍                    | 42/45 [03:28<00:13,  4.37s/it]"
     ]
    },
    {
     "name": "stdout",
     "output_type": "stream",
     "text": [
      "--Parsing time: 3.56\n",
      "Parsing csv: parsedX_700000.csv, 43 / 45\n"
     ]
    },
    {
     "name": "stderr",
     "output_type": "stream",
     "text": [
      " 96%|██████████████████████████████████████████████████████████████████████████████████████████████████████████████████████████████████████████████████████████████████████████████████████████████████████████████████████████████████████████████████████████████████████████████████████████████████████▎             | 43/45 [03:32<00:08,  4.20s/it]"
     ]
    },
    {
     "name": "stdout",
     "output_type": "stream",
     "text": [
      "--Parsing time: 3.8\n",
      "Parsing csv: parsedX_800000.csv, 44 / 45\n"
     ]
    },
    {
     "name": "stderr",
     "output_type": "stream",
     "text": [
      " 98%|█████████████████████████████████████████████████████████████████████████████████████████████████████████████████████████████████████████████████████████████████████████████████████████████████████████████████████████████████████████████████████████████████████████████████████████████████████████████▏      | 44/45 [03:36<00:04,  4.14s/it]"
     ]
    },
    {
     "name": "stdout",
     "output_type": "stream",
     "text": [
      "--Parsing time: 3.99\n",
      "Parsing csv: parsedX_900000.csv, 45 / 45\n"
     ]
    },
    {
     "name": "stderr",
     "output_type": "stream",
     "text": [
      "100%|████████████████████████████████████████████████████████████████████████████████████████████████████████████████████████████████████████████████████████████████████████████████████████████████████████████████████████████████████████████████████████████████████████████████████████████████████████████████████| 45/45 [03:40<00:00,  4.89s/it]"
     ]
    },
    {
     "name": "stdout",
     "output_type": "stream",
     "text": [
      "--Parsing time: 3.81\n"
     ]
    },
    {
     "name": "stderr",
     "output_type": "stream",
     "text": [
      "\n"
     ]
    }
   ],
   "source": [
    "# Remaining non-matching countries\n",
    "## Extract country names in the articles' dataset\n",
    "articles_dataset_countries_list = []\n",
    "\n",
    "# Import each csv with articles' data and extract country names\n",
    "for csv in tqdm(list_dfs_papers):\n",
    "    start = time.time()\n",
    "    print(f\"Parsing csv: {csv}, {list_dfs_papers.index(csv)+1} / {len(list_dfs_papers)}\")\n",
    "    df = pd.read_csv(DF_input + csv)\n",
    "    list_countries = list(set(df[\"Country\"]))\n",
    "    articles_dataset_countries_list.append(list_countries)\n",
    "    del df, list_countries\n",
    "    print(f\"--Parsing time: {round(time.time()-start, 2)}\")\n",
    "\n",
    "# Flatten list, remove nan, convert to set\n",
    "articles_dataset_countries = set([el for el in (chain(*articles_dataset_countries_list)) if str(el) != \"nan\"])"
   ]
  },
  {
   "cell_type": "code",
   "execution_count": 189,
   "id": "a264b075-94d3-43c5-b0db-d6922dfe455f",
   "metadata": {},
   "outputs": [],
   "source": [
    "# Entities appearing in articles' dataset and missing in Globocan dataset\n",
    "for entity in articles_dataset_countries:\n",
    "    if entity not in globocan_dataset_countries:\n",
    "        print(entity)"
   ]
  },
  {
   "cell_type": "markdown",
   "id": "e123d13e-eb0c-4750-adcc-48b73b92f131",
   "metadata": {},
   "source": [
    "No more non-matching countries between the Globocan and the articles' dataset"
   ]
  }
 ],
 "metadata": {
  "kernelspec": {
   "display_name": "Python 3 (ipykernel)",
   "language": "python",
   "name": "python3"
  },
  "language_info": {
   "codemirror_mode": {
    "name": "ipython",
    "version": 3
   },
   "file_extension": ".py",
   "mimetype": "text/x-python",
   "name": "python",
   "nbconvert_exporter": "python",
   "pygments_lexer": "ipython3",
   "version": "3.13.2"
  }
 },
 "nbformat": 4,
 "nbformat_minor": 5
}
